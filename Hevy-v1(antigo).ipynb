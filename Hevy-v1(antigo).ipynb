{
 "cells": [
  {
   "cell_type": "code",
   "execution_count": 1,
   "id": "fd8211af",
   "metadata": {},
   "outputs": [
    {
     "data": {
      "text/html": [
       "<div>\n",
       "<style scoped>\n",
       "    .dataframe tbody tr th:only-of-type {\n",
       "        vertical-align: middle;\n",
       "    }\n",
       "\n",
       "    .dataframe tbody tr th {\n",
       "        vertical-align: top;\n",
       "    }\n",
       "\n",
       "    .dataframe thead th {\n",
       "        text-align: right;\n",
       "    }\n",
       "</style>\n",
       "<table border=\"1\" class=\"dataframe\">\n",
       "  <thead>\n",
       "    <tr style=\"text-align: right;\">\n",
       "      <th></th>\n",
       "      <th>title</th>\n",
       "      <th>start_time</th>\n",
       "      <th>end_time</th>\n",
       "      <th>description</th>\n",
       "      <th>exercise_title</th>\n",
       "      <th>superset_id</th>\n",
       "      <th>exercise_notes</th>\n",
       "      <th>set_index</th>\n",
       "      <th>set_type</th>\n",
       "      <th>weight_kg</th>\n",
       "      <th>reps</th>\n",
       "      <th>distance_km</th>\n",
       "      <th>duration_seconds</th>\n",
       "      <th>rpe</th>\n",
       "    </tr>\n",
       "  </thead>\n",
       "  <tbody>\n",
       "    <tr>\n",
       "      <th>0</th>\n",
       "      <td>Legs sábado</td>\n",
       "      <td>24 May 2025, 15:13</td>\n",
       "      <td>24 May 2025, 16:43</td>\n",
       "      <td>NaN</td>\n",
       "      <td>Deadlift (Barbell)</td>\n",
       "      <td>NaN</td>\n",
       "      <td>NaN</td>\n",
       "      <td>0</td>\n",
       "      <td>normal</td>\n",
       "      <td>175.0</td>\n",
       "      <td>5</td>\n",
       "      <td>NaN</td>\n",
       "      <td>NaN</td>\n",
       "      <td>NaN</td>\n",
       "    </tr>\n",
       "    <tr>\n",
       "      <th>1</th>\n",
       "      <td>Legs sábado</td>\n",
       "      <td>24 May 2025, 15:13</td>\n",
       "      <td>24 May 2025, 16:43</td>\n",
       "      <td>NaN</td>\n",
       "      <td>Deadlift (Barbell)</td>\n",
       "      <td>NaN</td>\n",
       "      <td>NaN</td>\n",
       "      <td>1</td>\n",
       "      <td>failure</td>\n",
       "      <td>175.0</td>\n",
       "      <td>4</td>\n",
       "      <td>NaN</td>\n",
       "      <td>NaN</td>\n",
       "      <td>NaN</td>\n",
       "    </tr>\n",
       "    <tr>\n",
       "      <th>2</th>\n",
       "      <td>Legs sábado</td>\n",
       "      <td>24 May 2025, 15:13</td>\n",
       "      <td>24 May 2025, 16:43</td>\n",
       "      <td>NaN</td>\n",
       "      <td>Extensão Quadril Banco Romano</td>\n",
       "      <td>NaN</td>\n",
       "      <td>NaN</td>\n",
       "      <td>0</td>\n",
       "      <td>normal</td>\n",
       "      <td>40.0</td>\n",
       "      <td>9</td>\n",
       "      <td>NaN</td>\n",
       "      <td>NaN</td>\n",
       "      <td>NaN</td>\n",
       "    </tr>\n",
       "    <tr>\n",
       "      <th>3</th>\n",
       "      <td>Legs sábado</td>\n",
       "      <td>24 May 2025, 15:13</td>\n",
       "      <td>24 May 2025, 16:43</td>\n",
       "      <td>NaN</td>\n",
       "      <td>Extensão Quadril Banco Romano</td>\n",
       "      <td>NaN</td>\n",
       "      <td>NaN</td>\n",
       "      <td>1</td>\n",
       "      <td>failure</td>\n",
       "      <td>45.0</td>\n",
       "      <td>6</td>\n",
       "      <td>NaN</td>\n",
       "      <td>NaN</td>\n",
       "      <td>NaN</td>\n",
       "    </tr>\n",
       "    <tr>\n",
       "      <th>4</th>\n",
       "      <td>Legs sábado</td>\n",
       "      <td>24 May 2025, 15:13</td>\n",
       "      <td>24 May 2025, 16:43</td>\n",
       "      <td>NaN</td>\n",
       "      <td>Seated Leg Curl (Machine)</td>\n",
       "      <td>NaN</td>\n",
       "      <td>NaN</td>\n",
       "      <td>0</td>\n",
       "      <td>normal</td>\n",
       "      <td>65.0</td>\n",
       "      <td>8</td>\n",
       "      <td>NaN</td>\n",
       "      <td>NaN</td>\n",
       "      <td>NaN</td>\n",
       "    </tr>\n",
       "    <tr>\n",
       "      <th>...</th>\n",
       "      <td>...</td>\n",
       "      <td>...</td>\n",
       "      <td>...</td>\n",
       "      <td>...</td>\n",
       "      <td>...</td>\n",
       "      <td>...</td>\n",
       "      <td>...</td>\n",
       "      <td>...</td>\n",
       "      <td>...</td>\n",
       "      <td>...</td>\n",
       "      <td>...</td>\n",
       "      <td>...</td>\n",
       "      <td>...</td>\n",
       "      <td>...</td>\n",
       "    </tr>\n",
       "    <tr>\n",
       "      <th>6790</th>\n",
       "      <td>Back day - segunda-feira</td>\n",
       "      <td>11 Dec 2023, 16:54</td>\n",
       "      <td>11 Dec 2023, 19:08</td>\n",
       "      <td>NaN</td>\n",
       "      <td>Calf Press (Machine)</td>\n",
       "      <td>NaN</td>\n",
       "      <td>NaN</td>\n",
       "      <td>1</td>\n",
       "      <td>normal</td>\n",
       "      <td>180.0</td>\n",
       "      <td>10</td>\n",
       "      <td>NaN</td>\n",
       "      <td>NaN</td>\n",
       "      <td>NaN</td>\n",
       "    </tr>\n",
       "    <tr>\n",
       "      <th>6791</th>\n",
       "      <td>Back day - segunda-feira</td>\n",
       "      <td>11 Dec 2023, 16:54</td>\n",
       "      <td>11 Dec 2023, 19:08</td>\n",
       "      <td>NaN</td>\n",
       "      <td>Calf Press (Machine)</td>\n",
       "      <td>NaN</td>\n",
       "      <td>NaN</td>\n",
       "      <td>2</td>\n",
       "      <td>failure</td>\n",
       "      <td>200.0</td>\n",
       "      <td>10</td>\n",
       "      <td>NaN</td>\n",
       "      <td>NaN</td>\n",
       "      <td>NaN</td>\n",
       "    </tr>\n",
       "    <tr>\n",
       "      <th>6792</th>\n",
       "      <td>Back day - segunda-feira</td>\n",
       "      <td>11 Dec 2023, 16:54</td>\n",
       "      <td>11 Dec 2023, 19:08</td>\n",
       "      <td>NaN</td>\n",
       "      <td>Cable Crunch</td>\n",
       "      <td>NaN</td>\n",
       "      <td>NaN</td>\n",
       "      <td>0</td>\n",
       "      <td>normal</td>\n",
       "      <td>70.0</td>\n",
       "      <td>14</td>\n",
       "      <td>NaN</td>\n",
       "      <td>NaN</td>\n",
       "      <td>NaN</td>\n",
       "    </tr>\n",
       "    <tr>\n",
       "      <th>6793</th>\n",
       "      <td>Back day - segunda-feira</td>\n",
       "      <td>11 Dec 2023, 16:54</td>\n",
       "      <td>11 Dec 2023, 19:08</td>\n",
       "      <td>NaN</td>\n",
       "      <td>Cable Crunch</td>\n",
       "      <td>NaN</td>\n",
       "      <td>NaN</td>\n",
       "      <td>1</td>\n",
       "      <td>normal</td>\n",
       "      <td>70.0</td>\n",
       "      <td>11</td>\n",
       "      <td>NaN</td>\n",
       "      <td>NaN</td>\n",
       "      <td>NaN</td>\n",
       "    </tr>\n",
       "    <tr>\n",
       "      <th>6794</th>\n",
       "      <td>Back day - segunda-feira</td>\n",
       "      <td>11 Dec 2023, 16:54</td>\n",
       "      <td>11 Dec 2023, 19:08</td>\n",
       "      <td>NaN</td>\n",
       "      <td>Cable Crunch</td>\n",
       "      <td>NaN</td>\n",
       "      <td>NaN</td>\n",
       "      <td>2</td>\n",
       "      <td>normal</td>\n",
       "      <td>75.0</td>\n",
       "      <td>7</td>\n",
       "      <td>NaN</td>\n",
       "      <td>NaN</td>\n",
       "      <td>NaN</td>\n",
       "    </tr>\n",
       "  </tbody>\n",
       "</table>\n",
       "<p>6795 rows × 14 columns</p>\n",
       "</div>"
      ],
      "text/plain": [
       "                         title          start_time            end_time  \\\n",
       "0                  Legs sábado  24 May 2025, 15:13  24 May 2025, 16:43   \n",
       "1                  Legs sábado  24 May 2025, 15:13  24 May 2025, 16:43   \n",
       "2                  Legs sábado  24 May 2025, 15:13  24 May 2025, 16:43   \n",
       "3                  Legs sábado  24 May 2025, 15:13  24 May 2025, 16:43   \n",
       "4                  Legs sábado  24 May 2025, 15:13  24 May 2025, 16:43   \n",
       "...                        ...                 ...                 ...   \n",
       "6790  Back day - segunda-feira  11 Dec 2023, 16:54  11 Dec 2023, 19:08   \n",
       "6791  Back day - segunda-feira  11 Dec 2023, 16:54  11 Dec 2023, 19:08   \n",
       "6792  Back day - segunda-feira  11 Dec 2023, 16:54  11 Dec 2023, 19:08   \n",
       "6793  Back day - segunda-feira  11 Dec 2023, 16:54  11 Dec 2023, 19:08   \n",
       "6794  Back day - segunda-feira  11 Dec 2023, 16:54  11 Dec 2023, 19:08   \n",
       "\n",
       "     description                 exercise_title  superset_id exercise_notes  \\\n",
       "0            NaN             Deadlift (Barbell)          NaN            NaN   \n",
       "1            NaN             Deadlift (Barbell)          NaN            NaN   \n",
       "2            NaN  Extensão Quadril Banco Romano          NaN            NaN   \n",
       "3            NaN  Extensão Quadril Banco Romano          NaN            NaN   \n",
       "4            NaN      Seated Leg Curl (Machine)          NaN            NaN   \n",
       "...          ...                            ...          ...            ...   \n",
       "6790         NaN           Calf Press (Machine)          NaN            NaN   \n",
       "6791         NaN           Calf Press (Machine)          NaN            NaN   \n",
       "6792         NaN                   Cable Crunch          NaN            NaN   \n",
       "6793         NaN                   Cable Crunch          NaN            NaN   \n",
       "6794         NaN                   Cable Crunch          NaN            NaN   \n",
       "\n",
       "      set_index set_type  weight_kg  reps  distance_km  duration_seconds  rpe  \n",
       "0             0   normal      175.0     5          NaN               NaN  NaN  \n",
       "1             1  failure      175.0     4          NaN               NaN  NaN  \n",
       "2             0   normal       40.0     9          NaN               NaN  NaN  \n",
       "3             1  failure       45.0     6          NaN               NaN  NaN  \n",
       "4             0   normal       65.0     8          NaN               NaN  NaN  \n",
       "...         ...      ...        ...   ...          ...               ...  ...  \n",
       "6790          1   normal      180.0    10          NaN               NaN  NaN  \n",
       "6791          2  failure      200.0    10          NaN               NaN  NaN  \n",
       "6792          0   normal       70.0    14          NaN               NaN  NaN  \n",
       "6793          1   normal       70.0    11          NaN               NaN  NaN  \n",
       "6794          2   normal       75.0     7          NaN               NaN  NaN  \n",
       "\n",
       "[6795 rows x 14 columns]"
      ]
     },
     "execution_count": 1,
     "metadata": {},
     "output_type": "execute_result"
    }
   ],
   "source": [
    "import numpy as np\n",
    "import pandas as pd\n",
    "from datetime import datetime, timedelta\n",
    "import plotly.express as px\n",
    "import plotly.graph_objects as go\n",
    "\n",
    "workout_df = pd.read_csv('workouts.csv')\n",
    "workout_df"
   ]
  },
  {
   "cell_type": "code",
   "execution_count": 2,
   "id": "e45b8329",
   "metadata": {},
   "outputs": [
    {
     "data": {
      "text/plain": [
       "Index(['title', 'start_time', 'end_time', 'description', 'exercise_title',\n",
       "       'superset_id', 'exercise_notes', 'set_index', 'set_type', 'weight_kg',\n",
       "       'reps', 'distance_km', 'duration_seconds', 'rpe'],\n",
       "      dtype='object')"
      ]
     },
     "execution_count": 2,
     "metadata": {},
     "output_type": "execute_result"
    }
   ],
   "source": [
    "workout_df.columns"
   ]
  },
  {
   "cell_type": "code",
   "execution_count": 3,
   "id": "b4bc65c9",
   "metadata": {},
   "outputs": [
    {
     "data": {
      "text/plain": [
       "title                object\n",
       "start_time           object\n",
       "end_time             object\n",
       "description          object\n",
       "exercise_title       object\n",
       "superset_id         float64\n",
       "exercise_notes       object\n",
       "set_index             int64\n",
       "set_type             object\n",
       "weight_kg           float64\n",
       "reps                  int64\n",
       "distance_km         float64\n",
       "duration_seconds    float64\n",
       "rpe                 float64\n",
       "dtype: object"
      ]
     },
     "execution_count": 3,
     "metadata": {},
     "output_type": "execute_result"
    }
   ],
   "source": [
    "workout_df.dtypes"
   ]
  },
  {
   "cell_type": "code",
   "execution_count": 4,
   "id": "128d1b51",
   "metadata": {},
   "outputs": [
    {
     "data": {
      "text/html": [
       "<div>\n",
       "<style scoped>\n",
       "    .dataframe tbody tr th:only-of-type {\n",
       "        vertical-align: middle;\n",
       "    }\n",
       "\n",
       "    .dataframe tbody tr th {\n",
       "        vertical-align: top;\n",
       "    }\n",
       "\n",
       "    .dataframe thead th {\n",
       "        text-align: right;\n",
       "    }\n",
       "</style>\n",
       "<table border=\"1\" class=\"dataframe\">\n",
       "  <thead>\n",
       "    <tr style=\"text-align: right;\">\n",
       "      <th></th>\n",
       "      <th>superset_id</th>\n",
       "      <th>set_index</th>\n",
       "      <th>weight_kg</th>\n",
       "      <th>reps</th>\n",
       "      <th>distance_km</th>\n",
       "      <th>duration_seconds</th>\n",
       "      <th>rpe</th>\n",
       "    </tr>\n",
       "  </thead>\n",
       "  <tbody>\n",
       "    <tr>\n",
       "      <th>count</th>\n",
       "      <td>48.0</td>\n",
       "      <td>6795.000000</td>\n",
       "      <td>6783.000000</td>\n",
       "      <td>6795.000000</td>\n",
       "      <td>0.0</td>\n",
       "      <td>0.0</td>\n",
       "      <td>0.0</td>\n",
       "    </tr>\n",
       "    <tr>\n",
       "      <th>mean</th>\n",
       "      <td>0.0</td>\n",
       "      <td>1.134216</td>\n",
       "      <td>69.659415</td>\n",
       "      <td>6.859014</td>\n",
       "      <td>NaN</td>\n",
       "      <td>NaN</td>\n",
       "      <td>NaN</td>\n",
       "    </tr>\n",
       "    <tr>\n",
       "      <th>std</th>\n",
       "      <td>0.0</td>\n",
       "      <td>1.087001</td>\n",
       "      <td>54.228156</td>\n",
       "      <td>2.525086</td>\n",
       "      <td>NaN</td>\n",
       "      <td>NaN</td>\n",
       "      <td>NaN</td>\n",
       "    </tr>\n",
       "    <tr>\n",
       "      <th>min</th>\n",
       "      <td>0.0</td>\n",
       "      <td>0.000000</td>\n",
       "      <td>1.000000</td>\n",
       "      <td>1.000000</td>\n",
       "      <td>NaN</td>\n",
       "      <td>NaN</td>\n",
       "      <td>NaN</td>\n",
       "    </tr>\n",
       "    <tr>\n",
       "      <th>25%</th>\n",
       "      <td>0.0</td>\n",
       "      <td>0.000000</td>\n",
       "      <td>30.000000</td>\n",
       "      <td>5.000000</td>\n",
       "      <td>NaN</td>\n",
       "      <td>NaN</td>\n",
       "      <td>NaN</td>\n",
       "    </tr>\n",
       "    <tr>\n",
       "      <th>50%</th>\n",
       "      <td>0.0</td>\n",
       "      <td>1.000000</td>\n",
       "      <td>52.000000</td>\n",
       "      <td>7.000000</td>\n",
       "      <td>NaN</td>\n",
       "      <td>NaN</td>\n",
       "      <td>NaN</td>\n",
       "    </tr>\n",
       "    <tr>\n",
       "      <th>75%</th>\n",
       "      <td>0.0</td>\n",
       "      <td>2.000000</td>\n",
       "      <td>100.000000</td>\n",
       "      <td>8.000000</td>\n",
       "      <td>NaN</td>\n",
       "      <td>NaN</td>\n",
       "      <td>NaN</td>\n",
       "    </tr>\n",
       "    <tr>\n",
       "      <th>max</th>\n",
       "      <td>0.0</td>\n",
       "      <td>6.000000</td>\n",
       "      <td>330.000000</td>\n",
       "      <td>69.000000</td>\n",
       "      <td>NaN</td>\n",
       "      <td>NaN</td>\n",
       "      <td>NaN</td>\n",
       "    </tr>\n",
       "  </tbody>\n",
       "</table>\n",
       "</div>"
      ],
      "text/plain": [
       "       superset_id    set_index    weight_kg         reps  distance_km  \\\n",
       "count         48.0  6795.000000  6783.000000  6795.000000          0.0   \n",
       "mean           0.0     1.134216    69.659415     6.859014          NaN   \n",
       "std            0.0     1.087001    54.228156     2.525086          NaN   \n",
       "min            0.0     0.000000     1.000000     1.000000          NaN   \n",
       "25%            0.0     0.000000    30.000000     5.000000          NaN   \n",
       "50%            0.0     1.000000    52.000000     7.000000          NaN   \n",
       "75%            0.0     2.000000   100.000000     8.000000          NaN   \n",
       "max            0.0     6.000000   330.000000    69.000000          NaN   \n",
       "\n",
       "       duration_seconds  rpe  \n",
       "count               0.0  0.0  \n",
       "mean                NaN  NaN  \n",
       "std                 NaN  NaN  \n",
       "min                 NaN  NaN  \n",
       "25%                 NaN  NaN  \n",
       "50%                 NaN  NaN  \n",
       "75%                 NaN  NaN  \n",
       "max                 NaN  NaN  "
      ]
     },
     "execution_count": 4,
     "metadata": {},
     "output_type": "execute_result"
    }
   ],
   "source": [
    "workout_df.describe()"
   ]
  },
  {
   "cell_type": "code",
   "execution_count": 5,
   "id": "332450c0",
   "metadata": {},
   "outputs": [
    {
     "data": {
      "text/html": [
       "<div>\n",
       "<style scoped>\n",
       "    .dataframe tbody tr th:only-of-type {\n",
       "        vertical-align: middle;\n",
       "    }\n",
       "\n",
       "    .dataframe tbody tr th {\n",
       "        vertical-align: top;\n",
       "    }\n",
       "\n",
       "    .dataframe thead th {\n",
       "        text-align: right;\n",
       "    }\n",
       "</style>\n",
       "<table border=\"1\" class=\"dataframe\">\n",
       "  <thead>\n",
       "    <tr style=\"text-align: right;\">\n",
       "      <th></th>\n",
       "      <th>title</th>\n",
       "      <th>date</th>\n",
       "      <th>exercise_title</th>\n",
       "      <th>set_index</th>\n",
       "      <th>set_type</th>\n",
       "      <th>weight_kg</th>\n",
       "      <th>reps</th>\n",
       "    </tr>\n",
       "  </thead>\n",
       "  <tbody>\n",
       "    <tr>\n",
       "      <th>0</th>\n",
       "      <td>Legs sábado</td>\n",
       "      <td>24 May 2025, 15:13</td>\n",
       "      <td>Deadlift (Barbell)</td>\n",
       "      <td>0</td>\n",
       "      <td>normal</td>\n",
       "      <td>175.0</td>\n",
       "      <td>5</td>\n",
       "    </tr>\n",
       "    <tr>\n",
       "      <th>1</th>\n",
       "      <td>Legs sábado</td>\n",
       "      <td>24 May 2025, 15:13</td>\n",
       "      <td>Deadlift (Barbell)</td>\n",
       "      <td>1</td>\n",
       "      <td>failure</td>\n",
       "      <td>175.0</td>\n",
       "      <td>4</td>\n",
       "    </tr>\n",
       "    <tr>\n",
       "      <th>2</th>\n",
       "      <td>Legs sábado</td>\n",
       "      <td>24 May 2025, 15:13</td>\n",
       "      <td>Extensão Quadril Banco Romano</td>\n",
       "      <td>0</td>\n",
       "      <td>normal</td>\n",
       "      <td>40.0</td>\n",
       "      <td>9</td>\n",
       "    </tr>\n",
       "    <tr>\n",
       "      <th>3</th>\n",
       "      <td>Legs sábado</td>\n",
       "      <td>24 May 2025, 15:13</td>\n",
       "      <td>Extensão Quadril Banco Romano</td>\n",
       "      <td>1</td>\n",
       "      <td>failure</td>\n",
       "      <td>45.0</td>\n",
       "      <td>6</td>\n",
       "    </tr>\n",
       "    <tr>\n",
       "      <th>4</th>\n",
       "      <td>Legs sábado</td>\n",
       "      <td>24 May 2025, 15:13</td>\n",
       "      <td>Seated Leg Curl (Machine)</td>\n",
       "      <td>0</td>\n",
       "      <td>normal</td>\n",
       "      <td>65.0</td>\n",
       "      <td>8</td>\n",
       "    </tr>\n",
       "    <tr>\n",
       "      <th>...</th>\n",
       "      <td>...</td>\n",
       "      <td>...</td>\n",
       "      <td>...</td>\n",
       "      <td>...</td>\n",
       "      <td>...</td>\n",
       "      <td>...</td>\n",
       "      <td>...</td>\n",
       "    </tr>\n",
       "    <tr>\n",
       "      <th>6790</th>\n",
       "      <td>Back day - segunda-feira</td>\n",
       "      <td>11 Dec 2023, 16:54</td>\n",
       "      <td>Calf Press (Machine)</td>\n",
       "      <td>1</td>\n",
       "      <td>normal</td>\n",
       "      <td>180.0</td>\n",
       "      <td>10</td>\n",
       "    </tr>\n",
       "    <tr>\n",
       "      <th>6791</th>\n",
       "      <td>Back day - segunda-feira</td>\n",
       "      <td>11 Dec 2023, 16:54</td>\n",
       "      <td>Calf Press (Machine)</td>\n",
       "      <td>2</td>\n",
       "      <td>failure</td>\n",
       "      <td>200.0</td>\n",
       "      <td>10</td>\n",
       "    </tr>\n",
       "    <tr>\n",
       "      <th>6792</th>\n",
       "      <td>Back day - segunda-feira</td>\n",
       "      <td>11 Dec 2023, 16:54</td>\n",
       "      <td>Cable Crunch</td>\n",
       "      <td>0</td>\n",
       "      <td>normal</td>\n",
       "      <td>70.0</td>\n",
       "      <td>14</td>\n",
       "    </tr>\n",
       "    <tr>\n",
       "      <th>6793</th>\n",
       "      <td>Back day - segunda-feira</td>\n",
       "      <td>11 Dec 2023, 16:54</td>\n",
       "      <td>Cable Crunch</td>\n",
       "      <td>1</td>\n",
       "      <td>normal</td>\n",
       "      <td>70.0</td>\n",
       "      <td>11</td>\n",
       "    </tr>\n",
       "    <tr>\n",
       "      <th>6794</th>\n",
       "      <td>Back day - segunda-feira</td>\n",
       "      <td>11 Dec 2023, 16:54</td>\n",
       "      <td>Cable Crunch</td>\n",
       "      <td>2</td>\n",
       "      <td>normal</td>\n",
       "      <td>75.0</td>\n",
       "      <td>7</td>\n",
       "    </tr>\n",
       "  </tbody>\n",
       "</table>\n",
       "<p>6795 rows × 7 columns</p>\n",
       "</div>"
      ],
      "text/plain": [
       "                         title                date  \\\n",
       "0                  Legs sábado  24 May 2025, 15:13   \n",
       "1                  Legs sábado  24 May 2025, 15:13   \n",
       "2                  Legs sábado  24 May 2025, 15:13   \n",
       "3                  Legs sábado  24 May 2025, 15:13   \n",
       "4                  Legs sábado  24 May 2025, 15:13   \n",
       "...                        ...                 ...   \n",
       "6790  Back day - segunda-feira  11 Dec 2023, 16:54   \n",
       "6791  Back day - segunda-feira  11 Dec 2023, 16:54   \n",
       "6792  Back day - segunda-feira  11 Dec 2023, 16:54   \n",
       "6793  Back day - segunda-feira  11 Dec 2023, 16:54   \n",
       "6794  Back day - segunda-feira  11 Dec 2023, 16:54   \n",
       "\n",
       "                     exercise_title  set_index set_type  weight_kg  reps  \n",
       "0                Deadlift (Barbell)          0   normal      175.0     5  \n",
       "1                Deadlift (Barbell)          1  failure      175.0     4  \n",
       "2     Extensão Quadril Banco Romano          0   normal       40.0     9  \n",
       "3     Extensão Quadril Banco Romano          1  failure       45.0     6  \n",
       "4         Seated Leg Curl (Machine)          0   normal       65.0     8  \n",
       "...                             ...        ...      ...        ...   ...  \n",
       "6790           Calf Press (Machine)          1   normal      180.0    10  \n",
       "6791           Calf Press (Machine)          2  failure      200.0    10  \n",
       "6792                   Cable Crunch          0   normal       70.0    14  \n",
       "6793                   Cable Crunch          1   normal       70.0    11  \n",
       "6794                   Cable Crunch          2   normal       75.0     7  \n",
       "\n",
       "[6795 rows x 7 columns]"
      ]
     },
     "execution_count": 5,
     "metadata": {},
     "output_type": "execute_result"
    }
   ],
   "source": [
    "workout_df_columns_filtered = workout_df[['title','start_time', 'exercise_title', 'set_index', 'set_type', 'weight_kg', 'reps']]\n",
    "workout_df_columns_filtered = workout_df_columns_filtered.rename(columns={'start_time': 'date'})\n",
    "workout_df_columns_filtered\n"
   ]
  },
  {
   "cell_type": "code",
   "execution_count": 6,
   "id": "cffa9eac",
   "metadata": {},
   "outputs": [
    {
     "data": {
      "text/html": [
       "<div>\n",
       "<style scoped>\n",
       "    .dataframe tbody tr th:only-of-type {\n",
       "        vertical-align: middle;\n",
       "    }\n",
       "\n",
       "    .dataframe tbody tr th {\n",
       "        vertical-align: top;\n",
       "    }\n",
       "\n",
       "    .dataframe thead th {\n",
       "        text-align: right;\n",
       "    }\n",
       "</style>\n",
       "<table border=\"1\" class=\"dataframe\">\n",
       "  <thead>\n",
       "    <tr style=\"text-align: right;\">\n",
       "      <th></th>\n",
       "      <th>title</th>\n",
       "      <th>date</th>\n",
       "      <th>exercise_title</th>\n",
       "      <th>set_index</th>\n",
       "      <th>set_type</th>\n",
       "      <th>weight_kg</th>\n",
       "      <th>reps</th>\n",
       "    </tr>\n",
       "  </thead>\n",
       "  <tbody>\n",
       "    <tr>\n",
       "      <th>0</th>\n",
       "      <td>Legs sábado</td>\n",
       "      <td>2025-05-24</td>\n",
       "      <td>Deadlift (Barbell)</td>\n",
       "      <td>0</td>\n",
       "      <td>normal</td>\n",
       "      <td>175.0</td>\n",
       "      <td>5</td>\n",
       "    </tr>\n",
       "    <tr>\n",
       "      <th>1</th>\n",
       "      <td>Legs sábado</td>\n",
       "      <td>2025-05-24</td>\n",
       "      <td>Deadlift (Barbell)</td>\n",
       "      <td>1</td>\n",
       "      <td>failure</td>\n",
       "      <td>175.0</td>\n",
       "      <td>4</td>\n",
       "    </tr>\n",
       "    <tr>\n",
       "      <th>2</th>\n",
       "      <td>Legs sábado</td>\n",
       "      <td>2025-05-24</td>\n",
       "      <td>Extensão Quadril Banco Romano</td>\n",
       "      <td>0</td>\n",
       "      <td>normal</td>\n",
       "      <td>40.0</td>\n",
       "      <td>9</td>\n",
       "    </tr>\n",
       "    <tr>\n",
       "      <th>3</th>\n",
       "      <td>Legs sábado</td>\n",
       "      <td>2025-05-24</td>\n",
       "      <td>Extensão Quadril Banco Romano</td>\n",
       "      <td>1</td>\n",
       "      <td>failure</td>\n",
       "      <td>45.0</td>\n",
       "      <td>6</td>\n",
       "    </tr>\n",
       "    <tr>\n",
       "      <th>4</th>\n",
       "      <td>Legs sábado</td>\n",
       "      <td>2025-05-24</td>\n",
       "      <td>Seated Leg Curl (Machine)</td>\n",
       "      <td>0</td>\n",
       "      <td>normal</td>\n",
       "      <td>65.0</td>\n",
       "      <td>8</td>\n",
       "    </tr>\n",
       "  </tbody>\n",
       "</table>\n",
       "</div>"
      ],
      "text/plain": [
       "         title        date                 exercise_title  set_index set_type  \\\n",
       "0  Legs sábado  2025-05-24             Deadlift (Barbell)          0   normal   \n",
       "1  Legs sábado  2025-05-24             Deadlift (Barbell)          1  failure   \n",
       "2  Legs sábado  2025-05-24  Extensão Quadril Banco Romano          0   normal   \n",
       "3  Legs sábado  2025-05-24  Extensão Quadril Banco Romano          1  failure   \n",
       "4  Legs sábado  2025-05-24      Seated Leg Curl (Machine)          0   normal   \n",
       "\n",
       "   weight_kg  reps  \n",
       "0      175.0     5  \n",
       "1      175.0     4  \n",
       "2       40.0     9  \n",
       "3       45.0     6  \n",
       "4       65.0     8  "
      ]
     },
     "execution_count": 6,
     "metadata": {},
     "output_type": "execute_result"
    }
   ],
   "source": [
    "workout_df_columns_filtered['date'] = pd.to_datetime(workout_df_columns_filtered['date'], format=\"%d %b %Y, %H:%M\")\n",
    "# workout_df_columns_filtered['date'] = workout_df_columns_filtered['date'].dt.date\n",
    "workout_df_columns_filtered['date'] = workout_df_columns_filtered['date'].dt.date\n",
    "# Data atual\n",
    "hoje = datetime.now().date()\n",
    "\n",
    "# Data limite\n",
    "limite = hoje - timedelta(days=90)\n",
    "\n",
    "# Filtrando\n",
    "workout_df_columns_filtered = workout_df_columns_filtered[workout_df_columns_filtered['date'] >= limite]\n",
    "workout_df_columns_filtered.head()"
   ]
  },
  {
   "cell_type": "code",
   "execution_count": 7,
   "id": "bd5fd1b6",
   "metadata": {},
   "outputs": [
    {
     "data": {
      "text/html": [
       "<div>\n",
       "<style scoped>\n",
       "    .dataframe tbody tr th:only-of-type {\n",
       "        vertical-align: middle;\n",
       "    }\n",
       "\n",
       "    .dataframe tbody tr th {\n",
       "        vertical-align: top;\n",
       "    }\n",
       "\n",
       "    .dataframe thead th {\n",
       "        text-align: right;\n",
       "    }\n",
       "</style>\n",
       "<table border=\"1\" class=\"dataframe\">\n",
       "  <thead>\n",
       "    <tr style=\"text-align: right;\">\n",
       "      <th></th>\n",
       "      <th>title</th>\n",
       "      <th>date</th>\n",
       "      <th>exercise_title</th>\n",
       "      <th>set_index</th>\n",
       "      <th>set_type</th>\n",
       "      <th>weight_kg</th>\n",
       "      <th>reps</th>\n",
       "    </tr>\n",
       "  </thead>\n",
       "  <tbody>\n",
       "    <tr>\n",
       "      <th>0</th>\n",
       "      <td>Legs sábado</td>\n",
       "      <td>2025-05-24</td>\n",
       "      <td>Deadlift (Barbell)</td>\n",
       "      <td>0</td>\n",
       "      <td>normal</td>\n",
       "      <td>175.0</td>\n",
       "      <td>5</td>\n",
       "    </tr>\n",
       "    <tr>\n",
       "      <th>1</th>\n",
       "      <td>Legs sábado</td>\n",
       "      <td>2025-05-24</td>\n",
       "      <td>Deadlift (Barbell)</td>\n",
       "      <td>1</td>\n",
       "      <td>failure</td>\n",
       "      <td>175.0</td>\n",
       "      <td>4</td>\n",
       "    </tr>\n",
       "    <tr>\n",
       "      <th>60</th>\n",
       "      <td>Legs sábado</td>\n",
       "      <td>2025-05-17</td>\n",
       "      <td>Deadlift (Barbell)</td>\n",
       "      <td>0</td>\n",
       "      <td>normal</td>\n",
       "      <td>170.0</td>\n",
       "      <td>6</td>\n",
       "    </tr>\n",
       "    <tr>\n",
       "      <th>61</th>\n",
       "      <td>Legs sábado</td>\n",
       "      <td>2025-05-17</td>\n",
       "      <td>Deadlift (Barbell)</td>\n",
       "      <td>1</td>\n",
       "      <td>failure</td>\n",
       "      <td>175.0</td>\n",
       "      <td>5</td>\n",
       "    </tr>\n",
       "    <tr>\n",
       "      <th>120</th>\n",
       "      <td>Legs sábado</td>\n",
       "      <td>2025-05-10</td>\n",
       "      <td>Deadlift (Barbell)</td>\n",
       "      <td>0</td>\n",
       "      <td>normal</td>\n",
       "      <td>160.0</td>\n",
       "      <td>7</td>\n",
       "    </tr>\n",
       "    <tr>\n",
       "      <th>121</th>\n",
       "      <td>Legs sábado</td>\n",
       "      <td>2025-05-10</td>\n",
       "      <td>Deadlift (Barbell)</td>\n",
       "      <td>1</td>\n",
       "      <td>failure</td>\n",
       "      <td>170.0</td>\n",
       "      <td>5</td>\n",
       "    </tr>\n",
       "    <tr>\n",
       "      <th>180</th>\n",
       "      <td>Legs sábado</td>\n",
       "      <td>2025-05-03</td>\n",
       "      <td>Deadlift (Barbell)</td>\n",
       "      <td>0</td>\n",
       "      <td>normal</td>\n",
       "      <td>140.0</td>\n",
       "      <td>7</td>\n",
       "    </tr>\n",
       "    <tr>\n",
       "      <th>181</th>\n",
       "      <td>Legs sábado</td>\n",
       "      <td>2025-05-03</td>\n",
       "      <td>Deadlift (Barbell)</td>\n",
       "      <td>1</td>\n",
       "      <td>failure</td>\n",
       "      <td>145.0</td>\n",
       "      <td>8</td>\n",
       "    </tr>\n",
       "    <tr>\n",
       "      <th>240</th>\n",
       "      <td>Legs sábado</td>\n",
       "      <td>2025-04-26</td>\n",
       "      <td>Deadlift (Barbell)</td>\n",
       "      <td>0</td>\n",
       "      <td>normal</td>\n",
       "      <td>185.0</td>\n",
       "      <td>4</td>\n",
       "    </tr>\n",
       "    <tr>\n",
       "      <th>241</th>\n",
       "      <td>Legs sábado</td>\n",
       "      <td>2025-04-26</td>\n",
       "      <td>Deadlift (Barbell)</td>\n",
       "      <td>1</td>\n",
       "      <td>failure</td>\n",
       "      <td>145.0</td>\n",
       "      <td>7</td>\n",
       "    </tr>\n",
       "    <tr>\n",
       "      <th>307</th>\n",
       "      <td>Legs sábado</td>\n",
       "      <td>2025-04-19</td>\n",
       "      <td>Deadlift (Barbell)</td>\n",
       "      <td>0</td>\n",
       "      <td>normal</td>\n",
       "      <td>185.0</td>\n",
       "      <td>5</td>\n",
       "    </tr>\n",
       "    <tr>\n",
       "      <th>308</th>\n",
       "      <td>Legs sábado</td>\n",
       "      <td>2025-04-19</td>\n",
       "      <td>Deadlift (Barbell)</td>\n",
       "      <td>1</td>\n",
       "      <td>failure</td>\n",
       "      <td>185.0</td>\n",
       "      <td>4</td>\n",
       "    </tr>\n",
       "    <tr>\n",
       "      <th>378</th>\n",
       "      <td>Legs sábado</td>\n",
       "      <td>2025-04-12</td>\n",
       "      <td>Deadlift (Barbell)</td>\n",
       "      <td>0</td>\n",
       "      <td>normal</td>\n",
       "      <td>180.0</td>\n",
       "      <td>6</td>\n",
       "    </tr>\n",
       "    <tr>\n",
       "      <th>379</th>\n",
       "      <td>Legs sábado</td>\n",
       "      <td>2025-04-12</td>\n",
       "      <td>Deadlift (Barbell)</td>\n",
       "      <td>1</td>\n",
       "      <td>failure</td>\n",
       "      <td>185.0</td>\n",
       "      <td>5</td>\n",
       "    </tr>\n",
       "    <tr>\n",
       "      <th>449</th>\n",
       "      <td>Legs sábado</td>\n",
       "      <td>2025-04-05</td>\n",
       "      <td>Deadlift (Barbell)</td>\n",
       "      <td>0</td>\n",
       "      <td>normal</td>\n",
       "      <td>180.0</td>\n",
       "      <td>5</td>\n",
       "    </tr>\n",
       "    <tr>\n",
       "      <th>450</th>\n",
       "      <td>Legs sábado</td>\n",
       "      <td>2025-04-05</td>\n",
       "      <td>Deadlift (Barbell)</td>\n",
       "      <td>1</td>\n",
       "      <td>failure</td>\n",
       "      <td>180.0</td>\n",
       "      <td>6</td>\n",
       "    </tr>\n",
       "    <tr>\n",
       "      <th>520</th>\n",
       "      <td>Legs sábado</td>\n",
       "      <td>2025-03-29</td>\n",
       "      <td>Deadlift (Barbell)</td>\n",
       "      <td>0</td>\n",
       "      <td>normal</td>\n",
       "      <td>200.0</td>\n",
       "      <td>3</td>\n",
       "    </tr>\n",
       "    <tr>\n",
       "      <th>521</th>\n",
       "      <td>Legs sábado</td>\n",
       "      <td>2025-03-29</td>\n",
       "      <td>Deadlift (Barbell)</td>\n",
       "      <td>1</td>\n",
       "      <td>failure</td>\n",
       "      <td>180.0</td>\n",
       "      <td>5</td>\n",
       "    </tr>\n",
       "    <tr>\n",
       "      <th>591</th>\n",
       "      <td>Legs sábado</td>\n",
       "      <td>2025-03-22</td>\n",
       "      <td>Deadlift (Barbell)</td>\n",
       "      <td>0</td>\n",
       "      <td>normal</td>\n",
       "      <td>200.0</td>\n",
       "      <td>4</td>\n",
       "    </tr>\n",
       "    <tr>\n",
       "      <th>592</th>\n",
       "      <td>Legs sábado</td>\n",
       "      <td>2025-03-22</td>\n",
       "      <td>Deadlift (Barbell)</td>\n",
       "      <td>1</td>\n",
       "      <td>failure</td>\n",
       "      <td>200.0</td>\n",
       "      <td>3</td>\n",
       "    </tr>\n",
       "    <tr>\n",
       "      <th>666</th>\n",
       "      <td>Legs sábado</td>\n",
       "      <td>2025-03-15</td>\n",
       "      <td>Deadlift (Barbell)</td>\n",
       "      <td>0</td>\n",
       "      <td>normal</td>\n",
       "      <td>200.0</td>\n",
       "      <td>5</td>\n",
       "    </tr>\n",
       "    <tr>\n",
       "      <th>667</th>\n",
       "      <td>Legs sábado</td>\n",
       "      <td>2025-03-15</td>\n",
       "      <td>Deadlift (Barbell)</td>\n",
       "      <td>1</td>\n",
       "      <td>failure</td>\n",
       "      <td>200.0</td>\n",
       "      <td>3</td>\n",
       "    </tr>\n",
       "    <tr>\n",
       "      <th>743</th>\n",
       "      <td>Legs sábado</td>\n",
       "      <td>2025-03-08</td>\n",
       "      <td>Deadlift (Barbell)</td>\n",
       "      <td>0</td>\n",
       "      <td>normal</td>\n",
       "      <td>200.0</td>\n",
       "      <td>5</td>\n",
       "    </tr>\n",
       "    <tr>\n",
       "      <th>744</th>\n",
       "      <td>Legs sábado</td>\n",
       "      <td>2025-03-08</td>\n",
       "      <td>Deadlift (Barbell)</td>\n",
       "      <td>1</td>\n",
       "      <td>failure</td>\n",
       "      <td>200.0</td>\n",
       "      <td>3</td>\n",
       "    </tr>\n",
       "    <tr>\n",
       "      <th>821</th>\n",
       "      <td>Legs sábado</td>\n",
       "      <td>2025-03-01</td>\n",
       "      <td>Deadlift (Barbell)</td>\n",
       "      <td>0</td>\n",
       "      <td>normal</td>\n",
       "      <td>200.0</td>\n",
       "      <td>4</td>\n",
       "    </tr>\n",
       "    <tr>\n",
       "      <th>822</th>\n",
       "      <td>Legs sábado</td>\n",
       "      <td>2025-03-01</td>\n",
       "      <td>Deadlift (Barbell)</td>\n",
       "      <td>1</td>\n",
       "      <td>failure</td>\n",
       "      <td>200.0</td>\n",
       "      <td>4</td>\n",
       "    </tr>\n",
       "  </tbody>\n",
       "</table>\n",
       "</div>"
      ],
      "text/plain": [
       "           title        date      exercise_title  set_index set_type  \\\n",
       "0    Legs sábado  2025-05-24  Deadlift (Barbell)          0   normal   \n",
       "1    Legs sábado  2025-05-24  Deadlift (Barbell)          1  failure   \n",
       "60   Legs sábado  2025-05-17  Deadlift (Barbell)          0   normal   \n",
       "61   Legs sábado  2025-05-17  Deadlift (Barbell)          1  failure   \n",
       "120  Legs sábado  2025-05-10  Deadlift (Barbell)          0   normal   \n",
       "121  Legs sábado  2025-05-10  Deadlift (Barbell)          1  failure   \n",
       "180  Legs sábado  2025-05-03  Deadlift (Barbell)          0   normal   \n",
       "181  Legs sábado  2025-05-03  Deadlift (Barbell)          1  failure   \n",
       "240  Legs sábado  2025-04-26  Deadlift (Barbell)          0   normal   \n",
       "241  Legs sábado  2025-04-26  Deadlift (Barbell)          1  failure   \n",
       "307  Legs sábado  2025-04-19  Deadlift (Barbell)          0   normal   \n",
       "308  Legs sábado  2025-04-19  Deadlift (Barbell)          1  failure   \n",
       "378  Legs sábado  2025-04-12  Deadlift (Barbell)          0   normal   \n",
       "379  Legs sábado  2025-04-12  Deadlift (Barbell)          1  failure   \n",
       "449  Legs sábado  2025-04-05  Deadlift (Barbell)          0   normal   \n",
       "450  Legs sábado  2025-04-05  Deadlift (Barbell)          1  failure   \n",
       "520  Legs sábado  2025-03-29  Deadlift (Barbell)          0   normal   \n",
       "521  Legs sábado  2025-03-29  Deadlift (Barbell)          1  failure   \n",
       "591  Legs sábado  2025-03-22  Deadlift (Barbell)          0   normal   \n",
       "592  Legs sábado  2025-03-22  Deadlift (Barbell)          1  failure   \n",
       "666  Legs sábado  2025-03-15  Deadlift (Barbell)          0   normal   \n",
       "667  Legs sábado  2025-03-15  Deadlift (Barbell)          1  failure   \n",
       "743  Legs sábado  2025-03-08  Deadlift (Barbell)          0   normal   \n",
       "744  Legs sábado  2025-03-08  Deadlift (Barbell)          1  failure   \n",
       "821  Legs sábado  2025-03-01  Deadlift (Barbell)          0   normal   \n",
       "822  Legs sábado  2025-03-01  Deadlift (Barbell)          1  failure   \n",
       "\n",
       "     weight_kg  reps  \n",
       "0        175.0     5  \n",
       "1        175.0     4  \n",
       "60       170.0     6  \n",
       "61       175.0     5  \n",
       "120      160.0     7  \n",
       "121      170.0     5  \n",
       "180      140.0     7  \n",
       "181      145.0     8  \n",
       "240      185.0     4  \n",
       "241      145.0     7  \n",
       "307      185.0     5  \n",
       "308      185.0     4  \n",
       "378      180.0     6  \n",
       "379      185.0     5  \n",
       "449      180.0     5  \n",
       "450      180.0     6  \n",
       "520      200.0     3  \n",
       "521      180.0     5  \n",
       "591      200.0     4  \n",
       "592      200.0     3  \n",
       "666      200.0     5  \n",
       "667      200.0     3  \n",
       "743      200.0     5  \n",
       "744      200.0     3  \n",
       "821      200.0     4  \n",
       "822      200.0     4  "
      ]
     },
     "execution_count": 7,
     "metadata": {},
     "output_type": "execute_result"
    }
   ],
   "source": [
    "workout_df_columns_filtered[(workout_df_columns_filtered['title'] == 'Legs sábado') & (workout_df_columns_filtered['exercise_title'] == 'Deadlift (Barbell)')]"
   ]
  },
  {
   "cell_type": "code",
   "execution_count": 8,
   "id": "e4b017f6",
   "metadata": {},
   "outputs": [
    {
     "data": {
      "application/vnd.plotly.v1+json": {
       "config": {
        "plotlyServerURL": "https://plot.ly"
       },
       "data": [
        {
         "hovertemplate": "Data: %{x}<br>Peso: %{y} kg<br>Reps: %{text}<extra></extra>",
         "mode": "lines+markers+text",
         "name": "Série 1",
         "text": [
          "5 reps",
          "6 reps",
          "7 reps",
          "7 reps",
          "4 reps"
         ],
         "textposition": "top center",
         "type": "scatter",
         "x": [
          "2025-05-24",
          "2025-05-17",
          "2025-05-10",
          "2025-05-03",
          "2025-04-26"
         ],
         "y": {
          "bdata": "AAAAAADgZUAAAAAAAEBlQAAAAAAAAGRAAAAAAACAYUAAAAAAACBnQA==",
          "dtype": "f8"
         }
        },
        {
         "hovertemplate": "Data: %{x}<br>Peso: %{y} kg<br>Reps: %{text}<extra></extra>",
         "mode": "lines+markers+text",
         "name": "Série 2",
         "text": [
          "4 reps",
          "5 reps",
          "5 reps",
          "8 reps",
          "7 reps"
         ],
         "textposition": "top center",
         "type": "scatter",
         "x": [
          "2025-05-24",
          "2025-05-17",
          "2025-05-10",
          "2025-05-03",
          "2025-04-26"
         ],
         "y": {
          "bdata": "AAAAAADgZUAAAAAAAOBlQAAAAAAAQGVAAAAAAAAgYkAAAAAAACBiQA==",
          "dtype": "f8"
         }
        }
       ],
       "layout": {
        "hovermode": "closest",
        "template": {
         "data": {
          "bar": [
           {
            "error_x": {
             "color": "#2a3f5f"
            },
            "error_y": {
             "color": "#2a3f5f"
            },
            "marker": {
             "line": {
              "color": "#E5ECF6",
              "width": 0.5
             },
             "pattern": {
              "fillmode": "overlay",
              "size": 10,
              "solidity": 0.2
             }
            },
            "type": "bar"
           }
          ],
          "barpolar": [
           {
            "marker": {
             "line": {
              "color": "#E5ECF6",
              "width": 0.5
             },
             "pattern": {
              "fillmode": "overlay",
              "size": 10,
              "solidity": 0.2
             }
            },
            "type": "barpolar"
           }
          ],
          "carpet": [
           {
            "aaxis": {
             "endlinecolor": "#2a3f5f",
             "gridcolor": "white",
             "linecolor": "white",
             "minorgridcolor": "white",
             "startlinecolor": "#2a3f5f"
            },
            "baxis": {
             "endlinecolor": "#2a3f5f",
             "gridcolor": "white",
             "linecolor": "white",
             "minorgridcolor": "white",
             "startlinecolor": "#2a3f5f"
            },
            "type": "carpet"
           }
          ],
          "choropleth": [
           {
            "colorbar": {
             "outlinewidth": 0,
             "ticks": ""
            },
            "type": "choropleth"
           }
          ],
          "contour": [
           {
            "colorbar": {
             "outlinewidth": 0,
             "ticks": ""
            },
            "colorscale": [
             [
              0,
              "#0d0887"
             ],
             [
              0.1111111111111111,
              "#46039f"
             ],
             [
              0.2222222222222222,
              "#7201a8"
             ],
             [
              0.3333333333333333,
              "#9c179e"
             ],
             [
              0.4444444444444444,
              "#bd3786"
             ],
             [
              0.5555555555555556,
              "#d8576b"
             ],
             [
              0.6666666666666666,
              "#ed7953"
             ],
             [
              0.7777777777777778,
              "#fb9f3a"
             ],
             [
              0.8888888888888888,
              "#fdca26"
             ],
             [
              1,
              "#f0f921"
             ]
            ],
            "type": "contour"
           }
          ],
          "contourcarpet": [
           {
            "colorbar": {
             "outlinewidth": 0,
             "ticks": ""
            },
            "type": "contourcarpet"
           }
          ],
          "heatmap": [
           {
            "colorbar": {
             "outlinewidth": 0,
             "ticks": ""
            },
            "colorscale": [
             [
              0,
              "#0d0887"
             ],
             [
              0.1111111111111111,
              "#46039f"
             ],
             [
              0.2222222222222222,
              "#7201a8"
             ],
             [
              0.3333333333333333,
              "#9c179e"
             ],
             [
              0.4444444444444444,
              "#bd3786"
             ],
             [
              0.5555555555555556,
              "#d8576b"
             ],
             [
              0.6666666666666666,
              "#ed7953"
             ],
             [
              0.7777777777777778,
              "#fb9f3a"
             ],
             [
              0.8888888888888888,
              "#fdca26"
             ],
             [
              1,
              "#f0f921"
             ]
            ],
            "type": "heatmap"
           }
          ],
          "histogram": [
           {
            "marker": {
             "pattern": {
              "fillmode": "overlay",
              "size": 10,
              "solidity": 0.2
             }
            },
            "type": "histogram"
           }
          ],
          "histogram2d": [
           {
            "colorbar": {
             "outlinewidth": 0,
             "ticks": ""
            },
            "colorscale": [
             [
              0,
              "#0d0887"
             ],
             [
              0.1111111111111111,
              "#46039f"
             ],
             [
              0.2222222222222222,
              "#7201a8"
             ],
             [
              0.3333333333333333,
              "#9c179e"
             ],
             [
              0.4444444444444444,
              "#bd3786"
             ],
             [
              0.5555555555555556,
              "#d8576b"
             ],
             [
              0.6666666666666666,
              "#ed7953"
             ],
             [
              0.7777777777777778,
              "#fb9f3a"
             ],
             [
              0.8888888888888888,
              "#fdca26"
             ],
             [
              1,
              "#f0f921"
             ]
            ],
            "type": "histogram2d"
           }
          ],
          "histogram2dcontour": [
           {
            "colorbar": {
             "outlinewidth": 0,
             "ticks": ""
            },
            "colorscale": [
             [
              0,
              "#0d0887"
             ],
             [
              0.1111111111111111,
              "#46039f"
             ],
             [
              0.2222222222222222,
              "#7201a8"
             ],
             [
              0.3333333333333333,
              "#9c179e"
             ],
             [
              0.4444444444444444,
              "#bd3786"
             ],
             [
              0.5555555555555556,
              "#d8576b"
             ],
             [
              0.6666666666666666,
              "#ed7953"
             ],
             [
              0.7777777777777778,
              "#fb9f3a"
             ],
             [
              0.8888888888888888,
              "#fdca26"
             ],
             [
              1,
              "#f0f921"
             ]
            ],
            "type": "histogram2dcontour"
           }
          ],
          "mesh3d": [
           {
            "colorbar": {
             "outlinewidth": 0,
             "ticks": ""
            },
            "type": "mesh3d"
           }
          ],
          "parcoords": [
           {
            "line": {
             "colorbar": {
              "outlinewidth": 0,
              "ticks": ""
             }
            },
            "type": "parcoords"
           }
          ],
          "pie": [
           {
            "automargin": true,
            "type": "pie"
           }
          ],
          "scatter": [
           {
            "fillpattern": {
             "fillmode": "overlay",
             "size": 10,
             "solidity": 0.2
            },
            "type": "scatter"
           }
          ],
          "scatter3d": [
           {
            "line": {
             "colorbar": {
              "outlinewidth": 0,
              "ticks": ""
             }
            },
            "marker": {
             "colorbar": {
              "outlinewidth": 0,
              "ticks": ""
             }
            },
            "type": "scatter3d"
           }
          ],
          "scattercarpet": [
           {
            "marker": {
             "colorbar": {
              "outlinewidth": 0,
              "ticks": ""
             }
            },
            "type": "scattercarpet"
           }
          ],
          "scattergeo": [
           {
            "marker": {
             "colorbar": {
              "outlinewidth": 0,
              "ticks": ""
             }
            },
            "type": "scattergeo"
           }
          ],
          "scattergl": [
           {
            "marker": {
             "colorbar": {
              "outlinewidth": 0,
              "ticks": ""
             }
            },
            "type": "scattergl"
           }
          ],
          "scattermap": [
           {
            "marker": {
             "colorbar": {
              "outlinewidth": 0,
              "ticks": ""
             }
            },
            "type": "scattermap"
           }
          ],
          "scattermapbox": [
           {
            "marker": {
             "colorbar": {
              "outlinewidth": 0,
              "ticks": ""
             }
            },
            "type": "scattermapbox"
           }
          ],
          "scatterpolar": [
           {
            "marker": {
             "colorbar": {
              "outlinewidth": 0,
              "ticks": ""
             }
            },
            "type": "scatterpolar"
           }
          ],
          "scatterpolargl": [
           {
            "marker": {
             "colorbar": {
              "outlinewidth": 0,
              "ticks": ""
             }
            },
            "type": "scatterpolargl"
           }
          ],
          "scatterternary": [
           {
            "marker": {
             "colorbar": {
              "outlinewidth": 0,
              "ticks": ""
             }
            },
            "type": "scatterternary"
           }
          ],
          "surface": [
           {
            "colorbar": {
             "outlinewidth": 0,
             "ticks": ""
            },
            "colorscale": [
             [
              0,
              "#0d0887"
             ],
             [
              0.1111111111111111,
              "#46039f"
             ],
             [
              0.2222222222222222,
              "#7201a8"
             ],
             [
              0.3333333333333333,
              "#9c179e"
             ],
             [
              0.4444444444444444,
              "#bd3786"
             ],
             [
              0.5555555555555556,
              "#d8576b"
             ],
             [
              0.6666666666666666,
              "#ed7953"
             ],
             [
              0.7777777777777778,
              "#fb9f3a"
             ],
             [
              0.8888888888888888,
              "#fdca26"
             ],
             [
              1,
              "#f0f921"
             ]
            ],
            "type": "surface"
           }
          ],
          "table": [
           {
            "cells": {
             "fill": {
              "color": "#EBF0F8"
             },
             "line": {
              "color": "white"
             }
            },
            "header": {
             "fill": {
              "color": "#C8D4E3"
             },
             "line": {
              "color": "white"
             }
            },
            "type": "table"
           }
          ]
         },
         "layout": {
          "annotationdefaults": {
           "arrowcolor": "#2a3f5f",
           "arrowhead": 0,
           "arrowwidth": 1
          },
          "autotypenumbers": "strict",
          "coloraxis": {
           "colorbar": {
            "outlinewidth": 0,
            "ticks": ""
           }
          },
          "colorscale": {
           "diverging": [
            [
             0,
             "#8e0152"
            ],
            [
             0.1,
             "#c51b7d"
            ],
            [
             0.2,
             "#de77ae"
            ],
            [
             0.3,
             "#f1b6da"
            ],
            [
             0.4,
             "#fde0ef"
            ],
            [
             0.5,
             "#f7f7f7"
            ],
            [
             0.6,
             "#e6f5d0"
            ],
            [
             0.7,
             "#b8e186"
            ],
            [
             0.8,
             "#7fbc41"
            ],
            [
             0.9,
             "#4d9221"
            ],
            [
             1,
             "#276419"
            ]
           ],
           "sequential": [
            [
             0,
             "#0d0887"
            ],
            [
             0.1111111111111111,
             "#46039f"
            ],
            [
             0.2222222222222222,
             "#7201a8"
            ],
            [
             0.3333333333333333,
             "#9c179e"
            ],
            [
             0.4444444444444444,
             "#bd3786"
            ],
            [
             0.5555555555555556,
             "#d8576b"
            ],
            [
             0.6666666666666666,
             "#ed7953"
            ],
            [
             0.7777777777777778,
             "#fb9f3a"
            ],
            [
             0.8888888888888888,
             "#fdca26"
            ],
            [
             1,
             "#f0f921"
            ]
           ],
           "sequentialminus": [
            [
             0,
             "#0d0887"
            ],
            [
             0.1111111111111111,
             "#46039f"
            ],
            [
             0.2222222222222222,
             "#7201a8"
            ],
            [
             0.3333333333333333,
             "#9c179e"
            ],
            [
             0.4444444444444444,
             "#bd3786"
            ],
            [
             0.5555555555555556,
             "#d8576b"
            ],
            [
             0.6666666666666666,
             "#ed7953"
            ],
            [
             0.7777777777777778,
             "#fb9f3a"
            ],
            [
             0.8888888888888888,
             "#fdca26"
            ],
            [
             1,
             "#f0f921"
            ]
           ]
          },
          "colorway": [
           "#636efa",
           "#EF553B",
           "#00cc96",
           "#ab63fa",
           "#FFA15A",
           "#19d3f3",
           "#FF6692",
           "#B6E880",
           "#FF97FF",
           "#FECB52"
          ],
          "font": {
           "color": "#2a3f5f"
          },
          "geo": {
           "bgcolor": "white",
           "lakecolor": "white",
           "landcolor": "#E5ECF6",
           "showlakes": true,
           "showland": true,
           "subunitcolor": "white"
          },
          "hoverlabel": {
           "align": "left"
          },
          "hovermode": "closest",
          "mapbox": {
           "style": "light"
          },
          "paper_bgcolor": "white",
          "plot_bgcolor": "#E5ECF6",
          "polar": {
           "angularaxis": {
            "gridcolor": "white",
            "linecolor": "white",
            "ticks": ""
           },
           "bgcolor": "#E5ECF6",
           "radialaxis": {
            "gridcolor": "white",
            "linecolor": "white",
            "ticks": ""
           }
          },
          "scene": {
           "xaxis": {
            "backgroundcolor": "#E5ECF6",
            "gridcolor": "white",
            "gridwidth": 2,
            "linecolor": "white",
            "showbackground": true,
            "ticks": "",
            "zerolinecolor": "white"
           },
           "yaxis": {
            "backgroundcolor": "#E5ECF6",
            "gridcolor": "white",
            "gridwidth": 2,
            "linecolor": "white",
            "showbackground": true,
            "ticks": "",
            "zerolinecolor": "white"
           },
           "zaxis": {
            "backgroundcolor": "#E5ECF6",
            "gridcolor": "white",
            "gridwidth": 2,
            "linecolor": "white",
            "showbackground": true,
            "ticks": "",
            "zerolinecolor": "white"
           }
          },
          "shapedefaults": {
           "line": {
            "color": "#2a3f5f"
           }
          },
          "ternary": {
           "aaxis": {
            "gridcolor": "white",
            "linecolor": "white",
            "ticks": ""
           },
           "baxis": {
            "gridcolor": "white",
            "linecolor": "white",
            "ticks": ""
           },
           "bgcolor": "#E5ECF6",
           "caxis": {
            "gridcolor": "white",
            "linecolor": "white",
            "ticks": ""
           }
          },
          "title": {
           "x": 0.05
          },
          "xaxis": {
           "automargin": true,
           "gridcolor": "white",
           "linecolor": "white",
           "ticks": "",
           "title": {
            "standoff": 15
           },
           "zerolinecolor": "white",
           "zerolinewidth": 2
          },
          "yaxis": {
           "automargin": true,
           "gridcolor": "white",
           "linecolor": "white",
           "ticks": "",
           "title": {
            "standoff": 15
           },
           "zerolinecolor": "white",
           "zerolinewidth": 2
          }
         }
        },
        "title": {
         "text": "Evolução no Deadlift (Barbell) (Legs sábado)"
        },
        "updatemenus": [
         {
          "active": 0,
          "buttons": [
           {
            "args": [
             {
              "text": [
               [
                "5 reps",
                "6 reps",
                "7 reps",
                "7 reps",
                "4 reps"
               ],
               [
                "4 reps",
                "5 reps",
                "5 reps",
                "8 reps",
                "7 reps"
               ]
              ],
              "visible": [
               true,
               true
              ],
              "x": [
               [
                "2025-05-24",
                "2025-05-17",
                "2025-05-10",
                "2025-05-03",
                "2025-04-26"
               ],
               [
                "2025-05-24",
                "2025-05-17",
                "2025-05-10",
                "2025-05-03",
                "2025-04-26"
               ]
              ],
              "y": [
               [
                175,
                170,
                160,
                140,
                185
               ],
               [
                175,
                175,
                170,
                145,
                145
               ]
              ]
             }
            ],
            "args2": [
             {
              "visible": [
               true,
               true
              ]
             }
            ],
            "label": "Últimos 30 dias",
            "method": "restyle"
           },
           {
            "args": [
             {
              "text": [
               [
                "5 reps",
                "6 reps",
                "7 reps",
                "7 reps",
                "4 reps",
                "5 reps",
                "6 reps",
                "5 reps",
                "3 reps"
               ],
               [
                "4 reps",
                "5 reps",
                "5 reps",
                "8 reps",
                "7 reps",
                "4 reps",
                "5 reps",
                "6 reps",
                "5 reps"
               ]
              ],
              "visible": [
               true,
               true
              ],
              "x": [
               [
                "2025-05-24",
                "2025-05-17",
                "2025-05-10",
                "2025-05-03",
                "2025-04-26",
                "2025-04-19",
                "2025-04-12",
                "2025-04-05",
                "2025-03-29"
               ],
               [
                "2025-05-24",
                "2025-05-17",
                "2025-05-10",
                "2025-05-03",
                "2025-04-26",
                "2025-04-19",
                "2025-04-12",
                "2025-04-05",
                "2025-03-29"
               ]
              ],
              "y": [
               [
                175,
                170,
                160,
                140,
                185,
                185,
                180,
                180,
                200
               ],
               [
                175,
                175,
                170,
                145,
                145,
                185,
                185,
                180,
                180
               ]
              ]
             }
            ],
            "args2": [
             {
              "visible": [
               true,
               true
              ]
             }
            ],
            "label": "Últimos 60 dias",
            "method": "restyle"
           },
           {
            "args": [
             {
              "text": [
               [
                "5 reps",
                "6 reps",
                "7 reps",
                "7 reps",
                "4 reps",
                "5 reps",
                "6 reps",
                "5 reps",
                "3 reps",
                "4 reps",
                "5 reps",
                "5 reps",
                "4 reps"
               ],
               [
                "4 reps",
                "5 reps",
                "5 reps",
                "8 reps",
                "7 reps",
                "4 reps",
                "5 reps",
                "6 reps",
                "5 reps",
                "3 reps",
                "3 reps",
                "3 reps",
                "4 reps"
               ]
              ],
              "visible": [
               true,
               true
              ],
              "x": [
               [
                "2025-05-24",
                "2025-05-17",
                "2025-05-10",
                "2025-05-03",
                "2025-04-26",
                "2025-04-19",
                "2025-04-12",
                "2025-04-05",
                "2025-03-29",
                "2025-03-22",
                "2025-03-15",
                "2025-03-08",
                "2025-03-01"
               ],
               [
                "2025-05-24",
                "2025-05-17",
                "2025-05-10",
                "2025-05-03",
                "2025-04-26",
                "2025-04-19",
                "2025-04-12",
                "2025-04-05",
                "2025-03-29",
                "2025-03-22",
                "2025-03-15",
                "2025-03-08",
                "2025-03-01"
               ]
              ],
              "y": [
               [
                175,
                170,
                160,
                140,
                185,
                185,
                180,
                180,
                200,
                200,
                200,
                200,
                200
               ],
               [
                175,
                175,
                170,
                145,
                145,
                185,
                185,
                180,
                180,
                200,
                200,
                200,
                200
               ]
              ]
             }
            ],
            "args2": [
             {
              "visible": [
               true,
               true
              ]
             }
            ],
            "label": "Últimos 90 dias",
            "method": "restyle"
           },
           {
            "args": [
             {
              "text": [
               [
                "5 reps",
                "6 reps",
                "7 reps",
                "7 reps",
                "4 reps",
                "5 reps",
                "6 reps",
                "5 reps",
                "3 reps",
                "4 reps",
                "5 reps",
                "5 reps",
                "4 reps"
               ],
               [
                "4 reps",
                "5 reps",
                "5 reps",
                "8 reps",
                "7 reps",
                "4 reps",
                "5 reps",
                "6 reps",
                "5 reps",
                "3 reps",
                "3 reps",
                "3 reps",
                "4 reps"
               ]
              ],
              "visible": [
               true,
               true
              ],
              "x": [
               [
                "2025-05-24",
                "2025-05-17",
                "2025-05-10",
                "2025-05-03",
                "2025-04-26",
                "2025-04-19",
                "2025-04-12",
                "2025-04-05",
                "2025-03-29",
                "2025-03-22",
                "2025-03-15",
                "2025-03-08",
                "2025-03-01"
               ],
               [
                "2025-05-24",
                "2025-05-17",
                "2025-05-10",
                "2025-05-03",
                "2025-04-26",
                "2025-04-19",
                "2025-04-12",
                "2025-04-05",
                "2025-03-29",
                "2025-03-22",
                "2025-03-15",
                "2025-03-08",
                "2025-03-01"
               ]
              ],
              "y": [
               [
                175,
                170,
                160,
                140,
                185,
                185,
                180,
                180,
                200,
                200,
                200,
                200,
                200
               ],
               [
                175,
                175,
                170,
                145,
                145,
                185,
                185,
                180,
                180,
                200,
                200,
                200,
                200
               ]
              ]
             }
            ],
            "args2": [
             {
              "visible": [
               true,
               true
              ]
             }
            ],
            "label": "Todos os dados",
            "method": "restyle"
           }
          ],
          "direction": "down",
          "showactive": true,
          "x": 0.1,
          "xanchor": "left",
          "y": 1.2,
          "yanchor": "top"
         }
        ],
        "xaxis": {
         "tickformat": "%d/%m/%Y",
         "title": {
          "text": "Data"
         }
        },
        "yaxis": {
         "title": {
          "text": "Peso (kg)"
         }
        }
       }
      }
     },
     "metadata": {},
     "output_type": "display_data"
    }
   ],
   "source": [
    "import plotly.graph_objects as go\n",
    "import pandas as pd\n",
    "\n",
    "def gerar_grafico_interativo(df, treino_nome, exercicio_nome, output_path='grafico_treino.html'):\n",
    "    # Cria uma cópia do DataFrame para evitar modificações no original\n",
    "    df = df.copy()\n",
    "    \n",
    "    # Garante que a coluna 'date' está no formato datetime.date\n",
    "    df['date'] = pd.to_datetime(df['date']).dt.date\n",
    "\n",
    "    # Filtra pelo exercício e treino desejado\n",
    "    exercicio_df = df[(df['title'] == treino_nome) & (df['exercise_title'] == exercicio_nome)]\n",
    "\n",
    "    # Verifica se há dados após o filtro\n",
    "    if exercicio_df.empty:\n",
    "        print(f\"Nenhum dado encontrado para {exercicio_nome} em {treino_nome}\")\n",
    "        return None\n",
    "\n",
    "    # Calcula a data máxima para referência\n",
    "    max_date = exercicio_df['date'].max()\n",
    "\n",
    "    # Filtra inicialmente para os últimos 30 dias (padrão)\n",
    "    initial_data = exercicio_df[exercicio_df['date'] >= (max_date - pd.Timedelta(days=30))]\n",
    "\n",
    "    # Cria os traces iniciais para os últimos 30 dias\n",
    "    traces = []\n",
    "    for set_idx in sorted(initial_data['set_index'].unique()):  # Ordena para consistência\n",
    "        set_data = initial_data[initial_data['set_index'] == set_idx]\n",
    "        traces.append(go.Scatter(\n",
    "            x=set_data['date'],\n",
    "            y=set_data['weight_kg'],\n",
    "            mode='lines+markers+text',\n",
    "            name=f'Série {set_idx + 1}',\n",
    "            text=[f'{r} reps' for r in set_data['reps']],\n",
    "            textposition='top center',\n",
    "            hovertemplate='Data: %{x}<br>Peso: %{y} kg<br>Reps: %{text}<extra></extra>'\n",
    "        ))\n",
    "\n",
    "    # Layout com botões de filtro\n",
    "    layout = go.Layout(\n",
    "        title=f'Evolução no {exercicio_nome} ({treino_nome})',\n",
    "        xaxis=dict(title='Data', tickformat='%d/%m/%Y'),\n",
    "        yaxis=dict(title='Peso (kg)'),\n",
    "        hovermode='closest',\n",
    "        updatemenus=[\n",
    "            {\n",
    "                \"buttons\": [\n",
    "                    {\n",
    "                        \"label\": \"Últimos 30 dias\",\n",
    "                        \"method\": \"restyle\",\n",
    "                        \"args\": [{\n",
    "                            \"x\": [exercicio_df[(exercicio_df['set_index'] == idx) & (exercicio_df['date'] >= (max_date - pd.Timedelta(days=30)))]['date'] for idx in sorted(exercicio_df['set_index'].unique())],\n",
    "                            \"y\": [exercicio_df[(exercicio_df['set_index'] == idx) & (exercicio_df['date'] >= (max_date - pd.Timedelta(days=30)))]['weight_kg'] for idx in sorted(exercicio_df['set_index'].unique())],\n",
    "                            \"text\": [exercicio_df[(exercicio_df['set_index'] == idx) & (exercicio_df['date'] >= (max_date - pd.Timedelta(days=30)))]['reps'].apply(lambda r: f'{r} reps') for idx in sorted(exercicio_df['set_index'].unique())],\n",
    "                            \"visible\": [True] * len(exercicio_df['set_index'].unique())\n",
    "                        }],\n",
    "                        \"args2\": [{\"visible\": [True] * len(exercicio_df['set_index'].unique())}],\n",
    "                    },\n",
    "                    {\n",
    "                        \"label\": \"Últimos 60 dias\",\n",
    "                        \"method\": \"restyle\",\n",
    "                        \"args\": [{\n",
    "                            \"x\": [exercicio_df[(exercicio_df['set_index'] == idx) & (exercicio_df['date'] >= (max_date - pd.Timedelta(days=60)))]['date'] for idx in sorted(exercicio_df['set_index'].unique())],\n",
    "                            \"y\": [exercicio_df[(exercicio_df['set_index'] == idx) & (exercicio_df['date'] >= (max_date - pd.Timedelta(days=60)))]['weight_kg'] for idx in sorted(exercicio_df['set_index'].unique())],\n",
    "                            \"text\": [exercicio_df[(exercicio_df['set_index'] == idx) & (exercicio_df['date'] >= (max_date - pd.Timedelta(days=60)))]['reps'].apply(lambda r: f'{r} reps') for idx in sorted(exercicio_df['set_index'].unique())],\n",
    "                            \"visible\": [True] * len(exercicio_df['set_index'].unique())\n",
    "                        }],\n",
    "                        \"args2\": [{\"visible\": [True] * len(exercicio_df['set_index'].unique())}],\n",
    "                    },\n",
    "                    {\n",
    "                        \"label\": \"Últimos 90 dias\",\n",
    "                        \"method\": \"restyle\",\n",
    "                        \"args\": [{\n",
    "                            \"x\": [exercicio_df[(exercicio_df['set_index'] == idx) & (exercicio_df['date'] >= (max_date - pd.Timedelta(days=90)))]['date'] for idx in sorted(exercicio_df['set_index'].unique())],\n",
    "                            \"y\": [exercicio_df[(exercicio_df['set_index'] == idx) & (exercicio_df['date'] >= (max_date - pd.Timedelta(days=90)))]['weight_kg'] for idx in sorted(exercicio_df['set_index'].unique())],\n",
    "                            \"text\": [exercicio_df[(exercicio_df['set_index'] == idx) & (exercicio_df['date'] >= (max_date - pd.Timedelta(days=90)))]['reps'].apply(lambda r: f'{r} reps') for idx in sorted(exercicio_df['set_index'].unique())],\n",
    "                            \"visible\": [True] * len(exercicio_df['set_index'].unique())\n",
    "                        }],\n",
    "                        \"args2\": [{\"visible\": [True] * len(exercicio_df['set_index'].unique())}],\n",
    "                    },\n",
    "                    {\n",
    "                        \"label\": \"Todos os dados\",\n",
    "                        \"method\": \"restyle\",\n",
    "                        \"args\": [{\n",
    "                            \"x\": [exercicio_df[exercicio_df['set_index'] == idx]['date'] for idx in sorted(exercicio_df['set_index'].unique())],\n",
    "                            \"y\": [exercicio_df[exercicio_df['set_index'] == idx]['weight_kg'] for idx in sorted(exercicio_df['set_index'].unique())],\n",
    "                            \"text\": [exercicio_df[exercicio_df['set_index'] == idx]['reps'].apply(lambda r: f'{r} reps') for idx in sorted(exercicio_df['set_index'].unique())],\n",
    "                            \"visible\": [True] * len(exercicio_df['set_index'].unique())\n",
    "                        }],\n",
    "                        \"args2\": [{\"visible\": [True] * len(exercicio_df['set_index'].unique())}],\n",
    "                    }\n",
    "                ],\n",
    "                \"direction\": \"down\",\n",
    "                \"showactive\": True,\n",
    "                \"active\": 0,  # Define \"Últimos 30 dias\" como o botão ativo por padrão\n",
    "                \"x\": 0.1,\n",
    "                \"xanchor\": \"left\",\n",
    "                \"y\": 1.2,\n",
    "                \"yanchor\": \"top\"\n",
    "            }\n",
    "        ]\n",
    "    )\n",
    "\n",
    "    # Cria a figura\n",
    "    fig = go.Figure(data=traces, layout=layout)\n",
    "    \n",
    "    # Salva o gráfico como HTML\n",
    "    # fig.write_html(output_path, auto_open=False)  # auto_open=False para evitar abrir o navegador automaticamente\n",
    "    \n",
    "    # Retorna a figura para visualização direta em notebooks\n",
    "    return fig\n",
    "\n",
    "# Exemplo de uso:\n",
    "graf = gerar_grafico_interativo(workout_df_columns_filtered, 'Legs sábado', 'Deadlift (Barbell)')\n",
    "if graf is not None:\n",
    "    graf.show()  # Exibe o gráfico diretamente no Jupyter Notebook"
   ]
  },
  {
   "cell_type": "code",
   "execution_count": 9,
   "id": "a9e78cc9",
   "metadata": {},
   "outputs": [],
   "source": [
    "# CÉLULA 9 (NOVO CÓDIGO)\n",
    "\n",
    "import plotly.graph_objects as go\n",
    "import pandas as pd\n",
    "from datetime import timedelta\n",
    "\n",
    "def gerar_grafico_plotly_para_html(df, treino_nome, exercicio_nome, dias_periodo=30, serie_selecionada=\"Top Set (Failure)\"):\n",
    "    \"\"\"\n",
    "    Gera os dados e o layout de um gráfico Plotly para um treino, exercício, período e tipo de série específicos.\n",
    "    \n",
    "    Args:\n",
    "        df (pd.DataFrame): DataFrame com os dados do treino.\n",
    "        treino_nome (str): Nome da rotina de treino.\n",
    "        exercicio_nome (str): Nome do exercício.\n",
    "        dias_periodo (int): Número de dias para filtrar (ex: 30, 60, 90).\n",
    "        serie_selecionada (str): Qual série mostrar. \n",
    "                                 Opções: \"Top Set (Failure)\", \"Work Set X\", \"Todas as Séries\".\n",
    "    \n",
    "    Returns:\n",
    "        dict: Dicionário contendo 'data' e 'layout' para Plotly.js, ou None se não houver dados.\n",
    "    \"\"\"\n",
    "    df_copy = df.copy()\n",
    "    df_copy['date'] = pd.to_datetime(df_copy['date']).dt.date\n",
    "\n",
    "    exercicio_df_original = df_copy[(df_copy['title'] == treino_nome) & (df_copy['exercise_title'] == exercicio_nome)]\n",
    "    if exercicio_df_original.empty:\n",
    "        return None\n",
    "\n",
    "    exercicio_df = exercicio_df_original.copy()\n",
    "    has_failure = not exercicio_df[exercicio_df['set_type'] == 'failure'].empty\n",
    "    \n",
    "    if exercicio_df['date'].empty:\n",
    "        return None\n",
    "    max_date = exercicio_df['date'].max()\n",
    "\n",
    "    # Atribuir normal_order\n",
    "    exercicio_df.loc[:, 'normal_order'] = pd.NA\n",
    "    for dt_unique in exercicio_df['date'].unique():\n",
    "        subset_indices = exercicio_df[\n",
    "            (exercicio_df['date'] == dt_unique) & (exercicio_df['set_type'] == 'normal')\n",
    "        ].sort_values('set_index').index\n",
    "        for i, idx in enumerate(subset_indices, 1):\n",
    "            exercicio_df.loc[idx, 'normal_order'] = i\n",
    "    exercicio_df['normal_order'] = exercicio_df['normal_order'].astype('Int64')\n",
    "\n",
    "    # Filtrar pelo período\n",
    "    periodo_inicio = max_date - timedelta(days=dias_periodo)\n",
    "    exercicio_df_periodo = exercicio_df[exercicio_df['date'] >= periodo_inicio].copy() # Nova cópia para o período\n",
    "\n",
    "    if exercicio_df_periodo.empty:\n",
    "        return None\n",
    "\n",
    "    traces = []\n",
    "    \n",
    "    # Determinar quais work sets existem neste período para os nomes das traces\n",
    "    # e para a opção \"Todas as Séries\"\n",
    "    work_orders_in_period = sorted(exercicio_df_periodo[exercicio_df_periodo['normal_order'].notna()]['normal_order'].unique())\n",
    "\n",
    "    # Adicionar Trace do Top Set (Failure)\n",
    "    if has_failure:\n",
    "        show_top_set = (serie_selecionada == \"Top Set (Failure)\" or serie_selecionada == \"Todas as Séries\")\n",
    "        if show_top_set:\n",
    "            fdata = exercicio_df_periodo[exercicio_df_periodo['set_type'] == 'failure']\n",
    "            if not fdata.empty:\n",
    "                traces.append(go.Scatter(\n",
    "                    x=fdata['date'], y=fdata['weight_kg'],\n",
    "                    text=[f\"{r} reps\" for r in fdata['reps']],\n",
    "                    mode='lines+markers+text', textposition='top center',\n",
    "                    name='Top Set (Failure)'\n",
    "                ))\n",
    "\n",
    "    # Adicionar Traces dos Work Sets\n",
    "    for order_val in work_orders_in_period:\n",
    "        show_this_work_set = (serie_selecionada == f\"Work Set {int(order_val)}\" or serie_selecionada == \"Todas as Séries\")\n",
    "        if show_this_work_set:\n",
    "            wdata = exercicio_df_periodo[exercicio_df_periodo['normal_order'] == order_val]\n",
    "            if not wdata.empty:\n",
    "                traces.append(go.Scatter(\n",
    "                    x=wdata['date'], y=wdata['weight_kg'],\n",
    "                    text=[f\"{r} reps\" for r in wdata['reps']],\n",
    "                    mode='lines+markers+text', textposition='top center',\n",
    "                    name=f'Work Set {int(order_val)}'\n",
    "                ))\n",
    "    \n",
    "    if not traces: # Se nenhuma trace foi adicionada (ex: dados existem mas não para a série/tipo selecionado no período)\n",
    "        return None\n",
    "\n",
    "    layout_title = f\"Evolução: {exercicio_nome} ({treino_nome})\"\n",
    "    if serie_selecionada != \"Todas as Séries\":\n",
    "        layout_title += f\" - {serie_selecionada}\"\n",
    "    layout_title += f\" - Últimos {dias_periodo} dias\"\n",
    "\n",
    "    layout = go.Layout(\n",
    "        title=layout_title,\n",
    "        xaxis=dict(title='Data', tickformat='%d/%m/%Y'),\n",
    "        yaxis=dict(title='Peso (kg)'),\n",
    "        hovermode='closest',\n",
    "        margin=dict(t=80) # Aumentar margem superior para o título mais longo\n",
    "    )\n",
    "\n",
    "    # Retornar um dicionário com data e layout, pronto para ser usado por Plotly.newPlot\n",
    "    return {'data': [trace.to_plotly_json() for trace in traces], 'layout': layout.to_plotly_json()}"
   ]
  },
  {
   "cell_type": "code",
   "execution_count": 10,
   "id": "dd71b56e",
   "metadata": {},
   "outputs": [],
   "source": [
    "# # Filtrar os exercícios únicos para o treino \"Legs sábado\"\n",
    "# exercicios_legs_sabado = workout_df_columns_filtered[workout_df_columns_filtered['title'] == 'Legs sábado']['exercise_title'].unique()\n",
    "# def gerar_grafico_treino_total(treino_exercicios, nome_treino='Legs sábado'):\n",
    "#     # Filtra os dados para o treino específico\n",
    "#     print(f\"Exercícios na rotina {treino_exercicios}:\")\n",
    "#     for exercicio in treino_exercicios:\n",
    "#         #print(f\"- {exercicio}\")\n",
    "#         graf = gerar_grafico_interativo_com_series(workout_df_columns_filtered, nome_treino, exercicio, output_path='grafico_treino.html')\n",
    "#         #if graf is not None:\n",
    "#             #graf.show()\n",
    "# gerar_grafico_treino_total(exercicios_legs_sabado)"
   ]
  },
  {
   "cell_type": "code",
   "execution_count": 11,
   "id": "86f76a26",
   "metadata": {},
   "outputs": [],
   "source": [
    "# treino_nomes = workout_df_columns_filtered['title'].unique()\n",
    "# for nome_treino in treino_nomes:\n",
    "#     #print(f\"\\nTreino: {nome_treino}\")\n",
    "#     # Filtrar os exercícios únicos para o treino atual\n",
    "#     exercicios = workout_df_columns_filtered[workout_df_columns_filtered['title'] == nome_treino]['exercise_title'].unique()\n",
    "#     gerar_grafico_treino_total(exercicios, nome_treino=nome_treino)\n",
    "# # Salvar o gráfico como HTML"
   ]
  },
  {
   "cell_type": "code",
   "execution_count": null,
   "id": "cf456d9a",
   "metadata": {},
   "outputs": [],
   "source": [
    "graficos_por_exercicio = {}\n",
    "for rotina in workout_df_columns_filtered['title'].unique():\n",
    "    exercicios = workout_df_columns_filtered[workout_df_columns_filtered['title'] == rotina]['exercise_title'].unique()\n",
    "#     for exercicio in exercicios:\n",
    "#         fig, html = gerar_grafico_interativo_com_series(workout_df_columns_filtered, rotina, exercicio)\n",
    "#         if html:\n",
    "#             graficos_por_exercicio[(rotina, exercicio)] = html.replace(\"`\", \"\\\\`\")  # escapando crase\n",
    "\n",
    "# graficos_por_exercicio\n"
   ]
  },
  {
   "cell_type": "code",
   "execution_count": 13,
   "id": "204bf3be",
   "metadata": {},
   "outputs": [],
   "source": [
    "# CÉLULA 13 (NOVO CÓDIGO)\n",
    "\n",
    "import json\n",
    "from plotly.utils import PlotlyJSONEncoder\n",
    "\n",
    "def gerar_dados_para_js(df, rotinas_exercicios_map):\n",
    "    \"\"\"\n",
    "    Gera um dicionário de especificações de gráficos Plotly (dados e layout)\n",
    "    para várias combinações de período e tipo de série.\n",
    "    A chave será \"rotina||exercicio||periodo||serie_tipo\".\n",
    "    \"\"\"\n",
    "    graficos_data_para_js = {}\n",
    "    periodos_dias = [30, 60, 90]\n",
    "    # Os tipos de séries podem ser dinâmicos, mas vamos começar com alguns fixos\n",
    "    # \"Todas as Séries\" mostrará Top Set + todos os Work Sets do período.\n",
    "    # Poderíamos listar dinamicamente \"Work Set 1\", \"Work Set 2\", etc., se necessário.\n",
    "    \n",
    "    for rotina, exercicios in rotinas_exercicios_map.items():\n",
    "        for exercicio in exercicios:\n",
    "            # Primeiro, verificar se há dados para este exercício para determinar os tipos de séries disponíveis\n",
    "            temp_exercicio_df = df[(df['title'] == rotina) & (df['exercise_title'] == exercicio)]\n",
    "            if temp_exercicio_df.empty:\n",
    "                continue\n",
    "\n",
    "            series_disponiveis_para_este_exercicio = [\"Todas as Séries\"]\n",
    "            if not temp_exercicio_df[temp_exercicio_df['set_type'] == 'failure'].empty:\n",
    "                series_disponiveis_para_este_exercicio.append(\"Top Set (Failure)\")\n",
    "            \n",
    "            # Determinar Work Sets dinamicamente (baseado nos últimos 90 dias para consistência de nomes)\n",
    "            max_date_temp = temp_exercicio_df['date'].max() if not temp_exercicio_df['date'].empty else pd.Timestamp.now().date()\n",
    "            ninety_days_ago_temp = max_date_temp - timedelta(days=90)\n",
    "            \n",
    "            # Precisamos recalcular normal_order aqui para o temp_exercicio_df\n",
    "            # para obter os work sets potenciais de forma consistente\n",
    "            temp_exercicio_df_copy = temp_exercicio_df.copy()\n",
    "            temp_exercicio_df_copy.loc[:, 'normal_order_temp'] = pd.NA\n",
    "            for dt_unique_temp in temp_exercicio_df_copy['date'].unique():\n",
    "                subset_indices_temp = temp_exercicio_df_copy[\n",
    "                    (temp_exercicio_df_copy['date'] == dt_unique_temp) & (temp_exercicio_df_copy['set_type'] == 'normal')\n",
    "                ].sort_values('set_index').index\n",
    "                for i_temp, idx_temp in enumerate(subset_indices_temp, 1):\n",
    "                    temp_exercicio_df_copy.loc[idx_temp, 'normal_order_temp'] = i_temp\n",
    "            temp_exercicio_df_copy['normal_order_temp'] = temp_exercicio_df_copy['normal_order_temp'].astype('Int64')\n",
    "\n",
    "            potential_work_orders = sorted(temp_exercicio_df_copy[\n",
    "                (temp_exercicio_df_copy['normal_order_temp'].notna()) &\n",
    "                (temp_exercicio_df_copy['date'] >= ninety_days_ago_temp) # Olhar para os últimos 90 dias para nomes de workset\n",
    "            ]['normal_order_temp'].unique())\n",
    "            \n",
    "            for ws_order in potential_work_orders:\n",
    "                series_disponiveis_para_este_exercicio.append(f\"Work Set {int(ws_order)}\")\n",
    "\n",
    "            for periodo in periodos_dias:\n",
    "                for tipo_serie in series_disponiveis_para_este_exercicio:\n",
    "                    # Chave: rotina||exercicio||periodo||serie_tipo\n",
    "                    chave_js = f\"{rotina}||{exercicio}||{periodo}||{tipo_serie}\"\n",
    "                    \n",
    "                    # Gerar a especificação do gráfico para esta combinação\n",
    "                    # A função `gerar_grafico_plotly_para_html` agora retorna um dict {'data': ..., 'layout': ...}\n",
    "                    grafico_spec = gerar_grafico_plotly_para_html(df, rotina, exercicio, \n",
    "                                                                  dias_periodo=periodo, \n",
    "                                                                  serie_selecionada=tipo_serie)\n",
    "                    if grafico_spec:\n",
    "                        graficos_data_para_js[chave_js] = grafico_spec\n",
    "                        \n",
    "    return graficos_data_para_js"
   ]
  },
  {
   "cell_type": "code",
   "execution_count": 14,
   "id": "19ed5c85",
   "metadata": {},
   "outputs": [
    {
     "ename": "NameError",
     "evalue": "name 'rotinas_exercicios' is not defined",
     "output_type": "error",
     "traceback": [
      "\u001b[31m---------------------------------------------------------------------------\u001b[39m",
      "\u001b[31mNameError\u001b[39m                                 Traceback (most recent call last)",
      "\u001b[36mCell\u001b[39m\u001b[36m \u001b[39m\u001b[32mIn[14]\u001b[39m\u001b[32m, line 11\u001b[39m\n\u001b[32m      1\u001b[39m \u001b[38;5;66;03m# CÉLULA 14 (NOVO CÓDIGO)\u001b[39;00m\n\u001b[32m      2\u001b[39m \n\u001b[32m      3\u001b[39m \u001b[38;5;66;03m# `rotinas_exercicios` já deve estar definido da célula 12, que era:\u001b[39;00m\n\u001b[32m   (...)\u001b[39m\u001b[32m      9\u001b[39m \n\u001b[32m     10\u001b[39m \u001b[38;5;66;03m# Gerar o dicionário de dados para JS\u001b[39;00m\n\u001b[32m---> \u001b[39m\u001b[32m11\u001b[39m graficos_plotly_specs_para_js = gerar_dados_para_js(workout_df_columns_filtered, \u001b[43mrotinas_exercicios\u001b[49m)\n\u001b[32m     13\u001b[39m \u001b[38;5;66;03m# Serializar para JSON\u001b[39;00m\n\u001b[32m     14\u001b[39m \u001b[38;5;66;03m# PlotlyJSONEncoder ainda é útil se houver objetos datetime ou numpy nos dados/layout,\u001b[39;00m\n\u001b[32m     15\u001b[39m \u001b[38;5;66;03m# embora a nova função `gerar_grafico_plotly_para_html` tente retornar listas e dicts básicos.\u001b[39;00m\n\u001b[32m     16\u001b[39m js_plotly_data = \u001b[33mf\u001b[39m\u001b[33m\"\u001b[39m\u001b[33mconst graficosPlotlySpecs = \u001b[39m\u001b[38;5;132;01m{\u001b[39;00mjson.dumps(graficos_plotly_specs_para_js,\u001b[38;5;250m \u001b[39m\u001b[38;5;28mcls\u001b[39m=PlotlyJSONEncoder)\u001b[38;5;132;01m}\u001b[39;00m\u001b[33m;\u001b[39m\u001b[33m\"\u001b[39m\n",
      "\u001b[31mNameError\u001b[39m: name 'rotinas_exercicios' is not defined"
     ]
    }
   ],
   "source": [
    "# CÉLULA 14 (NOVO CÓDIGO)\n",
    "\n",
    "# `rotinas_exercicios` já deve estar definido da célula 12, que era:\n",
    "# rotinas_exercicios = {}\n",
    "# treino_nomes = workout_df_columns_filtered['title'].unique() # da célula 11\n",
    "# for nome_treino_map in treino_nomes:\n",
    "#    exercicios_map = workout_df_columns_filtered[workout_df_columns_filtered['title'] == nome_treino_map]['exercise_title'].unique().tolist()\n",
    "#    rotinas_exercicios[nome_treino_map] = exercicios_map\n",
    "\n",
    "# Gerar o dicionário de dados para JS\n",
    "graficos_plotly_specs_para_js = gerar_dados_para_js(workout_df_columns_filtered, rotinas_exercicios)\n",
    "\n",
    "# Serializar para JSON\n",
    "# PlotlyJSONEncoder ainda é útil se houver objetos datetime ou numpy nos dados/layout,\n",
    "# embora a nova função `gerar_grafico_plotly_para_html` tente retornar listas e dicts básicos.\n",
    "js_plotly_data = f\"const graficosPlotlySpecs = {json.dumps(graficos_plotly_specs_para_js, cls=PlotlyJSONEncoder)};\"\n",
    "\n",
    "# Para verificar o que foi gerado (opcional):\n",
    "# print(f\"Número de especificações de gráfico geradas: {len(graficos_plotly_specs_para_js)}\")\n",
    "# if graficos_plotly_specs_para_js:\n",
    "#    print(f\"Exemplo de chave: {list(graficos_plotly_specs_para_js.keys())[0]}\")"
   ]
  },
  {
   "cell_type": "code",
   "execution_count": null,
   "id": "3db0e905",
   "metadata": {},
   "outputs": [
    {
     "ename": "NameError",
     "evalue": "name 'js_plotly_data' is not defined",
     "output_type": "error",
     "traceback": [
      "\u001b[31m---------------------------------------------------------------------------\u001b[39m",
      "\u001b[31mNameError\u001b[39m                                 Traceback (most recent call last)",
      "\u001b[36mCell\u001b[39m\u001b[36m \u001b[39m\u001b[32mIn[23]\u001b[39m\u001b[32m, line 64\u001b[39m\n\u001b[32m      1\u001b[39m html_template = \u001b[33mf\u001b[39m\u001b[33m\"\"\"\u001b[39m\n\u001b[32m      2\u001b[39m \u001b[33m<!DOCTYPE html>\u001b[39m\n\u001b[32m      3\u001b[39m \u001b[33m<html lang=\u001b[39m\u001b[33m\"\u001b[39m\u001b[33mpt\u001b[39m\u001b[33m\"\u001b[39m\u001b[33m>\u001b[39m\n\u001b[32m      4\u001b[39m \u001b[33m<head>\u001b[39m\n\u001b[32m      5\u001b[39m \u001b[33m    <meta charset=\u001b[39m\u001b[33m\"\u001b[39m\u001b[33mUTF-8\u001b[39m\u001b[33m\"\u001b[39m\u001b[33m>\u001b[39m\n\u001b[32m      6\u001b[39m \u001b[33m    <meta name=\u001b[39m\u001b[33m\"\u001b[39m\u001b[33mviewport\u001b[39m\u001b[33m\"\u001b[39m\u001b[33m content=\u001b[39m\u001b[33m\"\u001b[39m\u001b[33mwidth=device-width, initial-scale=1.0\u001b[39m\u001b[33m\"\u001b[39m\u001b[33m>\u001b[39m\n\u001b[32m      7\u001b[39m \u001b[33m    <title>Visualização de Treinos</title>\u001b[39m\n\u001b[32m      8\u001b[39m \u001b[33m    <script src=\u001b[39m\u001b[33m\"\u001b[39m\u001b[33mhttps://cdn.plot.ly/plotly-latest.min.js\u001b[39m\u001b[33m\"\u001b[39m\u001b[33m></script>\u001b[39m\n\u001b[32m      9\u001b[39m \u001b[33m    <style>\u001b[39m\n\u001b[32m     10\u001b[39m \u001b[33m        body \u001b[39m\u001b[38;5;130;01m{{\u001b[39;00m\u001b[33m font-family: \u001b[39m\u001b[33m'\u001b[39m\u001b[33mSegoe UI\u001b[39m\u001b[33m'\u001b[39m\u001b[33m, Tahoma, Geneva, Verdana, sans-serif; background-color: #f4f6f8; color: #333; margin: 0; padding: 0; \u001b[39m\u001b[38;5;130;01m}}\u001b[39;00m\n\u001b[32m     11\u001b[39m \u001b[33m        header \u001b[39m\u001b[38;5;130;01m{{\u001b[39;00m\u001b[33m background-color: #2d89ef; color: white; padding: 20px; text-align: center; \u001b[39m\u001b[38;5;130;01m}}\u001b[39;00m\n\u001b[32m     12\u001b[39m \u001b[33m        .container \u001b[39m\u001b[38;5;130;01m{{\u001b[39;00m\u001b[33m max-width: 900px; margin: 30px auto; padding: 20px; background-color: white; box-shadow: 0 0 10px rgba(0,0,0,0.05); border-radius: 8px; \u001b[39m\u001b[38;5;130;01m}}\u001b[39;00m\n\u001b[32m     13\u001b[39m \u001b[33m        select, button \u001b[39m\u001b[38;5;130;01m{{\u001b[39;00m\u001b[33m margin: 10px 5px 10px 0; padding: 10px; font-size: 16px; border: 1px solid #ccc; border-radius: 4px; \u001b[39m\u001b[38;5;130;01m}}\u001b[39;00m\n\u001b[32m     14\u001b[39m \u001b[33m        button \u001b[39m\u001b[38;5;130;01m{{\u001b[39;00m\u001b[33m background-color: #2d89ef; color: white; cursor: pointer; \u001b[39m\u001b[38;5;130;01m}}\u001b[39;00m\n\u001b[32m     15\u001b[39m \u001b[33m        button:hover \u001b[39m\u001b[38;5;130;01m{{\u001b[39;00m\u001b[33m background-color: #1a73e8; \u001b[39m\u001b[38;5;130;01m}}\u001b[39;00m\n\u001b[32m     16\u001b[39m \u001b[33m        .controls div \u001b[39m\u001b[38;5;130;01m{{\u001b[39;00m\u001b[33m margin-bottom: 10px; \u001b[39m\u001b[38;5;130;01m}}\u001b[39;00m\n\u001b[32m     17\u001b[39m \u001b[33m        label \u001b[39m\u001b[38;5;130;01m{{\u001b[39;00m\u001b[33m font-weight: bold; display: block; margin-top: 15px; margin-bottom: 5px; \u001b[39m\u001b[38;5;130;01m}}\u001b[39;00m\n\u001b[32m     18\u001b[39m \u001b[33m        #grafico-container \u001b[39m\u001b[38;5;130;01m{{\u001b[39;00m\u001b[33m width: 100%; min-height: 500px; margin-top: 20px; border: 1px solid #eee; \u001b[39m\u001b[38;5;130;01m}}\u001b[39;00m\n\u001b[32m     19\u001b[39m \u001b[33m        .alert \u001b[39m\u001b[38;5;130;01m{{\u001b[39;00m\u001b[33m background-color: #fff3cd; color: #664d03; border: 1px solid #ffc107; padding: 15px; border-radius: 5px; margin-bottom: 20px; font-size: 15px; \u001b[39m\u001b[38;5;130;01m}}\u001b[39;00m\n\u001b[32m     20\u001b[39m \u001b[33m    </style>\u001b[39m\n\u001b[32m     21\u001b[39m \u001b[33m</head>\u001b[39m\n\u001b[32m     22\u001b[39m \u001b[33m<body>\u001b[39m\n\u001b[32m     23\u001b[39m \u001b[33m    <header><h1>Visualização de Progresso nos Treinos</h1></header>\u001b[39m\n\u001b[32m     24\u001b[39m \u001b[33m    <div class=\u001b[39m\u001b[33m\"\u001b[39m\u001b[33mcontainer\u001b[39m\u001b[33m\"\u001b[39m\u001b[33m>\u001b[39m\n\u001b[32m     25\u001b[39m \u001b[33m        <div class=\u001b[39m\u001b[33m\"\u001b[39m\u001b[33malert\u001b[39m\u001b[33m\"\u001b[39m\u001b[33m>\u001b[39m\n\u001b[32m     26\u001b[39m \u001b[33m            <strong>Instruções:</strong> Selecione a rotina, exercício, período e tipo de série para visualizar o gráfico.\u001b[39m\n\u001b[32m     27\u001b[39m \u001b[33m            <br>Recomenda-se acessar em um computador ou ativar a \u001b[39m\u001b[33m\"\u001b[39m\u001b[33mversão para desktop\u001b[39m\u001b[33m\"\u001b[39m\u001b[33m no navegador do celular.\u001b[39m\n\u001b[32m     28\u001b[39m \u001b[33m        </div>\u001b[39m\n\u001b[32m     29\u001b[39m \n\u001b[32m     30\u001b[39m \u001b[33m        <div class=\u001b[39m\u001b[33m\"\u001b[39m\u001b[33mcontrols\u001b[39m\u001b[33m\"\u001b[39m\u001b[33m>\u001b[39m\n\u001b[32m     31\u001b[39m \u001b[33m            <div>\u001b[39m\n\u001b[32m     32\u001b[39m \u001b[33m                <label for=\u001b[39m\u001b[33m\"\u001b[39m\u001b[33mrotina\u001b[39m\u001b[33m\"\u001b[39m\u001b[33m>Rotina de Treino:</label>\u001b[39m\n\u001b[32m     33\u001b[39m \u001b[33m                <select id=\u001b[39m\u001b[33m\"\u001b[39m\u001b[33mrotina\u001b[39m\u001b[33m\"\u001b[39m\u001b[33m onchange=\u001b[39m\u001b[33m\"\u001b[39m\u001b[33mrotinaSelecionada()\u001b[39m\u001b[33m\"\u001b[39m\u001b[33m>\u001b[39m\n\u001b[32m     34\u001b[39m \u001b[33m                    <option value=\u001b[39m\u001b[33m\"\u001b[39m\u001b[33m\"\u001b[39m\u001b[33m>Selecione uma rotina</option>\u001b[39m\n\u001b[32m     35\u001b[39m \u001b[33m                </select>\u001b[39m\n\u001b[32m     36\u001b[39m \u001b[33m            </div>\u001b[39m\n\u001b[32m     37\u001b[39m \u001b[33m            <div>\u001b[39m\n\u001b[32m     38\u001b[39m \u001b[33m                <label for=\u001b[39m\u001b[33m\"\u001b[39m\u001b[33mexercicio\u001b[39m\u001b[33m\"\u001b[39m\u001b[33m>Exercício:</label>\u001b[39m\n\u001b[32m     39\u001b[39m \u001b[33m                <select id=\u001b[39m\u001b[33m\"\u001b[39m\u001b[33mexercicio\u001b[39m\u001b[33m\"\u001b[39m\u001b[33m onchange=\u001b[39m\u001b[33m\"\u001b[39m\u001b[33mexercicioSelecionado()\u001b[39m\u001b[33m\"\u001b[39m\u001b[33m>\u001b[39m\n\u001b[32m     40\u001b[39m \u001b[33m                    <option value=\u001b[39m\u001b[33m\"\u001b[39m\u001b[33m\"\u001b[39m\u001b[33m>Selecione um exercício</option>\u001b[39m\n\u001b[32m     41\u001b[39m \u001b[33m                </select>\u001b[39m\n\u001b[32m     42\u001b[39m \u001b[33m            </div>\u001b[39m\n\u001b[32m     43\u001b[39m \u001b[33m            <div>\u001b[39m\n\u001b[32m     44\u001b[39m \u001b[33m                <label for=\u001b[39m\u001b[33m\"\u001b[39m\u001b[33mperiodo\u001b[39m\u001b[33m\"\u001b[39m\u001b[33m>Período:</label>\u001b[39m\n\u001b[32m     45\u001b[39m \u001b[33m                <select id=\u001b[39m\u001b[33m\"\u001b[39m\u001b[33mperiodo\u001b[39m\u001b[33m\"\u001b[39m\u001b[33m>\u001b[39m\n\u001b[32m     46\u001b[39m \u001b[33m                    <option value=\u001b[39m\u001b[33m\"\u001b[39m\u001b[33m30\u001b[39m\u001b[33m\"\u001b[39m\u001b[33m>Últimos 30 dias</option>\u001b[39m\n\u001b[32m     47\u001b[39m \u001b[33m                    <option value=\u001b[39m\u001b[33m\"\u001b[39m\u001b[33m60\u001b[39m\u001b[33m\"\u001b[39m\u001b[33m>Últimos 60 dias</option>\u001b[39m\n\u001b[32m     48\u001b[39m \u001b[33m                    <option value=\u001b[39m\u001b[33m\"\u001b[39m\u001b[33m90\u001b[39m\u001b[33m\"\u001b[39m\u001b[33m>Últimos 90 dias</option>\u001b[39m\n\u001b[32m     49\u001b[39m \u001b[33m                </select>\u001b[39m\n\u001b[32m     50\u001b[39m \u001b[33m            </div>\u001b[39m\n\u001b[32m     51\u001b[39m \u001b[33m            <div>\u001b[39m\n\u001b[32m     52\u001b[39m \u001b[33m                <label for=\u001b[39m\u001b[33m\"\u001b[39m\u001b[33mserie_tipo\u001b[39m\u001b[33m\"\u001b[39m\u001b[33m>Tipo de Série:</label>\u001b[39m\n\u001b[32m     53\u001b[39m \u001b[33m                <select id=\u001b[39m\u001b[33m\"\u001b[39m\u001b[33mserie_tipo\u001b[39m\u001b[33m\"\u001b[39m\u001b[33m>\u001b[39m\n\u001b[32m     54\u001b[39m \u001b[33m                    \u001b[39m\u001b[38;5;130;01m{{\u001b[39;00m\u001b[33m/* Options serão populadas por JS */\u001b[39m\u001b[38;5;130;01m}}\u001b[39;00m\n\u001b[32m     55\u001b[39m \u001b[33m                </select>\u001b[39m\n\u001b[32m     56\u001b[39m \u001b[33m            </div>\u001b[39m\n\u001b[32m     57\u001b[39m \u001b[33m            <button onclick=\u001b[39m\u001b[33m\"\u001b[39m\u001b[33mcarregarGrafico()\u001b[39m\u001b[33m\"\u001b[39m\u001b[33m>Carregar / Atualizar Gráfico</button>\u001b[39m\n\u001b[32m     58\u001b[39m \u001b[33m        </div>\u001b[39m\n\u001b[32m     59\u001b[39m \u001b[33m        <div id=\u001b[39m\u001b[33m\"\u001b[39m\u001b[33mgrafico-container\u001b[39m\u001b[33m\"\u001b[39m\u001b[33m></div>\u001b[39m\n\u001b[32m     60\u001b[39m \u001b[33m    </div>\u001b[39m\n\u001b[32m     61\u001b[39m \n\u001b[32m     62\u001b[39m \u001b[33m    <script>\u001b[39m\n\u001b[32m     63\u001b[39m \u001b[33m        // Dados JS das especificações dos gráficos\u001b[39m\n\u001b[32m---> \u001b[39m\u001b[32m64\u001b[39m \u001b[33m        \u001b[39m\u001b[38;5;132;01m{\u001b[39;00m\u001b[43mjs_plotly_data\u001b[49m\u001b[38;5;132;01m}\u001b[39;00m\u001b[33m // Isso agora é `graficosPlotlySpecs`\u001b[39m\n\u001b[32m     65\u001b[39m \n\u001b[32m     66\u001b[39m \u001b[33m        // Dicionário de rotinas e exercícios (para popular os dropdowns)\u001b[39m\n\u001b[32m     67\u001b[39m \u001b[33m        const rotinasExerciciosMap = \u001b[39m\u001b[38;5;132;01m{\u001b[39;00mjson.dumps(rotinas_exercicios)\u001b[38;5;132;01m}\u001b[39;00m\u001b[33m;\u001b[39m\n\u001b[32m     68\u001b[39m \n\u001b[32m     69\u001b[39m \u001b[33m        const rotinaSelect = document.getElementById(\u001b[39m\u001b[33m'\u001b[39m\u001b[33mrotina\u001b[39m\u001b[33m'\u001b[39m\u001b[33m);\u001b[39m\n\u001b[32m     70\u001b[39m \u001b[33m        const exercicioSelect = document.getElementById(\u001b[39m\u001b[33m'\u001b[39m\u001b[33mexercicio\u001b[39m\u001b[33m'\u001b[39m\u001b[33m);\u001b[39m\n\u001b[32m     71\u001b[39m \u001b[33m        const periodoSelect = document.getElementById(\u001b[39m\u001b[33m'\u001b[39m\u001b[33mperiodo\u001b[39m\u001b[33m'\u001b[39m\u001b[33m);\u001b[39m\n\u001b[32m     72\u001b[39m \u001b[33m        const serieTipoSelect = document.getElementById(\u001b[39m\u001b[33m'\u001b[39m\u001b[33mserie_tipo\u001b[39m\u001b[33m'\u001b[39m\u001b[33m);\u001b[39m\n\u001b[32m     73\u001b[39m \u001b[33m        const graficoContainer = document.getElementById(\u001b[39m\u001b[33m'\u001b[39m\u001b[33mgrafico-container\u001b[39m\u001b[33m'\u001b[39m\u001b[33m);\u001b[39m\n\u001b[32m     74\u001b[39m \n\u001b[32m     75\u001b[39m \u001b[33m        // Popular rotinas\u001b[39m\n\u001b[32m     76\u001b[39m \u001b[33m        for (const rotinaNome in rotinasExerciciosMap) \u001b[39m\u001b[38;5;130;01m{{\u001b[39;00m\n\u001b[32m     77\u001b[39m \u001b[33m            const option = document.createElement(\u001b[39m\u001b[33m'\u001b[39m\u001b[33moption\u001b[39m\u001b[33m'\u001b[39m\u001b[33m);\u001b[39m\n\u001b[32m     78\u001b[39m \u001b[33m            option.value = rotinaNome;\u001b[39m\n\u001b[32m     79\u001b[39m \u001b[33m            option.text = rotinaNome;\u001b[39m\n\u001b[32m     80\u001b[39m \u001b[33m            rotinaSelect.appendChild(option);\u001b[39m\n\u001b[32m     81\u001b[39m \u001b[33m        \u001b[39m\u001b[38;5;130;01m}}\u001b[39;00m\n\u001b[32m     82\u001b[39m \n\u001b[32m     83\u001b[39m \u001b[33m        function rotinaSelecionada() \u001b[39m\u001b[38;5;130;01m{{\u001b[39;00m\n\u001b[32m     84\u001b[39m \u001b[33m            const rotinaNome = rotinaSelect.value;\u001b[39m\n\u001b[32m     85\u001b[39m \u001b[33m            exercicioSelect.innerHTML = \u001b[39m\u001b[33m'\u001b[39m\u001b[33m<option value=\u001b[39m\u001b[33m\"\u001b[39m\u001b[33m\"\u001b[39m\u001b[33m>Selecione um exercício</option>\u001b[39m\u001b[33m'\u001b[39m\u001b[33m;\u001b[39m\n\u001b[32m     86\u001b[39m \u001b[33m            serieTipoSelect.innerHTML = \u001b[39m\u001b[33m'\u001b[39m\u001b[33m<option value=\u001b[39m\u001b[33m\"\u001b[39m\u001b[33m\"\u001b[39m\u001b[33m>Selecione tipo de série</option>\u001b[39m\u001b[33m'\u001b[39m\u001b[33m; // Limpar séries também\u001b[39m\n\u001b[32m     87\u001b[39m \u001b[33m            graficoContainer.innerHTML = \u001b[39m\u001b[33m'\u001b[39m\u001b[33m'\u001b[39m\u001b[33m; // Limpar gráfico\u001b[39m\n\u001b[32m     88\u001b[39m \n\u001b[32m     89\u001b[39m \u001b[33m            if (rotinasExerciciosMap[rotinaNome]) \u001b[39m\u001b[38;5;130;01m{{\u001b[39;00m\n\u001b[32m     90\u001b[39m \u001b[33m                rotinasExerciciosMap[rotinaNome].forEach(exercicioNome => \u001b[39m\u001b[38;5;130;01m{{\u001b[39;00m\n\u001b[32m     91\u001b[39m \u001b[33m                    const option = document.createElement(\u001b[39m\u001b[33m'\u001b[39m\u001b[33moption\u001b[39m\u001b[33m'\u001b[39m\u001b[33m);\u001b[39m\n\u001b[32m     92\u001b[39m \u001b[33m                    option.value = exercicioNome;\u001b[39m\n\u001b[32m     93\u001b[39m \u001b[33m                    option.text = exercicioNome;\u001b[39m\n\u001b[32m     94\u001b[39m \u001b[33m                    exercicioSelect.appendChild(option);\u001b[39m\n\u001b[32m     95\u001b[39m \u001b[33m                \u001b[39m\u001b[38;5;130;01m}}\u001b[39;00m\u001b[33m);\u001b[39m\n\u001b[32m     96\u001b[39m \u001b[33m            \u001b[39m\u001b[38;5;130;01m}}\u001b[39;00m\n\u001b[32m     97\u001b[39m \u001b[33m        \u001b[39m\u001b[38;5;130;01m}}\u001b[39;00m\n\u001b[32m     98\u001b[39m \n\u001b[32m     99\u001b[39m \u001b[33m        function exercicioSelecionado() \u001b[39m\u001b[38;5;130;01m{{\u001b[39;00m\n\u001b[32m    100\u001b[39m \u001b[33m            const rotinaNome = rotinaSelect.value;\u001b[39m\n\u001b[32m    101\u001b[39m \u001b[33m            const exercicioNome = exercicioSelect.value;\u001b[39m\n\u001b[32m    102\u001b[39m \u001b[33m            serieTipoSelect.innerHTML = \u001b[39m\u001b[33m'\u001b[39m\u001b[33m<option value=\u001b[39m\u001b[33m\"\u001b[39m\u001b[33m\"\u001b[39m\u001b[33m>Selecione tipo de série</option>\u001b[39m\u001b[33m'\u001b[39m\u001b[33m;\u001b[39m\n\u001b[32m    103\u001b[39m \u001b[33m            graficoContainer.innerHTML = \u001b[39m\u001b[33m'\u001b[39m\u001b[33m'\u001b[39m\u001b[33m;\u001b[39m\n\u001b[32m    104\u001b[39m \n\u001b[32m    105\u001b[39m \u001b[33m            if (!rotinaNome || !exercicioNome) return;\u001b[39m\n\u001b[32m    106\u001b[39m \n\u001b[32m    107\u001b[39m \u001b[33m            // Popular tipos de séries dinamicamente para esta combinação\u001b[39m\n\u001b[32m    108\u001b[39m \u001b[33m            // Assumimos que `graficosPlotlySpecs` tem chaves como \u001b[39m\u001b[33m\"\u001b[39m\u001b[33mrotina||exercicio||periodo||serie_tipo\u001b[39m\u001b[33m\"\u001b[39m\n\u001b[32m    109\u001b[39m \u001b[33m            // Precisamos encontrar todas as \u001b[39m\u001b[33m\"\u001b[39m\u001b[33mserie_tipo\u001b[39m\u001b[33m\"\u001b[39m\u001b[33m para o rotina||exercicio||30dias (ou qualquer período)\u001b[39m\n\u001b[32m    110\u001b[39m \u001b[33m            const seriesSet = new Set();\u001b[39m\n\u001b[32m    111\u001b[39m \u001b[33m            const defaultPeriod = \u001b[39m\u001b[33m'\u001b[39m\u001b[33m30\u001b[39m\u001b[33m'\u001b[39m\u001b[33m; // Usar 30 dias para encontrar os tipos de séries\u001b[39m\n\u001b[32m    112\u001b[39m \u001b[33m            for (const chave in graficosPlotlySpecs) \u001b[39m\u001b[38;5;130;01m{{\u001b[39;00m\n\u001b[32m    113\u001b[39m \u001b[33m                const partes = chave.split(\u001b[39m\u001b[33m'\u001b[39m\u001b[33m||\u001b[39m\u001b[33m'\u001b[39m\u001b[33m);\u001b[39m\n\u001b[32m    114\u001b[39m \u001b[33m                if (partes[0] === rotinaNome && partes[1] === exercicioNome && partes[2] === defaultPeriod) \u001b[39m\u001b[38;5;130;01m{{\u001b[39;00m\n\u001b[32m    115\u001b[39m \u001b[33m                    seriesSet.add(partes[3]);\u001b[39m\n\u001b[32m    116\u001b[39m \u001b[33m                \u001b[39m\u001b[38;5;130;01m}}\u001b[39;00m\n\u001b[32m    117\u001b[39m \u001b[33m            \u001b[39m\u001b[38;5;130;01m}}\u001b[39;00m\n\u001b[32m    118\u001b[39m \u001b[33m            // Se não achar para 30, tenta para 60, depois 90, para garantir que populamos as séries\u001b[39m\n\u001b[32m    119\u001b[39m \u001b[33m            if (seriesSet.size === 0) \u001b[39m\u001b[38;5;130;01m{{\u001b[39;00m\n\u001b[32m    120\u001b[39m \u001b[33m                 for (const p of [\u001b[39m\u001b[33m'\u001b[39m\u001b[33m60\u001b[39m\u001b[33m'\u001b[39m\u001b[33m, \u001b[39m\u001b[33m'\u001b[39m\u001b[33m90\u001b[39m\u001b[33m'\u001b[39m\u001b[33m]) \u001b[39m\u001b[38;5;130;01m{{\u001b[39;00m\n\u001b[32m    121\u001b[39m \u001b[33m                    for (const chave in graficosPlotlySpecs) \u001b[39m\u001b[38;5;130;01m{{\u001b[39;00m\n\u001b[32m    122\u001b[39m \u001b[33m                        const partes = chave.split(\u001b[39m\u001b[33m'\u001b[39m\u001b[33m||\u001b[39m\u001b[33m'\u001b[39m\u001b[33m);\u001b[39m\n\u001b[32m    123\u001b[39m \u001b[33m                        if (partes[0] === rotinaNome && partes[1] === exercicioNome && partes[2] === p) \u001b[39m\u001b[38;5;130;01m{{\u001b[39;00m\n\u001b[32m    124\u001b[39m \u001b[33m                            seriesSet.add(partes[3]);\u001b[39m\n\u001b[32m    125\u001b[39m \u001b[33m                        \u001b[39m\u001b[38;5;130;01m}}\u001b[39;00m\n\u001b[32m    126\u001b[39m \u001b[33m                    \u001b[39m\u001b[38;5;130;01m}}\u001b[39;00m\n\u001b[32m    127\u001b[39m \u001b[33m                    if (seriesSet.size > 0) break;\u001b[39m\n\u001b[32m    128\u001b[39m \u001b[33m                 \u001b[39m\u001b[38;5;130;01m}}\u001b[39;00m\n\u001b[32m    129\u001b[39m \u001b[33m            \u001b[39m\u001b[38;5;130;01m}}\u001b[39;00m\n\u001b[32m    130\u001b[39m \n\u001b[32m    131\u001b[39m \n\u001b[32m    132\u001b[39m \u001b[33m            // Ordem preferencial para o dropdown de séries\u001b[39m\n\u001b[32m    133\u001b[39m \u001b[33m            const seriesOrder = [\u001b[39m\u001b[33m\"\u001b[39m\u001b[33mTop Set (Failure)\u001b[39m\u001b[33m\"\u001b[39m\u001b[33m, \u001b[39m\u001b[33m\"\u001b[39m\u001b[33mTodas as Séries\u001b[39m\u001b[33m\"\u001b[39m\u001b[33m];\u001b[39m\n\u001b[32m    134\u001b[39m \u001b[33m            const sortedSeries = Array.from(seriesSet).sort((a, b) => \u001b[39m\u001b[38;5;130;01m{{\u001b[39;00m\n\u001b[32m    135\u001b[39m \u001b[33m                let aIdx = seriesOrder.indexOf(a);\u001b[39m\n\u001b[32m    136\u001b[39m \u001b[33m                let bIdx = seriesOrder.indexOf(b);\u001b[39m\n\u001b[32m    137\u001b[39m \u001b[33m                if (a.startsWith(\u001b[39m\u001b[33m\"\u001b[39m\u001b[33mWork Set\u001b[39m\u001b[33m\"\u001b[39m\u001b[33m)) aIdx = seriesOrder.length + parseInt(a.split(\u001b[39m\u001b[33m\"\u001b[39m\u001b[33m \u001b[39m\u001b[33m\"\u001b[39m\u001b[33m)[2], 10);\u001b[39m\n\u001b[32m    138\u001b[39m \u001b[33m                if (b.startsWith(\u001b[39m\u001b[33m\"\u001b[39m\u001b[33mWork Set\u001b[39m\u001b[33m\"\u001b[39m\u001b[33m)) bIdx = seriesOrder.length + parseInt(b.split(\u001b[39m\u001b[33m\"\u001b[39m\u001b[33m \u001b[39m\u001b[33m\"\u001b[39m\u001b[33m)[2], 10);\u001b[39m\n\u001b[32m    139\u001b[39m \n\u001b[32m    140\u001b[39m \u001b[33m                aIdx = aIdx === -1 ? Infinity : aIdx;\u001b[39m\n\u001b[32m    141\u001b[39m \u001b[33m                bIdx = bIdx === -1 ? Infinity : bIdx;\u001b[39m\n\u001b[32m    142\u001b[39m \n\u001b[32m    143\u001b[39m \u001b[33m                return aIdx - bIdx;\u001b[39m\n\u001b[32m    144\u001b[39m \u001b[33m            \u001b[39m\u001b[38;5;130;01m}}\u001b[39;00m\u001b[33m);\u001b[39m\n\u001b[32m    145\u001b[39m \n\u001b[32m    146\u001b[39m \u001b[33m            sortedSeries.forEach(serieNome => \u001b[39m\u001b[38;5;130;01m{{\u001b[39;00m\n\u001b[32m    147\u001b[39m \u001b[33m                const option = document.createElement(\u001b[39m\u001b[33m'\u001b[39m\u001b[33moption\u001b[39m\u001b[33m'\u001b[39m\u001b[33m);\u001b[39m\n\u001b[32m    148\u001b[39m \u001b[33m                option.value = serieNome;\u001b[39m\n\u001b[32m    149\u001b[39m \u001b[33m                option.text = serieNome;\u001b[39m\n\u001b[32m    150\u001b[39m \u001b[33m                serieTipoSelect.appendChild(option);\u001b[39m\n\u001b[32m    151\u001b[39m \u001b[33m            \u001b[39m\u001b[38;5;130;01m}}\u001b[39;00m\u001b[33m);\u001b[39m\n\u001b[32m    152\u001b[39m \n\u001b[32m    153\u001b[39m \u001b[33m            // Definir padrão para o tipo de série (Top Set, se existir, senão Todas, senão o primeiro)\u001b[39m\n\u001b[32m    154\u001b[39m \u001b[33m            if (serieTipoSelect.options.length > 1) \u001b[39m\u001b[38;5;130;01m{{\u001b[39;00m\u001b[33m // Pelo menos uma opção além de \u001b[39m\u001b[33m\"\u001b[39m\u001b[33mSelecione...\u001b[39m\u001b[33m\"\u001b[39m\n\u001b[32m    155\u001b[39m \u001b[33m                if (seriesSet.has(\u001b[39m\u001b[33m\"\u001b[39m\u001b[33mTop Set (Failure)\u001b[39m\u001b[33m\"\u001b[39m\u001b[33m)) \u001b[39m\u001b[38;5;130;01m{{\u001b[39;00m\n\u001b[32m    156\u001b[39m \u001b[33m                    serieTipoSelect.value = \u001b[39m\u001b[33m\"\u001b[39m\u001b[33mTop Set (Failure)\u001b[39m\u001b[33m\"\u001b[39m\u001b[33m;\u001b[39m\n\u001b[32m    157\u001b[39m \u001b[33m                \u001b[39m\u001b[38;5;130;01m}}\u001b[39;00m\u001b[33m else if (seriesSet.has(\u001b[39m\u001b[33m\"\u001b[39m\u001b[33mTodas as Séries\u001b[39m\u001b[33m\"\u001b[39m\u001b[33m)) \u001b[39m\u001b[38;5;130;01m{{\u001b[39;00m\n\u001b[32m    158\u001b[39m \u001b[33m                    serieTipoSelect.value = \u001b[39m\u001b[33m\"\u001b[39m\u001b[33mTodas as Séries\u001b[39m\u001b[33m\"\u001b[39m\u001b[33m;\u001b[39m\n\u001b[32m    159\u001b[39m \u001b[33m                \u001b[39m\u001b[38;5;130;01m}}\u001b[39;00m\u001b[33m else \u001b[39m\u001b[38;5;130;01m{{\u001b[39;00m\n\u001b[32m    160\u001b[39m \u001b[33m                    serieTipoSelect.selectedIndex = 1; // Seleciona a primeira série disponível\u001b[39m\n\u001b[32m    161\u001b[39m \u001b[33m                \u001b[39m\u001b[38;5;130;01m}}\u001b[39;00m\n\u001b[32m    162\u001b[39m \u001b[33m            \u001b[39m\u001b[38;5;130;01m}}\u001b[39;00m\n\u001b[32m    163\u001b[39m \u001b[33m        \u001b[39m\u001b[38;5;130;01m}}\u001b[39;00m\n\u001b[32m    164\u001b[39m \n\u001b[32m    165\u001b[39m \u001b[33m        function carregarGrafico() \u001b[39m\u001b[38;5;130;01m{{\u001b[39;00m\n\u001b[32m    166\u001b[39m \u001b[33m            const rotina = rotinaSelect.value;\u001b[39m\n\u001b[32m    167\u001b[39m \u001b[33m            const exercicio = exercicioSelect.value;\u001b[39m\n\u001b[32m    168\u001b[39m \u001b[33m            const periodo = periodoSelect.value;\u001b[39m\n\u001b[32m    169\u001b[39m \u001b[33m            const serieTipo = serieTipoSelect.value;\u001b[39m\n\u001b[32m    170\u001b[39m \n\u001b[32m    171\u001b[39m \u001b[33m            if (!rotina || !exercicio || !periodo || !serieTipo) \u001b[39m\u001b[38;5;130;01m{{\u001b[39;00m\n\u001b[32m    172\u001b[39m \u001b[33m                graficoContainer.innerHTML = \u001b[39m\u001b[33m\"\u001b[39m\u001b[33m<p>Por favor, selecione todas as opções.</p>\u001b[39m\u001b[33m\"\u001b[39m\u001b[33m;\u001b[39m\n\u001b[32m    173\u001b[39m \u001b[33m                return;\u001b[39m\n\u001b[32m    174\u001b[39m \u001b[33m            \u001b[39m\u001b[38;5;130;01m}}\u001b[39;00m\n\u001b[32m    175\u001b[39m \n\u001b[32m    176\u001b[39m \u001b[33m            const chave = `$\u001b[39m\u001b[38;5;132;01m{\u001b[39;00mrotina\u001b[38;5;132;01m}\u001b[39;00m\u001b[33m||$\u001b[39m\u001b[38;5;132;01m{\u001b[39;00mexercicio\u001b[38;5;132;01m}\u001b[39;00m\u001b[33m||$\u001b[39m\u001b[38;5;132;01m{\u001b[39;00mperiodo\u001b[38;5;132;01m}\u001b[39;00m\u001b[33m||$\u001b[39m\u001b[38;5;132;01m{\u001b[39;00mserieTipo\u001b[38;5;132;01m}\u001b[39;00m\u001b[33m`;\u001b[39m\n\u001b[32m    177\u001b[39m \u001b[33m            graficoContainer.innerHTML = \u001b[39m\u001b[33m\"\u001b[39m\u001b[33m\"\u001b[39m\u001b[33m; // Limpar antes de carregar\u001b[39m\n\u001b[32m    178\u001b[39m \n\u001b[32m    179\u001b[39m \u001b[33m            if (graficosPlotlySpecs[chave]) \u001b[39m\u001b[38;5;130;01m{{\u001b[39;00m\n\u001b[32m    180\u001b[39m \u001b[33m                const graficoSpec = graficosPlotlySpecs[chave];\u001b[39m\n\u001b[32m    181\u001b[39m \u001b[33m                Plotly.newPlot(graficoContainer, graficoSpec.data, graficoSpec.layout, \u001b[39m\u001b[38;5;130;01m{{\u001b[39;00m\u001b[33mresponsive: true\u001b[39m\u001b[38;5;130;01m}}\u001b[39;00m\u001b[33m);\u001b[39m\n\u001b[32m    182\u001b[39m \u001b[33m            \u001b[39m\u001b[38;5;130;01m}}\u001b[39;00m\u001b[33m else \u001b[39m\u001b[38;5;130;01m{{\u001b[39;00m\n\u001b[32m    183\u001b[39m \u001b[33m                graficoContainer.innerHTML = \u001b[39m\u001b[33m\"\u001b[39m\u001b[33m<p>Dados não disponíveis para esta combinação.</p>\u001b[39m\u001b[33m\"\u001b[39m\u001b[33m;\u001b[39m\n\u001b[32m    184\u001b[39m \u001b[33m            \u001b[39m\u001b[38;5;130;01m}}\u001b[39;00m\n\u001b[32m    185\u001b[39m \u001b[33m        \u001b[39m\u001b[38;5;130;01m}}\u001b[39;00m\n\u001b[32m    186\u001b[39m \n\u001b[32m    187\u001b[39m \u001b[33m        // Inicializar o primeiro dropdown\u001b[39m\n\u001b[32m    188\u001b[39m \u001b[33m        rotinaSelecionada(); \u001b[39m\n\u001b[32m    189\u001b[39m \u001b[33m        // Definir valor padrão para período (opcional, já definido no HTML)\u001b[39m\n\u001b[32m    190\u001b[39m \u001b[33m        // periodoSelect.value = \u001b[39m\u001b[33m\"\u001b[39m\u001b[33m30\u001b[39m\u001b[33m\"\u001b[39m\u001b[33m; \u001b[39m\n\u001b[32m    191\u001b[39m \u001b[33m    </script>\u001b[39m\n\u001b[32m    192\u001b[39m \u001b[33m</body>\u001b[39m\n\u001b[32m    193\u001b[39m \u001b[33m</html>\u001b[39m\n\u001b[32m    194\u001b[39m \u001b[33m\"\"\"\u001b[39m\n\u001b[32m    196\u001b[39m \u001b[38;5;66;03m# with open(\"visualizacao_treino_interativa.html\", \"w\", encoding=\"utf-8\") as f:\u001b[39;00m\n\u001b[32m    197\u001b[39m \u001b[38;5;66;03m#    f.write(html_template)\u001b[39;00m\n",
      "\u001b[31mNameError\u001b[39m: name 'js_plotly_data' is not defined"
     ]
    }
   ],
   "source": [
    "html_template = f\"\"\"\n",
    "<!DOCTYPE html>\n",
    "<html lang=\"pt\">\n",
    "<head>\n",
    "    <meta charset=\"UTF-8\">\n",
    "    <meta name=\"viewport\" content=\"width=device-width, initial-scale=1.0\">\n",
    "    <title>Visualização de Treinos</title>\n",
    "    <script src=\"https://cdn.plot.ly/plotly-latest.min.js\"></script>\n",
    "    <style>\n",
    "        body {{ font-family: 'Segoe UI', Tahoma, Geneva, Verdana, sans-serif; background-color: #f4f6f8; color: #333; margin: 0; padding: 0; }}\n",
    "        header {{ background-color: #2d89ef; color: white; padding: 20px; text-align: center; }}\n",
    "        .container {{ max-width: 900px; margin: 30px auto; padding: 20px; background-color: white; box-shadow: 0 0 10px rgba(0,0,0,0.05); border-radius: 8px; }}\n",
    "        select, button {{ margin: 10px 5px 10px 0; padding: 10px; font-size: 16px; border: 1px solid #ccc; border-radius: 4px; }}\n",
    "        button {{ background-color: #2d89ef; color: white; cursor: pointer; }}\n",
    "        button:hover {{ background-color: #1a73e8; }}\n",
    "        .controls div {{ margin-bottom: 10px; }}\n",
    "        label {{ font-weight: bold; display: block; margin-top: 15px; margin-bottom: 5px; }}\n",
    "        #grafico-container {{ width: 100%; min-height: 500px; margin-top: 20px; border: 1px solid #eee; }}\n",
    "        .alert {{ background-color: #fff3cd; color: #664d03; border: 1px solid #ffc107; padding: 15px; border-radius: 5px; margin-bottom: 20px; font-size: 15px; }}\n",
    "    </style>\n",
    "</head>\n",
    "<body>\n",
    "    <header><h1>Visualização de Progresso nos Treinos</h1></header>\n",
    "    <div class=\"container\">\n",
    "        <div class=\"alert\">\n",
    "            <strong>Instruções:</strong> Selecione a rotina, exercício, período e tipo de série para visualizar o gráfico.\n",
    "            <br>Recomenda-se acessar em um computador ou ativar a \"versão para desktop\" no navegador do celular.\n",
    "        </div>\n",
    "\n",
    "        <div class=\"controls\">\n",
    "            <div>\n",
    "                <label for=\"rotina\">Rotina de Treino:</label>\n",
    "                <select id=\"rotina\" onchange=\"rotinaSelecionada()\">\n",
    "                    <option value=\"\">Selecione uma rotina</option>\n",
    "                </select>\n",
    "            </div>\n",
    "            <div>\n",
    "                <label for=\"exercicio\">Exercício:</label>\n",
    "                <select id=\"exercicio\" onchange=\"exercicioSelecionado()\">\n",
    "                    <option value=\"\">Selecione um exercício</option>\n",
    "                </select>\n",
    "            </div>\n",
    "            <div>\n",
    "                <label for=\"periodo\">Período:</label>\n",
    "                <select id=\"periodo\">\n",
    "                    <option value=\"30\">Últimos 30 dias</option>\n",
    "                    <option value=\"60\">Últimos 60 dias</option>\n",
    "                    <option value=\"90\">Últimos 90 dias</option>\n",
    "                </select>\n",
    "            </div>\n",
    "            <div>\n",
    "                <label for=\"serie_tipo\">Tipo de Série:</label>\n",
    "                <select id=\"serie_tipo\">\n",
    "                    {{/* Options serão populadas por JS */}}\n",
    "                </select>\n",
    "            </div>\n",
    "            <button onclick=\"carregarGrafico()\">Carregar / Atualizar Gráfico</button>\n",
    "        </div>\n",
    "        <div id=\"grafico-container\"></div>\n",
    "    </div>\n",
    "\n",
    "    <script>\n",
    "        // Dados JS das especificações dos gráficos\n",
    "        {js_plotly_data} // Isso agora é `graficosPlotlySpecs`\n",
    "\n",
    "        // Dicionário de rotinas e exercícios (para popular os dropdowns)\n",
    "        const rotinasExerciciosMap = {json.dumps(rotinas_exercicios)};\n",
    "\n",
    "        const rotinaSelect = document.getElementById('rotina');\n",
    "        const exercicioSelect = document.getElementById('exercicio');\n",
    "        const periodoSelect = document.getElementById('periodo');\n",
    "        const serieTipoSelect = document.getElementById('serie_tipo');\n",
    "        const graficoContainer = document.getElementById('grafico-container');\n",
    "\n",
    "        // Popular rotinas\n",
    "        for (const rotinaNome in rotinasExerciciosMap) {{\n",
    "            const option = document.createElement('option');\n",
    "            option.value = rotinaNome;\n",
    "            option.text = rotinaNome;\n",
    "            rotinaSelect.appendChild(option);\n",
    "        }}\n",
    "\n",
    "        function rotinaSelecionada() {{\n",
    "            const rotinaNome = rotinaSelect.value;\n",
    "            exercicioSelect.innerHTML = '<option value=\"\">Selecione um exercício</option>';\n",
    "            serieTipoSelect.innerHTML = '<option value=\"\">Selecione tipo de série</option>'; // Limpar séries também\n",
    "            graficoContainer.innerHTML = ''; // Limpar gráfico\n",
    "\n",
    "            if (rotinasExerciciosMap[rotinaNome]) {{\n",
    "                rotinasExerciciosMap[rotinaNome].forEach(exercicioNome => {{\n",
    "                    const option = document.createElement('option');\n",
    "                    option.value = exercicioNome;\n",
    "                    option.text = exercicioNome;\n",
    "                    exercicioSelect.appendChild(option);\n",
    "                }});\n",
    "            }}\n",
    "        }}\n",
    "\n",
    "        function exercicioSelecionado() {{\n",
    "            const rotinaNome = rotinaSelect.value;\n",
    "            const exercicioNome = exercicioSelect.value;\n",
    "            serieTipoSelect.innerHTML = '<option value=\"\">Selecione tipo de série</option>';\n",
    "            graficoContainer.innerHTML = '';\n",
    "\n",
    "            if (!rotinaNome || !exercicioNome) return;\n",
    "\n",
    "            // Popular tipos de séries dinamicamente para esta combinação\n",
    "            // Assumimos que `graficosPlotlySpecs` tem chaves como \"rotina||exercicio||periodo||serie_tipo\"\n",
    "            // Precisamos encontrar todas as \"serie_tipo\" para o rotina||exercicio||30dias (ou qualquer período)\n",
    "            const seriesSet = new Set();\n",
    "            const defaultPeriod = '30'; // Usar 30 dias para encontrar os tipos de séries\n",
    "            for (const chave in graficosPlotlySpecs) {{\n",
    "                const partes = chave.split('||');\n",
    "                if (partes[0] === rotinaNome && partes[1] === exercicioNome && partes[2] === defaultPeriod) {{\n",
    "                    seriesSet.add(partes[3]);\n",
    "                }}\n",
    "            }}\n",
    "            // Se não achar para 30, tenta para 60, depois 90, para garantir que populamos as séries\n",
    "            if (seriesSet.size === 0) {{\n",
    "                 for (const p of ['60', '90']) {{\n",
    "                    for (const chave in graficosPlotlySpecs) {{\n",
    "                        const partes = chave.split('||');\n",
    "                        if (partes[0] === rotinaNome && partes[1] === exercicioNome && partes[2] === p) {{\n",
    "                            seriesSet.add(partes[3]);\n",
    "                        }}\n",
    "                    }}\n",
    "                    if (seriesSet.size > 0) break;\n",
    "                 }}\n",
    "            }}\n",
    "\n",
    "\n",
    "            // Ordem preferencial para o dropdown de séries\n",
    "            const seriesOrder = [\"Top Set (Failure)\", \"Todas as Séries\"];\n",
    "            const sortedSeries = Array.from(seriesSet).sort((a, b) => {{\n",
    "                let aIdx = seriesOrder.indexOf(a);\n",
    "                let bIdx = seriesOrder.indexOf(b);\n",
    "                if (a.startsWith(\"Work Set\")) aIdx = seriesOrder.length + parseInt(a.split(\" \")[2], 10);\n",
    "                if (b.startsWith(\"Work Set\")) bIdx = seriesOrder.length + parseInt(b.split(\" \")[2], 10);\n",
    "                \n",
    "                aIdx = aIdx === -1 ? Infinity : aIdx;\n",
    "                bIdx = bIdx === -1 ? Infinity : bIdx;\n",
    "                \n",
    "                return aIdx - bIdx;\n",
    "            }});\n",
    "\n",
    "            sortedSeries.forEach(serieNome => {{\n",
    "                const option = document.createElement('option');\n",
    "                option.value = serieNome;\n",
    "                option.text = serieNome;\n",
    "                serieTipoSelect.appendChild(option);\n",
    "            }});\n",
    "            \n",
    "            // Definir padrão para o tipo de série (Top Set, se existir, senão Todas, senão o primeiro)\n",
    "            if (serieTipoSelect.options.length > 1) {{ // Pelo menos uma opção além de \"Selecione...\"\n",
    "                if (seriesSet.has(\"Top Set (Failure)\")) {{\n",
    "                    serieTipoSelect.value = \"Top Set (Failure)\";\n",
    "                }} else if (seriesSet.has(\"Todas as Séries\")) {{\n",
    "                    serieTipoSelect.value = \"Todas as Séries\";\n",
    "                }} else {{\n",
    "                    serieTipoSelect.selectedIndex = 1; // Seleciona a primeira série disponível\n",
    "                }}\n",
    "            }}\n",
    "        }}\n",
    "\n",
    "        function carregarGrafico() {{\n",
    "            const rotina = rotinaSelect.value;\n",
    "            const exercicio = exercicioSelect.value;\n",
    "            const periodo = periodoSelect.value;\n",
    "            const serieTipo = serieTipoSelect.value;\n",
    "\n",
    "            if (!rotina || !exercicio || !periodo || !serieTipo) {{\n",
    "                graficoContainer.innerHTML = \"<p>Por favor, selecione todas as opções.</p>\";\n",
    "                return;\n",
    "            }}\n",
    "\n",
    "            const chave = `${rotina}||${exercicio}||${periodo}||${serieTipo}`;\n",
    "            graficoContainer.innerHTML = \"\"; // Limpar antes de carregar\n",
    "\n",
    "            if (graficosPlotlySpecs[chave]) {{\n",
    "                const graficoSpec = graficosPlotlySpecs[chave];\n",
    "                Plotly.newPlot(graficoContainer, graficoSpec.data, graficoSpec.layout, {{responsive: true}});\n",
    "            }} else {{\n",
    "                graficoContainer.innerHTML = \"<p>Dados não disponíveis para esta combinação.</p>\";\n",
    "            }}\n",
    "        }}\n",
    "\n",
    "        // Inicializar o primeiro dropdown\n",
    "        rotinaSelecionada(); \n",
    "        // Definir valor padrão para período (opcional, já definido no HTML)\n",
    "        // periodoSelect.value = \"30\"; \n",
    "    </script>\n",
    "</body>\n",
    "</html>\n",
    "\"\"\"\n",
    "\n",
    "# with open(\"visualizacao_treino_interativa.html\", \"w\", encoding=\"utf-8\") as f:\n",
    "#    f.write(html_template)"
   ]
  }
 ],
 "metadata": {
  "kernelspec": {
   "display_name": "Python 3",
   "language": "python",
   "name": "python3"
  },
  "language_info": {
   "codemirror_mode": {
    "name": "ipython",
    "version": 3
   },
   "file_extension": ".py",
   "mimetype": "text/x-python",
   "name": "python",
   "nbconvert_exporter": "python",
   "pygments_lexer": "ipython3",
   "version": "3.11.9"
  }
 },
 "nbformat": 4,
 "nbformat_minor": 5
}
