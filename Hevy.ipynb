{
 "cells": [
  {
   "cell_type": "code",
   "execution_count": 1,
   "id": "fd8211af",
   "metadata": {},
   "outputs": [
    {
     "data": {
      "text/html": [
       "<div>\n",
       "<style scoped>\n",
       "    .dataframe tbody tr th:only-of-type {\n",
       "        vertical-align: middle;\n",
       "    }\n",
       "\n",
       "    .dataframe tbody tr th {\n",
       "        vertical-align: top;\n",
       "    }\n",
       "\n",
       "    .dataframe thead th {\n",
       "        text-align: right;\n",
       "    }\n",
       "</style>\n",
       "<table border=\"1\" class=\"dataframe\">\n",
       "  <thead>\n",
       "    <tr style=\"text-align: right;\">\n",
       "      <th></th>\n",
       "      <th>title</th>\n",
       "      <th>start_time</th>\n",
       "      <th>end_time</th>\n",
       "      <th>description</th>\n",
       "      <th>exercise_title</th>\n",
       "      <th>superset_id</th>\n",
       "      <th>exercise_notes</th>\n",
       "      <th>set_index</th>\n",
       "      <th>set_type</th>\n",
       "      <th>weight_kg</th>\n",
       "      <th>reps</th>\n",
       "      <th>distance_km</th>\n",
       "      <th>duration_seconds</th>\n",
       "      <th>rpe</th>\n",
       "    </tr>\n",
       "  </thead>\n",
       "  <tbody>\n",
       "    <tr>\n",
       "      <th>0</th>\n",
       "      <td>Legs sábado</td>\n",
       "      <td>5 Apr 2025, 08:11</td>\n",
       "      <td>5 Apr 2025, 09:40</td>\n",
       "      <td>NaN</td>\n",
       "      <td>Deadlift (Barbell)</td>\n",
       "      <td>NaN</td>\n",
       "      <td>NaN</td>\n",
       "      <td>0</td>\n",
       "      <td>normal</td>\n",
       "      <td>180.0</td>\n",
       "      <td>5</td>\n",
       "      <td>NaN</td>\n",
       "      <td>NaN</td>\n",
       "      <td>NaN</td>\n",
       "    </tr>\n",
       "    <tr>\n",
       "      <th>1</th>\n",
       "      <td>Legs sábado</td>\n",
       "      <td>5 Apr 2025, 08:11</td>\n",
       "      <td>5 Apr 2025, 09:40</td>\n",
       "      <td>NaN</td>\n",
       "      <td>Deadlift (Barbell)</td>\n",
       "      <td>NaN</td>\n",
       "      <td>NaN</td>\n",
       "      <td>1</td>\n",
       "      <td>failure</td>\n",
       "      <td>180.0</td>\n",
       "      <td>6</td>\n",
       "      <td>NaN</td>\n",
       "      <td>NaN</td>\n",
       "      <td>NaN</td>\n",
       "    </tr>\n",
       "    <tr>\n",
       "      <th>2</th>\n",
       "      <td>Legs sábado</td>\n",
       "      <td>5 Apr 2025, 08:11</td>\n",
       "      <td>5 Apr 2025, 09:40</td>\n",
       "      <td>NaN</td>\n",
       "      <td>Extensão Quadril Banco Romano</td>\n",
       "      <td>NaN</td>\n",
       "      <td>NaN</td>\n",
       "      <td>0</td>\n",
       "      <td>normal</td>\n",
       "      <td>50.0</td>\n",
       "      <td>9</td>\n",
       "      <td>NaN</td>\n",
       "      <td>NaN</td>\n",
       "      <td>NaN</td>\n",
       "    </tr>\n",
       "    <tr>\n",
       "      <th>3</th>\n",
       "      <td>Legs sábado</td>\n",
       "      <td>5 Apr 2025, 08:11</td>\n",
       "      <td>5 Apr 2025, 09:40</td>\n",
       "      <td>NaN</td>\n",
       "      <td>Extensão Quadril Banco Romano</td>\n",
       "      <td>NaN</td>\n",
       "      <td>NaN</td>\n",
       "      <td>1</td>\n",
       "      <td>failure</td>\n",
       "      <td>52.5</td>\n",
       "      <td>7</td>\n",
       "      <td>NaN</td>\n",
       "      <td>NaN</td>\n",
       "      <td>NaN</td>\n",
       "    </tr>\n",
       "    <tr>\n",
       "      <th>4</th>\n",
       "      <td>Legs sábado</td>\n",
       "      <td>5 Apr 2025, 08:11</td>\n",
       "      <td>5 Apr 2025, 09:40</td>\n",
       "      <td>NaN</td>\n",
       "      <td>Seated Leg Curl (Machine)</td>\n",
       "      <td>NaN</td>\n",
       "      <td>Pinos 4-6-4</td>\n",
       "      <td>0</td>\n",
       "      <td>normal</td>\n",
       "      <td>55.0</td>\n",
       "      <td>8</td>\n",
       "      <td>NaN</td>\n",
       "      <td>NaN</td>\n",
       "      <td>NaN</td>\n",
       "    </tr>\n",
       "    <tr>\n",
       "      <th>...</th>\n",
       "      <td>...</td>\n",
       "      <td>...</td>\n",
       "      <td>...</td>\n",
       "      <td>...</td>\n",
       "      <td>...</td>\n",
       "      <td>...</td>\n",
       "      <td>...</td>\n",
       "      <td>...</td>\n",
       "      <td>...</td>\n",
       "      <td>...</td>\n",
       "      <td>...</td>\n",
       "      <td>...</td>\n",
       "      <td>...</td>\n",
       "      <td>...</td>\n",
       "    </tr>\n",
       "    <tr>\n",
       "      <th>6341</th>\n",
       "      <td>Back day - segunda-feira</td>\n",
       "      <td>11 Dec 2023, 16:54</td>\n",
       "      <td>11 Dec 2023, 19:08</td>\n",
       "      <td>NaN</td>\n",
       "      <td>Calf Press (Machine)</td>\n",
       "      <td>NaN</td>\n",
       "      <td>NaN</td>\n",
       "      <td>1</td>\n",
       "      <td>normal</td>\n",
       "      <td>180.0</td>\n",
       "      <td>10</td>\n",
       "      <td>NaN</td>\n",
       "      <td>NaN</td>\n",
       "      <td>NaN</td>\n",
       "    </tr>\n",
       "    <tr>\n",
       "      <th>6342</th>\n",
       "      <td>Back day - segunda-feira</td>\n",
       "      <td>11 Dec 2023, 16:54</td>\n",
       "      <td>11 Dec 2023, 19:08</td>\n",
       "      <td>NaN</td>\n",
       "      <td>Calf Press (Machine)</td>\n",
       "      <td>NaN</td>\n",
       "      <td>NaN</td>\n",
       "      <td>2</td>\n",
       "      <td>failure</td>\n",
       "      <td>200.0</td>\n",
       "      <td>10</td>\n",
       "      <td>NaN</td>\n",
       "      <td>NaN</td>\n",
       "      <td>NaN</td>\n",
       "    </tr>\n",
       "    <tr>\n",
       "      <th>6343</th>\n",
       "      <td>Back day - segunda-feira</td>\n",
       "      <td>11 Dec 2023, 16:54</td>\n",
       "      <td>11 Dec 2023, 19:08</td>\n",
       "      <td>NaN</td>\n",
       "      <td>Cable Crunch</td>\n",
       "      <td>NaN</td>\n",
       "      <td>NaN</td>\n",
       "      <td>0</td>\n",
       "      <td>normal</td>\n",
       "      <td>70.0</td>\n",
       "      <td>14</td>\n",
       "      <td>NaN</td>\n",
       "      <td>NaN</td>\n",
       "      <td>NaN</td>\n",
       "    </tr>\n",
       "    <tr>\n",
       "      <th>6344</th>\n",
       "      <td>Back day - segunda-feira</td>\n",
       "      <td>11 Dec 2023, 16:54</td>\n",
       "      <td>11 Dec 2023, 19:08</td>\n",
       "      <td>NaN</td>\n",
       "      <td>Cable Crunch</td>\n",
       "      <td>NaN</td>\n",
       "      <td>NaN</td>\n",
       "      <td>1</td>\n",
       "      <td>normal</td>\n",
       "      <td>70.0</td>\n",
       "      <td>11</td>\n",
       "      <td>NaN</td>\n",
       "      <td>NaN</td>\n",
       "      <td>NaN</td>\n",
       "    </tr>\n",
       "    <tr>\n",
       "      <th>6345</th>\n",
       "      <td>Back day - segunda-feira</td>\n",
       "      <td>11 Dec 2023, 16:54</td>\n",
       "      <td>11 Dec 2023, 19:08</td>\n",
       "      <td>NaN</td>\n",
       "      <td>Cable Crunch</td>\n",
       "      <td>NaN</td>\n",
       "      <td>NaN</td>\n",
       "      <td>2</td>\n",
       "      <td>normal</td>\n",
       "      <td>75.0</td>\n",
       "      <td>7</td>\n",
       "      <td>NaN</td>\n",
       "      <td>NaN</td>\n",
       "      <td>NaN</td>\n",
       "    </tr>\n",
       "  </tbody>\n",
       "</table>\n",
       "<p>6346 rows × 14 columns</p>\n",
       "</div>"
      ],
      "text/plain": [
       "                         title          start_time            end_time  \\\n",
       "0                  Legs sábado   5 Apr 2025, 08:11   5 Apr 2025, 09:40   \n",
       "1                  Legs sábado   5 Apr 2025, 08:11   5 Apr 2025, 09:40   \n",
       "2                  Legs sábado   5 Apr 2025, 08:11   5 Apr 2025, 09:40   \n",
       "3                  Legs sábado   5 Apr 2025, 08:11   5 Apr 2025, 09:40   \n",
       "4                  Legs sábado   5 Apr 2025, 08:11   5 Apr 2025, 09:40   \n",
       "...                        ...                 ...                 ...   \n",
       "6341  Back day - segunda-feira  11 Dec 2023, 16:54  11 Dec 2023, 19:08   \n",
       "6342  Back day - segunda-feira  11 Dec 2023, 16:54  11 Dec 2023, 19:08   \n",
       "6343  Back day - segunda-feira  11 Dec 2023, 16:54  11 Dec 2023, 19:08   \n",
       "6344  Back day - segunda-feira  11 Dec 2023, 16:54  11 Dec 2023, 19:08   \n",
       "6345  Back day - segunda-feira  11 Dec 2023, 16:54  11 Dec 2023, 19:08   \n",
       "\n",
       "     description                 exercise_title  superset_id exercise_notes  \\\n",
       "0            NaN             Deadlift (Barbell)          NaN            NaN   \n",
       "1            NaN             Deadlift (Barbell)          NaN            NaN   \n",
       "2            NaN  Extensão Quadril Banco Romano          NaN            NaN   \n",
       "3            NaN  Extensão Quadril Banco Romano          NaN            NaN   \n",
       "4            NaN      Seated Leg Curl (Machine)          NaN    Pinos 4-6-4   \n",
       "...          ...                            ...          ...            ...   \n",
       "6341         NaN           Calf Press (Machine)          NaN            NaN   \n",
       "6342         NaN           Calf Press (Machine)          NaN            NaN   \n",
       "6343         NaN                   Cable Crunch          NaN            NaN   \n",
       "6344         NaN                   Cable Crunch          NaN            NaN   \n",
       "6345         NaN                   Cable Crunch          NaN            NaN   \n",
       "\n",
       "      set_index set_type  weight_kg  reps  distance_km  duration_seconds  rpe  \n",
       "0             0   normal      180.0     5          NaN               NaN  NaN  \n",
       "1             1  failure      180.0     6          NaN               NaN  NaN  \n",
       "2             0   normal       50.0     9          NaN               NaN  NaN  \n",
       "3             1  failure       52.5     7          NaN               NaN  NaN  \n",
       "4             0   normal       55.0     8          NaN               NaN  NaN  \n",
       "...         ...      ...        ...   ...          ...               ...  ...  \n",
       "6341          1   normal      180.0    10          NaN               NaN  NaN  \n",
       "6342          2  failure      200.0    10          NaN               NaN  NaN  \n",
       "6343          0   normal       70.0    14          NaN               NaN  NaN  \n",
       "6344          1   normal       70.0    11          NaN               NaN  NaN  \n",
       "6345          2   normal       75.0     7          NaN               NaN  NaN  \n",
       "\n",
       "[6346 rows x 14 columns]"
      ]
     },
     "execution_count": 1,
     "metadata": {},
     "output_type": "execute_result"
    }
   ],
   "source": [
    "import numpy as np\n",
    "import pandas as pd\n",
    "from datetime import datetime, timedelta\n",
    "import plotly.express as px\n",
    "import plotly.graph_objects as go\n",
    "\n",
    "workout_df = pd.read_csv('workouts.csv')\n",
    "workout_df"
   ]
  },
  {
   "cell_type": "code",
   "execution_count": 2,
   "id": "e45b8329",
   "metadata": {},
   "outputs": [
    {
     "data": {
      "text/plain": [
       "Index(['title', 'start_time', 'end_time', 'description', 'exercise_title',\n",
       "       'superset_id', 'exercise_notes', 'set_index', 'set_type', 'weight_kg',\n",
       "       'reps', 'distance_km', 'duration_seconds', 'rpe'],\n",
       "      dtype='object')"
      ]
     },
     "execution_count": 2,
     "metadata": {},
     "output_type": "execute_result"
    }
   ],
   "source": [
    "workout_df.columns"
   ]
  },
  {
   "cell_type": "code",
   "execution_count": 3,
   "id": "b4bc65c9",
   "metadata": {},
   "outputs": [
    {
     "data": {
      "text/plain": [
       "title                object\n",
       "start_time           object\n",
       "end_time             object\n",
       "description          object\n",
       "exercise_title       object\n",
       "superset_id         float64\n",
       "exercise_notes       object\n",
       "set_index             int64\n",
       "set_type             object\n",
       "weight_kg           float64\n",
       "reps                  int64\n",
       "distance_km         float64\n",
       "duration_seconds    float64\n",
       "rpe                 float64\n",
       "dtype: object"
      ]
     },
     "execution_count": 3,
     "metadata": {},
     "output_type": "execute_result"
    }
   ],
   "source": [
    "workout_df.dtypes"
   ]
  },
  {
   "cell_type": "code",
   "execution_count": 4,
   "id": "128d1b51",
   "metadata": {},
   "outputs": [
    {
     "data": {
      "text/html": [
       "<div>\n",
       "<style scoped>\n",
       "    .dataframe tbody tr th:only-of-type {\n",
       "        vertical-align: middle;\n",
       "    }\n",
       "\n",
       "    .dataframe tbody tr th {\n",
       "        vertical-align: top;\n",
       "    }\n",
       "\n",
       "    .dataframe thead th {\n",
       "        text-align: right;\n",
       "    }\n",
       "</style>\n",
       "<table border=\"1\" class=\"dataframe\">\n",
       "  <thead>\n",
       "    <tr style=\"text-align: right;\">\n",
       "      <th></th>\n",
       "      <th>superset_id</th>\n",
       "      <th>set_index</th>\n",
       "      <th>weight_kg</th>\n",
       "      <th>reps</th>\n",
       "      <th>distance_km</th>\n",
       "      <th>duration_seconds</th>\n",
       "      <th>rpe</th>\n",
       "    </tr>\n",
       "  </thead>\n",
       "  <tbody>\n",
       "    <tr>\n",
       "      <th>count</th>\n",
       "      <td>48.0</td>\n",
       "      <td>6346.000000</td>\n",
       "      <td>6334.000000</td>\n",
       "      <td>6346.000000</td>\n",
       "      <td>0.0</td>\n",
       "      <td>0.0</td>\n",
       "      <td>0.0</td>\n",
       "    </tr>\n",
       "    <tr>\n",
       "      <th>mean</th>\n",
       "      <td>0.0</td>\n",
       "      <td>1.172707</td>\n",
       "      <td>70.169452</td>\n",
       "      <td>6.810274</td>\n",
       "      <td>NaN</td>\n",
       "      <td>NaN</td>\n",
       "      <td>NaN</td>\n",
       "    </tr>\n",
       "    <tr>\n",
       "      <th>std</th>\n",
       "      <td>0.0</td>\n",
       "      <td>1.103238</td>\n",
       "      <td>54.627999</td>\n",
       "      <td>2.532424</td>\n",
       "      <td>NaN</td>\n",
       "      <td>NaN</td>\n",
       "      <td>NaN</td>\n",
       "    </tr>\n",
       "    <tr>\n",
       "      <th>min</th>\n",
       "      <td>0.0</td>\n",
       "      <td>0.000000</td>\n",
       "      <td>1.000000</td>\n",
       "      <td>1.000000</td>\n",
       "      <td>NaN</td>\n",
       "      <td>NaN</td>\n",
       "      <td>NaN</td>\n",
       "    </tr>\n",
       "    <tr>\n",
       "      <th>25%</th>\n",
       "      <td>0.0</td>\n",
       "      <td>0.000000</td>\n",
       "      <td>30.000000</td>\n",
       "      <td>5.000000</td>\n",
       "      <td>NaN</td>\n",
       "      <td>NaN</td>\n",
       "      <td>NaN</td>\n",
       "    </tr>\n",
       "    <tr>\n",
       "      <th>50%</th>\n",
       "      <td>0.0</td>\n",
       "      <td>1.000000</td>\n",
       "      <td>52.000000</td>\n",
       "      <td>7.000000</td>\n",
       "      <td>NaN</td>\n",
       "      <td>NaN</td>\n",
       "      <td>NaN</td>\n",
       "    </tr>\n",
       "    <tr>\n",
       "      <th>75%</th>\n",
       "      <td>0.0</td>\n",
       "      <td>2.000000</td>\n",
       "      <td>100.000000</td>\n",
       "      <td>8.000000</td>\n",
       "      <td>NaN</td>\n",
       "      <td>NaN</td>\n",
       "      <td>NaN</td>\n",
       "    </tr>\n",
       "    <tr>\n",
       "      <th>max</th>\n",
       "      <td>0.0</td>\n",
       "      <td>6.000000</td>\n",
       "      <td>330.000000</td>\n",
       "      <td>69.000000</td>\n",
       "      <td>NaN</td>\n",
       "      <td>NaN</td>\n",
       "      <td>NaN</td>\n",
       "    </tr>\n",
       "  </tbody>\n",
       "</table>\n",
       "</div>"
      ],
      "text/plain": [
       "       superset_id    set_index    weight_kg         reps  distance_km  \\\n",
       "count         48.0  6346.000000  6334.000000  6346.000000          0.0   \n",
       "mean           0.0     1.172707    70.169452     6.810274          NaN   \n",
       "std            0.0     1.103238    54.627999     2.532424          NaN   \n",
       "min            0.0     0.000000     1.000000     1.000000          NaN   \n",
       "25%            0.0     0.000000    30.000000     5.000000          NaN   \n",
       "50%            0.0     1.000000    52.000000     7.000000          NaN   \n",
       "75%            0.0     2.000000   100.000000     8.000000          NaN   \n",
       "max            0.0     6.000000   330.000000    69.000000          NaN   \n",
       "\n",
       "       duration_seconds  rpe  \n",
       "count               0.0  0.0  \n",
       "mean                NaN  NaN  \n",
       "std                 NaN  NaN  \n",
       "min                 NaN  NaN  \n",
       "25%                 NaN  NaN  \n",
       "50%                 NaN  NaN  \n",
       "75%                 NaN  NaN  \n",
       "max                 NaN  NaN  "
      ]
     },
     "execution_count": 4,
     "metadata": {},
     "output_type": "execute_result"
    }
   ],
   "source": [
    "workout_df.describe()"
   ]
  },
  {
   "cell_type": "code",
   "execution_count": null,
   "id": "0def0813",
   "metadata": {},
   "outputs": [],
   "source": []
  },
  {
   "cell_type": "code",
   "execution_count": 5,
   "id": "332450c0",
   "metadata": {},
   "outputs": [
    {
     "data": {
      "text/html": [
       "<div>\n",
       "<style scoped>\n",
       "    .dataframe tbody tr th:only-of-type {\n",
       "        vertical-align: middle;\n",
       "    }\n",
       "\n",
       "    .dataframe tbody tr th {\n",
       "        vertical-align: top;\n",
       "    }\n",
       "\n",
       "    .dataframe thead th {\n",
       "        text-align: right;\n",
       "    }\n",
       "</style>\n",
       "<table border=\"1\" class=\"dataframe\">\n",
       "  <thead>\n",
       "    <tr style=\"text-align: right;\">\n",
       "      <th></th>\n",
       "      <th>title</th>\n",
       "      <th>date</th>\n",
       "      <th>exercise_title</th>\n",
       "      <th>set_index</th>\n",
       "      <th>set_type</th>\n",
       "      <th>weight_kg</th>\n",
       "      <th>reps</th>\n",
       "    </tr>\n",
       "  </thead>\n",
       "  <tbody>\n",
       "    <tr>\n",
       "      <th>0</th>\n",
       "      <td>Legs sábado</td>\n",
       "      <td>5 Apr 2025, 08:11</td>\n",
       "      <td>Deadlift (Barbell)</td>\n",
       "      <td>0</td>\n",
       "      <td>normal</td>\n",
       "      <td>180.0</td>\n",
       "      <td>5</td>\n",
       "    </tr>\n",
       "    <tr>\n",
       "      <th>1</th>\n",
       "      <td>Legs sábado</td>\n",
       "      <td>5 Apr 2025, 08:11</td>\n",
       "      <td>Deadlift (Barbell)</td>\n",
       "      <td>1</td>\n",
       "      <td>failure</td>\n",
       "      <td>180.0</td>\n",
       "      <td>6</td>\n",
       "    </tr>\n",
       "    <tr>\n",
       "      <th>2</th>\n",
       "      <td>Legs sábado</td>\n",
       "      <td>5 Apr 2025, 08:11</td>\n",
       "      <td>Extensão Quadril Banco Romano</td>\n",
       "      <td>0</td>\n",
       "      <td>normal</td>\n",
       "      <td>50.0</td>\n",
       "      <td>9</td>\n",
       "    </tr>\n",
       "    <tr>\n",
       "      <th>3</th>\n",
       "      <td>Legs sábado</td>\n",
       "      <td>5 Apr 2025, 08:11</td>\n",
       "      <td>Extensão Quadril Banco Romano</td>\n",
       "      <td>1</td>\n",
       "      <td>failure</td>\n",
       "      <td>52.5</td>\n",
       "      <td>7</td>\n",
       "    </tr>\n",
       "    <tr>\n",
       "      <th>4</th>\n",
       "      <td>Legs sábado</td>\n",
       "      <td>5 Apr 2025, 08:11</td>\n",
       "      <td>Seated Leg Curl (Machine)</td>\n",
       "      <td>0</td>\n",
       "      <td>normal</td>\n",
       "      <td>55.0</td>\n",
       "      <td>8</td>\n",
       "    </tr>\n",
       "    <tr>\n",
       "      <th>...</th>\n",
       "      <td>...</td>\n",
       "      <td>...</td>\n",
       "      <td>...</td>\n",
       "      <td>...</td>\n",
       "      <td>...</td>\n",
       "      <td>...</td>\n",
       "      <td>...</td>\n",
       "    </tr>\n",
       "    <tr>\n",
       "      <th>6341</th>\n",
       "      <td>Back day - segunda-feira</td>\n",
       "      <td>11 Dec 2023, 16:54</td>\n",
       "      <td>Calf Press (Machine)</td>\n",
       "      <td>1</td>\n",
       "      <td>normal</td>\n",
       "      <td>180.0</td>\n",
       "      <td>10</td>\n",
       "    </tr>\n",
       "    <tr>\n",
       "      <th>6342</th>\n",
       "      <td>Back day - segunda-feira</td>\n",
       "      <td>11 Dec 2023, 16:54</td>\n",
       "      <td>Calf Press (Machine)</td>\n",
       "      <td>2</td>\n",
       "      <td>failure</td>\n",
       "      <td>200.0</td>\n",
       "      <td>10</td>\n",
       "    </tr>\n",
       "    <tr>\n",
       "      <th>6343</th>\n",
       "      <td>Back day - segunda-feira</td>\n",
       "      <td>11 Dec 2023, 16:54</td>\n",
       "      <td>Cable Crunch</td>\n",
       "      <td>0</td>\n",
       "      <td>normal</td>\n",
       "      <td>70.0</td>\n",
       "      <td>14</td>\n",
       "    </tr>\n",
       "    <tr>\n",
       "      <th>6344</th>\n",
       "      <td>Back day - segunda-feira</td>\n",
       "      <td>11 Dec 2023, 16:54</td>\n",
       "      <td>Cable Crunch</td>\n",
       "      <td>1</td>\n",
       "      <td>normal</td>\n",
       "      <td>70.0</td>\n",
       "      <td>11</td>\n",
       "    </tr>\n",
       "    <tr>\n",
       "      <th>6345</th>\n",
       "      <td>Back day - segunda-feira</td>\n",
       "      <td>11 Dec 2023, 16:54</td>\n",
       "      <td>Cable Crunch</td>\n",
       "      <td>2</td>\n",
       "      <td>normal</td>\n",
       "      <td>75.0</td>\n",
       "      <td>7</td>\n",
       "    </tr>\n",
       "  </tbody>\n",
       "</table>\n",
       "<p>6346 rows × 7 columns</p>\n",
       "</div>"
      ],
      "text/plain": [
       "                         title                date  \\\n",
       "0                  Legs sábado   5 Apr 2025, 08:11   \n",
       "1                  Legs sábado   5 Apr 2025, 08:11   \n",
       "2                  Legs sábado   5 Apr 2025, 08:11   \n",
       "3                  Legs sábado   5 Apr 2025, 08:11   \n",
       "4                  Legs sábado   5 Apr 2025, 08:11   \n",
       "...                        ...                 ...   \n",
       "6341  Back day - segunda-feira  11 Dec 2023, 16:54   \n",
       "6342  Back day - segunda-feira  11 Dec 2023, 16:54   \n",
       "6343  Back day - segunda-feira  11 Dec 2023, 16:54   \n",
       "6344  Back day - segunda-feira  11 Dec 2023, 16:54   \n",
       "6345  Back day - segunda-feira  11 Dec 2023, 16:54   \n",
       "\n",
       "                     exercise_title  set_index set_type  weight_kg  reps  \n",
       "0                Deadlift (Barbell)          0   normal      180.0     5  \n",
       "1                Deadlift (Barbell)          1  failure      180.0     6  \n",
       "2     Extensão Quadril Banco Romano          0   normal       50.0     9  \n",
       "3     Extensão Quadril Banco Romano          1  failure       52.5     7  \n",
       "4         Seated Leg Curl (Machine)          0   normal       55.0     8  \n",
       "...                             ...        ...      ...        ...   ...  \n",
       "6341           Calf Press (Machine)          1   normal      180.0    10  \n",
       "6342           Calf Press (Machine)          2  failure      200.0    10  \n",
       "6343                   Cable Crunch          0   normal       70.0    14  \n",
       "6344                   Cable Crunch          1   normal       70.0    11  \n",
       "6345                   Cable Crunch          2   normal       75.0     7  \n",
       "\n",
       "[6346 rows x 7 columns]"
      ]
     },
     "execution_count": 5,
     "metadata": {},
     "output_type": "execute_result"
    }
   ],
   "source": [
    "workout_df_columns_filtered = workout_df[['title','start_time', 'exercise_title', 'set_index', 'set_type', 'weight_kg', 'reps']]\n",
    "workout_df_columns_filtered = workout_df_columns_filtered.rename(columns={'start_time': 'date'})\n",
    "workout_df_columns_filtered"
   ]
  },
  {
   "cell_type": "code",
   "execution_count": 17,
   "id": "cffa9eac",
   "metadata": {},
   "outputs": [
    {
     "data": {
      "text/html": [
       "<div>\n",
       "<style scoped>\n",
       "    .dataframe tbody tr th:only-of-type {\n",
       "        vertical-align: middle;\n",
       "    }\n",
       "\n",
       "    .dataframe tbody tr th {\n",
       "        vertical-align: top;\n",
       "    }\n",
       "\n",
       "    .dataframe thead th {\n",
       "        text-align: right;\n",
       "    }\n",
       "</style>\n",
       "<table border=\"1\" class=\"dataframe\">\n",
       "  <thead>\n",
       "    <tr style=\"text-align: right;\">\n",
       "      <th></th>\n",
       "      <th>title</th>\n",
       "      <th>date</th>\n",
       "      <th>exercise_title</th>\n",
       "      <th>set_index</th>\n",
       "      <th>set_type</th>\n",
       "      <th>weight_kg</th>\n",
       "      <th>reps</th>\n",
       "    </tr>\n",
       "  </thead>\n",
       "  <tbody>\n",
       "    <tr>\n",
       "      <th>0</th>\n",
       "      <td>Legs sábado</td>\n",
       "      <td>2025-04-05</td>\n",
       "      <td>Deadlift (Barbell)</td>\n",
       "      <td>0</td>\n",
       "      <td>normal</td>\n",
       "      <td>180.0</td>\n",
       "      <td>5</td>\n",
       "    </tr>\n",
       "    <tr>\n",
       "      <th>1</th>\n",
       "      <td>Legs sábado</td>\n",
       "      <td>2025-04-05</td>\n",
       "      <td>Deadlift (Barbell)</td>\n",
       "      <td>1</td>\n",
       "      <td>failure</td>\n",
       "      <td>180.0</td>\n",
       "      <td>6</td>\n",
       "    </tr>\n",
       "    <tr>\n",
       "      <th>2</th>\n",
       "      <td>Legs sábado</td>\n",
       "      <td>2025-04-05</td>\n",
       "      <td>Extensão Quadril Banco Romano</td>\n",
       "      <td>0</td>\n",
       "      <td>normal</td>\n",
       "      <td>50.0</td>\n",
       "      <td>9</td>\n",
       "    </tr>\n",
       "    <tr>\n",
       "      <th>3</th>\n",
       "      <td>Legs sábado</td>\n",
       "      <td>2025-04-05</td>\n",
       "      <td>Extensão Quadril Banco Romano</td>\n",
       "      <td>1</td>\n",
       "      <td>failure</td>\n",
       "      <td>52.5</td>\n",
       "      <td>7</td>\n",
       "    </tr>\n",
       "    <tr>\n",
       "      <th>4</th>\n",
       "      <td>Legs sábado</td>\n",
       "      <td>2025-04-05</td>\n",
       "      <td>Seated Leg Curl (Machine)</td>\n",
       "      <td>0</td>\n",
       "      <td>normal</td>\n",
       "      <td>55.0</td>\n",
       "      <td>8</td>\n",
       "    </tr>\n",
       "    <tr>\n",
       "      <th>...</th>\n",
       "      <td>...</td>\n",
       "      <td>...</td>\n",
       "      <td>...</td>\n",
       "      <td>...</td>\n",
       "      <td>...</td>\n",
       "      <td>...</td>\n",
       "      <td>...</td>\n",
       "    </tr>\n",
       "    <tr>\n",
       "      <th>302</th>\n",
       "      <td>Legs sábado</td>\n",
       "      <td>2025-03-08</td>\n",
       "      <td>Leg Extension (Machine)</td>\n",
       "      <td>1</td>\n",
       "      <td>normal</td>\n",
       "      <td>120.0</td>\n",
       "      <td>8</td>\n",
       "    </tr>\n",
       "    <tr>\n",
       "      <th>303</th>\n",
       "      <td>Legs sábado</td>\n",
       "      <td>2025-03-08</td>\n",
       "      <td>Leg Extension (Machine)</td>\n",
       "      <td>2</td>\n",
       "      <td>failure</td>\n",
       "      <td>122.5</td>\n",
       "      <td>6</td>\n",
       "    </tr>\n",
       "    <tr>\n",
       "      <th>304</th>\n",
       "      <td>Legs sábado</td>\n",
       "      <td>2025-03-08</td>\n",
       "      <td>Seated Calf Raise</td>\n",
       "      <td>0</td>\n",
       "      <td>normal</td>\n",
       "      <td>85.0</td>\n",
       "      <td>11</td>\n",
       "    </tr>\n",
       "    <tr>\n",
       "      <th>305</th>\n",
       "      <td>Legs sábado</td>\n",
       "      <td>2025-03-08</td>\n",
       "      <td>Seated Calf Raise</td>\n",
       "      <td>1</td>\n",
       "      <td>normal</td>\n",
       "      <td>87.5</td>\n",
       "      <td>10</td>\n",
       "    </tr>\n",
       "    <tr>\n",
       "      <th>306</th>\n",
       "      <td>Legs sábado</td>\n",
       "      <td>2025-03-08</td>\n",
       "      <td>Seated Calf Raise</td>\n",
       "      <td>2</td>\n",
       "      <td>failure</td>\n",
       "      <td>90.0</td>\n",
       "      <td>9</td>\n",
       "    </tr>\n",
       "  </tbody>\n",
       "</table>\n",
       "<p>307 rows × 7 columns</p>\n",
       "</div>"
      ],
      "text/plain": [
       "           title        date                 exercise_title  set_index  \\\n",
       "0    Legs sábado  2025-04-05             Deadlift (Barbell)          0   \n",
       "1    Legs sábado  2025-04-05             Deadlift (Barbell)          1   \n",
       "2    Legs sábado  2025-04-05  Extensão Quadril Banco Romano          0   \n",
       "3    Legs sábado  2025-04-05  Extensão Quadril Banco Romano          1   \n",
       "4    Legs sábado  2025-04-05      Seated Leg Curl (Machine)          0   \n",
       "..           ...         ...                            ...        ...   \n",
       "302  Legs sábado  2025-03-08        Leg Extension (Machine)          1   \n",
       "303  Legs sábado  2025-03-08        Leg Extension (Machine)          2   \n",
       "304  Legs sábado  2025-03-08              Seated Calf Raise          0   \n",
       "305  Legs sábado  2025-03-08              Seated Calf Raise          1   \n",
       "306  Legs sábado  2025-03-08              Seated Calf Raise          2   \n",
       "\n",
       "    set_type  weight_kg  reps  \n",
       "0     normal      180.0     5  \n",
       "1    failure      180.0     6  \n",
       "2     normal       50.0     9  \n",
       "3    failure       52.5     7  \n",
       "4     normal       55.0     8  \n",
       "..       ...        ...   ...  \n",
       "302   normal      120.0     8  \n",
       "303  failure      122.5     6  \n",
       "304   normal       85.0    11  \n",
       "305   normal       87.5    10  \n",
       "306  failure       90.0     9  \n",
       "\n",
       "[307 rows x 7 columns]"
      ]
     },
     "execution_count": 17,
     "metadata": {},
     "output_type": "execute_result"
    }
   ],
   "source": [
    "workout_df_columns_filtered['date'] = pd.to_datetime(workout_df_columns_filtered['date'], format=\"%d %b %Y, %H:%M\")\n",
    "# workout_df_columns_filtered['date'] = workout_df_columns_filtered['date'].dt.date\n",
    "workout_df_columns_filtered['date'] = workout_df_columns_filtered['date'].dt.date\n",
    "# Data atual\n",
    "hoje = datetime.now().date()\n",
    "\n",
    "# Data limite\n",
    "limite = hoje - timedelta(days=30)\n",
    "\n",
    "# Filtrando\n",
    "latest_30_days = workout_df_columns_filtered[workout_df_columns_filtered['date'] >= limite]\n",
    "latest_30_days"
   ]
  },
  {
   "cell_type": "code",
   "execution_count": 7,
   "id": "bd5fd1b6",
   "metadata": {},
   "outputs": [
    {
     "data": {
      "text/html": [
       "<div>\n",
       "<style scoped>\n",
       "    .dataframe tbody tr th:only-of-type {\n",
       "        vertical-align: middle;\n",
       "    }\n",
       "\n",
       "    .dataframe tbody tr th {\n",
       "        vertical-align: top;\n",
       "    }\n",
       "\n",
       "    .dataframe thead th {\n",
       "        text-align: right;\n",
       "    }\n",
       "</style>\n",
       "<table border=\"1\" class=\"dataframe\">\n",
       "  <thead>\n",
       "    <tr style=\"text-align: right;\">\n",
       "      <th></th>\n",
       "      <th>title</th>\n",
       "      <th>date</th>\n",
       "      <th>exercise_title</th>\n",
       "      <th>set_index</th>\n",
       "      <th>set_type</th>\n",
       "      <th>weight_kg</th>\n",
       "      <th>reps</th>\n",
       "    </tr>\n",
       "  </thead>\n",
       "  <tbody>\n",
       "    <tr>\n",
       "      <th>0</th>\n",
       "      <td>Legs sábado</td>\n",
       "      <td>2025-04-05</td>\n",
       "      <td>Deadlift (Barbell)</td>\n",
       "      <td>0</td>\n",
       "      <td>normal</td>\n",
       "      <td>180.0</td>\n",
       "      <td>5</td>\n",
       "    </tr>\n",
       "    <tr>\n",
       "      <th>1</th>\n",
       "      <td>Legs sábado</td>\n",
       "      <td>2025-04-05</td>\n",
       "      <td>Deadlift (Barbell)</td>\n",
       "      <td>1</td>\n",
       "      <td>failure</td>\n",
       "      <td>180.0</td>\n",
       "      <td>6</td>\n",
       "    </tr>\n",
       "    <tr>\n",
       "      <th>71</th>\n",
       "      <td>Legs sábado</td>\n",
       "      <td>2025-03-29</td>\n",
       "      <td>Deadlift (Barbell)</td>\n",
       "      <td>0</td>\n",
       "      <td>normal</td>\n",
       "      <td>200.0</td>\n",
       "      <td>3</td>\n",
       "    </tr>\n",
       "    <tr>\n",
       "      <th>72</th>\n",
       "      <td>Legs sábado</td>\n",
       "      <td>2025-03-29</td>\n",
       "      <td>Deadlift (Barbell)</td>\n",
       "      <td>1</td>\n",
       "      <td>failure</td>\n",
       "      <td>180.0</td>\n",
       "      <td>5</td>\n",
       "    </tr>\n",
       "    <tr>\n",
       "      <th>142</th>\n",
       "      <td>Legs sábado</td>\n",
       "      <td>2025-03-22</td>\n",
       "      <td>Deadlift (Barbell)</td>\n",
       "      <td>0</td>\n",
       "      <td>normal</td>\n",
       "      <td>200.0</td>\n",
       "      <td>4</td>\n",
       "    </tr>\n",
       "    <tr>\n",
       "      <th>143</th>\n",
       "      <td>Legs sábado</td>\n",
       "      <td>2025-03-22</td>\n",
       "      <td>Deadlift (Barbell)</td>\n",
       "      <td>1</td>\n",
       "      <td>failure</td>\n",
       "      <td>200.0</td>\n",
       "      <td>3</td>\n",
       "    </tr>\n",
       "    <tr>\n",
       "      <th>217</th>\n",
       "      <td>Legs sábado</td>\n",
       "      <td>2025-03-15</td>\n",
       "      <td>Deadlift (Barbell)</td>\n",
       "      <td>0</td>\n",
       "      <td>normal</td>\n",
       "      <td>200.0</td>\n",
       "      <td>5</td>\n",
       "    </tr>\n",
       "    <tr>\n",
       "      <th>218</th>\n",
       "      <td>Legs sábado</td>\n",
       "      <td>2025-03-15</td>\n",
       "      <td>Deadlift (Barbell)</td>\n",
       "      <td>1</td>\n",
       "      <td>failure</td>\n",
       "      <td>200.0</td>\n",
       "      <td>3</td>\n",
       "    </tr>\n",
       "    <tr>\n",
       "      <th>294</th>\n",
       "      <td>Legs sábado</td>\n",
       "      <td>2025-03-08</td>\n",
       "      <td>Deadlift (Barbell)</td>\n",
       "      <td>0</td>\n",
       "      <td>normal</td>\n",
       "      <td>200.0</td>\n",
       "      <td>5</td>\n",
       "    </tr>\n",
       "    <tr>\n",
       "      <th>295</th>\n",
       "      <td>Legs sábado</td>\n",
       "      <td>2025-03-08</td>\n",
       "      <td>Deadlift (Barbell)</td>\n",
       "      <td>1</td>\n",
       "      <td>failure</td>\n",
       "      <td>200.0</td>\n",
       "      <td>3</td>\n",
       "    </tr>\n",
       "  </tbody>\n",
       "</table>\n",
       "</div>"
      ],
      "text/plain": [
       "           title        date      exercise_title  set_index set_type  \\\n",
       "0    Legs sábado  2025-04-05  Deadlift (Barbell)          0   normal   \n",
       "1    Legs sábado  2025-04-05  Deadlift (Barbell)          1  failure   \n",
       "71   Legs sábado  2025-03-29  Deadlift (Barbell)          0   normal   \n",
       "72   Legs sábado  2025-03-29  Deadlift (Barbell)          1  failure   \n",
       "142  Legs sábado  2025-03-22  Deadlift (Barbell)          0   normal   \n",
       "143  Legs sábado  2025-03-22  Deadlift (Barbell)          1  failure   \n",
       "217  Legs sábado  2025-03-15  Deadlift (Barbell)          0   normal   \n",
       "218  Legs sábado  2025-03-15  Deadlift (Barbell)          1  failure   \n",
       "294  Legs sábado  2025-03-08  Deadlift (Barbell)          0   normal   \n",
       "295  Legs sábado  2025-03-08  Deadlift (Barbell)          1  failure   \n",
       "\n",
       "     weight_kg  reps  \n",
       "0        180.0     5  \n",
       "1        180.0     6  \n",
       "71       200.0     3  \n",
       "72       180.0     5  \n",
       "142      200.0     4  \n",
       "143      200.0     3  \n",
       "217      200.0     5  \n",
       "218      200.0     3  \n",
       "294      200.0     5  \n",
       "295      200.0     3  "
      ]
     },
     "execution_count": 7,
     "metadata": {},
     "output_type": "execute_result"
    }
   ],
   "source": [
    "latest_30_days[(latest_30_days['title'] == 'Legs sábado') & (latest_30_days['exercise_title'] == 'Deadlift (Barbell)')]"
   ]
  },
  {
   "cell_type": "code",
   "execution_count": 8,
   "id": "15675731",
   "metadata": {},
   "outputs": [
    {
     "data": {
      "application/vnd.plotly.v1+json": {
       "config": {
        "plotlyServerURL": "https://plot.ly"
       },
       "data": [
        {
         "hovertemplate": "Data=%{x}<br>Peso (kg)=%{y}<br>reps=%{text}<br>Série=%{marker.color}<extra></extra>",
         "legendgroup": "",
         "marker": {
          "color": {
           "bdata": "AAEAAQABAAEAAQ==",
           "dtype": "i1"
          },
          "coloraxis": "coloraxis",
          "symbol": "circle"
         },
         "mode": "lines+markers+text",
         "name": "",
         "orientation": "v",
         "showlegend": false,
         "text": {
          "bdata": "AAAAAAAAFEAAAAAAAAAYQAAAAAAAAAhAAAAAAAAAFEAAAAAAAAAQQAAAAAAAAAhAAAAAAAAAFEAAAAAAAAAIQAAAAAAAABRAAAAAAAAACEA=",
          "dtype": "f8"
         },
         "textposition": "top center",
         "type": "scatter",
         "x": [
          "2025-04-05",
          "2025-04-05",
          "2025-03-29",
          "2025-03-29",
          "2025-03-22",
          "2025-03-22",
          "2025-03-15",
          "2025-03-15",
          "2025-03-08",
          "2025-03-08"
         ],
         "xaxis": "x",
         "y": {
          "bdata": "AAAAAACAZkAAAAAAAIBmQAAAAAAAAGlAAAAAAACAZkAAAAAAAABpQAAAAAAAAGlAAAAAAAAAaUAAAAAAAABpQAAAAAAAAGlAAAAAAAAAaUA=",
          "dtype": "f8"
         },
         "yaxis": "y"
        }
       ],
       "layout": {
        "coloraxis": {
         "colorbar": {
          "title": {
           "text": "Série"
          }
         },
         "colorscale": [
          [
           0,
           "#0d0887"
          ],
          [
           0.1111111111111111,
           "#46039f"
          ],
          [
           0.2222222222222222,
           "#7201a8"
          ],
          [
           0.3333333333333333,
           "#9c179e"
          ],
          [
           0.4444444444444444,
           "#bd3786"
          ],
          [
           0.5555555555555556,
           "#d8576b"
          ],
          [
           0.6666666666666666,
           "#ed7953"
          ],
          [
           0.7777777777777778,
           "#fb9f3a"
          ],
          [
           0.8888888888888888,
           "#fdca26"
          ],
          [
           1,
           "#f0f921"
          ]
         ]
        },
        "legend": {
         "tracegroupgap": 0
        },
        "template": {
         "data": {
          "bar": [
           {
            "error_x": {
             "color": "#2a3f5f"
            },
            "error_y": {
             "color": "#2a3f5f"
            },
            "marker": {
             "line": {
              "color": "#E5ECF6",
              "width": 0.5
             },
             "pattern": {
              "fillmode": "overlay",
              "size": 10,
              "solidity": 0.2
             }
            },
            "type": "bar"
           }
          ],
          "barpolar": [
           {
            "marker": {
             "line": {
              "color": "#E5ECF6",
              "width": 0.5
             },
             "pattern": {
              "fillmode": "overlay",
              "size": 10,
              "solidity": 0.2
             }
            },
            "type": "barpolar"
           }
          ],
          "carpet": [
           {
            "aaxis": {
             "endlinecolor": "#2a3f5f",
             "gridcolor": "white",
             "linecolor": "white",
             "minorgridcolor": "white",
             "startlinecolor": "#2a3f5f"
            },
            "baxis": {
             "endlinecolor": "#2a3f5f",
             "gridcolor": "white",
             "linecolor": "white",
             "minorgridcolor": "white",
             "startlinecolor": "#2a3f5f"
            },
            "type": "carpet"
           }
          ],
          "choropleth": [
           {
            "colorbar": {
             "outlinewidth": 0,
             "ticks": ""
            },
            "type": "choropleth"
           }
          ],
          "contour": [
           {
            "colorbar": {
             "outlinewidth": 0,
             "ticks": ""
            },
            "colorscale": [
             [
              0,
              "#0d0887"
             ],
             [
              0.1111111111111111,
              "#46039f"
             ],
             [
              0.2222222222222222,
              "#7201a8"
             ],
             [
              0.3333333333333333,
              "#9c179e"
             ],
             [
              0.4444444444444444,
              "#bd3786"
             ],
             [
              0.5555555555555556,
              "#d8576b"
             ],
             [
              0.6666666666666666,
              "#ed7953"
             ],
             [
              0.7777777777777778,
              "#fb9f3a"
             ],
             [
              0.8888888888888888,
              "#fdca26"
             ],
             [
              1,
              "#f0f921"
             ]
            ],
            "type": "contour"
           }
          ],
          "contourcarpet": [
           {
            "colorbar": {
             "outlinewidth": 0,
             "ticks": ""
            },
            "type": "contourcarpet"
           }
          ],
          "heatmap": [
           {
            "colorbar": {
             "outlinewidth": 0,
             "ticks": ""
            },
            "colorscale": [
             [
              0,
              "#0d0887"
             ],
             [
              0.1111111111111111,
              "#46039f"
             ],
             [
              0.2222222222222222,
              "#7201a8"
             ],
             [
              0.3333333333333333,
              "#9c179e"
             ],
             [
              0.4444444444444444,
              "#bd3786"
             ],
             [
              0.5555555555555556,
              "#d8576b"
             ],
             [
              0.6666666666666666,
              "#ed7953"
             ],
             [
              0.7777777777777778,
              "#fb9f3a"
             ],
             [
              0.8888888888888888,
              "#fdca26"
             ],
             [
              1,
              "#f0f921"
             ]
            ],
            "type": "heatmap"
           }
          ],
          "histogram": [
           {
            "marker": {
             "pattern": {
              "fillmode": "overlay",
              "size": 10,
              "solidity": 0.2
             }
            },
            "type": "histogram"
           }
          ],
          "histogram2d": [
           {
            "colorbar": {
             "outlinewidth": 0,
             "ticks": ""
            },
            "colorscale": [
             [
              0,
              "#0d0887"
             ],
             [
              0.1111111111111111,
              "#46039f"
             ],
             [
              0.2222222222222222,
              "#7201a8"
             ],
             [
              0.3333333333333333,
              "#9c179e"
             ],
             [
              0.4444444444444444,
              "#bd3786"
             ],
             [
              0.5555555555555556,
              "#d8576b"
             ],
             [
              0.6666666666666666,
              "#ed7953"
             ],
             [
              0.7777777777777778,
              "#fb9f3a"
             ],
             [
              0.8888888888888888,
              "#fdca26"
             ],
             [
              1,
              "#f0f921"
             ]
            ],
            "type": "histogram2d"
           }
          ],
          "histogram2dcontour": [
           {
            "colorbar": {
             "outlinewidth": 0,
             "ticks": ""
            },
            "colorscale": [
             [
              0,
              "#0d0887"
             ],
             [
              0.1111111111111111,
              "#46039f"
             ],
             [
              0.2222222222222222,
              "#7201a8"
             ],
             [
              0.3333333333333333,
              "#9c179e"
             ],
             [
              0.4444444444444444,
              "#bd3786"
             ],
             [
              0.5555555555555556,
              "#d8576b"
             ],
             [
              0.6666666666666666,
              "#ed7953"
             ],
             [
              0.7777777777777778,
              "#fb9f3a"
             ],
             [
              0.8888888888888888,
              "#fdca26"
             ],
             [
              1,
              "#f0f921"
             ]
            ],
            "type": "histogram2dcontour"
           }
          ],
          "mesh3d": [
           {
            "colorbar": {
             "outlinewidth": 0,
             "ticks": ""
            },
            "type": "mesh3d"
           }
          ],
          "parcoords": [
           {
            "line": {
             "colorbar": {
              "outlinewidth": 0,
              "ticks": ""
             }
            },
            "type": "parcoords"
           }
          ],
          "pie": [
           {
            "automargin": true,
            "type": "pie"
           }
          ],
          "scatter": [
           {
            "fillpattern": {
             "fillmode": "overlay",
             "size": 10,
             "solidity": 0.2
            },
            "type": "scatter"
           }
          ],
          "scatter3d": [
           {
            "line": {
             "colorbar": {
              "outlinewidth": 0,
              "ticks": ""
             }
            },
            "marker": {
             "colorbar": {
              "outlinewidth": 0,
              "ticks": ""
             }
            },
            "type": "scatter3d"
           }
          ],
          "scattercarpet": [
           {
            "marker": {
             "colorbar": {
              "outlinewidth": 0,
              "ticks": ""
             }
            },
            "type": "scattercarpet"
           }
          ],
          "scattergeo": [
           {
            "marker": {
             "colorbar": {
              "outlinewidth": 0,
              "ticks": ""
             }
            },
            "type": "scattergeo"
           }
          ],
          "scattergl": [
           {
            "marker": {
             "colorbar": {
              "outlinewidth": 0,
              "ticks": ""
             }
            },
            "type": "scattergl"
           }
          ],
          "scattermap": [
           {
            "marker": {
             "colorbar": {
              "outlinewidth": 0,
              "ticks": ""
             }
            },
            "type": "scattermap"
           }
          ],
          "scattermapbox": [
           {
            "marker": {
             "colorbar": {
              "outlinewidth": 0,
              "ticks": ""
             }
            },
            "type": "scattermapbox"
           }
          ],
          "scatterpolar": [
           {
            "marker": {
             "colorbar": {
              "outlinewidth": 0,
              "ticks": ""
             }
            },
            "type": "scatterpolar"
           }
          ],
          "scatterpolargl": [
           {
            "marker": {
             "colorbar": {
              "outlinewidth": 0,
              "ticks": ""
             }
            },
            "type": "scatterpolargl"
           }
          ],
          "scatterternary": [
           {
            "marker": {
             "colorbar": {
              "outlinewidth": 0,
              "ticks": ""
             }
            },
            "type": "scatterternary"
           }
          ],
          "surface": [
           {
            "colorbar": {
             "outlinewidth": 0,
             "ticks": ""
            },
            "colorscale": [
             [
              0,
              "#0d0887"
             ],
             [
              0.1111111111111111,
              "#46039f"
             ],
             [
              0.2222222222222222,
              "#7201a8"
             ],
             [
              0.3333333333333333,
              "#9c179e"
             ],
             [
              0.4444444444444444,
              "#bd3786"
             ],
             [
              0.5555555555555556,
              "#d8576b"
             ],
             [
              0.6666666666666666,
              "#ed7953"
             ],
             [
              0.7777777777777778,
              "#fb9f3a"
             ],
             [
              0.8888888888888888,
              "#fdca26"
             ],
             [
              1,
              "#f0f921"
             ]
            ],
            "type": "surface"
           }
          ],
          "table": [
           {
            "cells": {
             "fill": {
              "color": "#EBF0F8"
             },
             "line": {
              "color": "white"
             }
            },
            "header": {
             "fill": {
              "color": "#C8D4E3"
             },
             "line": {
              "color": "white"
             }
            },
            "type": "table"
           }
          ]
         },
         "layout": {
          "annotationdefaults": {
           "arrowcolor": "#2a3f5f",
           "arrowhead": 0,
           "arrowwidth": 1
          },
          "autotypenumbers": "strict",
          "coloraxis": {
           "colorbar": {
            "outlinewidth": 0,
            "ticks": ""
           }
          },
          "colorscale": {
           "diverging": [
            [
             0,
             "#8e0152"
            ],
            [
             0.1,
             "#c51b7d"
            ],
            [
             0.2,
             "#de77ae"
            ],
            [
             0.3,
             "#f1b6da"
            ],
            [
             0.4,
             "#fde0ef"
            ],
            [
             0.5,
             "#f7f7f7"
            ],
            [
             0.6,
             "#e6f5d0"
            ],
            [
             0.7,
             "#b8e186"
            ],
            [
             0.8,
             "#7fbc41"
            ],
            [
             0.9,
             "#4d9221"
            ],
            [
             1,
             "#276419"
            ]
           ],
           "sequential": [
            [
             0,
             "#0d0887"
            ],
            [
             0.1111111111111111,
             "#46039f"
            ],
            [
             0.2222222222222222,
             "#7201a8"
            ],
            [
             0.3333333333333333,
             "#9c179e"
            ],
            [
             0.4444444444444444,
             "#bd3786"
            ],
            [
             0.5555555555555556,
             "#d8576b"
            ],
            [
             0.6666666666666666,
             "#ed7953"
            ],
            [
             0.7777777777777778,
             "#fb9f3a"
            ],
            [
             0.8888888888888888,
             "#fdca26"
            ],
            [
             1,
             "#f0f921"
            ]
           ],
           "sequentialminus": [
            [
             0,
             "#0d0887"
            ],
            [
             0.1111111111111111,
             "#46039f"
            ],
            [
             0.2222222222222222,
             "#7201a8"
            ],
            [
             0.3333333333333333,
             "#9c179e"
            ],
            [
             0.4444444444444444,
             "#bd3786"
            ],
            [
             0.5555555555555556,
             "#d8576b"
            ],
            [
             0.6666666666666666,
             "#ed7953"
            ],
            [
             0.7777777777777778,
             "#fb9f3a"
            ],
            [
             0.8888888888888888,
             "#fdca26"
            ],
            [
             1,
             "#f0f921"
            ]
           ]
          },
          "colorway": [
           "#636efa",
           "#EF553B",
           "#00cc96",
           "#ab63fa",
           "#FFA15A",
           "#19d3f3",
           "#FF6692",
           "#B6E880",
           "#FF97FF",
           "#FECB52"
          ],
          "font": {
           "color": "#2a3f5f"
          },
          "geo": {
           "bgcolor": "white",
           "lakecolor": "white",
           "landcolor": "#E5ECF6",
           "showlakes": true,
           "showland": true,
           "subunitcolor": "white"
          },
          "hoverlabel": {
           "align": "left"
          },
          "hovermode": "closest",
          "mapbox": {
           "style": "light"
          },
          "paper_bgcolor": "white",
          "plot_bgcolor": "#E5ECF6",
          "polar": {
           "angularaxis": {
            "gridcolor": "white",
            "linecolor": "white",
            "ticks": ""
           },
           "bgcolor": "#E5ECF6",
           "radialaxis": {
            "gridcolor": "white",
            "linecolor": "white",
            "ticks": ""
           }
          },
          "scene": {
           "xaxis": {
            "backgroundcolor": "#E5ECF6",
            "gridcolor": "white",
            "gridwidth": 2,
            "linecolor": "white",
            "showbackground": true,
            "ticks": "",
            "zerolinecolor": "white"
           },
           "yaxis": {
            "backgroundcolor": "#E5ECF6",
            "gridcolor": "white",
            "gridwidth": 2,
            "linecolor": "white",
            "showbackground": true,
            "ticks": "",
            "zerolinecolor": "white"
           },
           "zaxis": {
            "backgroundcolor": "#E5ECF6",
            "gridcolor": "white",
            "gridwidth": 2,
            "linecolor": "white",
            "showbackground": true,
            "ticks": "",
            "zerolinecolor": "white"
           }
          },
          "shapedefaults": {
           "line": {
            "color": "#2a3f5f"
           }
          },
          "ternary": {
           "aaxis": {
            "gridcolor": "white",
            "linecolor": "white",
            "ticks": ""
           },
           "baxis": {
            "gridcolor": "white",
            "linecolor": "white",
            "ticks": ""
           },
           "bgcolor": "#E5ECF6",
           "caxis": {
            "gridcolor": "white",
            "linecolor": "white",
            "ticks": ""
           }
          },
          "title": {
           "x": 0.05
          },
          "xaxis": {
           "automargin": true,
           "gridcolor": "white",
           "linecolor": "white",
           "ticks": "",
           "title": {
            "standoff": 15
           },
           "zerolinecolor": "white",
           "zerolinewidth": 2
          },
          "yaxis": {
           "automargin": true,
           "gridcolor": "white",
           "linecolor": "white",
           "ticks": "",
           "title": {
            "standoff": 15
           },
           "zerolinecolor": "white",
           "zerolinewidth": 2
          }
         }
        },
        "title": {
         "text": "Evolução no Deadlift (Barbell) - Legs sábado"
        },
        "xaxis": {
         "anchor": "y",
         "domain": [
          0,
          1
         ],
         "title": {
          "text": "Data"
         }
        },
        "yaxis": {
         "anchor": "x",
         "domain": [
          0,
          1
         ],
         "title": {
          "text": "Peso (kg)"
         }
        }
       }
      }
     },
     "metadata": {},
     "output_type": "display_data"
    }
   ],
   "source": [
    "# Filtra os dados\n",
    "deadlift_df = latest_30_days[\n",
    "    (latest_30_days['title'] == 'Legs sábado') & \n",
    "    (latest_30_days['exercise_title'] == 'Deadlift (Barbell)')\n",
    "]\n",
    "\n",
    "# Gráfico com os dois sets\n",
    "fig = px.scatter(\n",
    "    deadlift_df,\n",
    "    x='date',\n",
    "    y='weight_kg',\n",
    "    color='set_index',\n",
    "    text='reps',\n",
    "    labels={'weight_kg': 'Peso (kg)', 'date': 'Data', 'set_index': 'Série'},\n",
    "    title='Evolução no Deadlift (Barbell) - Legs sábado',\n",
    ")\n",
    "\n",
    "fig.update_traces(mode='lines+markers+text', textposition='top center')\n",
    "fig.show()"
   ]
  },
  {
   "cell_type": "code",
   "execution_count": 9,
   "id": "55b52151",
   "metadata": {},
   "outputs": [
    {
     "data": {
      "application/vnd.plotly.v1+json": {
       "config": {
        "plotlyServerURL": "https://plot.ly"
       },
       "data": [
        {
         "mode": "lines+markers+text",
         "name": "Série 1",
         "text": {
          "bdata": "AAAAAAAAFEAAAAAAAAAIQAAAAAAAABBAAAAAAAAAFEAAAAAAAAAUQA==",
          "dtype": "f8"
         },
         "textposition": "top center",
         "type": "scatter",
         "x": [
          "2025-04-05",
          "2025-03-29",
          "2025-03-22",
          "2025-03-15",
          "2025-03-08"
         ],
         "y": {
          "bdata": "AAAAAACAZkAAAAAAAABpQAAAAAAAAGlAAAAAAAAAaUAAAAAAAABpQA==",
          "dtype": "f8"
         }
        },
        {
         "mode": "lines+markers+text",
         "name": "Série 2",
         "text": {
          "bdata": "AAAAAAAAGEAAAAAAAAAUQAAAAAAAAAhAAAAAAAAACEAAAAAAAAAIQA==",
          "dtype": "f8"
         },
         "textposition": "top center",
         "type": "scatter",
         "x": [
          "2025-04-05",
          "2025-03-29",
          "2025-03-22",
          "2025-03-15",
          "2025-03-08"
         ],
         "y": {
          "bdata": "AAAAAACAZkAAAAAAAIBmQAAAAAAAAGlAAAAAAAAAaUAAAAAAAABpQA==",
          "dtype": "f8"
         }
        }
       ],
       "layout": {
        "template": {
         "data": {
          "bar": [
           {
            "error_x": {
             "color": "#2a3f5f"
            },
            "error_y": {
             "color": "#2a3f5f"
            },
            "marker": {
             "line": {
              "color": "#E5ECF6",
              "width": 0.5
             },
             "pattern": {
              "fillmode": "overlay",
              "size": 10,
              "solidity": 0.2
             }
            },
            "type": "bar"
           }
          ],
          "barpolar": [
           {
            "marker": {
             "line": {
              "color": "#E5ECF6",
              "width": 0.5
             },
             "pattern": {
              "fillmode": "overlay",
              "size": 10,
              "solidity": 0.2
             }
            },
            "type": "barpolar"
           }
          ],
          "carpet": [
           {
            "aaxis": {
             "endlinecolor": "#2a3f5f",
             "gridcolor": "white",
             "linecolor": "white",
             "minorgridcolor": "white",
             "startlinecolor": "#2a3f5f"
            },
            "baxis": {
             "endlinecolor": "#2a3f5f",
             "gridcolor": "white",
             "linecolor": "white",
             "minorgridcolor": "white",
             "startlinecolor": "#2a3f5f"
            },
            "type": "carpet"
           }
          ],
          "choropleth": [
           {
            "colorbar": {
             "outlinewidth": 0,
             "ticks": ""
            },
            "type": "choropleth"
           }
          ],
          "contour": [
           {
            "colorbar": {
             "outlinewidth": 0,
             "ticks": ""
            },
            "colorscale": [
             [
              0,
              "#0d0887"
             ],
             [
              0.1111111111111111,
              "#46039f"
             ],
             [
              0.2222222222222222,
              "#7201a8"
             ],
             [
              0.3333333333333333,
              "#9c179e"
             ],
             [
              0.4444444444444444,
              "#bd3786"
             ],
             [
              0.5555555555555556,
              "#d8576b"
             ],
             [
              0.6666666666666666,
              "#ed7953"
             ],
             [
              0.7777777777777778,
              "#fb9f3a"
             ],
             [
              0.8888888888888888,
              "#fdca26"
             ],
             [
              1,
              "#f0f921"
             ]
            ],
            "type": "contour"
           }
          ],
          "contourcarpet": [
           {
            "colorbar": {
             "outlinewidth": 0,
             "ticks": ""
            },
            "type": "contourcarpet"
           }
          ],
          "heatmap": [
           {
            "colorbar": {
             "outlinewidth": 0,
             "ticks": ""
            },
            "colorscale": [
             [
              0,
              "#0d0887"
             ],
             [
              0.1111111111111111,
              "#46039f"
             ],
             [
              0.2222222222222222,
              "#7201a8"
             ],
             [
              0.3333333333333333,
              "#9c179e"
             ],
             [
              0.4444444444444444,
              "#bd3786"
             ],
             [
              0.5555555555555556,
              "#d8576b"
             ],
             [
              0.6666666666666666,
              "#ed7953"
             ],
             [
              0.7777777777777778,
              "#fb9f3a"
             ],
             [
              0.8888888888888888,
              "#fdca26"
             ],
             [
              1,
              "#f0f921"
             ]
            ],
            "type": "heatmap"
           }
          ],
          "histogram": [
           {
            "marker": {
             "pattern": {
              "fillmode": "overlay",
              "size": 10,
              "solidity": 0.2
             }
            },
            "type": "histogram"
           }
          ],
          "histogram2d": [
           {
            "colorbar": {
             "outlinewidth": 0,
             "ticks": ""
            },
            "colorscale": [
             [
              0,
              "#0d0887"
             ],
             [
              0.1111111111111111,
              "#46039f"
             ],
             [
              0.2222222222222222,
              "#7201a8"
             ],
             [
              0.3333333333333333,
              "#9c179e"
             ],
             [
              0.4444444444444444,
              "#bd3786"
             ],
             [
              0.5555555555555556,
              "#d8576b"
             ],
             [
              0.6666666666666666,
              "#ed7953"
             ],
             [
              0.7777777777777778,
              "#fb9f3a"
             ],
             [
              0.8888888888888888,
              "#fdca26"
             ],
             [
              1,
              "#f0f921"
             ]
            ],
            "type": "histogram2d"
           }
          ],
          "histogram2dcontour": [
           {
            "colorbar": {
             "outlinewidth": 0,
             "ticks": ""
            },
            "colorscale": [
             [
              0,
              "#0d0887"
             ],
             [
              0.1111111111111111,
              "#46039f"
             ],
             [
              0.2222222222222222,
              "#7201a8"
             ],
             [
              0.3333333333333333,
              "#9c179e"
             ],
             [
              0.4444444444444444,
              "#bd3786"
             ],
             [
              0.5555555555555556,
              "#d8576b"
             ],
             [
              0.6666666666666666,
              "#ed7953"
             ],
             [
              0.7777777777777778,
              "#fb9f3a"
             ],
             [
              0.8888888888888888,
              "#fdca26"
             ],
             [
              1,
              "#f0f921"
             ]
            ],
            "type": "histogram2dcontour"
           }
          ],
          "mesh3d": [
           {
            "colorbar": {
             "outlinewidth": 0,
             "ticks": ""
            },
            "type": "mesh3d"
           }
          ],
          "parcoords": [
           {
            "line": {
             "colorbar": {
              "outlinewidth": 0,
              "ticks": ""
             }
            },
            "type": "parcoords"
           }
          ],
          "pie": [
           {
            "automargin": true,
            "type": "pie"
           }
          ],
          "scatter": [
           {
            "fillpattern": {
             "fillmode": "overlay",
             "size": 10,
             "solidity": 0.2
            },
            "type": "scatter"
           }
          ],
          "scatter3d": [
           {
            "line": {
             "colorbar": {
              "outlinewidth": 0,
              "ticks": ""
             }
            },
            "marker": {
             "colorbar": {
              "outlinewidth": 0,
              "ticks": ""
             }
            },
            "type": "scatter3d"
           }
          ],
          "scattercarpet": [
           {
            "marker": {
             "colorbar": {
              "outlinewidth": 0,
              "ticks": ""
             }
            },
            "type": "scattercarpet"
           }
          ],
          "scattergeo": [
           {
            "marker": {
             "colorbar": {
              "outlinewidth": 0,
              "ticks": ""
             }
            },
            "type": "scattergeo"
           }
          ],
          "scattergl": [
           {
            "marker": {
             "colorbar": {
              "outlinewidth": 0,
              "ticks": ""
             }
            },
            "type": "scattergl"
           }
          ],
          "scattermap": [
           {
            "marker": {
             "colorbar": {
              "outlinewidth": 0,
              "ticks": ""
             }
            },
            "type": "scattermap"
           }
          ],
          "scattermapbox": [
           {
            "marker": {
             "colorbar": {
              "outlinewidth": 0,
              "ticks": ""
             }
            },
            "type": "scattermapbox"
           }
          ],
          "scatterpolar": [
           {
            "marker": {
             "colorbar": {
              "outlinewidth": 0,
              "ticks": ""
             }
            },
            "type": "scatterpolar"
           }
          ],
          "scatterpolargl": [
           {
            "marker": {
             "colorbar": {
              "outlinewidth": 0,
              "ticks": ""
             }
            },
            "type": "scatterpolargl"
           }
          ],
          "scatterternary": [
           {
            "marker": {
             "colorbar": {
              "outlinewidth": 0,
              "ticks": ""
             }
            },
            "type": "scatterternary"
           }
          ],
          "surface": [
           {
            "colorbar": {
             "outlinewidth": 0,
             "ticks": ""
            },
            "colorscale": [
             [
              0,
              "#0d0887"
             ],
             [
              0.1111111111111111,
              "#46039f"
             ],
             [
              0.2222222222222222,
              "#7201a8"
             ],
             [
              0.3333333333333333,
              "#9c179e"
             ],
             [
              0.4444444444444444,
              "#bd3786"
             ],
             [
              0.5555555555555556,
              "#d8576b"
             ],
             [
              0.6666666666666666,
              "#ed7953"
             ],
             [
              0.7777777777777778,
              "#fb9f3a"
             ],
             [
              0.8888888888888888,
              "#fdca26"
             ],
             [
              1,
              "#f0f921"
             ]
            ],
            "type": "surface"
           }
          ],
          "table": [
           {
            "cells": {
             "fill": {
              "color": "#EBF0F8"
             },
             "line": {
              "color": "white"
             }
            },
            "header": {
             "fill": {
              "color": "#C8D4E3"
             },
             "line": {
              "color": "white"
             }
            },
            "type": "table"
           }
          ]
         },
         "layout": {
          "annotationdefaults": {
           "arrowcolor": "#2a3f5f",
           "arrowhead": 0,
           "arrowwidth": 1
          },
          "autotypenumbers": "strict",
          "coloraxis": {
           "colorbar": {
            "outlinewidth": 0,
            "ticks": ""
           }
          },
          "colorscale": {
           "diverging": [
            [
             0,
             "#8e0152"
            ],
            [
             0.1,
             "#c51b7d"
            ],
            [
             0.2,
             "#de77ae"
            ],
            [
             0.3,
             "#f1b6da"
            ],
            [
             0.4,
             "#fde0ef"
            ],
            [
             0.5,
             "#f7f7f7"
            ],
            [
             0.6,
             "#e6f5d0"
            ],
            [
             0.7,
             "#b8e186"
            ],
            [
             0.8,
             "#7fbc41"
            ],
            [
             0.9,
             "#4d9221"
            ],
            [
             1,
             "#276419"
            ]
           ],
           "sequential": [
            [
             0,
             "#0d0887"
            ],
            [
             0.1111111111111111,
             "#46039f"
            ],
            [
             0.2222222222222222,
             "#7201a8"
            ],
            [
             0.3333333333333333,
             "#9c179e"
            ],
            [
             0.4444444444444444,
             "#bd3786"
            ],
            [
             0.5555555555555556,
             "#d8576b"
            ],
            [
             0.6666666666666666,
             "#ed7953"
            ],
            [
             0.7777777777777778,
             "#fb9f3a"
            ],
            [
             0.8888888888888888,
             "#fdca26"
            ],
            [
             1,
             "#f0f921"
            ]
           ],
           "sequentialminus": [
            [
             0,
             "#0d0887"
            ],
            [
             0.1111111111111111,
             "#46039f"
            ],
            [
             0.2222222222222222,
             "#7201a8"
            ],
            [
             0.3333333333333333,
             "#9c179e"
            ],
            [
             0.4444444444444444,
             "#bd3786"
            ],
            [
             0.5555555555555556,
             "#d8576b"
            ],
            [
             0.6666666666666666,
             "#ed7953"
            ],
            [
             0.7777777777777778,
             "#fb9f3a"
            ],
            [
             0.8888888888888888,
             "#fdca26"
            ],
            [
             1,
             "#f0f921"
            ]
           ]
          },
          "colorway": [
           "#636efa",
           "#EF553B",
           "#00cc96",
           "#ab63fa",
           "#FFA15A",
           "#19d3f3",
           "#FF6692",
           "#B6E880",
           "#FF97FF",
           "#FECB52"
          ],
          "font": {
           "color": "#2a3f5f"
          },
          "geo": {
           "bgcolor": "white",
           "lakecolor": "white",
           "landcolor": "#E5ECF6",
           "showlakes": true,
           "showland": true,
           "subunitcolor": "white"
          },
          "hoverlabel": {
           "align": "left"
          },
          "hovermode": "closest",
          "mapbox": {
           "style": "light"
          },
          "paper_bgcolor": "white",
          "plot_bgcolor": "#E5ECF6",
          "polar": {
           "angularaxis": {
            "gridcolor": "white",
            "linecolor": "white",
            "ticks": ""
           },
           "bgcolor": "#E5ECF6",
           "radialaxis": {
            "gridcolor": "white",
            "linecolor": "white",
            "ticks": ""
           }
          },
          "scene": {
           "xaxis": {
            "backgroundcolor": "#E5ECF6",
            "gridcolor": "white",
            "gridwidth": 2,
            "linecolor": "white",
            "showbackground": true,
            "ticks": "",
            "zerolinecolor": "white"
           },
           "yaxis": {
            "backgroundcolor": "#E5ECF6",
            "gridcolor": "white",
            "gridwidth": 2,
            "linecolor": "white",
            "showbackground": true,
            "ticks": "",
            "zerolinecolor": "white"
           },
           "zaxis": {
            "backgroundcolor": "#E5ECF6",
            "gridcolor": "white",
            "gridwidth": 2,
            "linecolor": "white",
            "showbackground": true,
            "ticks": "",
            "zerolinecolor": "white"
           }
          },
          "shapedefaults": {
           "line": {
            "color": "#2a3f5f"
           }
          },
          "ternary": {
           "aaxis": {
            "gridcolor": "white",
            "linecolor": "white",
            "ticks": ""
           },
           "baxis": {
            "gridcolor": "white",
            "linecolor": "white",
            "ticks": ""
           },
           "bgcolor": "#E5ECF6",
           "caxis": {
            "gridcolor": "white",
            "linecolor": "white",
            "ticks": ""
           }
          },
          "title": {
           "x": 0.05
          },
          "xaxis": {
           "automargin": true,
           "gridcolor": "white",
           "linecolor": "white",
           "ticks": "",
           "title": {
            "standoff": 15
           },
           "zerolinecolor": "white",
           "zerolinewidth": 2
          },
          "yaxis": {
           "automargin": true,
           "gridcolor": "white",
           "linecolor": "white",
           "ticks": "",
           "title": {
            "standoff": 15
           },
           "zerolinecolor": "white",
           "zerolinewidth": 2
          }
         }
        },
        "title": {
         "text": "Evolução no Deadlift (Barbell)"
        },
        "updatemenus": [
         {
          "buttons": [
           {
            "args": [
             {
              "visible": [
               true,
               false
              ]
             }
            ],
            "label": "Série 1",
            "method": "update"
           },
           {
            "args": [
             {
              "visible": [
               false,
               true
              ]
             }
            ],
            "label": "Série 2",
            "method": "update"
           },
           {
            "args": [
             {
              "visible": [
               true,
               true
              ]
             }
            ],
            "label": "Ambas",
            "method": "update"
           }
          ],
          "direction": "down"
         }
        ],
        "xaxis": {
         "title": {
          "text": "Data"
         }
        },
        "yaxis": {
         "title": {
          "text": "Peso (kg)"
         }
        }
       }
      }
     },
     "metadata": {},
     "output_type": "display_data"
    }
   ],
   "source": [
    "fig = go.Figure()\n",
    "\n",
    "# Add série 0\n",
    "serie_0 = deadlift_df[deadlift_df['set_index'] == 0]\n",
    "fig.add_trace(go.Scatter(\n",
    "    x=serie_0['date'],\n",
    "    y=serie_0['weight_kg'],\n",
    "    mode='lines+markers+text',\n",
    "    name='Série 1',\n",
    "    text=serie_0['reps'],\n",
    "    textposition='top center'\n",
    "))\n",
    "\n",
    "# Add série 1\n",
    "serie_1 = deadlift_df[deadlift_df['set_index'] == 1]\n",
    "fig.add_trace(go.Scatter(\n",
    "    x=serie_1['date'],\n",
    "    y=serie_1['weight_kg'],\n",
    "    mode='lines+markers+text',\n",
    "    name='Série 2',\n",
    "    text=serie_1['reps'],\n",
    "    textposition='top center'\n",
    "))\n",
    "\n",
    "# Dropdown para controlar visibilidade\n",
    "fig.update_layout(\n",
    "    title='Evolução no Deadlift (Barbell)',\n",
    "    xaxis_title='Data',\n",
    "    yaxis_title='Peso (kg)',\n",
    "    updatemenus=[\n",
    "        {\n",
    "            \"buttons\": [\n",
    "                {\"label\": \"Série 1\", \"method\": \"update\", \"args\": [{\"visible\": [True, False]}]},\n",
    "                {\"label\": \"Série 2\", \"method\": \"update\", \"args\": [{\"visible\": [False, True]}]},\n",
    "                {\"label\": \"Ambas\", \"method\": \"update\", \"args\": [{\"visible\": [True, True]}]},\n",
    "            ],\n",
    "            \"direction\": \"down\",\n",
    "        }\n",
    "    ]\n",
    ")\n",
    "\n",
    "fig.show()"
   ]
  },
  {
   "cell_type": "code",
   "execution_count": null,
   "id": "e4b017f6",
   "metadata": {},
   "outputs": [
    {
     "name": "stderr",
     "output_type": "stream",
     "text": [
      "C:\\Users\\nikol\\AppData\\Local\\Temp\\ipykernel_63592\\1749915733.py:35: FutureWarning:\n",
      "\n",
      "Operation between non boolean Series with different indexes will no longer return a boolean result in a future version. Cast both Series to object type to maintain the prior behavior.\n",
      "\n"
     ]
    },
    {
     "ename": "TypeError",
     "evalue": "unsupported operand type(s) for &: 'int' and 'float'",
     "output_type": "error",
     "traceback": [
      "\u001b[31m---------------------------------------------------------------------------\u001b[39m",
      "\u001b[31mTypeError\u001b[39m                                 Traceback (most recent call last)",
      "\u001b[36mCell\u001b[39m\u001b[36m \u001b[39m\u001b[32mIn[14]\u001b[39m\u001b[32m, line 61\u001b[39m\n\u001b[32m     58\u001b[39m     fig.write_html(output_path, auto_open=\u001b[38;5;28;01mTrue\u001b[39;00m)\n\u001b[32m     60\u001b[39m \u001b[38;5;66;03m# Exemplo de uso:\u001b[39;00m\n\u001b[32m---> \u001b[39m\u001b[32m61\u001b[39m \u001b[43mgerar_grafico_interativo\u001b[49m\u001b[43m(\u001b[49m\u001b[43mworkout_df_columns_filtered\u001b[49m\u001b[43m,\u001b[49m\u001b[43m \u001b[49m\u001b[33;43m'\u001b[39;49m\u001b[33;43mLegs sábado\u001b[39;49m\u001b[33;43m'\u001b[39;49m\u001b[43m,\u001b[49m\u001b[43m \u001b[49m\u001b[33;43m'\u001b[39;49m\u001b[33;43mDeadlift (Barbell)\u001b[39;49m\u001b[33;43m'\u001b[39;49m\u001b[43m)\u001b[49m\n",
      "\u001b[36mCell\u001b[39m\u001b[36m \u001b[39m\u001b[32mIn[14]\u001b[39m\u001b[32m, line 35\u001b[39m, in \u001b[36mgerar_grafico_interativo\u001b[39m\u001b[34m(df, treino_nome, exercicio_nome, output_path)\u001b[39m\n\u001b[32m     15\u001b[39m     traces.append(go.Scatter(\n\u001b[32m     16\u001b[39m         x=set_data[\u001b[33m'\u001b[39m\u001b[33mdate\u001b[39m\u001b[33m'\u001b[39m],\n\u001b[32m     17\u001b[39m         y=set_data[\u001b[33m'\u001b[39m\u001b[33mweight_kg\u001b[39m\u001b[33m'\u001b[39m],\n\u001b[32m   (...)\u001b[39m\u001b[32m     21\u001b[39m         textposition=\u001b[33m'\u001b[39m\u001b[33mtop center\u001b[39m\u001b[33m'\u001b[39m\n\u001b[32m     22\u001b[39m     ))\n\u001b[32m     24\u001b[39m \u001b[38;5;66;03m# Layout com botões de filtro\u001b[39;00m\n\u001b[32m     25\u001b[39m layout = go.Layout(\n\u001b[32m     26\u001b[39m     title=\u001b[33mf\u001b[39m\u001b[33m'\u001b[39m\u001b[33mEvolução no \u001b[39m\u001b[38;5;132;01m{\u001b[39;00mexercicio_nome\u001b[38;5;132;01m}\u001b[39;00m\u001b[33m (\u001b[39m\u001b[38;5;132;01m{\u001b[39;00mtreino_nome\u001b[38;5;132;01m}\u001b[39;00m\u001b[33m)\u001b[39m\u001b[33m'\u001b[39m,\n\u001b[32m     27\u001b[39m     xaxis=\u001b[38;5;28mdict\u001b[39m(title=\u001b[33m'\u001b[39m\u001b[33mData\u001b[39m\u001b[33m'\u001b[39m),\n\u001b[32m     28\u001b[39m     yaxis=\u001b[38;5;28mdict\u001b[39m(title=\u001b[33m'\u001b[39m\u001b[33mPeso (kg)\u001b[39m\u001b[33m'\u001b[39m),\n\u001b[32m     29\u001b[39m     updatemenus=[\n\u001b[32m     30\u001b[39m         {\n\u001b[32m     31\u001b[39m             \u001b[33m\"\u001b[39m\u001b[33mbuttons\u001b[39m\u001b[33m\"\u001b[39m: [\n\u001b[32m     32\u001b[39m                 {\n\u001b[32m     33\u001b[39m                     \u001b[33m\"\u001b[39m\u001b[33mlabel\u001b[39m\u001b[33m\"\u001b[39m: \u001b[33m\"\u001b[39m\u001b[33mÚltimos 30 dias\u001b[39m\u001b[33m\"\u001b[39m,\n\u001b[32m     34\u001b[39m                     \u001b[33m\"\u001b[39m\u001b[33mmethod\u001b[39m\u001b[33m\"\u001b[39m: \u001b[33m\"\u001b[39m\u001b[33mrestyle\u001b[39m\u001b[33m\"\u001b[39m,\n\u001b[32m---> \u001b[39m\u001b[32m35\u001b[39m                     \u001b[33m\"\u001b[39m\u001b[33margs\u001b[39m\u001b[33m\"\u001b[39m: [{\u001b[33m\"\u001b[39m\u001b[33mx\u001b[39m\u001b[33m\"\u001b[39m: \u001b[43m[\u001b[49m\u001b[43mexercicio_df\u001b[49m\u001b[43m[\u001b[49m\u001b[43mexercicio_df\u001b[49m\u001b[43m[\u001b[49m\u001b[33;43m'\u001b[39;49m\u001b[33;43mdate\u001b[39;49m\u001b[33;43m'\u001b[39;49m\u001b[43m]\u001b[49m\u001b[43m \u001b[49m\u001b[43m>\u001b[49m\u001b[43m=\u001b[49m\u001b[43m \u001b[49m\u001b[43m(\u001b[49m\u001b[43mdf\u001b[49m\u001b[43m[\u001b[49m\u001b[33;43m'\u001b[39;49m\u001b[33;43mdate\u001b[39;49m\u001b[33;43m'\u001b[39;49m\u001b[43m]\u001b[49m\u001b[43m \u001b[49m\u001b[43m-\u001b[49m\u001b[43m \u001b[49m\u001b[43mpd\u001b[49m\u001b[43m.\u001b[49m\u001b[43mTimedelta\u001b[49m\u001b[43m(\u001b[49m\u001b[43mdays\u001b[49m\u001b[43m=\u001b[49m\u001b[32;43m30\u001b[39;49m\u001b[43m)\u001b[49m\u001b[43m)\u001b[49m\u001b[43m \u001b[49m\u001b[43m&\u001b[49m\u001b[43m \u001b[49m\u001b[43m(\u001b[49m\u001b[43mexercicio_df\u001b[49m\u001b[43m[\u001b[49m\u001b[33;43m'\u001b[39;49m\u001b[33;43mset_index\u001b[39;49m\u001b[33;43m'\u001b[39;49m\u001b[43m]\u001b[49m\u001b[43m \u001b[49m\u001b[43m==\u001b[49m\u001b[43m \u001b[49m\u001b[43midx\u001b[49m\u001b[43m)\u001b[49m\u001b[43m]\u001b[49m\u001b[43m[\u001b[49m\u001b[33;43m'\u001b[39;49m\u001b[33;43mdate\u001b[39;49m\u001b[33;43m'\u001b[39;49m\u001b[43m]\u001b[49m\u001b[43m \u001b[49m\u001b[38;5;28;43;01mfor\u001b[39;49;00m\u001b[43m \u001b[49m\u001b[43midx\u001b[49m\u001b[43m \u001b[49m\u001b[38;5;129;43;01min\u001b[39;49;00m\u001b[43m \u001b[49m\u001b[43mexercicio_df\u001b[49m\u001b[43m[\u001b[49m\u001b[33;43m'\u001b[39;49m\u001b[33;43mset_index\u001b[39;49m\u001b[33;43m'\u001b[39;49m\u001b[43m]\u001b[49m\u001b[43m.\u001b[49m\u001b[43munique\u001b[49m\u001b[43m(\u001b[49m\u001b[43m)\u001b[49m\u001b[43m]\u001b[49m,\n\u001b[32m     36\u001b[39m                               \u001b[33m\"\u001b[39m\u001b[33my\u001b[39m\u001b[33m\"\u001b[39m: [exercicio_df[exercicio_df[\u001b[33m'\u001b[39m\u001b[33mdate\u001b[39m\u001b[33m'\u001b[39m] >= (df[\u001b[33m'\u001b[39m\u001b[33mdate\u001b[39m\u001b[33m'\u001b[39m] - pd.Timedelta(days=\u001b[32m30\u001b[39m)) & (exercicio_df[\u001b[33m'\u001b[39m\u001b[33mset_index\u001b[39m\u001b[33m'\u001b[39m] == idx)][\u001b[33m'\u001b[39m\u001b[33mweight_kg\u001b[39m\u001b[33m'\u001b[39m] \u001b[38;5;28;01mfor\u001b[39;00m idx \u001b[38;5;129;01min\u001b[39;00m exercicio_df[\u001b[33m'\u001b[39m\u001b[33mset_index\u001b[39m\u001b[33m'\u001b[39m].unique()]}]\n\u001b[32m     37\u001b[39m                 },\n\u001b[32m     38\u001b[39m                 {\n\u001b[32m     39\u001b[39m                     \u001b[33m\"\u001b[39m\u001b[33mlabel\u001b[39m\u001b[33m\"\u001b[39m: \u001b[33m\"\u001b[39m\u001b[33mÚltimos 60 dias\u001b[39m\u001b[33m\"\u001b[39m,\n\u001b[32m     40\u001b[39m                     \u001b[33m\"\u001b[39m\u001b[33mmethod\u001b[39m\u001b[33m\"\u001b[39m: \u001b[33m\"\u001b[39m\u001b[33mrestyle\u001b[39m\u001b[33m\"\u001b[39m,\n\u001b[32m     41\u001b[39m                     \u001b[33m\"\u001b[39m\u001b[33margs\u001b[39m\u001b[33m\"\u001b[39m: [{\u001b[33m\"\u001b[39m\u001b[33mx\u001b[39m\u001b[33m\"\u001b[39m: [exercicio_df[exercicio_df[\u001b[33m'\u001b[39m\u001b[33mdate\u001b[39m\u001b[33m'\u001b[39m] >= (df[\u001b[33m'\u001b[39m\u001b[33mdate\u001b[39m\u001b[33m'\u001b[39m] - pd.Timedelta(days=\u001b[32m60\u001b[39m)) & (exercicio_df[\u001b[33m'\u001b[39m\u001b[33mset_index\u001b[39m\u001b[33m'\u001b[39m] == idx)][\u001b[33m'\u001b[39m\u001b[33mdate\u001b[39m\u001b[33m'\u001b[39m] \u001b[38;5;28;01mfor\u001b[39;00m idx \u001b[38;5;129;01min\u001b[39;00m exercicio_df[\u001b[33m'\u001b[39m\u001b[33mset_index\u001b[39m\u001b[33m'\u001b[39m].unique()],\n\u001b[32m     42\u001b[39m                               \u001b[33m\"\u001b[39m\u001b[33my\u001b[39m\u001b[33m\"\u001b[39m: [exercicio_df[exercicio_df[\u001b[33m'\u001b[39m\u001b[33mdate\u001b[39m\u001b[33m'\u001b[39m] >= (df[\u001b[33m'\u001b[39m\u001b[33mdate\u001b[39m\u001b[33m'\u001b[39m] - pd.Timedelta(days=\u001b[32m60\u001b[39m)) & (exercicio_df[\u001b[33m'\u001b[39m\u001b[33mset_index\u001b[39m\u001b[33m'\u001b[39m] == idx)][\u001b[33m'\u001b[39m\u001b[33mweight_kg\u001b[39m\u001b[33m'\u001b[39m] \u001b[38;5;28;01mfor\u001b[39;00m idx \u001b[38;5;129;01min\u001b[39;00m exercicio_df[\u001b[33m'\u001b[39m\u001b[33mset_index\u001b[39m\u001b[33m'\u001b[39m].unique()]}]\n\u001b[32m     43\u001b[39m                 },\n\u001b[32m     44\u001b[39m                 {\n\u001b[32m     45\u001b[39m                     \u001b[33m\"\u001b[39m\u001b[33mlabel\u001b[39m\u001b[33m\"\u001b[39m: \u001b[33m\"\u001b[39m\u001b[33mÚltimos 90 dias\u001b[39m\u001b[33m\"\u001b[39m,\n\u001b[32m     46\u001b[39m                     \u001b[33m\"\u001b[39m\u001b[33mmethod\u001b[39m\u001b[33m\"\u001b[39m: \u001b[33m\"\u001b[39m\u001b[33mrestyle\u001b[39m\u001b[33m\"\u001b[39m,\n\u001b[32m     47\u001b[39m                     \u001b[33m\"\u001b[39m\u001b[33margs\u001b[39m\u001b[33m\"\u001b[39m: [{\u001b[33m\"\u001b[39m\u001b[33mx\u001b[39m\u001b[33m\"\u001b[39m: [exercicio_df[exercicio_df[\u001b[33m'\u001b[39m\u001b[33mdate\u001b[39m\u001b[33m'\u001b[39m] >= (df[\u001b[33m'\u001b[39m\u001b[33mdate\u001b[39m\u001b[33m'\u001b[39m] - pd.Timedelta(days=\u001b[32m90\u001b[39m)) & (exercicio_df[\u001b[33m'\u001b[39m\u001b[33mset_index\u001b[39m\u001b[33m'\u001b[39m] == idx)][\u001b[33m'\u001b[39m\u001b[33mdate\u001b[39m\u001b[33m'\u001b[39m] \u001b[38;5;28;01mfor\u001b[39;00m idx \u001b[38;5;129;01min\u001b[39;00m exercicio_df[\u001b[33m'\u001b[39m\u001b[33mset_index\u001b[39m\u001b[33m'\u001b[39m].unique()],\n\u001b[32m     48\u001b[39m                               \u001b[33m\"\u001b[39m\u001b[33my\u001b[39m\u001b[33m\"\u001b[39m: [exercicio_df[exercicio_df[\u001b[33m'\u001b[39m\u001b[33mdate\u001b[39m\u001b[33m'\u001b[39m] >= (df[\u001b[33m'\u001b[39m\u001b[33mdate\u001b[39m\u001b[33m'\u001b[39m] - pd.Timedelta(days=\u001b[32m90\u001b[39m)) & (exercicio_df[\u001b[33m'\u001b[39m\u001b[33mset_index\u001b[39m\u001b[33m'\u001b[39m] == idx)][\u001b[33m'\u001b[39m\u001b[33mweight_kg\u001b[39m\u001b[33m'\u001b[39m] \u001b[38;5;28;01mfor\u001b[39;00m idx \u001b[38;5;129;01min\u001b[39;00m exercicio_df[\u001b[33m'\u001b[39m\u001b[33mset_index\u001b[39m\u001b[33m'\u001b[39m].unique()]}]\n\u001b[32m     49\u001b[39m                 },\n\u001b[32m     50\u001b[39m             ],\n\u001b[32m     51\u001b[39m             \u001b[33m\"\u001b[39m\u001b[33mdirection\u001b[39m\u001b[33m\"\u001b[39m: \u001b[33m\"\u001b[39m\u001b[33mdown\u001b[39m\u001b[33m\"\u001b[39m,\n\u001b[32m     52\u001b[39m             \u001b[33m\"\u001b[39m\u001b[33mshowactive\u001b[39m\u001b[33m\"\u001b[39m: \u001b[38;5;28;01mTrue\u001b[39;00m\n\u001b[32m     53\u001b[39m         }\n\u001b[32m     54\u001b[39m     ]\n\u001b[32m     55\u001b[39m )\n\u001b[32m     57\u001b[39m fig = go.Figure(data=traces, layout=layout)\n\u001b[32m     58\u001b[39m fig.write_html(output_path, auto_open=\u001b[38;5;28;01mTrue\u001b[39;00m)\n",
      "\u001b[36mCell\u001b[39m\u001b[36m \u001b[39m\u001b[32mIn[14]\u001b[39m\u001b[32m, line 35\u001b[39m, in \u001b[36m<listcomp>\u001b[39m\u001b[34m(.0)\u001b[39m\n\u001b[32m     15\u001b[39m     traces.append(go.Scatter(\n\u001b[32m     16\u001b[39m         x=set_data[\u001b[33m'\u001b[39m\u001b[33mdate\u001b[39m\u001b[33m'\u001b[39m],\n\u001b[32m     17\u001b[39m         y=set_data[\u001b[33m'\u001b[39m\u001b[33mweight_kg\u001b[39m\u001b[33m'\u001b[39m],\n\u001b[32m   (...)\u001b[39m\u001b[32m     21\u001b[39m         textposition=\u001b[33m'\u001b[39m\u001b[33mtop center\u001b[39m\u001b[33m'\u001b[39m\n\u001b[32m     22\u001b[39m     ))\n\u001b[32m     24\u001b[39m \u001b[38;5;66;03m# Layout com botões de filtro\u001b[39;00m\n\u001b[32m     25\u001b[39m layout = go.Layout(\n\u001b[32m     26\u001b[39m     title=\u001b[33mf\u001b[39m\u001b[33m'\u001b[39m\u001b[33mEvolução no \u001b[39m\u001b[38;5;132;01m{\u001b[39;00mexercicio_nome\u001b[38;5;132;01m}\u001b[39;00m\u001b[33m (\u001b[39m\u001b[38;5;132;01m{\u001b[39;00mtreino_nome\u001b[38;5;132;01m}\u001b[39;00m\u001b[33m)\u001b[39m\u001b[33m'\u001b[39m,\n\u001b[32m     27\u001b[39m     xaxis=\u001b[38;5;28mdict\u001b[39m(title=\u001b[33m'\u001b[39m\u001b[33mData\u001b[39m\u001b[33m'\u001b[39m),\n\u001b[32m     28\u001b[39m     yaxis=\u001b[38;5;28mdict\u001b[39m(title=\u001b[33m'\u001b[39m\u001b[33mPeso (kg)\u001b[39m\u001b[33m'\u001b[39m),\n\u001b[32m     29\u001b[39m     updatemenus=[\n\u001b[32m     30\u001b[39m         {\n\u001b[32m     31\u001b[39m             \u001b[33m\"\u001b[39m\u001b[33mbuttons\u001b[39m\u001b[33m\"\u001b[39m: [\n\u001b[32m     32\u001b[39m                 {\n\u001b[32m     33\u001b[39m                     \u001b[33m\"\u001b[39m\u001b[33mlabel\u001b[39m\u001b[33m\"\u001b[39m: \u001b[33m\"\u001b[39m\u001b[33mÚltimos 30 dias\u001b[39m\u001b[33m\"\u001b[39m,\n\u001b[32m     34\u001b[39m                     \u001b[33m\"\u001b[39m\u001b[33mmethod\u001b[39m\u001b[33m\"\u001b[39m: \u001b[33m\"\u001b[39m\u001b[33mrestyle\u001b[39m\u001b[33m\"\u001b[39m,\n\u001b[32m---> \u001b[39m\u001b[32m35\u001b[39m                     \u001b[33m\"\u001b[39m\u001b[33margs\u001b[39m\u001b[33m\"\u001b[39m: [{\u001b[33m\"\u001b[39m\u001b[33mx\u001b[39m\u001b[33m\"\u001b[39m: [exercicio_df[exercicio_df[\u001b[33m'\u001b[39m\u001b[33mdate\u001b[39m\u001b[33m'\u001b[39m] >= \u001b[43m(\u001b[49m\u001b[43mdf\u001b[49m\u001b[43m[\u001b[49m\u001b[33;43m'\u001b[39;49m\u001b[33;43mdate\u001b[39;49m\u001b[33;43m'\u001b[39;49m\u001b[43m]\u001b[49m\u001b[43m \u001b[49m\u001b[43m-\u001b[49m\u001b[43m \u001b[49m\u001b[43mpd\u001b[49m\u001b[43m.\u001b[49m\u001b[43mTimedelta\u001b[49m\u001b[43m(\u001b[49m\u001b[43mdays\u001b[49m\u001b[43m=\u001b[49m\u001b[32;43m30\u001b[39;49m\u001b[43m)\u001b[49m\u001b[43m)\u001b[49m\u001b[43m \u001b[49m\u001b[43m&\u001b[49m\u001b[43m \u001b[49m\u001b[43m(\u001b[49m\u001b[43mexercicio_df\u001b[49m\u001b[43m[\u001b[49m\u001b[33;43m'\u001b[39;49m\u001b[33;43mset_index\u001b[39;49m\u001b[33;43m'\u001b[39;49m\u001b[43m]\u001b[49m\u001b[43m \u001b[49m\u001b[43m==\u001b[49m\u001b[43m \u001b[49m\u001b[43midx\u001b[49m\u001b[43m)\u001b[49m][\u001b[33m'\u001b[39m\u001b[33mdate\u001b[39m\u001b[33m'\u001b[39m] \u001b[38;5;28;01mfor\u001b[39;00m idx \u001b[38;5;129;01min\u001b[39;00m exercicio_df[\u001b[33m'\u001b[39m\u001b[33mset_index\u001b[39m\u001b[33m'\u001b[39m].unique()],\n\u001b[32m     36\u001b[39m                               \u001b[33m\"\u001b[39m\u001b[33my\u001b[39m\u001b[33m\"\u001b[39m: [exercicio_df[exercicio_df[\u001b[33m'\u001b[39m\u001b[33mdate\u001b[39m\u001b[33m'\u001b[39m] >= (df[\u001b[33m'\u001b[39m\u001b[33mdate\u001b[39m\u001b[33m'\u001b[39m] - pd.Timedelta(days=\u001b[32m30\u001b[39m)) & (exercicio_df[\u001b[33m'\u001b[39m\u001b[33mset_index\u001b[39m\u001b[33m'\u001b[39m] == idx)][\u001b[33m'\u001b[39m\u001b[33mweight_kg\u001b[39m\u001b[33m'\u001b[39m] \u001b[38;5;28;01mfor\u001b[39;00m idx \u001b[38;5;129;01min\u001b[39;00m exercicio_df[\u001b[33m'\u001b[39m\u001b[33mset_index\u001b[39m\u001b[33m'\u001b[39m].unique()]}]\n\u001b[32m     37\u001b[39m                 },\n\u001b[32m     38\u001b[39m                 {\n\u001b[32m     39\u001b[39m                     \u001b[33m\"\u001b[39m\u001b[33mlabel\u001b[39m\u001b[33m\"\u001b[39m: \u001b[33m\"\u001b[39m\u001b[33mÚltimos 60 dias\u001b[39m\u001b[33m\"\u001b[39m,\n\u001b[32m     40\u001b[39m                     \u001b[33m\"\u001b[39m\u001b[33mmethod\u001b[39m\u001b[33m\"\u001b[39m: \u001b[33m\"\u001b[39m\u001b[33mrestyle\u001b[39m\u001b[33m\"\u001b[39m,\n\u001b[32m     41\u001b[39m                     \u001b[33m\"\u001b[39m\u001b[33margs\u001b[39m\u001b[33m\"\u001b[39m: [{\u001b[33m\"\u001b[39m\u001b[33mx\u001b[39m\u001b[33m\"\u001b[39m: [exercicio_df[exercicio_df[\u001b[33m'\u001b[39m\u001b[33mdate\u001b[39m\u001b[33m'\u001b[39m] >= (df[\u001b[33m'\u001b[39m\u001b[33mdate\u001b[39m\u001b[33m'\u001b[39m] - pd.Timedelta(days=\u001b[32m60\u001b[39m)) & (exercicio_df[\u001b[33m'\u001b[39m\u001b[33mset_index\u001b[39m\u001b[33m'\u001b[39m] == idx)][\u001b[33m'\u001b[39m\u001b[33mdate\u001b[39m\u001b[33m'\u001b[39m] \u001b[38;5;28;01mfor\u001b[39;00m idx \u001b[38;5;129;01min\u001b[39;00m exercicio_df[\u001b[33m'\u001b[39m\u001b[33mset_index\u001b[39m\u001b[33m'\u001b[39m].unique()],\n\u001b[32m     42\u001b[39m                               \u001b[33m\"\u001b[39m\u001b[33my\u001b[39m\u001b[33m\"\u001b[39m: [exercicio_df[exercicio_df[\u001b[33m'\u001b[39m\u001b[33mdate\u001b[39m\u001b[33m'\u001b[39m] >= (df[\u001b[33m'\u001b[39m\u001b[33mdate\u001b[39m\u001b[33m'\u001b[39m] - pd.Timedelta(days=\u001b[32m60\u001b[39m)) & (exercicio_df[\u001b[33m'\u001b[39m\u001b[33mset_index\u001b[39m\u001b[33m'\u001b[39m] == idx)][\u001b[33m'\u001b[39m\u001b[33mweight_kg\u001b[39m\u001b[33m'\u001b[39m] \u001b[38;5;28;01mfor\u001b[39;00m idx \u001b[38;5;129;01min\u001b[39;00m exercicio_df[\u001b[33m'\u001b[39m\u001b[33mset_index\u001b[39m\u001b[33m'\u001b[39m].unique()]}]\n\u001b[32m     43\u001b[39m                 },\n\u001b[32m     44\u001b[39m                 {\n\u001b[32m     45\u001b[39m                     \u001b[33m\"\u001b[39m\u001b[33mlabel\u001b[39m\u001b[33m\"\u001b[39m: \u001b[33m\"\u001b[39m\u001b[33mÚltimos 90 dias\u001b[39m\u001b[33m\"\u001b[39m,\n\u001b[32m     46\u001b[39m                     \u001b[33m\"\u001b[39m\u001b[33mmethod\u001b[39m\u001b[33m\"\u001b[39m: \u001b[33m\"\u001b[39m\u001b[33mrestyle\u001b[39m\u001b[33m\"\u001b[39m,\n\u001b[32m     47\u001b[39m                     \u001b[33m\"\u001b[39m\u001b[33margs\u001b[39m\u001b[33m\"\u001b[39m: [{\u001b[33m\"\u001b[39m\u001b[33mx\u001b[39m\u001b[33m\"\u001b[39m: [exercicio_df[exercicio_df[\u001b[33m'\u001b[39m\u001b[33mdate\u001b[39m\u001b[33m'\u001b[39m] >= (df[\u001b[33m'\u001b[39m\u001b[33mdate\u001b[39m\u001b[33m'\u001b[39m] - pd.Timedelta(days=\u001b[32m90\u001b[39m)) & (exercicio_df[\u001b[33m'\u001b[39m\u001b[33mset_index\u001b[39m\u001b[33m'\u001b[39m] == idx)][\u001b[33m'\u001b[39m\u001b[33mdate\u001b[39m\u001b[33m'\u001b[39m] \u001b[38;5;28;01mfor\u001b[39;00m idx \u001b[38;5;129;01min\u001b[39;00m exercicio_df[\u001b[33m'\u001b[39m\u001b[33mset_index\u001b[39m\u001b[33m'\u001b[39m].unique()],\n\u001b[32m     48\u001b[39m                               \u001b[33m\"\u001b[39m\u001b[33my\u001b[39m\u001b[33m\"\u001b[39m: [exercicio_df[exercicio_df[\u001b[33m'\u001b[39m\u001b[33mdate\u001b[39m\u001b[33m'\u001b[39m] >= (df[\u001b[33m'\u001b[39m\u001b[33mdate\u001b[39m\u001b[33m'\u001b[39m] - pd.Timedelta(days=\u001b[32m90\u001b[39m)) & (exercicio_df[\u001b[33m'\u001b[39m\u001b[33mset_index\u001b[39m\u001b[33m'\u001b[39m] == idx)][\u001b[33m'\u001b[39m\u001b[33mweight_kg\u001b[39m\u001b[33m'\u001b[39m] \u001b[38;5;28;01mfor\u001b[39;00m idx \u001b[38;5;129;01min\u001b[39;00m exercicio_df[\u001b[33m'\u001b[39m\u001b[33mset_index\u001b[39m\u001b[33m'\u001b[39m].unique()]}]\n\u001b[32m     49\u001b[39m                 },\n\u001b[32m     50\u001b[39m             ],\n\u001b[32m     51\u001b[39m             \u001b[33m\"\u001b[39m\u001b[33mdirection\u001b[39m\u001b[33m\"\u001b[39m: \u001b[33m\"\u001b[39m\u001b[33mdown\u001b[39m\u001b[33m\"\u001b[39m,\n\u001b[32m     52\u001b[39m             \u001b[33m\"\u001b[39m\u001b[33mshowactive\u001b[39m\u001b[33m\"\u001b[39m: \u001b[38;5;28;01mTrue\u001b[39;00m\n\u001b[32m     53\u001b[39m         }\n\u001b[32m     54\u001b[39m     ]\n\u001b[32m     55\u001b[39m )\n\u001b[32m     57\u001b[39m fig = go.Figure(data=traces, layout=layout)\n\u001b[32m     58\u001b[39m fig.write_html(output_path, auto_open=\u001b[38;5;28;01mTrue\u001b[39;00m)\n",
      "\u001b[36mFile \u001b[39m\u001b[32m~\\AppData\\Local\\Packages\\PythonSoftwareFoundation.Python.3.11_qbz5n2kfra8p0\\LocalCache\\local-packages\\Python311\\site-packages\\pandas\\core\\ops\\common.py:76\u001b[39m, in \u001b[36m_unpack_zerodim_and_defer.<locals>.new_method\u001b[39m\u001b[34m(self, other)\u001b[39m\n\u001b[32m     72\u001b[39m             \u001b[38;5;28;01mreturn\u001b[39;00m \u001b[38;5;28mNotImplemented\u001b[39m\n\u001b[32m     74\u001b[39m other = item_from_zerodim(other)\n\u001b[32m---> \u001b[39m\u001b[32m76\u001b[39m \u001b[38;5;28;01mreturn\u001b[39;00m \u001b[43mmethod\u001b[49m\u001b[43m(\u001b[49m\u001b[38;5;28;43mself\u001b[39;49m\u001b[43m,\u001b[49m\u001b[43m \u001b[49m\u001b[43mother\u001b[49m\u001b[43m)\u001b[49m\n",
      "\u001b[36mFile \u001b[39m\u001b[32m~\\AppData\\Local\\Packages\\PythonSoftwareFoundation.Python.3.11_qbz5n2kfra8p0\\LocalCache\\local-packages\\Python311\\site-packages\\pandas\\core\\arraylike.py:70\u001b[39m, in \u001b[36mOpsMixin.__and__\u001b[39m\u001b[34m(self, other)\u001b[39m\n\u001b[32m     68\u001b[39m \u001b[38;5;129m@unpack_zerodim_and_defer\u001b[39m(\u001b[33m\"\u001b[39m\u001b[33m__and__\u001b[39m\u001b[33m\"\u001b[39m)\n\u001b[32m     69\u001b[39m \u001b[38;5;28;01mdef\u001b[39;00m\u001b[38;5;250m \u001b[39m\u001b[34m__and__\u001b[39m(\u001b[38;5;28mself\u001b[39m, other):\n\u001b[32m---> \u001b[39m\u001b[32m70\u001b[39m     \u001b[38;5;28;01mreturn\u001b[39;00m \u001b[38;5;28;43mself\u001b[39;49m\u001b[43m.\u001b[49m\u001b[43m_logical_method\u001b[49m\u001b[43m(\u001b[49m\u001b[43mother\u001b[49m\u001b[43m,\u001b[49m\u001b[43m \u001b[49m\u001b[43moperator\u001b[49m\u001b[43m.\u001b[49m\u001b[43mand_\u001b[49m\u001b[43m)\u001b[49m\n",
      "\u001b[36mFile \u001b[39m\u001b[32m~\\AppData\\Local\\Packages\\PythonSoftwareFoundation.Python.3.11_qbz5n2kfra8p0\\LocalCache\\local-packages\\Python311\\site-packages\\pandas\\core\\series.py:6130\u001b[39m, in \u001b[36mSeries._logical_method\u001b[39m\u001b[34m(self, other, op)\u001b[39m\n\u001b[32m   6127\u001b[39m lvalues = \u001b[38;5;28mself\u001b[39m._values\n\u001b[32m   6128\u001b[39m rvalues = extract_array(other, extract_numpy=\u001b[38;5;28;01mTrue\u001b[39;00m, extract_range=\u001b[38;5;28;01mTrue\u001b[39;00m)\n\u001b[32m-> \u001b[39m\u001b[32m6130\u001b[39m res_values = \u001b[43mops\u001b[49m\u001b[43m.\u001b[49m\u001b[43mlogical_op\u001b[49m\u001b[43m(\u001b[49m\u001b[43mlvalues\u001b[49m\u001b[43m,\u001b[49m\u001b[43m \u001b[49m\u001b[43mrvalues\u001b[49m\u001b[43m,\u001b[49m\u001b[43m \u001b[49m\u001b[43mop\u001b[49m\u001b[43m)\u001b[49m\n\u001b[32m   6131\u001b[39m \u001b[38;5;28;01mreturn\u001b[39;00m \u001b[38;5;28mself\u001b[39m._construct_result(res_values, name=res_name)\n",
      "\u001b[36mFile \u001b[39m\u001b[32m~\\AppData\\Local\\Packages\\PythonSoftwareFoundation.Python.3.11_qbz5n2kfra8p0\\LocalCache\\local-packages\\Python311\\site-packages\\pandas\\core\\ops\\array_ops.py:442\u001b[39m, in \u001b[36mlogical_op\u001b[39m\u001b[34m(left, right, op)\u001b[39m\n\u001b[32m    438\u001b[39m rvalues = right\n\u001b[32m    440\u001b[39m \u001b[38;5;28;01mif\u001b[39;00m should_extension_dispatch(lvalues, rvalues):\n\u001b[32m    441\u001b[39m     \u001b[38;5;66;03m# Call the method on lvalues\u001b[39;00m\n\u001b[32m--> \u001b[39m\u001b[32m442\u001b[39m     res_values = op(lvalues, rvalues)\n\u001b[32m    444\u001b[39m \u001b[38;5;28;01melse\u001b[39;00m:\n\u001b[32m    445\u001b[39m     \u001b[38;5;28;01mif\u001b[39;00m \u001b[38;5;28misinstance\u001b[39m(rvalues, np.ndarray):\n",
      "\u001b[36mFile \u001b[39m\u001b[32m~\\AppData\\Local\\Packages\\PythonSoftwareFoundation.Python.3.11_qbz5n2kfra8p0\\LocalCache\\local-packages\\Python311\\site-packages\\pandas\\core\\arrays\\datetimelike.py:2200\u001b[39m, in \u001b[36mTimelikeOps.__array_ufunc__\u001b[39m\u001b[34m(self, ufunc, method, *inputs, **kwargs)\u001b[39m\n\u001b[32m   2192\u001b[39m \u001b[38;5;28;01mif\u001b[39;00m (\n\u001b[32m   2193\u001b[39m     ufunc \u001b[38;5;129;01min\u001b[39;00m [np.isnan, np.isinf, np.isfinite]\n\u001b[32m   2194\u001b[39m     \u001b[38;5;129;01mand\u001b[39;00m \u001b[38;5;28mlen\u001b[39m(inputs) == \u001b[32m1\u001b[39m\n\u001b[32m   2195\u001b[39m     \u001b[38;5;129;01mand\u001b[39;00m inputs[\u001b[32m0\u001b[39m] \u001b[38;5;129;01mis\u001b[39;00m \u001b[38;5;28mself\u001b[39m\n\u001b[32m   2196\u001b[39m ):\n\u001b[32m   2197\u001b[39m     \u001b[38;5;66;03m# numpy 1.18 changed isinf and isnan to not raise on dt64/td64\u001b[39;00m\n\u001b[32m   2198\u001b[39m     \u001b[38;5;28;01mreturn\u001b[39;00m \u001b[38;5;28mgetattr\u001b[39m(ufunc, method)(\u001b[38;5;28mself\u001b[39m._ndarray, **kwargs)\n\u001b[32m-> \u001b[39m\u001b[32m2200\u001b[39m \u001b[38;5;28;01mreturn\u001b[39;00m \u001b[38;5;28;43msuper\u001b[39;49m\u001b[43m(\u001b[49m\u001b[43m)\u001b[49m\u001b[43m.\u001b[49m\u001b[43m__array_ufunc__\u001b[49m\u001b[43m(\u001b[49m\u001b[43mufunc\u001b[49m\u001b[43m,\u001b[49m\u001b[43m \u001b[49m\u001b[43mmethod\u001b[49m\u001b[43m,\u001b[49m\u001b[43m \u001b[49m\u001b[43m*\u001b[49m\u001b[43minputs\u001b[49m\u001b[43m,\u001b[49m\u001b[43m \u001b[49m\u001b[43m*\u001b[49m\u001b[43m*\u001b[49m\u001b[43mkwargs\u001b[49m\u001b[43m)\u001b[49m\n",
      "\u001b[36mFile \u001b[39m\u001b[32m~\\AppData\\Local\\Packages\\PythonSoftwareFoundation.Python.3.11_qbz5n2kfra8p0\\LocalCache\\local-packages\\Python311\\site-packages\\pandas\\core\\arrays\\base.py:2300\u001b[39m, in \u001b[36mExtensionArray.__array_ufunc__\u001b[39m\u001b[34m(self, ufunc, method, *inputs, **kwargs)\u001b[39m\n\u001b[32m   2297\u001b[39m     \u001b[38;5;28;01mif\u001b[39;00m result \u001b[38;5;129;01mis\u001b[39;00m \u001b[38;5;129;01mnot\u001b[39;00m \u001b[38;5;28mNotImplemented\u001b[39m:\n\u001b[32m   2298\u001b[39m         \u001b[38;5;28;01mreturn\u001b[39;00m result\n\u001b[32m-> \u001b[39m\u001b[32m2300\u001b[39m \u001b[38;5;28;01mreturn\u001b[39;00m \u001b[43marraylike\u001b[49m\u001b[43m.\u001b[49m\u001b[43mdefault_array_ufunc\u001b[49m\u001b[43m(\u001b[49m\u001b[38;5;28;43mself\u001b[39;49m\u001b[43m,\u001b[49m\u001b[43m \u001b[49m\u001b[43mufunc\u001b[49m\u001b[43m,\u001b[49m\u001b[43m \u001b[49m\u001b[43mmethod\u001b[49m\u001b[43m,\u001b[49m\u001b[43m \u001b[49m\u001b[43m*\u001b[49m\u001b[43minputs\u001b[49m\u001b[43m,\u001b[49m\u001b[43m \u001b[49m\u001b[43m*\u001b[49m\u001b[43m*\u001b[49m\u001b[43mkwargs\u001b[49m\u001b[43m)\u001b[49m\n",
      "\u001b[36mFile \u001b[39m\u001b[32m~\\AppData\\Local\\Packages\\PythonSoftwareFoundation.Python.3.11_qbz5n2kfra8p0\\LocalCache\\local-packages\\Python311\\site-packages\\pandas\\core\\arraylike.py:492\u001b[39m, in \u001b[36mdefault_array_ufunc\u001b[39m\u001b[34m(self, ufunc, method, *inputs, **kwargs)\u001b[39m\n\u001b[32m    488\u001b[39m     \u001b[38;5;28;01mraise\u001b[39;00m \u001b[38;5;167;01mNotImplementedError\u001b[39;00m\n\u001b[32m    490\u001b[39m new_inputs = [x \u001b[38;5;28;01mif\u001b[39;00m x \u001b[38;5;129;01mis\u001b[39;00m \u001b[38;5;129;01mnot\u001b[39;00m \u001b[38;5;28mself\u001b[39m \u001b[38;5;28;01melse\u001b[39;00m np.asarray(x) \u001b[38;5;28;01mfor\u001b[39;00m x \u001b[38;5;129;01min\u001b[39;00m inputs]\n\u001b[32m--> \u001b[39m\u001b[32m492\u001b[39m \u001b[38;5;28;01mreturn\u001b[39;00m \u001b[38;5;28;43mgetattr\u001b[39;49m\u001b[43m(\u001b[49m\u001b[43mufunc\u001b[49m\u001b[43m,\u001b[49m\u001b[43m \u001b[49m\u001b[43mmethod\u001b[49m\u001b[43m)\u001b[49m\u001b[43m(\u001b[49m\u001b[43m*\u001b[49m\u001b[43mnew_inputs\u001b[49m\u001b[43m,\u001b[49m\u001b[43m \u001b[49m\u001b[43m*\u001b[49m\u001b[43m*\u001b[49m\u001b[43mkwargs\u001b[49m\u001b[43m)\u001b[49m\n",
      "\u001b[31mTypeError\u001b[39m: unsupported operand type(s) for &: 'int' and 'float'"
     ]
    }
   ],
   "source": [
    "# Suponha que você já tenha um DataFrame chamado workout_df com a coluna 'date' no tipo datetime.date\n",
    "\n",
    "# Cria uma função para filtrar os dados e gerar o gráfico\n",
    "def gerar_grafico_interativo(df, treino_nome, exercicio_nome, output_path='grafico_treino.html'):\n",
    "    # Converte a data se necessário\n",
    "    #df['date'] = pd.to_datetime(df['date']).dt.date\n",
    "\n",
    "    # Filtra pelo exercício e treino desejado\n",
    "    exercicio_df = df[(df['title'] == treino_nome) & (df['exercise_title'] == exercicio_nome)]\n",
    "\n",
    "    # Cria os traces por set_index\n",
    "    traces = []\n",
    "    for set_idx in exercicio_df['set_index'].unique():\n",
    "        set_data = exercicio_df[exercicio_df['set_index'] == set_idx]\n",
    "        traces.append(go.Scatter(\n",
    "            x=set_data['date'],\n",
    "            y=set_data['weight_kg'],\n",
    "            mode='lines+markers+text',\n",
    "            name=f'Série {set_idx + 1}',\n",
    "            text=[f'{r} reps' for r in set_data['reps']],\n",
    "            textposition='top center'\n",
    "        ))\n",
    "\n",
    "    # Layout com botões de filtro\n",
    "    layout = go.Layout(\n",
    "        title=f'Evolução no {exercicio_nome} ({treino_nome})',\n",
    "        xaxis=dict(title='Data'),\n",
    "        yaxis=dict(title='Peso (kg)'),\n",
    "        updatemenus=[\n",
    "            {\n",
    "                \"buttons\": [\n",
    "                    {\n",
    "                        \"label\": \"Últimos 30 dias\",\n",
    "                        \"method\": \"restyle\",\n",
    "                        \"args\": [{\"x\": [exercicio_df[exercicio_df['date'] >= (df['date'].max() - pd.Timedelta(days=30)) & (exercicio_df['set_index'] == idx)]['date'] for idx in exercicio_df['set_index'].unique()],\n",
    "                                  \"y\": [exercicio_df[exercicio_df['date'] >= (df['date'].max() - pd.Timedelta(days=30)) & (exercicio_df['set_index'] == idx)]['weight_kg'] for idx in exercicio_df['set_index'].unique()]}]\n",
    "                    },\n",
    "                    {\n",
    "                        \"label\": \"Últimos 60 dias\",\n",
    "                        \"method\": \"restyle\",\n",
    "                        \"args\": [{\"x\": [exercicio_df[exercicio_df['date'] >= (df['date'].max() - pd.Timedelta(days=60)) & (exercicio_df['set_index'] == idx)]['date'] for idx in exercicio_df['set_index'].unique()],\n",
    "                                  \"y\": [exercicio_df[exercicio_df['date'] >= (df['date'].max() - pd.Timedelta(days=60)) & (exercicio_df['set_index'] == idx)]['weight_kg'] for idx in exercicio_df['set_index'].unique()]}]\n",
    "                    },\n",
    "                    {\n",
    "                        \"label\": \"Últimos 90 dias\",\n",
    "                        \"method\": \"restyle\",\n",
    "                        \"args\": [{\"x\": [exercicio_df[exercicio_df['date'] >= (df['date'].max() - pd.Timedelta(days=90)) & (exercicio_df['set_index'] == idx)]['date'] for idx in exercicio_df['set_index'].unique()],\n",
    "                                  \"y\": [exercicio_df[exercicio_df['date'] >= (df['date'].max() - pd.Timedelta(days=90)) & (exercicio_df['set_index'] == idx)]['weight_kg'] for idx in exercicio_df['set_index'].unique()]}]\n",
    "                    },\n",
    "                ],\n",
    "                \"direction\": \"down\",\n",
    "                \"showactive\": True\n",
    "            }\n",
    "        ]\n",
    "    )\n",
    "\n",
    "    fig = go.Figure(data=traces, layout=layout)\n",
    "    fig.write_html(output_path, auto_open=True)\n",
    "\n",
    "# Exemplo de uso:\n",
    "gerar_grafico_interativo(workout_df_columns_filtered, 'Legs sábado', 'Deadlift (Barbell)')\n"
   ]
  },
  {
   "cell_type": "code",
   "execution_count": 22,
   "id": "f0dca046",
   "metadata": {},
   "outputs": [
    {
     "data": {
      "text/plain": [
       "0    2025-04-05\n",
       "Name: date, dtype: object"
      ]
     },
     "execution_count": 22,
     "metadata": {},
     "output_type": "execute_result"
    }
   ],
   "source": [
    "workout_df_columns_filtered['date'].head(1)"
   ]
  }
 ],
 "metadata": {
  "kernelspec": {
   "display_name": "Python 3",
   "language": "python",
   "name": "python3"
  },
  "language_info": {
   "codemirror_mode": {
    "name": "ipython",
    "version": 3
   },
   "file_extension": ".py",
   "mimetype": "text/x-python",
   "name": "python",
   "nbconvert_exporter": "python",
   "pygments_lexer": "ipython3",
   "version": "3.11.9"
  }
 },
 "nbformat": 4,
 "nbformat_minor": 5
}
