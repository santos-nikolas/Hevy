{
 "cells": [
  {
   "cell_type": "code",
   "execution_count": 1,
   "id": "fd8211af",
   "metadata": {},
   "outputs": [
    {
     "data": {
      "text/html": [
       "<div>\n",
       "<style scoped>\n",
       "    .dataframe tbody tr th:only-of-type {\n",
       "        vertical-align: middle;\n",
       "    }\n",
       "\n",
       "    .dataframe tbody tr th {\n",
       "        vertical-align: top;\n",
       "    }\n",
       "\n",
       "    .dataframe thead th {\n",
       "        text-align: right;\n",
       "    }\n",
       "</style>\n",
       "<table border=\"1\" class=\"dataframe\">\n",
       "  <thead>\n",
       "    <tr style=\"text-align: right;\">\n",
       "      <th></th>\n",
       "      <th>title</th>\n",
       "      <th>start_time</th>\n",
       "      <th>end_time</th>\n",
       "      <th>description</th>\n",
       "      <th>exercise_title</th>\n",
       "      <th>superset_id</th>\n",
       "      <th>exercise_notes</th>\n",
       "      <th>set_index</th>\n",
       "      <th>set_type</th>\n",
       "      <th>weight_kg</th>\n",
       "      <th>reps</th>\n",
       "      <th>distance_km</th>\n",
       "      <th>duration_seconds</th>\n",
       "      <th>rpe</th>\n",
       "    </tr>\n",
       "  </thead>\n",
       "  <tbody>\n",
       "    <tr>\n",
       "      <th>0</th>\n",
       "      <td>Leg day - quarta-feira</td>\n",
       "      <td>16 Apr 2025, 15:56</td>\n",
       "      <td>16 Apr 2025, 17:54</td>\n",
       "      <td>NaN</td>\n",
       "      <td>Squat (Barbell)</td>\n",
       "      <td>NaN</td>\n",
       "      <td>NaN</td>\n",
       "      <td>0</td>\n",
       "      <td>normal</td>\n",
       "      <td>140.0</td>\n",
       "      <td>6</td>\n",
       "      <td>NaN</td>\n",
       "      <td>NaN</td>\n",
       "      <td>NaN</td>\n",
       "    </tr>\n",
       "    <tr>\n",
       "      <th>1</th>\n",
       "      <td>Leg day - quarta-feira</td>\n",
       "      <td>16 Apr 2025, 15:56</td>\n",
       "      <td>16 Apr 2025, 17:54</td>\n",
       "      <td>NaN</td>\n",
       "      <td>Squat (Barbell)</td>\n",
       "      <td>NaN</td>\n",
       "      <td>NaN</td>\n",
       "      <td>1</td>\n",
       "      <td>failure</td>\n",
       "      <td>145.0</td>\n",
       "      <td>4</td>\n",
       "      <td>NaN</td>\n",
       "      <td>NaN</td>\n",
       "      <td>NaN</td>\n",
       "    </tr>\n",
       "    <tr>\n",
       "      <th>2</th>\n",
       "      <td>Leg day - quarta-feira</td>\n",
       "      <td>16 Apr 2025, 15:56</td>\n",
       "      <td>16 Apr 2025, 17:54</td>\n",
       "      <td>NaN</td>\n",
       "      <td>Leg Press (Machine)</td>\n",
       "      <td>NaN</td>\n",
       "      <td>NaN</td>\n",
       "      <td>0</td>\n",
       "      <td>normal</td>\n",
       "      <td>165.0</td>\n",
       "      <td>8</td>\n",
       "      <td>NaN</td>\n",
       "      <td>NaN</td>\n",
       "      <td>NaN</td>\n",
       "    </tr>\n",
       "    <tr>\n",
       "      <th>3</th>\n",
       "      <td>Leg day - quarta-feira</td>\n",
       "      <td>16 Apr 2025, 15:56</td>\n",
       "      <td>16 Apr 2025, 17:54</td>\n",
       "      <td>NaN</td>\n",
       "      <td>Leg Press (Machine)</td>\n",
       "      <td>NaN</td>\n",
       "      <td>NaN</td>\n",
       "      <td>1</td>\n",
       "      <td>failure</td>\n",
       "      <td>170.0</td>\n",
       "      <td>7</td>\n",
       "      <td>NaN</td>\n",
       "      <td>NaN</td>\n",
       "      <td>NaN</td>\n",
       "    </tr>\n",
       "    <tr>\n",
       "      <th>4</th>\n",
       "      <td>Leg day - quarta-feira</td>\n",
       "      <td>16 Apr 2025, 15:56</td>\n",
       "      <td>16 Apr 2025, 17:54</td>\n",
       "      <td>NaN</td>\n",
       "      <td>Lying Leg Curl (Machine)</td>\n",
       "      <td>NaN</td>\n",
       "      <td>NaN</td>\n",
       "      <td>0</td>\n",
       "      <td>normal</td>\n",
       "      <td>45.0</td>\n",
       "      <td>9</td>\n",
       "      <td>NaN</td>\n",
       "      <td>NaN</td>\n",
       "      <td>NaN</td>\n",
       "    </tr>\n",
       "    <tr>\n",
       "      <th>...</th>\n",
       "      <td>...</td>\n",
       "      <td>...</td>\n",
       "      <td>...</td>\n",
       "      <td>...</td>\n",
       "      <td>...</td>\n",
       "      <td>...</td>\n",
       "      <td>...</td>\n",
       "      <td>...</td>\n",
       "      <td>...</td>\n",
       "      <td>...</td>\n",
       "      <td>...</td>\n",
       "      <td>...</td>\n",
       "      <td>...</td>\n",
       "      <td>...</td>\n",
       "    </tr>\n",
       "    <tr>\n",
       "      <th>6454</th>\n",
       "      <td>Back day - segunda-feira</td>\n",
       "      <td>11 Dec 2023, 16:54</td>\n",
       "      <td>11 Dec 2023, 19:08</td>\n",
       "      <td>NaN</td>\n",
       "      <td>Calf Press (Machine)</td>\n",
       "      <td>NaN</td>\n",
       "      <td>NaN</td>\n",
       "      <td>1</td>\n",
       "      <td>normal</td>\n",
       "      <td>180.0</td>\n",
       "      <td>10</td>\n",
       "      <td>NaN</td>\n",
       "      <td>NaN</td>\n",
       "      <td>NaN</td>\n",
       "    </tr>\n",
       "    <tr>\n",
       "      <th>6455</th>\n",
       "      <td>Back day - segunda-feira</td>\n",
       "      <td>11 Dec 2023, 16:54</td>\n",
       "      <td>11 Dec 2023, 19:08</td>\n",
       "      <td>NaN</td>\n",
       "      <td>Calf Press (Machine)</td>\n",
       "      <td>NaN</td>\n",
       "      <td>NaN</td>\n",
       "      <td>2</td>\n",
       "      <td>failure</td>\n",
       "      <td>200.0</td>\n",
       "      <td>10</td>\n",
       "      <td>NaN</td>\n",
       "      <td>NaN</td>\n",
       "      <td>NaN</td>\n",
       "    </tr>\n",
       "    <tr>\n",
       "      <th>6456</th>\n",
       "      <td>Back day - segunda-feira</td>\n",
       "      <td>11 Dec 2023, 16:54</td>\n",
       "      <td>11 Dec 2023, 19:08</td>\n",
       "      <td>NaN</td>\n",
       "      <td>Cable Crunch</td>\n",
       "      <td>NaN</td>\n",
       "      <td>NaN</td>\n",
       "      <td>0</td>\n",
       "      <td>normal</td>\n",
       "      <td>70.0</td>\n",
       "      <td>14</td>\n",
       "      <td>NaN</td>\n",
       "      <td>NaN</td>\n",
       "      <td>NaN</td>\n",
       "    </tr>\n",
       "    <tr>\n",
       "      <th>6457</th>\n",
       "      <td>Back day - segunda-feira</td>\n",
       "      <td>11 Dec 2023, 16:54</td>\n",
       "      <td>11 Dec 2023, 19:08</td>\n",
       "      <td>NaN</td>\n",
       "      <td>Cable Crunch</td>\n",
       "      <td>NaN</td>\n",
       "      <td>NaN</td>\n",
       "      <td>1</td>\n",
       "      <td>normal</td>\n",
       "      <td>70.0</td>\n",
       "      <td>11</td>\n",
       "      <td>NaN</td>\n",
       "      <td>NaN</td>\n",
       "      <td>NaN</td>\n",
       "    </tr>\n",
       "    <tr>\n",
       "      <th>6458</th>\n",
       "      <td>Back day - segunda-feira</td>\n",
       "      <td>11 Dec 2023, 16:54</td>\n",
       "      <td>11 Dec 2023, 19:08</td>\n",
       "      <td>NaN</td>\n",
       "      <td>Cable Crunch</td>\n",
       "      <td>NaN</td>\n",
       "      <td>NaN</td>\n",
       "      <td>2</td>\n",
       "      <td>normal</td>\n",
       "      <td>75.0</td>\n",
       "      <td>7</td>\n",
       "      <td>NaN</td>\n",
       "      <td>NaN</td>\n",
       "      <td>NaN</td>\n",
       "    </tr>\n",
       "  </tbody>\n",
       "</table>\n",
       "<p>6459 rows × 14 columns</p>\n",
       "</div>"
      ],
      "text/plain": [
       "                         title          start_time            end_time  \\\n",
       "0       Leg day - quarta-feira  16 Apr 2025, 15:56  16 Apr 2025, 17:54   \n",
       "1       Leg day - quarta-feira  16 Apr 2025, 15:56  16 Apr 2025, 17:54   \n",
       "2       Leg day - quarta-feira  16 Apr 2025, 15:56  16 Apr 2025, 17:54   \n",
       "3       Leg day - quarta-feira  16 Apr 2025, 15:56  16 Apr 2025, 17:54   \n",
       "4       Leg day - quarta-feira  16 Apr 2025, 15:56  16 Apr 2025, 17:54   \n",
       "...                        ...                 ...                 ...   \n",
       "6454  Back day - segunda-feira  11 Dec 2023, 16:54  11 Dec 2023, 19:08   \n",
       "6455  Back day - segunda-feira  11 Dec 2023, 16:54  11 Dec 2023, 19:08   \n",
       "6456  Back day - segunda-feira  11 Dec 2023, 16:54  11 Dec 2023, 19:08   \n",
       "6457  Back day - segunda-feira  11 Dec 2023, 16:54  11 Dec 2023, 19:08   \n",
       "6458  Back day - segunda-feira  11 Dec 2023, 16:54  11 Dec 2023, 19:08   \n",
       "\n",
       "     description            exercise_title  superset_id exercise_notes  \\\n",
       "0            NaN           Squat (Barbell)          NaN            NaN   \n",
       "1            NaN           Squat (Barbell)          NaN            NaN   \n",
       "2            NaN       Leg Press (Machine)          NaN            NaN   \n",
       "3            NaN       Leg Press (Machine)          NaN            NaN   \n",
       "4            NaN  Lying Leg Curl (Machine)          NaN            NaN   \n",
       "...          ...                       ...          ...            ...   \n",
       "6454         NaN      Calf Press (Machine)          NaN            NaN   \n",
       "6455         NaN      Calf Press (Machine)          NaN            NaN   \n",
       "6456         NaN              Cable Crunch          NaN            NaN   \n",
       "6457         NaN              Cable Crunch          NaN            NaN   \n",
       "6458         NaN              Cable Crunch          NaN            NaN   \n",
       "\n",
       "      set_index set_type  weight_kg  reps  distance_km  duration_seconds  rpe  \n",
       "0             0   normal      140.0     6          NaN               NaN  NaN  \n",
       "1             1  failure      145.0     4          NaN               NaN  NaN  \n",
       "2             0   normal      165.0     8          NaN               NaN  NaN  \n",
       "3             1  failure      170.0     7          NaN               NaN  NaN  \n",
       "4             0   normal       45.0     9          NaN               NaN  NaN  \n",
       "...         ...      ...        ...   ...          ...               ...  ...  \n",
       "6454          1   normal      180.0    10          NaN               NaN  NaN  \n",
       "6455          2  failure      200.0    10          NaN               NaN  NaN  \n",
       "6456          0   normal       70.0    14          NaN               NaN  NaN  \n",
       "6457          1   normal       70.0    11          NaN               NaN  NaN  \n",
       "6458          2   normal       75.0     7          NaN               NaN  NaN  \n",
       "\n",
       "[6459 rows x 14 columns]"
      ]
     },
     "execution_count": 1,
     "metadata": {},
     "output_type": "execute_result"
    }
   ],
   "source": [
    "import numpy as np\n",
    "import pandas as pd\n",
    "from datetime import datetime, timedelta\n",
    "import plotly.express as px\n",
    "import plotly.graph_objects as go\n",
    "\n",
    "workout_df = pd.read_csv('workouts.csv')\n",
    "workout_df"
   ]
  },
  {
   "cell_type": "code",
   "execution_count": 2,
   "id": "e45b8329",
   "metadata": {},
   "outputs": [
    {
     "data": {
      "text/plain": [
       "Index(['title', 'start_time', 'end_time', 'description', 'exercise_title',\n",
       "       'superset_id', 'exercise_notes', 'set_index', 'set_type', 'weight_kg',\n",
       "       'reps', 'distance_km', 'duration_seconds', 'rpe'],\n",
       "      dtype='object')"
      ]
     },
     "execution_count": 2,
     "metadata": {},
     "output_type": "execute_result"
    }
   ],
   "source": [
    "workout_df.columns"
   ]
  },
  {
   "cell_type": "code",
   "execution_count": 3,
   "id": "b4bc65c9",
   "metadata": {},
   "outputs": [
    {
     "data": {
      "text/plain": [
       "title                object\n",
       "start_time           object\n",
       "end_time             object\n",
       "description          object\n",
       "exercise_title       object\n",
       "superset_id         float64\n",
       "exercise_notes       object\n",
       "set_index             int64\n",
       "set_type             object\n",
       "weight_kg           float64\n",
       "reps                  int64\n",
       "distance_km         float64\n",
       "duration_seconds    float64\n",
       "rpe                 float64\n",
       "dtype: object"
      ]
     },
     "execution_count": 3,
     "metadata": {},
     "output_type": "execute_result"
    }
   ],
   "source": [
    "workout_df.dtypes"
   ]
  },
  {
   "cell_type": "code",
   "execution_count": 4,
   "id": "128d1b51",
   "metadata": {},
   "outputs": [
    {
     "data": {
      "text/html": [
       "<div>\n",
       "<style scoped>\n",
       "    .dataframe tbody tr th:only-of-type {\n",
       "        vertical-align: middle;\n",
       "    }\n",
       "\n",
       "    .dataframe tbody tr th {\n",
       "        vertical-align: top;\n",
       "    }\n",
       "\n",
       "    .dataframe thead th {\n",
       "        text-align: right;\n",
       "    }\n",
       "</style>\n",
       "<table border=\"1\" class=\"dataframe\">\n",
       "  <thead>\n",
       "    <tr style=\"text-align: right;\">\n",
       "      <th></th>\n",
       "      <th>superset_id</th>\n",
       "      <th>set_index</th>\n",
       "      <th>weight_kg</th>\n",
       "      <th>reps</th>\n",
       "      <th>distance_km</th>\n",
       "      <th>duration_seconds</th>\n",
       "      <th>rpe</th>\n",
       "    </tr>\n",
       "  </thead>\n",
       "  <tbody>\n",
       "    <tr>\n",
       "      <th>count</th>\n",
       "      <td>48.0</td>\n",
       "      <td>6459.000000</td>\n",
       "      <td>6447.000000</td>\n",
       "      <td>6459.000000</td>\n",
       "      <td>0.0</td>\n",
       "      <td>0.0</td>\n",
       "      <td>0.0</td>\n",
       "    </tr>\n",
       "    <tr>\n",
       "      <th>mean</th>\n",
       "      <td>0.0</td>\n",
       "      <td>1.163493</td>\n",
       "      <td>70.024556</td>\n",
       "      <td>6.821180</td>\n",
       "      <td>NaN</td>\n",
       "      <td>NaN</td>\n",
       "      <td>NaN</td>\n",
       "    </tr>\n",
       "    <tr>\n",
       "      <th>std</th>\n",
       "      <td>0.0</td>\n",
       "      <td>1.099097</td>\n",
       "      <td>54.561507</td>\n",
       "      <td>2.526186</td>\n",
       "      <td>NaN</td>\n",
       "      <td>NaN</td>\n",
       "      <td>NaN</td>\n",
       "    </tr>\n",
       "    <tr>\n",
       "      <th>min</th>\n",
       "      <td>0.0</td>\n",
       "      <td>0.000000</td>\n",
       "      <td>1.000000</td>\n",
       "      <td>1.000000</td>\n",
       "      <td>NaN</td>\n",
       "      <td>NaN</td>\n",
       "      <td>NaN</td>\n",
       "    </tr>\n",
       "    <tr>\n",
       "      <th>25%</th>\n",
       "      <td>0.0</td>\n",
       "      <td>0.000000</td>\n",
       "      <td>30.000000</td>\n",
       "      <td>5.000000</td>\n",
       "      <td>NaN</td>\n",
       "      <td>NaN</td>\n",
       "      <td>NaN</td>\n",
       "    </tr>\n",
       "    <tr>\n",
       "      <th>50%</th>\n",
       "      <td>0.0</td>\n",
       "      <td>1.000000</td>\n",
       "      <td>50.000000</td>\n",
       "      <td>7.000000</td>\n",
       "      <td>NaN</td>\n",
       "      <td>NaN</td>\n",
       "      <td>NaN</td>\n",
       "    </tr>\n",
       "    <tr>\n",
       "      <th>75%</th>\n",
       "      <td>0.0</td>\n",
       "      <td>2.000000</td>\n",
       "      <td>100.000000</td>\n",
       "      <td>8.000000</td>\n",
       "      <td>NaN</td>\n",
       "      <td>NaN</td>\n",
       "      <td>NaN</td>\n",
       "    </tr>\n",
       "    <tr>\n",
       "      <th>max</th>\n",
       "      <td>0.0</td>\n",
       "      <td>6.000000</td>\n",
       "      <td>330.000000</td>\n",
       "      <td>69.000000</td>\n",
       "      <td>NaN</td>\n",
       "      <td>NaN</td>\n",
       "      <td>NaN</td>\n",
       "    </tr>\n",
       "  </tbody>\n",
       "</table>\n",
       "</div>"
      ],
      "text/plain": [
       "       superset_id    set_index    weight_kg         reps  distance_km  \\\n",
       "count         48.0  6459.000000  6447.000000  6459.000000          0.0   \n",
       "mean           0.0     1.163493    70.024556     6.821180          NaN   \n",
       "std            0.0     1.099097    54.561507     2.526186          NaN   \n",
       "min            0.0     0.000000     1.000000     1.000000          NaN   \n",
       "25%            0.0     0.000000    30.000000     5.000000          NaN   \n",
       "50%            0.0     1.000000    50.000000     7.000000          NaN   \n",
       "75%            0.0     2.000000   100.000000     8.000000          NaN   \n",
       "max            0.0     6.000000   330.000000    69.000000          NaN   \n",
       "\n",
       "       duration_seconds  rpe  \n",
       "count               0.0  0.0  \n",
       "mean                NaN  NaN  \n",
       "std                 NaN  NaN  \n",
       "min                 NaN  NaN  \n",
       "25%                 NaN  NaN  \n",
       "50%                 NaN  NaN  \n",
       "75%                 NaN  NaN  \n",
       "max                 NaN  NaN  "
      ]
     },
     "execution_count": 4,
     "metadata": {},
     "output_type": "execute_result"
    }
   ],
   "source": [
    "workout_df.describe()"
   ]
  },
  {
   "cell_type": "code",
   "execution_count": 5,
   "id": "332450c0",
   "metadata": {},
   "outputs": [
    {
     "data": {
      "text/html": [
       "<div>\n",
       "<style scoped>\n",
       "    .dataframe tbody tr th:only-of-type {\n",
       "        vertical-align: middle;\n",
       "    }\n",
       "\n",
       "    .dataframe tbody tr th {\n",
       "        vertical-align: top;\n",
       "    }\n",
       "\n",
       "    .dataframe thead th {\n",
       "        text-align: right;\n",
       "    }\n",
       "</style>\n",
       "<table border=\"1\" class=\"dataframe\">\n",
       "  <thead>\n",
       "    <tr style=\"text-align: right;\">\n",
       "      <th></th>\n",
       "      <th>title</th>\n",
       "      <th>date</th>\n",
       "      <th>exercise_title</th>\n",
       "      <th>set_index</th>\n",
       "      <th>set_type</th>\n",
       "      <th>weight_kg</th>\n",
       "      <th>reps</th>\n",
       "    </tr>\n",
       "  </thead>\n",
       "  <tbody>\n",
       "    <tr>\n",
       "      <th>0</th>\n",
       "      <td>Leg day - quarta-feira</td>\n",
       "      <td>16 Apr 2025, 15:56</td>\n",
       "      <td>Squat (Barbell)</td>\n",
       "      <td>0</td>\n",
       "      <td>normal</td>\n",
       "      <td>140.0</td>\n",
       "      <td>6</td>\n",
       "    </tr>\n",
       "    <tr>\n",
       "      <th>1</th>\n",
       "      <td>Leg day - quarta-feira</td>\n",
       "      <td>16 Apr 2025, 15:56</td>\n",
       "      <td>Squat (Barbell)</td>\n",
       "      <td>1</td>\n",
       "      <td>failure</td>\n",
       "      <td>145.0</td>\n",
       "      <td>4</td>\n",
       "    </tr>\n",
       "    <tr>\n",
       "      <th>2</th>\n",
       "      <td>Leg day - quarta-feira</td>\n",
       "      <td>16 Apr 2025, 15:56</td>\n",
       "      <td>Leg Press (Machine)</td>\n",
       "      <td>0</td>\n",
       "      <td>normal</td>\n",
       "      <td>165.0</td>\n",
       "      <td>8</td>\n",
       "    </tr>\n",
       "    <tr>\n",
       "      <th>3</th>\n",
       "      <td>Leg day - quarta-feira</td>\n",
       "      <td>16 Apr 2025, 15:56</td>\n",
       "      <td>Leg Press (Machine)</td>\n",
       "      <td>1</td>\n",
       "      <td>failure</td>\n",
       "      <td>170.0</td>\n",
       "      <td>7</td>\n",
       "    </tr>\n",
       "    <tr>\n",
       "      <th>4</th>\n",
       "      <td>Leg day - quarta-feira</td>\n",
       "      <td>16 Apr 2025, 15:56</td>\n",
       "      <td>Lying Leg Curl (Machine)</td>\n",
       "      <td>0</td>\n",
       "      <td>normal</td>\n",
       "      <td>45.0</td>\n",
       "      <td>9</td>\n",
       "    </tr>\n",
       "    <tr>\n",
       "      <th>...</th>\n",
       "      <td>...</td>\n",
       "      <td>...</td>\n",
       "      <td>...</td>\n",
       "      <td>...</td>\n",
       "      <td>...</td>\n",
       "      <td>...</td>\n",
       "      <td>...</td>\n",
       "    </tr>\n",
       "    <tr>\n",
       "      <th>6454</th>\n",
       "      <td>Back day - segunda-feira</td>\n",
       "      <td>11 Dec 2023, 16:54</td>\n",
       "      <td>Calf Press (Machine)</td>\n",
       "      <td>1</td>\n",
       "      <td>normal</td>\n",
       "      <td>180.0</td>\n",
       "      <td>10</td>\n",
       "    </tr>\n",
       "    <tr>\n",
       "      <th>6455</th>\n",
       "      <td>Back day - segunda-feira</td>\n",
       "      <td>11 Dec 2023, 16:54</td>\n",
       "      <td>Calf Press (Machine)</td>\n",
       "      <td>2</td>\n",
       "      <td>failure</td>\n",
       "      <td>200.0</td>\n",
       "      <td>10</td>\n",
       "    </tr>\n",
       "    <tr>\n",
       "      <th>6456</th>\n",
       "      <td>Back day - segunda-feira</td>\n",
       "      <td>11 Dec 2023, 16:54</td>\n",
       "      <td>Cable Crunch</td>\n",
       "      <td>0</td>\n",
       "      <td>normal</td>\n",
       "      <td>70.0</td>\n",
       "      <td>14</td>\n",
       "    </tr>\n",
       "    <tr>\n",
       "      <th>6457</th>\n",
       "      <td>Back day - segunda-feira</td>\n",
       "      <td>11 Dec 2023, 16:54</td>\n",
       "      <td>Cable Crunch</td>\n",
       "      <td>1</td>\n",
       "      <td>normal</td>\n",
       "      <td>70.0</td>\n",
       "      <td>11</td>\n",
       "    </tr>\n",
       "    <tr>\n",
       "      <th>6458</th>\n",
       "      <td>Back day - segunda-feira</td>\n",
       "      <td>11 Dec 2023, 16:54</td>\n",
       "      <td>Cable Crunch</td>\n",
       "      <td>2</td>\n",
       "      <td>normal</td>\n",
       "      <td>75.0</td>\n",
       "      <td>7</td>\n",
       "    </tr>\n",
       "  </tbody>\n",
       "</table>\n",
       "<p>6459 rows × 7 columns</p>\n",
       "</div>"
      ],
      "text/plain": [
       "                         title                date            exercise_title  \\\n",
       "0       Leg day - quarta-feira  16 Apr 2025, 15:56           Squat (Barbell)   \n",
       "1       Leg day - quarta-feira  16 Apr 2025, 15:56           Squat (Barbell)   \n",
       "2       Leg day - quarta-feira  16 Apr 2025, 15:56       Leg Press (Machine)   \n",
       "3       Leg day - quarta-feira  16 Apr 2025, 15:56       Leg Press (Machine)   \n",
       "4       Leg day - quarta-feira  16 Apr 2025, 15:56  Lying Leg Curl (Machine)   \n",
       "...                        ...                 ...                       ...   \n",
       "6454  Back day - segunda-feira  11 Dec 2023, 16:54      Calf Press (Machine)   \n",
       "6455  Back day - segunda-feira  11 Dec 2023, 16:54      Calf Press (Machine)   \n",
       "6456  Back day - segunda-feira  11 Dec 2023, 16:54              Cable Crunch   \n",
       "6457  Back day - segunda-feira  11 Dec 2023, 16:54              Cable Crunch   \n",
       "6458  Back day - segunda-feira  11 Dec 2023, 16:54              Cable Crunch   \n",
       "\n",
       "      set_index set_type  weight_kg  reps  \n",
       "0             0   normal      140.0     6  \n",
       "1             1  failure      145.0     4  \n",
       "2             0   normal      165.0     8  \n",
       "3             1  failure      170.0     7  \n",
       "4             0   normal       45.0     9  \n",
       "...         ...      ...        ...   ...  \n",
       "6454          1   normal      180.0    10  \n",
       "6455          2  failure      200.0    10  \n",
       "6456          0   normal       70.0    14  \n",
       "6457          1   normal       70.0    11  \n",
       "6458          2   normal       75.0     7  \n",
       "\n",
       "[6459 rows x 7 columns]"
      ]
     },
     "execution_count": 5,
     "metadata": {},
     "output_type": "execute_result"
    }
   ],
   "source": [
    "workout_df_columns_filtered = workout_df[['title','start_time', 'exercise_title', 'set_index', 'set_type', 'weight_kg', 'reps']]\n",
    "workout_df_columns_filtered = workout_df_columns_filtered.rename(columns={'start_time': 'date'})\n",
    "workout_df_columns_filtered\n"
   ]
  },
  {
   "cell_type": "code",
   "execution_count": 6,
   "id": "cffa9eac",
   "metadata": {},
   "outputs": [
    {
     "data": {
      "text/html": [
       "<div>\n",
       "<style scoped>\n",
       "    .dataframe tbody tr th:only-of-type {\n",
       "        vertical-align: middle;\n",
       "    }\n",
       "\n",
       "    .dataframe tbody tr th {\n",
       "        vertical-align: top;\n",
       "    }\n",
       "\n",
       "    .dataframe thead th {\n",
       "        text-align: right;\n",
       "    }\n",
       "</style>\n",
       "<table border=\"1\" class=\"dataframe\">\n",
       "  <thead>\n",
       "    <tr style=\"text-align: right;\">\n",
       "      <th></th>\n",
       "      <th>title</th>\n",
       "      <th>date</th>\n",
       "      <th>exercise_title</th>\n",
       "      <th>set_index</th>\n",
       "      <th>set_type</th>\n",
       "      <th>weight_kg</th>\n",
       "      <th>reps</th>\n",
       "    </tr>\n",
       "  </thead>\n",
       "  <tbody>\n",
       "    <tr>\n",
       "      <th>0</th>\n",
       "      <td>Leg day - quarta-feira</td>\n",
       "      <td>2025-04-16</td>\n",
       "      <td>Squat (Barbell)</td>\n",
       "      <td>0</td>\n",
       "      <td>normal</td>\n",
       "      <td>140.0</td>\n",
       "      <td>6</td>\n",
       "    </tr>\n",
       "    <tr>\n",
       "      <th>1</th>\n",
       "      <td>Leg day - quarta-feira</td>\n",
       "      <td>2025-04-16</td>\n",
       "      <td>Squat (Barbell)</td>\n",
       "      <td>1</td>\n",
       "      <td>failure</td>\n",
       "      <td>145.0</td>\n",
       "      <td>4</td>\n",
       "    </tr>\n",
       "    <tr>\n",
       "      <th>2</th>\n",
       "      <td>Leg day - quarta-feira</td>\n",
       "      <td>2025-04-16</td>\n",
       "      <td>Leg Press (Machine)</td>\n",
       "      <td>0</td>\n",
       "      <td>normal</td>\n",
       "      <td>165.0</td>\n",
       "      <td>8</td>\n",
       "    </tr>\n",
       "    <tr>\n",
       "      <th>3</th>\n",
       "      <td>Leg day - quarta-feira</td>\n",
       "      <td>2025-04-16</td>\n",
       "      <td>Leg Press (Machine)</td>\n",
       "      <td>1</td>\n",
       "      <td>failure</td>\n",
       "      <td>170.0</td>\n",
       "      <td>7</td>\n",
       "    </tr>\n",
       "    <tr>\n",
       "      <th>4</th>\n",
       "      <td>Leg day - quarta-feira</td>\n",
       "      <td>2025-04-16</td>\n",
       "      <td>Lying Leg Curl (Machine)</td>\n",
       "      <td>0</td>\n",
       "      <td>normal</td>\n",
       "      <td>45.0</td>\n",
       "      <td>9</td>\n",
       "    </tr>\n",
       "  </tbody>\n",
       "</table>\n",
       "</div>"
      ],
      "text/plain": [
       "                    title        date            exercise_title  set_index  \\\n",
       "0  Leg day - quarta-feira  2025-04-16           Squat (Barbell)          0   \n",
       "1  Leg day - quarta-feira  2025-04-16           Squat (Barbell)          1   \n",
       "2  Leg day - quarta-feira  2025-04-16       Leg Press (Machine)          0   \n",
       "3  Leg day - quarta-feira  2025-04-16       Leg Press (Machine)          1   \n",
       "4  Leg day - quarta-feira  2025-04-16  Lying Leg Curl (Machine)          0   \n",
       "\n",
       "  set_type  weight_kg  reps  \n",
       "0   normal      140.0     6  \n",
       "1  failure      145.0     4  \n",
       "2   normal      165.0     8  \n",
       "3  failure      170.0     7  \n",
       "4   normal       45.0     9  "
      ]
     },
     "execution_count": 6,
     "metadata": {},
     "output_type": "execute_result"
    }
   ],
   "source": [
    "workout_df_columns_filtered['date'] = pd.to_datetime(workout_df_columns_filtered['date'], format=\"%d %b %Y, %H:%M\")\n",
    "# workout_df_columns_filtered['date'] = workout_df_columns_filtered['date'].dt.date\n",
    "workout_df_columns_filtered['date'] = workout_df_columns_filtered['date'].dt.date\n",
    "# Data atual\n",
    "hoje = datetime.now().date()\n",
    "\n",
    "# Data limite\n",
    "limite = hoje - timedelta(days=90)\n",
    "\n",
    "# Filtrando\n",
    "workout_df_columns_filtered = workout_df_columns_filtered[workout_df_columns_filtered['date'] >= limite]\n",
    "workout_df_columns_filtered.head()"
   ]
  },
  {
   "cell_type": "code",
   "execution_count": 7,
   "id": "bd5fd1b6",
   "metadata": {},
   "outputs": [
    {
     "data": {
      "text/html": [
       "<div>\n",
       "<style scoped>\n",
       "    .dataframe tbody tr th:only-of-type {\n",
       "        vertical-align: middle;\n",
       "    }\n",
       "\n",
       "    .dataframe tbody tr th {\n",
       "        vertical-align: top;\n",
       "    }\n",
       "\n",
       "    .dataframe thead th {\n",
       "        text-align: right;\n",
       "    }\n",
       "</style>\n",
       "<table border=\"1\" class=\"dataframe\">\n",
       "  <thead>\n",
       "    <tr style=\"text-align: right;\">\n",
       "      <th></th>\n",
       "      <th>title</th>\n",
       "      <th>date</th>\n",
       "      <th>exercise_title</th>\n",
       "      <th>set_index</th>\n",
       "      <th>set_type</th>\n",
       "      <th>weight_kg</th>\n",
       "      <th>reps</th>\n",
       "    </tr>\n",
       "  </thead>\n",
       "  <tbody>\n",
       "    <tr>\n",
       "      <th>42</th>\n",
       "      <td>Legs sábado</td>\n",
       "      <td>2025-04-12</td>\n",
       "      <td>Deadlift (Barbell)</td>\n",
       "      <td>0</td>\n",
       "      <td>normal</td>\n",
       "      <td>180.0</td>\n",
       "      <td>6</td>\n",
       "    </tr>\n",
       "    <tr>\n",
       "      <th>43</th>\n",
       "      <td>Legs sábado</td>\n",
       "      <td>2025-04-12</td>\n",
       "      <td>Deadlift (Barbell)</td>\n",
       "      <td>1</td>\n",
       "      <td>failure</td>\n",
       "      <td>185.0</td>\n",
       "      <td>5</td>\n",
       "    </tr>\n",
       "    <tr>\n",
       "      <th>113</th>\n",
       "      <td>Legs sábado</td>\n",
       "      <td>2025-04-05</td>\n",
       "      <td>Deadlift (Barbell)</td>\n",
       "      <td>0</td>\n",
       "      <td>normal</td>\n",
       "      <td>180.0</td>\n",
       "      <td>5</td>\n",
       "    </tr>\n",
       "    <tr>\n",
       "      <th>114</th>\n",
       "      <td>Legs sábado</td>\n",
       "      <td>2025-04-05</td>\n",
       "      <td>Deadlift (Barbell)</td>\n",
       "      <td>1</td>\n",
       "      <td>failure</td>\n",
       "      <td>180.0</td>\n",
       "      <td>6</td>\n",
       "    </tr>\n",
       "    <tr>\n",
       "      <th>184</th>\n",
       "      <td>Legs sábado</td>\n",
       "      <td>2025-03-29</td>\n",
       "      <td>Deadlift (Barbell)</td>\n",
       "      <td>0</td>\n",
       "      <td>normal</td>\n",
       "      <td>200.0</td>\n",
       "      <td>3</td>\n",
       "    </tr>\n",
       "    <tr>\n",
       "      <th>185</th>\n",
       "      <td>Legs sábado</td>\n",
       "      <td>2025-03-29</td>\n",
       "      <td>Deadlift (Barbell)</td>\n",
       "      <td>1</td>\n",
       "      <td>failure</td>\n",
       "      <td>180.0</td>\n",
       "      <td>5</td>\n",
       "    </tr>\n",
       "    <tr>\n",
       "      <th>255</th>\n",
       "      <td>Legs sábado</td>\n",
       "      <td>2025-03-22</td>\n",
       "      <td>Deadlift (Barbell)</td>\n",
       "      <td>0</td>\n",
       "      <td>normal</td>\n",
       "      <td>200.0</td>\n",
       "      <td>4</td>\n",
       "    </tr>\n",
       "    <tr>\n",
       "      <th>256</th>\n",
       "      <td>Legs sábado</td>\n",
       "      <td>2025-03-22</td>\n",
       "      <td>Deadlift (Barbell)</td>\n",
       "      <td>1</td>\n",
       "      <td>failure</td>\n",
       "      <td>200.0</td>\n",
       "      <td>3</td>\n",
       "    </tr>\n",
       "    <tr>\n",
       "      <th>330</th>\n",
       "      <td>Legs sábado</td>\n",
       "      <td>2025-03-15</td>\n",
       "      <td>Deadlift (Barbell)</td>\n",
       "      <td>0</td>\n",
       "      <td>normal</td>\n",
       "      <td>200.0</td>\n",
       "      <td>5</td>\n",
       "    </tr>\n",
       "    <tr>\n",
       "      <th>331</th>\n",
       "      <td>Legs sábado</td>\n",
       "      <td>2025-03-15</td>\n",
       "      <td>Deadlift (Barbell)</td>\n",
       "      <td>1</td>\n",
       "      <td>failure</td>\n",
       "      <td>200.0</td>\n",
       "      <td>3</td>\n",
       "    </tr>\n",
       "    <tr>\n",
       "      <th>407</th>\n",
       "      <td>Legs sábado</td>\n",
       "      <td>2025-03-08</td>\n",
       "      <td>Deadlift (Barbell)</td>\n",
       "      <td>0</td>\n",
       "      <td>normal</td>\n",
       "      <td>200.0</td>\n",
       "      <td>5</td>\n",
       "    </tr>\n",
       "    <tr>\n",
       "      <th>408</th>\n",
       "      <td>Legs sábado</td>\n",
       "      <td>2025-03-08</td>\n",
       "      <td>Deadlift (Barbell)</td>\n",
       "      <td>1</td>\n",
       "      <td>failure</td>\n",
       "      <td>200.0</td>\n",
       "      <td>3</td>\n",
       "    </tr>\n",
       "    <tr>\n",
       "      <th>485</th>\n",
       "      <td>Legs sábado</td>\n",
       "      <td>2025-03-01</td>\n",
       "      <td>Deadlift (Barbell)</td>\n",
       "      <td>0</td>\n",
       "      <td>normal</td>\n",
       "      <td>200.0</td>\n",
       "      <td>4</td>\n",
       "    </tr>\n",
       "    <tr>\n",
       "      <th>486</th>\n",
       "      <td>Legs sábado</td>\n",
       "      <td>2025-03-01</td>\n",
       "      <td>Deadlift (Barbell)</td>\n",
       "      <td>1</td>\n",
       "      <td>failure</td>\n",
       "      <td>200.0</td>\n",
       "      <td>4</td>\n",
       "    </tr>\n",
       "    <tr>\n",
       "      <th>562</th>\n",
       "      <td>Legs sábado</td>\n",
       "      <td>2025-02-22</td>\n",
       "      <td>Deadlift (Barbell)</td>\n",
       "      <td>0</td>\n",
       "      <td>normal</td>\n",
       "      <td>195.0</td>\n",
       "      <td>6</td>\n",
       "    </tr>\n",
       "    <tr>\n",
       "      <th>563</th>\n",
       "      <td>Legs sábado</td>\n",
       "      <td>2025-02-22</td>\n",
       "      <td>Deadlift (Barbell)</td>\n",
       "      <td>1</td>\n",
       "      <td>failure</td>\n",
       "      <td>200.0</td>\n",
       "      <td>4</td>\n",
       "    </tr>\n",
       "    <tr>\n",
       "      <th>672</th>\n",
       "      <td>Legs sábado</td>\n",
       "      <td>2025-02-01</td>\n",
       "      <td>Deadlift (Barbell)</td>\n",
       "      <td>0</td>\n",
       "      <td>normal</td>\n",
       "      <td>195.0</td>\n",
       "      <td>6</td>\n",
       "    </tr>\n",
       "    <tr>\n",
       "      <th>673</th>\n",
       "      <td>Legs sábado</td>\n",
       "      <td>2025-02-01</td>\n",
       "      <td>Deadlift (Barbell)</td>\n",
       "      <td>1</td>\n",
       "      <td>normal</td>\n",
       "      <td>195.0</td>\n",
       "      <td>4</td>\n",
       "    </tr>\n",
       "    <tr>\n",
       "      <th>674</th>\n",
       "      <td>Legs sábado</td>\n",
       "      <td>2025-02-01</td>\n",
       "      <td>Deadlift (Barbell)</td>\n",
       "      <td>2</td>\n",
       "      <td>failure</td>\n",
       "      <td>195.0</td>\n",
       "      <td>3</td>\n",
       "    </tr>\n",
       "    <tr>\n",
       "      <th>746</th>\n",
       "      <td>Legs sábado</td>\n",
       "      <td>2025-01-25</td>\n",
       "      <td>Deadlift (Barbell)</td>\n",
       "      <td>0</td>\n",
       "      <td>normal</td>\n",
       "      <td>195.0</td>\n",
       "      <td>4</td>\n",
       "    </tr>\n",
       "    <tr>\n",
       "      <th>747</th>\n",
       "      <td>Legs sábado</td>\n",
       "      <td>2025-01-25</td>\n",
       "      <td>Deadlift (Barbell)</td>\n",
       "      <td>1</td>\n",
       "      <td>normal</td>\n",
       "      <td>195.0</td>\n",
       "      <td>4</td>\n",
       "    </tr>\n",
       "    <tr>\n",
       "      <th>748</th>\n",
       "      <td>Legs sábado</td>\n",
       "      <td>2025-01-25</td>\n",
       "      <td>Deadlift (Barbell)</td>\n",
       "      <td>2</td>\n",
       "      <td>failure</td>\n",
       "      <td>195.0</td>\n",
       "      <td>4</td>\n",
       "    </tr>\n",
       "    <tr>\n",
       "      <th>817</th>\n",
       "      <td>Legs sábado</td>\n",
       "      <td>2025-01-18</td>\n",
       "      <td>Deadlift (Barbell)</td>\n",
       "      <td>0</td>\n",
       "      <td>normal</td>\n",
       "      <td>190.0</td>\n",
       "      <td>6</td>\n",
       "    </tr>\n",
       "    <tr>\n",
       "      <th>818</th>\n",
       "      <td>Legs sábado</td>\n",
       "      <td>2025-01-18</td>\n",
       "      <td>Deadlift (Barbell)</td>\n",
       "      <td>1</td>\n",
       "      <td>normal</td>\n",
       "      <td>190.0</td>\n",
       "      <td>6</td>\n",
       "    </tr>\n",
       "    <tr>\n",
       "      <th>819</th>\n",
       "      <td>Legs sábado</td>\n",
       "      <td>2025-01-18</td>\n",
       "      <td>Deadlift (Barbell)</td>\n",
       "      <td>2</td>\n",
       "      <td>failure</td>\n",
       "      <td>195.0</td>\n",
       "      <td>4</td>\n",
       "    </tr>\n",
       "  </tbody>\n",
       "</table>\n",
       "</div>"
      ],
      "text/plain": [
       "           title        date      exercise_title  set_index set_type  \\\n",
       "42   Legs sábado  2025-04-12  Deadlift (Barbell)          0   normal   \n",
       "43   Legs sábado  2025-04-12  Deadlift (Barbell)          1  failure   \n",
       "113  Legs sábado  2025-04-05  Deadlift (Barbell)          0   normal   \n",
       "114  Legs sábado  2025-04-05  Deadlift (Barbell)          1  failure   \n",
       "184  Legs sábado  2025-03-29  Deadlift (Barbell)          0   normal   \n",
       "185  Legs sábado  2025-03-29  Deadlift (Barbell)          1  failure   \n",
       "255  Legs sábado  2025-03-22  Deadlift (Barbell)          0   normal   \n",
       "256  Legs sábado  2025-03-22  Deadlift (Barbell)          1  failure   \n",
       "330  Legs sábado  2025-03-15  Deadlift (Barbell)          0   normal   \n",
       "331  Legs sábado  2025-03-15  Deadlift (Barbell)          1  failure   \n",
       "407  Legs sábado  2025-03-08  Deadlift (Barbell)          0   normal   \n",
       "408  Legs sábado  2025-03-08  Deadlift (Barbell)          1  failure   \n",
       "485  Legs sábado  2025-03-01  Deadlift (Barbell)          0   normal   \n",
       "486  Legs sábado  2025-03-01  Deadlift (Barbell)          1  failure   \n",
       "562  Legs sábado  2025-02-22  Deadlift (Barbell)          0   normal   \n",
       "563  Legs sábado  2025-02-22  Deadlift (Barbell)          1  failure   \n",
       "672  Legs sábado  2025-02-01  Deadlift (Barbell)          0   normal   \n",
       "673  Legs sábado  2025-02-01  Deadlift (Barbell)          1   normal   \n",
       "674  Legs sábado  2025-02-01  Deadlift (Barbell)          2  failure   \n",
       "746  Legs sábado  2025-01-25  Deadlift (Barbell)          0   normal   \n",
       "747  Legs sábado  2025-01-25  Deadlift (Barbell)          1   normal   \n",
       "748  Legs sábado  2025-01-25  Deadlift (Barbell)          2  failure   \n",
       "817  Legs sábado  2025-01-18  Deadlift (Barbell)          0   normal   \n",
       "818  Legs sábado  2025-01-18  Deadlift (Barbell)          1   normal   \n",
       "819  Legs sábado  2025-01-18  Deadlift (Barbell)          2  failure   \n",
       "\n",
       "     weight_kg  reps  \n",
       "42       180.0     6  \n",
       "43       185.0     5  \n",
       "113      180.0     5  \n",
       "114      180.0     6  \n",
       "184      200.0     3  \n",
       "185      180.0     5  \n",
       "255      200.0     4  \n",
       "256      200.0     3  \n",
       "330      200.0     5  \n",
       "331      200.0     3  \n",
       "407      200.0     5  \n",
       "408      200.0     3  \n",
       "485      200.0     4  \n",
       "486      200.0     4  \n",
       "562      195.0     6  \n",
       "563      200.0     4  \n",
       "672      195.0     6  \n",
       "673      195.0     4  \n",
       "674      195.0     3  \n",
       "746      195.0     4  \n",
       "747      195.0     4  \n",
       "748      195.0     4  \n",
       "817      190.0     6  \n",
       "818      190.0     6  \n",
       "819      195.0     4  "
      ]
     },
     "execution_count": 7,
     "metadata": {},
     "output_type": "execute_result"
    }
   ],
   "source": [
    "workout_df_columns_filtered[(workout_df_columns_filtered['title'] == 'Legs sábado') & (workout_df_columns_filtered['exercise_title'] == 'Deadlift (Barbell)')]"
   ]
  },
  {
   "cell_type": "code",
   "execution_count": null,
   "id": "e4b017f6",
   "metadata": {},
   "outputs": [
    {
     "data": {
      "application/vnd.plotly.v1+json": {
       "config": {
        "plotlyServerURL": "https://plot.ly"
       },
       "data": [
        {
         "hovertemplate": "Data: %{x}<br>Peso: %{y} kg<br>Reps: %{text}<extra></extra>",
         "mode": "lines+markers+text",
         "name": "Série 1",
         "text": [
          "6 reps",
          "5 reps",
          "3 reps",
          "4 reps",
          "5 reps"
         ],
         "textposition": "top center",
         "type": "scatter",
         "x": [
          "2025-04-12",
          "2025-04-05",
          "2025-03-29",
          "2025-03-22",
          "2025-03-15"
         ],
         "y": {
          "bdata": "AAAAAACAZkAAAAAAAIBmQAAAAAAAAGlAAAAAAAAAaUAAAAAAAABpQA==",
          "dtype": "f8"
         }
        },
        {
         "hovertemplate": "Data: %{x}<br>Peso: %{y} kg<br>Reps: %{text}<extra></extra>",
         "mode": "lines+markers+text",
         "name": "Série 2",
         "text": [
          "5 reps",
          "6 reps",
          "5 reps",
          "3 reps",
          "3 reps"
         ],
         "textposition": "top center",
         "type": "scatter",
         "x": [
          "2025-04-12",
          "2025-04-05",
          "2025-03-29",
          "2025-03-22",
          "2025-03-15"
         ],
         "y": {
          "bdata": "AAAAAAAgZ0AAAAAAAIBmQAAAAAAAgGZAAAAAAAAAaUAAAAAAAABpQA==",
          "dtype": "f8"
         }
        }
       ],
       "layout": {
        "hovermode": "closest",
        "template": {
         "data": {
          "bar": [
           {
            "error_x": {
             "color": "#2a3f5f"
            },
            "error_y": {
             "color": "#2a3f5f"
            },
            "marker": {
             "line": {
              "color": "#E5ECF6",
              "width": 0.5
             },
             "pattern": {
              "fillmode": "overlay",
              "size": 10,
              "solidity": 0.2
             }
            },
            "type": "bar"
           }
          ],
          "barpolar": [
           {
            "marker": {
             "line": {
              "color": "#E5ECF6",
              "width": 0.5
             },
             "pattern": {
              "fillmode": "overlay",
              "size": 10,
              "solidity": 0.2
             }
            },
            "type": "barpolar"
           }
          ],
          "carpet": [
           {
            "aaxis": {
             "endlinecolor": "#2a3f5f",
             "gridcolor": "white",
             "linecolor": "white",
             "minorgridcolor": "white",
             "startlinecolor": "#2a3f5f"
            },
            "baxis": {
             "endlinecolor": "#2a3f5f",
             "gridcolor": "white",
             "linecolor": "white",
             "minorgridcolor": "white",
             "startlinecolor": "#2a3f5f"
            },
            "type": "carpet"
           }
          ],
          "choropleth": [
           {
            "colorbar": {
             "outlinewidth": 0,
             "ticks": ""
            },
            "type": "choropleth"
           }
          ],
          "contour": [
           {
            "colorbar": {
             "outlinewidth": 0,
             "ticks": ""
            },
            "colorscale": [
             [
              0,
              "#0d0887"
             ],
             [
              0.1111111111111111,
              "#46039f"
             ],
             [
              0.2222222222222222,
              "#7201a8"
             ],
             [
              0.3333333333333333,
              "#9c179e"
             ],
             [
              0.4444444444444444,
              "#bd3786"
             ],
             [
              0.5555555555555556,
              "#d8576b"
             ],
             [
              0.6666666666666666,
              "#ed7953"
             ],
             [
              0.7777777777777778,
              "#fb9f3a"
             ],
             [
              0.8888888888888888,
              "#fdca26"
             ],
             [
              1,
              "#f0f921"
             ]
            ],
            "type": "contour"
           }
          ],
          "contourcarpet": [
           {
            "colorbar": {
             "outlinewidth": 0,
             "ticks": ""
            },
            "type": "contourcarpet"
           }
          ],
          "heatmap": [
           {
            "colorbar": {
             "outlinewidth": 0,
             "ticks": ""
            },
            "colorscale": [
             [
              0,
              "#0d0887"
             ],
             [
              0.1111111111111111,
              "#46039f"
             ],
             [
              0.2222222222222222,
              "#7201a8"
             ],
             [
              0.3333333333333333,
              "#9c179e"
             ],
             [
              0.4444444444444444,
              "#bd3786"
             ],
             [
              0.5555555555555556,
              "#d8576b"
             ],
             [
              0.6666666666666666,
              "#ed7953"
             ],
             [
              0.7777777777777778,
              "#fb9f3a"
             ],
             [
              0.8888888888888888,
              "#fdca26"
             ],
             [
              1,
              "#f0f921"
             ]
            ],
            "type": "heatmap"
           }
          ],
          "histogram": [
           {
            "marker": {
             "pattern": {
              "fillmode": "overlay",
              "size": 10,
              "solidity": 0.2
             }
            },
            "type": "histogram"
           }
          ],
          "histogram2d": [
           {
            "colorbar": {
             "outlinewidth": 0,
             "ticks": ""
            },
            "colorscale": [
             [
              0,
              "#0d0887"
             ],
             [
              0.1111111111111111,
              "#46039f"
             ],
             [
              0.2222222222222222,
              "#7201a8"
             ],
             [
              0.3333333333333333,
              "#9c179e"
             ],
             [
              0.4444444444444444,
              "#bd3786"
             ],
             [
              0.5555555555555556,
              "#d8576b"
             ],
             [
              0.6666666666666666,
              "#ed7953"
             ],
             [
              0.7777777777777778,
              "#fb9f3a"
             ],
             [
              0.8888888888888888,
              "#fdca26"
             ],
             [
              1,
              "#f0f921"
             ]
            ],
            "type": "histogram2d"
           }
          ],
          "histogram2dcontour": [
           {
            "colorbar": {
             "outlinewidth": 0,
             "ticks": ""
            },
            "colorscale": [
             [
              0,
              "#0d0887"
             ],
             [
              0.1111111111111111,
              "#46039f"
             ],
             [
              0.2222222222222222,
              "#7201a8"
             ],
             [
              0.3333333333333333,
              "#9c179e"
             ],
             [
              0.4444444444444444,
              "#bd3786"
             ],
             [
              0.5555555555555556,
              "#d8576b"
             ],
             [
              0.6666666666666666,
              "#ed7953"
             ],
             [
              0.7777777777777778,
              "#fb9f3a"
             ],
             [
              0.8888888888888888,
              "#fdca26"
             ],
             [
              1,
              "#f0f921"
             ]
            ],
            "type": "histogram2dcontour"
           }
          ],
          "mesh3d": [
           {
            "colorbar": {
             "outlinewidth": 0,
             "ticks": ""
            },
            "type": "mesh3d"
           }
          ],
          "parcoords": [
           {
            "line": {
             "colorbar": {
              "outlinewidth": 0,
              "ticks": ""
             }
            },
            "type": "parcoords"
           }
          ],
          "pie": [
           {
            "automargin": true,
            "type": "pie"
           }
          ],
          "scatter": [
           {
            "fillpattern": {
             "fillmode": "overlay",
             "size": 10,
             "solidity": 0.2
            },
            "type": "scatter"
           }
          ],
          "scatter3d": [
           {
            "line": {
             "colorbar": {
              "outlinewidth": 0,
              "ticks": ""
             }
            },
            "marker": {
             "colorbar": {
              "outlinewidth": 0,
              "ticks": ""
             }
            },
            "type": "scatter3d"
           }
          ],
          "scattercarpet": [
           {
            "marker": {
             "colorbar": {
              "outlinewidth": 0,
              "ticks": ""
             }
            },
            "type": "scattercarpet"
           }
          ],
          "scattergeo": [
           {
            "marker": {
             "colorbar": {
              "outlinewidth": 0,
              "ticks": ""
             }
            },
            "type": "scattergeo"
           }
          ],
          "scattergl": [
           {
            "marker": {
             "colorbar": {
              "outlinewidth": 0,
              "ticks": ""
             }
            },
            "type": "scattergl"
           }
          ],
          "scattermap": [
           {
            "marker": {
             "colorbar": {
              "outlinewidth": 0,
              "ticks": ""
             }
            },
            "type": "scattermap"
           }
          ],
          "scattermapbox": [
           {
            "marker": {
             "colorbar": {
              "outlinewidth": 0,
              "ticks": ""
             }
            },
            "type": "scattermapbox"
           }
          ],
          "scatterpolar": [
           {
            "marker": {
             "colorbar": {
              "outlinewidth": 0,
              "ticks": ""
             }
            },
            "type": "scatterpolar"
           }
          ],
          "scatterpolargl": [
           {
            "marker": {
             "colorbar": {
              "outlinewidth": 0,
              "ticks": ""
             }
            },
            "type": "scatterpolargl"
           }
          ],
          "scatterternary": [
           {
            "marker": {
             "colorbar": {
              "outlinewidth": 0,
              "ticks": ""
             }
            },
            "type": "scatterternary"
           }
          ],
          "surface": [
           {
            "colorbar": {
             "outlinewidth": 0,
             "ticks": ""
            },
            "colorscale": [
             [
              0,
              "#0d0887"
             ],
             [
              0.1111111111111111,
              "#46039f"
             ],
             [
              0.2222222222222222,
              "#7201a8"
             ],
             [
              0.3333333333333333,
              "#9c179e"
             ],
             [
              0.4444444444444444,
              "#bd3786"
             ],
             [
              0.5555555555555556,
              "#d8576b"
             ],
             [
              0.6666666666666666,
              "#ed7953"
             ],
             [
              0.7777777777777778,
              "#fb9f3a"
             ],
             [
              0.8888888888888888,
              "#fdca26"
             ],
             [
              1,
              "#f0f921"
             ]
            ],
            "type": "surface"
           }
          ],
          "table": [
           {
            "cells": {
             "fill": {
              "color": "#EBF0F8"
             },
             "line": {
              "color": "white"
             }
            },
            "header": {
             "fill": {
              "color": "#C8D4E3"
             },
             "line": {
              "color": "white"
             }
            },
            "type": "table"
           }
          ]
         },
         "layout": {
          "annotationdefaults": {
           "arrowcolor": "#2a3f5f",
           "arrowhead": 0,
           "arrowwidth": 1
          },
          "autotypenumbers": "strict",
          "coloraxis": {
           "colorbar": {
            "outlinewidth": 0,
            "ticks": ""
           }
          },
          "colorscale": {
           "diverging": [
            [
             0,
             "#8e0152"
            ],
            [
             0.1,
             "#c51b7d"
            ],
            [
             0.2,
             "#de77ae"
            ],
            [
             0.3,
             "#f1b6da"
            ],
            [
             0.4,
             "#fde0ef"
            ],
            [
             0.5,
             "#f7f7f7"
            ],
            [
             0.6,
             "#e6f5d0"
            ],
            [
             0.7,
             "#b8e186"
            ],
            [
             0.8,
             "#7fbc41"
            ],
            [
             0.9,
             "#4d9221"
            ],
            [
             1,
             "#276419"
            ]
           ],
           "sequential": [
            [
             0,
             "#0d0887"
            ],
            [
             0.1111111111111111,
             "#46039f"
            ],
            [
             0.2222222222222222,
             "#7201a8"
            ],
            [
             0.3333333333333333,
             "#9c179e"
            ],
            [
             0.4444444444444444,
             "#bd3786"
            ],
            [
             0.5555555555555556,
             "#d8576b"
            ],
            [
             0.6666666666666666,
             "#ed7953"
            ],
            [
             0.7777777777777778,
             "#fb9f3a"
            ],
            [
             0.8888888888888888,
             "#fdca26"
            ],
            [
             1,
             "#f0f921"
            ]
           ],
           "sequentialminus": [
            [
             0,
             "#0d0887"
            ],
            [
             0.1111111111111111,
             "#46039f"
            ],
            [
             0.2222222222222222,
             "#7201a8"
            ],
            [
             0.3333333333333333,
             "#9c179e"
            ],
            [
             0.4444444444444444,
             "#bd3786"
            ],
            [
             0.5555555555555556,
             "#d8576b"
            ],
            [
             0.6666666666666666,
             "#ed7953"
            ],
            [
             0.7777777777777778,
             "#fb9f3a"
            ],
            [
             0.8888888888888888,
             "#fdca26"
            ],
            [
             1,
             "#f0f921"
            ]
           ]
          },
          "colorway": [
           "#636efa",
           "#EF553B",
           "#00cc96",
           "#ab63fa",
           "#FFA15A",
           "#19d3f3",
           "#FF6692",
           "#B6E880",
           "#FF97FF",
           "#FECB52"
          ],
          "font": {
           "color": "#2a3f5f"
          },
          "geo": {
           "bgcolor": "white",
           "lakecolor": "white",
           "landcolor": "#E5ECF6",
           "showlakes": true,
           "showland": true,
           "subunitcolor": "white"
          },
          "hoverlabel": {
           "align": "left"
          },
          "hovermode": "closest",
          "mapbox": {
           "style": "light"
          },
          "paper_bgcolor": "white",
          "plot_bgcolor": "#E5ECF6",
          "polar": {
           "angularaxis": {
            "gridcolor": "white",
            "linecolor": "white",
            "ticks": ""
           },
           "bgcolor": "#E5ECF6",
           "radialaxis": {
            "gridcolor": "white",
            "linecolor": "white",
            "ticks": ""
           }
          },
          "scene": {
           "xaxis": {
            "backgroundcolor": "#E5ECF6",
            "gridcolor": "white",
            "gridwidth": 2,
            "linecolor": "white",
            "showbackground": true,
            "ticks": "",
            "zerolinecolor": "white"
           },
           "yaxis": {
            "backgroundcolor": "#E5ECF6",
            "gridcolor": "white",
            "gridwidth": 2,
            "linecolor": "white",
            "showbackground": true,
            "ticks": "",
            "zerolinecolor": "white"
           },
           "zaxis": {
            "backgroundcolor": "#E5ECF6",
            "gridcolor": "white",
            "gridwidth": 2,
            "linecolor": "white",
            "showbackground": true,
            "ticks": "",
            "zerolinecolor": "white"
           }
          },
          "shapedefaults": {
           "line": {
            "color": "#2a3f5f"
           }
          },
          "ternary": {
           "aaxis": {
            "gridcolor": "white",
            "linecolor": "white",
            "ticks": ""
           },
           "baxis": {
            "gridcolor": "white",
            "linecolor": "white",
            "ticks": ""
           },
           "bgcolor": "#E5ECF6",
           "caxis": {
            "gridcolor": "white",
            "linecolor": "white",
            "ticks": ""
           }
          },
          "title": {
           "x": 0.05
          },
          "xaxis": {
           "automargin": true,
           "gridcolor": "white",
           "linecolor": "white",
           "ticks": "",
           "title": {
            "standoff": 15
           },
           "zerolinecolor": "white",
           "zerolinewidth": 2
          },
          "yaxis": {
           "automargin": true,
           "gridcolor": "white",
           "linecolor": "white",
           "ticks": "",
           "title": {
            "standoff": 15
           },
           "zerolinecolor": "white",
           "zerolinewidth": 2
          }
         }
        },
        "title": {
         "text": "Evolução no Deadlift (Barbell) (Legs sábado)"
        },
        "updatemenus": [
         {
          "active": 0,
          "buttons": [
           {
            "args": [
             {
              "text": [
               [
                "6 reps",
                "5 reps",
                "3 reps",
                "4 reps",
                "5 reps"
               ],
               [
                "5 reps",
                "6 reps",
                "5 reps",
                "3 reps",
                "3 reps"
               ],
               []
              ],
              "visible": [
               true,
               true,
               true
              ],
              "x": [
               [
                "2025-04-12",
                "2025-04-05",
                "2025-03-29",
                "2025-03-22",
                "2025-03-15"
               ],
               [
                "2025-04-12",
                "2025-04-05",
                "2025-03-29",
                "2025-03-22",
                "2025-03-15"
               ],
               []
              ],
              "y": [
               [
                180,
                180,
                200,
                200,
                200
               ],
               [
                185,
                180,
                180,
                200,
                200
               ],
               []
              ]
             }
            ],
            "args2": [
             {
              "visible": [
               true,
               true,
               true
              ]
             }
            ],
            "label": "Últimos 30 dias",
            "method": "restyle"
           },
           {
            "args": [
             {
              "text": [
               [
                "6 reps",
                "5 reps",
                "3 reps",
                "4 reps",
                "5 reps",
                "5 reps",
                "4 reps",
                "6 reps"
               ],
               [
                "5 reps",
                "6 reps",
                "5 reps",
                "3 reps",
                "3 reps",
                "3 reps",
                "4 reps",
                "4 reps"
               ],
               []
              ],
              "visible": [
               true,
               true,
               true
              ],
              "x": [
               [
                "2025-04-12",
                "2025-04-05",
                "2025-03-29",
                "2025-03-22",
                "2025-03-15",
                "2025-03-08",
                "2025-03-01",
                "2025-02-22"
               ],
               [
                "2025-04-12",
                "2025-04-05",
                "2025-03-29",
                "2025-03-22",
                "2025-03-15",
                "2025-03-08",
                "2025-03-01",
                "2025-02-22"
               ],
               []
              ],
              "y": [
               [
                180,
                180,
                200,
                200,
                200,
                200,
                200,
                195
               ],
               [
                185,
                180,
                180,
                200,
                200,
                200,
                200,
                200
               ],
               []
              ]
             }
            ],
            "args2": [
             {
              "visible": [
               true,
               true,
               true
              ]
             }
            ],
            "label": "Últimos 60 dias",
            "method": "restyle"
           },
           {
            "args": [
             {
              "text": [
               [
                "6 reps",
                "5 reps",
                "3 reps",
                "4 reps",
                "5 reps",
                "5 reps",
                "4 reps",
                "6 reps",
                "6 reps",
                "4 reps",
                "6 reps"
               ],
               [
                "5 reps",
                "6 reps",
                "5 reps",
                "3 reps",
                "3 reps",
                "3 reps",
                "4 reps",
                "4 reps",
                "4 reps",
                "4 reps",
                "6 reps"
               ],
               [
                "3 reps",
                "4 reps",
                "4 reps"
               ]
              ],
              "visible": [
               true,
               true,
               true
              ],
              "x": [
               [
                "2025-04-12",
                "2025-04-05",
                "2025-03-29",
                "2025-03-22",
                "2025-03-15",
                "2025-03-08",
                "2025-03-01",
                "2025-02-22",
                "2025-02-01",
                "2025-01-25",
                "2025-01-18"
               ],
               [
                "2025-04-12",
                "2025-04-05",
                "2025-03-29",
                "2025-03-22",
                "2025-03-15",
                "2025-03-08",
                "2025-03-01",
                "2025-02-22",
                "2025-02-01",
                "2025-01-25",
                "2025-01-18"
               ],
               [
                "2025-02-01",
                "2025-01-25",
                "2025-01-18"
               ]
              ],
              "y": [
               [
                180,
                180,
                200,
                200,
                200,
                200,
                200,
                195,
                195,
                195,
                190
               ],
               [
                185,
                180,
                180,
                200,
                200,
                200,
                200,
                200,
                195,
                195,
                190
               ],
               [
                195,
                195,
                195
               ]
              ]
             }
            ],
            "args2": [
             {
              "visible": [
               true,
               true,
               true
              ]
             }
            ],
            "label": "Últimos 90 dias",
            "method": "restyle"
           },
           {
            "args": [
             {
              "text": [
               [
                "6 reps",
                "5 reps",
                "3 reps",
                "4 reps",
                "5 reps",
                "5 reps",
                "4 reps",
                "6 reps",
                "6 reps",
                "4 reps",
                "6 reps"
               ],
               [
                "5 reps",
                "6 reps",
                "5 reps",
                "3 reps",
                "3 reps",
                "3 reps",
                "4 reps",
                "4 reps",
                "4 reps",
                "4 reps",
                "6 reps"
               ],
               [
                "3 reps",
                "4 reps",
                "4 reps"
               ]
              ],
              "visible": [
               true,
               true,
               true
              ],
              "x": [
               [
                "2025-04-12",
                "2025-04-05",
                "2025-03-29",
                "2025-03-22",
                "2025-03-15",
                "2025-03-08",
                "2025-03-01",
                "2025-02-22",
                "2025-02-01",
                "2025-01-25",
                "2025-01-18"
               ],
               [
                "2025-04-12",
                "2025-04-05",
                "2025-03-29",
                "2025-03-22",
                "2025-03-15",
                "2025-03-08",
                "2025-03-01",
                "2025-02-22",
                "2025-02-01",
                "2025-01-25",
                "2025-01-18"
               ],
               [
                "2025-02-01",
                "2025-01-25",
                "2025-01-18"
               ]
              ],
              "y": [
               [
                180,
                180,
                200,
                200,
                200,
                200,
                200,
                195,
                195,
                195,
                190
               ],
               [
                185,
                180,
                180,
                200,
                200,
                200,
                200,
                200,
                195,
                195,
                190
               ],
               [
                195,
                195,
                195
               ]
              ]
             }
            ],
            "args2": [
             {
              "visible": [
               true,
               true,
               true
              ]
             }
            ],
            "label": "Todos os dados",
            "method": "restyle"
           }
          ],
          "direction": "down",
          "showactive": true,
          "x": 0.1,
          "xanchor": "left",
          "y": 1.2,
          "yanchor": "top"
         }
        ],
        "xaxis": {
         "tickformat": "%d/%m/%Y",
         "title": {
          "text": "Data"
         }
        },
        "yaxis": {
         "title": {
          "text": "Peso (kg)"
         }
        }
       }
      }
     },
     "metadata": {},
     "output_type": "display_data"
    }
   ],
   "source": [
    "import plotly.graph_objects as go\n",
    "import pandas as pd\n",
    "\n",
    "def gerar_grafico_interativo(df, treino_nome, exercicio_nome, output_path='grafico_treino.html'):\n",
    "    # Cria uma cópia do DataFrame para evitar modificações no original\n",
    "    df = df.copy()\n",
    "    \n",
    "    # Garante que a coluna 'date' está no formato datetime.date\n",
    "    df['date'] = pd.to_datetime(df['date']).dt.date\n",
    "\n",
    "    # Filtra pelo exercício e treino desejado\n",
    "    exercicio_df = df[(df['title'] == treino_nome) & (df['exercise_title'] == exercicio_nome)]\n",
    "\n",
    "    # Verifica se há dados após o filtro\n",
    "    if exercicio_df.empty:\n",
    "        print(f\"Nenhum dado encontrado para {exercicio_nome} em {treino_nome}\")\n",
    "        return None\n",
    "\n",
    "    # Calcula a data máxima para referência\n",
    "    max_date = exercicio_df['date'].max()\n",
    "\n",
    "    # Filtra inicialmente para os últimos 30 dias (padrão)\n",
    "    initial_data = exercicio_df[exercicio_df['date'] >= (max_date - pd.Timedelta(days=30))]\n",
    "\n",
    "    # Cria os traces iniciais para os últimos 30 dias\n",
    "    traces = []\n",
    "    for set_idx in sorted(initial_data['set_index'].unique()):  # Ordena para consistência\n",
    "        set_data = initial_data[initial_data['set_index'] == set_idx]\n",
    "        traces.append(go.Scatter(\n",
    "            x=set_data['date'],\n",
    "            y=set_data['weight_kg'],\n",
    "            mode='lines+markers+text',\n",
    "            name=f'Série {set_idx + 1}',\n",
    "            text=[f'{r} reps' for r in set_data['reps']],\n",
    "            textposition='top center',\n",
    "            hovertemplate='Data: %{x}<br>Peso: %{y} kg<br>Reps: %{text}<extra></extra>'\n",
    "        ))\n",
    "\n",
    "    # Layout com botões de filtro\n",
    "    layout = go.Layout(\n",
    "        title=f'Evolução no {exercicio_nome} ({treino_nome})',\n",
    "        xaxis=dict(title='Data', tickformat='%d/%m/%Y'),\n",
    "        yaxis=dict(title='Peso (kg)'),\n",
    "        hovermode='closest',\n",
    "        updatemenus=[\n",
    "            {\n",
    "                \"buttons\": [\n",
    "                    {\n",
    "                        \"label\": \"Últimos 30 dias\",\n",
    "                        \"method\": \"restyle\",\n",
    "                        \"args\": [{\n",
    "                            \"x\": [exercicio_df[(exercicio_df['set_index'] == idx) & (exercicio_df['date'] >= (max_date - pd.Timedelta(days=30)))]['date'] for idx in sorted(exercicio_df['set_index'].unique())],\n",
    "                            \"y\": [exercicio_df[(exercicio_df['set_index'] == idx) & (exercicio_df['date'] >= (max_date - pd.Timedelta(days=30)))]['weight_kg'] for idx in sorted(exercicio_df['set_index'].unique())],\n",
    "                            \"text\": [exercicio_df[(exercicio_df['set_index'] == idx) & (exercicio_df['date'] >= (max_date - pd.Timedelta(days=30)))]['reps'].apply(lambda r: f'{r} reps') for idx in sorted(exercicio_df['set_index'].unique())],\n",
    "                            \"visible\": [True] * len(exercicio_df['set_index'].unique())\n",
    "                        }],\n",
    "                        \"args2\": [{\"visible\": [True] * len(exercicio_df['set_index'].unique())}],\n",
    "                    },\n",
    "                    {\n",
    "                        \"label\": \"Últimos 60 dias\",\n",
    "                        \"method\": \"restyle\",\n",
    "                        \"args\": [{\n",
    "                            \"x\": [exercicio_df[(exercicio_df['set_index'] == idx) & (exercicio_df['date'] >= (max_date - pd.Timedelta(days=60)))]['date'] for idx in sorted(exercicio_df['set_index'].unique())],\n",
    "                            \"y\": [exercicio_df[(exercicio_df['set_index'] == idx) & (exercicio_df['date'] >= (max_date - pd.Timedelta(days=60)))]['weight_kg'] for idx in sorted(exercicio_df['set_index'].unique())],\n",
    "                            \"text\": [exercicio_df[(exercicio_df['set_index'] == idx) & (exercicio_df['date'] >= (max_date - pd.Timedelta(days=60)))]['reps'].apply(lambda r: f'{r} reps') for idx in sorted(exercicio_df['set_index'].unique())],\n",
    "                            \"visible\": [True] * len(exercicio_df['set_index'].unique())\n",
    "                        }],\n",
    "                        \"args2\": [{\"visible\": [True] * len(exercicio_df['set_index'].unique())}],\n",
    "                    },\n",
    "                    {\n",
    "                        \"label\": \"Últimos 90 dias\",\n",
    "                        \"method\": \"restyle\",\n",
    "                        \"args\": [{\n",
    "                            \"x\": [exercicio_df[(exercicio_df['set_index'] == idx) & (exercicio_df['date'] >= (max_date - pd.Timedelta(days=90)))]['date'] for idx in sorted(exercicio_df['set_index'].unique())],\n",
    "                            \"y\": [exercicio_df[(exercicio_df['set_index'] == idx) & (exercicio_df['date'] >= (max_date - pd.Timedelta(days=90)))]['weight_kg'] for idx in sorted(exercicio_df['set_index'].unique())],\n",
    "                            \"text\": [exercicio_df[(exercicio_df['set_index'] == idx) & (exercicio_df['date'] >= (max_date - pd.Timedelta(days=90)))]['reps'].apply(lambda r: f'{r} reps') for idx in sorted(exercicio_df['set_index'].unique())],\n",
    "                            \"visible\": [True] * len(exercicio_df['set_index'].unique())\n",
    "                        }],\n",
    "                        \"args2\": [{\"visible\": [True] * len(exercicio_df['set_index'].unique())}],\n",
    "                    },\n",
    "                    {\n",
    "                        \"label\": \"Todos os dados\",\n",
    "                        \"method\": \"restyle\",\n",
    "                        \"args\": [{\n",
    "                            \"x\": [exercicio_df[exercicio_df['set_index'] == idx]['date'] for idx in sorted(exercicio_df['set_index'].unique())],\n",
    "                            \"y\": [exercicio_df[exercicio_df['set_index'] == idx]['weight_kg'] for idx in sorted(exercicio_df['set_index'].unique())],\n",
    "                            \"text\": [exercicio_df[exercicio_df['set_index'] == idx]['reps'].apply(lambda r: f'{r} reps') for idx in sorted(exercicio_df['set_index'].unique())],\n",
    "                            \"visible\": [True] * len(exercicio_df['set_index'].unique())\n",
    "                        }],\n",
    "                        \"args2\": [{\"visible\": [True] * len(exercicio_df['set_index'].unique())}],\n",
    "                    }\n",
    "                ],\n",
    "                \"direction\": \"down\",\n",
    "                \"showactive\": True,\n",
    "                \"active\": 0,  # Define \"Últimos 30 dias\" como o botão ativo por padrão\n",
    "                \"x\": 0.1,\n",
    "                \"xanchor\": \"left\",\n",
    "                \"y\": 1.2,\n",
    "                \"yanchor\": \"top\"\n",
    "            }\n",
    "        ]\n",
    "    )\n",
    "\n",
    "    # Cria a figura\n",
    "    fig = go.Figure(data=traces, layout=layout)\n",
    "    \n",
    "    # Salva o gráfico como HTML\n",
    "    # fig.write_html(output_path, auto_open=False)  # auto_open=False para evitar abrir o navegador automaticamente\n",
    "    \n",
    "    # Retorna a figura para visualização direta em notebooks\n",
    "    return fig\n",
    "\n",
    "# Exemplo de uso:\n",
    "graf = gerar_grafico_interativo(workout_df_columns_filtered, 'Legs sábado', 'Deadlift (Barbell)')\n",
    "if graf is not None:\n",
    "    graf.show()  # Exibe o gráfico diretamente no Jupyter Notebook"
   ]
  },
  {
   "cell_type": "code",
   "execution_count": 9,
   "id": "a9e78cc9",
   "metadata": {},
   "outputs": [
    {
     "name": "stderr",
     "output_type": "stream",
     "text": [
      "C:\\Users\\nikol\\AppData\\Local\\Temp\\ipykernel_7496\\709765694.py:46: SettingWithCopyWarning:\n",
      "\n",
      "\n",
      "A value is trying to be set on a copy of a slice from a DataFrame.\n",
      "Try using .loc[row_indexer,col_indexer] = value instead\n",
      "\n",
      "See the caveats in the documentation: https://pandas.pydata.org/pandas-docs/stable/user_guide/indexing.html#returning-a-view-versus-a-copy\n",
      "\n",
      "C:\\Users\\nikol\\AppData\\Local\\Temp\\ipykernel_7496\\709765694.py:52: SettingWithCopyWarning:\n",
      "\n",
      "\n",
      "A value is trying to be set on a copy of a slice from a DataFrame.\n",
      "Try using .loc[row_indexer,col_indexer] = value instead\n",
      "\n",
      "See the caveats in the documentation: https://pandas.pydata.org/pandas-docs/stable/user_guide/indexing.html#returning-a-view-versus-a-copy\n",
      "\n"
     ]
    },
    {
     "data": {
      "application/vnd.plotly.v1+json": {
       "config": {
        "plotlyServerURL": "https://plot.ly"
       },
       "data": [
        {
         "mode": "lines+markers+text",
         "name": "Top Set (Failure)",
         "text": [
          "5 reps",
          "6 reps",
          "5 reps",
          "3 reps",
          "3 reps"
         ],
         "textposition": "top center",
         "type": "scatter",
         "visible": true,
         "x": [
          "2025-04-12",
          "2025-04-05",
          "2025-03-29",
          "2025-03-22",
          "2025-03-15"
         ],
         "y": {
          "bdata": "AAAAAAAgZ0AAAAAAAIBmQAAAAAAAgGZAAAAAAAAAaUAAAAAAAABpQA==",
          "dtype": "f8"
         }
        },
        {
         "mode": "lines+markers+text",
         "name": "Work Set 1",
         "text": [
          "6 reps",
          "5 reps",
          "3 reps",
          "4 reps",
          "5 reps"
         ],
         "textposition": "top center",
         "type": "scatter",
         "visible": false,
         "x": [
          "2025-04-12",
          "2025-04-05",
          "2025-03-29",
          "2025-03-22",
          "2025-03-15"
         ],
         "y": {
          "bdata": "AAAAAACAZkAAAAAAAIBmQAAAAAAAAGlAAAAAAAAAaUAAAAAAAABpQA==",
          "dtype": "f8"
         }
        },
        {
         "mode": "lines+markers+text",
         "name": "Work Set 2",
         "text": [],
         "textposition": "top center",
         "type": "scatter",
         "visible": false,
         "x": [],
         "y": []
        }
       ],
       "layout": {
        "hovermode": "closest",
        "template": {
         "data": {
          "bar": [
           {
            "error_x": {
             "color": "#2a3f5f"
            },
            "error_y": {
             "color": "#2a3f5f"
            },
            "marker": {
             "line": {
              "color": "#E5ECF6",
              "width": 0.5
             },
             "pattern": {
              "fillmode": "overlay",
              "size": 10,
              "solidity": 0.2
             }
            },
            "type": "bar"
           }
          ],
          "barpolar": [
           {
            "marker": {
             "line": {
              "color": "#E5ECF6",
              "width": 0.5
             },
             "pattern": {
              "fillmode": "overlay",
              "size": 10,
              "solidity": 0.2
             }
            },
            "type": "barpolar"
           }
          ],
          "carpet": [
           {
            "aaxis": {
             "endlinecolor": "#2a3f5f",
             "gridcolor": "white",
             "linecolor": "white",
             "minorgridcolor": "white",
             "startlinecolor": "#2a3f5f"
            },
            "baxis": {
             "endlinecolor": "#2a3f5f",
             "gridcolor": "white",
             "linecolor": "white",
             "minorgridcolor": "white",
             "startlinecolor": "#2a3f5f"
            },
            "type": "carpet"
           }
          ],
          "choropleth": [
           {
            "colorbar": {
             "outlinewidth": 0,
             "ticks": ""
            },
            "type": "choropleth"
           }
          ],
          "contour": [
           {
            "colorbar": {
             "outlinewidth": 0,
             "ticks": ""
            },
            "colorscale": [
             [
              0,
              "#0d0887"
             ],
             [
              0.1111111111111111,
              "#46039f"
             ],
             [
              0.2222222222222222,
              "#7201a8"
             ],
             [
              0.3333333333333333,
              "#9c179e"
             ],
             [
              0.4444444444444444,
              "#bd3786"
             ],
             [
              0.5555555555555556,
              "#d8576b"
             ],
             [
              0.6666666666666666,
              "#ed7953"
             ],
             [
              0.7777777777777778,
              "#fb9f3a"
             ],
             [
              0.8888888888888888,
              "#fdca26"
             ],
             [
              1,
              "#f0f921"
             ]
            ],
            "type": "contour"
           }
          ],
          "contourcarpet": [
           {
            "colorbar": {
             "outlinewidth": 0,
             "ticks": ""
            },
            "type": "contourcarpet"
           }
          ],
          "heatmap": [
           {
            "colorbar": {
             "outlinewidth": 0,
             "ticks": ""
            },
            "colorscale": [
             [
              0,
              "#0d0887"
             ],
             [
              0.1111111111111111,
              "#46039f"
             ],
             [
              0.2222222222222222,
              "#7201a8"
             ],
             [
              0.3333333333333333,
              "#9c179e"
             ],
             [
              0.4444444444444444,
              "#bd3786"
             ],
             [
              0.5555555555555556,
              "#d8576b"
             ],
             [
              0.6666666666666666,
              "#ed7953"
             ],
             [
              0.7777777777777778,
              "#fb9f3a"
             ],
             [
              0.8888888888888888,
              "#fdca26"
             ],
             [
              1,
              "#f0f921"
             ]
            ],
            "type": "heatmap"
           }
          ],
          "histogram": [
           {
            "marker": {
             "pattern": {
              "fillmode": "overlay",
              "size": 10,
              "solidity": 0.2
             }
            },
            "type": "histogram"
           }
          ],
          "histogram2d": [
           {
            "colorbar": {
             "outlinewidth": 0,
             "ticks": ""
            },
            "colorscale": [
             [
              0,
              "#0d0887"
             ],
             [
              0.1111111111111111,
              "#46039f"
             ],
             [
              0.2222222222222222,
              "#7201a8"
             ],
             [
              0.3333333333333333,
              "#9c179e"
             ],
             [
              0.4444444444444444,
              "#bd3786"
             ],
             [
              0.5555555555555556,
              "#d8576b"
             ],
             [
              0.6666666666666666,
              "#ed7953"
             ],
             [
              0.7777777777777778,
              "#fb9f3a"
             ],
             [
              0.8888888888888888,
              "#fdca26"
             ],
             [
              1,
              "#f0f921"
             ]
            ],
            "type": "histogram2d"
           }
          ],
          "histogram2dcontour": [
           {
            "colorbar": {
             "outlinewidth": 0,
             "ticks": ""
            },
            "colorscale": [
             [
              0,
              "#0d0887"
             ],
             [
              0.1111111111111111,
              "#46039f"
             ],
             [
              0.2222222222222222,
              "#7201a8"
             ],
             [
              0.3333333333333333,
              "#9c179e"
             ],
             [
              0.4444444444444444,
              "#bd3786"
             ],
             [
              0.5555555555555556,
              "#d8576b"
             ],
             [
              0.6666666666666666,
              "#ed7953"
             ],
             [
              0.7777777777777778,
              "#fb9f3a"
             ],
             [
              0.8888888888888888,
              "#fdca26"
             ],
             [
              1,
              "#f0f921"
             ]
            ],
            "type": "histogram2dcontour"
           }
          ],
          "mesh3d": [
           {
            "colorbar": {
             "outlinewidth": 0,
             "ticks": ""
            },
            "type": "mesh3d"
           }
          ],
          "parcoords": [
           {
            "line": {
             "colorbar": {
              "outlinewidth": 0,
              "ticks": ""
             }
            },
            "type": "parcoords"
           }
          ],
          "pie": [
           {
            "automargin": true,
            "type": "pie"
           }
          ],
          "scatter": [
           {
            "fillpattern": {
             "fillmode": "overlay",
             "size": 10,
             "solidity": 0.2
            },
            "type": "scatter"
           }
          ],
          "scatter3d": [
           {
            "line": {
             "colorbar": {
              "outlinewidth": 0,
              "ticks": ""
             }
            },
            "marker": {
             "colorbar": {
              "outlinewidth": 0,
              "ticks": ""
             }
            },
            "type": "scatter3d"
           }
          ],
          "scattercarpet": [
           {
            "marker": {
             "colorbar": {
              "outlinewidth": 0,
              "ticks": ""
             }
            },
            "type": "scattercarpet"
           }
          ],
          "scattergeo": [
           {
            "marker": {
             "colorbar": {
              "outlinewidth": 0,
              "ticks": ""
             }
            },
            "type": "scattergeo"
           }
          ],
          "scattergl": [
           {
            "marker": {
             "colorbar": {
              "outlinewidth": 0,
              "ticks": ""
             }
            },
            "type": "scattergl"
           }
          ],
          "scattermap": [
           {
            "marker": {
             "colorbar": {
              "outlinewidth": 0,
              "ticks": ""
             }
            },
            "type": "scattermap"
           }
          ],
          "scattermapbox": [
           {
            "marker": {
             "colorbar": {
              "outlinewidth": 0,
              "ticks": ""
             }
            },
            "type": "scattermapbox"
           }
          ],
          "scatterpolar": [
           {
            "marker": {
             "colorbar": {
              "outlinewidth": 0,
              "ticks": ""
             }
            },
            "type": "scatterpolar"
           }
          ],
          "scatterpolargl": [
           {
            "marker": {
             "colorbar": {
              "outlinewidth": 0,
              "ticks": ""
             }
            },
            "type": "scatterpolargl"
           }
          ],
          "scatterternary": [
           {
            "marker": {
             "colorbar": {
              "outlinewidth": 0,
              "ticks": ""
             }
            },
            "type": "scatterternary"
           }
          ],
          "surface": [
           {
            "colorbar": {
             "outlinewidth": 0,
             "ticks": ""
            },
            "colorscale": [
             [
              0,
              "#0d0887"
             ],
             [
              0.1111111111111111,
              "#46039f"
             ],
             [
              0.2222222222222222,
              "#7201a8"
             ],
             [
              0.3333333333333333,
              "#9c179e"
             ],
             [
              0.4444444444444444,
              "#bd3786"
             ],
             [
              0.5555555555555556,
              "#d8576b"
             ],
             [
              0.6666666666666666,
              "#ed7953"
             ],
             [
              0.7777777777777778,
              "#fb9f3a"
             ],
             [
              0.8888888888888888,
              "#fdca26"
             ],
             [
              1,
              "#f0f921"
             ]
            ],
            "type": "surface"
           }
          ],
          "table": [
           {
            "cells": {
             "fill": {
              "color": "#EBF0F8"
             },
             "line": {
              "color": "white"
             }
            },
            "header": {
             "fill": {
              "color": "#C8D4E3"
             },
             "line": {
              "color": "white"
             }
            },
            "type": "table"
           }
          ]
         },
         "layout": {
          "annotationdefaults": {
           "arrowcolor": "#2a3f5f",
           "arrowhead": 0,
           "arrowwidth": 1
          },
          "autotypenumbers": "strict",
          "coloraxis": {
           "colorbar": {
            "outlinewidth": 0,
            "ticks": ""
           }
          },
          "colorscale": {
           "diverging": [
            [
             0,
             "#8e0152"
            ],
            [
             0.1,
             "#c51b7d"
            ],
            [
             0.2,
             "#de77ae"
            ],
            [
             0.3,
             "#f1b6da"
            ],
            [
             0.4,
             "#fde0ef"
            ],
            [
             0.5,
             "#f7f7f7"
            ],
            [
             0.6,
             "#e6f5d0"
            ],
            [
             0.7,
             "#b8e186"
            ],
            [
             0.8,
             "#7fbc41"
            ],
            [
             0.9,
             "#4d9221"
            ],
            [
             1,
             "#276419"
            ]
           ],
           "sequential": [
            [
             0,
             "#0d0887"
            ],
            [
             0.1111111111111111,
             "#46039f"
            ],
            [
             0.2222222222222222,
             "#7201a8"
            ],
            [
             0.3333333333333333,
             "#9c179e"
            ],
            [
             0.4444444444444444,
             "#bd3786"
            ],
            [
             0.5555555555555556,
             "#d8576b"
            ],
            [
             0.6666666666666666,
             "#ed7953"
            ],
            [
             0.7777777777777778,
             "#fb9f3a"
            ],
            [
             0.8888888888888888,
             "#fdca26"
            ],
            [
             1,
             "#f0f921"
            ]
           ],
           "sequentialminus": [
            [
             0,
             "#0d0887"
            ],
            [
             0.1111111111111111,
             "#46039f"
            ],
            [
             0.2222222222222222,
             "#7201a8"
            ],
            [
             0.3333333333333333,
             "#9c179e"
            ],
            [
             0.4444444444444444,
             "#bd3786"
            ],
            [
             0.5555555555555556,
             "#d8576b"
            ],
            [
             0.6666666666666666,
             "#ed7953"
            ],
            [
             0.7777777777777778,
             "#fb9f3a"
            ],
            [
             0.8888888888888888,
             "#fdca26"
            ],
            [
             1,
             "#f0f921"
            ]
           ]
          },
          "colorway": [
           "#636efa",
           "#EF553B",
           "#00cc96",
           "#ab63fa",
           "#FFA15A",
           "#19d3f3",
           "#FF6692",
           "#B6E880",
           "#FF97FF",
           "#FECB52"
          ],
          "font": {
           "color": "#2a3f5f"
          },
          "geo": {
           "bgcolor": "white",
           "lakecolor": "white",
           "landcolor": "#E5ECF6",
           "showlakes": true,
           "showland": true,
           "subunitcolor": "white"
          },
          "hoverlabel": {
           "align": "left"
          },
          "hovermode": "closest",
          "mapbox": {
           "style": "light"
          },
          "paper_bgcolor": "white",
          "plot_bgcolor": "#E5ECF6",
          "polar": {
           "angularaxis": {
            "gridcolor": "white",
            "linecolor": "white",
            "ticks": ""
           },
           "bgcolor": "#E5ECF6",
           "radialaxis": {
            "gridcolor": "white",
            "linecolor": "white",
            "ticks": ""
           }
          },
          "scene": {
           "xaxis": {
            "backgroundcolor": "#E5ECF6",
            "gridcolor": "white",
            "gridwidth": 2,
            "linecolor": "white",
            "showbackground": true,
            "ticks": "",
            "zerolinecolor": "white"
           },
           "yaxis": {
            "backgroundcolor": "#E5ECF6",
            "gridcolor": "white",
            "gridwidth": 2,
            "linecolor": "white",
            "showbackground": true,
            "ticks": "",
            "zerolinecolor": "white"
           },
           "zaxis": {
            "backgroundcolor": "#E5ECF6",
            "gridcolor": "white",
            "gridwidth": 2,
            "linecolor": "white",
            "showbackground": true,
            "ticks": "",
            "zerolinecolor": "white"
           }
          },
          "shapedefaults": {
           "line": {
            "color": "#2a3f5f"
           }
          },
          "ternary": {
           "aaxis": {
            "gridcolor": "white",
            "linecolor": "white",
            "ticks": ""
           },
           "baxis": {
            "gridcolor": "white",
            "linecolor": "white",
            "ticks": ""
           },
           "bgcolor": "#E5ECF6",
           "caxis": {
            "gridcolor": "white",
            "linecolor": "white",
            "ticks": ""
           }
          },
          "title": {
           "x": 0.05
          },
          "xaxis": {
           "automargin": true,
           "gridcolor": "white",
           "linecolor": "white",
           "ticks": "",
           "title": {
            "standoff": 15
           },
           "zerolinecolor": "white",
           "zerolinewidth": 2
          },
          "yaxis": {
           "automargin": true,
           "gridcolor": "white",
           "linecolor": "white",
           "ticks": "",
           "title": {
            "standoff": 15
           },
           "zerolinecolor": "white",
           "zerolinewidth": 2
          }
         }
        },
        "title": {
         "text": "Evolução no Deadlift (Barbell) (Legs sábado)"
        },
        "updatemenus": [
         {
          "active": 0,
          "bgcolor": "white",
          "bordercolor": "gray",
          "borderwidth": 1,
          "buttons": [
           {
            "args": [
             {
              "text": [
               [
                "5 reps",
                "6 reps",
                "5 reps",
                "3 reps",
                "3 reps"
               ],
               [
                "6 reps",
                "5 reps",
                "3 reps",
                "4 reps",
                "5 reps"
               ],
               []
              ],
              "x": [
               [
                "2025-04-12",
                "2025-04-05",
                "2025-03-29",
                "2025-03-22",
                "2025-03-15"
               ],
               [
                "2025-04-12",
                "2025-04-05",
                "2025-03-29",
                "2025-03-22",
                "2025-03-15"
               ],
               []
              ],
              "y": [
               [
                185,
                180,
                180,
                200,
                200
               ],
               [
                180,
                180,
                200,
                200,
                200
               ],
               []
              ]
             },
             {
              "title": "Evolução no Deadlift (Barbell) (Legs sábado) - Últimos 30 dias",
              "updatemenus[1].buttons": [
               {
                "args": [
                 {
                  "visible": [
                   true,
                   false,
                   false
                  ]
                 }
                ],
                "label": "Top Set (Failure)",
                "method": "update"
               },
               {
                "args": [
                 {
                  "visible": [
                   false,
                   true,
                   false
                  ]
                 }
                ],
                "label": "Work Set 1",
                "method": "update"
               },
               {
                "args": [
                 {
                  "visible": [
                   true,
                   true,
                   false
                  ]
                 }
                ],
                "label": "Todas as séries",
                "method": "update"
               }
              ]
             }
            ],
            "label": "Últimos 30 dias",
            "method": "update"
           },
           {
            "args": [
             {
              "text": [
               [
                "5 reps",
                "6 reps",
                "5 reps",
                "3 reps",
                "3 reps",
                "3 reps",
                "4 reps",
                "4 reps"
               ],
               [
                "6 reps",
                "5 reps",
                "3 reps",
                "4 reps",
                "5 reps",
                "5 reps",
                "4 reps",
                "6 reps"
               ],
               []
              ],
              "x": [
               [
                "2025-04-12",
                "2025-04-05",
                "2025-03-29",
                "2025-03-22",
                "2025-03-15",
                "2025-03-08",
                "2025-03-01",
                "2025-02-22"
               ],
               [
                "2025-04-12",
                "2025-04-05",
                "2025-03-29",
                "2025-03-22",
                "2025-03-15",
                "2025-03-08",
                "2025-03-01",
                "2025-02-22"
               ],
               []
              ],
              "y": [
               [
                185,
                180,
                180,
                200,
                200,
                200,
                200,
                200
               ],
               [
                180,
                180,
                200,
                200,
                200,
                200,
                200,
                195
               ],
               []
              ]
             },
             {
              "updatemenus[1].buttons": [
               {
                "args": [
                 {
                  "visible": [
                   true,
                   false,
                   false
                  ]
                 }
                ],
                "label": "Top Set (Failure)",
                "method": "update"
               },
               {
                "args": [
                 {
                  "visible": [
                   false,
                   true,
                   false
                  ]
                 }
                ],
                "label": "Work Set 1",
                "method": "update"
               },
               {
                "args": [
                 {
                  "visible": [
                   true,
                   true,
                   false
                  ]
                 }
                ],
                "label": "Todas as séries",
                "method": "update"
               }
              ]
             }
            ],
            "label": "Últimos 60 dias",
            "method": "update"
           },
           {
            "args": [
             {
              "text": [
               [
                "5 reps",
                "6 reps",
                "5 reps",
                "3 reps",
                "3 reps",
                "3 reps",
                "4 reps",
                "4 reps",
                "3 reps",
                "4 reps",
                "4 reps"
               ],
               [
                "6 reps",
                "5 reps",
                "3 reps",
                "4 reps",
                "5 reps",
                "5 reps",
                "4 reps",
                "6 reps",
                "6 reps",
                "4 reps",
                "6 reps"
               ],
               [
                "4 reps",
                "4 reps",
                "6 reps"
               ]
              ],
              "x": [
               [
                "2025-04-12",
                "2025-04-05",
                "2025-03-29",
                "2025-03-22",
                "2025-03-15",
                "2025-03-08",
                "2025-03-01",
                "2025-02-22",
                "2025-02-01",
                "2025-01-25",
                "2025-01-18"
               ],
               [
                "2025-04-12",
                "2025-04-05",
                "2025-03-29",
                "2025-03-22",
                "2025-03-15",
                "2025-03-08",
                "2025-03-01",
                "2025-02-22",
                "2025-02-01",
                "2025-01-25",
                "2025-01-18"
               ],
               [
                "2025-02-01",
                "2025-01-25",
                "2025-01-18"
               ]
              ],
              "y": [
               [
                185,
                180,
                180,
                200,
                200,
                200,
                200,
                200,
                195,
                195,
                195
               ],
               [
                180,
                180,
                200,
                200,
                200,
                200,
                200,
                195,
                195,
                195,
                190
               ],
               [
                195,
                195,
                190
               ]
              ]
             },
             {
              "updatemenus[1].buttons": [
               {
                "args": [
                 {
                  "visible": [
                   true,
                   false,
                   false
                  ]
                 }
                ],
                "label": "Top Set (Failure)",
                "method": "update"
               },
               {
                "args": [
                 {
                  "visible": [
                   false,
                   true,
                   false
                  ]
                 }
                ],
                "label": "Work Set 1",
                "method": "update"
               },
               {
                "args": [
                 {
                  "visible": [
                   false,
                   false,
                   true
                  ]
                 }
                ],
                "label": "Work Set 2",
                "method": "update"
               },
               {
                "args": [
                 {
                  "visible": [
                   true,
                   true,
                   true
                  ]
                 }
                ],
                "label": "Todas as séries",
                "method": "update"
               }
              ]
             }
            ],
            "label": "Últimos 90 dias",
            "method": "update"
           }
          ],
          "direction": "down",
          "pad": {
           "r": 10,
           "t": 10
          },
          "showactive": true,
          "x": 0.6,
          "xanchor": "left",
          "y": 1.2,
          "yanchor": "top"
         },
         {
          "active": 0,
          "bgcolor": "white",
          "bordercolor": "gray",
          "borderwidth": 1,
          "buttons": [
           {
            "args": [
             {
              "visible": [
               true,
               false,
               false
              ]
             }
            ],
            "label": "Top Set (Failure)",
            "method": "update"
           },
           {
            "args": [
             {
              "visible": [
               false,
               true,
               false
              ]
             }
            ],
            "label": "Work Set 1",
            "method": "update"
           },
           {
            "args": [
             {
              "visible": [
               true,
               true,
               false
              ]
             }
            ],
            "label": "Todas as séries",
            "method": "update"
           }
          ],
          "direction": "down",
          "pad": {
           "r": 10,
           "t": 10
          },
          "showactive": true,
          "x": 0.99,
          "xanchor": "right",
          "y": 1.2,
          "yanchor": "top"
         }
        ],
        "xaxis": {
         "tickformat": "%d/%m/%Y",
         "title": {
          "text": "Data"
         }
        },
        "yaxis": {
         "title": {
          "text": "Peso (kg)"
         }
        }
       }
      }
     },
     "metadata": {},
     "output_type": "display_data"
    }
   ],
   "source": [
    "import plotly.graph_objects as go\n",
    "import pandas as pd\n",
    "from datetime import timedelta\n",
    "\n",
    "# Função auxiliar para criar os botões de séries\n",
    "def create_series_buttons(orders_periodo, all_orders, has_failure):\n",
    "    buttons = []\n",
    "    # Top Set\n",
    "    if has_failure:\n",
    "        buttons.append({\n",
    "            \"label\": \"Top Set (Failure)\",\n",
    "            \"method\": \"update\",\n",
    "            \"args\": [{\"visible\": [True] + [False]*len(all_orders)}]\n",
    "        })\n",
    "\n",
    "    # Work Sets\n",
    "    for o in orders_periodo:\n",
    "        buttons.append({\n",
    "            \"label\": f\"Work Set {int(o)}\",\n",
    "            \"method\": \"update\",\n",
    "            \"args\": [{\"visible\": [False] + [True if o == current else False for current in all_orders]}]\n",
    "        })\n",
    "\n",
    "    # Todas\n",
    "    buttons.append({\n",
    "        \"label\": \"Todas as séries\",\n",
    "        \"method\": \"update\",\n",
    "        \"args\": [{\"visible\": [True] + [True if o in orders_periodo else False for o in all_orders]}]\n",
    "    })\n",
    "\n",
    "    return buttons\n",
    "\n",
    "# Função principal com lógica dos botões\n",
    "def gerar_grafico_interativo_com_series(df, treino_nome, exercicio_nome, output_path='grafico_treino_com_series.html'):\n",
    "    df = df.copy()\n",
    "    df['date'] = pd.to_datetime(df['date']).dt.date\n",
    "\n",
    "    exercicio_df = df[(df['title'] == treino_nome) & (df['exercise_title'] == exercicio_nome)]\n",
    "    if exercicio_df.empty:\n",
    "        print(\"Sem dados.\")\n",
    "        return None\n",
    "\n",
    "    has_failure = not exercicio_df[exercicio_df['set_type'] == 'failure'].empty\n",
    "    max_date = exercicio_df['date'].max()\n",
    "\n",
    "    exercicio_df['normal_order'] = None\n",
    "    for dt in exercicio_df['date'].unique():\n",
    "        subset = exercicio_df[(exercicio_df['date'] == dt) & (exercicio_df['set_type'] == 'normal')].sort_values('set_index')\n",
    "        for i, idx in enumerate(subset.index, 1):\n",
    "            exercicio_df.loc[idx, 'normal_order'] = i\n",
    "\n",
    "    exercicio_df['normal_order'] = exercicio_df['normal_order'].astype('Int64')\n",
    "\n",
    "    all_orders = sorted(exercicio_df[(exercicio_df['normal_order'].notna()) & (exercicio_df['date'] >= (max_date - timedelta(days=90)))]['normal_order'].unique())\n",
    "\n",
    "    # Criação de traces\n",
    "    traces = []\n",
    "\n",
    "    # Top set (visível inicialmente)\n",
    "    if has_failure:\n",
    "        fdata = exercicio_df[(exercicio_df['set_type'] == 'failure') & (exercicio_df['date'] >= max_date - timedelta(days=30))]\n",
    "        traces.append(go.Scatter(\n",
    "            x=fdata['date'], y=fdata['weight_kg'], text=[f\"{r} reps\" for r in fdata['reps']],\n",
    "            mode='lines+markers+text', textposition='top center',\n",
    "            name='Top Set (Failure)', visible=True\n",
    "        ))\n",
    "\n",
    "    # Work sets (invisíveis inicialmente)\n",
    "    for o in all_orders:\n",
    "        wdata = exercicio_df[(exercicio_df['normal_order'] == o) & (exercicio_df['date'] >= max_date - timedelta(days=30))]\n",
    "        traces.append(go.Scatter(\n",
    "            x=wdata['date'], y=wdata['weight_kg'], text=[f\"{r} reps\" for r in wdata['reps']],\n",
    "            mode='lines+markers+text', textposition='top center',\n",
    "            name=f'Work Set {int(o)}', visible=False\n",
    "        ))\n",
    "\n",
    "    # Armazena botões e dados por período\n",
    "    periodos = [30, 60, 90]\n",
    "    period_buttons = []\n",
    "\n",
    "    for dias in periodos:\n",
    "        periodo_inicio = max_date - timedelta(days=dias)\n",
    "        orders = sorted(exercicio_df[(exercicio_df['normal_order'].notna()) & (exercicio_df['date'] >= periodo_inicio)]['normal_order'].unique())\n",
    "\n",
    "        x_list, y_list, text_list = [], [], []\n",
    "\n",
    "        if has_failure:\n",
    "            df_f = exercicio_df[(exercicio_df['set_type'] == 'failure') & (exercicio_df['date'] >= periodo_inicio)]\n",
    "            x_list.append(df_f['date'].tolist())\n",
    "            y_list.append(df_f['weight_kg'].tolist())\n",
    "            text_list.append([f\"{r} reps\" for r in df_f['reps']])\n",
    "        else:\n",
    "            x_list.append([]); y_list.append([]); text_list.append([])\n",
    "\n",
    "        for o in all_orders:\n",
    "            df_w = exercicio_df[(exercicio_df['normal_order'] == o) & (exercicio_df['date'] >= periodo_inicio)]\n",
    "            x_list.append(df_w['date'].tolist())\n",
    "            y_list.append(df_w['weight_kg'].tolist())\n",
    "            text_list.append([f\"{r} reps\" for r in df_w['reps']])\n",
    "\n",
    "        period_buttons.append(dict(\n",
    "            label=f\"Últimos {dias} dias\",\n",
    "            method=\"update\",\n",
    "            args=[\n",
    "                {\"x\": x_list, \"y\": y_list, \"text\": text_list},\n",
    "                {\"updatemenus[1].buttons\": create_series_buttons(orders, all_orders, has_failure)}\n",
    "            ]\n",
    "        ))\n",
    "    period_buttons[0][\"args\"][1][\"title\"] = f\"Evolução no {exercicio_nome} ({treino_nome}) - Últimos 30 dias\"\n",
    "\n",
    "    layout = go.Layout(\n",
    "    title=f'Evolução no {exercicio_nome} ({treino_nome})',\n",
    "    xaxis=dict(\n",
    "        title='Data',\n",
    "        tickformat='%d/%m/%Y'\n",
    "    ),\n",
    "    yaxis=dict(\n",
    "        title='Peso (kg)'\n",
    "    ),\n",
    "    hovermode='closest',\n",
    "    updatemenus=[\n",
    "        dict(\n",
    "            buttons=period_buttons,\n",
    "            direction=\"down\",\n",
    "            showactive=True,\n",
    "            active=0,\n",
    "            x=0.6,  # Mais próximo da borda esquerda\n",
    "            xanchor=\"left\",\n",
    "            y=1.2,   # Bem acima do gráfico\n",
    "            yanchor=\"top\",\n",
    "            pad={\"r\": 10, \"t\": 10},\n",
    "            bgcolor=\"white\",\n",
    "            bordercolor=\"gray\",\n",
    "            borderwidth=1\n",
    "        ),\n",
    "        dict(\n",
    "            buttons=create_series_buttons(\n",
    "                sorted(exercicio_df[(exercicio_df['normal_order'].notna()) & (exercicio_df['date'] >= max_date - timedelta(days=30))]['normal_order'].unique()),\n",
    "                all_orders,\n",
    "                has_failure\n",
    "            ),\n",
    "            direction=\"down\",\n",
    "            showactive=True,\n",
    "            active=0,\n",
    "            x=0.99,  # Lado direito\n",
    "            xanchor=\"right\",\n",
    "            y=1.2,   # Mesmo nível do outro menu\n",
    "            yanchor=\"top\",\n",
    "            pad={\"r\": 10, \"t\": 10},\n",
    "            bgcolor=\"white\",\n",
    "            bordercolor=\"gray\",\n",
    "            borderwidth=1\n",
    "        )\n",
    "    ]\n",
    ")\n",
    "\n",
    "    fig = go.Figure(data=traces, layout=layout)\n",
    "    #fig.write_html(output_path, auto_open=False)\n",
    "    #return fig\n",
    "\n",
    "    # Salva o gráfico como HTML interativo em arquivo (como já faz)\n",
    "    # fig.write_html(output_path, auto_open=False)\n",
    "\n",
    "    # Também retorna o HTML como string, para inserção em JS ou <div>\n",
    "    html_string = fig.to_html(full_html=False, include_plotlyjs='cdn')\n",
    "    return fig, html_string\n",
    "\n",
    "# Exemplo de uso\n",
    "graf, _ = gerar_grafico_interativo_com_series(workout_df_columns_filtered, 'Legs sábado', 'Deadlift (Barbell)')\n",
    "if graf is not None:\n",
    "    graf.show()\n"
   ]
  },
  {
   "cell_type": "code",
   "execution_count": 10,
   "id": "dd71b56e",
   "metadata": {},
   "outputs": [
    {
     "name": "stderr",
     "output_type": "stream",
     "text": [
      "C:\\Users\\nikol\\AppData\\Local\\Temp\\ipykernel_7496\\709765694.py:46: SettingWithCopyWarning:\n",
      "\n",
      "\n",
      "A value is trying to be set on a copy of a slice from a DataFrame.\n",
      "Try using .loc[row_indexer,col_indexer] = value instead\n",
      "\n",
      "See the caveats in the documentation: https://pandas.pydata.org/pandas-docs/stable/user_guide/indexing.html#returning-a-view-versus-a-copy\n",
      "\n",
      "C:\\Users\\nikol\\AppData\\Local\\Temp\\ipykernel_7496\\709765694.py:52: SettingWithCopyWarning:\n",
      "\n",
      "\n",
      "A value is trying to be set on a copy of a slice from a DataFrame.\n",
      "Try using .loc[row_indexer,col_indexer] = value instead\n",
      "\n",
      "See the caveats in the documentation: https://pandas.pydata.org/pandas-docs/stable/user_guide/indexing.html#returning-a-view-versus-a-copy\n",
      "\n",
      "C:\\Users\\nikol\\AppData\\Local\\Temp\\ipykernel_7496\\709765694.py:46: SettingWithCopyWarning:\n",
      "\n",
      "\n",
      "A value is trying to be set on a copy of a slice from a DataFrame.\n",
      "Try using .loc[row_indexer,col_indexer] = value instead\n",
      "\n",
      "See the caveats in the documentation: https://pandas.pydata.org/pandas-docs/stable/user_guide/indexing.html#returning-a-view-versus-a-copy\n",
      "\n",
      "C:\\Users\\nikol\\AppData\\Local\\Temp\\ipykernel_7496\\709765694.py:52: SettingWithCopyWarning:\n",
      "\n",
      "\n",
      "A value is trying to be set on a copy of a slice from a DataFrame.\n",
      "Try using .loc[row_indexer,col_indexer] = value instead\n",
      "\n",
      "See the caveats in the documentation: https://pandas.pydata.org/pandas-docs/stable/user_guide/indexing.html#returning-a-view-versus-a-copy\n",
      "\n"
     ]
    },
    {
     "name": "stdout",
     "output_type": "stream",
     "text": [
      "Exercícios na rotina ['Deadlift (Barbell)' 'Extensão Quadril Banco Romano'\n",
      " 'Seated Leg Curl (Machine)' 'Leg Extension (Machine)' 'Seated Calf Raise']:\n"
     ]
    },
    {
     "name": "stderr",
     "output_type": "stream",
     "text": [
      "C:\\Users\\nikol\\AppData\\Local\\Temp\\ipykernel_7496\\709765694.py:46: SettingWithCopyWarning:\n",
      "\n",
      "\n",
      "A value is trying to be set on a copy of a slice from a DataFrame.\n",
      "Try using .loc[row_indexer,col_indexer] = value instead\n",
      "\n",
      "See the caveats in the documentation: https://pandas.pydata.org/pandas-docs/stable/user_guide/indexing.html#returning-a-view-versus-a-copy\n",
      "\n",
      "C:\\Users\\nikol\\AppData\\Local\\Temp\\ipykernel_7496\\709765694.py:52: SettingWithCopyWarning:\n",
      "\n",
      "\n",
      "A value is trying to be set on a copy of a slice from a DataFrame.\n",
      "Try using .loc[row_indexer,col_indexer] = value instead\n",
      "\n",
      "See the caveats in the documentation: https://pandas.pydata.org/pandas-docs/stable/user_guide/indexing.html#returning-a-view-versus-a-copy\n",
      "\n",
      "C:\\Users\\nikol\\AppData\\Local\\Temp\\ipykernel_7496\\709765694.py:46: SettingWithCopyWarning:\n",
      "\n",
      "\n",
      "A value is trying to be set on a copy of a slice from a DataFrame.\n",
      "Try using .loc[row_indexer,col_indexer] = value instead\n",
      "\n",
      "See the caveats in the documentation: https://pandas.pydata.org/pandas-docs/stable/user_guide/indexing.html#returning-a-view-versus-a-copy\n",
      "\n",
      "C:\\Users\\nikol\\AppData\\Local\\Temp\\ipykernel_7496\\709765694.py:52: SettingWithCopyWarning:\n",
      "\n",
      "\n",
      "A value is trying to be set on a copy of a slice from a DataFrame.\n",
      "Try using .loc[row_indexer,col_indexer] = value instead\n",
      "\n",
      "See the caveats in the documentation: https://pandas.pydata.org/pandas-docs/stable/user_guide/indexing.html#returning-a-view-versus-a-copy\n",
      "\n",
      "C:\\Users\\nikol\\AppData\\Local\\Temp\\ipykernel_7496\\709765694.py:46: SettingWithCopyWarning:\n",
      "\n",
      "\n",
      "A value is trying to be set on a copy of a slice from a DataFrame.\n",
      "Try using .loc[row_indexer,col_indexer] = value instead\n",
      "\n",
      "See the caveats in the documentation: https://pandas.pydata.org/pandas-docs/stable/user_guide/indexing.html#returning-a-view-versus-a-copy\n",
      "\n",
      "C:\\Users\\nikol\\AppData\\Local\\Temp\\ipykernel_7496\\709765694.py:52: SettingWithCopyWarning:\n",
      "\n",
      "\n",
      "A value is trying to be set on a copy of a slice from a DataFrame.\n",
      "Try using .loc[row_indexer,col_indexer] = value instead\n",
      "\n",
      "See the caveats in the documentation: https://pandas.pydata.org/pandas-docs/stable/user_guide/indexing.html#returning-a-view-versus-a-copy\n",
      "\n"
     ]
    }
   ],
   "source": [
    "# Filtrar os exercícios únicos para o treino \"Legs sábado\"\n",
    "exercicios_legs_sabado = workout_df_columns_filtered[workout_df_columns_filtered['title'] == 'Legs sábado']['exercise_title'].unique()\n",
    "def gerar_grafico_treino_total(treino_exercicios, nome_treino='Legs sábado'):\n",
    "    # Filtra os dados para o treino específico\n",
    "    print(f\"Exercícios na rotina {treino_exercicios}:\")\n",
    "    for exercicio in treino_exercicios:\n",
    "        #print(f\"- {exercicio}\")\n",
    "        graf = gerar_grafico_interativo_com_series(workout_df_columns_filtered, nome_treino, exercicio, output_path='grafico_treino.html')\n",
    "        #if graf is not None:\n",
    "            #graf.show()\n",
    "gerar_grafico_treino_total(exercicios_legs_sabado)"
   ]
  },
  {
   "cell_type": "code",
   "execution_count": 11,
   "id": "86f76a26",
   "metadata": {},
   "outputs": [
    {
     "name": "stderr",
     "output_type": "stream",
     "text": [
      "C:\\Users\\nikol\\AppData\\Local\\Temp\\ipykernel_7496\\709765694.py:46: SettingWithCopyWarning:\n",
      "\n",
      "\n",
      "A value is trying to be set on a copy of a slice from a DataFrame.\n",
      "Try using .loc[row_indexer,col_indexer] = value instead\n",
      "\n",
      "See the caveats in the documentation: https://pandas.pydata.org/pandas-docs/stable/user_guide/indexing.html#returning-a-view-versus-a-copy\n",
      "\n",
      "C:\\Users\\nikol\\AppData\\Local\\Temp\\ipykernel_7496\\709765694.py:52: SettingWithCopyWarning:\n",
      "\n",
      "\n",
      "A value is trying to be set on a copy of a slice from a DataFrame.\n",
      "Try using .loc[row_indexer,col_indexer] = value instead\n",
      "\n",
      "See the caveats in the documentation: https://pandas.pydata.org/pandas-docs/stable/user_guide/indexing.html#returning-a-view-versus-a-copy\n",
      "\n",
      "C:\\Users\\nikol\\AppData\\Local\\Temp\\ipykernel_7496\\709765694.py:46: SettingWithCopyWarning:\n",
      "\n",
      "\n",
      "A value is trying to be set on a copy of a slice from a DataFrame.\n",
      "Try using .loc[row_indexer,col_indexer] = value instead\n",
      "\n",
      "See the caveats in the documentation: https://pandas.pydata.org/pandas-docs/stable/user_guide/indexing.html#returning-a-view-versus-a-copy\n",
      "\n",
      "C:\\Users\\nikol\\AppData\\Local\\Temp\\ipykernel_7496\\709765694.py:52: SettingWithCopyWarning:\n",
      "\n",
      "\n",
      "A value is trying to be set on a copy of a slice from a DataFrame.\n",
      "Try using .loc[row_indexer,col_indexer] = value instead\n",
      "\n",
      "See the caveats in the documentation: https://pandas.pydata.org/pandas-docs/stable/user_guide/indexing.html#returning-a-view-versus-a-copy\n",
      "\n",
      "C:\\Users\\nikol\\AppData\\Local\\Temp\\ipykernel_7496\\709765694.py:46: SettingWithCopyWarning:\n",
      "\n",
      "\n",
      "A value is trying to be set on a copy of a slice from a DataFrame.\n",
      "Try using .loc[row_indexer,col_indexer] = value instead\n",
      "\n",
      "See the caveats in the documentation: https://pandas.pydata.org/pandas-docs/stable/user_guide/indexing.html#returning-a-view-versus-a-copy\n",
      "\n",
      "C:\\Users\\nikol\\AppData\\Local\\Temp\\ipykernel_7496\\709765694.py:52: SettingWithCopyWarning:\n",
      "\n",
      "\n",
      "A value is trying to be set on a copy of a slice from a DataFrame.\n",
      "Try using .loc[row_indexer,col_indexer] = value instead\n",
      "\n",
      "See the caveats in the documentation: https://pandas.pydata.org/pandas-docs/stable/user_guide/indexing.html#returning-a-view-versus-a-copy\n",
      "\n",
      "C:\\Users\\nikol\\AppData\\Local\\Temp\\ipykernel_7496\\709765694.py:46: SettingWithCopyWarning:\n",
      "\n",
      "\n",
      "A value is trying to be set on a copy of a slice from a DataFrame.\n",
      "Try using .loc[row_indexer,col_indexer] = value instead\n",
      "\n",
      "See the caveats in the documentation: https://pandas.pydata.org/pandas-docs/stable/user_guide/indexing.html#returning-a-view-versus-a-copy\n",
      "\n",
      "C:\\Users\\nikol\\AppData\\Local\\Temp\\ipykernel_7496\\709765694.py:52: SettingWithCopyWarning:\n",
      "\n",
      "\n",
      "A value is trying to be set on a copy of a slice from a DataFrame.\n",
      "Try using .loc[row_indexer,col_indexer] = value instead\n",
      "\n",
      "See the caveats in the documentation: https://pandas.pydata.org/pandas-docs/stable/user_guide/indexing.html#returning-a-view-versus-a-copy\n",
      "\n",
      "C:\\Users\\nikol\\AppData\\Local\\Temp\\ipykernel_7496\\709765694.py:46: SettingWithCopyWarning:\n",
      "\n",
      "\n",
      "A value is trying to be set on a copy of a slice from a DataFrame.\n",
      "Try using .loc[row_indexer,col_indexer] = value instead\n",
      "\n",
      "See the caveats in the documentation: https://pandas.pydata.org/pandas-docs/stable/user_guide/indexing.html#returning-a-view-versus-a-copy\n",
      "\n",
      "C:\\Users\\nikol\\AppData\\Local\\Temp\\ipykernel_7496\\709765694.py:52: SettingWithCopyWarning:\n",
      "\n",
      "\n",
      "A value is trying to be set on a copy of a slice from a DataFrame.\n",
      "Try using .loc[row_indexer,col_indexer] = value instead\n",
      "\n",
      "See the caveats in the documentation: https://pandas.pydata.org/pandas-docs/stable/user_guide/indexing.html#returning-a-view-versus-a-copy\n",
      "\n"
     ]
    },
    {
     "name": "stdout",
     "output_type": "stream",
     "text": [
      "Exercícios na rotina ['Squat (Barbell)' 'Leg Press (Machine)' 'Lying Leg Curl (Machine)'\n",
      " 'Leg Extension (Machine)' 'Calf Extension (Machine)' 'Cable Crunch']:\n"
     ]
    },
    {
     "name": "stderr",
     "output_type": "stream",
     "text": [
      "C:\\Users\\nikol\\AppData\\Local\\Temp\\ipykernel_7496\\709765694.py:46: SettingWithCopyWarning:\n",
      "\n",
      "\n",
      "A value is trying to be set on a copy of a slice from a DataFrame.\n",
      "Try using .loc[row_indexer,col_indexer] = value instead\n",
      "\n",
      "See the caveats in the documentation: https://pandas.pydata.org/pandas-docs/stable/user_guide/indexing.html#returning-a-view-versus-a-copy\n",
      "\n",
      "C:\\Users\\nikol\\AppData\\Local\\Temp\\ipykernel_7496\\709765694.py:52: SettingWithCopyWarning:\n",
      "\n",
      "\n",
      "A value is trying to be set on a copy of a slice from a DataFrame.\n",
      "Try using .loc[row_indexer,col_indexer] = value instead\n",
      "\n",
      "See the caveats in the documentation: https://pandas.pydata.org/pandas-docs/stable/user_guide/indexing.html#returning-a-view-versus-a-copy\n",
      "\n",
      "C:\\Users\\nikol\\AppData\\Local\\Temp\\ipykernel_7496\\709765694.py:46: SettingWithCopyWarning:\n",
      "\n",
      "\n",
      "A value is trying to be set on a copy of a slice from a DataFrame.\n",
      "Try using .loc[row_indexer,col_indexer] = value instead\n",
      "\n",
      "See the caveats in the documentation: https://pandas.pydata.org/pandas-docs/stable/user_guide/indexing.html#returning-a-view-versus-a-copy\n",
      "\n",
      "C:\\Users\\nikol\\AppData\\Local\\Temp\\ipykernel_7496\\709765694.py:52: SettingWithCopyWarning:\n",
      "\n",
      "\n",
      "A value is trying to be set on a copy of a slice from a DataFrame.\n",
      "Try using .loc[row_indexer,col_indexer] = value instead\n",
      "\n",
      "See the caveats in the documentation: https://pandas.pydata.org/pandas-docs/stable/user_guide/indexing.html#returning-a-view-versus-a-copy\n",
      "\n",
      "C:\\Users\\nikol\\AppData\\Local\\Temp\\ipykernel_7496\\709765694.py:46: SettingWithCopyWarning:\n",
      "\n",
      "\n",
      "A value is trying to be set on a copy of a slice from a DataFrame.\n",
      "Try using .loc[row_indexer,col_indexer] = value instead\n",
      "\n",
      "See the caveats in the documentation: https://pandas.pydata.org/pandas-docs/stable/user_guide/indexing.html#returning-a-view-versus-a-copy\n",
      "\n",
      "C:\\Users\\nikol\\AppData\\Local\\Temp\\ipykernel_7496\\709765694.py:52: SettingWithCopyWarning:\n",
      "\n",
      "\n",
      "A value is trying to be set on a copy of a slice from a DataFrame.\n",
      "Try using .loc[row_indexer,col_indexer] = value instead\n",
      "\n",
      "See the caveats in the documentation: https://pandas.pydata.org/pandas-docs/stable/user_guide/indexing.html#returning-a-view-versus-a-copy\n",
      "\n",
      "C:\\Users\\nikol\\AppData\\Local\\Temp\\ipykernel_7496\\709765694.py:46: SettingWithCopyWarning:\n",
      "\n",
      "\n",
      "A value is trying to be set on a copy of a slice from a DataFrame.\n",
      "Try using .loc[row_indexer,col_indexer] = value instead\n",
      "\n",
      "See the caveats in the documentation: https://pandas.pydata.org/pandas-docs/stable/user_guide/indexing.html#returning-a-view-versus-a-copy\n",
      "\n",
      "C:\\Users\\nikol\\AppData\\Local\\Temp\\ipykernel_7496\\709765694.py:52: SettingWithCopyWarning:\n",
      "\n",
      "\n",
      "A value is trying to be set on a copy of a slice from a DataFrame.\n",
      "Try using .loc[row_indexer,col_indexer] = value instead\n",
      "\n",
      "See the caveats in the documentation: https://pandas.pydata.org/pandas-docs/stable/user_guide/indexing.html#returning-a-view-versus-a-copy\n",
      "\n",
      "C:\\Users\\nikol\\AppData\\Local\\Temp\\ipykernel_7496\\709765694.py:46: SettingWithCopyWarning:\n",
      "\n",
      "\n",
      "A value is trying to be set on a copy of a slice from a DataFrame.\n",
      "Try using .loc[row_indexer,col_indexer] = value instead\n",
      "\n",
      "See the caveats in the documentation: https://pandas.pydata.org/pandas-docs/stable/user_guide/indexing.html#returning-a-view-versus-a-copy\n",
      "\n",
      "C:\\Users\\nikol\\AppData\\Local\\Temp\\ipykernel_7496\\709765694.py:52: SettingWithCopyWarning:\n",
      "\n",
      "\n",
      "A value is trying to be set on a copy of a slice from a DataFrame.\n",
      "Try using .loc[row_indexer,col_indexer] = value instead\n",
      "\n",
      "See the caveats in the documentation: https://pandas.pydata.org/pandas-docs/stable/user_guide/indexing.html#returning-a-view-versus-a-copy\n",
      "\n",
      "C:\\Users\\nikol\\AppData\\Local\\Temp\\ipykernel_7496\\709765694.py:46: SettingWithCopyWarning:\n",
      "\n",
      "\n",
      "A value is trying to be set on a copy of a slice from a DataFrame.\n",
      "Try using .loc[row_indexer,col_indexer] = value instead\n",
      "\n",
      "See the caveats in the documentation: https://pandas.pydata.org/pandas-docs/stable/user_guide/indexing.html#returning-a-view-versus-a-copy\n",
      "\n"
     ]
    },
    {
     "name": "stdout",
     "output_type": "stream",
     "text": [
      "Exercícios na rotina ['Bench Press (Barbell)' 'Seated Chest Flys (Cable)'\n",
      " 'Seated Shoulder Press (Machine)' 'Single Arm Lateral Raise (Cable)'\n",
      " 'Skullcrusher (Barbell)' 'Upright Row (Barbell)']:\n"
     ]
    },
    {
     "name": "stderr",
     "output_type": "stream",
     "text": [
      "C:\\Users\\nikol\\AppData\\Local\\Temp\\ipykernel_7496\\709765694.py:52: SettingWithCopyWarning:\n",
      "\n",
      "\n",
      "A value is trying to be set on a copy of a slice from a DataFrame.\n",
      "Try using .loc[row_indexer,col_indexer] = value instead\n",
      "\n",
      "See the caveats in the documentation: https://pandas.pydata.org/pandas-docs/stable/user_guide/indexing.html#returning-a-view-versus-a-copy\n",
      "\n",
      "C:\\Users\\nikol\\AppData\\Local\\Temp\\ipykernel_7496\\709765694.py:46: SettingWithCopyWarning:\n",
      "\n",
      "\n",
      "A value is trying to be set on a copy of a slice from a DataFrame.\n",
      "Try using .loc[row_indexer,col_indexer] = value instead\n",
      "\n",
      "See the caveats in the documentation: https://pandas.pydata.org/pandas-docs/stable/user_guide/indexing.html#returning-a-view-versus-a-copy\n",
      "\n",
      "C:\\Users\\nikol\\AppData\\Local\\Temp\\ipykernel_7496\\709765694.py:52: SettingWithCopyWarning:\n",
      "\n",
      "\n",
      "A value is trying to be set on a copy of a slice from a DataFrame.\n",
      "Try using .loc[row_indexer,col_indexer] = value instead\n",
      "\n",
      "See the caveats in the documentation: https://pandas.pydata.org/pandas-docs/stable/user_guide/indexing.html#returning-a-view-versus-a-copy\n",
      "\n",
      "C:\\Users\\nikol\\AppData\\Local\\Temp\\ipykernel_7496\\709765694.py:46: SettingWithCopyWarning:\n",
      "\n",
      "\n",
      "A value is trying to be set on a copy of a slice from a DataFrame.\n",
      "Try using .loc[row_indexer,col_indexer] = value instead\n",
      "\n",
      "See the caveats in the documentation: https://pandas.pydata.org/pandas-docs/stable/user_guide/indexing.html#returning-a-view-versus-a-copy\n",
      "\n",
      "C:\\Users\\nikol\\AppData\\Local\\Temp\\ipykernel_7496\\709765694.py:52: SettingWithCopyWarning:\n",
      "\n",
      "\n",
      "A value is trying to be set on a copy of a slice from a DataFrame.\n",
      "Try using .loc[row_indexer,col_indexer] = value instead\n",
      "\n",
      "See the caveats in the documentation: https://pandas.pydata.org/pandas-docs/stable/user_guide/indexing.html#returning-a-view-versus-a-copy\n",
      "\n",
      "C:\\Users\\nikol\\AppData\\Local\\Temp\\ipykernel_7496\\709765694.py:46: SettingWithCopyWarning:\n",
      "\n",
      "\n",
      "A value is trying to be set on a copy of a slice from a DataFrame.\n",
      "Try using .loc[row_indexer,col_indexer] = value instead\n",
      "\n",
      "See the caveats in the documentation: https://pandas.pydata.org/pandas-docs/stable/user_guide/indexing.html#returning-a-view-versus-a-copy\n",
      "\n",
      "C:\\Users\\nikol\\AppData\\Local\\Temp\\ipykernel_7496\\709765694.py:52: SettingWithCopyWarning:\n",
      "\n",
      "\n",
      "A value is trying to be set on a copy of a slice from a DataFrame.\n",
      "Try using .loc[row_indexer,col_indexer] = value instead\n",
      "\n",
      "See the caveats in the documentation: https://pandas.pydata.org/pandas-docs/stable/user_guide/indexing.html#returning-a-view-versus-a-copy\n",
      "\n",
      "C:\\Users\\nikol\\AppData\\Local\\Temp\\ipykernel_7496\\709765694.py:46: SettingWithCopyWarning:\n",
      "\n",
      "\n",
      "A value is trying to be set on a copy of a slice from a DataFrame.\n",
      "Try using .loc[row_indexer,col_indexer] = value instead\n",
      "\n",
      "See the caveats in the documentation: https://pandas.pydata.org/pandas-docs/stable/user_guide/indexing.html#returning-a-view-versus-a-copy\n",
      "\n",
      "C:\\Users\\nikol\\AppData\\Local\\Temp\\ipykernel_7496\\709765694.py:52: SettingWithCopyWarning:\n",
      "\n",
      "\n",
      "A value is trying to be set on a copy of a slice from a DataFrame.\n",
      "Try using .loc[row_indexer,col_indexer] = value instead\n",
      "\n",
      "See the caveats in the documentation: https://pandas.pydata.org/pandas-docs/stable/user_guide/indexing.html#returning-a-view-versus-a-copy\n",
      "\n"
     ]
    },
    {
     "name": "stdout",
     "output_type": "stream",
     "text": [
      "Exercícios na rotina ['Seated Cable Row - Bar Wide Grip' 'Pull Up (Weighted)'\n",
      " 'pull around Ilíaco' 'Chest Supported Y Raise (Dumbbell)'\n",
      " 'Single Arm Curl (Cable)' 'Hammer Curl (Dumbbell)' 'Cable Crunch']:\n"
     ]
    },
    {
     "name": "stderr",
     "output_type": "stream",
     "text": [
      "C:\\Users\\nikol\\AppData\\Local\\Temp\\ipykernel_7496\\709765694.py:46: SettingWithCopyWarning:\n",
      "\n",
      "\n",
      "A value is trying to be set on a copy of a slice from a DataFrame.\n",
      "Try using .loc[row_indexer,col_indexer] = value instead\n",
      "\n",
      "See the caveats in the documentation: https://pandas.pydata.org/pandas-docs/stable/user_guide/indexing.html#returning-a-view-versus-a-copy\n",
      "\n",
      "C:\\Users\\nikol\\AppData\\Local\\Temp\\ipykernel_7496\\709765694.py:52: SettingWithCopyWarning:\n",
      "\n",
      "\n",
      "A value is trying to be set on a copy of a slice from a DataFrame.\n",
      "Try using .loc[row_indexer,col_indexer] = value instead\n",
      "\n",
      "See the caveats in the documentation: https://pandas.pydata.org/pandas-docs/stable/user_guide/indexing.html#returning-a-view-versus-a-copy\n",
      "\n",
      "C:\\Users\\nikol\\AppData\\Local\\Temp\\ipykernel_7496\\709765694.py:46: SettingWithCopyWarning:\n",
      "\n",
      "\n",
      "A value is trying to be set on a copy of a slice from a DataFrame.\n",
      "Try using .loc[row_indexer,col_indexer] = value instead\n",
      "\n",
      "See the caveats in the documentation: https://pandas.pydata.org/pandas-docs/stable/user_guide/indexing.html#returning-a-view-versus-a-copy\n",
      "\n",
      "C:\\Users\\nikol\\AppData\\Local\\Temp\\ipykernel_7496\\709765694.py:52: SettingWithCopyWarning:\n",
      "\n",
      "\n",
      "A value is trying to be set on a copy of a slice from a DataFrame.\n",
      "Try using .loc[row_indexer,col_indexer] = value instead\n",
      "\n",
      "See the caveats in the documentation: https://pandas.pydata.org/pandas-docs/stable/user_guide/indexing.html#returning-a-view-versus-a-copy\n",
      "\n",
      "C:\\Users\\nikol\\AppData\\Local\\Temp\\ipykernel_7496\\709765694.py:46: SettingWithCopyWarning:\n",
      "\n",
      "\n",
      "A value is trying to be set on a copy of a slice from a DataFrame.\n",
      "Try using .loc[row_indexer,col_indexer] = value instead\n",
      "\n",
      "See the caveats in the documentation: https://pandas.pydata.org/pandas-docs/stable/user_guide/indexing.html#returning-a-view-versus-a-copy\n",
      "\n",
      "C:\\Users\\nikol\\AppData\\Local\\Temp\\ipykernel_7496\\709765694.py:52: SettingWithCopyWarning:\n",
      "\n",
      "\n",
      "A value is trying to be set on a copy of a slice from a DataFrame.\n",
      "Try using .loc[row_indexer,col_indexer] = value instead\n",
      "\n",
      "See the caveats in the documentation: https://pandas.pydata.org/pandas-docs/stable/user_guide/indexing.html#returning-a-view-versus-a-copy\n",
      "\n",
      "C:\\Users\\nikol\\AppData\\Local\\Temp\\ipykernel_7496\\709765694.py:46: SettingWithCopyWarning:\n",
      "\n",
      "\n",
      "A value is trying to be set on a copy of a slice from a DataFrame.\n",
      "Try using .loc[row_indexer,col_indexer] = value instead\n",
      "\n",
      "See the caveats in the documentation: https://pandas.pydata.org/pandas-docs/stable/user_guide/indexing.html#returning-a-view-versus-a-copy\n",
      "\n",
      "C:\\Users\\nikol\\AppData\\Local\\Temp\\ipykernel_7496\\709765694.py:52: SettingWithCopyWarning:\n",
      "\n",
      "\n",
      "A value is trying to be set on a copy of a slice from a DataFrame.\n",
      "Try using .loc[row_indexer,col_indexer] = value instead\n",
      "\n",
      "See the caveats in the documentation: https://pandas.pydata.org/pandas-docs/stable/user_guide/indexing.html#returning-a-view-versus-a-copy\n",
      "\n",
      "C:\\Users\\nikol\\AppData\\Local\\Temp\\ipykernel_7496\\709765694.py:46: SettingWithCopyWarning:\n",
      "\n",
      "\n",
      "A value is trying to be set on a copy of a slice from a DataFrame.\n",
      "Try using .loc[row_indexer,col_indexer] = value instead\n",
      "\n",
      "See the caveats in the documentation: https://pandas.pydata.org/pandas-docs/stable/user_guide/indexing.html#returning-a-view-versus-a-copy\n",
      "\n",
      "C:\\Users\\nikol\\AppData\\Local\\Temp\\ipykernel_7496\\709765694.py:52: SettingWithCopyWarning:\n",
      "\n",
      "\n",
      "A value is trying to be set on a copy of a slice from a DataFrame.\n",
      "Try using .loc[row_indexer,col_indexer] = value instead\n",
      "\n",
      "See the caveats in the documentation: https://pandas.pydata.org/pandas-docs/stable/user_guide/indexing.html#returning-a-view-versus-a-copy\n",
      "\n",
      "C:\\Users\\nikol\\AppData\\Local\\Temp\\ipykernel_7496\\709765694.py:46: SettingWithCopyWarning:\n",
      "\n",
      "\n",
      "A value is trying to be set on a copy of a slice from a DataFrame.\n",
      "Try using .loc[row_indexer,col_indexer] = value instead\n",
      "\n",
      "See the caveats in the documentation: https://pandas.pydata.org/pandas-docs/stable/user_guide/indexing.html#returning-a-view-versus-a-copy\n",
      "\n",
      "C:\\Users\\nikol\\AppData\\Local\\Temp\\ipykernel_7496\\709765694.py:52: SettingWithCopyWarning:\n",
      "\n",
      "\n",
      "A value is trying to be set on a copy of a slice from a DataFrame.\n",
      "Try using .loc[row_indexer,col_indexer] = value instead\n",
      "\n",
      "See the caveats in the documentation: https://pandas.pydata.org/pandas-docs/stable/user_guide/indexing.html#returning-a-view-versus-a-copy\n",
      "\n"
     ]
    },
    {
     "name": "stdout",
     "output_type": "stream",
     "text": [
      "Exercícios na rotina ['Deadlift (Barbell)' 'Extensão Quadril Banco Romano'\n",
      " 'Seated Leg Curl (Machine)' 'Leg Extension (Machine)' 'Seated Calf Raise']:\n",
      "Exercícios na rotina ['Single Arm Lat Pulldown' 'Chest Fly (Machine)'\n",
      " 'Single Arm Lateral Raise (Cable)' 'Incline Chest Press (Machine)'\n",
      " 'Seated Cable Row - V Grip (Cable)' 'Preacher Curl (Machine)'\n",
      " 'Triceps Rope Pushdown' 'Cable Crunch']:\n"
     ]
    },
    {
     "name": "stderr",
     "output_type": "stream",
     "text": [
      "C:\\Users\\nikol\\AppData\\Local\\Temp\\ipykernel_7496\\709765694.py:46: SettingWithCopyWarning:\n",
      "\n",
      "\n",
      "A value is trying to be set on a copy of a slice from a DataFrame.\n",
      "Try using .loc[row_indexer,col_indexer] = value instead\n",
      "\n",
      "See the caveats in the documentation: https://pandas.pydata.org/pandas-docs/stable/user_guide/indexing.html#returning-a-view-versus-a-copy\n",
      "\n",
      "C:\\Users\\nikol\\AppData\\Local\\Temp\\ipykernel_7496\\709765694.py:52: SettingWithCopyWarning:\n",
      "\n",
      "\n",
      "A value is trying to be set on a copy of a slice from a DataFrame.\n",
      "Try using .loc[row_indexer,col_indexer] = value instead\n",
      "\n",
      "See the caveats in the documentation: https://pandas.pydata.org/pandas-docs/stable/user_guide/indexing.html#returning-a-view-versus-a-copy\n",
      "\n",
      "C:\\Users\\nikol\\AppData\\Local\\Temp\\ipykernel_7496\\709765694.py:46: SettingWithCopyWarning:\n",
      "\n",
      "\n",
      "A value is trying to be set on a copy of a slice from a DataFrame.\n",
      "Try using .loc[row_indexer,col_indexer] = value instead\n",
      "\n",
      "See the caveats in the documentation: https://pandas.pydata.org/pandas-docs/stable/user_guide/indexing.html#returning-a-view-versus-a-copy\n",
      "\n",
      "C:\\Users\\nikol\\AppData\\Local\\Temp\\ipykernel_7496\\709765694.py:52: SettingWithCopyWarning:\n",
      "\n",
      "\n",
      "A value is trying to be set on a copy of a slice from a DataFrame.\n",
      "Try using .loc[row_indexer,col_indexer] = value instead\n",
      "\n",
      "See the caveats in the documentation: https://pandas.pydata.org/pandas-docs/stable/user_guide/indexing.html#returning-a-view-versus-a-copy\n",
      "\n",
      "C:\\Users\\nikol\\AppData\\Local\\Temp\\ipykernel_7496\\709765694.py:46: SettingWithCopyWarning:\n",
      "\n",
      "\n",
      "A value is trying to be set on a copy of a slice from a DataFrame.\n",
      "Try using .loc[row_indexer,col_indexer] = value instead\n",
      "\n",
      "See the caveats in the documentation: https://pandas.pydata.org/pandas-docs/stable/user_guide/indexing.html#returning-a-view-versus-a-copy\n",
      "\n",
      "C:\\Users\\nikol\\AppData\\Local\\Temp\\ipykernel_7496\\709765694.py:52: SettingWithCopyWarning:\n",
      "\n",
      "\n",
      "A value is trying to be set on a copy of a slice from a DataFrame.\n",
      "Try using .loc[row_indexer,col_indexer] = value instead\n",
      "\n",
      "See the caveats in the documentation: https://pandas.pydata.org/pandas-docs/stable/user_guide/indexing.html#returning-a-view-versus-a-copy\n",
      "\n",
      "C:\\Users\\nikol\\AppData\\Local\\Temp\\ipykernel_7496\\709765694.py:46: SettingWithCopyWarning:\n",
      "\n",
      "\n",
      "A value is trying to be set on a copy of a slice from a DataFrame.\n",
      "Try using .loc[row_indexer,col_indexer] = value instead\n",
      "\n",
      "See the caveats in the documentation: https://pandas.pydata.org/pandas-docs/stable/user_guide/indexing.html#returning-a-view-versus-a-copy\n",
      "\n",
      "C:\\Users\\nikol\\AppData\\Local\\Temp\\ipykernel_7496\\709765694.py:52: SettingWithCopyWarning:\n",
      "\n",
      "\n",
      "A value is trying to be set on a copy of a slice from a DataFrame.\n",
      "Try using .loc[row_indexer,col_indexer] = value instead\n",
      "\n",
      "See the caveats in the documentation: https://pandas.pydata.org/pandas-docs/stable/user_guide/indexing.html#returning-a-view-versus-a-copy\n",
      "\n",
      "C:\\Users\\nikol\\AppData\\Local\\Temp\\ipykernel_7496\\709765694.py:46: SettingWithCopyWarning:\n",
      "\n",
      "\n",
      "A value is trying to be set on a copy of a slice from a DataFrame.\n",
      "Try using .loc[row_indexer,col_indexer] = value instead\n",
      "\n",
      "See the caveats in the documentation: https://pandas.pydata.org/pandas-docs/stable/user_guide/indexing.html#returning-a-view-versus-a-copy\n",
      "\n",
      "C:\\Users\\nikol\\AppData\\Local\\Temp\\ipykernel_7496\\709765694.py:52: SettingWithCopyWarning:\n",
      "\n",
      "\n",
      "A value is trying to be set on a copy of a slice from a DataFrame.\n",
      "Try using .loc[row_indexer,col_indexer] = value instead\n",
      "\n",
      "See the caveats in the documentation: https://pandas.pydata.org/pandas-docs/stable/user_guide/indexing.html#returning-a-view-versus-a-copy\n",
      "\n",
      "C:\\Users\\nikol\\AppData\\Local\\Temp\\ipykernel_7496\\709765694.py:46: SettingWithCopyWarning:\n",
      "\n",
      "\n",
      "A value is trying to be set on a copy of a slice from a DataFrame.\n",
      "Try using .loc[row_indexer,col_indexer] = value instead\n",
      "\n",
      "See the caveats in the documentation: https://pandas.pydata.org/pandas-docs/stable/user_guide/indexing.html#returning-a-view-versus-a-copy\n",
      "\n",
      "C:\\Users\\nikol\\AppData\\Local\\Temp\\ipykernel_7496\\709765694.py:52: SettingWithCopyWarning:\n",
      "\n",
      "\n",
      "A value is trying to be set on a copy of a slice from a DataFrame.\n",
      "Try using .loc[row_indexer,col_indexer] = value instead\n",
      "\n",
      "See the caveats in the documentation: https://pandas.pydata.org/pandas-docs/stable/user_guide/indexing.html#returning-a-view-versus-a-copy\n",
      "\n",
      "C:\\Users\\nikol\\AppData\\Local\\Temp\\ipykernel_7496\\709765694.py:46: SettingWithCopyWarning:\n",
      "\n",
      "\n",
      "A value is trying to be set on a copy of a slice from a DataFrame.\n",
      "Try using .loc[row_indexer,col_indexer] = value instead\n",
      "\n",
      "See the caveats in the documentation: https://pandas.pydata.org/pandas-docs/stable/user_guide/indexing.html#returning-a-view-versus-a-copy\n",
      "\n",
      "C:\\Users\\nikol\\AppData\\Local\\Temp\\ipykernel_7496\\709765694.py:52: SettingWithCopyWarning:\n",
      "\n",
      "\n",
      "A value is trying to be set on a copy of a slice from a DataFrame.\n",
      "Try using .loc[row_indexer,col_indexer] = value instead\n",
      "\n",
      "See the caveats in the documentation: https://pandas.pydata.org/pandas-docs/stable/user_guide/indexing.html#returning-a-view-versus-a-copy\n",
      "\n",
      "C:\\Users\\nikol\\AppData\\Local\\Temp\\ipykernel_7496\\709765694.py:46: SettingWithCopyWarning:\n",
      "\n",
      "\n",
      "A value is trying to be set on a copy of a slice from a DataFrame.\n",
      "Try using .loc[row_indexer,col_indexer] = value instead\n",
      "\n",
      "See the caveats in the documentation: https://pandas.pydata.org/pandas-docs/stable/user_guide/indexing.html#returning-a-view-versus-a-copy\n",
      "\n",
      "C:\\Users\\nikol\\AppData\\Local\\Temp\\ipykernel_7496\\709765694.py:52: SettingWithCopyWarning:\n",
      "\n",
      "\n",
      "A value is trying to be set on a copy of a slice from a DataFrame.\n",
      "Try using .loc[row_indexer,col_indexer] = value instead\n",
      "\n",
      "See the caveats in the documentation: https://pandas.pydata.org/pandas-docs/stable/user_guide/indexing.html#returning-a-view-versus-a-copy\n",
      "\n",
      "C:\\Users\\nikol\\AppData\\Local\\Temp\\ipykernel_7496\\709765694.py:46: SettingWithCopyWarning:\n",
      "\n",
      "\n",
      "A value is trying to be set on a copy of a slice from a DataFrame.\n",
      "Try using .loc[row_indexer,col_indexer] = value instead\n",
      "\n",
      "See the caveats in the documentation: https://pandas.pydata.org/pandas-docs/stable/user_guide/indexing.html#returning-a-view-versus-a-copy\n",
      "\n",
      "C:\\Users\\nikol\\AppData\\Local\\Temp\\ipykernel_7496\\709765694.py:52: SettingWithCopyWarning:\n",
      "\n",
      "\n",
      "A value is trying to be set on a copy of a slice from a DataFrame.\n",
      "Try using .loc[row_indexer,col_indexer] = value instead\n",
      "\n",
      "See the caveats in the documentation: https://pandas.pydata.org/pandas-docs/stable/user_guide/indexing.html#returning-a-view-versus-a-copy\n",
      "\n",
      "C:\\Users\\nikol\\AppData\\Local\\Temp\\ipykernel_7496\\709765694.py:46: SettingWithCopyWarning:\n",
      "\n",
      "\n",
      "A value is trying to be set on a copy of a slice from a DataFrame.\n",
      "Try using .loc[row_indexer,col_indexer] = value instead\n",
      "\n",
      "See the caveats in the documentation: https://pandas.pydata.org/pandas-docs/stable/user_guide/indexing.html#returning-a-view-versus-a-copy\n",
      "\n",
      "C:\\Users\\nikol\\AppData\\Local\\Temp\\ipykernel_7496\\709765694.py:52: SettingWithCopyWarning:\n",
      "\n",
      "\n",
      "A value is trying to be set on a copy of a slice from a DataFrame.\n",
      "Try using .loc[row_indexer,col_indexer] = value instead\n",
      "\n",
      "See the caveats in the documentation: https://pandas.pydata.org/pandas-docs/stable/user_guide/indexing.html#returning-a-view-versus-a-copy\n",
      "\n",
      "C:\\Users\\nikol\\AppData\\Local\\Temp\\ipykernel_7496\\709765694.py:46: SettingWithCopyWarning:\n",
      "\n",
      "\n",
      "A value is trying to be set on a copy of a slice from a DataFrame.\n",
      "Try using .loc[row_indexer,col_indexer] = value instead\n",
      "\n",
      "See the caveats in the documentation: https://pandas.pydata.org/pandas-docs/stable/user_guide/indexing.html#returning-a-view-versus-a-copy\n",
      "\n",
      "C:\\Users\\nikol\\AppData\\Local\\Temp\\ipykernel_7496\\709765694.py:52: SettingWithCopyWarning:\n",
      "\n",
      "\n",
      "A value is trying to be set on a copy of a slice from a DataFrame.\n",
      "Try using .loc[row_indexer,col_indexer] = value instead\n",
      "\n",
      "See the caveats in the documentation: https://pandas.pydata.org/pandas-docs/stable/user_guide/indexing.html#returning-a-view-versus-a-copy\n",
      "\n"
     ]
    }
   ],
   "source": [
    "treino_nomes = workout_df_columns_filtered['title'].unique()\n",
    "for nome_treino in treino_nomes:\n",
    "    #print(f\"\\nTreino: {nome_treino}\")\n",
    "    # Filtrar os exercícios únicos para o treino atual\n",
    "    exercicios = workout_df_columns_filtered[workout_df_columns_filtered['title'] == nome_treino]['exercise_title'].unique()\n",
    "    gerar_grafico_treino_total(exercicios, nome_treino=nome_treino)\n",
    "# Salvar o gráfico como HTML"
   ]
  },
  {
   "cell_type": "code",
   "execution_count": 12,
   "id": "cf456d9a",
   "metadata": {},
   "outputs": [
    {
     "name": "stderr",
     "output_type": "stream",
     "text": [
      "C:\\Users\\nikol\\AppData\\Local\\Temp\\ipykernel_7496\\709765694.py:46: SettingWithCopyWarning:\n",
      "\n",
      "\n",
      "A value is trying to be set on a copy of a slice from a DataFrame.\n",
      "Try using .loc[row_indexer,col_indexer] = value instead\n",
      "\n",
      "See the caveats in the documentation: https://pandas.pydata.org/pandas-docs/stable/user_guide/indexing.html#returning-a-view-versus-a-copy\n",
      "\n",
      "C:\\Users\\nikol\\AppData\\Local\\Temp\\ipykernel_7496\\709765694.py:52: SettingWithCopyWarning:\n",
      "\n",
      "\n",
      "A value is trying to be set on a copy of a slice from a DataFrame.\n",
      "Try using .loc[row_indexer,col_indexer] = value instead\n",
      "\n",
      "See the caveats in the documentation: https://pandas.pydata.org/pandas-docs/stable/user_guide/indexing.html#returning-a-view-versus-a-copy\n",
      "\n",
      "C:\\Users\\nikol\\AppData\\Local\\Temp\\ipykernel_7496\\709765694.py:46: SettingWithCopyWarning:\n",
      "\n",
      "\n",
      "A value is trying to be set on a copy of a slice from a DataFrame.\n",
      "Try using .loc[row_indexer,col_indexer] = value instead\n",
      "\n",
      "See the caveats in the documentation: https://pandas.pydata.org/pandas-docs/stable/user_guide/indexing.html#returning-a-view-versus-a-copy\n",
      "\n",
      "C:\\Users\\nikol\\AppData\\Local\\Temp\\ipykernel_7496\\709765694.py:52: SettingWithCopyWarning:\n",
      "\n",
      "\n",
      "A value is trying to be set on a copy of a slice from a DataFrame.\n",
      "Try using .loc[row_indexer,col_indexer] = value instead\n",
      "\n",
      "See the caveats in the documentation: https://pandas.pydata.org/pandas-docs/stable/user_guide/indexing.html#returning-a-view-versus-a-copy\n",
      "\n",
      "C:\\Users\\nikol\\AppData\\Local\\Temp\\ipykernel_7496\\709765694.py:46: SettingWithCopyWarning:\n",
      "\n",
      "\n",
      "A value is trying to be set on a copy of a slice from a DataFrame.\n",
      "Try using .loc[row_indexer,col_indexer] = value instead\n",
      "\n",
      "See the caveats in the documentation: https://pandas.pydata.org/pandas-docs/stable/user_guide/indexing.html#returning-a-view-versus-a-copy\n",
      "\n",
      "C:\\Users\\nikol\\AppData\\Local\\Temp\\ipykernel_7496\\709765694.py:52: SettingWithCopyWarning:\n",
      "\n",
      "\n",
      "A value is trying to be set on a copy of a slice from a DataFrame.\n",
      "Try using .loc[row_indexer,col_indexer] = value instead\n",
      "\n",
      "See the caveats in the documentation: https://pandas.pydata.org/pandas-docs/stable/user_guide/indexing.html#returning-a-view-versus-a-copy\n",
      "\n",
      "C:\\Users\\nikol\\AppData\\Local\\Temp\\ipykernel_7496\\709765694.py:46: SettingWithCopyWarning:\n",
      "\n",
      "\n",
      "A value is trying to be set on a copy of a slice from a DataFrame.\n",
      "Try using .loc[row_indexer,col_indexer] = value instead\n",
      "\n",
      "See the caveats in the documentation: https://pandas.pydata.org/pandas-docs/stable/user_guide/indexing.html#returning-a-view-versus-a-copy\n",
      "\n",
      "C:\\Users\\nikol\\AppData\\Local\\Temp\\ipykernel_7496\\709765694.py:52: SettingWithCopyWarning:\n",
      "\n",
      "\n",
      "A value is trying to be set on a copy of a slice from a DataFrame.\n",
      "Try using .loc[row_indexer,col_indexer] = value instead\n",
      "\n",
      "See the caveats in the documentation: https://pandas.pydata.org/pandas-docs/stable/user_guide/indexing.html#returning-a-view-versus-a-copy\n",
      "\n",
      "C:\\Users\\nikol\\AppData\\Local\\Temp\\ipykernel_7496\\709765694.py:46: SettingWithCopyWarning:\n",
      "\n",
      "\n",
      "A value is trying to be set on a copy of a slice from a DataFrame.\n",
      "Try using .loc[row_indexer,col_indexer] = value instead\n",
      "\n",
      "See the caveats in the documentation: https://pandas.pydata.org/pandas-docs/stable/user_guide/indexing.html#returning-a-view-versus-a-copy\n",
      "\n",
      "C:\\Users\\nikol\\AppData\\Local\\Temp\\ipykernel_7496\\709765694.py:52: SettingWithCopyWarning:\n",
      "\n",
      "\n",
      "A value is trying to be set on a copy of a slice from a DataFrame.\n",
      "Try using .loc[row_indexer,col_indexer] = value instead\n",
      "\n",
      "See the caveats in the documentation: https://pandas.pydata.org/pandas-docs/stable/user_guide/indexing.html#returning-a-view-versus-a-copy\n",
      "\n",
      "C:\\Users\\nikol\\AppData\\Local\\Temp\\ipykernel_7496\\709765694.py:46: SettingWithCopyWarning:\n",
      "\n",
      "\n",
      "A value is trying to be set on a copy of a slice from a DataFrame.\n",
      "Try using .loc[row_indexer,col_indexer] = value instead\n",
      "\n",
      "See the caveats in the documentation: https://pandas.pydata.org/pandas-docs/stable/user_guide/indexing.html#returning-a-view-versus-a-copy\n",
      "\n",
      "C:\\Users\\nikol\\AppData\\Local\\Temp\\ipykernel_7496\\709765694.py:52: SettingWithCopyWarning:\n",
      "\n",
      "\n",
      "A value is trying to be set on a copy of a slice from a DataFrame.\n",
      "Try using .loc[row_indexer,col_indexer] = value instead\n",
      "\n",
      "See the caveats in the documentation: https://pandas.pydata.org/pandas-docs/stable/user_guide/indexing.html#returning-a-view-versus-a-copy\n",
      "\n",
      "C:\\Users\\nikol\\AppData\\Local\\Temp\\ipykernel_7496\\709765694.py:46: SettingWithCopyWarning:\n",
      "\n",
      "\n",
      "A value is trying to be set on a copy of a slice from a DataFrame.\n",
      "Try using .loc[row_indexer,col_indexer] = value instead\n",
      "\n",
      "See the caveats in the documentation: https://pandas.pydata.org/pandas-docs/stable/user_guide/indexing.html#returning-a-view-versus-a-copy\n",
      "\n",
      "C:\\Users\\nikol\\AppData\\Local\\Temp\\ipykernel_7496\\709765694.py:52: SettingWithCopyWarning:\n",
      "\n",
      "\n",
      "A value is trying to be set on a copy of a slice from a DataFrame.\n",
      "Try using .loc[row_indexer,col_indexer] = value instead\n",
      "\n",
      "See the caveats in the documentation: https://pandas.pydata.org/pandas-docs/stable/user_guide/indexing.html#returning-a-view-versus-a-copy\n",
      "\n",
      "C:\\Users\\nikol\\AppData\\Local\\Temp\\ipykernel_7496\\709765694.py:46: SettingWithCopyWarning:\n",
      "\n",
      "\n",
      "A value is trying to be set on a copy of a slice from a DataFrame.\n",
      "Try using .loc[row_indexer,col_indexer] = value instead\n",
      "\n",
      "See the caveats in the documentation: https://pandas.pydata.org/pandas-docs/stable/user_guide/indexing.html#returning-a-view-versus-a-copy\n",
      "\n",
      "C:\\Users\\nikol\\AppData\\Local\\Temp\\ipykernel_7496\\709765694.py:52: SettingWithCopyWarning:\n",
      "\n",
      "\n",
      "A value is trying to be set on a copy of a slice from a DataFrame.\n",
      "Try using .loc[row_indexer,col_indexer] = value instead\n",
      "\n",
      "See the caveats in the documentation: https://pandas.pydata.org/pandas-docs/stable/user_guide/indexing.html#returning-a-view-versus-a-copy\n",
      "\n",
      "C:\\Users\\nikol\\AppData\\Local\\Temp\\ipykernel_7496\\709765694.py:46: SettingWithCopyWarning:\n",
      "\n",
      "\n",
      "A value is trying to be set on a copy of a slice from a DataFrame.\n",
      "Try using .loc[row_indexer,col_indexer] = value instead\n",
      "\n",
      "See the caveats in the documentation: https://pandas.pydata.org/pandas-docs/stable/user_guide/indexing.html#returning-a-view-versus-a-copy\n",
      "\n",
      "C:\\Users\\nikol\\AppData\\Local\\Temp\\ipykernel_7496\\709765694.py:52: SettingWithCopyWarning:\n",
      "\n",
      "\n",
      "A value is trying to be set on a copy of a slice from a DataFrame.\n",
      "Try using .loc[row_indexer,col_indexer] = value instead\n",
      "\n",
      "See the caveats in the documentation: https://pandas.pydata.org/pandas-docs/stable/user_guide/indexing.html#returning-a-view-versus-a-copy\n",
      "\n",
      "C:\\Users\\nikol\\AppData\\Local\\Temp\\ipykernel_7496\\709765694.py:46: SettingWithCopyWarning:\n",
      "\n",
      "\n",
      "A value is trying to be set on a copy of a slice from a DataFrame.\n",
      "Try using .loc[row_indexer,col_indexer] = value instead\n",
      "\n",
      "See the caveats in the documentation: https://pandas.pydata.org/pandas-docs/stable/user_guide/indexing.html#returning-a-view-versus-a-copy\n",
      "\n",
      "C:\\Users\\nikol\\AppData\\Local\\Temp\\ipykernel_7496\\709765694.py:52: SettingWithCopyWarning:\n",
      "\n",
      "\n",
      "A value is trying to be set on a copy of a slice from a DataFrame.\n",
      "Try using .loc[row_indexer,col_indexer] = value instead\n",
      "\n",
      "See the caveats in the documentation: https://pandas.pydata.org/pandas-docs/stable/user_guide/indexing.html#returning-a-view-versus-a-copy\n",
      "\n",
      "C:\\Users\\nikol\\AppData\\Local\\Temp\\ipykernel_7496\\709765694.py:46: SettingWithCopyWarning:\n",
      "\n",
      "\n",
      "A value is trying to be set on a copy of a slice from a DataFrame.\n",
      "Try using .loc[row_indexer,col_indexer] = value instead\n",
      "\n",
      "See the caveats in the documentation: https://pandas.pydata.org/pandas-docs/stable/user_guide/indexing.html#returning-a-view-versus-a-copy\n",
      "\n",
      "C:\\Users\\nikol\\AppData\\Local\\Temp\\ipykernel_7496\\709765694.py:52: SettingWithCopyWarning:\n",
      "\n",
      "\n",
      "A value is trying to be set on a copy of a slice from a DataFrame.\n",
      "Try using .loc[row_indexer,col_indexer] = value instead\n",
      "\n",
      "See the caveats in the documentation: https://pandas.pydata.org/pandas-docs/stable/user_guide/indexing.html#returning-a-view-versus-a-copy\n",
      "\n",
      "C:\\Users\\nikol\\AppData\\Local\\Temp\\ipykernel_7496\\709765694.py:46: SettingWithCopyWarning:\n",
      "\n",
      "\n",
      "A value is trying to be set on a copy of a slice from a DataFrame.\n",
      "Try using .loc[row_indexer,col_indexer] = value instead\n",
      "\n",
      "See the caveats in the documentation: https://pandas.pydata.org/pandas-docs/stable/user_guide/indexing.html#returning-a-view-versus-a-copy\n",
      "\n",
      "C:\\Users\\nikol\\AppData\\Local\\Temp\\ipykernel_7496\\709765694.py:52: SettingWithCopyWarning:\n",
      "\n",
      "\n",
      "A value is trying to be set on a copy of a slice from a DataFrame.\n",
      "Try using .loc[row_indexer,col_indexer] = value instead\n",
      "\n",
      "See the caveats in the documentation: https://pandas.pydata.org/pandas-docs/stable/user_guide/indexing.html#returning-a-view-versus-a-copy\n",
      "\n",
      "C:\\Users\\nikol\\AppData\\Local\\Temp\\ipykernel_7496\\709765694.py:46: SettingWithCopyWarning:\n",
      "\n",
      "\n",
      "A value is trying to be set on a copy of a slice from a DataFrame.\n",
      "Try using .loc[row_indexer,col_indexer] = value instead\n",
      "\n",
      "See the caveats in the documentation: https://pandas.pydata.org/pandas-docs/stable/user_guide/indexing.html#returning-a-view-versus-a-copy\n",
      "\n",
      "C:\\Users\\nikol\\AppData\\Local\\Temp\\ipykernel_7496\\709765694.py:52: SettingWithCopyWarning:\n",
      "\n",
      "\n",
      "A value is trying to be set on a copy of a slice from a DataFrame.\n",
      "Try using .loc[row_indexer,col_indexer] = value instead\n",
      "\n",
      "See the caveats in the documentation: https://pandas.pydata.org/pandas-docs/stable/user_guide/indexing.html#returning-a-view-versus-a-copy\n",
      "\n",
      "C:\\Users\\nikol\\AppData\\Local\\Temp\\ipykernel_7496\\709765694.py:46: SettingWithCopyWarning:\n",
      "\n",
      "\n",
      "A value is trying to be set on a copy of a slice from a DataFrame.\n",
      "Try using .loc[row_indexer,col_indexer] = value instead\n",
      "\n",
      "See the caveats in the documentation: https://pandas.pydata.org/pandas-docs/stable/user_guide/indexing.html#returning-a-view-versus-a-copy\n",
      "\n",
      "C:\\Users\\nikol\\AppData\\Local\\Temp\\ipykernel_7496\\709765694.py:52: SettingWithCopyWarning:\n",
      "\n",
      "\n",
      "A value is trying to be set on a copy of a slice from a DataFrame.\n",
      "Try using .loc[row_indexer,col_indexer] = value instead\n",
      "\n",
      "See the caveats in the documentation: https://pandas.pydata.org/pandas-docs/stable/user_guide/indexing.html#returning-a-view-versus-a-copy\n",
      "\n",
      "C:\\Users\\nikol\\AppData\\Local\\Temp\\ipykernel_7496\\709765694.py:46: SettingWithCopyWarning:\n",
      "\n",
      "\n",
      "A value is trying to be set on a copy of a slice from a DataFrame.\n",
      "Try using .loc[row_indexer,col_indexer] = value instead\n",
      "\n",
      "See the caveats in the documentation: https://pandas.pydata.org/pandas-docs/stable/user_guide/indexing.html#returning-a-view-versus-a-copy\n",
      "\n",
      "C:\\Users\\nikol\\AppData\\Local\\Temp\\ipykernel_7496\\709765694.py:52: SettingWithCopyWarning:\n",
      "\n",
      "\n",
      "A value is trying to be set on a copy of a slice from a DataFrame.\n",
      "Try using .loc[row_indexer,col_indexer] = value instead\n",
      "\n",
      "See the caveats in the documentation: https://pandas.pydata.org/pandas-docs/stable/user_guide/indexing.html#returning-a-view-versus-a-copy\n",
      "\n",
      "C:\\Users\\nikol\\AppData\\Local\\Temp\\ipykernel_7496\\709765694.py:46: SettingWithCopyWarning:\n",
      "\n",
      "\n",
      "A value is trying to be set on a copy of a slice from a DataFrame.\n",
      "Try using .loc[row_indexer,col_indexer] = value instead\n",
      "\n",
      "See the caveats in the documentation: https://pandas.pydata.org/pandas-docs/stable/user_guide/indexing.html#returning-a-view-versus-a-copy\n",
      "\n",
      "C:\\Users\\nikol\\AppData\\Local\\Temp\\ipykernel_7496\\709765694.py:52: SettingWithCopyWarning:\n",
      "\n",
      "\n",
      "A value is trying to be set on a copy of a slice from a DataFrame.\n",
      "Try using .loc[row_indexer,col_indexer] = value instead\n",
      "\n",
      "See the caveats in the documentation: https://pandas.pydata.org/pandas-docs/stable/user_guide/indexing.html#returning-a-view-versus-a-copy\n",
      "\n",
      "C:\\Users\\nikol\\AppData\\Local\\Temp\\ipykernel_7496\\709765694.py:46: SettingWithCopyWarning:\n",
      "\n",
      "\n",
      "A value is trying to be set on a copy of a slice from a DataFrame.\n",
      "Try using .loc[row_indexer,col_indexer] = value instead\n",
      "\n",
      "See the caveats in the documentation: https://pandas.pydata.org/pandas-docs/stable/user_guide/indexing.html#returning-a-view-versus-a-copy\n",
      "\n",
      "C:\\Users\\nikol\\AppData\\Local\\Temp\\ipykernel_7496\\709765694.py:52: SettingWithCopyWarning:\n",
      "\n",
      "\n",
      "A value is trying to be set on a copy of a slice from a DataFrame.\n",
      "Try using .loc[row_indexer,col_indexer] = value instead\n",
      "\n",
      "See the caveats in the documentation: https://pandas.pydata.org/pandas-docs/stable/user_guide/indexing.html#returning-a-view-versus-a-copy\n",
      "\n",
      "C:\\Users\\nikol\\AppData\\Local\\Temp\\ipykernel_7496\\709765694.py:46: SettingWithCopyWarning:\n",
      "\n",
      "\n",
      "A value is trying to be set on a copy of a slice from a DataFrame.\n",
      "Try using .loc[row_indexer,col_indexer] = value instead\n",
      "\n",
      "See the caveats in the documentation: https://pandas.pydata.org/pandas-docs/stable/user_guide/indexing.html#returning-a-view-versus-a-copy\n",
      "\n",
      "C:\\Users\\nikol\\AppData\\Local\\Temp\\ipykernel_7496\\709765694.py:52: SettingWithCopyWarning:\n",
      "\n",
      "\n",
      "A value is trying to be set on a copy of a slice from a DataFrame.\n",
      "Try using .loc[row_indexer,col_indexer] = value instead\n",
      "\n",
      "See the caveats in the documentation: https://pandas.pydata.org/pandas-docs/stable/user_guide/indexing.html#returning-a-view-versus-a-copy\n",
      "\n",
      "C:\\Users\\nikol\\AppData\\Local\\Temp\\ipykernel_7496\\709765694.py:46: SettingWithCopyWarning:\n",
      "\n",
      "\n",
      "A value is trying to be set on a copy of a slice from a DataFrame.\n",
      "Try using .loc[row_indexer,col_indexer] = value instead\n",
      "\n",
      "See the caveats in the documentation: https://pandas.pydata.org/pandas-docs/stable/user_guide/indexing.html#returning-a-view-versus-a-copy\n",
      "\n",
      "C:\\Users\\nikol\\AppData\\Local\\Temp\\ipykernel_7496\\709765694.py:52: SettingWithCopyWarning:\n",
      "\n",
      "\n",
      "A value is trying to be set on a copy of a slice from a DataFrame.\n",
      "Try using .loc[row_indexer,col_indexer] = value instead\n",
      "\n",
      "See the caveats in the documentation: https://pandas.pydata.org/pandas-docs/stable/user_guide/indexing.html#returning-a-view-versus-a-copy\n",
      "\n",
      "C:\\Users\\nikol\\AppData\\Local\\Temp\\ipykernel_7496\\709765694.py:46: SettingWithCopyWarning:\n",
      "\n",
      "\n",
      "A value is trying to be set on a copy of a slice from a DataFrame.\n",
      "Try using .loc[row_indexer,col_indexer] = value instead\n",
      "\n",
      "See the caveats in the documentation: https://pandas.pydata.org/pandas-docs/stable/user_guide/indexing.html#returning-a-view-versus-a-copy\n",
      "\n",
      "C:\\Users\\nikol\\AppData\\Local\\Temp\\ipykernel_7496\\709765694.py:52: SettingWithCopyWarning:\n",
      "\n",
      "\n",
      "A value is trying to be set on a copy of a slice from a DataFrame.\n",
      "Try using .loc[row_indexer,col_indexer] = value instead\n",
      "\n",
      "See the caveats in the documentation: https://pandas.pydata.org/pandas-docs/stable/user_guide/indexing.html#returning-a-view-versus-a-copy\n",
      "\n",
      "C:\\Users\\nikol\\AppData\\Local\\Temp\\ipykernel_7496\\709765694.py:46: SettingWithCopyWarning:\n",
      "\n",
      "\n",
      "A value is trying to be set on a copy of a slice from a DataFrame.\n",
      "Try using .loc[row_indexer,col_indexer] = value instead\n",
      "\n",
      "See the caveats in the documentation: https://pandas.pydata.org/pandas-docs/stable/user_guide/indexing.html#returning-a-view-versus-a-copy\n",
      "\n",
      "C:\\Users\\nikol\\AppData\\Local\\Temp\\ipykernel_7496\\709765694.py:52: SettingWithCopyWarning:\n",
      "\n",
      "\n",
      "A value is trying to be set on a copy of a slice from a DataFrame.\n",
      "Try using .loc[row_indexer,col_indexer] = value instead\n",
      "\n",
      "See the caveats in the documentation: https://pandas.pydata.org/pandas-docs/stable/user_guide/indexing.html#returning-a-view-versus-a-copy\n",
      "\n",
      "C:\\Users\\nikol\\AppData\\Local\\Temp\\ipykernel_7496\\709765694.py:46: SettingWithCopyWarning:\n",
      "\n",
      "\n",
      "A value is trying to be set on a copy of a slice from a DataFrame.\n",
      "Try using .loc[row_indexer,col_indexer] = value instead\n",
      "\n",
      "See the caveats in the documentation: https://pandas.pydata.org/pandas-docs/stable/user_guide/indexing.html#returning-a-view-versus-a-copy\n",
      "\n",
      "C:\\Users\\nikol\\AppData\\Local\\Temp\\ipykernel_7496\\709765694.py:52: SettingWithCopyWarning:\n",
      "\n",
      "\n",
      "A value is trying to be set on a copy of a slice from a DataFrame.\n",
      "Try using .loc[row_indexer,col_indexer] = value instead\n",
      "\n",
      "See the caveats in the documentation: https://pandas.pydata.org/pandas-docs/stable/user_guide/indexing.html#returning-a-view-versus-a-copy\n",
      "\n",
      "C:\\Users\\nikol\\AppData\\Local\\Temp\\ipykernel_7496\\709765694.py:46: SettingWithCopyWarning:\n",
      "\n",
      "\n",
      "A value is trying to be set on a copy of a slice from a DataFrame.\n",
      "Try using .loc[row_indexer,col_indexer] = value instead\n",
      "\n",
      "See the caveats in the documentation: https://pandas.pydata.org/pandas-docs/stable/user_guide/indexing.html#returning-a-view-versus-a-copy\n",
      "\n",
      "C:\\Users\\nikol\\AppData\\Local\\Temp\\ipykernel_7496\\709765694.py:52: SettingWithCopyWarning:\n",
      "\n",
      "\n",
      "A value is trying to be set on a copy of a slice from a DataFrame.\n",
      "Try using .loc[row_indexer,col_indexer] = value instead\n",
      "\n",
      "See the caveats in the documentation: https://pandas.pydata.org/pandas-docs/stable/user_guide/indexing.html#returning-a-view-versus-a-copy\n",
      "\n",
      "C:\\Users\\nikol\\AppData\\Local\\Temp\\ipykernel_7496\\709765694.py:46: SettingWithCopyWarning:\n",
      "\n",
      "\n",
      "A value is trying to be set on a copy of a slice from a DataFrame.\n",
      "Try using .loc[row_indexer,col_indexer] = value instead\n",
      "\n",
      "See the caveats in the documentation: https://pandas.pydata.org/pandas-docs/stable/user_guide/indexing.html#returning-a-view-versus-a-copy\n",
      "\n",
      "C:\\Users\\nikol\\AppData\\Local\\Temp\\ipykernel_7496\\709765694.py:52: SettingWithCopyWarning:\n",
      "\n",
      "\n",
      "A value is trying to be set on a copy of a slice from a DataFrame.\n",
      "Try using .loc[row_indexer,col_indexer] = value instead\n",
      "\n",
      "See the caveats in the documentation: https://pandas.pydata.org/pandas-docs/stable/user_guide/indexing.html#returning-a-view-versus-a-copy\n",
      "\n",
      "C:\\Users\\nikol\\AppData\\Local\\Temp\\ipykernel_7496\\709765694.py:46: SettingWithCopyWarning:\n",
      "\n",
      "\n",
      "A value is trying to be set on a copy of a slice from a DataFrame.\n",
      "Try using .loc[row_indexer,col_indexer] = value instead\n",
      "\n",
      "See the caveats in the documentation: https://pandas.pydata.org/pandas-docs/stable/user_guide/indexing.html#returning-a-view-versus-a-copy\n",
      "\n",
      "C:\\Users\\nikol\\AppData\\Local\\Temp\\ipykernel_7496\\709765694.py:52: SettingWithCopyWarning:\n",
      "\n",
      "\n",
      "A value is trying to be set on a copy of a slice from a DataFrame.\n",
      "Try using .loc[row_indexer,col_indexer] = value instead\n",
      "\n",
      "See the caveats in the documentation: https://pandas.pydata.org/pandas-docs/stable/user_guide/indexing.html#returning-a-view-versus-a-copy\n",
      "\n",
      "C:\\Users\\nikol\\AppData\\Local\\Temp\\ipykernel_7496\\709765694.py:46: SettingWithCopyWarning:\n",
      "\n",
      "\n",
      "A value is trying to be set on a copy of a slice from a DataFrame.\n",
      "Try using .loc[row_indexer,col_indexer] = value instead\n",
      "\n",
      "See the caveats in the documentation: https://pandas.pydata.org/pandas-docs/stable/user_guide/indexing.html#returning-a-view-versus-a-copy\n",
      "\n",
      "C:\\Users\\nikol\\AppData\\Local\\Temp\\ipykernel_7496\\709765694.py:52: SettingWithCopyWarning:\n",
      "\n",
      "\n",
      "A value is trying to be set on a copy of a slice from a DataFrame.\n",
      "Try using .loc[row_indexer,col_indexer] = value instead\n",
      "\n",
      "See the caveats in the documentation: https://pandas.pydata.org/pandas-docs/stable/user_guide/indexing.html#returning-a-view-versus-a-copy\n",
      "\n",
      "C:\\Users\\nikol\\AppData\\Local\\Temp\\ipykernel_7496\\709765694.py:46: SettingWithCopyWarning:\n",
      "\n",
      "\n",
      "A value is trying to be set on a copy of a slice from a DataFrame.\n",
      "Try using .loc[row_indexer,col_indexer] = value instead\n",
      "\n",
      "See the caveats in the documentation: https://pandas.pydata.org/pandas-docs/stable/user_guide/indexing.html#returning-a-view-versus-a-copy\n",
      "\n",
      "C:\\Users\\nikol\\AppData\\Local\\Temp\\ipykernel_7496\\709765694.py:52: SettingWithCopyWarning:\n",
      "\n",
      "\n",
      "A value is trying to be set on a copy of a slice from a DataFrame.\n",
      "Try using .loc[row_indexer,col_indexer] = value instead\n",
      "\n",
      "See the caveats in the documentation: https://pandas.pydata.org/pandas-docs/stable/user_guide/indexing.html#returning-a-view-versus-a-copy\n",
      "\n",
      "C:\\Users\\nikol\\AppData\\Local\\Temp\\ipykernel_7496\\709765694.py:46: SettingWithCopyWarning:\n",
      "\n",
      "\n",
      "A value is trying to be set on a copy of a slice from a DataFrame.\n",
      "Try using .loc[row_indexer,col_indexer] = value instead\n",
      "\n",
      "See the caveats in the documentation: https://pandas.pydata.org/pandas-docs/stable/user_guide/indexing.html#returning-a-view-versus-a-copy\n",
      "\n",
      "C:\\Users\\nikol\\AppData\\Local\\Temp\\ipykernel_7496\\709765694.py:52: SettingWithCopyWarning:\n",
      "\n",
      "\n",
      "A value is trying to be set on a copy of a slice from a DataFrame.\n",
      "Try using .loc[row_indexer,col_indexer] = value instead\n",
      "\n",
      "See the caveats in the documentation: https://pandas.pydata.org/pandas-docs/stable/user_guide/indexing.html#returning-a-view-versus-a-copy\n",
      "\n",
      "C:\\Users\\nikol\\AppData\\Local\\Temp\\ipykernel_7496\\709765694.py:46: SettingWithCopyWarning:\n",
      "\n",
      "\n",
      "A value is trying to be set on a copy of a slice from a DataFrame.\n",
      "Try using .loc[row_indexer,col_indexer] = value instead\n",
      "\n",
      "See the caveats in the documentation: https://pandas.pydata.org/pandas-docs/stable/user_guide/indexing.html#returning-a-view-versus-a-copy\n",
      "\n",
      "C:\\Users\\nikol\\AppData\\Local\\Temp\\ipykernel_7496\\709765694.py:52: SettingWithCopyWarning:\n",
      "\n",
      "\n",
      "A value is trying to be set on a copy of a slice from a DataFrame.\n",
      "Try using .loc[row_indexer,col_indexer] = value instead\n",
      "\n",
      "See the caveats in the documentation: https://pandas.pydata.org/pandas-docs/stable/user_guide/indexing.html#returning-a-view-versus-a-copy\n",
      "\n",
      "C:\\Users\\nikol\\AppData\\Local\\Temp\\ipykernel_7496\\709765694.py:46: SettingWithCopyWarning:\n",
      "\n",
      "\n",
      "A value is trying to be set on a copy of a slice from a DataFrame.\n",
      "Try using .loc[row_indexer,col_indexer] = value instead\n",
      "\n",
      "See the caveats in the documentation: https://pandas.pydata.org/pandas-docs/stable/user_guide/indexing.html#returning-a-view-versus-a-copy\n",
      "\n",
      "C:\\Users\\nikol\\AppData\\Local\\Temp\\ipykernel_7496\\709765694.py:52: SettingWithCopyWarning:\n",
      "\n",
      "\n",
      "A value is trying to be set on a copy of a slice from a DataFrame.\n",
      "Try using .loc[row_indexer,col_indexer] = value instead\n",
      "\n",
      "See the caveats in the documentation: https://pandas.pydata.org/pandas-docs/stable/user_guide/indexing.html#returning-a-view-versus-a-copy\n",
      "\n",
      "C:\\Users\\nikol\\AppData\\Local\\Temp\\ipykernel_7496\\709765694.py:46: SettingWithCopyWarning:\n",
      "\n",
      "\n",
      "A value is trying to be set on a copy of a slice from a DataFrame.\n",
      "Try using .loc[row_indexer,col_indexer] = value instead\n",
      "\n",
      "See the caveats in the documentation: https://pandas.pydata.org/pandas-docs/stable/user_guide/indexing.html#returning-a-view-versus-a-copy\n",
      "\n",
      "C:\\Users\\nikol\\AppData\\Local\\Temp\\ipykernel_7496\\709765694.py:52: SettingWithCopyWarning:\n",
      "\n",
      "\n",
      "A value is trying to be set on a copy of a slice from a DataFrame.\n",
      "Try using .loc[row_indexer,col_indexer] = value instead\n",
      "\n",
      "See the caveats in the documentation: https://pandas.pydata.org/pandas-docs/stable/user_guide/indexing.html#returning-a-view-versus-a-copy\n",
      "\n",
      "C:\\Users\\nikol\\AppData\\Local\\Temp\\ipykernel_7496\\709765694.py:46: SettingWithCopyWarning:\n",
      "\n",
      "\n",
      "A value is trying to be set on a copy of a slice from a DataFrame.\n",
      "Try using .loc[row_indexer,col_indexer] = value instead\n",
      "\n",
      "See the caveats in the documentation: https://pandas.pydata.org/pandas-docs/stable/user_guide/indexing.html#returning-a-view-versus-a-copy\n",
      "\n",
      "C:\\Users\\nikol\\AppData\\Local\\Temp\\ipykernel_7496\\709765694.py:52: SettingWithCopyWarning:\n",
      "\n",
      "\n",
      "A value is trying to be set on a copy of a slice from a DataFrame.\n",
      "Try using .loc[row_indexer,col_indexer] = value instead\n",
      "\n",
      "See the caveats in the documentation: https://pandas.pydata.org/pandas-docs/stable/user_guide/indexing.html#returning-a-view-versus-a-copy\n",
      "\n"
     ]
    },
    {
     "data": {
      "text/plain": [
       "{('Leg day - quarta-feira',\n",
       "  'Squat (Barbell)'): '<div>                        <script type=\"text/javascript\">window.PlotlyConfig = {MathJaxConfig: \\'local\\'};</script>\\n        <script charset=\"utf-8\" src=\"https://cdn.plot.ly/plotly-3.0.1.min.js\"></script>                <div id=\"f0b696de-a793-4045-a0e4-7a02e2b4b12a\" class=\"plotly-graph-div\" style=\"height:100%; width:100%;\"></div>            <script type=\"text/javascript\">                window.PLOTLYENV=window.PLOTLYENV || {};                                if (document.getElementById(\"f0b696de-a793-4045-a0e4-7a02e2b4b12a\")) {                    Plotly.newPlot(                        \"f0b696de-a793-4045-a0e4-7a02e2b4b12a\",                        [{\"mode\":\"lines+markers+text\",\"name\":\"Top Set (Failure)\",\"text\":[\"4 reps\",\"5 reps\",\"2 reps\",\"6 reps\",\"6 reps\"],\"textposition\":\"top center\",\"visible\":true,\"x\":[\"2025-04-16\",\"2025-04-09\",\"2025-04-02\",\"2025-03-26\",\"2025-03-19\"],\"y\":{\"dtype\":\"f8\",\"bdata\":\"AAAAAAAgYkAAAAAAAIBhQAAAAAAAAGRAAAAAAABgY0AAAAAAAMBiQA==\"},\"type\":\"scatter\"},{\"mode\":\"lines+markers+text\",\"name\":\"Work Set 1\",\"text\":[\"6 reps\",\"5 reps\",\"5 reps\",\"4 reps\",\"6 reps\"],\"textposition\":\"top center\",\"visible\":false,\"x\":[\"2025-04-16\",\"2025-04-09\",\"2025-04-02\",\"2025-03-26\",\"2025-03-19\"],\"y\":{\"dtype\":\"f8\",\"bdata\":\"AAAAAACAYUAAAAAAAIBhQAAAAAAAYGNAAAAAAABgY0AAAAAAACBiQA==\"},\"type\":\"scatter\"},{\"mode\":\"lines+markers+text\",\"name\":\"Work Set 2\",\"text\":[],\"textposition\":\"top center\",\"visible\":false,\"x\":[],\"y\":[],\"type\":\"scatter\"}],                        {\"hovermode\":\"closest\",\"title\":{\"text\":\"Evolu\\\\u00e7\\\\u00e3o no Squat (Barbell) (Leg day - quarta-feira)\"},\"updatemenus\":[{\"active\":0,\"bgcolor\":\"white\",\"bordercolor\":\"gray\",\"borderwidth\":1,\"buttons\":[{\"args\":[{\"x\":[[\"2025-04-16\",\"2025-04-09\",\"2025-04-02\",\"2025-03-26\",\"2025-03-19\"],[\"2025-04-16\",\"2025-04-09\",\"2025-04-02\",\"2025-03-26\",\"2025-03-19\"],[]],\"y\":[[145.0,140.0,160.0,155.0,150.0],[140.0,140.0,155.0,155.0,145.0],[]],\"text\":[[\"4 reps\",\"5 reps\",\"2 reps\",\"6 reps\",\"6 reps\"],[\"6 reps\",\"5 reps\",\"5 reps\",\"4 reps\",\"6 reps\"],[]]},{\"updatemenus[1].buttons\":[{\"label\":\"Top Set (Failure)\",\"method\":\"update\",\"args\":[{\"visible\":[true,false,false]}]},{\"label\":\"Work Set 1\",\"method\":\"update\",\"args\":[{\"visible\":[false,true,false]}]},{\"label\":\"Todas as s\\\\u00e9ries\",\"method\":\"update\",\"args\":[{\"visible\":[true,true,false]}]}],\"title\":\"Evolu\\\\u00e7\\\\u00e3o no Squat (Barbell) (Leg day - quarta-feira) - \\\\u00daltimos 30 dias\"}],\"label\":\"\\\\u00daltimos 30 dias\",\"method\":\"update\"},{\"args\":[{\"x\":[[\"2025-04-16\",\"2025-04-09\",\"2025-04-02\",\"2025-03-26\",\"2025-03-19\",\"2025-03-12\",\"2025-03-05\",\"2025-02-26\"],[\"2025-04-16\",\"2025-04-09\",\"2025-04-02\",\"2025-03-26\",\"2025-03-19\",\"2025-03-12\",\"2025-03-05\",\"2025-02-26\"],[]],\"y\":[[145.0,140.0,160.0,155.0,150.0,155.0,150.0,140.0],[140.0,140.0,155.0,155.0,145.0,150.0,145.0,140.0],[]],\"text\":[[\"4 reps\",\"5 reps\",\"2 reps\",\"6 reps\",\"6 reps\",\"4 reps\",\"4 reps\",\"4 reps\"],[\"6 reps\",\"5 reps\",\"5 reps\",\"4 reps\",\"6 reps\",\"6 reps\",\"6 reps\",\"4 reps\"],[]]},{\"updatemenus[1].buttons\":[{\"label\":\"Top Set (Failure)\",\"method\":\"update\",\"args\":[{\"visible\":[true,false,false]}]},{\"label\":\"Work Set 1\",\"method\":\"update\",\"args\":[{\"visible\":[false,true,false]}]},{\"label\":\"Todas as s\\\\u00e9ries\",\"method\":\"update\",\"args\":[{\"visible\":[true,true,false]}]}]}],\"label\":\"\\\\u00daltimos 60 dias\",\"method\":\"update\"},{\"args\":[{\"x\":[[\"2025-04-16\",\"2025-04-09\",\"2025-04-02\",\"2025-03-26\",\"2025-03-19\",\"2025-03-12\",\"2025-03-05\",\"2025-02-26\",\"2025-02-05\",\"2025-01-29\",\"2025-01-22\"],[\"2025-04-16\",\"2025-04-09\",\"2025-04-02\",\"2025-03-26\",\"2025-03-19\",\"2025-03-12\",\"2025-03-05\",\"2025-02-26\",\"2025-02-05\",\"2025-01-29\",\"2025-01-22\"],[\"2025-02-05\",\"2025-01-29\",\"2025-01-22\"]],\"y\":[[145.0,140.0,160.0,155.0,150.0,155.0,150.0,140.0,145.0,140.0,135.0],[140.0,140.0,155.0,155.0,145.0,150.0,145.0,140.0,140.0,135.0,135.0],[140.0,135.0,135.0]],\"text\":[[\"4 reps\",\"5 reps\",\"2 reps\",\"6 reps\",\"6 reps\",\"4 reps\",\"4 reps\",\"4 reps\",\"4 reps\",\"4 reps\",\"4 reps\"],[\"6 reps\",\"5 reps\",\"5 reps\",\"4 reps\",\"6 reps\",\"6 reps\",\"6 reps\",\"4 reps\",\"6 reps\",\"6 reps\",\"5 reps\"],[\"5 reps\",\"6 reps\",\"5 reps\"]]},{\"updatemenus[1].buttons\":[{\"label\":\"Top Set (Failure)\",\"method\":\"update\",\"args\":[{\"visible\":[true,false,false]}]},{\"label\":\"Work Set 1\",\"method\":\"update\",\"args\":[{\"visible\":[false,true,false]}]},{\"label\":\"Work Set 2\",\"method\":\"update\",\"args\":[{\"visible\":[false,false,true]}]},{\"label\":\"Todas as s\\\\u00e9ries\",\"method\":\"update\",\"args\":[{\"visible\":[true,true,true]}]}]}],\"label\":\"\\\\u00daltimos 90 dias\",\"method\":\"update\"}],\"direction\":\"down\",\"pad\":{\"r\":10,\"t\":10},\"showactive\":true,\"x\":0.6,\"xanchor\":\"left\",\"y\":1.2,\"yanchor\":\"top\"},{\"active\":0,\"bgcolor\":\"white\",\"bordercolor\":\"gray\",\"borderwidth\":1,\"buttons\":[{\"args\":[{\"visible\":[true,false,false]}],\"label\":\"Top Set (Failure)\",\"method\":\"update\"},{\"args\":[{\"visible\":[false,true,false]}],\"label\":\"Work Set 1\",\"method\":\"update\"},{\"args\":[{\"visible\":[true,true,false]}],\"label\":\"Todas as s\\\\u00e9ries\",\"method\":\"update\"}],\"direction\":\"down\",\"pad\":{\"r\":10,\"t\":10},\"showactive\":true,\"x\":0.99,\"xanchor\":\"right\",\"y\":1.2,\"yanchor\":\"top\"}],\"xaxis\":{\"tickformat\":\"%d\\\\u002f%m\\\\u002f%Y\",\"title\":{\"text\":\"Data\"}},\"yaxis\":{\"title\":{\"text\":\"Peso (kg)\"}},\"template\":{\"data\":{\"histogram2dcontour\":[{\"type\":\"histogram2dcontour\",\"colorbar\":{\"outlinewidth\":0,\"ticks\":\"\"},\"colorscale\":[[0.0,\"#0d0887\"],[0.1111111111111111,\"#46039f\"],[0.2222222222222222,\"#7201a8\"],[0.3333333333333333,\"#9c179e\"],[0.4444444444444444,\"#bd3786\"],[0.5555555555555556,\"#d8576b\"],[0.6666666666666666,\"#ed7953\"],[0.7777777777777778,\"#fb9f3a\"],[0.8888888888888888,\"#fdca26\"],[1.0,\"#f0f921\"]]}],\"choropleth\":[{\"type\":\"choropleth\",\"colorbar\":{\"outlinewidth\":0,\"ticks\":\"\"}}],\"histogram2d\":[{\"type\":\"histogram2d\",\"colorbar\":{\"outlinewidth\":0,\"ticks\":\"\"},\"colorscale\":[[0.0,\"#0d0887\"],[0.1111111111111111,\"#46039f\"],[0.2222222222222222,\"#7201a8\"],[0.3333333333333333,\"#9c179e\"],[0.4444444444444444,\"#bd3786\"],[0.5555555555555556,\"#d8576b\"],[0.6666666666666666,\"#ed7953\"],[0.7777777777777778,\"#fb9f3a\"],[0.8888888888888888,\"#fdca26\"],[1.0,\"#f0f921\"]]}],\"heatmap\":[{\"type\":\"heatmap\",\"colorbar\":{\"outlinewidth\":0,\"ticks\":\"\"},\"colorscale\":[[0.0,\"#0d0887\"],[0.1111111111111111,\"#46039f\"],[0.2222222222222222,\"#7201a8\"],[0.3333333333333333,\"#9c179e\"],[0.4444444444444444,\"#bd3786\"],[0.5555555555555556,\"#d8576b\"],[0.6666666666666666,\"#ed7953\"],[0.7777777777777778,\"#fb9f3a\"],[0.8888888888888888,\"#fdca26\"],[1.0,\"#f0f921\"]]}],\"contourcarpet\":[{\"type\":\"contourcarpet\",\"colorbar\":{\"outlinewidth\":0,\"ticks\":\"\"}}],\"contour\":[{\"type\":\"contour\",\"colorbar\":{\"outlinewidth\":0,\"ticks\":\"\"},\"colorscale\":[[0.0,\"#0d0887\"],[0.1111111111111111,\"#46039f\"],[0.2222222222222222,\"#7201a8\"],[0.3333333333333333,\"#9c179e\"],[0.4444444444444444,\"#bd3786\"],[0.5555555555555556,\"#d8576b\"],[0.6666666666666666,\"#ed7953\"],[0.7777777777777778,\"#fb9f3a\"],[0.8888888888888888,\"#fdca26\"],[1.0,\"#f0f921\"]]}],\"surface\":[{\"type\":\"surface\",\"colorbar\":{\"outlinewidth\":0,\"ticks\":\"\"},\"colorscale\":[[0.0,\"#0d0887\"],[0.1111111111111111,\"#46039f\"],[0.2222222222222222,\"#7201a8\"],[0.3333333333333333,\"#9c179e\"],[0.4444444444444444,\"#bd3786\"],[0.5555555555555556,\"#d8576b\"],[0.6666666666666666,\"#ed7953\"],[0.7777777777777778,\"#fb9f3a\"],[0.8888888888888888,\"#fdca26\"],[1.0,\"#f0f921\"]]}],\"mesh3d\":[{\"type\":\"mesh3d\",\"colorbar\":{\"outlinewidth\":0,\"ticks\":\"\"}}],\"scatter\":[{\"fillpattern\":{\"fillmode\":\"overlay\",\"size\":10,\"solidity\":0.2},\"type\":\"scatter\"}],\"parcoords\":[{\"type\":\"parcoords\",\"line\":{\"colorbar\":{\"outlinewidth\":0,\"ticks\":\"\"}}}],\"scatterpolargl\":[{\"type\":\"scatterpolargl\",\"marker\":{\"colorbar\":{\"outlinewidth\":0,\"ticks\":\"\"}}}],\"bar\":[{\"error_x\":{\"color\":\"#2a3f5f\"},\"error_y\":{\"color\":\"#2a3f5f\"},\"marker\":{\"line\":{\"color\":\"#E5ECF6\",\"width\":0.5},\"pattern\":{\"fillmode\":\"overlay\",\"size\":10,\"solidity\":0.2}},\"type\":\"bar\"}],\"scattergeo\":[{\"type\":\"scattergeo\",\"marker\":{\"colorbar\":{\"outlinewidth\":0,\"ticks\":\"\"}}}],\"scatterpolar\":[{\"type\":\"scatterpolar\",\"marker\":{\"colorbar\":{\"outlinewidth\":0,\"ticks\":\"\"}}}],\"histogram\":[{\"marker\":{\"pattern\":{\"fillmode\":\"overlay\",\"size\":10,\"solidity\":0.2}},\"type\":\"histogram\"}],\"scattergl\":[{\"type\":\"scattergl\",\"marker\":{\"colorbar\":{\"outlinewidth\":0,\"ticks\":\"\"}}}],\"scatter3d\":[{\"type\":\"scatter3d\",\"line\":{\"colorbar\":{\"outlinewidth\":0,\"ticks\":\"\"}},\"marker\":{\"colorbar\":{\"outlinewidth\":0,\"ticks\":\"\"}}}],\"scattermap\":[{\"type\":\"scattermap\",\"marker\":{\"colorbar\":{\"outlinewidth\":0,\"ticks\":\"\"}}}],\"scattermapbox\":[{\"type\":\"scattermapbox\",\"marker\":{\"colorbar\":{\"outlinewidth\":0,\"ticks\":\"\"}}}],\"scatterternary\":[{\"type\":\"scatterternary\",\"marker\":{\"colorbar\":{\"outlinewidth\":0,\"ticks\":\"\"}}}],\"scattercarpet\":[{\"type\":\"scattercarpet\",\"marker\":{\"colorbar\":{\"outlinewidth\":0,\"ticks\":\"\"}}}],\"carpet\":[{\"aaxis\":{\"endlinecolor\":\"#2a3f5f\",\"gridcolor\":\"white\",\"linecolor\":\"white\",\"minorgridcolor\":\"white\",\"startlinecolor\":\"#2a3f5f\"},\"baxis\":{\"endlinecolor\":\"#2a3f5f\",\"gridcolor\":\"white\",\"linecolor\":\"white\",\"minorgridcolor\":\"white\",\"startlinecolor\":\"#2a3f5f\"},\"type\":\"carpet\"}],\"table\":[{\"cells\":{\"fill\":{\"color\":\"#EBF0F8\"},\"line\":{\"color\":\"white\"}},\"header\":{\"fill\":{\"color\":\"#C8D4E3\"},\"line\":{\"color\":\"white\"}},\"type\":\"table\"}],\"barpolar\":[{\"marker\":{\"line\":{\"color\":\"#E5ECF6\",\"width\":0.5},\"pattern\":{\"fillmode\":\"overlay\",\"size\":10,\"solidity\":0.2}},\"type\":\"barpolar\"}],\"pie\":[{\"automargin\":true,\"type\":\"pie\"}]},\"layout\":{\"autotypenumbers\":\"strict\",\"colorway\":[\"#636efa\",\"#EF553B\",\"#00cc96\",\"#ab63fa\",\"#FFA15A\",\"#19d3f3\",\"#FF6692\",\"#B6E880\",\"#FF97FF\",\"#FECB52\"],\"font\":{\"color\":\"#2a3f5f\"},\"hovermode\":\"closest\",\"hoverlabel\":{\"align\":\"left\"},\"paper_bgcolor\":\"white\",\"plot_bgcolor\":\"#E5ECF6\",\"polar\":{\"bgcolor\":\"#E5ECF6\",\"angularaxis\":{\"gridcolor\":\"white\",\"linecolor\":\"white\",\"ticks\":\"\"},\"radialaxis\":{\"gridcolor\":\"white\",\"linecolor\":\"white\",\"ticks\":\"\"}},\"ternary\":{\"bgcolor\":\"#E5ECF6\",\"aaxis\":{\"gridcolor\":\"white\",\"linecolor\":\"white\",\"ticks\":\"\"},\"baxis\":{\"gridcolor\":\"white\",\"linecolor\":\"white\",\"ticks\":\"\"},\"caxis\":{\"gridcolor\":\"white\",\"linecolor\":\"white\",\"ticks\":\"\"}},\"coloraxis\":{\"colorbar\":{\"outlinewidth\":0,\"ticks\":\"\"}},\"colorscale\":{\"sequential\":[[0.0,\"#0d0887\"],[0.1111111111111111,\"#46039f\"],[0.2222222222222222,\"#7201a8\"],[0.3333333333333333,\"#9c179e\"],[0.4444444444444444,\"#bd3786\"],[0.5555555555555556,\"#d8576b\"],[0.6666666666666666,\"#ed7953\"],[0.7777777777777778,\"#fb9f3a\"],[0.8888888888888888,\"#fdca26\"],[1.0,\"#f0f921\"]],\"sequentialminus\":[[0.0,\"#0d0887\"],[0.1111111111111111,\"#46039f\"],[0.2222222222222222,\"#7201a8\"],[0.3333333333333333,\"#9c179e\"],[0.4444444444444444,\"#bd3786\"],[0.5555555555555556,\"#d8576b\"],[0.6666666666666666,\"#ed7953\"],[0.7777777777777778,\"#fb9f3a\"],[0.8888888888888888,\"#fdca26\"],[1.0,\"#f0f921\"]],\"diverging\":[[0,\"#8e0152\"],[0.1,\"#c51b7d\"],[0.2,\"#de77ae\"],[0.3,\"#f1b6da\"],[0.4,\"#fde0ef\"],[0.5,\"#f7f7f7\"],[0.6,\"#e6f5d0\"],[0.7,\"#b8e186\"],[0.8,\"#7fbc41\"],[0.9,\"#4d9221\"],[1,\"#276419\"]]},\"xaxis\":{\"gridcolor\":\"white\",\"linecolor\":\"white\",\"ticks\":\"\",\"title\":{\"standoff\":15},\"zerolinecolor\":\"white\",\"automargin\":true,\"zerolinewidth\":2},\"yaxis\":{\"gridcolor\":\"white\",\"linecolor\":\"white\",\"ticks\":\"\",\"title\":{\"standoff\":15},\"zerolinecolor\":\"white\",\"automargin\":true,\"zerolinewidth\":2},\"scene\":{\"xaxis\":{\"backgroundcolor\":\"#E5ECF6\",\"gridcolor\":\"white\",\"linecolor\":\"white\",\"showbackground\":true,\"ticks\":\"\",\"zerolinecolor\":\"white\",\"gridwidth\":2},\"yaxis\":{\"backgroundcolor\":\"#E5ECF6\",\"gridcolor\":\"white\",\"linecolor\":\"white\",\"showbackground\":true,\"ticks\":\"\",\"zerolinecolor\":\"white\",\"gridwidth\":2},\"zaxis\":{\"backgroundcolor\":\"#E5ECF6\",\"gridcolor\":\"white\",\"linecolor\":\"white\",\"showbackground\":true,\"ticks\":\"\",\"zerolinecolor\":\"white\",\"gridwidth\":2}},\"shapedefaults\":{\"line\":{\"color\":\"#2a3f5f\"}},\"annotationdefaults\":{\"arrowcolor\":\"#2a3f5f\",\"arrowhead\":0,\"arrowwidth\":1},\"geo\":{\"bgcolor\":\"white\",\"landcolor\":\"#E5ECF6\",\"subunitcolor\":\"white\",\"showland\":true,\"showlakes\":true,\"lakecolor\":\"white\"},\"title\":{\"x\":0.05},\"mapbox\":{\"style\":\"light\"}}}},                        {\"responsive\": true}                    )                };            </script>        </div>',\n",
       " ('Leg day - quarta-feira',\n",
       "  'Leg Press (Machine)'): '<div>                        <script type=\"text/javascript\">window.PlotlyConfig = {MathJaxConfig: \\'local\\'};</script>\\n        <script charset=\"utf-8\" src=\"https://cdn.plot.ly/plotly-3.0.1.min.js\"></script>                <div id=\"a8e90c50-df60-464f-9963-d2cf0a495559\" class=\"plotly-graph-div\" style=\"height:100%; width:100%;\"></div>            <script type=\"text/javascript\">                window.PLOTLYENV=window.PLOTLYENV || {};                                if (document.getElementById(\"a8e90c50-df60-464f-9963-d2cf0a495559\")) {                    Plotly.newPlot(                        \"a8e90c50-df60-464f-9963-d2cf0a495559\",                        [{\"mode\":\"lines+markers+text\",\"name\":\"Top Set (Failure)\",\"text\":[\"7 reps\",\"6 reps\",\"3 reps\",\"4 reps\",\"7 reps\"],\"textposition\":\"top center\",\"visible\":true,\"x\":[\"2025-04-16\",\"2025-04-09\",\"2025-04-02\",\"2025-03-26\",\"2025-03-19\"],\"y\":{\"dtype\":\"f8\",\"bdata\":\"AAAAAABAZUAAAAAAAKBkQAAAAAAAoGlAAAAAAAAAaUAAAAAAAIBmQA==\"},\"type\":\"scatter\"},{\"mode\":\"lines+markers+text\",\"name\":\"Work Set 1\",\"text\":[\"8 reps\",\"7 reps\",\"6 reps\",\"6 reps\",\"7 reps\"],\"textposition\":\"top center\",\"visible\":false,\"x\":[\"2025-04-16\",\"2025-04-09\",\"2025-04-02\",\"2025-03-26\",\"2025-03-19\"],\"y\":{\"dtype\":\"f8\",\"bdata\":\"AAAAAACgZEAAAAAAAABkQAAAAAAAAGlAAAAAAAAAaUAAAAAAAABkQA==\"},\"type\":\"scatter\"},{\"mode\":\"lines+markers+text\",\"name\":\"Work Set 2\",\"text\":[],\"textposition\":\"top center\",\"visible\":false,\"x\":[],\"y\":[],\"type\":\"scatter\"}],                        {\"hovermode\":\"closest\",\"title\":{\"text\":\"Evolu\\\\u00e7\\\\u00e3o no Leg Press (Machine) (Leg day - quarta-feira)\"},\"updatemenus\":[{\"active\":0,\"bgcolor\":\"white\",\"bordercolor\":\"gray\",\"borderwidth\":1,\"buttons\":[{\"args\":[{\"x\":[[\"2025-04-16\",\"2025-04-09\",\"2025-04-02\",\"2025-03-26\",\"2025-03-19\"],[\"2025-04-16\",\"2025-04-09\",\"2025-04-02\",\"2025-03-26\",\"2025-03-19\"],[]],\"y\":[[170.0,165.0,205.0,200.0,180.0],[165.0,160.0,200.0,200.0,160.0],[]],\"text\":[[\"7 reps\",\"6 reps\",\"3 reps\",\"4 reps\",\"7 reps\"],[\"8 reps\",\"7 reps\",\"6 reps\",\"6 reps\",\"7 reps\"],[]]},{\"updatemenus[1].buttons\":[{\"label\":\"Top Set (Failure)\",\"method\":\"update\",\"args\":[{\"visible\":[true,false,false]}]},{\"label\":\"Work Set 1\",\"method\":\"update\",\"args\":[{\"visible\":[false,true,false]}]},{\"label\":\"Todas as s\\\\u00e9ries\",\"method\":\"update\",\"args\":[{\"visible\":[true,true,false]}]}],\"title\":\"Evolu\\\\u00e7\\\\u00e3o no Leg Press (Machine) (Leg day - quarta-feira) - \\\\u00daltimos 30 dias\"}],\"label\":\"\\\\u00daltimos 30 dias\",\"method\":\"update\"},{\"args\":[{\"x\":[[\"2025-04-16\",\"2025-04-09\",\"2025-04-02\",\"2025-03-26\",\"2025-03-19\",\"2025-03-12\",\"2025-03-05\",\"2025-02-26\"],[\"2025-04-16\",\"2025-04-09\",\"2025-04-02\",\"2025-03-26\",\"2025-03-19\",\"2025-03-12\",\"2025-03-05\",\"2025-02-26\"],[]],\"y\":[[170.0,165.0,205.0,200.0,180.0,120.0,150.0,135.0],[165.0,160.0,200.0,200.0,160.0,100.0,150.0,130.0],[]],\"text\":[[\"7 reps\",\"6 reps\",\"3 reps\",\"4 reps\",\"7 reps\",\"6 reps\",\"3 reps\",\"5 reps\"],[\"8 reps\",\"7 reps\",\"6 reps\",\"6 reps\",\"7 reps\",\"10 reps\",\"4 reps\",\"7 reps\"],[]]},{\"updatemenus[1].buttons\":[{\"label\":\"Top Set (Failure)\",\"method\":\"update\",\"args\":[{\"visible\":[true,false,false]}]},{\"label\":\"Work Set 1\",\"method\":\"update\",\"args\":[{\"visible\":[false,true,false]}]},{\"label\":\"Todas as s\\\\u00e9ries\",\"method\":\"update\",\"args\":[{\"visible\":[true,true,false]}]}]}],\"label\":\"\\\\u00daltimos 60 dias\",\"method\":\"update\"},{\"args\":[{\"x\":[[\"2025-04-16\",\"2025-04-09\",\"2025-04-02\",\"2025-03-26\",\"2025-03-19\",\"2025-03-12\",\"2025-03-05\",\"2025-02-26\",\"2025-02-05\",\"2025-01-29\",\"2025-01-22\"],[\"2025-04-16\",\"2025-04-09\",\"2025-04-02\",\"2025-03-26\",\"2025-03-19\",\"2025-03-12\",\"2025-03-05\",\"2025-02-26\",\"2025-02-05\",\"2025-01-29\",\"2025-01-22\"],[\"2025-02-05\",\"2025-01-29\",\"2025-01-22\"]],\"y\":[[170.0,165.0,205.0,200.0,180.0,120.0,150.0,135.0,145.0,145.0,145.0],[165.0,160.0,200.0,200.0,160.0,100.0,150.0,130.0,145.0,140.0,140.0],[145.0,140.0,140.0]],\"text\":[[\"7 reps\",\"6 reps\",\"3 reps\",\"4 reps\",\"7 reps\",\"6 reps\",\"3 reps\",\"5 reps\",\"3 reps\",\"6 reps\",\"5 reps\"],[\"8 reps\",\"7 reps\",\"6 reps\",\"6 reps\",\"7 reps\",\"10 reps\",\"4 reps\",\"7 reps\",\"5 reps\",\"5 reps\",\"6 reps\"],[\"5 reps\",\"6 reps\",\"6 reps\"]]},{\"updatemenus[1].buttons\":[{\"label\":\"Top Set (Failure)\",\"method\":\"update\",\"args\":[{\"visible\":[true,false,false]}]},{\"label\":\"Work Set 1\",\"method\":\"update\",\"args\":[{\"visible\":[false,true,false]}]},{\"label\":\"Work Set 2\",\"method\":\"update\",\"args\":[{\"visible\":[false,false,true]}]},{\"label\":\"Todas as s\\\\u00e9ries\",\"method\":\"update\",\"args\":[{\"visible\":[true,true,true]}]}]}],\"label\":\"\\\\u00daltimos 90 dias\",\"method\":\"update\"}],\"direction\":\"down\",\"pad\":{\"r\":10,\"t\":10},\"showactive\":true,\"x\":0.6,\"xanchor\":\"left\",\"y\":1.2,\"yanchor\":\"top\"},{\"active\":0,\"bgcolor\":\"white\",\"bordercolor\":\"gray\",\"borderwidth\":1,\"buttons\":[{\"args\":[{\"visible\":[true,false,false]}],\"label\":\"Top Set (Failure)\",\"method\":\"update\"},{\"args\":[{\"visible\":[false,true,false]}],\"label\":\"Work Set 1\",\"method\":\"update\"},{\"args\":[{\"visible\":[true,true,false]}],\"label\":\"Todas as s\\\\u00e9ries\",\"method\":\"update\"}],\"direction\":\"down\",\"pad\":{\"r\":10,\"t\":10},\"showactive\":true,\"x\":0.99,\"xanchor\":\"right\",\"y\":1.2,\"yanchor\":\"top\"}],\"xaxis\":{\"tickformat\":\"%d\\\\u002f%m\\\\u002f%Y\",\"title\":{\"text\":\"Data\"}},\"yaxis\":{\"title\":{\"text\":\"Peso (kg)\"}},\"template\":{\"data\":{\"histogram2dcontour\":[{\"type\":\"histogram2dcontour\",\"colorbar\":{\"outlinewidth\":0,\"ticks\":\"\"},\"colorscale\":[[0.0,\"#0d0887\"],[0.1111111111111111,\"#46039f\"],[0.2222222222222222,\"#7201a8\"],[0.3333333333333333,\"#9c179e\"],[0.4444444444444444,\"#bd3786\"],[0.5555555555555556,\"#d8576b\"],[0.6666666666666666,\"#ed7953\"],[0.7777777777777778,\"#fb9f3a\"],[0.8888888888888888,\"#fdca26\"],[1.0,\"#f0f921\"]]}],\"choropleth\":[{\"type\":\"choropleth\",\"colorbar\":{\"outlinewidth\":0,\"ticks\":\"\"}}],\"histogram2d\":[{\"type\":\"histogram2d\",\"colorbar\":{\"outlinewidth\":0,\"ticks\":\"\"},\"colorscale\":[[0.0,\"#0d0887\"],[0.1111111111111111,\"#46039f\"],[0.2222222222222222,\"#7201a8\"],[0.3333333333333333,\"#9c179e\"],[0.4444444444444444,\"#bd3786\"],[0.5555555555555556,\"#d8576b\"],[0.6666666666666666,\"#ed7953\"],[0.7777777777777778,\"#fb9f3a\"],[0.8888888888888888,\"#fdca26\"],[1.0,\"#f0f921\"]]}],\"heatmap\":[{\"type\":\"heatmap\",\"colorbar\":{\"outlinewidth\":0,\"ticks\":\"\"},\"colorscale\":[[0.0,\"#0d0887\"],[0.1111111111111111,\"#46039f\"],[0.2222222222222222,\"#7201a8\"],[0.3333333333333333,\"#9c179e\"],[0.4444444444444444,\"#bd3786\"],[0.5555555555555556,\"#d8576b\"],[0.6666666666666666,\"#ed7953\"],[0.7777777777777778,\"#fb9f3a\"],[0.8888888888888888,\"#fdca26\"],[1.0,\"#f0f921\"]]}],\"contourcarpet\":[{\"type\":\"contourcarpet\",\"colorbar\":{\"outlinewidth\":0,\"ticks\":\"\"}}],\"contour\":[{\"type\":\"contour\",\"colorbar\":{\"outlinewidth\":0,\"ticks\":\"\"},\"colorscale\":[[0.0,\"#0d0887\"],[0.1111111111111111,\"#46039f\"],[0.2222222222222222,\"#7201a8\"],[0.3333333333333333,\"#9c179e\"],[0.4444444444444444,\"#bd3786\"],[0.5555555555555556,\"#d8576b\"],[0.6666666666666666,\"#ed7953\"],[0.7777777777777778,\"#fb9f3a\"],[0.8888888888888888,\"#fdca26\"],[1.0,\"#f0f921\"]]}],\"surface\":[{\"type\":\"surface\",\"colorbar\":{\"outlinewidth\":0,\"ticks\":\"\"},\"colorscale\":[[0.0,\"#0d0887\"],[0.1111111111111111,\"#46039f\"],[0.2222222222222222,\"#7201a8\"],[0.3333333333333333,\"#9c179e\"],[0.4444444444444444,\"#bd3786\"],[0.5555555555555556,\"#d8576b\"],[0.6666666666666666,\"#ed7953\"],[0.7777777777777778,\"#fb9f3a\"],[0.8888888888888888,\"#fdca26\"],[1.0,\"#f0f921\"]]}],\"mesh3d\":[{\"type\":\"mesh3d\",\"colorbar\":{\"outlinewidth\":0,\"ticks\":\"\"}}],\"scatter\":[{\"fillpattern\":{\"fillmode\":\"overlay\",\"size\":10,\"solidity\":0.2},\"type\":\"scatter\"}],\"parcoords\":[{\"type\":\"parcoords\",\"line\":{\"colorbar\":{\"outlinewidth\":0,\"ticks\":\"\"}}}],\"scatterpolargl\":[{\"type\":\"scatterpolargl\",\"marker\":{\"colorbar\":{\"outlinewidth\":0,\"ticks\":\"\"}}}],\"bar\":[{\"error_x\":{\"color\":\"#2a3f5f\"},\"error_y\":{\"color\":\"#2a3f5f\"},\"marker\":{\"line\":{\"color\":\"#E5ECF6\",\"width\":0.5},\"pattern\":{\"fillmode\":\"overlay\",\"size\":10,\"solidity\":0.2}},\"type\":\"bar\"}],\"scattergeo\":[{\"type\":\"scattergeo\",\"marker\":{\"colorbar\":{\"outlinewidth\":0,\"ticks\":\"\"}}}],\"scatterpolar\":[{\"type\":\"scatterpolar\",\"marker\":{\"colorbar\":{\"outlinewidth\":0,\"ticks\":\"\"}}}],\"histogram\":[{\"marker\":{\"pattern\":{\"fillmode\":\"overlay\",\"size\":10,\"solidity\":0.2}},\"type\":\"histogram\"}],\"scattergl\":[{\"type\":\"scattergl\",\"marker\":{\"colorbar\":{\"outlinewidth\":0,\"ticks\":\"\"}}}],\"scatter3d\":[{\"type\":\"scatter3d\",\"line\":{\"colorbar\":{\"outlinewidth\":0,\"ticks\":\"\"}},\"marker\":{\"colorbar\":{\"outlinewidth\":0,\"ticks\":\"\"}}}],\"scattermap\":[{\"type\":\"scattermap\",\"marker\":{\"colorbar\":{\"outlinewidth\":0,\"ticks\":\"\"}}}],\"scattermapbox\":[{\"type\":\"scattermapbox\",\"marker\":{\"colorbar\":{\"outlinewidth\":0,\"ticks\":\"\"}}}],\"scatterternary\":[{\"type\":\"scatterternary\",\"marker\":{\"colorbar\":{\"outlinewidth\":0,\"ticks\":\"\"}}}],\"scattercarpet\":[{\"type\":\"scattercarpet\",\"marker\":{\"colorbar\":{\"outlinewidth\":0,\"ticks\":\"\"}}}],\"carpet\":[{\"aaxis\":{\"endlinecolor\":\"#2a3f5f\",\"gridcolor\":\"white\",\"linecolor\":\"white\",\"minorgridcolor\":\"white\",\"startlinecolor\":\"#2a3f5f\"},\"baxis\":{\"endlinecolor\":\"#2a3f5f\",\"gridcolor\":\"white\",\"linecolor\":\"white\",\"minorgridcolor\":\"white\",\"startlinecolor\":\"#2a3f5f\"},\"type\":\"carpet\"}],\"table\":[{\"cells\":{\"fill\":{\"color\":\"#EBF0F8\"},\"line\":{\"color\":\"white\"}},\"header\":{\"fill\":{\"color\":\"#C8D4E3\"},\"line\":{\"color\":\"white\"}},\"type\":\"table\"}],\"barpolar\":[{\"marker\":{\"line\":{\"color\":\"#E5ECF6\",\"width\":0.5},\"pattern\":{\"fillmode\":\"overlay\",\"size\":10,\"solidity\":0.2}},\"type\":\"barpolar\"}],\"pie\":[{\"automargin\":true,\"type\":\"pie\"}]},\"layout\":{\"autotypenumbers\":\"strict\",\"colorway\":[\"#636efa\",\"#EF553B\",\"#00cc96\",\"#ab63fa\",\"#FFA15A\",\"#19d3f3\",\"#FF6692\",\"#B6E880\",\"#FF97FF\",\"#FECB52\"],\"font\":{\"color\":\"#2a3f5f\"},\"hovermode\":\"closest\",\"hoverlabel\":{\"align\":\"left\"},\"paper_bgcolor\":\"white\",\"plot_bgcolor\":\"#E5ECF6\",\"polar\":{\"bgcolor\":\"#E5ECF6\",\"angularaxis\":{\"gridcolor\":\"white\",\"linecolor\":\"white\",\"ticks\":\"\"},\"radialaxis\":{\"gridcolor\":\"white\",\"linecolor\":\"white\",\"ticks\":\"\"}},\"ternary\":{\"bgcolor\":\"#E5ECF6\",\"aaxis\":{\"gridcolor\":\"white\",\"linecolor\":\"white\",\"ticks\":\"\"},\"baxis\":{\"gridcolor\":\"white\",\"linecolor\":\"white\",\"ticks\":\"\"},\"caxis\":{\"gridcolor\":\"white\",\"linecolor\":\"white\",\"ticks\":\"\"}},\"coloraxis\":{\"colorbar\":{\"outlinewidth\":0,\"ticks\":\"\"}},\"colorscale\":{\"sequential\":[[0.0,\"#0d0887\"],[0.1111111111111111,\"#46039f\"],[0.2222222222222222,\"#7201a8\"],[0.3333333333333333,\"#9c179e\"],[0.4444444444444444,\"#bd3786\"],[0.5555555555555556,\"#d8576b\"],[0.6666666666666666,\"#ed7953\"],[0.7777777777777778,\"#fb9f3a\"],[0.8888888888888888,\"#fdca26\"],[1.0,\"#f0f921\"]],\"sequentialminus\":[[0.0,\"#0d0887\"],[0.1111111111111111,\"#46039f\"],[0.2222222222222222,\"#7201a8\"],[0.3333333333333333,\"#9c179e\"],[0.4444444444444444,\"#bd3786\"],[0.5555555555555556,\"#d8576b\"],[0.6666666666666666,\"#ed7953\"],[0.7777777777777778,\"#fb9f3a\"],[0.8888888888888888,\"#fdca26\"],[1.0,\"#f0f921\"]],\"diverging\":[[0,\"#8e0152\"],[0.1,\"#c51b7d\"],[0.2,\"#de77ae\"],[0.3,\"#f1b6da\"],[0.4,\"#fde0ef\"],[0.5,\"#f7f7f7\"],[0.6,\"#e6f5d0\"],[0.7,\"#b8e186\"],[0.8,\"#7fbc41\"],[0.9,\"#4d9221\"],[1,\"#276419\"]]},\"xaxis\":{\"gridcolor\":\"white\",\"linecolor\":\"white\",\"ticks\":\"\",\"title\":{\"standoff\":15},\"zerolinecolor\":\"white\",\"automargin\":true,\"zerolinewidth\":2},\"yaxis\":{\"gridcolor\":\"white\",\"linecolor\":\"white\",\"ticks\":\"\",\"title\":{\"standoff\":15},\"zerolinecolor\":\"white\",\"automargin\":true,\"zerolinewidth\":2},\"scene\":{\"xaxis\":{\"backgroundcolor\":\"#E5ECF6\",\"gridcolor\":\"white\",\"linecolor\":\"white\",\"showbackground\":true,\"ticks\":\"\",\"zerolinecolor\":\"white\",\"gridwidth\":2},\"yaxis\":{\"backgroundcolor\":\"#E5ECF6\",\"gridcolor\":\"white\",\"linecolor\":\"white\",\"showbackground\":true,\"ticks\":\"\",\"zerolinecolor\":\"white\",\"gridwidth\":2},\"zaxis\":{\"backgroundcolor\":\"#E5ECF6\",\"gridcolor\":\"white\",\"linecolor\":\"white\",\"showbackground\":true,\"ticks\":\"\",\"zerolinecolor\":\"white\",\"gridwidth\":2}},\"shapedefaults\":{\"line\":{\"color\":\"#2a3f5f\"}},\"annotationdefaults\":{\"arrowcolor\":\"#2a3f5f\",\"arrowhead\":0,\"arrowwidth\":1},\"geo\":{\"bgcolor\":\"white\",\"landcolor\":\"#E5ECF6\",\"subunitcolor\":\"white\",\"showland\":true,\"showlakes\":true,\"lakecolor\":\"white\"},\"title\":{\"x\":0.05},\"mapbox\":{\"style\":\"light\"}}}},                        {\"responsive\": true}                    )                };            </script>        </div>',\n",
       " ('Leg day - quarta-feira',\n",
       "  'Lying Leg Curl (Machine)'): '<div>                        <script type=\"text/javascript\">window.PlotlyConfig = {MathJaxConfig: \\'local\\'};</script>\\n        <script charset=\"utf-8\" src=\"https://cdn.plot.ly/plotly-3.0.1.min.js\"></script>                <div id=\"b039acc0-35ab-408f-9c8c-c806f30c5ac0\" class=\"plotly-graph-div\" style=\"height:100%; width:100%;\"></div>            <script type=\"text/javascript\">                window.PLOTLYENV=window.PLOTLYENV || {};                                if (document.getElementById(\"b039acc0-35ab-408f-9c8c-c806f30c5ac0\")) {                    Plotly.newPlot(                        \"b039acc0-35ab-408f-9c8c-c806f30c5ac0\",                        [{\"mode\":\"lines+markers+text\",\"name\":\"Top Set (Failure)\",\"text\":[\"5 reps\",\"8 reps\",\"6 reps\",\"5 reps\",\"6 reps\"],\"textposition\":\"top center\",\"visible\":true,\"x\":[\"2025-04-16\",\"2025-04-09\",\"2025-04-02\",\"2025-03-26\",\"2025-03-19\"],\"y\":{\"dtype\":\"f8\",\"bdata\":\"AAAAAADAR0AAAAAAAABEQAAAAAAAgEtAAAAAAACAS0AAAAAAAEBKQA==\"},\"type\":\"scatter\"},{\"mode\":\"lines+markers+text\",\"name\":\"Work Set 1\",\"text\":[\"9 reps\",\"8 reps\",\"8 reps\",\"8 reps\",\"9 reps\"],\"textposition\":\"top center\",\"visible\":false,\"x\":[\"2025-04-16\",\"2025-04-09\",\"2025-04-02\",\"2025-03-26\",\"2025-03-19\"],\"y\":{\"dtype\":\"f8\",\"bdata\":\"AAAAAACARkAAAAAAAEBKQAAAAAAAQEpAAAAAAABASkAAAAAAAABJQA==\"},\"type\":\"scatter\"},{\"mode\":\"lines+markers+text\",\"name\":\"Work Set 2\",\"text\":[\"8 reps\",\"6 reps\",\"8 reps\",\"7 reps\",\"8 reps\"],\"textposition\":\"top center\",\"visible\":false,\"x\":[\"2025-04-16\",\"2025-04-09\",\"2025-04-02\",\"2025-03-26\",\"2025-03-19\"],\"y\":{\"dtype\":\"f8\",\"bdata\":\"AAAAAACARkAAAAAAAEBKQAAAAAAAQEpAAAAAAABASkAAAAAAAABJQA==\"},\"type\":\"scatter\"},{\"mode\":\"lines+markers+text\",\"name\":\"Work Set 3\",\"text\":[],\"textposition\":\"top center\",\"visible\":false,\"x\":[],\"y\":[],\"type\":\"scatter\"}],                        {\"hovermode\":\"closest\",\"title\":{\"text\":\"Evolu\\\\u00e7\\\\u00e3o no Lying Leg Curl (Machine) (Leg day - quarta-feira)\"},\"updatemenus\":[{\"active\":0,\"bgcolor\":\"white\",\"bordercolor\":\"gray\",\"borderwidth\":1,\"buttons\":[{\"args\":[{\"x\":[[\"2025-04-16\",\"2025-04-09\",\"2025-04-02\",\"2025-03-26\",\"2025-03-19\"],[\"2025-04-16\",\"2025-04-09\",\"2025-04-02\",\"2025-03-26\",\"2025-03-19\"],[\"2025-04-16\",\"2025-04-09\",\"2025-04-02\",\"2025-03-26\",\"2025-03-19\"],[]],\"y\":[[47.5,40.0,55.0,55.0,52.5],[45.0,52.5,52.5,52.5,50.0],[45.0,52.5,52.5,52.5,50.0],[]],\"text\":[[\"5 reps\",\"8 reps\",\"6 reps\",\"5 reps\",\"6 reps\"],[\"9 reps\",\"8 reps\",\"8 reps\",\"8 reps\",\"9 reps\"],[\"8 reps\",\"6 reps\",\"8 reps\",\"7 reps\",\"8 reps\"],[]]},{\"updatemenus[1].buttons\":[{\"label\":\"Top Set (Failure)\",\"method\":\"update\",\"args\":[{\"visible\":[true,false,false,false]}]},{\"label\":\"Work Set 1\",\"method\":\"update\",\"args\":[{\"visible\":[false,true,false,false]}]},{\"label\":\"Work Set 2\",\"method\":\"update\",\"args\":[{\"visible\":[false,false,true,false]}]},{\"label\":\"Todas as s\\\\u00e9ries\",\"method\":\"update\",\"args\":[{\"visible\":[true,true,true,false]}]}],\"title\":\"Evolu\\\\u00e7\\\\u00e3o no Lying Leg Curl (Machine) (Leg day - quarta-feira) - \\\\u00daltimos 30 dias\"}],\"label\":\"\\\\u00daltimos 30 dias\",\"method\":\"update\"},{\"args\":[{\"x\":[[\"2025-04-16\",\"2025-04-09\",\"2025-04-02\",\"2025-03-26\",\"2025-03-19\",\"2025-03-12\",\"2025-03-05\",\"2025-02-26\"],[\"2025-04-16\",\"2025-04-09\",\"2025-04-02\",\"2025-03-26\",\"2025-03-19\",\"2025-03-12\",\"2025-03-05\",\"2025-02-26\"],[\"2025-04-16\",\"2025-04-09\",\"2025-04-02\",\"2025-03-26\",\"2025-03-19\",\"2025-03-12\",\"2025-03-05\",\"2025-02-26\"],[]],\"y\":[[47.5,40.0,55.0,55.0,52.5,52.5,50.0,47.5],[45.0,52.5,52.5,52.5,50.0,50.0,47.5,45.0],[45.0,52.5,52.5,52.5,50.0,50.0,47.5,45.0],[]],\"text\":[[\"5 reps\",\"8 reps\",\"6 reps\",\"5 reps\",\"6 reps\",\"6 reps\",\"6 reps\",\"7 reps\"],[\"9 reps\",\"8 reps\",\"8 reps\",\"8 reps\",\"9 reps\",\"8 reps\",\"8 reps\",\"8 reps\"],[\"8 reps\",\"6 reps\",\"8 reps\",\"7 reps\",\"8 reps\",\"8 reps\",\"8 reps\",\"8 reps\"],[]]},{\"updatemenus[1].buttons\":[{\"label\":\"Top Set (Failure)\",\"method\":\"update\",\"args\":[{\"visible\":[true,false,false,false]}]},{\"label\":\"Work Set 1\",\"method\":\"update\",\"args\":[{\"visible\":[false,true,false,false]}]},{\"label\":\"Work Set 2\",\"method\":\"update\",\"args\":[{\"visible\":[false,false,true,false]}]},{\"label\":\"Todas as s\\\\u00e9ries\",\"method\":\"update\",\"args\":[{\"visible\":[true,true,true,false]}]}]}],\"label\":\"\\\\u00daltimos 60 dias\",\"method\":\"update\"},{\"args\":[{\"x\":[[\"2025-04-16\",\"2025-04-09\",\"2025-04-02\",\"2025-03-26\",\"2025-03-19\",\"2025-03-12\",\"2025-03-05\",\"2025-02-26\",\"2025-02-05\",\"2025-01-29\",\"2025-01-22\"],[\"2025-04-16\",\"2025-04-09\",\"2025-04-02\",\"2025-03-26\",\"2025-03-19\",\"2025-03-12\",\"2025-03-05\",\"2025-02-26\",\"2025-02-05\",\"2025-01-29\",\"2025-01-22\"],[\"2025-04-16\",\"2025-04-09\",\"2025-04-02\",\"2025-03-26\",\"2025-03-19\",\"2025-03-12\",\"2025-03-05\",\"2025-02-26\",\"2025-02-05\",\"2025-01-29\",\"2025-01-22\"],[\"2025-02-05\",\"2025-01-29\",\"2025-01-22\"]],\"y\":[[47.5,40.0,55.0,55.0,52.5,52.5,50.0,47.5,47.5,45.0,45.0],[45.0,52.5,52.5,52.5,50.0,50.0,47.5,45.0,45.0,45.0,42.5],[45.0,52.5,52.5,52.5,50.0,50.0,47.5,45.0,45.0,45.0,42.5],[45.0,45.0,42.5]],\"text\":[[\"5 reps\",\"8 reps\",\"6 reps\",\"5 reps\",\"6 reps\",\"6 reps\",\"6 reps\",\"7 reps\",\"6 reps\",\"7 reps\",\"7 reps\"],[\"9 reps\",\"8 reps\",\"8 reps\",\"8 reps\",\"9 reps\",\"8 reps\",\"8 reps\",\"8 reps\",\"9 reps\",\"7 reps\",\"9 reps\"],[\"8 reps\",\"6 reps\",\"8 reps\",\"7 reps\",\"8 reps\",\"8 reps\",\"8 reps\",\"8 reps\",\"9 reps\",\"7 reps\",\"8 reps\"],[\"8 reps\",\"7 reps\",\"8 reps\"]]},{\"updatemenus[1].buttons\":[{\"label\":\"Top Set (Failure)\",\"method\":\"update\",\"args\":[{\"visible\":[true,false,false,false]}]},{\"label\":\"Work Set 1\",\"method\":\"update\",\"args\":[{\"visible\":[false,true,false,false]}]},{\"label\":\"Work Set 2\",\"method\":\"update\",\"args\":[{\"visible\":[false,false,true,false]}]},{\"label\":\"Work Set 3\",\"method\":\"update\",\"args\":[{\"visible\":[false,false,false,true]}]},{\"label\":\"Todas as s\\\\u00e9ries\",\"method\":\"update\",\"args\":[{\"visible\":[true,true,true,true]}]}]}],\"label\":\"\\\\u00daltimos 90 dias\",\"method\":\"update\"}],\"direction\":\"down\",\"pad\":{\"r\":10,\"t\":10},\"showactive\":true,\"x\":0.6,\"xanchor\":\"left\",\"y\":1.2,\"yanchor\":\"top\"},{\"active\":0,\"bgcolor\":\"white\",\"bordercolor\":\"gray\",\"borderwidth\":1,\"buttons\":[{\"args\":[{\"visible\":[true,false,false,false]}],\"label\":\"Top Set (Failure)\",\"method\":\"update\"},{\"args\":[{\"visible\":[false,true,false,false]}],\"label\":\"Work Set 1\",\"method\":\"update\"},{\"args\":[{\"visible\":[false,false,true,false]}],\"label\":\"Work Set 2\",\"method\":\"update\"},{\"args\":[{\"visible\":[true,true,true,false]}],\"label\":\"Todas as s\\\\u00e9ries\",\"method\":\"update\"}],\"direction\":\"down\",\"pad\":{\"r\":10,\"t\":10},\"showactive\":true,\"x\":0.99,\"xanchor\":\"right\",\"y\":1.2,\"yanchor\":\"top\"}],\"xaxis\":{\"tickformat\":\"%d\\\\u002f%m\\\\u002f%Y\",\"title\":{\"text\":\"Data\"}},\"yaxis\":{\"title\":{\"text\":\"Peso (kg)\"}},\"template\":{\"data\":{\"histogram2dcontour\":[{\"type\":\"histogram2dcontour\",\"colorbar\":{\"outlinewidth\":0,\"ticks\":\"\"},\"colorscale\":[[0.0,\"#0d0887\"],[0.1111111111111111,\"#46039f\"],[0.2222222222222222,\"#7201a8\"],[0.3333333333333333,\"#9c179e\"],[0.4444444444444444,\"#bd3786\"],[0.5555555555555556,\"#d8576b\"],[0.6666666666666666,\"#ed7953\"],[0.7777777777777778,\"#fb9f3a\"],[0.8888888888888888,\"#fdca26\"],[1.0,\"#f0f921\"]]}],\"choropleth\":[{\"type\":\"choropleth\",\"colorbar\":{\"outlinewidth\":0,\"ticks\":\"\"}}],\"histogram2d\":[{\"type\":\"histogram2d\",\"colorbar\":{\"outlinewidth\":0,\"ticks\":\"\"},\"colorscale\":[[0.0,\"#0d0887\"],[0.1111111111111111,\"#46039f\"],[0.2222222222222222,\"#7201a8\"],[0.3333333333333333,\"#9c179e\"],[0.4444444444444444,\"#bd3786\"],[0.5555555555555556,\"#d8576b\"],[0.6666666666666666,\"#ed7953\"],[0.7777777777777778,\"#fb9f3a\"],[0.8888888888888888,\"#fdca26\"],[1.0,\"#f0f921\"]]}],\"heatmap\":[{\"type\":\"heatmap\",\"colorbar\":{\"outlinewidth\":0,\"ticks\":\"\"},\"colorscale\":[[0.0,\"#0d0887\"],[0.1111111111111111,\"#46039f\"],[0.2222222222222222,\"#7201a8\"],[0.3333333333333333,\"#9c179e\"],[0.4444444444444444,\"#bd3786\"],[0.5555555555555556,\"#d8576b\"],[0.6666666666666666,\"#ed7953\"],[0.7777777777777778,\"#fb9f3a\"],[0.8888888888888888,\"#fdca26\"],[1.0,\"#f0f921\"]]}],\"contourcarpet\":[{\"type\":\"contourcarpet\",\"colorbar\":{\"outlinewidth\":0,\"ticks\":\"\"}}],\"contour\":[{\"type\":\"contour\",\"colorbar\":{\"outlinewidth\":0,\"ticks\":\"\"},\"colorscale\":[[0.0,\"#0d0887\"],[0.1111111111111111,\"#46039f\"],[0.2222222222222222,\"#7201a8\"],[0.3333333333333333,\"#9c179e\"],[0.4444444444444444,\"#bd3786\"],[0.5555555555555556,\"#d8576b\"],[0.6666666666666666,\"#ed7953\"],[0.7777777777777778,\"#fb9f3a\"],[0.8888888888888888,\"#fdca26\"],[1.0,\"#f0f921\"]]}],\"surface\":[{\"type\":\"surface\",\"colorbar\":{\"outlinewidth\":0,\"ticks\":\"\"},\"colorscale\":[[0.0,\"#0d0887\"],[0.1111111111111111,\"#46039f\"],[0.2222222222222222,\"#7201a8\"],[0.3333333333333333,\"#9c179e\"],[0.4444444444444444,\"#bd3786\"],[0.5555555555555556,\"#d8576b\"],[0.6666666666666666,\"#ed7953\"],[0.7777777777777778,\"#fb9f3a\"],[0.8888888888888888,\"#fdca26\"],[1.0,\"#f0f921\"]]}],\"mesh3d\":[{\"type\":\"mesh3d\",\"colorbar\":{\"outlinewidth\":0,\"ticks\":\"\"}}],\"scatter\":[{\"fillpattern\":{\"fillmode\":\"overlay\",\"size\":10,\"solidity\":0.2},\"type\":\"scatter\"}],\"parcoords\":[{\"type\":\"parcoords\",\"line\":{\"colorbar\":{\"outlinewidth\":0,\"ticks\":\"\"}}}],\"scatterpolargl\":[{\"type\":\"scatterpolargl\",\"marker\":{\"colorbar\":{\"outlinewidth\":0,\"ticks\":\"\"}}}],\"bar\":[{\"error_x\":{\"color\":\"#2a3f5f\"},\"error_y\":{\"color\":\"#2a3f5f\"},\"marker\":{\"line\":{\"color\":\"#E5ECF6\",\"width\":0.5},\"pattern\":{\"fillmode\":\"overlay\",\"size\":10,\"solidity\":0.2}},\"type\":\"bar\"}],\"scattergeo\":[{\"type\":\"scattergeo\",\"marker\":{\"colorbar\":{\"outlinewidth\":0,\"ticks\":\"\"}}}],\"scatterpolar\":[{\"type\":\"scatterpolar\",\"marker\":{\"colorbar\":{\"outlinewidth\":0,\"ticks\":\"\"}}}],\"histogram\":[{\"marker\":{\"pattern\":{\"fillmode\":\"overlay\",\"size\":10,\"solidity\":0.2}},\"type\":\"histogram\"}],\"scattergl\":[{\"type\":\"scattergl\",\"marker\":{\"colorbar\":{\"outlinewidth\":0,\"ticks\":\"\"}}}],\"scatter3d\":[{\"type\":\"scatter3d\",\"line\":{\"colorbar\":{\"outlinewidth\":0,\"ticks\":\"\"}},\"marker\":{\"colorbar\":{\"outlinewidth\":0,\"ticks\":\"\"}}}],\"scattermap\":[{\"type\":\"scattermap\",\"marker\":{\"colorbar\":{\"outlinewidth\":0,\"ticks\":\"\"}}}],\"scattermapbox\":[{\"type\":\"scattermapbox\",\"marker\":{\"colorbar\":{\"outlinewidth\":0,\"ticks\":\"\"}}}],\"scatterternary\":[{\"type\":\"scatterternary\",\"marker\":{\"colorbar\":{\"outlinewidth\":0,\"ticks\":\"\"}}}],\"scattercarpet\":[{\"type\":\"scattercarpet\",\"marker\":{\"colorbar\":{\"outlinewidth\":0,\"ticks\":\"\"}}}],\"carpet\":[{\"aaxis\":{\"endlinecolor\":\"#2a3f5f\",\"gridcolor\":\"white\",\"linecolor\":\"white\",\"minorgridcolor\":\"white\",\"startlinecolor\":\"#2a3f5f\"},\"baxis\":{\"endlinecolor\":\"#2a3f5f\",\"gridcolor\":\"white\",\"linecolor\":\"white\",\"minorgridcolor\":\"white\",\"startlinecolor\":\"#2a3f5f\"},\"type\":\"carpet\"}],\"table\":[{\"cells\":{\"fill\":{\"color\":\"#EBF0F8\"},\"line\":{\"color\":\"white\"}},\"header\":{\"fill\":{\"color\":\"#C8D4E3\"},\"line\":{\"color\":\"white\"}},\"type\":\"table\"}],\"barpolar\":[{\"marker\":{\"line\":{\"color\":\"#E5ECF6\",\"width\":0.5},\"pattern\":{\"fillmode\":\"overlay\",\"size\":10,\"solidity\":0.2}},\"type\":\"barpolar\"}],\"pie\":[{\"automargin\":true,\"type\":\"pie\"}]},\"layout\":{\"autotypenumbers\":\"strict\",\"colorway\":[\"#636efa\",\"#EF553B\",\"#00cc96\",\"#ab63fa\",\"#FFA15A\",\"#19d3f3\",\"#FF6692\",\"#B6E880\",\"#FF97FF\",\"#FECB52\"],\"font\":{\"color\":\"#2a3f5f\"},\"hovermode\":\"closest\",\"hoverlabel\":{\"align\":\"left\"},\"paper_bgcolor\":\"white\",\"plot_bgcolor\":\"#E5ECF6\",\"polar\":{\"bgcolor\":\"#E5ECF6\",\"angularaxis\":{\"gridcolor\":\"white\",\"linecolor\":\"white\",\"ticks\":\"\"},\"radialaxis\":{\"gridcolor\":\"white\",\"linecolor\":\"white\",\"ticks\":\"\"}},\"ternary\":{\"bgcolor\":\"#E5ECF6\",\"aaxis\":{\"gridcolor\":\"white\",\"linecolor\":\"white\",\"ticks\":\"\"},\"baxis\":{\"gridcolor\":\"white\",\"linecolor\":\"white\",\"ticks\":\"\"},\"caxis\":{\"gridcolor\":\"white\",\"linecolor\":\"white\",\"ticks\":\"\"}},\"coloraxis\":{\"colorbar\":{\"outlinewidth\":0,\"ticks\":\"\"}},\"colorscale\":{\"sequential\":[[0.0,\"#0d0887\"],[0.1111111111111111,\"#46039f\"],[0.2222222222222222,\"#7201a8\"],[0.3333333333333333,\"#9c179e\"],[0.4444444444444444,\"#bd3786\"],[0.5555555555555556,\"#d8576b\"],[0.6666666666666666,\"#ed7953\"],[0.7777777777777778,\"#fb9f3a\"],[0.8888888888888888,\"#fdca26\"],[1.0,\"#f0f921\"]],\"sequentialminus\":[[0.0,\"#0d0887\"],[0.1111111111111111,\"#46039f\"],[0.2222222222222222,\"#7201a8\"],[0.3333333333333333,\"#9c179e\"],[0.4444444444444444,\"#bd3786\"],[0.5555555555555556,\"#d8576b\"],[0.6666666666666666,\"#ed7953\"],[0.7777777777777778,\"#fb9f3a\"],[0.8888888888888888,\"#fdca26\"],[1.0,\"#f0f921\"]],\"diverging\":[[0,\"#8e0152\"],[0.1,\"#c51b7d\"],[0.2,\"#de77ae\"],[0.3,\"#f1b6da\"],[0.4,\"#fde0ef\"],[0.5,\"#f7f7f7\"],[0.6,\"#e6f5d0\"],[0.7,\"#b8e186\"],[0.8,\"#7fbc41\"],[0.9,\"#4d9221\"],[1,\"#276419\"]]},\"xaxis\":{\"gridcolor\":\"white\",\"linecolor\":\"white\",\"ticks\":\"\",\"title\":{\"standoff\":15},\"zerolinecolor\":\"white\",\"automargin\":true,\"zerolinewidth\":2},\"yaxis\":{\"gridcolor\":\"white\",\"linecolor\":\"white\",\"ticks\":\"\",\"title\":{\"standoff\":15},\"zerolinecolor\":\"white\",\"automargin\":true,\"zerolinewidth\":2},\"scene\":{\"xaxis\":{\"backgroundcolor\":\"#E5ECF6\",\"gridcolor\":\"white\",\"linecolor\":\"white\",\"showbackground\":true,\"ticks\":\"\",\"zerolinecolor\":\"white\",\"gridwidth\":2},\"yaxis\":{\"backgroundcolor\":\"#E5ECF6\",\"gridcolor\":\"white\",\"linecolor\":\"white\",\"showbackground\":true,\"ticks\":\"\",\"zerolinecolor\":\"white\",\"gridwidth\":2},\"zaxis\":{\"backgroundcolor\":\"#E5ECF6\",\"gridcolor\":\"white\",\"linecolor\":\"white\",\"showbackground\":true,\"ticks\":\"\",\"zerolinecolor\":\"white\",\"gridwidth\":2}},\"shapedefaults\":{\"line\":{\"color\":\"#2a3f5f\"}},\"annotationdefaults\":{\"arrowcolor\":\"#2a3f5f\",\"arrowhead\":0,\"arrowwidth\":1},\"geo\":{\"bgcolor\":\"white\",\"landcolor\":\"#E5ECF6\",\"subunitcolor\":\"white\",\"showland\":true,\"showlakes\":true,\"lakecolor\":\"white\"},\"title\":{\"x\":0.05},\"mapbox\":{\"style\":\"light\"}}}},                        {\"responsive\": true}                    )                };            </script>        </div>',\n",
       " ('Leg day - quarta-feira',\n",
       "  'Leg Extension (Machine)'): '<div>                        <script type=\"text/javascript\">window.PlotlyConfig = {MathJaxConfig: \\'local\\'};</script>\\n        <script charset=\"utf-8\" src=\"https://cdn.plot.ly/plotly-3.0.1.min.js\"></script>                <div id=\"bf0fe4fd-18fe-42b9-bb3f-bbaccde415e4\" class=\"plotly-graph-div\" style=\"height:100%; width:100%;\"></div>            <script type=\"text/javascript\">                window.PLOTLYENV=window.PLOTLYENV || {};                                if (document.getElementById(\"bf0fe4fd-18fe-42b9-bb3f-bbaccde415e4\")) {                    Plotly.newPlot(                        \"bf0fe4fd-18fe-42b9-bb3f-bbaccde415e4\",                        [{\"mode\":\"lines+markers+text\",\"name\":\"Top Set (Failure)\",\"text\":[\"7 reps\",\"8 reps\",\"5 reps\",\"6 reps\",\"6 reps\"],\"textposition\":\"top center\",\"visible\":true,\"x\":[\"2025-04-16\",\"2025-04-09\",\"2025-04-02\",\"2025-03-26\",\"2025-03-19\"],\"y\":{\"dtype\":\"f8\",\"bdata\":\"AAAAAABgWEAAAAAAAABUQAAAAAAAwFxAAAAAAAAAXkAAAAAAAIBWQA==\"},\"type\":\"scatter\"},{\"mode\":\"lines+markers+text\",\"name\":\"Work Set 1\",\"text\":[\"9 reps\",\"8 reps\",\"8 reps\",\"7 reps\",\"8 reps\"],\"textposition\":\"top center\",\"visible\":false,\"x\":[\"2025-04-16\",\"2025-04-09\",\"2025-04-02\",\"2025-03-26\",\"2025-03-19\"],\"y\":{\"dtype\":\"f8\",\"bdata\":\"AAAAAADAV0AAAAAAAABZQAAAAAAAgFtAAAAAAAAAXkAAAAAAAABeQA==\"},\"type\":\"scatter\"},{\"mode\":\"lines+markers+text\",\"name\":\"Work Set 2\",\"text\":[\"8 reps\",\"8 reps\",\"8 reps\",\"7 reps\",\"6 reps\"],\"textposition\":\"top center\",\"visible\":false,\"x\":[\"2025-04-16\",\"2025-04-09\",\"2025-04-02\",\"2025-03-26\",\"2025-03-19\"],\"y\":{\"dtype\":\"f8\",\"bdata\":\"AAAAAADAV0AAAAAAAABZQAAAAAAAgFtAAAAAAAAAXkAAAAAAAABeQA==\"},\"type\":\"scatter\"}],                        {\"hovermode\":\"closest\",\"title\":{\"text\":\"Evolu\\\\u00e7\\\\u00e3o no Leg Extension (Machine) (Leg day - quarta-feira)\"},\"updatemenus\":[{\"active\":0,\"bgcolor\":\"white\",\"bordercolor\":\"gray\",\"borderwidth\":1,\"buttons\":[{\"args\":[{\"x\":[[\"2025-04-16\",\"2025-04-09\",\"2025-04-02\",\"2025-03-26\",\"2025-03-19\"],[\"2025-04-16\",\"2025-04-09\",\"2025-04-02\",\"2025-03-26\",\"2025-03-19\"],[\"2025-04-16\",\"2025-04-09\",\"2025-04-02\",\"2025-03-26\",\"2025-03-19\"]],\"y\":[[97.5,80.0,115.0,120.0,90.0],[95.0,100.0,110.0,120.0,120.0],[95.0,100.0,110.0,120.0,120.0]],\"text\":[[\"7 reps\",\"8 reps\",\"5 reps\",\"6 reps\",\"6 reps\"],[\"9 reps\",\"8 reps\",\"8 reps\",\"7 reps\",\"8 reps\"],[\"8 reps\",\"8 reps\",\"8 reps\",\"7 reps\",\"6 reps\"]]},{\"updatemenus[1].buttons\":[{\"label\":\"Top Set (Failure)\",\"method\":\"update\",\"args\":[{\"visible\":[true,false,false]}]},{\"label\":\"Work Set 1\",\"method\":\"update\",\"args\":[{\"visible\":[false,true,false]}]},{\"label\":\"Work Set 2\",\"method\":\"update\",\"args\":[{\"visible\":[false,false,true]}]},{\"label\":\"Todas as s\\\\u00e9ries\",\"method\":\"update\",\"args\":[{\"visible\":[true,true,true]}]}],\"title\":\"Evolu\\\\u00e7\\\\u00e3o no Leg Extension (Machine) (Leg day - quarta-feira) - \\\\u00daltimos 30 dias\"}],\"label\":\"\\\\u00daltimos 30 dias\",\"method\":\"update\"},{\"args\":[{\"x\":[[\"2025-04-16\",\"2025-04-09\",\"2025-04-02\",\"2025-03-26\",\"2025-03-19\",\"2025-03-12\",\"2025-03-05\",\"2025-02-26\"],[\"2025-04-16\",\"2025-04-09\",\"2025-04-02\",\"2025-03-26\",\"2025-03-19\",\"2025-03-12\",\"2025-03-05\",\"2025-02-26\"],[\"2025-04-16\",\"2025-04-09\",\"2025-04-02\",\"2025-03-26\",\"2025-03-19\",\"2025-03-12\",\"2025-03-05\",\"2025-02-26\"]],\"y\":[[97.5,80.0,115.0,120.0,90.0,120.0,120.0,115.0],[95.0,100.0,110.0,120.0,120.0,117.5,117.5,115.0],[95.0,100.0,110.0,120.0,120.0,117.5,117.5,115.0]],\"text\":[[\"7 reps\",\"8 reps\",\"5 reps\",\"6 reps\",\"6 reps\",\"6 reps\",\"6 reps\",\"6 reps\"],[\"9 reps\",\"8 reps\",\"8 reps\",\"7 reps\",\"8 reps\",\"8 reps\",\"9 reps\",\"8 reps\"],[\"8 reps\",\"8 reps\",\"8 reps\",\"7 reps\",\"6 reps\",\"8 reps\",\"8 reps\",\"8 reps\"]]},{\"updatemenus[1].buttons\":[{\"label\":\"Top Set (Failure)\",\"method\":\"update\",\"args\":[{\"visible\":[true,false,false]}]},{\"label\":\"Work Set 1\",\"method\":\"update\",\"args\":[{\"visible\":[false,true,false]}]},{\"label\":\"Work Set 2\",\"method\":\"update\",\"args\":[{\"visible\":[false,false,true]}]},{\"label\":\"Todas as s\\\\u00e9ries\",\"method\":\"update\",\"args\":[{\"visible\":[true,true,true]}]}]}],\"label\":\"\\\\u00daltimos 60 dias\",\"method\":\"update\"},{\"args\":[{\"x\":[[\"2025-04-16\",\"2025-04-09\",\"2025-04-02\",\"2025-03-26\",\"2025-03-19\",\"2025-03-12\",\"2025-03-05\",\"2025-02-26\",\"2025-02-05\",\"2025-01-29\",\"2025-01-22\"],[\"2025-04-16\",\"2025-04-09\",\"2025-04-02\",\"2025-03-26\",\"2025-03-19\",\"2025-03-12\",\"2025-03-05\",\"2025-02-26\",\"2025-02-05\",\"2025-01-29\",\"2025-01-22\"],[\"2025-04-16\",\"2025-04-09\",\"2025-04-02\",\"2025-03-26\",\"2025-03-19\",\"2025-03-12\",\"2025-03-05\",\"2025-02-26\",\"2025-02-05\",\"2025-01-29\",\"2025-01-22\"]],\"y\":[[97.5,80.0,115.0,120.0,90.0,120.0,120.0,115.0,115.0,112.5,110.0],[95.0,100.0,110.0,120.0,120.0,117.5,117.5,115.0,112.5,110.0,107.5],[95.0,100.0,110.0,120.0,120.0,117.5,117.5,115.0,112.5,110.0,107.5]],\"text\":[[\"7 reps\",\"8 reps\",\"5 reps\",\"6 reps\",\"6 reps\",\"6 reps\",\"6 reps\",\"6 reps\",\"7 reps\",\"7 reps\",\"8 reps\"],[\"9 reps\",\"8 reps\",\"8 reps\",\"7 reps\",\"8 reps\",\"8 reps\",\"9 reps\",\"8 reps\",\"9 reps\",\"8 reps\",\"9 reps\"],[\"8 reps\",\"8 reps\",\"8 reps\",\"7 reps\",\"6 reps\",\"8 reps\",\"8 reps\",\"8 reps\",\"9 reps\",\"8 reps\",\"8 reps\"]]},{\"updatemenus[1].buttons\":[{\"label\":\"Top Set (Failure)\",\"method\":\"update\",\"args\":[{\"visible\":[true,false,false]}]},{\"label\":\"Work Set 1\",\"method\":\"update\",\"args\":[{\"visible\":[false,true,false]}]},{\"label\":\"Work Set 2\",\"method\":\"update\",\"args\":[{\"visible\":[false,false,true]}]},{\"label\":\"Todas as s\\\\u00e9ries\",\"method\":\"update\",\"args\":[{\"visible\":[true,true,true]}]}]}],\"label\":\"\\\\u00daltimos 90 dias\",\"method\":\"update\"}],\"direction\":\"down\",\"pad\":{\"r\":10,\"t\":10},\"showactive\":true,\"x\":0.6,\"xanchor\":\"left\",\"y\":1.2,\"yanchor\":\"top\"},{\"active\":0,\"bgcolor\":\"white\",\"bordercolor\":\"gray\",\"borderwidth\":1,\"buttons\":[{\"args\":[{\"visible\":[true,false,false]}],\"label\":\"Top Set (Failure)\",\"method\":\"update\"},{\"args\":[{\"visible\":[false,true,false]}],\"label\":\"Work Set 1\",\"method\":\"update\"},{\"args\":[{\"visible\":[false,false,true]}],\"label\":\"Work Set 2\",\"method\":\"update\"},{\"args\":[{\"visible\":[true,true,true]}],\"label\":\"Todas as s\\\\u00e9ries\",\"method\":\"update\"}],\"direction\":\"down\",\"pad\":{\"r\":10,\"t\":10},\"showactive\":true,\"x\":0.99,\"xanchor\":\"right\",\"y\":1.2,\"yanchor\":\"top\"}],\"xaxis\":{\"tickformat\":\"%d\\\\u002f%m\\\\u002f%Y\",\"title\":{\"text\":\"Data\"}},\"yaxis\":{\"title\":{\"text\":\"Peso (kg)\"}},\"template\":{\"data\":{\"histogram2dcontour\":[{\"type\":\"histogram2dcontour\",\"colorbar\":{\"outlinewidth\":0,\"ticks\":\"\"},\"colorscale\":[[0.0,\"#0d0887\"],[0.1111111111111111,\"#46039f\"],[0.2222222222222222,\"#7201a8\"],[0.3333333333333333,\"#9c179e\"],[0.4444444444444444,\"#bd3786\"],[0.5555555555555556,\"#d8576b\"],[0.6666666666666666,\"#ed7953\"],[0.7777777777777778,\"#fb9f3a\"],[0.8888888888888888,\"#fdca26\"],[1.0,\"#f0f921\"]]}],\"choropleth\":[{\"type\":\"choropleth\",\"colorbar\":{\"outlinewidth\":0,\"ticks\":\"\"}}],\"histogram2d\":[{\"type\":\"histogram2d\",\"colorbar\":{\"outlinewidth\":0,\"ticks\":\"\"},\"colorscale\":[[0.0,\"#0d0887\"],[0.1111111111111111,\"#46039f\"],[0.2222222222222222,\"#7201a8\"],[0.3333333333333333,\"#9c179e\"],[0.4444444444444444,\"#bd3786\"],[0.5555555555555556,\"#d8576b\"],[0.6666666666666666,\"#ed7953\"],[0.7777777777777778,\"#fb9f3a\"],[0.8888888888888888,\"#fdca26\"],[1.0,\"#f0f921\"]]}],\"heatmap\":[{\"type\":\"heatmap\",\"colorbar\":{\"outlinewidth\":0,\"ticks\":\"\"},\"colorscale\":[[0.0,\"#0d0887\"],[0.1111111111111111,\"#46039f\"],[0.2222222222222222,\"#7201a8\"],[0.3333333333333333,\"#9c179e\"],[0.4444444444444444,\"#bd3786\"],[0.5555555555555556,\"#d8576b\"],[0.6666666666666666,\"#ed7953\"],[0.7777777777777778,\"#fb9f3a\"],[0.8888888888888888,\"#fdca26\"],[1.0,\"#f0f921\"]]}],\"contourcarpet\":[{\"type\":\"contourcarpet\",\"colorbar\":{\"outlinewidth\":0,\"ticks\":\"\"}}],\"contour\":[{\"type\":\"contour\",\"colorbar\":{\"outlinewidth\":0,\"ticks\":\"\"},\"colorscale\":[[0.0,\"#0d0887\"],[0.1111111111111111,\"#46039f\"],[0.2222222222222222,\"#7201a8\"],[0.3333333333333333,\"#9c179e\"],[0.4444444444444444,\"#bd3786\"],[0.5555555555555556,\"#d8576b\"],[0.6666666666666666,\"#ed7953\"],[0.7777777777777778,\"#fb9f3a\"],[0.8888888888888888,\"#fdca26\"],[1.0,\"#f0f921\"]]}],\"surface\":[{\"type\":\"surface\",\"colorbar\":{\"outlinewidth\":0,\"ticks\":\"\"},\"colorscale\":[[0.0,\"#0d0887\"],[0.1111111111111111,\"#46039f\"],[0.2222222222222222,\"#7201a8\"],[0.3333333333333333,\"#9c179e\"],[0.4444444444444444,\"#bd3786\"],[0.5555555555555556,\"#d8576b\"],[0.6666666666666666,\"#ed7953\"],[0.7777777777777778,\"#fb9f3a\"],[0.8888888888888888,\"#fdca26\"],[1.0,\"#f0f921\"]]}],\"mesh3d\":[{\"type\":\"mesh3d\",\"colorbar\":{\"outlinewidth\":0,\"ticks\":\"\"}}],\"scatter\":[{\"fillpattern\":{\"fillmode\":\"overlay\",\"size\":10,\"solidity\":0.2},\"type\":\"scatter\"}],\"parcoords\":[{\"type\":\"parcoords\",\"line\":{\"colorbar\":{\"outlinewidth\":0,\"ticks\":\"\"}}}],\"scatterpolargl\":[{\"type\":\"scatterpolargl\",\"marker\":{\"colorbar\":{\"outlinewidth\":0,\"ticks\":\"\"}}}],\"bar\":[{\"error_x\":{\"color\":\"#2a3f5f\"},\"error_y\":{\"color\":\"#2a3f5f\"},\"marker\":{\"line\":{\"color\":\"#E5ECF6\",\"width\":0.5},\"pattern\":{\"fillmode\":\"overlay\",\"size\":10,\"solidity\":0.2}},\"type\":\"bar\"}],\"scattergeo\":[{\"type\":\"scattergeo\",\"marker\":{\"colorbar\":{\"outlinewidth\":0,\"ticks\":\"\"}}}],\"scatterpolar\":[{\"type\":\"scatterpolar\",\"marker\":{\"colorbar\":{\"outlinewidth\":0,\"ticks\":\"\"}}}],\"histogram\":[{\"marker\":{\"pattern\":{\"fillmode\":\"overlay\",\"size\":10,\"solidity\":0.2}},\"type\":\"histogram\"}],\"scattergl\":[{\"type\":\"scattergl\",\"marker\":{\"colorbar\":{\"outlinewidth\":0,\"ticks\":\"\"}}}],\"scatter3d\":[{\"type\":\"scatter3d\",\"line\":{\"colorbar\":{\"outlinewidth\":0,\"ticks\":\"\"}},\"marker\":{\"colorbar\":{\"outlinewidth\":0,\"ticks\":\"\"}}}],\"scattermap\":[{\"type\":\"scattermap\",\"marker\":{\"colorbar\":{\"outlinewidth\":0,\"ticks\":\"\"}}}],\"scattermapbox\":[{\"type\":\"scattermapbox\",\"marker\":{\"colorbar\":{\"outlinewidth\":0,\"ticks\":\"\"}}}],\"scatterternary\":[{\"type\":\"scatterternary\",\"marker\":{\"colorbar\":{\"outlinewidth\":0,\"ticks\":\"\"}}}],\"scattercarpet\":[{\"type\":\"scattercarpet\",\"marker\":{\"colorbar\":{\"outlinewidth\":0,\"ticks\":\"\"}}}],\"carpet\":[{\"aaxis\":{\"endlinecolor\":\"#2a3f5f\",\"gridcolor\":\"white\",\"linecolor\":\"white\",\"minorgridcolor\":\"white\",\"startlinecolor\":\"#2a3f5f\"},\"baxis\":{\"endlinecolor\":\"#2a3f5f\",\"gridcolor\":\"white\",\"linecolor\":\"white\",\"minorgridcolor\":\"white\",\"startlinecolor\":\"#2a3f5f\"},\"type\":\"carpet\"}],\"table\":[{\"cells\":{\"fill\":{\"color\":\"#EBF0F8\"},\"line\":{\"color\":\"white\"}},\"header\":{\"fill\":{\"color\":\"#C8D4E3\"},\"line\":{\"color\":\"white\"}},\"type\":\"table\"}],\"barpolar\":[{\"marker\":{\"line\":{\"color\":\"#E5ECF6\",\"width\":0.5},\"pattern\":{\"fillmode\":\"overlay\",\"size\":10,\"solidity\":0.2}},\"type\":\"barpolar\"}],\"pie\":[{\"automargin\":true,\"type\":\"pie\"}]},\"layout\":{\"autotypenumbers\":\"strict\",\"colorway\":[\"#636efa\",\"#EF553B\",\"#00cc96\",\"#ab63fa\",\"#FFA15A\",\"#19d3f3\",\"#FF6692\",\"#B6E880\",\"#FF97FF\",\"#FECB52\"],\"font\":{\"color\":\"#2a3f5f\"},\"hovermode\":\"closest\",\"hoverlabel\":{\"align\":\"left\"},\"paper_bgcolor\":\"white\",\"plot_bgcolor\":\"#E5ECF6\",\"polar\":{\"bgcolor\":\"#E5ECF6\",\"angularaxis\":{\"gridcolor\":\"white\",\"linecolor\":\"white\",\"ticks\":\"\"},\"radialaxis\":{\"gridcolor\":\"white\",\"linecolor\":\"white\",\"ticks\":\"\"}},\"ternary\":{\"bgcolor\":\"#E5ECF6\",\"aaxis\":{\"gridcolor\":\"white\",\"linecolor\":\"white\",\"ticks\":\"\"},\"baxis\":{\"gridcolor\":\"white\",\"linecolor\":\"white\",\"ticks\":\"\"},\"caxis\":{\"gridcolor\":\"white\",\"linecolor\":\"white\",\"ticks\":\"\"}},\"coloraxis\":{\"colorbar\":{\"outlinewidth\":0,\"ticks\":\"\"}},\"colorscale\":{\"sequential\":[[0.0,\"#0d0887\"],[0.1111111111111111,\"#46039f\"],[0.2222222222222222,\"#7201a8\"],[0.3333333333333333,\"#9c179e\"],[0.4444444444444444,\"#bd3786\"],[0.5555555555555556,\"#d8576b\"],[0.6666666666666666,\"#ed7953\"],[0.7777777777777778,\"#fb9f3a\"],[0.8888888888888888,\"#fdca26\"],[1.0,\"#f0f921\"]],\"sequentialminus\":[[0.0,\"#0d0887\"],[0.1111111111111111,\"#46039f\"],[0.2222222222222222,\"#7201a8\"],[0.3333333333333333,\"#9c179e\"],[0.4444444444444444,\"#bd3786\"],[0.5555555555555556,\"#d8576b\"],[0.6666666666666666,\"#ed7953\"],[0.7777777777777778,\"#fb9f3a\"],[0.8888888888888888,\"#fdca26\"],[1.0,\"#f0f921\"]],\"diverging\":[[0,\"#8e0152\"],[0.1,\"#c51b7d\"],[0.2,\"#de77ae\"],[0.3,\"#f1b6da\"],[0.4,\"#fde0ef\"],[0.5,\"#f7f7f7\"],[0.6,\"#e6f5d0\"],[0.7,\"#b8e186\"],[0.8,\"#7fbc41\"],[0.9,\"#4d9221\"],[1,\"#276419\"]]},\"xaxis\":{\"gridcolor\":\"white\",\"linecolor\":\"white\",\"ticks\":\"\",\"title\":{\"standoff\":15},\"zerolinecolor\":\"white\",\"automargin\":true,\"zerolinewidth\":2},\"yaxis\":{\"gridcolor\":\"white\",\"linecolor\":\"white\",\"ticks\":\"\",\"title\":{\"standoff\":15},\"zerolinecolor\":\"white\",\"automargin\":true,\"zerolinewidth\":2},\"scene\":{\"xaxis\":{\"backgroundcolor\":\"#E5ECF6\",\"gridcolor\":\"white\",\"linecolor\":\"white\",\"showbackground\":true,\"ticks\":\"\",\"zerolinecolor\":\"white\",\"gridwidth\":2},\"yaxis\":{\"backgroundcolor\":\"#E5ECF6\",\"gridcolor\":\"white\",\"linecolor\":\"white\",\"showbackground\":true,\"ticks\":\"\",\"zerolinecolor\":\"white\",\"gridwidth\":2},\"zaxis\":{\"backgroundcolor\":\"#E5ECF6\",\"gridcolor\":\"white\",\"linecolor\":\"white\",\"showbackground\":true,\"ticks\":\"\",\"zerolinecolor\":\"white\",\"gridwidth\":2}},\"shapedefaults\":{\"line\":{\"color\":\"#2a3f5f\"}},\"annotationdefaults\":{\"arrowcolor\":\"#2a3f5f\",\"arrowhead\":0,\"arrowwidth\":1},\"geo\":{\"bgcolor\":\"white\",\"landcolor\":\"#E5ECF6\",\"subunitcolor\":\"white\",\"showland\":true,\"showlakes\":true,\"lakecolor\":\"white\"},\"title\":{\"x\":0.05},\"mapbox\":{\"style\":\"light\"}}}},                        {\"responsive\": true}                    )                };            </script>        </div>',\n",
       " ('Leg day - quarta-feira',\n",
       "  'Calf Extension (Machine)'): '<div>                        <script type=\"text/javascript\">window.PlotlyConfig = {MathJaxConfig: \\'local\\'};</script>\\n        <script charset=\"utf-8\" src=\"https://cdn.plot.ly/plotly-3.0.1.min.js\"></script>                <div id=\"68eea2b0-34b9-4991-a81f-a877f79171b2\" class=\"plotly-graph-div\" style=\"height:100%; width:100%;\"></div>            <script type=\"text/javascript\">                window.PLOTLYENV=window.PLOTLYENV || {};                                if (document.getElementById(\"68eea2b0-34b9-4991-a81f-a877f79171b2\")) {                    Plotly.newPlot(                        \"68eea2b0-34b9-4991-a81f-a877f79171b2\",                        [{\"mode\":\"lines+markers+text\",\"name\":\"Top Set (Failure)\",\"text\":[\"9 reps\",\"8 reps\",\"10 reps\",\"8 reps\",\"9 reps\"],\"textposition\":\"top center\",\"visible\":true,\"x\":[\"2025-04-16\",\"2025-04-09\",\"2025-04-02\",\"2025-03-26\",\"2025-03-19\"],\"y\":{\"dtype\":\"f8\",\"bdata\":\"AAAAAABAZUAAAAAAAMBnQAAAAAAAwGdAAAAAAABAakAAAAAAAKBpQA==\"},\"type\":\"scatter\"},{\"mode\":\"lines+markers+text\",\"name\":\"Work Set 1\",\"text\":[\"10 reps\",\"10 reps\",\"10 reps\",\"10 reps\",\"10 reps\"],\"textposition\":\"top center\",\"visible\":false,\"x\":[\"2025-04-16\",\"2025-04-09\",\"2025-04-02\",\"2025-03-26\",\"2025-03-19\"],\"y\":{\"dtype\":\"f8\",\"bdata\":\"AAAAAACgZEAAAAAAAMBnQAAAAAAAgGZAAAAAAACgaUAAAAAAAABpQA==\"},\"type\":\"scatter\"},{\"mode\":\"lines+markers+text\",\"name\":\"Work Set 2\",\"text\":[\"11 reps\",\"10 reps\",\"10 reps\",\"10 reps\",\"10 reps\"],\"textposition\":\"top center\",\"visible\":false,\"x\":[\"2025-04-16\",\"2025-04-09\",\"2025-04-02\",\"2025-03-26\",\"2025-03-19\"],\"y\":{\"dtype\":\"f8\",\"bdata\":\"AAAAAACgZEAAAAAAAMBnQAAAAAAAIGdAAAAAAACgaUAAAAAAAABpQA==\"},\"type\":\"scatter\"}],                        {\"hovermode\":\"closest\",\"title\":{\"text\":\"Evolu\\\\u00e7\\\\u00e3o no Calf Extension (Machine) (Leg day - quarta-feira)\"},\"updatemenus\":[{\"active\":0,\"bgcolor\":\"white\",\"bordercolor\":\"gray\",\"borderwidth\":1,\"buttons\":[{\"args\":[{\"x\":[[\"2025-04-16\",\"2025-04-09\",\"2025-04-02\",\"2025-03-26\",\"2025-03-19\"],[\"2025-04-16\",\"2025-04-09\",\"2025-04-02\",\"2025-03-26\",\"2025-03-19\"],[\"2025-04-16\",\"2025-04-09\",\"2025-04-02\",\"2025-03-26\",\"2025-03-19\"]],\"y\":[[170.0,190.0,190.0,210.0,205.0],[165.0,190.0,180.0,205.0,200.0],[165.0,190.0,185.0,205.0,200.0]],\"text\":[[\"9 reps\",\"8 reps\",\"10 reps\",\"8 reps\",\"9 reps\"],[\"10 reps\",\"10 reps\",\"10 reps\",\"10 reps\",\"10 reps\"],[\"11 reps\",\"10 reps\",\"10 reps\",\"10 reps\",\"10 reps\"]]},{\"updatemenus[1].buttons\":[{\"label\":\"Top Set (Failure)\",\"method\":\"update\",\"args\":[{\"visible\":[true,false,false]}]},{\"label\":\"Work Set 1\",\"method\":\"update\",\"args\":[{\"visible\":[false,true,false]}]},{\"label\":\"Work Set 2\",\"method\":\"update\",\"args\":[{\"visible\":[false,false,true]}]},{\"label\":\"Todas as s\\\\u00e9ries\",\"method\":\"update\",\"args\":[{\"visible\":[true,true,true]}]}],\"title\":\"Evolu\\\\u00e7\\\\u00e3o no Calf Extension (Machine) (Leg day - quarta-feira) - \\\\u00daltimos 30 dias\"}],\"label\":\"\\\\u00daltimos 30 dias\",\"method\":\"update\"},{\"args\":[{\"x\":[[\"2025-04-16\",\"2025-04-09\",\"2025-04-02\",\"2025-03-26\",\"2025-03-19\",\"2025-03-12\",\"2025-03-05\",\"2025-02-26\"],[\"2025-04-16\",\"2025-04-09\",\"2025-04-02\",\"2025-03-26\",\"2025-03-19\",\"2025-03-12\",\"2025-03-05\",\"2025-02-26\"],[\"2025-04-16\",\"2025-04-09\",\"2025-04-02\",\"2025-03-26\",\"2025-03-19\",\"2025-03-12\",\"2025-03-05\",\"2025-02-26\"]],\"y\":[[170.0,190.0,190.0,210.0,205.0,205.0,205.0,185.0],[165.0,190.0,180.0,205.0,200.0,200.0,200.0,180.0],[165.0,190.0,185.0,205.0,200.0,200.0,200.0,180.0]],\"text\":[[\"9 reps\",\"8 reps\",\"10 reps\",\"8 reps\",\"9 reps\",\"9 reps\",\"9 reps\",\"10 reps\"],[\"10 reps\",\"10 reps\",\"10 reps\",\"10 reps\",\"10 reps\",\"10 reps\",\"10 reps\",\"11 reps\"],[\"11 reps\",\"10 reps\",\"10 reps\",\"10 reps\",\"10 reps\",\"10 reps\",\"10 reps\",\"11 reps\"]]},{\"updatemenus[1].buttons\":[{\"label\":\"Top Set (Failure)\",\"method\":\"update\",\"args\":[{\"visible\":[true,false,false]}]},{\"label\":\"Work Set 1\",\"method\":\"update\",\"args\":[{\"visible\":[false,true,false]}]},{\"label\":\"Work Set 2\",\"method\":\"update\",\"args\":[{\"visible\":[false,false,true]}]},{\"label\":\"Todas as s\\\\u00e9ries\",\"method\":\"update\",\"args\":[{\"visible\":[true,true,true]}]}]}],\"label\":\"\\\\u00daltimos 60 dias\",\"method\":\"update\"},{\"args\":[{\"x\":[[\"2025-04-16\",\"2025-04-09\",\"2025-04-02\",\"2025-03-26\",\"2025-03-19\",\"2025-03-12\",\"2025-03-05\",\"2025-02-26\",\"2025-02-05\",\"2025-01-29\",\"2025-01-22\"],[\"2025-04-16\",\"2025-04-09\",\"2025-04-02\",\"2025-03-26\",\"2025-03-19\",\"2025-03-12\",\"2025-03-05\",\"2025-02-26\",\"2025-02-05\",\"2025-01-29\",\"2025-01-22\"],[\"2025-04-16\",\"2025-04-09\",\"2025-04-02\",\"2025-03-26\",\"2025-03-19\",\"2025-03-12\",\"2025-03-05\",\"2025-02-26\",\"2025-02-05\",\"2025-01-29\",\"2025-01-22\"]],\"y\":[[170.0,190.0,190.0,210.0,205.0,205.0,205.0,185.0,210.0,205.0,205.0],[165.0,190.0,180.0,205.0,200.0,200.0,200.0,180.0,205.0,200.0,200.0],[165.0,190.0,185.0,205.0,200.0,200.0,200.0,180.0,205.0,200.0,200.0]],\"text\":[[\"9 reps\",\"8 reps\",\"10 reps\",\"8 reps\",\"9 reps\",\"9 reps\",\"9 reps\",\"10 reps\",\"9 reps\",\"8 reps\",\"8 reps\"],[\"10 reps\",\"10 reps\",\"10 reps\",\"10 reps\",\"10 reps\",\"10 reps\",\"10 reps\",\"11 reps\",\"10 reps\",\"10 reps\",\"10 reps\"],[\"11 reps\",\"10 reps\",\"10 reps\",\"10 reps\",\"10 reps\",\"10 reps\",\"10 reps\",\"11 reps\",\"10 reps\",\"10 reps\",\"10 reps\"]]},{\"updatemenus[1].buttons\":[{\"label\":\"Top Set (Failure)\",\"method\":\"update\",\"args\":[{\"visible\":[true,false,false]}]},{\"label\":\"Work Set 1\",\"method\":\"update\",\"args\":[{\"visible\":[false,true,false]}]},{\"label\":\"Work Set 2\",\"method\":\"update\",\"args\":[{\"visible\":[false,false,true]}]},{\"label\":\"Todas as s\\\\u00e9ries\",\"method\":\"update\",\"args\":[{\"visible\":[true,true,true]}]}]}],\"label\":\"\\\\u00daltimos 90 dias\",\"method\":\"update\"}],\"direction\":\"down\",\"pad\":{\"r\":10,\"t\":10},\"showactive\":true,\"x\":0.6,\"xanchor\":\"left\",\"y\":1.2,\"yanchor\":\"top\"},{\"active\":0,\"bgcolor\":\"white\",\"bordercolor\":\"gray\",\"borderwidth\":1,\"buttons\":[{\"args\":[{\"visible\":[true,false,false]}],\"label\":\"Top Set (Failure)\",\"method\":\"update\"},{\"args\":[{\"visible\":[false,true,false]}],\"label\":\"Work Set 1\",\"method\":\"update\"},{\"args\":[{\"visible\":[false,false,true]}],\"label\":\"Work Set 2\",\"method\":\"update\"},{\"args\":[{\"visible\":[true,true,true]}],\"label\":\"Todas as s\\\\u00e9ries\",\"method\":\"update\"}],\"direction\":\"down\",\"pad\":{\"r\":10,\"t\":10},\"showactive\":true,\"x\":0.99,\"xanchor\":\"right\",\"y\":1.2,\"yanchor\":\"top\"}],\"xaxis\":{\"tickformat\":\"%d\\\\u002f%m\\\\u002f%Y\",\"title\":{\"text\":\"Data\"}},\"yaxis\":{\"title\":{\"text\":\"Peso (kg)\"}},\"template\":{\"data\":{\"histogram2dcontour\":[{\"type\":\"histogram2dcontour\",\"colorbar\":{\"outlinewidth\":0,\"ticks\":\"\"},\"colorscale\":[[0.0,\"#0d0887\"],[0.1111111111111111,\"#46039f\"],[0.2222222222222222,\"#7201a8\"],[0.3333333333333333,\"#9c179e\"],[0.4444444444444444,\"#bd3786\"],[0.5555555555555556,\"#d8576b\"],[0.6666666666666666,\"#ed7953\"],[0.7777777777777778,\"#fb9f3a\"],[0.8888888888888888,\"#fdca26\"],[1.0,\"#f0f921\"]]}],\"choropleth\":[{\"type\":\"choropleth\",\"colorbar\":{\"outlinewidth\":0,\"ticks\":\"\"}}],\"histogram2d\":[{\"type\":\"histogram2d\",\"colorbar\":{\"outlinewidth\":0,\"ticks\":\"\"},\"colorscale\":[[0.0,\"#0d0887\"],[0.1111111111111111,\"#46039f\"],[0.2222222222222222,\"#7201a8\"],[0.3333333333333333,\"#9c179e\"],[0.4444444444444444,\"#bd3786\"],[0.5555555555555556,\"#d8576b\"],[0.6666666666666666,\"#ed7953\"],[0.7777777777777778,\"#fb9f3a\"],[0.8888888888888888,\"#fdca26\"],[1.0,\"#f0f921\"]]}],\"heatmap\":[{\"type\":\"heatmap\",\"colorbar\":{\"outlinewidth\":0,\"ticks\":\"\"},\"colorscale\":[[0.0,\"#0d0887\"],[0.1111111111111111,\"#46039f\"],[0.2222222222222222,\"#7201a8\"],[0.3333333333333333,\"#9c179e\"],[0.4444444444444444,\"#bd3786\"],[0.5555555555555556,\"#d8576b\"],[0.6666666666666666,\"#ed7953\"],[0.7777777777777778,\"#fb9f3a\"],[0.8888888888888888,\"#fdca26\"],[1.0,\"#f0f921\"]]}],\"contourcarpet\":[{\"type\":\"contourcarpet\",\"colorbar\":{\"outlinewidth\":0,\"ticks\":\"\"}}],\"contour\":[{\"type\":\"contour\",\"colorbar\":{\"outlinewidth\":0,\"ticks\":\"\"},\"colorscale\":[[0.0,\"#0d0887\"],[0.1111111111111111,\"#46039f\"],[0.2222222222222222,\"#7201a8\"],[0.3333333333333333,\"#9c179e\"],[0.4444444444444444,\"#bd3786\"],[0.5555555555555556,\"#d8576b\"],[0.6666666666666666,\"#ed7953\"],[0.7777777777777778,\"#fb9f3a\"],[0.8888888888888888,\"#fdca26\"],[1.0,\"#f0f921\"]]}],\"surface\":[{\"type\":\"surface\",\"colorbar\":{\"outlinewidth\":0,\"ticks\":\"\"},\"colorscale\":[[0.0,\"#0d0887\"],[0.1111111111111111,\"#46039f\"],[0.2222222222222222,\"#7201a8\"],[0.3333333333333333,\"#9c179e\"],[0.4444444444444444,\"#bd3786\"],[0.5555555555555556,\"#d8576b\"],[0.6666666666666666,\"#ed7953\"],[0.7777777777777778,\"#fb9f3a\"],[0.8888888888888888,\"#fdca26\"],[1.0,\"#f0f921\"]]}],\"mesh3d\":[{\"type\":\"mesh3d\",\"colorbar\":{\"outlinewidth\":0,\"ticks\":\"\"}}],\"scatter\":[{\"fillpattern\":{\"fillmode\":\"overlay\",\"size\":10,\"solidity\":0.2},\"type\":\"scatter\"}],\"parcoords\":[{\"type\":\"parcoords\",\"line\":{\"colorbar\":{\"outlinewidth\":0,\"ticks\":\"\"}}}],\"scatterpolargl\":[{\"type\":\"scatterpolargl\",\"marker\":{\"colorbar\":{\"outlinewidth\":0,\"ticks\":\"\"}}}],\"bar\":[{\"error_x\":{\"color\":\"#2a3f5f\"},\"error_y\":{\"color\":\"#2a3f5f\"},\"marker\":{\"line\":{\"color\":\"#E5ECF6\",\"width\":0.5},\"pattern\":{\"fillmode\":\"overlay\",\"size\":10,\"solidity\":0.2}},\"type\":\"bar\"}],\"scattergeo\":[{\"type\":\"scattergeo\",\"marker\":{\"colorbar\":{\"outlinewidth\":0,\"ticks\":\"\"}}}],\"scatterpolar\":[{\"type\":\"scatterpolar\",\"marker\":{\"colorbar\":{\"outlinewidth\":0,\"ticks\":\"\"}}}],\"histogram\":[{\"marker\":{\"pattern\":{\"fillmode\":\"overlay\",\"size\":10,\"solidity\":0.2}},\"type\":\"histogram\"}],\"scattergl\":[{\"type\":\"scattergl\",\"marker\":{\"colorbar\":{\"outlinewidth\":0,\"ticks\":\"\"}}}],\"scatter3d\":[{\"type\":\"scatter3d\",\"line\":{\"colorbar\":{\"outlinewidth\":0,\"ticks\":\"\"}},\"marker\":{\"colorbar\":{\"outlinewidth\":0,\"ticks\":\"\"}}}],\"scattermap\":[{\"type\":\"scattermap\",\"marker\":{\"colorbar\":{\"outlinewidth\":0,\"ticks\":\"\"}}}],\"scattermapbox\":[{\"type\":\"scattermapbox\",\"marker\":{\"colorbar\":{\"outlinewidth\":0,\"ticks\":\"\"}}}],\"scatterternary\":[{\"type\":\"scatterternary\",\"marker\":{\"colorbar\":{\"outlinewidth\":0,\"ticks\":\"\"}}}],\"scattercarpet\":[{\"type\":\"scattercarpet\",\"marker\":{\"colorbar\":{\"outlinewidth\":0,\"ticks\":\"\"}}}],\"carpet\":[{\"aaxis\":{\"endlinecolor\":\"#2a3f5f\",\"gridcolor\":\"white\",\"linecolor\":\"white\",\"minorgridcolor\":\"white\",\"startlinecolor\":\"#2a3f5f\"},\"baxis\":{\"endlinecolor\":\"#2a3f5f\",\"gridcolor\":\"white\",\"linecolor\":\"white\",\"minorgridcolor\":\"white\",\"startlinecolor\":\"#2a3f5f\"},\"type\":\"carpet\"}],\"table\":[{\"cells\":{\"fill\":{\"color\":\"#EBF0F8\"},\"line\":{\"color\":\"white\"}},\"header\":{\"fill\":{\"color\":\"#C8D4E3\"},\"line\":{\"color\":\"white\"}},\"type\":\"table\"}],\"barpolar\":[{\"marker\":{\"line\":{\"color\":\"#E5ECF6\",\"width\":0.5},\"pattern\":{\"fillmode\":\"overlay\",\"size\":10,\"solidity\":0.2}},\"type\":\"barpolar\"}],\"pie\":[{\"automargin\":true,\"type\":\"pie\"}]},\"layout\":{\"autotypenumbers\":\"strict\",\"colorway\":[\"#636efa\",\"#EF553B\",\"#00cc96\",\"#ab63fa\",\"#FFA15A\",\"#19d3f3\",\"#FF6692\",\"#B6E880\",\"#FF97FF\",\"#FECB52\"],\"font\":{\"color\":\"#2a3f5f\"},\"hovermode\":\"closest\",\"hoverlabel\":{\"align\":\"left\"},\"paper_bgcolor\":\"white\",\"plot_bgcolor\":\"#E5ECF6\",\"polar\":{\"bgcolor\":\"#E5ECF6\",\"angularaxis\":{\"gridcolor\":\"white\",\"linecolor\":\"white\",\"ticks\":\"\"},\"radialaxis\":{\"gridcolor\":\"white\",\"linecolor\":\"white\",\"ticks\":\"\"}},\"ternary\":{\"bgcolor\":\"#E5ECF6\",\"aaxis\":{\"gridcolor\":\"white\",\"linecolor\":\"white\",\"ticks\":\"\"},\"baxis\":{\"gridcolor\":\"white\",\"linecolor\":\"white\",\"ticks\":\"\"},\"caxis\":{\"gridcolor\":\"white\",\"linecolor\":\"white\",\"ticks\":\"\"}},\"coloraxis\":{\"colorbar\":{\"outlinewidth\":0,\"ticks\":\"\"}},\"colorscale\":{\"sequential\":[[0.0,\"#0d0887\"],[0.1111111111111111,\"#46039f\"],[0.2222222222222222,\"#7201a8\"],[0.3333333333333333,\"#9c179e\"],[0.4444444444444444,\"#bd3786\"],[0.5555555555555556,\"#d8576b\"],[0.6666666666666666,\"#ed7953\"],[0.7777777777777778,\"#fb9f3a\"],[0.8888888888888888,\"#fdca26\"],[1.0,\"#f0f921\"]],\"sequentialminus\":[[0.0,\"#0d0887\"],[0.1111111111111111,\"#46039f\"],[0.2222222222222222,\"#7201a8\"],[0.3333333333333333,\"#9c179e\"],[0.4444444444444444,\"#bd3786\"],[0.5555555555555556,\"#d8576b\"],[0.6666666666666666,\"#ed7953\"],[0.7777777777777778,\"#fb9f3a\"],[0.8888888888888888,\"#fdca26\"],[1.0,\"#f0f921\"]],\"diverging\":[[0,\"#8e0152\"],[0.1,\"#c51b7d\"],[0.2,\"#de77ae\"],[0.3,\"#f1b6da\"],[0.4,\"#fde0ef\"],[0.5,\"#f7f7f7\"],[0.6,\"#e6f5d0\"],[0.7,\"#b8e186\"],[0.8,\"#7fbc41\"],[0.9,\"#4d9221\"],[1,\"#276419\"]]},\"xaxis\":{\"gridcolor\":\"white\",\"linecolor\":\"white\",\"ticks\":\"\",\"title\":{\"standoff\":15},\"zerolinecolor\":\"white\",\"automargin\":true,\"zerolinewidth\":2},\"yaxis\":{\"gridcolor\":\"white\",\"linecolor\":\"white\",\"ticks\":\"\",\"title\":{\"standoff\":15},\"zerolinecolor\":\"white\",\"automargin\":true,\"zerolinewidth\":2},\"scene\":{\"xaxis\":{\"backgroundcolor\":\"#E5ECF6\",\"gridcolor\":\"white\",\"linecolor\":\"white\",\"showbackground\":true,\"ticks\":\"\",\"zerolinecolor\":\"white\",\"gridwidth\":2},\"yaxis\":{\"backgroundcolor\":\"#E5ECF6\",\"gridcolor\":\"white\",\"linecolor\":\"white\",\"showbackground\":true,\"ticks\":\"\",\"zerolinecolor\":\"white\",\"gridwidth\":2},\"zaxis\":{\"backgroundcolor\":\"#E5ECF6\",\"gridcolor\":\"white\",\"linecolor\":\"white\",\"showbackground\":true,\"ticks\":\"\",\"zerolinecolor\":\"white\",\"gridwidth\":2}},\"shapedefaults\":{\"line\":{\"color\":\"#2a3f5f\"}},\"annotationdefaults\":{\"arrowcolor\":\"#2a3f5f\",\"arrowhead\":0,\"arrowwidth\":1},\"geo\":{\"bgcolor\":\"white\",\"landcolor\":\"#E5ECF6\",\"subunitcolor\":\"white\",\"showland\":true,\"showlakes\":true,\"lakecolor\":\"white\"},\"title\":{\"x\":0.05},\"mapbox\":{\"style\":\"light\"}}}},                        {\"responsive\": true}                    )                };            </script>        </div>',\n",
       " ('Leg day - quarta-feira',\n",
       "  'Cable Crunch'): '<div>                        <script type=\"text/javascript\">window.PlotlyConfig = {MathJaxConfig: \\'local\\'};</script>\\n        <script charset=\"utf-8\" src=\"https://cdn.plot.ly/plotly-3.0.1.min.js\"></script>                <div id=\"3063ab17-3c84-451a-b896-ce4de242a187\" class=\"plotly-graph-div\" style=\"height:100%; width:100%;\"></div>            <script type=\"text/javascript\">                window.PLOTLYENV=window.PLOTLYENV || {};                                if (document.getElementById(\"3063ab17-3c84-451a-b896-ce4de242a187\")) {                    Plotly.newPlot(                        \"3063ab17-3c84-451a-b896-ce4de242a187\",                        [{\"mode\":\"lines+markers+text\",\"name\":\"Top Set (Failure)\",\"text\":[\"12 reps\",\"10 reps\",\"10 reps\",\"7 reps\",\"11 reps\",\"12 reps\",\"11 reps\",\"8 reps\",\"12 reps\",\"11 reps\"],\"textposition\":\"top center\",\"visible\":true,\"x\":[\"2025-04-16\",\"2025-04-16\",\"2025-04-09\",\"2025-04-09\",\"2025-04-02\",\"2025-04-02\",\"2025-03-26\",\"2025-03-26\",\"2025-03-19\",\"2025-03-19\"],\"y\":{\"dtype\":\"f8\",\"bdata\":\"AAAAAAAAPkAAAAAAAEA\\\\u002fQAAAAAAAIEJAAAAAAAAgQkAAAAAAAIBAQAAAAAAAIEFAAAAAAACgQ0AAAAAAAABEQAAAAAAAAENAAAAAAACgQ0A=\"},\"type\":\"scatter\"}],                        {\"hovermode\":\"closest\",\"title\":{\"text\":\"Evolu\\\\u00e7\\\\u00e3o no Cable Crunch (Leg day - quarta-feira)\"},\"updatemenus\":[{\"active\":0,\"bgcolor\":\"white\",\"bordercolor\":\"gray\",\"borderwidth\":1,\"buttons\":[{\"args\":[{\"x\":[[\"2025-04-16\",\"2025-04-16\",\"2025-04-09\",\"2025-04-09\",\"2025-04-02\",\"2025-04-02\",\"2025-03-26\",\"2025-03-26\",\"2025-03-19\",\"2025-03-19\"]],\"y\":[[30.0,31.25,36.25,36.25,33.0,34.25,39.25,40.0,38.0,39.25]],\"text\":[[\"12 reps\",\"10 reps\",\"10 reps\",\"7 reps\",\"11 reps\",\"12 reps\",\"11 reps\",\"8 reps\",\"12 reps\",\"11 reps\"]]},{\"updatemenus[1].buttons\":[{\"label\":\"Top Set (Failure)\",\"method\":\"update\",\"args\":[{\"visible\":[true]}]},{\"label\":\"Todas as s\\\\u00e9ries\",\"method\":\"update\",\"args\":[{\"visible\":[true]}]}],\"title\":\"Evolu\\\\u00e7\\\\u00e3o no Cable Crunch (Leg day - quarta-feira) - \\\\u00daltimos 30 dias\"}],\"label\":\"\\\\u00daltimos 30 dias\",\"method\":\"update\"},{\"args\":[{\"x\":[[\"2025-04-16\",\"2025-04-16\",\"2025-04-09\",\"2025-04-09\",\"2025-04-02\",\"2025-04-02\",\"2025-03-26\",\"2025-03-26\",\"2025-03-19\",\"2025-03-19\",\"2025-03-12\",\"2025-03-12\",\"2025-03-05\",\"2025-03-05\",\"2025-02-26\",\"2025-02-26\"]],\"y\":[[30.0,31.25,36.25,36.25,33.0,34.25,39.25,40.0,38.0,39.25,38.0,39.5,40.0,33.0,40.0,40.0]],\"text\":[[\"12 reps\",\"10 reps\",\"10 reps\",\"7 reps\",\"11 reps\",\"12 reps\",\"11 reps\",\"8 reps\",\"12 reps\",\"11 reps\",\"10 reps\",\"8 reps\",\"9 reps\",\"11 reps\",\"10 reps\",\"8 reps\"]]},{\"updatemenus[1].buttons\":[{\"label\":\"Top Set (Failure)\",\"method\":\"update\",\"args\":[{\"visible\":[true]}]},{\"label\":\"Todas as s\\\\u00e9ries\",\"method\":\"update\",\"args\":[{\"visible\":[true]}]}]}],\"label\":\"\\\\u00daltimos 60 dias\",\"method\":\"update\"},{\"args\":[{\"x\":[[\"2025-04-16\",\"2025-04-16\",\"2025-04-09\",\"2025-04-09\",\"2025-04-02\",\"2025-04-02\",\"2025-03-26\",\"2025-03-26\",\"2025-03-19\",\"2025-03-19\",\"2025-03-12\",\"2025-03-12\",\"2025-03-05\",\"2025-03-05\",\"2025-02-26\",\"2025-02-26\",\"2025-02-05\",\"2025-02-05\",\"2025-01-29\",\"2025-01-29\",\"2025-01-22\",\"2025-01-22\"]],\"y\":[[30.0,31.25,36.25,36.25,33.0,34.25,39.25,40.0,38.0,39.25,38.0,39.5,40.0,33.0,40.0,40.0,39.25,40.0,39.25,40.0,39.25,39.25]],\"text\":[[\"12 reps\",\"10 reps\",\"10 reps\",\"7 reps\",\"11 reps\",\"12 reps\",\"11 reps\",\"8 reps\",\"12 reps\",\"11 reps\",\"10 reps\",\"8 reps\",\"9 reps\",\"11 reps\",\"10 reps\",\"8 reps\",\"12 reps\",\"8 reps\",\"10 reps\",\"8 reps\",\"11 reps\",\"10 reps\"]]},{\"updatemenus[1].buttons\":[{\"label\":\"Top Set (Failure)\",\"method\":\"update\",\"args\":[{\"visible\":[true]}]},{\"label\":\"Todas as s\\\\u00e9ries\",\"method\":\"update\",\"args\":[{\"visible\":[true]}]}]}],\"label\":\"\\\\u00daltimos 90 dias\",\"method\":\"update\"}],\"direction\":\"down\",\"pad\":{\"r\":10,\"t\":10},\"showactive\":true,\"x\":0.6,\"xanchor\":\"left\",\"y\":1.2,\"yanchor\":\"top\"},{\"active\":0,\"bgcolor\":\"white\",\"bordercolor\":\"gray\",\"borderwidth\":1,\"buttons\":[{\"args\":[{\"visible\":[true]}],\"label\":\"Top Set (Failure)\",\"method\":\"update\"},{\"args\":[{\"visible\":[true]}],\"label\":\"Todas as s\\\\u00e9ries\",\"method\":\"update\"}],\"direction\":\"down\",\"pad\":{\"r\":10,\"t\":10},\"showactive\":true,\"x\":0.99,\"xanchor\":\"right\",\"y\":1.2,\"yanchor\":\"top\"}],\"xaxis\":{\"tickformat\":\"%d\\\\u002f%m\\\\u002f%Y\",\"title\":{\"text\":\"Data\"}},\"yaxis\":{\"title\":{\"text\":\"Peso (kg)\"}},\"template\":{\"data\":{\"histogram2dcontour\":[{\"type\":\"histogram2dcontour\",\"colorbar\":{\"outlinewidth\":0,\"ticks\":\"\"},\"colorscale\":[[0.0,\"#0d0887\"],[0.1111111111111111,\"#46039f\"],[0.2222222222222222,\"#7201a8\"],[0.3333333333333333,\"#9c179e\"],[0.4444444444444444,\"#bd3786\"],[0.5555555555555556,\"#d8576b\"],[0.6666666666666666,\"#ed7953\"],[0.7777777777777778,\"#fb9f3a\"],[0.8888888888888888,\"#fdca26\"],[1.0,\"#f0f921\"]]}],\"choropleth\":[{\"type\":\"choropleth\",\"colorbar\":{\"outlinewidth\":0,\"ticks\":\"\"}}],\"histogram2d\":[{\"type\":\"histogram2d\",\"colorbar\":{\"outlinewidth\":0,\"ticks\":\"\"},\"colorscale\":[[0.0,\"#0d0887\"],[0.1111111111111111,\"#46039f\"],[0.2222222222222222,\"#7201a8\"],[0.3333333333333333,\"#9c179e\"],[0.4444444444444444,\"#bd3786\"],[0.5555555555555556,\"#d8576b\"],[0.6666666666666666,\"#ed7953\"],[0.7777777777777778,\"#fb9f3a\"],[0.8888888888888888,\"#fdca26\"],[1.0,\"#f0f921\"]]}],\"heatmap\":[{\"type\":\"heatmap\",\"colorbar\":{\"outlinewidth\":0,\"ticks\":\"\"},\"colorscale\":[[0.0,\"#0d0887\"],[0.1111111111111111,\"#46039f\"],[0.2222222222222222,\"#7201a8\"],[0.3333333333333333,\"#9c179e\"],[0.4444444444444444,\"#bd3786\"],[0.5555555555555556,\"#d8576b\"],[0.6666666666666666,\"#ed7953\"],[0.7777777777777778,\"#fb9f3a\"],[0.8888888888888888,\"#fdca26\"],[1.0,\"#f0f921\"]]}],\"contourcarpet\":[{\"type\":\"contourcarpet\",\"colorbar\":{\"outlinewidth\":0,\"ticks\":\"\"}}],\"contour\":[{\"type\":\"contour\",\"colorbar\":{\"outlinewidth\":0,\"ticks\":\"\"},\"colorscale\":[[0.0,\"#0d0887\"],[0.1111111111111111,\"#46039f\"],[0.2222222222222222,\"#7201a8\"],[0.3333333333333333,\"#9c179e\"],[0.4444444444444444,\"#bd3786\"],[0.5555555555555556,\"#d8576b\"],[0.6666666666666666,\"#ed7953\"],[0.7777777777777778,\"#fb9f3a\"],[0.8888888888888888,\"#fdca26\"],[1.0,\"#f0f921\"]]}],\"surface\":[{\"type\":\"surface\",\"colorbar\":{\"outlinewidth\":0,\"ticks\":\"\"},\"colorscale\":[[0.0,\"#0d0887\"],[0.1111111111111111,\"#46039f\"],[0.2222222222222222,\"#7201a8\"],[0.3333333333333333,\"#9c179e\"],[0.4444444444444444,\"#bd3786\"],[0.5555555555555556,\"#d8576b\"],[0.6666666666666666,\"#ed7953\"],[0.7777777777777778,\"#fb9f3a\"],[0.8888888888888888,\"#fdca26\"],[1.0,\"#f0f921\"]]}],\"mesh3d\":[{\"type\":\"mesh3d\",\"colorbar\":{\"outlinewidth\":0,\"ticks\":\"\"}}],\"scatter\":[{\"fillpattern\":{\"fillmode\":\"overlay\",\"size\":10,\"solidity\":0.2},\"type\":\"scatter\"}],\"parcoords\":[{\"type\":\"parcoords\",\"line\":{\"colorbar\":{\"outlinewidth\":0,\"ticks\":\"\"}}}],\"scatterpolargl\":[{\"type\":\"scatterpolargl\",\"marker\":{\"colorbar\":{\"outlinewidth\":0,\"ticks\":\"\"}}}],\"bar\":[{\"error_x\":{\"color\":\"#2a3f5f\"},\"error_y\":{\"color\":\"#2a3f5f\"},\"marker\":{\"line\":{\"color\":\"#E5ECF6\",\"width\":0.5},\"pattern\":{\"fillmode\":\"overlay\",\"size\":10,\"solidity\":0.2}},\"type\":\"bar\"}],\"scattergeo\":[{\"type\":\"scattergeo\",\"marker\":{\"colorbar\":{\"outlinewidth\":0,\"ticks\":\"\"}}}],\"scatterpolar\":[{\"type\":\"scatterpolar\",\"marker\":{\"colorbar\":{\"outlinewidth\":0,\"ticks\":\"\"}}}],\"histogram\":[{\"marker\":{\"pattern\":{\"fillmode\":\"overlay\",\"size\":10,\"solidity\":0.2}},\"type\":\"histogram\"}],\"scattergl\":[{\"type\":\"scattergl\",\"marker\":{\"colorbar\":{\"outlinewidth\":0,\"ticks\":\"\"}}}],\"scatter3d\":[{\"type\":\"scatter3d\",\"line\":{\"colorbar\":{\"outlinewidth\":0,\"ticks\":\"\"}},\"marker\":{\"colorbar\":{\"outlinewidth\":0,\"ticks\":\"\"}}}],\"scattermap\":[{\"type\":\"scattermap\",\"marker\":{\"colorbar\":{\"outlinewidth\":0,\"ticks\":\"\"}}}],\"scattermapbox\":[{\"type\":\"scattermapbox\",\"marker\":{\"colorbar\":{\"outlinewidth\":0,\"ticks\":\"\"}}}],\"scatterternary\":[{\"type\":\"scatterternary\",\"marker\":{\"colorbar\":{\"outlinewidth\":0,\"ticks\":\"\"}}}],\"scattercarpet\":[{\"type\":\"scattercarpet\",\"marker\":{\"colorbar\":{\"outlinewidth\":0,\"ticks\":\"\"}}}],\"carpet\":[{\"aaxis\":{\"endlinecolor\":\"#2a3f5f\",\"gridcolor\":\"white\",\"linecolor\":\"white\",\"minorgridcolor\":\"white\",\"startlinecolor\":\"#2a3f5f\"},\"baxis\":{\"endlinecolor\":\"#2a3f5f\",\"gridcolor\":\"white\",\"linecolor\":\"white\",\"minorgridcolor\":\"white\",\"startlinecolor\":\"#2a3f5f\"},\"type\":\"carpet\"}],\"table\":[{\"cells\":{\"fill\":{\"color\":\"#EBF0F8\"},\"line\":{\"color\":\"white\"}},\"header\":{\"fill\":{\"color\":\"#C8D4E3\"},\"line\":{\"color\":\"white\"}},\"type\":\"table\"}],\"barpolar\":[{\"marker\":{\"line\":{\"color\":\"#E5ECF6\",\"width\":0.5},\"pattern\":{\"fillmode\":\"overlay\",\"size\":10,\"solidity\":0.2}},\"type\":\"barpolar\"}],\"pie\":[{\"automargin\":true,\"type\":\"pie\"}]},\"layout\":{\"autotypenumbers\":\"strict\",\"colorway\":[\"#636efa\",\"#EF553B\",\"#00cc96\",\"#ab63fa\",\"#FFA15A\",\"#19d3f3\",\"#FF6692\",\"#B6E880\",\"#FF97FF\",\"#FECB52\"],\"font\":{\"color\":\"#2a3f5f\"},\"hovermode\":\"closest\",\"hoverlabel\":{\"align\":\"left\"},\"paper_bgcolor\":\"white\",\"plot_bgcolor\":\"#E5ECF6\",\"polar\":{\"bgcolor\":\"#E5ECF6\",\"angularaxis\":{\"gridcolor\":\"white\",\"linecolor\":\"white\",\"ticks\":\"\"},\"radialaxis\":{\"gridcolor\":\"white\",\"linecolor\":\"white\",\"ticks\":\"\"}},\"ternary\":{\"bgcolor\":\"#E5ECF6\",\"aaxis\":{\"gridcolor\":\"white\",\"linecolor\":\"white\",\"ticks\":\"\"},\"baxis\":{\"gridcolor\":\"white\",\"linecolor\":\"white\",\"ticks\":\"\"},\"caxis\":{\"gridcolor\":\"white\",\"linecolor\":\"white\",\"ticks\":\"\"}},\"coloraxis\":{\"colorbar\":{\"outlinewidth\":0,\"ticks\":\"\"}},\"colorscale\":{\"sequential\":[[0.0,\"#0d0887\"],[0.1111111111111111,\"#46039f\"],[0.2222222222222222,\"#7201a8\"],[0.3333333333333333,\"#9c179e\"],[0.4444444444444444,\"#bd3786\"],[0.5555555555555556,\"#d8576b\"],[0.6666666666666666,\"#ed7953\"],[0.7777777777777778,\"#fb9f3a\"],[0.8888888888888888,\"#fdca26\"],[1.0,\"#f0f921\"]],\"sequentialminus\":[[0.0,\"#0d0887\"],[0.1111111111111111,\"#46039f\"],[0.2222222222222222,\"#7201a8\"],[0.3333333333333333,\"#9c179e\"],[0.4444444444444444,\"#bd3786\"],[0.5555555555555556,\"#d8576b\"],[0.6666666666666666,\"#ed7953\"],[0.7777777777777778,\"#fb9f3a\"],[0.8888888888888888,\"#fdca26\"],[1.0,\"#f0f921\"]],\"diverging\":[[0,\"#8e0152\"],[0.1,\"#c51b7d\"],[0.2,\"#de77ae\"],[0.3,\"#f1b6da\"],[0.4,\"#fde0ef\"],[0.5,\"#f7f7f7\"],[0.6,\"#e6f5d0\"],[0.7,\"#b8e186\"],[0.8,\"#7fbc41\"],[0.9,\"#4d9221\"],[1,\"#276419\"]]},\"xaxis\":{\"gridcolor\":\"white\",\"linecolor\":\"white\",\"ticks\":\"\",\"title\":{\"standoff\":15},\"zerolinecolor\":\"white\",\"automargin\":true,\"zerolinewidth\":2},\"yaxis\":{\"gridcolor\":\"white\",\"linecolor\":\"white\",\"ticks\":\"\",\"title\":{\"standoff\":15},\"zerolinecolor\":\"white\",\"automargin\":true,\"zerolinewidth\":2},\"scene\":{\"xaxis\":{\"backgroundcolor\":\"#E5ECF6\",\"gridcolor\":\"white\",\"linecolor\":\"white\",\"showbackground\":true,\"ticks\":\"\",\"zerolinecolor\":\"white\",\"gridwidth\":2},\"yaxis\":{\"backgroundcolor\":\"#E5ECF6\",\"gridcolor\":\"white\",\"linecolor\":\"white\",\"showbackground\":true,\"ticks\":\"\",\"zerolinecolor\":\"white\",\"gridwidth\":2},\"zaxis\":{\"backgroundcolor\":\"#E5ECF6\",\"gridcolor\":\"white\",\"linecolor\":\"white\",\"showbackground\":true,\"ticks\":\"\",\"zerolinecolor\":\"white\",\"gridwidth\":2}},\"shapedefaults\":{\"line\":{\"color\":\"#2a3f5f\"}},\"annotationdefaults\":{\"arrowcolor\":\"#2a3f5f\",\"arrowhead\":0,\"arrowwidth\":1},\"geo\":{\"bgcolor\":\"white\",\"landcolor\":\"#E5ECF6\",\"subunitcolor\":\"white\",\"showland\":true,\"showlakes\":true,\"lakecolor\":\"white\"},\"title\":{\"x\":0.05},\"mapbox\":{\"style\":\"light\"}}}},                        {\"responsive\": true}                    )                };            </script>        </div>',\n",
       " ('Push day - terça',\n",
       "  'Bench Press (Barbell)'): '<div>                        <script type=\"text/javascript\">window.PlotlyConfig = {MathJaxConfig: \\'local\\'};</script>\\n        <script charset=\"utf-8\" src=\"https://cdn.plot.ly/plotly-3.0.1.min.js\"></script>                <div id=\"f3c3828b-9098-4e60-8021-625d869d22f0\" class=\"plotly-graph-div\" style=\"height:100%; width:100%;\"></div>            <script type=\"text/javascript\">                window.PLOTLYENV=window.PLOTLYENV || {};                                if (document.getElementById(\"f3c3828b-9098-4e60-8021-625d869d22f0\")) {                    Plotly.newPlot(                        \"f3c3828b-9098-4e60-8021-625d869d22f0\",                        [{\"mode\":\"lines+markers+text\",\"name\":\"Top Set (Failure)\",\"text\":[\"5 reps\",\"4 reps\",\"6 reps\",\"7 reps\",\"2 reps\"],\"textposition\":\"top center\",\"visible\":true,\"x\":[\"2025-04-15\",\"2025-04-08\",\"2025-04-01\",\"2025-03-25\",\"2025-03-18\"],\"y\":{\"dtype\":\"f8\",\"bdata\":\"AAAAAADAV0AAAAAAAMBXQAAAAAAAgFZAAAAAAACAVkAAAAAAAEBaQA==\"},\"type\":\"scatter\"},{\"mode\":\"lines+markers+text\",\"name\":\"Work Set 1\",\"text\":[\"4 reps\",\"5 reps\",\"4 reps\",\"3 reps\",\"4 reps\"],\"textposition\":\"top center\",\"visible\":false,\"x\":[\"2025-04-15\",\"2025-04-08\",\"2025-04-01\",\"2025-03-25\",\"2025-03-18\"],\"y\":{\"dtype\":\"f8\",\"bdata\":\"AAAAAADAV0AAAAAAAMBXQAAAAAAAAFlAAAAAAABAWkAAAAAAAEBaQA==\"},\"type\":\"scatter\"},{\"mode\":\"lines+markers+text\",\"name\":\"Work Set 2\",\"text\":[],\"textposition\":\"top center\",\"visible\":false,\"x\":[],\"y\":[],\"type\":\"scatter\"}],                        {\"hovermode\":\"closest\",\"title\":{\"text\":\"Evolu\\\\u00e7\\\\u00e3o no Bench Press (Barbell) (Push day - ter\\\\u00e7a)\"},\"updatemenus\":[{\"active\":0,\"bgcolor\":\"white\",\"bordercolor\":\"gray\",\"borderwidth\":1,\"buttons\":[{\"args\":[{\"x\":[[\"2025-04-15\",\"2025-04-08\",\"2025-04-01\",\"2025-03-25\",\"2025-03-18\"],[\"2025-04-15\",\"2025-04-08\",\"2025-04-01\",\"2025-03-25\",\"2025-03-18\"],[]],\"y\":[[95.0,95.0,90.0,90.0,105.0],[95.0,95.0,100.0,105.0,105.0],[]],\"text\":[[\"5 reps\",\"4 reps\",\"6 reps\",\"7 reps\",\"2 reps\"],[\"4 reps\",\"5 reps\",\"4 reps\",\"3 reps\",\"4 reps\"],[]]},{\"updatemenus[1].buttons\":[{\"label\":\"Top Set (Failure)\",\"method\":\"update\",\"args\":[{\"visible\":[true,false,false]}]},{\"label\":\"Work Set 1\",\"method\":\"update\",\"args\":[{\"visible\":[false,true,false]}]},{\"label\":\"Todas as s\\\\u00e9ries\",\"method\":\"update\",\"args\":[{\"visible\":[true,true,false]}]}],\"title\":\"Evolu\\\\u00e7\\\\u00e3o no Bench Press (Barbell) (Push day - ter\\\\u00e7a) - \\\\u00daltimos 30 dias\"}],\"label\":\"\\\\u00daltimos 30 dias\",\"method\":\"update\"},{\"args\":[{\"x\":[[\"2025-04-15\",\"2025-04-08\",\"2025-04-01\",\"2025-03-25\",\"2025-03-18\",\"2025-03-11\",\"2025-03-04\",\"2025-02-25\"],[\"2025-04-15\",\"2025-04-08\",\"2025-04-01\",\"2025-03-25\",\"2025-03-18\",\"2025-03-11\",\"2025-03-04\",\"2025-02-25\"],[]],\"y\":[[95.0,95.0,90.0,90.0,105.0,105.0,105.0,95.0],[95.0,95.0,100.0,105.0,105.0,105.0,105.0,85.0],[]],\"text\":[[\"5 reps\",\"4 reps\",\"6 reps\",\"7 reps\",\"2 reps\",\"2 reps\",\"4 reps\",\"5 reps\"],[\"4 reps\",\"5 reps\",\"4 reps\",\"3 reps\",\"4 reps\",\"3 reps\",\"4 reps\",\"7 reps\"],[]]},{\"updatemenus[1].buttons\":[{\"label\":\"Top Set (Failure)\",\"method\":\"update\",\"args\":[{\"visible\":[true,false,false]}]},{\"label\":\"Work Set 1\",\"method\":\"update\",\"args\":[{\"visible\":[false,true,false]}]},{\"label\":\"Todas as s\\\\u00e9ries\",\"method\":\"update\",\"args\":[{\"visible\":[true,true,false]}]}]}],\"label\":\"\\\\u00daltimos 60 dias\",\"method\":\"update\"},{\"args\":[{\"x\":[[\"2025-04-15\",\"2025-04-08\",\"2025-04-01\",\"2025-03-25\",\"2025-03-18\",\"2025-03-11\",\"2025-03-04\",\"2025-02-25\",\"2025-02-04\",\"2025-01-28\",\"2025-01-21\"],[\"2025-04-15\",\"2025-04-08\",\"2025-04-01\",\"2025-03-25\",\"2025-03-18\",\"2025-03-11\",\"2025-03-04\",\"2025-02-25\",\"2025-02-04\",\"2025-01-28\",\"2025-01-21\"],[\"2025-02-04\",\"2025-01-28\",\"2025-01-21\"]],\"y\":[[95.0,95.0,90.0,90.0,105.0,105.0,105.0,95.0,105.0,105.0,105.0],[95.0,95.0,100.0,105.0,105.0,105.0,105.0,85.0,105.0,105.0,100.0],[105.0,105.0,100.0]],\"text\":[[\"5 reps\",\"4 reps\",\"6 reps\",\"7 reps\",\"2 reps\",\"2 reps\",\"4 reps\",\"5 reps\",\"4 reps\",\"3 reps\",\"4 reps\"],[\"4 reps\",\"5 reps\",\"4 reps\",\"3 reps\",\"4 reps\",\"3 reps\",\"4 reps\",\"7 reps\",\"4 reps\",\"4 reps\",\"6 reps\"],[\"4 reps\",\"4 reps\",\"6 reps\"]]},{\"updatemenus[1].buttons\":[{\"label\":\"Top Set (Failure)\",\"method\":\"update\",\"args\":[{\"visible\":[true,false,false]}]},{\"label\":\"Work Set 1\",\"method\":\"update\",\"args\":[{\"visible\":[false,true,false]}]},{\"label\":\"Work Set 2\",\"method\":\"update\",\"args\":[{\"visible\":[false,false,true]}]},{\"label\":\"Todas as s\\\\u00e9ries\",\"method\":\"update\",\"args\":[{\"visible\":[true,true,true]}]}]}],\"label\":\"\\\\u00daltimos 90 dias\",\"method\":\"update\"}],\"direction\":\"down\",\"pad\":{\"r\":10,\"t\":10},\"showactive\":true,\"x\":0.6,\"xanchor\":\"left\",\"y\":1.2,\"yanchor\":\"top\"},{\"active\":0,\"bgcolor\":\"white\",\"bordercolor\":\"gray\",\"borderwidth\":1,\"buttons\":[{\"args\":[{\"visible\":[true,false,false]}],\"label\":\"Top Set (Failure)\",\"method\":\"update\"},{\"args\":[{\"visible\":[false,true,false]}],\"label\":\"Work Set 1\",\"method\":\"update\"},{\"args\":[{\"visible\":[true,true,false]}],\"label\":\"Todas as s\\\\u00e9ries\",\"method\":\"update\"}],\"direction\":\"down\",\"pad\":{\"r\":10,\"t\":10},\"showactive\":true,\"x\":0.99,\"xanchor\":\"right\",\"y\":1.2,\"yanchor\":\"top\"}],\"xaxis\":{\"tickformat\":\"%d\\\\u002f%m\\\\u002f%Y\",\"title\":{\"text\":\"Data\"}},\"yaxis\":{\"title\":{\"text\":\"Peso (kg)\"}},\"template\":{\"data\":{\"histogram2dcontour\":[{\"type\":\"histogram2dcontour\",\"colorbar\":{\"outlinewidth\":0,\"ticks\":\"\"},\"colorscale\":[[0.0,\"#0d0887\"],[0.1111111111111111,\"#46039f\"],[0.2222222222222222,\"#7201a8\"],[0.3333333333333333,\"#9c179e\"],[0.4444444444444444,\"#bd3786\"],[0.5555555555555556,\"#d8576b\"],[0.6666666666666666,\"#ed7953\"],[0.7777777777777778,\"#fb9f3a\"],[0.8888888888888888,\"#fdca26\"],[1.0,\"#f0f921\"]]}],\"choropleth\":[{\"type\":\"choropleth\",\"colorbar\":{\"outlinewidth\":0,\"ticks\":\"\"}}],\"histogram2d\":[{\"type\":\"histogram2d\",\"colorbar\":{\"outlinewidth\":0,\"ticks\":\"\"},\"colorscale\":[[0.0,\"#0d0887\"],[0.1111111111111111,\"#46039f\"],[0.2222222222222222,\"#7201a8\"],[0.3333333333333333,\"#9c179e\"],[0.4444444444444444,\"#bd3786\"],[0.5555555555555556,\"#d8576b\"],[0.6666666666666666,\"#ed7953\"],[0.7777777777777778,\"#fb9f3a\"],[0.8888888888888888,\"#fdca26\"],[1.0,\"#f0f921\"]]}],\"heatmap\":[{\"type\":\"heatmap\",\"colorbar\":{\"outlinewidth\":0,\"ticks\":\"\"},\"colorscale\":[[0.0,\"#0d0887\"],[0.1111111111111111,\"#46039f\"],[0.2222222222222222,\"#7201a8\"],[0.3333333333333333,\"#9c179e\"],[0.4444444444444444,\"#bd3786\"],[0.5555555555555556,\"#d8576b\"],[0.6666666666666666,\"#ed7953\"],[0.7777777777777778,\"#fb9f3a\"],[0.8888888888888888,\"#fdca26\"],[1.0,\"#f0f921\"]]}],\"contourcarpet\":[{\"type\":\"contourcarpet\",\"colorbar\":{\"outlinewidth\":0,\"ticks\":\"\"}}],\"contour\":[{\"type\":\"contour\",\"colorbar\":{\"outlinewidth\":0,\"ticks\":\"\"},\"colorscale\":[[0.0,\"#0d0887\"],[0.1111111111111111,\"#46039f\"],[0.2222222222222222,\"#7201a8\"],[0.3333333333333333,\"#9c179e\"],[0.4444444444444444,\"#bd3786\"],[0.5555555555555556,\"#d8576b\"],[0.6666666666666666,\"#ed7953\"],[0.7777777777777778,\"#fb9f3a\"],[0.8888888888888888,\"#fdca26\"],[1.0,\"#f0f921\"]]}],\"surface\":[{\"type\":\"surface\",\"colorbar\":{\"outlinewidth\":0,\"ticks\":\"\"},\"colorscale\":[[0.0,\"#0d0887\"],[0.1111111111111111,\"#46039f\"],[0.2222222222222222,\"#7201a8\"],[0.3333333333333333,\"#9c179e\"],[0.4444444444444444,\"#bd3786\"],[0.5555555555555556,\"#d8576b\"],[0.6666666666666666,\"#ed7953\"],[0.7777777777777778,\"#fb9f3a\"],[0.8888888888888888,\"#fdca26\"],[1.0,\"#f0f921\"]]}],\"mesh3d\":[{\"type\":\"mesh3d\",\"colorbar\":{\"outlinewidth\":0,\"ticks\":\"\"}}],\"scatter\":[{\"fillpattern\":{\"fillmode\":\"overlay\",\"size\":10,\"solidity\":0.2},\"type\":\"scatter\"}],\"parcoords\":[{\"type\":\"parcoords\",\"line\":{\"colorbar\":{\"outlinewidth\":0,\"ticks\":\"\"}}}],\"scatterpolargl\":[{\"type\":\"scatterpolargl\",\"marker\":{\"colorbar\":{\"outlinewidth\":0,\"ticks\":\"\"}}}],\"bar\":[{\"error_x\":{\"color\":\"#2a3f5f\"},\"error_y\":{\"color\":\"#2a3f5f\"},\"marker\":{\"line\":{\"color\":\"#E5ECF6\",\"width\":0.5},\"pattern\":{\"fillmode\":\"overlay\",\"size\":10,\"solidity\":0.2}},\"type\":\"bar\"}],\"scattergeo\":[{\"type\":\"scattergeo\",\"marker\":{\"colorbar\":{\"outlinewidth\":0,\"ticks\":\"\"}}}],\"scatterpolar\":[{\"type\":\"scatterpolar\",\"marker\":{\"colorbar\":{\"outlinewidth\":0,\"ticks\":\"\"}}}],\"histogram\":[{\"marker\":{\"pattern\":{\"fillmode\":\"overlay\",\"size\":10,\"solidity\":0.2}},\"type\":\"histogram\"}],\"scattergl\":[{\"type\":\"scattergl\",\"marker\":{\"colorbar\":{\"outlinewidth\":0,\"ticks\":\"\"}}}],\"scatter3d\":[{\"type\":\"scatter3d\",\"line\":{\"colorbar\":{\"outlinewidth\":0,\"ticks\":\"\"}},\"marker\":{\"colorbar\":{\"outlinewidth\":0,\"ticks\":\"\"}}}],\"scattermap\":[{\"type\":\"scattermap\",\"marker\":{\"colorbar\":{\"outlinewidth\":0,\"ticks\":\"\"}}}],\"scattermapbox\":[{\"type\":\"scattermapbox\",\"marker\":{\"colorbar\":{\"outlinewidth\":0,\"ticks\":\"\"}}}],\"scatterternary\":[{\"type\":\"scatterternary\",\"marker\":{\"colorbar\":{\"outlinewidth\":0,\"ticks\":\"\"}}}],\"scattercarpet\":[{\"type\":\"scattercarpet\",\"marker\":{\"colorbar\":{\"outlinewidth\":0,\"ticks\":\"\"}}}],\"carpet\":[{\"aaxis\":{\"endlinecolor\":\"#2a3f5f\",\"gridcolor\":\"white\",\"linecolor\":\"white\",\"minorgridcolor\":\"white\",\"startlinecolor\":\"#2a3f5f\"},\"baxis\":{\"endlinecolor\":\"#2a3f5f\",\"gridcolor\":\"white\",\"linecolor\":\"white\",\"minorgridcolor\":\"white\",\"startlinecolor\":\"#2a3f5f\"},\"type\":\"carpet\"}],\"table\":[{\"cells\":{\"fill\":{\"color\":\"#EBF0F8\"},\"line\":{\"color\":\"white\"}},\"header\":{\"fill\":{\"color\":\"#C8D4E3\"},\"line\":{\"color\":\"white\"}},\"type\":\"table\"}],\"barpolar\":[{\"marker\":{\"line\":{\"color\":\"#E5ECF6\",\"width\":0.5},\"pattern\":{\"fillmode\":\"overlay\",\"size\":10,\"solidity\":0.2}},\"type\":\"barpolar\"}],\"pie\":[{\"automargin\":true,\"type\":\"pie\"}]},\"layout\":{\"autotypenumbers\":\"strict\",\"colorway\":[\"#636efa\",\"#EF553B\",\"#00cc96\",\"#ab63fa\",\"#FFA15A\",\"#19d3f3\",\"#FF6692\",\"#B6E880\",\"#FF97FF\",\"#FECB52\"],\"font\":{\"color\":\"#2a3f5f\"},\"hovermode\":\"closest\",\"hoverlabel\":{\"align\":\"left\"},\"paper_bgcolor\":\"white\",\"plot_bgcolor\":\"#E5ECF6\",\"polar\":{\"bgcolor\":\"#E5ECF6\",\"angularaxis\":{\"gridcolor\":\"white\",\"linecolor\":\"white\",\"ticks\":\"\"},\"radialaxis\":{\"gridcolor\":\"white\",\"linecolor\":\"white\",\"ticks\":\"\"}},\"ternary\":{\"bgcolor\":\"#E5ECF6\",\"aaxis\":{\"gridcolor\":\"white\",\"linecolor\":\"white\",\"ticks\":\"\"},\"baxis\":{\"gridcolor\":\"white\",\"linecolor\":\"white\",\"ticks\":\"\"},\"caxis\":{\"gridcolor\":\"white\",\"linecolor\":\"white\",\"ticks\":\"\"}},\"coloraxis\":{\"colorbar\":{\"outlinewidth\":0,\"ticks\":\"\"}},\"colorscale\":{\"sequential\":[[0.0,\"#0d0887\"],[0.1111111111111111,\"#46039f\"],[0.2222222222222222,\"#7201a8\"],[0.3333333333333333,\"#9c179e\"],[0.4444444444444444,\"#bd3786\"],[0.5555555555555556,\"#d8576b\"],[0.6666666666666666,\"#ed7953\"],[0.7777777777777778,\"#fb9f3a\"],[0.8888888888888888,\"#fdca26\"],[1.0,\"#f0f921\"]],\"sequentialminus\":[[0.0,\"#0d0887\"],[0.1111111111111111,\"#46039f\"],[0.2222222222222222,\"#7201a8\"],[0.3333333333333333,\"#9c179e\"],[0.4444444444444444,\"#bd3786\"],[0.5555555555555556,\"#d8576b\"],[0.6666666666666666,\"#ed7953\"],[0.7777777777777778,\"#fb9f3a\"],[0.8888888888888888,\"#fdca26\"],[1.0,\"#f0f921\"]],\"diverging\":[[0,\"#8e0152\"],[0.1,\"#c51b7d\"],[0.2,\"#de77ae\"],[0.3,\"#f1b6da\"],[0.4,\"#fde0ef\"],[0.5,\"#f7f7f7\"],[0.6,\"#e6f5d0\"],[0.7,\"#b8e186\"],[0.8,\"#7fbc41\"],[0.9,\"#4d9221\"],[1,\"#276419\"]]},\"xaxis\":{\"gridcolor\":\"white\",\"linecolor\":\"white\",\"ticks\":\"\",\"title\":{\"standoff\":15},\"zerolinecolor\":\"white\",\"automargin\":true,\"zerolinewidth\":2},\"yaxis\":{\"gridcolor\":\"white\",\"linecolor\":\"white\",\"ticks\":\"\",\"title\":{\"standoff\":15},\"zerolinecolor\":\"white\",\"automargin\":true,\"zerolinewidth\":2},\"scene\":{\"xaxis\":{\"backgroundcolor\":\"#E5ECF6\",\"gridcolor\":\"white\",\"linecolor\":\"white\",\"showbackground\":true,\"ticks\":\"\",\"zerolinecolor\":\"white\",\"gridwidth\":2},\"yaxis\":{\"backgroundcolor\":\"#E5ECF6\",\"gridcolor\":\"white\",\"linecolor\":\"white\",\"showbackground\":true,\"ticks\":\"\",\"zerolinecolor\":\"white\",\"gridwidth\":2},\"zaxis\":{\"backgroundcolor\":\"#E5ECF6\",\"gridcolor\":\"white\",\"linecolor\":\"white\",\"showbackground\":true,\"ticks\":\"\",\"zerolinecolor\":\"white\",\"gridwidth\":2}},\"shapedefaults\":{\"line\":{\"color\":\"#2a3f5f\"}},\"annotationdefaults\":{\"arrowcolor\":\"#2a3f5f\",\"arrowhead\":0,\"arrowwidth\":1},\"geo\":{\"bgcolor\":\"white\",\"landcolor\":\"#E5ECF6\",\"subunitcolor\":\"white\",\"showland\":true,\"showlakes\":true,\"lakecolor\":\"white\"},\"title\":{\"x\":0.05},\"mapbox\":{\"style\":\"light\"}}}},                        {\"responsive\": true}                    )                };            </script>        </div>',\n",
       " ('Push day - terça',\n",
       "  'Seated Chest Flys (Cable)'): '<div>                        <script type=\"text/javascript\">window.PlotlyConfig = {MathJaxConfig: \\'local\\'};</script>\\n        <script charset=\"utf-8\" src=\"https://cdn.plot.ly/plotly-3.0.1.min.js\"></script>                <div id=\"c088ee6c-0054-4034-9d76-66ec39ffda07\" class=\"plotly-graph-div\" style=\"height:100%; width:100%;\"></div>            <script type=\"text/javascript\">                window.PLOTLYENV=window.PLOTLYENV || {};                                if (document.getElementById(\"c088ee6c-0054-4034-9d76-66ec39ffda07\")) {                    Plotly.newPlot(                        \"c088ee6c-0054-4034-9d76-66ec39ffda07\",                        [{\"mode\":\"lines+markers+text\",\"name\":\"Top Set (Failure)\",\"text\":[\"6 reps\",\"7 reps\",\"7 reps\",\"6 reps\",\"6 reps\"],\"textposition\":\"top center\",\"visible\":true,\"x\":[\"2025-04-15\",\"2025-04-08\",\"2025-04-01\",\"2025-03-25\",\"2025-03-18\"],\"y\":{\"dtype\":\"f8\",\"bdata\":\"AAAAAAAAKkAAAAAAAAAqQAAAAAAAgCZAAAAAAABAMEAAAAAAAEAwQA==\"},\"type\":\"scatter\"},{\"mode\":\"lines+markers+text\",\"name\":\"Work Set 1\",\"text\":[\"9 reps\",\"8 reps\",\"9 reps\",\"8 reps\",\"8 reps\"],\"textposition\":\"top center\",\"visible\":false,\"x\":[\"2025-04-15\",\"2025-04-08\",\"2025-04-01\",\"2025-03-25\",\"2025-03-18\"],\"y\":{\"dtype\":\"f8\",\"bdata\":\"AAAAAACAJkAAAAAAAIAmQAAAAAAAACRAAAAAAAAALkAAAAAAAAAuQA==\"},\"type\":\"scatter\"},{\"mode\":\"lines+markers+text\",\"name\":\"Work Set 2\",\"text\":[\"8 reps\"],\"textposition\":\"top center\",\"visible\":false,\"x\":[\"2025-03-18\"],\"y\":{\"dtype\":\"f8\",\"bdata\":\"AAAAAAAALkA=\"},\"type\":\"scatter\"}],                        {\"hovermode\":\"closest\",\"title\":{\"text\":\"Evolu\\\\u00e7\\\\u00e3o no Seated Chest Flys (Cable) (Push day - ter\\\\u00e7a)\"},\"updatemenus\":[{\"active\":0,\"bgcolor\":\"white\",\"bordercolor\":\"gray\",\"borderwidth\":1,\"buttons\":[{\"args\":[{\"x\":[[\"2025-04-15\",\"2025-04-08\",\"2025-04-01\",\"2025-03-25\",\"2025-03-18\"],[\"2025-04-15\",\"2025-04-08\",\"2025-04-01\",\"2025-03-25\",\"2025-03-18\"],[\"2025-03-18\"]],\"y\":[[13.0,13.0,11.25,16.25,16.25],[11.25,11.25,10.0,15.0,15.0],[15.0]],\"text\":[[\"6 reps\",\"7 reps\",\"7 reps\",\"6 reps\",\"6 reps\"],[\"9 reps\",\"8 reps\",\"9 reps\",\"8 reps\",\"8 reps\"],[\"8 reps\"]]},{\"updatemenus[1].buttons\":[{\"label\":\"Top Set (Failure)\",\"method\":\"update\",\"args\":[{\"visible\":[true,false,false]}]},{\"label\":\"Work Set 1\",\"method\":\"update\",\"args\":[{\"visible\":[false,true,false]}]},{\"label\":\"Work Set 2\",\"method\":\"update\",\"args\":[{\"visible\":[false,false,true]}]},{\"label\":\"Todas as s\\\\u00e9ries\",\"method\":\"update\",\"args\":[{\"visible\":[true,true,true]}]}],\"title\":\"Evolu\\\\u00e7\\\\u00e3o no Seated Chest Flys (Cable) (Push day - ter\\\\u00e7a) - \\\\u00daltimos 30 dias\"}],\"label\":\"\\\\u00daltimos 30 dias\",\"method\":\"update\"},{\"args\":[{\"x\":[[\"2025-04-15\",\"2025-04-08\",\"2025-04-01\",\"2025-03-25\",\"2025-03-18\",\"2025-03-11\",\"2025-03-04\",\"2025-02-25\"],[\"2025-04-15\",\"2025-04-08\",\"2025-04-01\",\"2025-03-25\",\"2025-03-18\",\"2025-03-11\",\"2025-03-04\",\"2025-02-25\"],[\"2025-03-18\",\"2025-03-11\",\"2025-03-04\",\"2025-02-25\"]],\"y\":[[13.0,13.0,11.25,16.25,16.25,15.0,14.25,10.0],[11.25,11.25,10.0,15.0,15.0,14.25,13.0,10.0],[15.0,14.25,13.0,10.0]],\"text\":[[\"6 reps\",\"7 reps\",\"7 reps\",\"6 reps\",\"6 reps\",\"7 reps\",\"6 reps\",\"7 reps\"],[\"9 reps\",\"8 reps\",\"9 reps\",\"8 reps\",\"8 reps\",\"8 reps\",\"9 reps\",\"9 reps\"],[\"8 reps\",\"8 reps\",\"8 reps\",\"8 reps\"]]},{\"updatemenus[1].buttons\":[{\"label\":\"Top Set (Failure)\",\"method\":\"update\",\"args\":[{\"visible\":[true,false,false]}]},{\"label\":\"Work Set 1\",\"method\":\"update\",\"args\":[{\"visible\":[false,true,false]}]},{\"label\":\"Work Set 2\",\"method\":\"update\",\"args\":[{\"visible\":[false,false,true]}]},{\"label\":\"Todas as s\\\\u00e9ries\",\"method\":\"update\",\"args\":[{\"visible\":[true,true,true]}]}]}],\"label\":\"\\\\u00daltimos 60 dias\",\"method\":\"update\"},{\"args\":[{\"x\":[[\"2025-04-15\",\"2025-04-08\",\"2025-04-01\",\"2025-03-25\",\"2025-03-18\",\"2025-03-11\",\"2025-03-04\",\"2025-02-25\",\"2025-02-04\",\"2025-01-28\",\"2025-01-21\"],[\"2025-04-15\",\"2025-04-08\",\"2025-04-01\",\"2025-03-25\",\"2025-03-18\",\"2025-03-11\",\"2025-03-04\",\"2025-02-25\",\"2025-02-04\",\"2025-01-28\",\"2025-01-21\"],[\"2025-03-18\",\"2025-03-11\",\"2025-03-04\",\"2025-02-25\",\"2025-02-04\",\"2025-01-28\",\"2025-01-21\"]],\"y\":[[13.0,13.0,11.25,16.25,16.25,15.0,14.25,10.0,14.25,13.0,13.0],[11.25,11.25,10.0,15.0,15.0,14.25,13.0,10.0,13.0,13.0,15.0],[15.0,14.25,13.0,10.0,13.0,13.0,15.0]],\"text\":[[\"6 reps\",\"7 reps\",\"7 reps\",\"6 reps\",\"6 reps\",\"7 reps\",\"6 reps\",\"7 reps\",\"7 reps\",\"6 reps\",\"8 reps\"],[\"9 reps\",\"8 reps\",\"9 reps\",\"8 reps\",\"8 reps\",\"8 reps\",\"9 reps\",\"9 reps\",\"8 reps\",\"8 reps\",\"8 reps\"],[\"8 reps\",\"8 reps\",\"8 reps\",\"8 reps\",\"8 reps\",\"8 reps\",\"7 reps\"]]},{\"updatemenus[1].buttons\":[{\"label\":\"Top Set (Failure)\",\"method\":\"update\",\"args\":[{\"visible\":[true,false,false]}]},{\"label\":\"Work Set 1\",\"method\":\"update\",\"args\":[{\"visible\":[false,true,false]}]},{\"label\":\"Work Set 2\",\"method\":\"update\",\"args\":[{\"visible\":[false,false,true]}]},{\"label\":\"Todas as s\\\\u00e9ries\",\"method\":\"update\",\"args\":[{\"visible\":[true,true,true]}]}]}],\"label\":\"\\\\u00daltimos 90 dias\",\"method\":\"update\"}],\"direction\":\"down\",\"pad\":{\"r\":10,\"t\":10},\"showactive\":true,\"x\":0.6,\"xanchor\":\"left\",\"y\":1.2,\"yanchor\":\"top\"},{\"active\":0,\"bgcolor\":\"white\",\"bordercolor\":\"gray\",\"borderwidth\":1,\"buttons\":[{\"args\":[{\"visible\":[true,false,false]}],\"label\":\"Top Set (Failure)\",\"method\":\"update\"},{\"args\":[{\"visible\":[false,true,false]}],\"label\":\"Work Set 1\",\"method\":\"update\"},{\"args\":[{\"visible\":[false,false,true]}],\"label\":\"Work Set 2\",\"method\":\"update\"},{\"args\":[{\"visible\":[true,true,true]}],\"label\":\"Todas as s\\\\u00e9ries\",\"method\":\"update\"}],\"direction\":\"down\",\"pad\":{\"r\":10,\"t\":10},\"showactive\":true,\"x\":0.99,\"xanchor\":\"right\",\"y\":1.2,\"yanchor\":\"top\"}],\"xaxis\":{\"tickformat\":\"%d\\\\u002f%m\\\\u002f%Y\",\"title\":{\"text\":\"Data\"}},\"yaxis\":{\"title\":{\"text\":\"Peso (kg)\"}},\"template\":{\"data\":{\"histogram2dcontour\":[{\"type\":\"histogram2dcontour\",\"colorbar\":{\"outlinewidth\":0,\"ticks\":\"\"},\"colorscale\":[[0.0,\"#0d0887\"],[0.1111111111111111,\"#46039f\"],[0.2222222222222222,\"#7201a8\"],[0.3333333333333333,\"#9c179e\"],[0.4444444444444444,\"#bd3786\"],[0.5555555555555556,\"#d8576b\"],[0.6666666666666666,\"#ed7953\"],[0.7777777777777778,\"#fb9f3a\"],[0.8888888888888888,\"#fdca26\"],[1.0,\"#f0f921\"]]}],\"choropleth\":[{\"type\":\"choropleth\",\"colorbar\":{\"outlinewidth\":0,\"ticks\":\"\"}}],\"histogram2d\":[{\"type\":\"histogram2d\",\"colorbar\":{\"outlinewidth\":0,\"ticks\":\"\"},\"colorscale\":[[0.0,\"#0d0887\"],[0.1111111111111111,\"#46039f\"],[0.2222222222222222,\"#7201a8\"],[0.3333333333333333,\"#9c179e\"],[0.4444444444444444,\"#bd3786\"],[0.5555555555555556,\"#d8576b\"],[0.6666666666666666,\"#ed7953\"],[0.7777777777777778,\"#fb9f3a\"],[0.8888888888888888,\"#fdca26\"],[1.0,\"#f0f921\"]]}],\"heatmap\":[{\"type\":\"heatmap\",\"colorbar\":{\"outlinewidth\":0,\"ticks\":\"\"},\"colorscale\":[[0.0,\"#0d0887\"],[0.1111111111111111,\"#46039f\"],[0.2222222222222222,\"#7201a8\"],[0.3333333333333333,\"#9c179e\"],[0.4444444444444444,\"#bd3786\"],[0.5555555555555556,\"#d8576b\"],[0.6666666666666666,\"#ed7953\"],[0.7777777777777778,\"#fb9f3a\"],[0.8888888888888888,\"#fdca26\"],[1.0,\"#f0f921\"]]}],\"contourcarpet\":[{\"type\":\"contourcarpet\",\"colorbar\":{\"outlinewidth\":0,\"ticks\":\"\"}}],\"contour\":[{\"type\":\"contour\",\"colorbar\":{\"outlinewidth\":0,\"ticks\":\"\"},\"colorscale\":[[0.0,\"#0d0887\"],[0.1111111111111111,\"#46039f\"],[0.2222222222222222,\"#7201a8\"],[0.3333333333333333,\"#9c179e\"],[0.4444444444444444,\"#bd3786\"],[0.5555555555555556,\"#d8576b\"],[0.6666666666666666,\"#ed7953\"],[0.7777777777777778,\"#fb9f3a\"],[0.8888888888888888,\"#fdca26\"],[1.0,\"#f0f921\"]]}],\"surface\":[{\"type\":\"surface\",\"colorbar\":{\"outlinewidth\":0,\"ticks\":\"\"},\"colorscale\":[[0.0,\"#0d0887\"],[0.1111111111111111,\"#46039f\"],[0.2222222222222222,\"#7201a8\"],[0.3333333333333333,\"#9c179e\"],[0.4444444444444444,\"#bd3786\"],[0.5555555555555556,\"#d8576b\"],[0.6666666666666666,\"#ed7953\"],[0.7777777777777778,\"#fb9f3a\"],[0.8888888888888888,\"#fdca26\"],[1.0,\"#f0f921\"]]}],\"mesh3d\":[{\"type\":\"mesh3d\",\"colorbar\":{\"outlinewidth\":0,\"ticks\":\"\"}}],\"scatter\":[{\"fillpattern\":{\"fillmode\":\"overlay\",\"size\":10,\"solidity\":0.2},\"type\":\"scatter\"}],\"parcoords\":[{\"type\":\"parcoords\",\"line\":{\"colorbar\":{\"outlinewidth\":0,\"ticks\":\"\"}}}],\"scatterpolargl\":[{\"type\":\"scatterpolargl\",\"marker\":{\"colorbar\":{\"outlinewidth\":0,\"ticks\":\"\"}}}],\"bar\":[{\"error_x\":{\"color\":\"#2a3f5f\"},\"error_y\":{\"color\":\"#2a3f5f\"},\"marker\":{\"line\":{\"color\":\"#E5ECF6\",\"width\":0.5},\"pattern\":{\"fillmode\":\"overlay\",\"size\":10,\"solidity\":0.2}},\"type\":\"bar\"}],\"scattergeo\":[{\"type\":\"scattergeo\",\"marker\":{\"colorbar\":{\"outlinewidth\":0,\"ticks\":\"\"}}}],\"scatterpolar\":[{\"type\":\"scatterpolar\",\"marker\":{\"colorbar\":{\"outlinewidth\":0,\"ticks\":\"\"}}}],\"histogram\":[{\"marker\":{\"pattern\":{\"fillmode\":\"overlay\",\"size\":10,\"solidity\":0.2}},\"type\":\"histogram\"}],\"scattergl\":[{\"type\":\"scattergl\",\"marker\":{\"colorbar\":{\"outlinewidth\":0,\"ticks\":\"\"}}}],\"scatter3d\":[{\"type\":\"scatter3d\",\"line\":{\"colorbar\":{\"outlinewidth\":0,\"ticks\":\"\"}},\"marker\":{\"colorbar\":{\"outlinewidth\":0,\"ticks\":\"\"}}}],\"scattermap\":[{\"type\":\"scattermap\",\"marker\":{\"colorbar\":{\"outlinewidth\":0,\"ticks\":\"\"}}}],\"scattermapbox\":[{\"type\":\"scattermapbox\",\"marker\":{\"colorbar\":{\"outlinewidth\":0,\"ticks\":\"\"}}}],\"scatterternary\":[{\"type\":\"scatterternary\",\"marker\":{\"colorbar\":{\"outlinewidth\":0,\"ticks\":\"\"}}}],\"scattercarpet\":[{\"type\":\"scattercarpet\",\"marker\":{\"colorbar\":{\"outlinewidth\":0,\"ticks\":\"\"}}}],\"carpet\":[{\"aaxis\":{\"endlinecolor\":\"#2a3f5f\",\"gridcolor\":\"white\",\"linecolor\":\"white\",\"minorgridcolor\":\"white\",\"startlinecolor\":\"#2a3f5f\"},\"baxis\":{\"endlinecolor\":\"#2a3f5f\",\"gridcolor\":\"white\",\"linecolor\":\"white\",\"minorgridcolor\":\"white\",\"startlinecolor\":\"#2a3f5f\"},\"type\":\"carpet\"}],\"table\":[{\"cells\":{\"fill\":{\"color\":\"#EBF0F8\"},\"line\":{\"color\":\"white\"}},\"header\":{\"fill\":{\"color\":\"#C8D4E3\"},\"line\":{\"color\":\"white\"}},\"type\":\"table\"}],\"barpolar\":[{\"marker\":{\"line\":{\"color\":\"#E5ECF6\",\"width\":0.5},\"pattern\":{\"fillmode\":\"overlay\",\"size\":10,\"solidity\":0.2}},\"type\":\"barpolar\"}],\"pie\":[{\"automargin\":true,\"type\":\"pie\"}]},\"layout\":{\"autotypenumbers\":\"strict\",\"colorway\":[\"#636efa\",\"#EF553B\",\"#00cc96\",\"#ab63fa\",\"#FFA15A\",\"#19d3f3\",\"#FF6692\",\"#B6E880\",\"#FF97FF\",\"#FECB52\"],\"font\":{\"color\":\"#2a3f5f\"},\"hovermode\":\"closest\",\"hoverlabel\":{\"align\":\"left\"},\"paper_bgcolor\":\"white\",\"plot_bgcolor\":\"#E5ECF6\",\"polar\":{\"bgcolor\":\"#E5ECF6\",\"angularaxis\":{\"gridcolor\":\"white\",\"linecolor\":\"white\",\"ticks\":\"\"},\"radialaxis\":{\"gridcolor\":\"white\",\"linecolor\":\"white\",\"ticks\":\"\"}},\"ternary\":{\"bgcolor\":\"#E5ECF6\",\"aaxis\":{\"gridcolor\":\"white\",\"linecolor\":\"white\",\"ticks\":\"\"},\"baxis\":{\"gridcolor\":\"white\",\"linecolor\":\"white\",\"ticks\":\"\"},\"caxis\":{\"gridcolor\":\"white\",\"linecolor\":\"white\",\"ticks\":\"\"}},\"coloraxis\":{\"colorbar\":{\"outlinewidth\":0,\"ticks\":\"\"}},\"colorscale\":{\"sequential\":[[0.0,\"#0d0887\"],[0.1111111111111111,\"#46039f\"],[0.2222222222222222,\"#7201a8\"],[0.3333333333333333,\"#9c179e\"],[0.4444444444444444,\"#bd3786\"],[0.5555555555555556,\"#d8576b\"],[0.6666666666666666,\"#ed7953\"],[0.7777777777777778,\"#fb9f3a\"],[0.8888888888888888,\"#fdca26\"],[1.0,\"#f0f921\"]],\"sequentialminus\":[[0.0,\"#0d0887\"],[0.1111111111111111,\"#46039f\"],[0.2222222222222222,\"#7201a8\"],[0.3333333333333333,\"#9c179e\"],[0.4444444444444444,\"#bd3786\"],[0.5555555555555556,\"#d8576b\"],[0.6666666666666666,\"#ed7953\"],[0.7777777777777778,\"#fb9f3a\"],[0.8888888888888888,\"#fdca26\"],[1.0,\"#f0f921\"]],\"diverging\":[[0,\"#8e0152\"],[0.1,\"#c51b7d\"],[0.2,\"#de77ae\"],[0.3,\"#f1b6da\"],[0.4,\"#fde0ef\"],[0.5,\"#f7f7f7\"],[0.6,\"#e6f5d0\"],[0.7,\"#b8e186\"],[0.8,\"#7fbc41\"],[0.9,\"#4d9221\"],[1,\"#276419\"]]},\"xaxis\":{\"gridcolor\":\"white\",\"linecolor\":\"white\",\"ticks\":\"\",\"title\":{\"standoff\":15},\"zerolinecolor\":\"white\",\"automargin\":true,\"zerolinewidth\":2},\"yaxis\":{\"gridcolor\":\"white\",\"linecolor\":\"white\",\"ticks\":\"\",\"title\":{\"standoff\":15},\"zerolinecolor\":\"white\",\"automargin\":true,\"zerolinewidth\":2},\"scene\":{\"xaxis\":{\"backgroundcolor\":\"#E5ECF6\",\"gridcolor\":\"white\",\"linecolor\":\"white\",\"showbackground\":true,\"ticks\":\"\",\"zerolinecolor\":\"white\",\"gridwidth\":2},\"yaxis\":{\"backgroundcolor\":\"#E5ECF6\",\"gridcolor\":\"white\",\"linecolor\":\"white\",\"showbackground\":true,\"ticks\":\"\",\"zerolinecolor\":\"white\",\"gridwidth\":2},\"zaxis\":{\"backgroundcolor\":\"#E5ECF6\",\"gridcolor\":\"white\",\"linecolor\":\"white\",\"showbackground\":true,\"ticks\":\"\",\"zerolinecolor\":\"white\",\"gridwidth\":2}},\"shapedefaults\":{\"line\":{\"color\":\"#2a3f5f\"}},\"annotationdefaults\":{\"arrowcolor\":\"#2a3f5f\",\"arrowhead\":0,\"arrowwidth\":1},\"geo\":{\"bgcolor\":\"white\",\"landcolor\":\"#E5ECF6\",\"subunitcolor\":\"white\",\"showland\":true,\"showlakes\":true,\"lakecolor\":\"white\"},\"title\":{\"x\":0.05},\"mapbox\":{\"style\":\"light\"}}}},                        {\"responsive\": true}                    )                };            </script>        </div>',\n",
       " ('Push day - terça',\n",
       "  'Seated Shoulder Press (Machine)'): '<div>                        <script type=\"text/javascript\">window.PlotlyConfig = {MathJaxConfig: \\'local\\'};</script>\\n        <script charset=\"utf-8\" src=\"https://cdn.plot.ly/plotly-3.0.1.min.js\"></script>                <div id=\"b0062dec-7a58-4247-9899-93c33593f2ea\" class=\"plotly-graph-div\" style=\"height:100%; width:100%;\"></div>            <script type=\"text/javascript\">                window.PLOTLYENV=window.PLOTLYENV || {};                                if (document.getElementById(\"b0062dec-7a58-4247-9899-93c33593f2ea\")) {                    Plotly.newPlot(                        \"b0062dec-7a58-4247-9899-93c33593f2ea\",                        [{\"mode\":\"lines+markers+text\",\"name\":\"Top Set (Failure)\",\"text\":[\"7 reps\",\"5 reps\",\"4 reps\",\"5 reps\",\"6 reps\"],\"textposition\":\"top center\",\"visible\":true,\"x\":[\"2025-04-15\",\"2025-04-08\",\"2025-04-01\",\"2025-03-25\",\"2025-03-18\"],\"y\":{\"dtype\":\"f8\",\"bdata\":\"AAAAAADAR0AAAAAAAMBMQAAAAAAAQFBAAAAAAABAT0AAAAAAAABOQA==\"},\"type\":\"scatter\"},{\"mode\":\"lines+markers+text\",\"name\":\"Work Set 1\",\"text\":[\"8 reps\",\"6 reps\",\"6 reps\",\"6 reps\",\"6 reps\"],\"textposition\":\"top center\",\"visible\":false,\"x\":[\"2025-04-15\",\"2025-04-08\",\"2025-04-01\",\"2025-03-25\",\"2025-03-18\"],\"y\":{\"dtype\":\"f8\",\"bdata\":\"AAAAAACARkAAAAAAAIBLQAAAAAAAQE9AAAAAAAAATkAAAAAAAMBMQA==\"},\"type\":\"scatter\"},{\"mode\":\"lines+markers+text\",\"name\":\"Work Set 2\",\"text\":[],\"textposition\":\"top center\",\"visible\":false,\"x\":[],\"y\":[],\"type\":\"scatter\"}],                        {\"hovermode\":\"closest\",\"title\":{\"text\":\"Evolu\\\\u00e7\\\\u00e3o no Seated Shoulder Press (Machine) (Push day - ter\\\\u00e7a)\"},\"updatemenus\":[{\"active\":0,\"bgcolor\":\"white\",\"bordercolor\":\"gray\",\"borderwidth\":1,\"buttons\":[{\"args\":[{\"x\":[[\"2025-04-15\",\"2025-04-08\",\"2025-04-01\",\"2025-03-25\",\"2025-03-18\"],[\"2025-04-15\",\"2025-04-08\",\"2025-04-01\",\"2025-03-25\",\"2025-03-18\"],[]],\"y\":[[47.5,57.5,65.0,62.5,60.0],[45.0,55.0,62.5,60.0,57.5],[]],\"text\":[[\"7 reps\",\"5 reps\",\"4 reps\",\"5 reps\",\"6 reps\"],[\"8 reps\",\"6 reps\",\"6 reps\",\"6 reps\",\"6 reps\"],[]]},{\"updatemenus[1].buttons\":[{\"label\":\"Top Set (Failure)\",\"method\":\"update\",\"args\":[{\"visible\":[true,false,false]}]},{\"label\":\"Work Set 1\",\"method\":\"update\",\"args\":[{\"visible\":[false,true,false]}]},{\"label\":\"Todas as s\\\\u00e9ries\",\"method\":\"update\",\"args\":[{\"visible\":[true,true,false]}]}],\"title\":\"Evolu\\\\u00e7\\\\u00e3o no Seated Shoulder Press (Machine) (Push day - ter\\\\u00e7a) - \\\\u00daltimos 30 dias\"}],\"label\":\"\\\\u00daltimos 30 dias\",\"method\":\"update\"},{\"args\":[{\"x\":[[\"2025-04-15\",\"2025-04-08\",\"2025-04-01\",\"2025-03-25\",\"2025-03-18\",\"2025-03-11\",\"2025-03-04\",\"2025-02-25\"],[\"2025-04-15\",\"2025-04-08\",\"2025-04-01\",\"2025-03-25\",\"2025-03-18\",\"2025-03-11\",\"2025-03-04\",\"2025-02-25\"],[]],\"y\":[[47.5,57.5,65.0,62.5,60.0,57.5,55.0,52.5],[45.0,55.0,62.5,60.0,57.5,55.0,52.5,52.5],[]],\"text\":[[\"7 reps\",\"5 reps\",\"4 reps\",\"5 reps\",\"6 reps\",\"5 reps\",\"4 reps\",\"6 reps\"],[\"8 reps\",\"6 reps\",\"6 reps\",\"6 reps\",\"6 reps\",\"6 reps\",\"7 reps\",\"6 reps\"],[]]},{\"updatemenus[1].buttons\":[{\"label\":\"Top Set (Failure)\",\"method\":\"update\",\"args\":[{\"visible\":[true,false,false]}]},{\"label\":\"Work Set 1\",\"method\":\"update\",\"args\":[{\"visible\":[false,true,false]}]},{\"label\":\"Todas as s\\\\u00e9ries\",\"method\":\"update\",\"args\":[{\"visible\":[true,true,false]}]}]}],\"label\":\"\\\\u00daltimos 60 dias\",\"method\":\"update\"},{\"args\":[{\"x\":[[\"2025-04-15\",\"2025-04-08\",\"2025-04-01\",\"2025-03-25\",\"2025-03-18\",\"2025-03-11\",\"2025-03-04\",\"2025-02-25\",\"2025-02-04\",\"2025-01-28\",\"2025-01-21\"],[\"2025-04-15\",\"2025-04-08\",\"2025-04-01\",\"2025-03-25\",\"2025-03-18\",\"2025-03-11\",\"2025-03-04\",\"2025-02-25\",\"2025-02-04\",\"2025-01-28\",\"2025-01-21\"],[\"2025-02-04\",\"2025-01-28\",\"2025-01-21\"]],\"y\":[[47.5,57.5,65.0,62.5,60.0,57.5,55.0,52.5,57.5,57.5,57.5],[45.0,55.0,62.5,60.0,57.5,55.0,52.5,52.5,57.5,55.0,55.0],[57.5,55.0,55.0]],\"text\":[[\"7 reps\",\"5 reps\",\"4 reps\",\"5 reps\",\"6 reps\",\"5 reps\",\"4 reps\",\"6 reps\",\"5 reps\",\"4 reps\",\"4 reps\"],[\"8 reps\",\"6 reps\",\"6 reps\",\"6 reps\",\"6 reps\",\"6 reps\",\"7 reps\",\"6 reps\",\"6 reps\",\"6 reps\",\"6 reps\"],[\"5 reps\",\"5 reps\",\"6 reps\"]]},{\"updatemenus[1].buttons\":[{\"label\":\"Top Set (Failure)\",\"method\":\"update\",\"args\":[{\"visible\":[true,false,false]}]},{\"label\":\"Work Set 1\",\"method\":\"update\",\"args\":[{\"visible\":[false,true,false]}]},{\"label\":\"Work Set 2\",\"method\":\"update\",\"args\":[{\"visible\":[false,false,true]}]},{\"label\":\"Todas as s\\\\u00e9ries\",\"method\":\"update\",\"args\":[{\"visible\":[true,true,true]}]}]}],\"label\":\"\\\\u00daltimos 90 dias\",\"method\":\"update\"}],\"direction\":\"down\",\"pad\":{\"r\":10,\"t\":10},\"showactive\":true,\"x\":0.6,\"xanchor\":\"left\",\"y\":1.2,\"yanchor\":\"top\"},{\"active\":0,\"bgcolor\":\"white\",\"bordercolor\":\"gray\",\"borderwidth\":1,\"buttons\":[{\"args\":[{\"visible\":[true,false,false]}],\"label\":\"Top Set (Failure)\",\"method\":\"update\"},{\"args\":[{\"visible\":[false,true,false]}],\"label\":\"Work Set 1\",\"method\":\"update\"},{\"args\":[{\"visible\":[true,true,false]}],\"label\":\"Todas as s\\\\u00e9ries\",\"method\":\"update\"}],\"direction\":\"down\",\"pad\":{\"r\":10,\"t\":10},\"showactive\":true,\"x\":0.99,\"xanchor\":\"right\",\"y\":1.2,\"yanchor\":\"top\"}],\"xaxis\":{\"tickformat\":\"%d\\\\u002f%m\\\\u002f%Y\",\"title\":{\"text\":\"Data\"}},\"yaxis\":{\"title\":{\"text\":\"Peso (kg)\"}},\"template\":{\"data\":{\"histogram2dcontour\":[{\"type\":\"histogram2dcontour\",\"colorbar\":{\"outlinewidth\":0,\"ticks\":\"\"},\"colorscale\":[[0.0,\"#0d0887\"],[0.1111111111111111,\"#46039f\"],[0.2222222222222222,\"#7201a8\"],[0.3333333333333333,\"#9c179e\"],[0.4444444444444444,\"#bd3786\"],[0.5555555555555556,\"#d8576b\"],[0.6666666666666666,\"#ed7953\"],[0.7777777777777778,\"#fb9f3a\"],[0.8888888888888888,\"#fdca26\"],[1.0,\"#f0f921\"]]}],\"choropleth\":[{\"type\":\"choropleth\",\"colorbar\":{\"outlinewidth\":0,\"ticks\":\"\"}}],\"histogram2d\":[{\"type\":\"histogram2d\",\"colorbar\":{\"outlinewidth\":0,\"ticks\":\"\"},\"colorscale\":[[0.0,\"#0d0887\"],[0.1111111111111111,\"#46039f\"],[0.2222222222222222,\"#7201a8\"],[0.3333333333333333,\"#9c179e\"],[0.4444444444444444,\"#bd3786\"],[0.5555555555555556,\"#d8576b\"],[0.6666666666666666,\"#ed7953\"],[0.7777777777777778,\"#fb9f3a\"],[0.8888888888888888,\"#fdca26\"],[1.0,\"#f0f921\"]]}],\"heatmap\":[{\"type\":\"heatmap\",\"colorbar\":{\"outlinewidth\":0,\"ticks\":\"\"},\"colorscale\":[[0.0,\"#0d0887\"],[0.1111111111111111,\"#46039f\"],[0.2222222222222222,\"#7201a8\"],[0.3333333333333333,\"#9c179e\"],[0.4444444444444444,\"#bd3786\"],[0.5555555555555556,\"#d8576b\"],[0.6666666666666666,\"#ed7953\"],[0.7777777777777778,\"#fb9f3a\"],[0.8888888888888888,\"#fdca26\"],[1.0,\"#f0f921\"]]}],\"contourcarpet\":[{\"type\":\"contourcarpet\",\"colorbar\":{\"outlinewidth\":0,\"ticks\":\"\"}}],\"contour\":[{\"type\":\"contour\",\"colorbar\":{\"outlinewidth\":0,\"ticks\":\"\"},\"colorscale\":[[0.0,\"#0d0887\"],[0.1111111111111111,\"#46039f\"],[0.2222222222222222,\"#7201a8\"],[0.3333333333333333,\"#9c179e\"],[0.4444444444444444,\"#bd3786\"],[0.5555555555555556,\"#d8576b\"],[0.6666666666666666,\"#ed7953\"],[0.7777777777777778,\"#fb9f3a\"],[0.8888888888888888,\"#fdca26\"],[1.0,\"#f0f921\"]]}],\"surface\":[{\"type\":\"surface\",\"colorbar\":{\"outlinewidth\":0,\"ticks\":\"\"},\"colorscale\":[[0.0,\"#0d0887\"],[0.1111111111111111,\"#46039f\"],[0.2222222222222222,\"#7201a8\"],[0.3333333333333333,\"#9c179e\"],[0.4444444444444444,\"#bd3786\"],[0.5555555555555556,\"#d8576b\"],[0.6666666666666666,\"#ed7953\"],[0.7777777777777778,\"#fb9f3a\"],[0.8888888888888888,\"#fdca26\"],[1.0,\"#f0f921\"]]}],\"mesh3d\":[{\"type\":\"mesh3d\",\"colorbar\":{\"outlinewidth\":0,\"ticks\":\"\"}}],\"scatter\":[{\"fillpattern\":{\"fillmode\":\"overlay\",\"size\":10,\"solidity\":0.2},\"type\":\"scatter\"}],\"parcoords\":[{\"type\":\"parcoords\",\"line\":{\"colorbar\":{\"outlinewidth\":0,\"ticks\":\"\"}}}],\"scatterpolargl\":[{\"type\":\"scatterpolargl\",\"marker\":{\"colorbar\":{\"outlinewidth\":0,\"ticks\":\"\"}}}],\"bar\":[{\"error_x\":{\"color\":\"#2a3f5f\"},\"error_y\":{\"color\":\"#2a3f5f\"},\"marker\":{\"line\":{\"color\":\"#E5ECF6\",\"width\":0.5},\"pattern\":{\"fillmode\":\"overlay\",\"size\":10,\"solidity\":0.2}},\"type\":\"bar\"}],\"scattergeo\":[{\"type\":\"scattergeo\",\"marker\":{\"colorbar\":{\"outlinewidth\":0,\"ticks\":\"\"}}}],\"scatterpolar\":[{\"type\":\"scatterpolar\",\"marker\":{\"colorbar\":{\"outlinewidth\":0,\"ticks\":\"\"}}}],\"histogram\":[{\"marker\":{\"pattern\":{\"fillmode\":\"overlay\",\"size\":10,\"solidity\":0.2}},\"type\":\"histogram\"}],\"scattergl\":[{\"type\":\"scattergl\",\"marker\":{\"colorbar\":{\"outlinewidth\":0,\"ticks\":\"\"}}}],\"scatter3d\":[{\"type\":\"scatter3d\",\"line\":{\"colorbar\":{\"outlinewidth\":0,\"ticks\":\"\"}},\"marker\":{\"colorbar\":{\"outlinewidth\":0,\"ticks\":\"\"}}}],\"scattermap\":[{\"type\":\"scattermap\",\"marker\":{\"colorbar\":{\"outlinewidth\":0,\"ticks\":\"\"}}}],\"scattermapbox\":[{\"type\":\"scattermapbox\",\"marker\":{\"colorbar\":{\"outlinewidth\":0,\"ticks\":\"\"}}}],\"scatterternary\":[{\"type\":\"scatterternary\",\"marker\":{\"colorbar\":{\"outlinewidth\":0,\"ticks\":\"\"}}}],\"scattercarpet\":[{\"type\":\"scattercarpet\",\"marker\":{\"colorbar\":{\"outlinewidth\":0,\"ticks\":\"\"}}}],\"carpet\":[{\"aaxis\":{\"endlinecolor\":\"#2a3f5f\",\"gridcolor\":\"white\",\"linecolor\":\"white\",\"minorgridcolor\":\"white\",\"startlinecolor\":\"#2a3f5f\"},\"baxis\":{\"endlinecolor\":\"#2a3f5f\",\"gridcolor\":\"white\",\"linecolor\":\"white\",\"minorgridcolor\":\"white\",\"startlinecolor\":\"#2a3f5f\"},\"type\":\"carpet\"}],\"table\":[{\"cells\":{\"fill\":{\"color\":\"#EBF0F8\"},\"line\":{\"color\":\"white\"}},\"header\":{\"fill\":{\"color\":\"#C8D4E3\"},\"line\":{\"color\":\"white\"}},\"type\":\"table\"}],\"barpolar\":[{\"marker\":{\"line\":{\"color\":\"#E5ECF6\",\"width\":0.5},\"pattern\":{\"fillmode\":\"overlay\",\"size\":10,\"solidity\":0.2}},\"type\":\"barpolar\"}],\"pie\":[{\"automargin\":true,\"type\":\"pie\"}]},\"layout\":{\"autotypenumbers\":\"strict\",\"colorway\":[\"#636efa\",\"#EF553B\",\"#00cc96\",\"#ab63fa\",\"#FFA15A\",\"#19d3f3\",\"#FF6692\",\"#B6E880\",\"#FF97FF\",\"#FECB52\"],\"font\":{\"color\":\"#2a3f5f\"},\"hovermode\":\"closest\",\"hoverlabel\":{\"align\":\"left\"},\"paper_bgcolor\":\"white\",\"plot_bgcolor\":\"#E5ECF6\",\"polar\":{\"bgcolor\":\"#E5ECF6\",\"angularaxis\":{\"gridcolor\":\"white\",\"linecolor\":\"white\",\"ticks\":\"\"},\"radialaxis\":{\"gridcolor\":\"white\",\"linecolor\":\"white\",\"ticks\":\"\"}},\"ternary\":{\"bgcolor\":\"#E5ECF6\",\"aaxis\":{\"gridcolor\":\"white\",\"linecolor\":\"white\",\"ticks\":\"\"},\"baxis\":{\"gridcolor\":\"white\",\"linecolor\":\"white\",\"ticks\":\"\"},\"caxis\":{\"gridcolor\":\"white\",\"linecolor\":\"white\",\"ticks\":\"\"}},\"coloraxis\":{\"colorbar\":{\"outlinewidth\":0,\"ticks\":\"\"}},\"colorscale\":{\"sequential\":[[0.0,\"#0d0887\"],[0.1111111111111111,\"#46039f\"],[0.2222222222222222,\"#7201a8\"],[0.3333333333333333,\"#9c179e\"],[0.4444444444444444,\"#bd3786\"],[0.5555555555555556,\"#d8576b\"],[0.6666666666666666,\"#ed7953\"],[0.7777777777777778,\"#fb9f3a\"],[0.8888888888888888,\"#fdca26\"],[1.0,\"#f0f921\"]],\"sequentialminus\":[[0.0,\"#0d0887\"],[0.1111111111111111,\"#46039f\"],[0.2222222222222222,\"#7201a8\"],[0.3333333333333333,\"#9c179e\"],[0.4444444444444444,\"#bd3786\"],[0.5555555555555556,\"#d8576b\"],[0.6666666666666666,\"#ed7953\"],[0.7777777777777778,\"#fb9f3a\"],[0.8888888888888888,\"#fdca26\"],[1.0,\"#f0f921\"]],\"diverging\":[[0,\"#8e0152\"],[0.1,\"#c51b7d\"],[0.2,\"#de77ae\"],[0.3,\"#f1b6da\"],[0.4,\"#fde0ef\"],[0.5,\"#f7f7f7\"],[0.6,\"#e6f5d0\"],[0.7,\"#b8e186\"],[0.8,\"#7fbc41\"],[0.9,\"#4d9221\"],[1,\"#276419\"]]},\"xaxis\":{\"gridcolor\":\"white\",\"linecolor\":\"white\",\"ticks\":\"\",\"title\":{\"standoff\":15},\"zerolinecolor\":\"white\",\"automargin\":true,\"zerolinewidth\":2},\"yaxis\":{\"gridcolor\":\"white\",\"linecolor\":\"white\",\"ticks\":\"\",\"title\":{\"standoff\":15},\"zerolinecolor\":\"white\",\"automargin\":true,\"zerolinewidth\":2},\"scene\":{\"xaxis\":{\"backgroundcolor\":\"#E5ECF6\",\"gridcolor\":\"white\",\"linecolor\":\"white\",\"showbackground\":true,\"ticks\":\"\",\"zerolinecolor\":\"white\",\"gridwidth\":2},\"yaxis\":{\"backgroundcolor\":\"#E5ECF6\",\"gridcolor\":\"white\",\"linecolor\":\"white\",\"showbackground\":true,\"ticks\":\"\",\"zerolinecolor\":\"white\",\"gridwidth\":2},\"zaxis\":{\"backgroundcolor\":\"#E5ECF6\",\"gridcolor\":\"white\",\"linecolor\":\"white\",\"showbackground\":true,\"ticks\":\"\",\"zerolinecolor\":\"white\",\"gridwidth\":2}},\"shapedefaults\":{\"line\":{\"color\":\"#2a3f5f\"}},\"annotationdefaults\":{\"arrowcolor\":\"#2a3f5f\",\"arrowhead\":0,\"arrowwidth\":1},\"geo\":{\"bgcolor\":\"white\",\"landcolor\":\"#E5ECF6\",\"subunitcolor\":\"white\",\"showland\":true,\"showlakes\":true,\"lakecolor\":\"white\"},\"title\":{\"x\":0.05},\"mapbox\":{\"style\":\"light\"}}}},                        {\"responsive\": true}                    )                };            </script>        </div>',\n",
       " ('Push day - terça',\n",
       "  'Single Arm Lateral Raise (Cable)'): '<div>                        <script type=\"text/javascript\">window.PlotlyConfig = {MathJaxConfig: \\'local\\'};</script>\\n        <script charset=\"utf-8\" src=\"https://cdn.plot.ly/plotly-3.0.1.min.js\"></script>                <div id=\"52efd27d-5f6f-47e4-aaf9-74980a0e2861\" class=\"plotly-graph-div\" style=\"height:100%; width:100%;\"></div>            <script type=\"text/javascript\">                window.PLOTLYENV=window.PLOTLYENV || {};                                if (document.getElementById(\"52efd27d-5f6f-47e4-aaf9-74980a0e2861\")) {                    Plotly.newPlot(                        \"52efd27d-5f6f-47e4-aaf9-74980a0e2861\",                        [{\"mode\":\"lines+markers+text\",\"name\":\"Top Set (Failure)\",\"text\":[\"5 reps\",\"6 reps\",\"8 reps\",\"6 reps\",\"6 reps\"],\"textposition\":\"top center\",\"visible\":true,\"x\":[\"2025-04-15\",\"2025-04-08\",\"2025-04-01\",\"2025-03-25\",\"2025-03-18\"],\"y\":{\"dtype\":\"f8\",\"bdata\":\"AAAAAAAAJEAAAAAAAAAkQAAAAAAAgCZAAAAAAAAALkAAAAAAAIAsQA==\"},\"type\":\"scatter\"},{\"mode\":\"lines+markers+text\",\"name\":\"Work Set 1\",\"text\":[\"7 reps\",\"7 reps\",\"9 reps\",\"9 reps\",\"8 reps\"],\"textposition\":\"top center\",\"visible\":false,\"x\":[\"2025-04-15\",\"2025-04-08\",\"2025-04-01\",\"2025-03-25\",\"2025-03-18\"],\"y\":{\"dtype\":\"f8\",\"bdata\":\"AAAAAAAAJEAAAAAAAAAkQAAAAAAAACRAAAAAAACALEAAAAAAAAAqQA==\"},\"type\":\"scatter\"},{\"mode\":\"lines+markers+text\",\"name\":\"Work Set 2\",\"text\":[],\"textposition\":\"top center\",\"visible\":false,\"x\":[],\"y\":[],\"type\":\"scatter\"}],                        {\"hovermode\":\"closest\",\"title\":{\"text\":\"Evolu\\\\u00e7\\\\u00e3o no Single Arm Lateral Raise (Cable) (Push day - ter\\\\u00e7a)\"},\"updatemenus\":[{\"active\":0,\"bgcolor\":\"white\",\"bordercolor\":\"gray\",\"borderwidth\":1,\"buttons\":[{\"args\":[{\"x\":[[\"2025-04-15\",\"2025-04-08\",\"2025-04-01\",\"2025-03-25\",\"2025-03-18\"],[\"2025-04-15\",\"2025-04-08\",\"2025-04-01\",\"2025-03-25\",\"2025-03-18\"],[]],\"y\":[[10.0,10.0,11.25,15.0,14.25],[10.0,10.0,10.0,14.25,13.0],[]],\"text\":[[\"5 reps\",\"6 reps\",\"8 reps\",\"6 reps\",\"6 reps\"],[\"7 reps\",\"7 reps\",\"9 reps\",\"9 reps\",\"8 reps\"],[]]},{\"updatemenus[1].buttons\":[{\"label\":\"Top Set (Failure)\",\"method\":\"update\",\"args\":[{\"visible\":[true,false,false]}]},{\"label\":\"Work Set 1\",\"method\":\"update\",\"args\":[{\"visible\":[false,true,false]}]},{\"label\":\"Todas as s\\\\u00e9ries\",\"method\":\"update\",\"args\":[{\"visible\":[true,true,false]}]}],\"title\":\"Evolu\\\\u00e7\\\\u00e3o no Single Arm Lateral Raise (Cable) (Push day - ter\\\\u00e7a) - \\\\u00daltimos 30 dias\"}],\"label\":\"\\\\u00daltimos 30 dias\",\"method\":\"update\"},{\"args\":[{\"x\":[[\"2025-04-15\",\"2025-04-08\",\"2025-04-01\",\"2025-03-25\",\"2025-03-18\",\"2025-03-11\",\"2025-03-04\",\"2025-02-25\"],[\"2025-04-15\",\"2025-04-08\",\"2025-04-01\",\"2025-03-25\",\"2025-03-18\",\"2025-03-11\",\"2025-03-04\",\"2025-02-25\"],[]],\"y\":[[10.0,10.0,11.25,15.0,14.25,13.0,14.25,11.25],[10.0,10.0,10.0,14.25,13.0,13.0,14.25,11.25],[]],\"text\":[[\"5 reps\",\"6 reps\",\"8 reps\",\"6 reps\",\"6 reps\",\"6 reps\",\"8 reps\",\"8 reps\"],[\"7 reps\",\"7 reps\",\"9 reps\",\"9 reps\",\"8 reps\",\"8 reps\",\"8 reps\",\"8 reps\"],[]]},{\"updatemenus[1].buttons\":[{\"label\":\"Top Set (Failure)\",\"method\":\"update\",\"args\":[{\"visible\":[true,false,false]}]},{\"label\":\"Work Set 1\",\"method\":\"update\",\"args\":[{\"visible\":[false,true,false]}]},{\"label\":\"Todas as s\\\\u00e9ries\",\"method\":\"update\",\"args\":[{\"visible\":[true,true,false]}]}]}],\"label\":\"\\\\u00daltimos 60 dias\",\"method\":\"update\"},{\"args\":[{\"x\":[[\"2025-04-15\",\"2025-04-08\",\"2025-04-01\",\"2025-03-25\",\"2025-03-18\",\"2025-03-11\",\"2025-03-04\",\"2025-02-25\",\"2025-02-04\",\"2025-01-28\",\"2025-01-21\"],[\"2025-04-15\",\"2025-04-08\",\"2025-04-01\",\"2025-03-25\",\"2025-03-18\",\"2025-03-11\",\"2025-03-04\",\"2025-02-25\",\"2025-02-04\",\"2025-01-28\",\"2025-01-21\"],[\"2025-02-04\",\"2025-01-28\",\"2025-01-21\"]],\"y\":[[10.0,10.0,11.25,15.0,14.25,13.0,14.25,11.25,13.0,10.0,13.0],[10.0,10.0,10.0,14.25,13.0,13.0,14.25,11.25,13.0,13.0,11.25],[13.0,13.0,11.25]],\"text\":[[\"5 reps\",\"6 reps\",\"8 reps\",\"6 reps\",\"6 reps\",\"6 reps\",\"8 reps\",\"8 reps\",\"8 reps\",\"8 reps\",\"8 reps\"],[\"7 reps\",\"7 reps\",\"9 reps\",\"9 reps\",\"8 reps\",\"8 reps\",\"8 reps\",\"8 reps\",\"7 reps\",\"8 reps\",\"9 reps\"],[\"8 reps\",\"7 reps\",\"9 reps\"]]},{\"updatemenus[1].buttons\":[{\"label\":\"Top Set (Failure)\",\"method\":\"update\",\"args\":[{\"visible\":[true,false,false]}]},{\"label\":\"Work Set 1\",\"method\":\"update\",\"args\":[{\"visible\":[false,true,false]}]},{\"label\":\"Work Set 2\",\"method\":\"update\",\"args\":[{\"visible\":[false,false,true]}]},{\"label\":\"Todas as s\\\\u00e9ries\",\"method\":\"update\",\"args\":[{\"visible\":[true,true,true]}]}]}],\"label\":\"\\\\u00daltimos 90 dias\",\"method\":\"update\"}],\"direction\":\"down\",\"pad\":{\"r\":10,\"t\":10},\"showactive\":true,\"x\":0.6,\"xanchor\":\"left\",\"y\":1.2,\"yanchor\":\"top\"},{\"active\":0,\"bgcolor\":\"white\",\"bordercolor\":\"gray\",\"borderwidth\":1,\"buttons\":[{\"args\":[{\"visible\":[true,false,false]}],\"label\":\"Top Set (Failure)\",\"method\":\"update\"},{\"args\":[{\"visible\":[false,true,false]}],\"label\":\"Work Set 1\",\"method\":\"update\"},{\"args\":[{\"visible\":[true,true,false]}],\"label\":\"Todas as s\\\\u00e9ries\",\"method\":\"update\"}],\"direction\":\"down\",\"pad\":{\"r\":10,\"t\":10},\"showactive\":true,\"x\":0.99,\"xanchor\":\"right\",\"y\":1.2,\"yanchor\":\"top\"}],\"xaxis\":{\"tickformat\":\"%d\\\\u002f%m\\\\u002f%Y\",\"title\":{\"text\":\"Data\"}},\"yaxis\":{\"title\":{\"text\":\"Peso (kg)\"}},\"template\":{\"data\":{\"histogram2dcontour\":[{\"type\":\"histogram2dcontour\",\"colorbar\":{\"outlinewidth\":0,\"ticks\":\"\"},\"colorscale\":[[0.0,\"#0d0887\"],[0.1111111111111111,\"#46039f\"],[0.2222222222222222,\"#7201a8\"],[0.3333333333333333,\"#9c179e\"],[0.4444444444444444,\"#bd3786\"],[0.5555555555555556,\"#d8576b\"],[0.6666666666666666,\"#ed7953\"],[0.7777777777777778,\"#fb9f3a\"],[0.8888888888888888,\"#fdca26\"],[1.0,\"#f0f921\"]]}],\"choropleth\":[{\"type\":\"choropleth\",\"colorbar\":{\"outlinewidth\":0,\"ticks\":\"\"}}],\"histogram2d\":[{\"type\":\"histogram2d\",\"colorbar\":{\"outlinewidth\":0,\"ticks\":\"\"},\"colorscale\":[[0.0,\"#0d0887\"],[0.1111111111111111,\"#46039f\"],[0.2222222222222222,\"#7201a8\"],[0.3333333333333333,\"#9c179e\"],[0.4444444444444444,\"#bd3786\"],[0.5555555555555556,\"#d8576b\"],[0.6666666666666666,\"#ed7953\"],[0.7777777777777778,\"#fb9f3a\"],[0.8888888888888888,\"#fdca26\"],[1.0,\"#f0f921\"]]}],\"heatmap\":[{\"type\":\"heatmap\",\"colorbar\":{\"outlinewidth\":0,\"ticks\":\"\"},\"colorscale\":[[0.0,\"#0d0887\"],[0.1111111111111111,\"#46039f\"],[0.2222222222222222,\"#7201a8\"],[0.3333333333333333,\"#9c179e\"],[0.4444444444444444,\"#bd3786\"],[0.5555555555555556,\"#d8576b\"],[0.6666666666666666,\"#ed7953\"],[0.7777777777777778,\"#fb9f3a\"],[0.8888888888888888,\"#fdca26\"],[1.0,\"#f0f921\"]]}],\"contourcarpet\":[{\"type\":\"contourcarpet\",\"colorbar\":{\"outlinewidth\":0,\"ticks\":\"\"}}],\"contour\":[{\"type\":\"contour\",\"colorbar\":{\"outlinewidth\":0,\"ticks\":\"\"},\"colorscale\":[[0.0,\"#0d0887\"],[0.1111111111111111,\"#46039f\"],[0.2222222222222222,\"#7201a8\"],[0.3333333333333333,\"#9c179e\"],[0.4444444444444444,\"#bd3786\"],[0.5555555555555556,\"#d8576b\"],[0.6666666666666666,\"#ed7953\"],[0.7777777777777778,\"#fb9f3a\"],[0.8888888888888888,\"#fdca26\"],[1.0,\"#f0f921\"]]}],\"surface\":[{\"type\":\"surface\",\"colorbar\":{\"outlinewidth\":0,\"ticks\":\"\"},\"colorscale\":[[0.0,\"#0d0887\"],[0.1111111111111111,\"#46039f\"],[0.2222222222222222,\"#7201a8\"],[0.3333333333333333,\"#9c179e\"],[0.4444444444444444,\"#bd3786\"],[0.5555555555555556,\"#d8576b\"],[0.6666666666666666,\"#ed7953\"],[0.7777777777777778,\"#fb9f3a\"],[0.8888888888888888,\"#fdca26\"],[1.0,\"#f0f921\"]]}],\"mesh3d\":[{\"type\":\"mesh3d\",\"colorbar\":{\"outlinewidth\":0,\"ticks\":\"\"}}],\"scatter\":[{\"fillpattern\":{\"fillmode\":\"overlay\",\"size\":10,\"solidity\":0.2},\"type\":\"scatter\"}],\"parcoords\":[{\"type\":\"parcoords\",\"line\":{\"colorbar\":{\"outlinewidth\":0,\"ticks\":\"\"}}}],\"scatterpolargl\":[{\"type\":\"scatterpolargl\",\"marker\":{\"colorbar\":{\"outlinewidth\":0,\"ticks\":\"\"}}}],\"bar\":[{\"error_x\":{\"color\":\"#2a3f5f\"},\"error_y\":{\"color\":\"#2a3f5f\"},\"marker\":{\"line\":{\"color\":\"#E5ECF6\",\"width\":0.5},\"pattern\":{\"fillmode\":\"overlay\",\"size\":10,\"solidity\":0.2}},\"type\":\"bar\"}],\"scattergeo\":[{\"type\":\"scattergeo\",\"marker\":{\"colorbar\":{\"outlinewidth\":0,\"ticks\":\"\"}}}],\"scatterpolar\":[{\"type\":\"scatterpolar\",\"marker\":{\"colorbar\":{\"outlinewidth\":0,\"ticks\":\"\"}}}],\"histogram\":[{\"marker\":{\"pattern\":{\"fillmode\":\"overlay\",\"size\":10,\"solidity\":0.2}},\"type\":\"histogram\"}],\"scattergl\":[{\"type\":\"scattergl\",\"marker\":{\"colorbar\":{\"outlinewidth\":0,\"ticks\":\"\"}}}],\"scatter3d\":[{\"type\":\"scatter3d\",\"line\":{\"colorbar\":{\"outlinewidth\":0,\"ticks\":\"\"}},\"marker\":{\"colorbar\":{\"outlinewidth\":0,\"ticks\":\"\"}}}],\"scattermap\":[{\"type\":\"scattermap\",\"marker\":{\"colorbar\":{\"outlinewidth\":0,\"ticks\":\"\"}}}],\"scattermapbox\":[{\"type\":\"scattermapbox\",\"marker\":{\"colorbar\":{\"outlinewidth\":0,\"ticks\":\"\"}}}],\"scatterternary\":[{\"type\":\"scatterternary\",\"marker\":{\"colorbar\":{\"outlinewidth\":0,\"ticks\":\"\"}}}],\"scattercarpet\":[{\"type\":\"scattercarpet\",\"marker\":{\"colorbar\":{\"outlinewidth\":0,\"ticks\":\"\"}}}],\"carpet\":[{\"aaxis\":{\"endlinecolor\":\"#2a3f5f\",\"gridcolor\":\"white\",\"linecolor\":\"white\",\"minorgridcolor\":\"white\",\"startlinecolor\":\"#2a3f5f\"},\"baxis\":{\"endlinecolor\":\"#2a3f5f\",\"gridcolor\":\"white\",\"linecolor\":\"white\",\"minorgridcolor\":\"white\",\"startlinecolor\":\"#2a3f5f\"},\"type\":\"carpet\"}],\"table\":[{\"cells\":{\"fill\":{\"color\":\"#EBF0F8\"},\"line\":{\"color\":\"white\"}},\"header\":{\"fill\":{\"color\":\"#C8D4E3\"},\"line\":{\"color\":\"white\"}},\"type\":\"table\"}],\"barpolar\":[{\"marker\":{\"line\":{\"color\":\"#E5ECF6\",\"width\":0.5},\"pattern\":{\"fillmode\":\"overlay\",\"size\":10,\"solidity\":0.2}},\"type\":\"barpolar\"}],\"pie\":[{\"automargin\":true,\"type\":\"pie\"}]},\"layout\":{\"autotypenumbers\":\"strict\",\"colorway\":[\"#636efa\",\"#EF553B\",\"#00cc96\",\"#ab63fa\",\"#FFA15A\",\"#19d3f3\",\"#FF6692\",\"#B6E880\",\"#FF97FF\",\"#FECB52\"],\"font\":{\"color\":\"#2a3f5f\"},\"hovermode\":\"closest\",\"hoverlabel\":{\"align\":\"left\"},\"paper_bgcolor\":\"white\",\"plot_bgcolor\":\"#E5ECF6\",\"polar\":{\"bgcolor\":\"#E5ECF6\",\"angularaxis\":{\"gridcolor\":\"white\",\"linecolor\":\"white\",\"ticks\":\"\"},\"radialaxis\":{\"gridcolor\":\"white\",\"linecolor\":\"white\",\"ticks\":\"\"}},\"ternary\":{\"bgcolor\":\"#E5ECF6\",\"aaxis\":{\"gridcolor\":\"white\",\"linecolor\":\"white\",\"ticks\":\"\"},\"baxis\":{\"gridcolor\":\"white\",\"linecolor\":\"white\",\"ticks\":\"\"},\"caxis\":{\"gridcolor\":\"white\",\"linecolor\":\"white\",\"ticks\":\"\"}},\"coloraxis\":{\"colorbar\":{\"outlinewidth\":0,\"ticks\":\"\"}},\"colorscale\":{\"sequential\":[[0.0,\"#0d0887\"],[0.1111111111111111,\"#46039f\"],[0.2222222222222222,\"#7201a8\"],[0.3333333333333333,\"#9c179e\"],[0.4444444444444444,\"#bd3786\"],[0.5555555555555556,\"#d8576b\"],[0.6666666666666666,\"#ed7953\"],[0.7777777777777778,\"#fb9f3a\"],[0.8888888888888888,\"#fdca26\"],[1.0,\"#f0f921\"]],\"sequentialminus\":[[0.0,\"#0d0887\"],[0.1111111111111111,\"#46039f\"],[0.2222222222222222,\"#7201a8\"],[0.3333333333333333,\"#9c179e\"],[0.4444444444444444,\"#bd3786\"],[0.5555555555555556,\"#d8576b\"],[0.6666666666666666,\"#ed7953\"],[0.7777777777777778,\"#fb9f3a\"],[0.8888888888888888,\"#fdca26\"],[1.0,\"#f0f921\"]],\"diverging\":[[0,\"#8e0152\"],[0.1,\"#c51b7d\"],[0.2,\"#de77ae\"],[0.3,\"#f1b6da\"],[0.4,\"#fde0ef\"],[0.5,\"#f7f7f7\"],[0.6,\"#e6f5d0\"],[0.7,\"#b8e186\"],[0.8,\"#7fbc41\"],[0.9,\"#4d9221\"],[1,\"#276419\"]]},\"xaxis\":{\"gridcolor\":\"white\",\"linecolor\":\"white\",\"ticks\":\"\",\"title\":{\"standoff\":15},\"zerolinecolor\":\"white\",\"automargin\":true,\"zerolinewidth\":2},\"yaxis\":{\"gridcolor\":\"white\",\"linecolor\":\"white\",\"ticks\":\"\",\"title\":{\"standoff\":15},\"zerolinecolor\":\"white\",\"automargin\":true,\"zerolinewidth\":2},\"scene\":{\"xaxis\":{\"backgroundcolor\":\"#E5ECF6\",\"gridcolor\":\"white\",\"linecolor\":\"white\",\"showbackground\":true,\"ticks\":\"\",\"zerolinecolor\":\"white\",\"gridwidth\":2},\"yaxis\":{\"backgroundcolor\":\"#E5ECF6\",\"gridcolor\":\"white\",\"linecolor\":\"white\",\"showbackground\":true,\"ticks\":\"\",\"zerolinecolor\":\"white\",\"gridwidth\":2},\"zaxis\":{\"backgroundcolor\":\"#E5ECF6\",\"gridcolor\":\"white\",\"linecolor\":\"white\",\"showbackground\":true,\"ticks\":\"\",\"zerolinecolor\":\"white\",\"gridwidth\":2}},\"shapedefaults\":{\"line\":{\"color\":\"#2a3f5f\"}},\"annotationdefaults\":{\"arrowcolor\":\"#2a3f5f\",\"arrowhead\":0,\"arrowwidth\":1},\"geo\":{\"bgcolor\":\"white\",\"landcolor\":\"#E5ECF6\",\"subunitcolor\":\"white\",\"showland\":true,\"showlakes\":true,\"lakecolor\":\"white\"},\"title\":{\"x\":0.05},\"mapbox\":{\"style\":\"light\"}}}},                        {\"responsive\": true}                    )                };            </script>        </div>',\n",
       " ('Push day - terça',\n",
       "  'Skullcrusher (Barbell)'): '<div>                        <script type=\"text/javascript\">window.PlotlyConfig = {MathJaxConfig: \\'local\\'};</script>\\n        <script charset=\"utf-8\" src=\"https://cdn.plot.ly/plotly-3.0.1.min.js\"></script>                <div id=\"aeb01fec-9574-4eff-bc59-519ccd9bbcc5\" class=\"plotly-graph-div\" style=\"height:100%; width:100%;\"></div>            <script type=\"text/javascript\">                window.PLOTLYENV=window.PLOTLYENV || {};                                if (document.getElementById(\"aeb01fec-9574-4eff-bc59-519ccd9bbcc5\")) {                    Plotly.newPlot(                        \"aeb01fec-9574-4eff-bc59-519ccd9bbcc5\",                        [{\"mode\":\"lines+markers+text\",\"name\":\"Top Set (Failure)\",\"text\":[\"5 reps\",\"5 reps\",\"5 reps\",\"5 reps\",\"4 reps\"],\"textposition\":\"top center\",\"visible\":true,\"x\":[\"2025-04-15\",\"2025-04-08\",\"2025-04-01\",\"2025-03-25\",\"2025-03-18\"],\"y\":{\"dtype\":\"f8\",\"bdata\":\"AAAAAACARkAAAAAAAEBFQAAAAAAAQEVAAAAAAAAASUAAAAAAAABJQA==\"},\"type\":\"scatter\"},{\"mode\":\"lines+markers+text\",\"name\":\"Work Set 1\",\"text\":[\"6 reps\",\"5 reps\",\"7 reps\",\"6 reps\",\"6 reps\"],\"textposition\":\"top center\",\"visible\":false,\"x\":[\"2025-04-15\",\"2025-04-08\",\"2025-04-01\",\"2025-03-25\",\"2025-03-18\"],\"y\":{\"dtype\":\"f8\",\"bdata\":\"AAAAAABARUAAAAAAAEBFQAAAAAAAAERAAAAAAAAASUAAAAAAAABJQA==\"},\"type\":\"scatter\"},{\"mode\":\"lines+markers+text\",\"name\":\"Work Set 2\",\"text\":[\"6 reps\",\"5 reps\",\"7 reps\",\"5 reps\",\"5 reps\"],\"textposition\":\"top center\",\"visible\":false,\"x\":[\"2025-04-15\",\"2025-04-08\",\"2025-04-01\",\"2025-03-25\",\"2025-03-18\"],\"y\":{\"dtype\":\"f8\",\"bdata\":\"AAAAAABARUAAAAAAAEBFQAAAAAAAAERAAAAAAAAASUAAAAAAAABJQA==\"},\"type\":\"scatter\"}],                        {\"hovermode\":\"closest\",\"title\":{\"text\":\"Evolu\\\\u00e7\\\\u00e3o no Skullcrusher (Barbell) (Push day - ter\\\\u00e7a)\"},\"updatemenus\":[{\"active\":0,\"bgcolor\":\"white\",\"bordercolor\":\"gray\",\"borderwidth\":1,\"buttons\":[{\"args\":[{\"x\":[[\"2025-04-15\",\"2025-04-08\",\"2025-04-01\",\"2025-03-25\",\"2025-03-18\"],[\"2025-04-15\",\"2025-04-08\",\"2025-04-01\",\"2025-03-25\",\"2025-03-18\"],[\"2025-04-15\",\"2025-04-08\",\"2025-04-01\",\"2025-03-25\",\"2025-03-18\"]],\"y\":[[45.0,42.5,42.5,50.0,50.0],[42.5,42.5,40.0,50.0,50.0],[42.5,42.5,40.0,50.0,50.0]],\"text\":[[\"5 reps\",\"5 reps\",\"5 reps\",\"5 reps\",\"4 reps\"],[\"6 reps\",\"5 reps\",\"7 reps\",\"6 reps\",\"6 reps\"],[\"6 reps\",\"5 reps\",\"7 reps\",\"5 reps\",\"5 reps\"]]},{\"updatemenus[1].buttons\":[{\"label\":\"Top Set (Failure)\",\"method\":\"update\",\"args\":[{\"visible\":[true,false,false]}]},{\"label\":\"Work Set 1\",\"method\":\"update\",\"args\":[{\"visible\":[false,true,false]}]},{\"label\":\"Work Set 2\",\"method\":\"update\",\"args\":[{\"visible\":[false,false,true]}]},{\"label\":\"Todas as s\\\\u00e9ries\",\"method\":\"update\",\"args\":[{\"visible\":[true,true,true]}]}],\"title\":\"Evolu\\\\u00e7\\\\u00e3o no Skullcrusher (Barbell) (Push day - ter\\\\u00e7a) - \\\\u00daltimos 30 dias\"}],\"label\":\"\\\\u00daltimos 30 dias\",\"method\":\"update\"},{\"args\":[{\"x\":[[\"2025-04-15\",\"2025-04-08\",\"2025-04-01\",\"2025-03-25\",\"2025-03-18\",\"2025-03-11\",\"2025-03-04\",\"2025-02-25\"],[\"2025-04-15\",\"2025-04-08\",\"2025-04-01\",\"2025-03-25\",\"2025-03-18\",\"2025-03-11\",\"2025-03-04\",\"2025-02-25\"],[\"2025-04-15\",\"2025-04-08\",\"2025-04-01\",\"2025-03-25\",\"2025-03-18\",\"2025-03-11\",\"2025-03-04\",\"2025-02-25\"]],\"y\":[[45.0,42.5,42.5,50.0,50.0,50.0,55.0,50.0],[42.5,42.5,40.0,50.0,50.0,45.0,55.0,50.0],[42.5,42.5,40.0,50.0,50.0,45.0,55.0,50.0]],\"text\":[[\"5 reps\",\"5 reps\",\"5 reps\",\"5 reps\",\"4 reps\",\"4 reps\",\"4 reps\",\"4 reps\"],[\"6 reps\",\"5 reps\",\"7 reps\",\"6 reps\",\"6 reps\",\"6 reps\",\"5 reps\",\"6 reps\"],[\"6 reps\",\"5 reps\",\"7 reps\",\"5 reps\",\"5 reps\",\"6 reps\",\"4 reps\",\"6 reps\"]]},{\"updatemenus[1].buttons\":[{\"label\":\"Top Set (Failure)\",\"method\":\"update\",\"args\":[{\"visible\":[true,false,false]}]},{\"label\":\"Work Set 1\",\"method\":\"update\",\"args\":[{\"visible\":[false,true,false]}]},{\"label\":\"Work Set 2\",\"method\":\"update\",\"args\":[{\"visible\":[false,false,true]}]},{\"label\":\"Todas as s\\\\u00e9ries\",\"method\":\"update\",\"args\":[{\"visible\":[true,true,true]}]}]}],\"label\":\"\\\\u00daltimos 60 dias\",\"method\":\"update\"},{\"args\":[{\"x\":[[\"2025-04-15\",\"2025-04-08\",\"2025-04-01\",\"2025-03-25\",\"2025-03-18\",\"2025-03-11\",\"2025-03-04\",\"2025-02-25\",\"2025-02-04\",\"2025-01-28\",\"2025-01-21\"],[\"2025-04-15\",\"2025-04-08\",\"2025-04-01\",\"2025-03-25\",\"2025-03-18\",\"2025-03-11\",\"2025-03-04\",\"2025-02-25\",\"2025-02-04\",\"2025-01-28\",\"2025-01-21\"],[\"2025-04-15\",\"2025-04-08\",\"2025-04-01\",\"2025-03-25\",\"2025-03-18\",\"2025-03-11\",\"2025-03-04\",\"2025-02-25\",\"2025-02-04\",\"2025-01-28\",\"2025-01-21\"]],\"y\":[[45.0,42.5,42.5,50.0,50.0,50.0,55.0,50.0,55.0,52.5,52.5],[42.5,42.5,40.0,50.0,50.0,45.0,55.0,50.0,52.5,52.5,50.0],[42.5,42.5,40.0,50.0,50.0,45.0,55.0,50.0,52.5,52.5,50.0]],\"text\":[[\"5 reps\",\"5 reps\",\"5 reps\",\"5 reps\",\"4 reps\",\"4 reps\",\"4 reps\",\"4 reps\",\"4 reps\",\"3 reps\",\"5 reps\"],[\"6 reps\",\"5 reps\",\"7 reps\",\"6 reps\",\"6 reps\",\"6 reps\",\"5 reps\",\"6 reps\",\"6 reps\",\"6 reps\",\"6 reps\"],[\"6 reps\",\"5 reps\",\"7 reps\",\"5 reps\",\"5 reps\",\"6 reps\",\"4 reps\",\"6 reps\",\"6 reps\",\"5 reps\",\"6 reps\"]]},{\"updatemenus[1].buttons\":[{\"label\":\"Top Set (Failure)\",\"method\":\"update\",\"args\":[{\"visible\":[true,false,false]}]},{\"label\":\"Work Set 1\",\"method\":\"update\",\"args\":[{\"visible\":[false,true,false]}]},{\"label\":\"Work Set 2\",\"method\":\"update\",\"args\":[{\"visible\":[false,false,true]}]},{\"label\":\"Todas as s\\\\u00e9ries\",\"method\":\"update\",\"args\":[{\"visible\":[true,true,true]}]}]}],\"label\":\"\\\\u00daltimos 90 dias\",\"method\":\"update\"}],\"direction\":\"down\",\"pad\":{\"r\":10,\"t\":10},\"showactive\":true,\"x\":0.6,\"xanchor\":\"left\",\"y\":1.2,\"yanchor\":\"top\"},{\"active\":0,\"bgcolor\":\"white\",\"bordercolor\":\"gray\",\"borderwidth\":1,\"buttons\":[{\"args\":[{\"visible\":[true,false,false]}],\"label\":\"Top Set (Failure)\",\"method\":\"update\"},{\"args\":[{\"visible\":[false,true,false]}],\"label\":\"Work Set 1\",\"method\":\"update\"},{\"args\":[{\"visible\":[false,false,true]}],\"label\":\"Work Set 2\",\"method\":\"update\"},{\"args\":[{\"visible\":[true,true,true]}],\"label\":\"Todas as s\\\\u00e9ries\",\"method\":\"update\"}],\"direction\":\"down\",\"pad\":{\"r\":10,\"t\":10},\"showactive\":true,\"x\":0.99,\"xanchor\":\"right\",\"y\":1.2,\"yanchor\":\"top\"}],\"xaxis\":{\"tickformat\":\"%d\\\\u002f%m\\\\u002f%Y\",\"title\":{\"text\":\"Data\"}},\"yaxis\":{\"title\":{\"text\":\"Peso (kg)\"}},\"template\":{\"data\":{\"histogram2dcontour\":[{\"type\":\"histogram2dcontour\",\"colorbar\":{\"outlinewidth\":0,\"ticks\":\"\"},\"colorscale\":[[0.0,\"#0d0887\"],[0.1111111111111111,\"#46039f\"],[0.2222222222222222,\"#7201a8\"],[0.3333333333333333,\"#9c179e\"],[0.4444444444444444,\"#bd3786\"],[0.5555555555555556,\"#d8576b\"],[0.6666666666666666,\"#ed7953\"],[0.7777777777777778,\"#fb9f3a\"],[0.8888888888888888,\"#fdca26\"],[1.0,\"#f0f921\"]]}],\"choropleth\":[{\"type\":\"choropleth\",\"colorbar\":{\"outlinewidth\":0,\"ticks\":\"\"}}],\"histogram2d\":[{\"type\":\"histogram2d\",\"colorbar\":{\"outlinewidth\":0,\"ticks\":\"\"},\"colorscale\":[[0.0,\"#0d0887\"],[0.1111111111111111,\"#46039f\"],[0.2222222222222222,\"#7201a8\"],[0.3333333333333333,\"#9c179e\"],[0.4444444444444444,\"#bd3786\"],[0.5555555555555556,\"#d8576b\"],[0.6666666666666666,\"#ed7953\"],[0.7777777777777778,\"#fb9f3a\"],[0.8888888888888888,\"#fdca26\"],[1.0,\"#f0f921\"]]}],\"heatmap\":[{\"type\":\"heatmap\",\"colorbar\":{\"outlinewidth\":0,\"ticks\":\"\"},\"colorscale\":[[0.0,\"#0d0887\"],[0.1111111111111111,\"#46039f\"],[0.2222222222222222,\"#7201a8\"],[0.3333333333333333,\"#9c179e\"],[0.4444444444444444,\"#bd3786\"],[0.5555555555555556,\"#d8576b\"],[0.6666666666666666,\"#ed7953\"],[0.7777777777777778,\"#fb9f3a\"],[0.8888888888888888,\"#fdca26\"],[1.0,\"#f0f921\"]]}],\"contourcarpet\":[{\"type\":\"contourcarpet\",\"colorbar\":{\"outlinewidth\":0,\"ticks\":\"\"}}],\"contour\":[{\"type\":\"contour\",\"colorbar\":{\"outlinewidth\":0,\"ticks\":\"\"},\"colorscale\":[[0.0,\"#0d0887\"],[0.1111111111111111,\"#46039f\"],[0.2222222222222222,\"#7201a8\"],[0.3333333333333333,\"#9c179e\"],[0.4444444444444444,\"#bd3786\"],[0.5555555555555556,\"#d8576b\"],[0.6666666666666666,\"#ed7953\"],[0.7777777777777778,\"#fb9f3a\"],[0.8888888888888888,\"#fdca26\"],[1.0,\"#f0f921\"]]}],\"surface\":[{\"type\":\"surface\",\"colorbar\":{\"outlinewidth\":0,\"ticks\":\"\"},\"colorscale\":[[0.0,\"#0d0887\"],[0.1111111111111111,\"#46039f\"],[0.2222222222222222,\"#7201a8\"],[0.3333333333333333,\"#9c179e\"],[0.4444444444444444,\"#bd3786\"],[0.5555555555555556,\"#d8576b\"],[0.6666666666666666,\"#ed7953\"],[0.7777777777777778,\"#fb9f3a\"],[0.8888888888888888,\"#fdca26\"],[1.0,\"#f0f921\"]]}],\"mesh3d\":[{\"type\":\"mesh3d\",\"colorbar\":{\"outlinewidth\":0,\"ticks\":\"\"}}],\"scatter\":[{\"fillpattern\":{\"fillmode\":\"overlay\",\"size\":10,\"solidity\":0.2},\"type\":\"scatter\"}],\"parcoords\":[{\"type\":\"parcoords\",\"line\":{\"colorbar\":{\"outlinewidth\":0,\"ticks\":\"\"}}}],\"scatterpolargl\":[{\"type\":\"scatterpolargl\",\"marker\":{\"colorbar\":{\"outlinewidth\":0,\"ticks\":\"\"}}}],\"bar\":[{\"error_x\":{\"color\":\"#2a3f5f\"},\"error_y\":{\"color\":\"#2a3f5f\"},\"marker\":{\"line\":{\"color\":\"#E5ECF6\",\"width\":0.5},\"pattern\":{\"fillmode\":\"overlay\",\"size\":10,\"solidity\":0.2}},\"type\":\"bar\"}],\"scattergeo\":[{\"type\":\"scattergeo\",\"marker\":{\"colorbar\":{\"outlinewidth\":0,\"ticks\":\"\"}}}],\"scatterpolar\":[{\"type\":\"scatterpolar\",\"marker\":{\"colorbar\":{\"outlinewidth\":0,\"ticks\":\"\"}}}],\"histogram\":[{\"marker\":{\"pattern\":{\"fillmode\":\"overlay\",\"size\":10,\"solidity\":0.2}},\"type\":\"histogram\"}],\"scattergl\":[{\"type\":\"scattergl\",\"marker\":{\"colorbar\":{\"outlinewidth\":0,\"ticks\":\"\"}}}],\"scatter3d\":[{\"type\":\"scatter3d\",\"line\":{\"colorbar\":{\"outlinewidth\":0,\"ticks\":\"\"}},\"marker\":{\"colorbar\":{\"outlinewidth\":0,\"ticks\":\"\"}}}],\"scattermap\":[{\"type\":\"scattermap\",\"marker\":{\"colorbar\":{\"outlinewidth\":0,\"ticks\":\"\"}}}],\"scattermapbox\":[{\"type\":\"scattermapbox\",\"marker\":{\"colorbar\":{\"outlinewidth\":0,\"ticks\":\"\"}}}],\"scatterternary\":[{\"type\":\"scatterternary\",\"marker\":{\"colorbar\":{\"outlinewidth\":0,\"ticks\":\"\"}}}],\"scattercarpet\":[{\"type\":\"scattercarpet\",\"marker\":{\"colorbar\":{\"outlinewidth\":0,\"ticks\":\"\"}}}],\"carpet\":[{\"aaxis\":{\"endlinecolor\":\"#2a3f5f\",\"gridcolor\":\"white\",\"linecolor\":\"white\",\"minorgridcolor\":\"white\",\"startlinecolor\":\"#2a3f5f\"},\"baxis\":{\"endlinecolor\":\"#2a3f5f\",\"gridcolor\":\"white\",\"linecolor\":\"white\",\"minorgridcolor\":\"white\",\"startlinecolor\":\"#2a3f5f\"},\"type\":\"carpet\"}],\"table\":[{\"cells\":{\"fill\":{\"color\":\"#EBF0F8\"},\"line\":{\"color\":\"white\"}},\"header\":{\"fill\":{\"color\":\"#C8D4E3\"},\"line\":{\"color\":\"white\"}},\"type\":\"table\"}],\"barpolar\":[{\"marker\":{\"line\":{\"color\":\"#E5ECF6\",\"width\":0.5},\"pattern\":{\"fillmode\":\"overlay\",\"size\":10,\"solidity\":0.2}},\"type\":\"barpolar\"}],\"pie\":[{\"automargin\":true,\"type\":\"pie\"}]},\"layout\":{\"autotypenumbers\":\"strict\",\"colorway\":[\"#636efa\",\"#EF553B\",\"#00cc96\",\"#ab63fa\",\"#FFA15A\",\"#19d3f3\",\"#FF6692\",\"#B6E880\",\"#FF97FF\",\"#FECB52\"],\"font\":{\"color\":\"#2a3f5f\"},\"hovermode\":\"closest\",\"hoverlabel\":{\"align\":\"left\"},\"paper_bgcolor\":\"white\",\"plot_bgcolor\":\"#E5ECF6\",\"polar\":{\"bgcolor\":\"#E5ECF6\",\"angularaxis\":{\"gridcolor\":\"white\",\"linecolor\":\"white\",\"ticks\":\"\"},\"radialaxis\":{\"gridcolor\":\"white\",\"linecolor\":\"white\",\"ticks\":\"\"}},\"ternary\":{\"bgcolor\":\"#E5ECF6\",\"aaxis\":{\"gridcolor\":\"white\",\"linecolor\":\"white\",\"ticks\":\"\"},\"baxis\":{\"gridcolor\":\"white\",\"linecolor\":\"white\",\"ticks\":\"\"},\"caxis\":{\"gridcolor\":\"white\",\"linecolor\":\"white\",\"ticks\":\"\"}},\"coloraxis\":{\"colorbar\":{\"outlinewidth\":0,\"ticks\":\"\"}},\"colorscale\":{\"sequential\":[[0.0,\"#0d0887\"],[0.1111111111111111,\"#46039f\"],[0.2222222222222222,\"#7201a8\"],[0.3333333333333333,\"#9c179e\"],[0.4444444444444444,\"#bd3786\"],[0.5555555555555556,\"#d8576b\"],[0.6666666666666666,\"#ed7953\"],[0.7777777777777778,\"#fb9f3a\"],[0.8888888888888888,\"#fdca26\"],[1.0,\"#f0f921\"]],\"sequentialminus\":[[0.0,\"#0d0887\"],[0.1111111111111111,\"#46039f\"],[0.2222222222222222,\"#7201a8\"],[0.3333333333333333,\"#9c179e\"],[0.4444444444444444,\"#bd3786\"],[0.5555555555555556,\"#d8576b\"],[0.6666666666666666,\"#ed7953\"],[0.7777777777777778,\"#fb9f3a\"],[0.8888888888888888,\"#fdca26\"],[1.0,\"#f0f921\"]],\"diverging\":[[0,\"#8e0152\"],[0.1,\"#c51b7d\"],[0.2,\"#de77ae\"],[0.3,\"#f1b6da\"],[0.4,\"#fde0ef\"],[0.5,\"#f7f7f7\"],[0.6,\"#e6f5d0\"],[0.7,\"#b8e186\"],[0.8,\"#7fbc41\"],[0.9,\"#4d9221\"],[1,\"#276419\"]]},\"xaxis\":{\"gridcolor\":\"white\",\"linecolor\":\"white\",\"ticks\":\"\",\"title\":{\"standoff\":15},\"zerolinecolor\":\"white\",\"automargin\":true,\"zerolinewidth\":2},\"yaxis\":{\"gridcolor\":\"white\",\"linecolor\":\"white\",\"ticks\":\"\",\"title\":{\"standoff\":15},\"zerolinecolor\":\"white\",\"automargin\":true,\"zerolinewidth\":2},\"scene\":{\"xaxis\":{\"backgroundcolor\":\"#E5ECF6\",\"gridcolor\":\"white\",\"linecolor\":\"white\",\"showbackground\":true,\"ticks\":\"\",\"zerolinecolor\":\"white\",\"gridwidth\":2},\"yaxis\":{\"backgroundcolor\":\"#E5ECF6\",\"gridcolor\":\"white\",\"linecolor\":\"white\",\"showbackground\":true,\"ticks\":\"\",\"zerolinecolor\":\"white\",\"gridwidth\":2},\"zaxis\":{\"backgroundcolor\":\"#E5ECF6\",\"gridcolor\":\"white\",\"linecolor\":\"white\",\"showbackground\":true,\"ticks\":\"\",\"zerolinecolor\":\"white\",\"gridwidth\":2}},\"shapedefaults\":{\"line\":{\"color\":\"#2a3f5f\"}},\"annotationdefaults\":{\"arrowcolor\":\"#2a3f5f\",\"arrowhead\":0,\"arrowwidth\":1},\"geo\":{\"bgcolor\":\"white\",\"landcolor\":\"#E5ECF6\",\"subunitcolor\":\"white\",\"showland\":true,\"showlakes\":true,\"lakecolor\":\"white\"},\"title\":{\"x\":0.05},\"mapbox\":{\"style\":\"light\"}}}},                        {\"responsive\": true}                    )                };            </script>        </div>',\n",
       " ('Push day - terça',\n",
       "  'Upright Row (Barbell)'): '<div>                        <script type=\"text/javascript\">window.PlotlyConfig = {MathJaxConfig: \\'local\\'};</script>\\n        <script charset=\"utf-8\" src=\"https://cdn.plot.ly/plotly-3.0.1.min.js\"></script>                <div id=\"8d90237f-a941-4aaa-ab83-77015614cc32\" class=\"plotly-graph-div\" style=\"height:100%; width:100%;\"></div>            <script type=\"text/javascript\">                window.PLOTLYENV=window.PLOTLYENV || {};                                if (document.getElementById(\"8d90237f-a941-4aaa-ab83-77015614cc32\")) {                    Plotly.newPlot(                        \"8d90237f-a941-4aaa-ab83-77015614cc32\",                        [{\"mode\":\"lines+markers+text\",\"name\":\"Top Set (Failure)\",\"text\":[\"8 reps\",\"6 reps\",\"8 reps\",\"6 reps\",\"8 reps\"],\"textposition\":\"top center\",\"visible\":true,\"x\":[\"2025-04-15\",\"2025-04-08\",\"2025-04-01\",\"2025-03-25\",\"2025-03-18\"],\"y\":{\"dtype\":\"f8\",\"bdata\":\"AAAAAAAASUAAAAAAAABOQAAAAAAAAElAAAAAAABAT0AAAAAAAABOQA==\"},\"type\":\"scatter\"},{\"mode\":\"lines+markers+text\",\"name\":\"Work Set 1\",\"text\":[\"8 reps\",\"7 reps\",\"6 reps\",\"6 reps\",\"8 reps\"],\"textposition\":\"top center\",\"visible\":false,\"x\":[\"2025-04-15\",\"2025-04-08\",\"2025-04-01\",\"2025-03-25\",\"2025-03-18\"],\"y\":{\"dtype\":\"f8\",\"bdata\":\"AAAAAAAASUAAAAAAAABOQAAAAAAAAE5AAAAAAABAT0AAAAAAAABOQA==\"},\"type\":\"scatter\"},{\"mode\":\"lines+markers+text\",\"name\":\"Work Set 2\",\"text\":[],\"textposition\":\"top center\",\"visible\":false,\"x\":[],\"y\":[],\"type\":\"scatter\"}],                        {\"hovermode\":\"closest\",\"title\":{\"text\":\"Evolu\\\\u00e7\\\\u00e3o no Upright Row (Barbell) (Push day - ter\\\\u00e7a)\"},\"updatemenus\":[{\"active\":0,\"bgcolor\":\"white\",\"bordercolor\":\"gray\",\"borderwidth\":1,\"buttons\":[{\"args\":[{\"x\":[[\"2025-04-15\",\"2025-04-08\",\"2025-04-01\",\"2025-03-25\",\"2025-03-18\"],[\"2025-04-15\",\"2025-04-08\",\"2025-04-01\",\"2025-03-25\",\"2025-03-18\"],[]],\"y\":[[50.0,60.0,50.0,62.5,60.0],[50.0,60.0,60.0,62.5,60.0],[]],\"text\":[[\"8 reps\",\"6 reps\",\"8 reps\",\"6 reps\",\"8 reps\"],[\"8 reps\",\"7 reps\",\"6 reps\",\"6 reps\",\"8 reps\"],[]]},{\"updatemenus[1].buttons\":[{\"label\":\"Top Set (Failure)\",\"method\":\"update\",\"args\":[{\"visible\":[true,false,false]}]},{\"label\":\"Work Set 1\",\"method\":\"update\",\"args\":[{\"visible\":[false,true,false]}]},{\"label\":\"Todas as s\\\\u00e9ries\",\"method\":\"update\",\"args\":[{\"visible\":[true,true,false]}]}],\"title\":\"Evolu\\\\u00e7\\\\u00e3o no Upright Row (Barbell) (Push day - ter\\\\u00e7a) - \\\\u00daltimos 30 dias\"}],\"label\":\"\\\\u00daltimos 30 dias\",\"method\":\"update\"},{\"args\":[{\"x\":[[\"2025-04-15\",\"2025-04-08\",\"2025-04-01\",\"2025-03-25\",\"2025-03-18\",\"2025-03-11\",\"2025-03-04\",\"2025-02-25\"],[\"2025-04-15\",\"2025-04-08\",\"2025-04-01\",\"2025-03-25\",\"2025-03-18\",\"2025-03-11\",\"2025-03-04\",\"2025-02-25\"],[]],\"y\":[[50.0,60.0,50.0,62.5,60.0,60.0,60.0,55.0],[50.0,60.0,60.0,62.5,60.0,60.0,57.5,50.0],[]],\"text\":[[\"8 reps\",\"6 reps\",\"8 reps\",\"6 reps\",\"8 reps\",\"7 reps\",\"7 reps\",\"7 reps\"],[\"8 reps\",\"7 reps\",\"6 reps\",\"6 reps\",\"8 reps\",\"8 reps\",\"9 reps\",\"10 reps\"],[]]},{\"updatemenus[1].buttons\":[{\"label\":\"Top Set (Failure)\",\"method\":\"update\",\"args\":[{\"visible\":[true,false,false]}]},{\"label\":\"Work Set 1\",\"method\":\"update\",\"args\":[{\"visible\":[false,true,false]}]},{\"label\":\"Todas as s\\\\u00e9ries\",\"method\":\"update\",\"args\":[{\"visible\":[true,true,false]}]}]}],\"label\":\"\\\\u00daltimos 60 dias\",\"method\":\"update\"},{\"args\":[{\"x\":[[\"2025-04-15\",\"2025-04-08\",\"2025-04-01\",\"2025-03-25\",\"2025-03-18\",\"2025-03-11\",\"2025-03-04\",\"2025-02-25\",\"2025-02-04\",\"2025-01-28\",\"2025-01-21\"],[\"2025-04-15\",\"2025-04-08\",\"2025-04-01\",\"2025-03-25\",\"2025-03-18\",\"2025-03-11\",\"2025-03-04\",\"2025-02-25\",\"2025-02-04\",\"2025-01-28\",\"2025-01-21\"],[\"2025-02-04\",\"2025-01-28\",\"2025-01-21\"]],\"y\":[[50.0,60.0,50.0,62.5,60.0,60.0,60.0,55.0,57.5,52.5,50.0],[50.0,60.0,60.0,62.5,60.0,60.0,57.5,50.0,55.0,52.5,60.0],[55.0,52.5,60.0]],\"text\":[[\"8 reps\",\"6 reps\",\"8 reps\",\"6 reps\",\"8 reps\",\"7 reps\",\"7 reps\",\"7 reps\",\"8 reps\",\"8 reps\",\"8 reps\"],[\"8 reps\",\"7 reps\",\"6 reps\",\"6 reps\",\"8 reps\",\"8 reps\",\"9 reps\",\"10 reps\",\"9 reps\",\"8 reps\",\"8 reps\"],[\"9 reps\",\"8 reps\",\"8 reps\"]]},{\"updatemenus[1].buttons\":[{\"label\":\"Top Set (Failure)\",\"method\":\"update\",\"args\":[{\"visible\":[true,false,false]}]},{\"label\":\"Work Set 1\",\"method\":\"update\",\"args\":[{\"visible\":[false,true,false]}]},{\"label\":\"Work Set 2\",\"method\":\"update\",\"args\":[{\"visible\":[false,false,true]}]},{\"label\":\"Todas as s\\\\u00e9ries\",\"method\":\"update\",\"args\":[{\"visible\":[true,true,true]}]}]}],\"label\":\"\\\\u00daltimos 90 dias\",\"method\":\"update\"}],\"direction\":\"down\",\"pad\":{\"r\":10,\"t\":10},\"showactive\":true,\"x\":0.6,\"xanchor\":\"left\",\"y\":1.2,\"yanchor\":\"top\"},{\"active\":0,\"bgcolor\":\"white\",\"bordercolor\":\"gray\",\"borderwidth\":1,\"buttons\":[{\"args\":[{\"visible\":[true,false,false]}],\"label\":\"Top Set (Failure)\",\"method\":\"update\"},{\"args\":[{\"visible\":[false,true,false]}],\"label\":\"Work Set 1\",\"method\":\"update\"},{\"args\":[{\"visible\":[true,true,false]}],\"label\":\"Todas as s\\\\u00e9ries\",\"method\":\"update\"}],\"direction\":\"down\",\"pad\":{\"r\":10,\"t\":10},\"showactive\":true,\"x\":0.99,\"xanchor\":\"right\",\"y\":1.2,\"yanchor\":\"top\"}],\"xaxis\":{\"tickformat\":\"%d\\\\u002f%m\\\\u002f%Y\",\"title\":{\"text\":\"Data\"}},\"yaxis\":{\"title\":{\"text\":\"Peso (kg)\"}},\"template\":{\"data\":{\"histogram2dcontour\":[{\"type\":\"histogram2dcontour\",\"colorbar\":{\"outlinewidth\":0,\"ticks\":\"\"},\"colorscale\":[[0.0,\"#0d0887\"],[0.1111111111111111,\"#46039f\"],[0.2222222222222222,\"#7201a8\"],[0.3333333333333333,\"#9c179e\"],[0.4444444444444444,\"#bd3786\"],[0.5555555555555556,\"#d8576b\"],[0.6666666666666666,\"#ed7953\"],[0.7777777777777778,\"#fb9f3a\"],[0.8888888888888888,\"#fdca26\"],[1.0,\"#f0f921\"]]}],\"choropleth\":[{\"type\":\"choropleth\",\"colorbar\":{\"outlinewidth\":0,\"ticks\":\"\"}}],\"histogram2d\":[{\"type\":\"histogram2d\",\"colorbar\":{\"outlinewidth\":0,\"ticks\":\"\"},\"colorscale\":[[0.0,\"#0d0887\"],[0.1111111111111111,\"#46039f\"],[0.2222222222222222,\"#7201a8\"],[0.3333333333333333,\"#9c179e\"],[0.4444444444444444,\"#bd3786\"],[0.5555555555555556,\"#d8576b\"],[0.6666666666666666,\"#ed7953\"],[0.7777777777777778,\"#fb9f3a\"],[0.8888888888888888,\"#fdca26\"],[1.0,\"#f0f921\"]]}],\"heatmap\":[{\"type\":\"heatmap\",\"colorbar\":{\"outlinewidth\":0,\"ticks\":\"\"},\"colorscale\":[[0.0,\"#0d0887\"],[0.1111111111111111,\"#46039f\"],[0.2222222222222222,\"#7201a8\"],[0.3333333333333333,\"#9c179e\"],[0.4444444444444444,\"#bd3786\"],[0.5555555555555556,\"#d8576b\"],[0.6666666666666666,\"#ed7953\"],[0.7777777777777778,\"#fb9f3a\"],[0.8888888888888888,\"#fdca26\"],[1.0,\"#f0f921\"]]}],\"contourcarpet\":[{\"type\":\"contourcarpet\",\"colorbar\":{\"outlinewidth\":0,\"ticks\":\"\"}}],\"contour\":[{\"type\":\"contour\",\"colorbar\":{\"outlinewidth\":0,\"ticks\":\"\"},\"colorscale\":[[0.0,\"#0d0887\"],[0.1111111111111111,\"#46039f\"],[0.2222222222222222,\"#7201a8\"],[0.3333333333333333,\"#9c179e\"],[0.4444444444444444,\"#bd3786\"],[0.5555555555555556,\"#d8576b\"],[0.6666666666666666,\"#ed7953\"],[0.7777777777777778,\"#fb9f3a\"],[0.8888888888888888,\"#fdca26\"],[1.0,\"#f0f921\"]]}],\"surface\":[{\"type\":\"surface\",\"colorbar\":{\"outlinewidth\":0,\"ticks\":\"\"},\"colorscale\":[[0.0,\"#0d0887\"],[0.1111111111111111,\"#46039f\"],[0.2222222222222222,\"#7201a8\"],[0.3333333333333333,\"#9c179e\"],[0.4444444444444444,\"#bd3786\"],[0.5555555555555556,\"#d8576b\"],[0.6666666666666666,\"#ed7953\"],[0.7777777777777778,\"#fb9f3a\"],[0.8888888888888888,\"#fdca26\"],[1.0,\"#f0f921\"]]}],\"mesh3d\":[{\"type\":\"mesh3d\",\"colorbar\":{\"outlinewidth\":0,\"ticks\":\"\"}}],\"scatter\":[{\"fillpattern\":{\"fillmode\":\"overlay\",\"size\":10,\"solidity\":0.2},\"type\":\"scatter\"}],\"parcoords\":[{\"type\":\"parcoords\",\"line\":{\"colorbar\":{\"outlinewidth\":0,\"ticks\":\"\"}}}],\"scatterpolargl\":[{\"type\":\"scatterpolargl\",\"marker\":{\"colorbar\":{\"outlinewidth\":0,\"ticks\":\"\"}}}],\"bar\":[{\"error_x\":{\"color\":\"#2a3f5f\"},\"error_y\":{\"color\":\"#2a3f5f\"},\"marker\":{\"line\":{\"color\":\"#E5ECF6\",\"width\":0.5},\"pattern\":{\"fillmode\":\"overlay\",\"size\":10,\"solidity\":0.2}},\"type\":\"bar\"}],\"scattergeo\":[{\"type\":\"scattergeo\",\"marker\":{\"colorbar\":{\"outlinewidth\":0,\"ticks\":\"\"}}}],\"scatterpolar\":[{\"type\":\"scatterpolar\",\"marker\":{\"colorbar\":{\"outlinewidth\":0,\"ticks\":\"\"}}}],\"histogram\":[{\"marker\":{\"pattern\":{\"fillmode\":\"overlay\",\"size\":10,\"solidity\":0.2}},\"type\":\"histogram\"}],\"scattergl\":[{\"type\":\"scattergl\",\"marker\":{\"colorbar\":{\"outlinewidth\":0,\"ticks\":\"\"}}}],\"scatter3d\":[{\"type\":\"scatter3d\",\"line\":{\"colorbar\":{\"outlinewidth\":0,\"ticks\":\"\"}},\"marker\":{\"colorbar\":{\"outlinewidth\":0,\"ticks\":\"\"}}}],\"scattermap\":[{\"type\":\"scattermap\",\"marker\":{\"colorbar\":{\"outlinewidth\":0,\"ticks\":\"\"}}}],\"scattermapbox\":[{\"type\":\"scattermapbox\",\"marker\":{\"colorbar\":{\"outlinewidth\":0,\"ticks\":\"\"}}}],\"scatterternary\":[{\"type\":\"scatterternary\",\"marker\":{\"colorbar\":{\"outlinewidth\":0,\"ticks\":\"\"}}}],\"scattercarpet\":[{\"type\":\"scattercarpet\",\"marker\":{\"colorbar\":{\"outlinewidth\":0,\"ticks\":\"\"}}}],\"carpet\":[{\"aaxis\":{\"endlinecolor\":\"#2a3f5f\",\"gridcolor\":\"white\",\"linecolor\":\"white\",\"minorgridcolor\":\"white\",\"startlinecolor\":\"#2a3f5f\"},\"baxis\":{\"endlinecolor\":\"#2a3f5f\",\"gridcolor\":\"white\",\"linecolor\":\"white\",\"minorgridcolor\":\"white\",\"startlinecolor\":\"#2a3f5f\"},\"type\":\"carpet\"}],\"table\":[{\"cells\":{\"fill\":{\"color\":\"#EBF0F8\"},\"line\":{\"color\":\"white\"}},\"header\":{\"fill\":{\"color\":\"#C8D4E3\"},\"line\":{\"color\":\"white\"}},\"type\":\"table\"}],\"barpolar\":[{\"marker\":{\"line\":{\"color\":\"#E5ECF6\",\"width\":0.5},\"pattern\":{\"fillmode\":\"overlay\",\"size\":10,\"solidity\":0.2}},\"type\":\"barpolar\"}],\"pie\":[{\"automargin\":true,\"type\":\"pie\"}]},\"layout\":{\"autotypenumbers\":\"strict\",\"colorway\":[\"#636efa\",\"#EF553B\",\"#00cc96\",\"#ab63fa\",\"#FFA15A\",\"#19d3f3\",\"#FF6692\",\"#B6E880\",\"#FF97FF\",\"#FECB52\"],\"font\":{\"color\":\"#2a3f5f\"},\"hovermode\":\"closest\",\"hoverlabel\":{\"align\":\"left\"},\"paper_bgcolor\":\"white\",\"plot_bgcolor\":\"#E5ECF6\",\"polar\":{\"bgcolor\":\"#E5ECF6\",\"angularaxis\":{\"gridcolor\":\"white\",\"linecolor\":\"white\",\"ticks\":\"\"},\"radialaxis\":{\"gridcolor\":\"white\",\"linecolor\":\"white\",\"ticks\":\"\"}},\"ternary\":{\"bgcolor\":\"#E5ECF6\",\"aaxis\":{\"gridcolor\":\"white\",\"linecolor\":\"white\",\"ticks\":\"\"},\"baxis\":{\"gridcolor\":\"white\",\"linecolor\":\"white\",\"ticks\":\"\"},\"caxis\":{\"gridcolor\":\"white\",\"linecolor\":\"white\",\"ticks\":\"\"}},\"coloraxis\":{\"colorbar\":{\"outlinewidth\":0,\"ticks\":\"\"}},\"colorscale\":{\"sequential\":[[0.0,\"#0d0887\"],[0.1111111111111111,\"#46039f\"],[0.2222222222222222,\"#7201a8\"],[0.3333333333333333,\"#9c179e\"],[0.4444444444444444,\"#bd3786\"],[0.5555555555555556,\"#d8576b\"],[0.6666666666666666,\"#ed7953\"],[0.7777777777777778,\"#fb9f3a\"],[0.8888888888888888,\"#fdca26\"],[1.0,\"#f0f921\"]],\"sequentialminus\":[[0.0,\"#0d0887\"],[0.1111111111111111,\"#46039f\"],[0.2222222222222222,\"#7201a8\"],[0.3333333333333333,\"#9c179e\"],[0.4444444444444444,\"#bd3786\"],[0.5555555555555556,\"#d8576b\"],[0.6666666666666666,\"#ed7953\"],[0.7777777777777778,\"#fb9f3a\"],[0.8888888888888888,\"#fdca26\"],[1.0,\"#f0f921\"]],\"diverging\":[[0,\"#8e0152\"],[0.1,\"#c51b7d\"],[0.2,\"#de77ae\"],[0.3,\"#f1b6da\"],[0.4,\"#fde0ef\"],[0.5,\"#f7f7f7\"],[0.6,\"#e6f5d0\"],[0.7,\"#b8e186\"],[0.8,\"#7fbc41\"],[0.9,\"#4d9221\"],[1,\"#276419\"]]},\"xaxis\":{\"gridcolor\":\"white\",\"linecolor\":\"white\",\"ticks\":\"\",\"title\":{\"standoff\":15},\"zerolinecolor\":\"white\",\"automargin\":true,\"zerolinewidth\":2},\"yaxis\":{\"gridcolor\":\"white\",\"linecolor\":\"white\",\"ticks\":\"\",\"title\":{\"standoff\":15},\"zerolinecolor\":\"white\",\"automargin\":true,\"zerolinewidth\":2},\"scene\":{\"xaxis\":{\"backgroundcolor\":\"#E5ECF6\",\"gridcolor\":\"white\",\"linecolor\":\"white\",\"showbackground\":true,\"ticks\":\"\",\"zerolinecolor\":\"white\",\"gridwidth\":2},\"yaxis\":{\"backgroundcolor\":\"#E5ECF6\",\"gridcolor\":\"white\",\"linecolor\":\"white\",\"showbackground\":true,\"ticks\":\"\",\"zerolinecolor\":\"white\",\"gridwidth\":2},\"zaxis\":{\"backgroundcolor\":\"#E5ECF6\",\"gridcolor\":\"white\",\"linecolor\":\"white\",\"showbackground\":true,\"ticks\":\"\",\"zerolinecolor\":\"white\",\"gridwidth\":2}},\"shapedefaults\":{\"line\":{\"color\":\"#2a3f5f\"}},\"annotationdefaults\":{\"arrowcolor\":\"#2a3f5f\",\"arrowhead\":0,\"arrowwidth\":1},\"geo\":{\"bgcolor\":\"white\",\"landcolor\":\"#E5ECF6\",\"subunitcolor\":\"white\",\"showland\":true,\"showlakes\":true,\"lakecolor\":\"white\"},\"title\":{\"x\":0.05},\"mapbox\":{\"style\":\"light\"}}}},                        {\"responsive\": true}                    )                };            </script>        </div>',\n",
       " ('Pull day - segunda-feira',\n",
       "  'Seated Cable Row - Bar Wide Grip'): '<div>                        <script type=\"text/javascript\">window.PlotlyConfig = {MathJaxConfig: \\'local\\'};</script>\\n        <script charset=\"utf-8\" src=\"https://cdn.plot.ly/plotly-3.0.1.min.js\"></script>                <div id=\"9d7d0e65-aca9-4893-828a-c329f594264c\" class=\"plotly-graph-div\" style=\"height:100%; width:100%;\"></div>            <script type=\"text/javascript\">                window.PLOTLYENV=window.PLOTLYENV || {};                                if (document.getElementById(\"9d7d0e65-aca9-4893-828a-c329f594264c\")) {                    Plotly.newPlot(                        \"9d7d0e65-aca9-4893-828a-c329f594264c\",                        [{\"mode\":\"lines+markers+text\",\"name\":\"Top Set (Failure)\",\"text\":[\"6 reps\",\"5 reps\",\"5 reps\",\"4 reps\",\"5 reps\"],\"textposition\":\"top center\",\"visible\":true,\"x\":[\"2025-04-14\",\"2025-04-07\",\"2025-03-31\",\"2025-03-24\",\"2025-03-17\"],\"y\":{\"dtype\":\"f8\",\"bdata\":\"AAAAAABAT0AAAAAAAIBRQAAAAAAA4FBAAAAAAACgVEAAAAAAAABUQA==\"},\"type\":\"scatter\"},{\"mode\":\"lines+markers+text\",\"name\":\"Work Set 1\",\"text\":[\"7 reps\",\"7 reps\",\"7 reps\",\"6 reps\",\"5 reps\"],\"textposition\":\"top center\",\"visible\":false,\"x\":[\"2025-04-14\",\"2025-04-07\",\"2025-03-31\",\"2025-03-24\",\"2025-03-17\"],\"y\":{\"dtype\":\"f8\",\"bdata\":\"AAAAAAAATkAAAAAAAOBQQAAAAAAAQFBAAAAAAAAAVEAAAAAAAGBTQA==\"},\"type\":\"scatter\"},{\"mode\":\"lines+markers+text\",\"name\":\"Work Set 2\",\"text\":[\"6 reps\"],\"textposition\":\"top center\",\"visible\":false,\"x\":[\"2025-03-17\"],\"y\":{\"dtype\":\"f8\",\"bdata\":\"AAAAAABgU0A=\"},\"type\":\"scatter\"},{\"mode\":\"lines+markers+text\",\"name\":\"Work Set 3\",\"text\":[],\"textposition\":\"top center\",\"visible\":false,\"x\":[],\"y\":[],\"type\":\"scatter\"}],                        {\"hovermode\":\"closest\",\"title\":{\"text\":\"Evolu\\\\u00e7\\\\u00e3o no Seated Cable Row - Bar Wide Grip (Pull day - segunda-feira)\"},\"updatemenus\":[{\"active\":0,\"bgcolor\":\"white\",\"bordercolor\":\"gray\",\"borderwidth\":1,\"buttons\":[{\"args\":[{\"x\":[[\"2025-04-14\",\"2025-04-07\",\"2025-03-31\",\"2025-03-24\",\"2025-03-17\"],[\"2025-04-14\",\"2025-04-07\",\"2025-03-31\",\"2025-03-24\",\"2025-03-17\"],[\"2025-03-17\"],[]],\"y\":[[62.5,70.0,67.5,82.5,80.0],[60.0,67.5,65.0,80.0,77.5],[77.5],[]],\"text\":[[\"6 reps\",\"5 reps\",\"5 reps\",\"4 reps\",\"5 reps\"],[\"7 reps\",\"7 reps\",\"7 reps\",\"6 reps\",\"5 reps\"],[\"6 reps\"],[]]},{\"updatemenus[1].buttons\":[{\"label\":\"Top Set (Failure)\",\"method\":\"update\",\"args\":[{\"visible\":[true,false,false,false]}]},{\"label\":\"Work Set 1\",\"method\":\"update\",\"args\":[{\"visible\":[false,true,false,false]}]},{\"label\":\"Work Set 2\",\"method\":\"update\",\"args\":[{\"visible\":[false,false,true,false]}]},{\"label\":\"Todas as s\\\\u00e9ries\",\"method\":\"update\",\"args\":[{\"visible\":[true,true,true,false]}]}],\"title\":\"Evolu\\\\u00e7\\\\u00e3o no Seated Cable Row - Bar Wide Grip (Pull day - segunda-feira) - \\\\u00daltimos 30 dias\"}],\"label\":\"\\\\u00daltimos 30 dias\",\"method\":\"update\"},{\"args\":[{\"x\":[[\"2025-04-14\",\"2025-04-07\",\"2025-03-31\",\"2025-03-24\",\"2025-03-17\",\"2025-03-10\",\"2025-03-03\",\"2025-02-24\"],[\"2025-04-14\",\"2025-04-07\",\"2025-03-31\",\"2025-03-24\",\"2025-03-17\",\"2025-03-10\",\"2025-03-03\",\"2025-02-24\"],[\"2025-03-17\",\"2025-03-10\",\"2025-03-03\",\"2025-02-24\"],[]],\"y\":[[62.5,70.0,67.5,82.5,80.0,77.5,75.0,72.5],[60.0,67.5,65.0,80.0,77.5,75.0,72.5,70.0],[77.5,75.0,72.5,70.0],[]],\"text\":[[\"6 reps\",\"5 reps\",\"5 reps\",\"4 reps\",\"5 reps\",\"5 reps\",\"6 reps\",\"4 reps\"],[\"7 reps\",\"7 reps\",\"7 reps\",\"6 reps\",\"5 reps\",\"6 reps\",\"6 reps\",\"6 reps\"],[\"6 reps\",\"6 reps\",\"6 reps\",\"6 reps\"],[]]},{\"updatemenus[1].buttons\":[{\"label\":\"Top Set (Failure)\",\"method\":\"update\",\"args\":[{\"visible\":[true,false,false,false]}]},{\"label\":\"Work Set 1\",\"method\":\"update\",\"args\":[{\"visible\":[false,true,false,false]}]},{\"label\":\"Work Set 2\",\"method\":\"update\",\"args\":[{\"visible\":[false,false,true,false]}]},{\"label\":\"Todas as s\\\\u00e9ries\",\"method\":\"update\",\"args\":[{\"visible\":[true,true,true,false]}]}]}],\"label\":\"\\\\u00daltimos 60 dias\",\"method\":\"update\"},{\"args\":[{\"x\":[[\"2025-04-14\",\"2025-04-07\",\"2025-03-31\",\"2025-03-24\",\"2025-03-17\",\"2025-03-10\",\"2025-03-03\",\"2025-02-24\",\"2025-02-03\",\"2025-01-20\"],[\"2025-04-14\",\"2025-04-07\",\"2025-03-31\",\"2025-03-24\",\"2025-03-17\",\"2025-03-10\",\"2025-03-03\",\"2025-02-24\",\"2025-02-03\",\"2025-01-20\"],[\"2025-03-17\",\"2025-03-10\",\"2025-03-03\",\"2025-02-24\",\"2025-02-03\",\"2025-01-20\"],[\"2025-02-03\"]],\"y\":[[62.5,70.0,67.5,82.5,80.0,77.5,75.0,72.5,77.5,87.5],[60.0,67.5,65.0,80.0,77.5,75.0,72.5,70.0,75.0,85.0],[77.5,75.0,72.5,70.0,75.0,85.0],[75.0]],\"text\":[[\"6 reps\",\"5 reps\",\"5 reps\",\"4 reps\",\"5 reps\",\"5 reps\",\"6 reps\",\"4 reps\",\"6 reps\",\"5 reps\"],[\"7 reps\",\"7 reps\",\"7 reps\",\"6 reps\",\"5 reps\",\"6 reps\",\"6 reps\",\"6 reps\",\"6 reps\",\"6 reps\"],[\"6 reps\",\"6 reps\",\"6 reps\",\"6 reps\",\"7 reps\",\"6 reps\"],[\"7 reps\"]]},{\"updatemenus[1].buttons\":[{\"label\":\"Top Set (Failure)\",\"method\":\"update\",\"args\":[{\"visible\":[true,false,false,false]}]},{\"label\":\"Work Set 1\",\"method\":\"update\",\"args\":[{\"visible\":[false,true,false,false]}]},{\"label\":\"Work Set 2\",\"method\":\"update\",\"args\":[{\"visible\":[false,false,true,false]}]},{\"label\":\"Work Set 3\",\"method\":\"update\",\"args\":[{\"visible\":[false,false,false,true]}]},{\"label\":\"Todas as s\\\\u00e9ries\",\"method\":\"update\",\"args\":[{\"visible\":[true,true,true,true]}]}]}],\"label\":\"\\\\u00daltimos 90 dias\",\"method\":\"update\"}],\"direction\":\"down\",\"pad\":{\"r\":10,\"t\":10},\"showactive\":true,\"x\":0.6,\"xanchor\":\"left\",\"y\":1.2,\"yanchor\":\"top\"},{\"active\":0,\"bgcolor\":\"white\",\"bordercolor\":\"gray\",\"borderwidth\":1,\"buttons\":[{\"args\":[{\"visible\":[true,false,false,false]}],\"label\":\"Top Set (Failure)\",\"method\":\"update\"},{\"args\":[{\"visible\":[false,true,false,false]}],\"label\":\"Work Set 1\",\"method\":\"update\"},{\"args\":[{\"visible\":[false,false,true,false]}],\"label\":\"Work Set 2\",\"method\":\"update\"},{\"args\":[{\"visible\":[true,true,true,false]}],\"label\":\"Todas as s\\\\u00e9ries\",\"method\":\"update\"}],\"direction\":\"down\",\"pad\":{\"r\":10,\"t\":10},\"showactive\":true,\"x\":0.99,\"xanchor\":\"right\",\"y\":1.2,\"yanchor\":\"top\"}],\"xaxis\":{\"tickformat\":\"%d\\\\u002f%m\\\\u002f%Y\",\"title\":{\"text\":\"Data\"}},\"yaxis\":{\"title\":{\"text\":\"Peso (kg)\"}},\"template\":{\"data\":{\"histogram2dcontour\":[{\"type\":\"histogram2dcontour\",\"colorbar\":{\"outlinewidth\":0,\"ticks\":\"\"},\"colorscale\":[[0.0,\"#0d0887\"],[0.1111111111111111,\"#46039f\"],[0.2222222222222222,\"#7201a8\"],[0.3333333333333333,\"#9c179e\"],[0.4444444444444444,\"#bd3786\"],[0.5555555555555556,\"#d8576b\"],[0.6666666666666666,\"#ed7953\"],[0.7777777777777778,\"#fb9f3a\"],[0.8888888888888888,\"#fdca26\"],[1.0,\"#f0f921\"]]}],\"choropleth\":[{\"type\":\"choropleth\",\"colorbar\":{\"outlinewidth\":0,\"ticks\":\"\"}}],\"histogram2d\":[{\"type\":\"histogram2d\",\"colorbar\":{\"outlinewidth\":0,\"ticks\":\"\"},\"colorscale\":[[0.0,\"#0d0887\"],[0.1111111111111111,\"#46039f\"],[0.2222222222222222,\"#7201a8\"],[0.3333333333333333,\"#9c179e\"],[0.4444444444444444,\"#bd3786\"],[0.5555555555555556,\"#d8576b\"],[0.6666666666666666,\"#ed7953\"],[0.7777777777777778,\"#fb9f3a\"],[0.8888888888888888,\"#fdca26\"],[1.0,\"#f0f921\"]]}],\"heatmap\":[{\"type\":\"heatmap\",\"colorbar\":{\"outlinewidth\":0,\"ticks\":\"\"},\"colorscale\":[[0.0,\"#0d0887\"],[0.1111111111111111,\"#46039f\"],[0.2222222222222222,\"#7201a8\"],[0.3333333333333333,\"#9c179e\"],[0.4444444444444444,\"#bd3786\"],[0.5555555555555556,\"#d8576b\"],[0.6666666666666666,\"#ed7953\"],[0.7777777777777778,\"#fb9f3a\"],[0.8888888888888888,\"#fdca26\"],[1.0,\"#f0f921\"]]}],\"contourcarpet\":[{\"type\":\"contourcarpet\",\"colorbar\":{\"outlinewidth\":0,\"ticks\":\"\"}}],\"contour\":[{\"type\":\"contour\",\"colorbar\":{\"outlinewidth\":0,\"ticks\":\"\"},\"colorscale\":[[0.0,\"#0d0887\"],[0.1111111111111111,\"#46039f\"],[0.2222222222222222,\"#7201a8\"],[0.3333333333333333,\"#9c179e\"],[0.4444444444444444,\"#bd3786\"],[0.5555555555555556,\"#d8576b\"],[0.6666666666666666,\"#ed7953\"],[0.7777777777777778,\"#fb9f3a\"],[0.8888888888888888,\"#fdca26\"],[1.0,\"#f0f921\"]]}],\"surface\":[{\"type\":\"surface\",\"colorbar\":{\"outlinewidth\":0,\"ticks\":\"\"},\"colorscale\":[[0.0,\"#0d0887\"],[0.1111111111111111,\"#46039f\"],[0.2222222222222222,\"#7201a8\"],[0.3333333333333333,\"#9c179e\"],[0.4444444444444444,\"#bd3786\"],[0.5555555555555556,\"#d8576b\"],[0.6666666666666666,\"#ed7953\"],[0.7777777777777778,\"#fb9f3a\"],[0.8888888888888888,\"#fdca26\"],[1.0,\"#f0f921\"]]}],\"mesh3d\":[{\"type\":\"mesh3d\",\"colorbar\":{\"outlinewidth\":0,\"ticks\":\"\"}}],\"scatter\":[{\"fillpattern\":{\"fillmode\":\"overlay\",\"size\":10,\"solidity\":0.2},\"type\":\"scatter\"}],\"parcoords\":[{\"type\":\"parcoords\",\"line\":{\"colorbar\":{\"outlinewidth\":0,\"ticks\":\"\"}}}],\"scatterpolargl\":[{\"type\":\"scatterpolargl\",\"marker\":{\"colorbar\":{\"outlinewidth\":0,\"ticks\":\"\"}}}],\"bar\":[{\"error_x\":{\"color\":\"#2a3f5f\"},\"error_y\":{\"color\":\"#2a3f5f\"},\"marker\":{\"line\":{\"color\":\"#E5ECF6\",\"width\":0.5},\"pattern\":{\"fillmode\":\"overlay\",\"size\":10,\"solidity\":0.2}},\"type\":\"bar\"}],\"scattergeo\":[{\"type\":\"scattergeo\",\"marker\":{\"colorbar\":{\"outlinewidth\":0,\"ticks\":\"\"}}}],\"scatterpolar\":[{\"type\":\"scatterpolar\",\"marker\":{\"colorbar\":{\"outlinewidth\":0,\"ticks\":\"\"}}}],\"histogram\":[{\"marker\":{\"pattern\":{\"fillmode\":\"overlay\",\"size\":10,\"solidity\":0.2}},\"type\":\"histogram\"}],\"scattergl\":[{\"type\":\"scattergl\",\"marker\":{\"colorbar\":{\"outlinewidth\":0,\"ticks\":\"\"}}}],\"scatter3d\":[{\"type\":\"scatter3d\",\"line\":{\"colorbar\":{\"outlinewidth\":0,\"ticks\":\"\"}},\"marker\":{\"colorbar\":{\"outlinewidth\":0,\"ticks\":\"\"}}}],\"scattermap\":[{\"type\":\"scattermap\",\"marker\":{\"colorbar\":{\"outlinewidth\":0,\"ticks\":\"\"}}}],\"scattermapbox\":[{\"type\":\"scattermapbox\",\"marker\":{\"colorbar\":{\"outlinewidth\":0,\"ticks\":\"\"}}}],\"scatterternary\":[{\"type\":\"scatterternary\",\"marker\":{\"colorbar\":{\"outlinewidth\":0,\"ticks\":\"\"}}}],\"scattercarpet\":[{\"type\":\"scattercarpet\",\"marker\":{\"colorbar\":{\"outlinewidth\":0,\"ticks\":\"\"}}}],\"carpet\":[{\"aaxis\":{\"endlinecolor\":\"#2a3f5f\",\"gridcolor\":\"white\",\"linecolor\":\"white\",\"minorgridcolor\":\"white\",\"startlinecolor\":\"#2a3f5f\"},\"baxis\":{\"endlinecolor\":\"#2a3f5f\",\"gridcolor\":\"white\",\"linecolor\":\"white\",\"minorgridcolor\":\"white\",\"startlinecolor\":\"#2a3f5f\"},\"type\":\"carpet\"}],\"table\":[{\"cells\":{\"fill\":{\"color\":\"#EBF0F8\"},\"line\":{\"color\":\"white\"}},\"header\":{\"fill\":{\"color\":\"#C8D4E3\"},\"line\":{\"color\":\"white\"}},\"type\":\"table\"}],\"barpolar\":[{\"marker\":{\"line\":{\"color\":\"#E5ECF6\",\"width\":0.5},\"pattern\":{\"fillmode\":\"overlay\",\"size\":10,\"solidity\":0.2}},\"type\":\"barpolar\"}],\"pie\":[{\"automargin\":true,\"type\":\"pie\"}]},\"layout\":{\"autotypenumbers\":\"strict\",\"colorway\":[\"#636efa\",\"#EF553B\",\"#00cc96\",\"#ab63fa\",\"#FFA15A\",\"#19d3f3\",\"#FF6692\",\"#B6E880\",\"#FF97FF\",\"#FECB52\"],\"font\":{\"color\":\"#2a3f5f\"},\"hovermode\":\"closest\",\"hoverlabel\":{\"align\":\"left\"},\"paper_bgcolor\":\"white\",\"plot_bgcolor\":\"#E5ECF6\",\"polar\":{\"bgcolor\":\"#E5ECF6\",\"angularaxis\":{\"gridcolor\":\"white\",\"linecolor\":\"white\",\"ticks\":\"\"},\"radialaxis\":{\"gridcolor\":\"white\",\"linecolor\":\"white\",\"ticks\":\"\"}},\"ternary\":{\"bgcolor\":\"#E5ECF6\",\"aaxis\":{\"gridcolor\":\"white\",\"linecolor\":\"white\",\"ticks\":\"\"},\"baxis\":{\"gridcolor\":\"white\",\"linecolor\":\"white\",\"ticks\":\"\"},\"caxis\":{\"gridcolor\":\"white\",\"linecolor\":\"white\",\"ticks\":\"\"}},\"coloraxis\":{\"colorbar\":{\"outlinewidth\":0,\"ticks\":\"\"}},\"colorscale\":{\"sequential\":[[0.0,\"#0d0887\"],[0.1111111111111111,\"#46039f\"],[0.2222222222222222,\"#7201a8\"],[0.3333333333333333,\"#9c179e\"],[0.4444444444444444,\"#bd3786\"],[0.5555555555555556,\"#d8576b\"],[0.6666666666666666,\"#ed7953\"],[0.7777777777777778,\"#fb9f3a\"],[0.8888888888888888,\"#fdca26\"],[1.0,\"#f0f921\"]],\"sequentialminus\":[[0.0,\"#0d0887\"],[0.1111111111111111,\"#46039f\"],[0.2222222222222222,\"#7201a8\"],[0.3333333333333333,\"#9c179e\"],[0.4444444444444444,\"#bd3786\"],[0.5555555555555556,\"#d8576b\"],[0.6666666666666666,\"#ed7953\"],[0.7777777777777778,\"#fb9f3a\"],[0.8888888888888888,\"#fdca26\"],[1.0,\"#f0f921\"]],\"diverging\":[[0,\"#8e0152\"],[0.1,\"#c51b7d\"],[0.2,\"#de77ae\"],[0.3,\"#f1b6da\"],[0.4,\"#fde0ef\"],[0.5,\"#f7f7f7\"],[0.6,\"#e6f5d0\"],[0.7,\"#b8e186\"],[0.8,\"#7fbc41\"],[0.9,\"#4d9221\"],[1,\"#276419\"]]},\"xaxis\":{\"gridcolor\":\"white\",\"linecolor\":\"white\",\"ticks\":\"\",\"title\":{\"standoff\":15},\"zerolinecolor\":\"white\",\"automargin\":true,\"zerolinewidth\":2},\"yaxis\":{\"gridcolor\":\"white\",\"linecolor\":\"white\",\"ticks\":\"\",\"title\":{\"standoff\":15},\"zerolinecolor\":\"white\",\"automargin\":true,\"zerolinewidth\":2},\"scene\":{\"xaxis\":{\"backgroundcolor\":\"#E5ECF6\",\"gridcolor\":\"white\",\"linecolor\":\"white\",\"showbackground\":true,\"ticks\":\"\",\"zerolinecolor\":\"white\",\"gridwidth\":2},\"yaxis\":{\"backgroundcolor\":\"#E5ECF6\",\"gridcolor\":\"white\",\"linecolor\":\"white\",\"showbackground\":true,\"ticks\":\"\",\"zerolinecolor\":\"white\",\"gridwidth\":2},\"zaxis\":{\"backgroundcolor\":\"#E5ECF6\",\"gridcolor\":\"white\",\"linecolor\":\"white\",\"showbackground\":true,\"ticks\":\"\",\"zerolinecolor\":\"white\",\"gridwidth\":2}},\"shapedefaults\":{\"line\":{\"color\":\"#2a3f5f\"}},\"annotationdefaults\":{\"arrowcolor\":\"#2a3f5f\",\"arrowhead\":0,\"arrowwidth\":1},\"geo\":{\"bgcolor\":\"white\",\"landcolor\":\"#E5ECF6\",\"subunitcolor\":\"white\",\"showland\":true,\"showlakes\":true,\"lakecolor\":\"white\"},\"title\":{\"x\":0.05},\"mapbox\":{\"style\":\"light\"}}}},                        {\"responsive\": true}                    )                };            </script>        </div>',\n",
       " ('Pull day - segunda-feira',\n",
       "  'Pull Up (Weighted)'): '<div>                        <script type=\"text/javascript\">window.PlotlyConfig = {MathJaxConfig: \\'local\\'};</script>\\n        <script charset=\"utf-8\" src=\"https://cdn.plot.ly/plotly-3.0.1.min.js\"></script>                <div id=\"cde6c0d5-dc2f-41a8-abd8-df8ea77ad4cd\" class=\"plotly-graph-div\" style=\"height:100%; width:100%;\"></div>            <script type=\"text/javascript\">                window.PLOTLYENV=window.PLOTLYENV || {};                                if (document.getElementById(\"cde6c0d5-dc2f-41a8-abd8-df8ea77ad4cd\")) {                    Plotly.newPlot(                        \"cde6c0d5-dc2f-41a8-abd8-df8ea77ad4cd\",                        [{\"mode\":\"lines+markers+text\",\"name\":\"Top Set (Failure)\",\"text\":[\"5 reps\",\"5 reps\",\"5 reps\",\"5 reps\",\"5 reps\"],\"textposition\":\"top center\",\"visible\":true,\"x\":[\"2025-04-14\",\"2025-04-07\",\"2025-03-31\",\"2025-03-24\",\"2025-03-17\"],\"y\":{\"dtype\":\"f8\",\"bdata\":\"AAAAAAAAKUAAAAAAAAAkQAAAAAAAACRAAAAAAAAANEAAAAAAAAA0QA==\"},\"type\":\"scatter\"},{\"mode\":\"lines+markers+text\",\"name\":\"Work Set 1\",\"text\":[\"6 reps\",\"6 reps\",\"7 reps\",\"6 reps\",\"6 reps\"],\"textposition\":\"top center\",\"visible\":false,\"x\":[\"2025-04-14\",\"2025-04-07\",\"2025-03-31\",\"2025-03-24\",\"2025-03-17\"],\"y\":{\"dtype\":\"f8\",\"bdata\":\"AAAAAAAAJEAAAAAAAAAkQAAAAAAAABRAAAAAAAAANEAAAAAAAIAxQA==\"},\"type\":\"scatter\"},{\"mode\":\"lines+markers+text\",\"name\":\"Work Set 2\",\"text\":[\"6 reps\"],\"textposition\":\"top center\",\"visible\":false,\"x\":[\"2025-03-17\"],\"y\":{\"dtype\":\"f8\",\"bdata\":\"AAAAAACAMUA=\"},\"type\":\"scatter\"},{\"mode\":\"lines+markers+text\",\"name\":\"Work Set 3\",\"text\":[],\"textposition\":\"top center\",\"visible\":false,\"x\":[],\"y\":[],\"type\":\"scatter\"}],                        {\"hovermode\":\"closest\",\"title\":{\"text\":\"Evolu\\\\u00e7\\\\u00e3o no Pull Up (Weighted) (Pull day - segunda-feira)\"},\"updatemenus\":[{\"active\":0,\"bgcolor\":\"white\",\"bordercolor\":\"gray\",\"borderwidth\":1,\"buttons\":[{\"args\":[{\"x\":[[\"2025-04-14\",\"2025-04-07\",\"2025-03-31\",\"2025-03-24\",\"2025-03-17\"],[\"2025-04-14\",\"2025-04-07\",\"2025-03-31\",\"2025-03-24\",\"2025-03-17\"],[\"2025-03-17\"],[]],\"y\":[[12.5,10.0,10.0,20.0,20.0],[10.0,10.0,5.0,20.0,17.5],[17.5],[]],\"text\":[[\"5 reps\",\"5 reps\",\"5 reps\",\"5 reps\",\"5 reps\"],[\"6 reps\",\"6 reps\",\"7 reps\",\"6 reps\",\"6 reps\"],[\"6 reps\"],[]]},{\"updatemenus[1].buttons\":[{\"label\":\"Top Set (Failure)\",\"method\":\"update\",\"args\":[{\"visible\":[true,false,false,false]}]},{\"label\":\"Work Set 1\",\"method\":\"update\",\"args\":[{\"visible\":[false,true,false,false]}]},{\"label\":\"Work Set 2\",\"method\":\"update\",\"args\":[{\"visible\":[false,false,true,false]}]},{\"label\":\"Todas as s\\\\u00e9ries\",\"method\":\"update\",\"args\":[{\"visible\":[true,true,true,false]}]}],\"title\":\"Evolu\\\\u00e7\\\\u00e3o no Pull Up (Weighted) (Pull day - segunda-feira) - \\\\u00daltimos 30 dias\"}],\"label\":\"\\\\u00daltimos 30 dias\",\"method\":\"update\"},{\"args\":[{\"x\":[[\"2025-04-14\",\"2025-04-07\",\"2025-03-31\",\"2025-03-24\",\"2025-03-17\",\"2025-03-10\",\"2025-03-03\",\"2025-02-24\"],[\"2025-04-14\",\"2025-04-07\",\"2025-03-31\",\"2025-03-24\",\"2025-03-17\",\"2025-03-10\",\"2025-03-03\",\"2025-02-24\"],[\"2025-03-17\",\"2025-03-10\",\"2025-03-03\",\"2025-02-24\"],[]],\"y\":[[12.5,10.0,10.0,20.0,20.0,20.0,20.0,10.0],[10.0,10.0,5.0,20.0,17.5,15.0,15.0,10.0],[17.5,15.0,15.0,10.0],[]],\"text\":[[\"5 reps\",\"5 reps\",\"5 reps\",\"5 reps\",\"5 reps\",\"4 reps\",\"4 reps\",\"4 reps\"],[\"6 reps\",\"6 reps\",\"7 reps\",\"6 reps\",\"6 reps\",\"6 reps\",\"6 reps\",\"6 reps\"],[\"6 reps\",\"6 reps\",\"6 reps\",\"6 reps\"],[]]},{\"updatemenus[1].buttons\":[{\"label\":\"Top Set (Failure)\",\"method\":\"update\",\"args\":[{\"visible\":[true,false,false,false]}]},{\"label\":\"Work Set 1\",\"method\":\"update\",\"args\":[{\"visible\":[false,true,false,false]}]},{\"label\":\"Work Set 2\",\"method\":\"update\",\"args\":[{\"visible\":[false,false,true,false]}]},{\"label\":\"Todas as s\\\\u00e9ries\",\"method\":\"update\",\"args\":[{\"visible\":[true,true,true,false]}]}]}],\"label\":\"\\\\u00daltimos 60 dias\",\"method\":\"update\"},{\"args\":[{\"x\":[[\"2025-04-14\",\"2025-04-07\",\"2025-03-31\",\"2025-03-24\",\"2025-03-17\",\"2025-03-10\",\"2025-03-03\",\"2025-02-24\",\"2025-02-03\",\"2025-01-20\"],[\"2025-04-14\",\"2025-04-07\",\"2025-03-31\",\"2025-03-24\",\"2025-03-17\",\"2025-03-10\",\"2025-03-03\",\"2025-02-24\",\"2025-02-03\",\"2025-01-20\"],[\"2025-03-17\",\"2025-03-10\",\"2025-03-03\",\"2025-02-24\",\"2025-02-03\",\"2025-01-20\"],[\"2025-02-03\"]],\"y\":[[12.5,10.0,10.0,20.0,20.0,20.0,20.0,10.0,10.0,20.0],[10.0,10.0,5.0,20.0,17.5,15.0,15.0,10.0,20.0,20.0],[17.5,15.0,15.0,10.0,10.0,20.0],[15.0]],\"text\":[[\"5 reps\",\"5 reps\",\"5 reps\",\"5 reps\",\"5 reps\",\"4 reps\",\"4 reps\",\"4 reps\",\"6 reps\",\"5 reps\"],[\"6 reps\",\"6 reps\",\"7 reps\",\"6 reps\",\"6 reps\",\"6 reps\",\"6 reps\",\"6 reps\",\"5 reps\",\"5 reps\"],[\"6 reps\",\"6 reps\",\"6 reps\",\"6 reps\",\"6 reps\",\"5 reps\"],[\"5 reps\"]]},{\"updatemenus[1].buttons\":[{\"label\":\"Top Set (Failure)\",\"method\":\"update\",\"args\":[{\"visible\":[true,false,false,false]}]},{\"label\":\"Work Set 1\",\"method\":\"update\",\"args\":[{\"visible\":[false,true,false,false]}]},{\"label\":\"Work Set 2\",\"method\":\"update\",\"args\":[{\"visible\":[false,false,true,false]}]},{\"label\":\"Work Set 3\",\"method\":\"update\",\"args\":[{\"visible\":[false,false,false,true]}]},{\"label\":\"Todas as s\\\\u00e9ries\",\"method\":\"update\",\"args\":[{\"visible\":[true,true,true,true]}]}]}],\"label\":\"\\\\u00daltimos 90 dias\",\"method\":\"update\"}],\"direction\":\"down\",\"pad\":{\"r\":10,\"t\":10},\"showactive\":true,\"x\":0.6,\"xanchor\":\"left\",\"y\":1.2,\"yanchor\":\"top\"},{\"active\":0,\"bgcolor\":\"white\",\"bordercolor\":\"gray\",\"borderwidth\":1,\"buttons\":[{\"args\":[{\"visible\":[true,false,false,false]}],\"label\":\"Top Set (Failure)\",\"method\":\"update\"},{\"args\":[{\"visible\":[false,true,false,false]}],\"label\":\"Work Set 1\",\"method\":\"update\"},{\"args\":[{\"visible\":[false,false,true,false]}],\"label\":\"Work Set 2\",\"method\":\"update\"},{\"args\":[{\"visible\":[true,true,true,false]}],\"label\":\"Todas as s\\\\u00e9ries\",\"method\":\"update\"}],\"direction\":\"down\",\"pad\":{\"r\":10,\"t\":10},\"showactive\":true,\"x\":0.99,\"xanchor\":\"right\",\"y\":1.2,\"yanchor\":\"top\"}],\"xaxis\":{\"tickformat\":\"%d\\\\u002f%m\\\\u002f%Y\",\"title\":{\"text\":\"Data\"}},\"yaxis\":{\"title\":{\"text\":\"Peso (kg)\"}},\"template\":{\"data\":{\"histogram2dcontour\":[{\"type\":\"histogram2dcontour\",\"colorbar\":{\"outlinewidth\":0,\"ticks\":\"\"},\"colorscale\":[[0.0,\"#0d0887\"],[0.1111111111111111,\"#46039f\"],[0.2222222222222222,\"#7201a8\"],[0.3333333333333333,\"#9c179e\"],[0.4444444444444444,\"#bd3786\"],[0.5555555555555556,\"#d8576b\"],[0.6666666666666666,\"#ed7953\"],[0.7777777777777778,\"#fb9f3a\"],[0.8888888888888888,\"#fdca26\"],[1.0,\"#f0f921\"]]}],\"choropleth\":[{\"type\":\"choropleth\",\"colorbar\":{\"outlinewidth\":0,\"ticks\":\"\"}}],\"histogram2d\":[{\"type\":\"histogram2d\",\"colorbar\":{\"outlinewidth\":0,\"ticks\":\"\"},\"colorscale\":[[0.0,\"#0d0887\"],[0.1111111111111111,\"#46039f\"],[0.2222222222222222,\"#7201a8\"],[0.3333333333333333,\"#9c179e\"],[0.4444444444444444,\"#bd3786\"],[0.5555555555555556,\"#d8576b\"],[0.6666666666666666,\"#ed7953\"],[0.7777777777777778,\"#fb9f3a\"],[0.8888888888888888,\"#fdca26\"],[1.0,\"#f0f921\"]]}],\"heatmap\":[{\"type\":\"heatmap\",\"colorbar\":{\"outlinewidth\":0,\"ticks\":\"\"},\"colorscale\":[[0.0,\"#0d0887\"],[0.1111111111111111,\"#46039f\"],[0.2222222222222222,\"#7201a8\"],[0.3333333333333333,\"#9c179e\"],[0.4444444444444444,\"#bd3786\"],[0.5555555555555556,\"#d8576b\"],[0.6666666666666666,\"#ed7953\"],[0.7777777777777778,\"#fb9f3a\"],[0.8888888888888888,\"#fdca26\"],[1.0,\"#f0f921\"]]}],\"contourcarpet\":[{\"type\":\"contourcarpet\",\"colorbar\":{\"outlinewidth\":0,\"ticks\":\"\"}}],\"contour\":[{\"type\":\"contour\",\"colorbar\":{\"outlinewidth\":0,\"ticks\":\"\"},\"colorscale\":[[0.0,\"#0d0887\"],[0.1111111111111111,\"#46039f\"],[0.2222222222222222,\"#7201a8\"],[0.3333333333333333,\"#9c179e\"],[0.4444444444444444,\"#bd3786\"],[0.5555555555555556,\"#d8576b\"],[0.6666666666666666,\"#ed7953\"],[0.7777777777777778,\"#fb9f3a\"],[0.8888888888888888,\"#fdca26\"],[1.0,\"#f0f921\"]]}],\"surface\":[{\"type\":\"surface\",\"colorbar\":{\"outlinewidth\":0,\"ticks\":\"\"},\"colorscale\":[[0.0,\"#0d0887\"],[0.1111111111111111,\"#46039f\"],[0.2222222222222222,\"#7201a8\"],[0.3333333333333333,\"#9c179e\"],[0.4444444444444444,\"#bd3786\"],[0.5555555555555556,\"#d8576b\"],[0.6666666666666666,\"#ed7953\"],[0.7777777777777778,\"#fb9f3a\"],[0.8888888888888888,\"#fdca26\"],[1.0,\"#f0f921\"]]}],\"mesh3d\":[{\"type\":\"mesh3d\",\"colorbar\":{\"outlinewidth\":0,\"ticks\":\"\"}}],\"scatter\":[{\"fillpattern\":{\"fillmode\":\"overlay\",\"size\":10,\"solidity\":0.2},\"type\":\"scatter\"}],\"parcoords\":[{\"type\":\"parcoords\",\"line\":{\"colorbar\":{\"outlinewidth\":0,\"ticks\":\"\"}}}],\"scatterpolargl\":[{\"type\":\"scatterpolargl\",\"marker\":{\"colorbar\":{\"outlinewidth\":0,\"ticks\":\"\"}}}],\"bar\":[{\"error_x\":{\"color\":\"#2a3f5f\"},\"error_y\":{\"color\":\"#2a3f5f\"},\"marker\":{\"line\":{\"color\":\"#E5ECF6\",\"width\":0.5},\"pattern\":{\"fillmode\":\"overlay\",\"size\":10,\"solidity\":0.2}},\"type\":\"bar\"}],\"scattergeo\":[{\"type\":\"scattergeo\",\"marker\":{\"colorbar\":{\"outlinewidth\":0,\"ticks\":\"\"}}}],\"scatterpolar\":[{\"type\":\"scatterpolar\",\"marker\":{\"colorbar\":{\"outlinewidth\":0,\"ticks\":\"\"}}}],\"histogram\":[{\"marker\":{\"pattern\":{\"fillmode\":\"overlay\",\"size\":10,\"solidity\":0.2}},\"type\":\"histogram\"}],\"scattergl\":[{\"type\":\"scattergl\",\"marker\":{\"colorbar\":{\"outlinewidth\":0,\"ticks\":\"\"}}}],\"scatter3d\":[{\"type\":\"scatter3d\",\"line\":{\"colorbar\":{\"outlinewidth\":0,\"ticks\":\"\"}},\"marker\":{\"colorbar\":{\"outlinewidth\":0,\"ticks\":\"\"}}}],\"scattermap\":[{\"type\":\"scattermap\",\"marker\":{\"colorbar\":{\"outlinewidth\":0,\"ticks\":\"\"}}}],\"scattermapbox\":[{\"type\":\"scattermapbox\",\"marker\":{\"colorbar\":{\"outlinewidth\":0,\"ticks\":\"\"}}}],\"scatterternary\":[{\"type\":\"scatterternary\",\"marker\":{\"colorbar\":{\"outlinewidth\":0,\"ticks\":\"\"}}}],\"scattercarpet\":[{\"type\":\"scattercarpet\",\"marker\":{\"colorbar\":{\"outlinewidth\":0,\"ticks\":\"\"}}}],\"carpet\":[{\"aaxis\":{\"endlinecolor\":\"#2a3f5f\",\"gridcolor\":\"white\",\"linecolor\":\"white\",\"minorgridcolor\":\"white\",\"startlinecolor\":\"#2a3f5f\"},\"baxis\":{\"endlinecolor\":\"#2a3f5f\",\"gridcolor\":\"white\",\"linecolor\":\"white\",\"minorgridcolor\":\"white\",\"startlinecolor\":\"#2a3f5f\"},\"type\":\"carpet\"}],\"table\":[{\"cells\":{\"fill\":{\"color\":\"#EBF0F8\"},\"line\":{\"color\":\"white\"}},\"header\":{\"fill\":{\"color\":\"#C8D4E3\"},\"line\":{\"color\":\"white\"}},\"type\":\"table\"}],\"barpolar\":[{\"marker\":{\"line\":{\"color\":\"#E5ECF6\",\"width\":0.5},\"pattern\":{\"fillmode\":\"overlay\",\"size\":10,\"solidity\":0.2}},\"type\":\"barpolar\"}],\"pie\":[{\"automargin\":true,\"type\":\"pie\"}]},\"layout\":{\"autotypenumbers\":\"strict\",\"colorway\":[\"#636efa\",\"#EF553B\",\"#00cc96\",\"#ab63fa\",\"#FFA15A\",\"#19d3f3\",\"#FF6692\",\"#B6E880\",\"#FF97FF\",\"#FECB52\"],\"font\":{\"color\":\"#2a3f5f\"},\"hovermode\":\"closest\",\"hoverlabel\":{\"align\":\"left\"},\"paper_bgcolor\":\"white\",\"plot_bgcolor\":\"#E5ECF6\",\"polar\":{\"bgcolor\":\"#E5ECF6\",\"angularaxis\":{\"gridcolor\":\"white\",\"linecolor\":\"white\",\"ticks\":\"\"},\"radialaxis\":{\"gridcolor\":\"white\",\"linecolor\":\"white\",\"ticks\":\"\"}},\"ternary\":{\"bgcolor\":\"#E5ECF6\",\"aaxis\":{\"gridcolor\":\"white\",\"linecolor\":\"white\",\"ticks\":\"\"},\"baxis\":{\"gridcolor\":\"white\",\"linecolor\":\"white\",\"ticks\":\"\"},\"caxis\":{\"gridcolor\":\"white\",\"linecolor\":\"white\",\"ticks\":\"\"}},\"coloraxis\":{\"colorbar\":{\"outlinewidth\":0,\"ticks\":\"\"}},\"colorscale\":{\"sequential\":[[0.0,\"#0d0887\"],[0.1111111111111111,\"#46039f\"],[0.2222222222222222,\"#7201a8\"],[0.3333333333333333,\"#9c179e\"],[0.4444444444444444,\"#bd3786\"],[0.5555555555555556,\"#d8576b\"],[0.6666666666666666,\"#ed7953\"],[0.7777777777777778,\"#fb9f3a\"],[0.8888888888888888,\"#fdca26\"],[1.0,\"#f0f921\"]],\"sequentialminus\":[[0.0,\"#0d0887\"],[0.1111111111111111,\"#46039f\"],[0.2222222222222222,\"#7201a8\"],[0.3333333333333333,\"#9c179e\"],[0.4444444444444444,\"#bd3786\"],[0.5555555555555556,\"#d8576b\"],[0.6666666666666666,\"#ed7953\"],[0.7777777777777778,\"#fb9f3a\"],[0.8888888888888888,\"#fdca26\"],[1.0,\"#f0f921\"]],\"diverging\":[[0,\"#8e0152\"],[0.1,\"#c51b7d\"],[0.2,\"#de77ae\"],[0.3,\"#f1b6da\"],[0.4,\"#fde0ef\"],[0.5,\"#f7f7f7\"],[0.6,\"#e6f5d0\"],[0.7,\"#b8e186\"],[0.8,\"#7fbc41\"],[0.9,\"#4d9221\"],[1,\"#276419\"]]},\"xaxis\":{\"gridcolor\":\"white\",\"linecolor\":\"white\",\"ticks\":\"\",\"title\":{\"standoff\":15},\"zerolinecolor\":\"white\",\"automargin\":true,\"zerolinewidth\":2},\"yaxis\":{\"gridcolor\":\"white\",\"linecolor\":\"white\",\"ticks\":\"\",\"title\":{\"standoff\":15},\"zerolinecolor\":\"white\",\"automargin\":true,\"zerolinewidth\":2},\"scene\":{\"xaxis\":{\"backgroundcolor\":\"#E5ECF6\",\"gridcolor\":\"white\",\"linecolor\":\"white\",\"showbackground\":true,\"ticks\":\"\",\"zerolinecolor\":\"white\",\"gridwidth\":2},\"yaxis\":{\"backgroundcolor\":\"#E5ECF6\",\"gridcolor\":\"white\",\"linecolor\":\"white\",\"showbackground\":true,\"ticks\":\"\",\"zerolinecolor\":\"white\",\"gridwidth\":2},\"zaxis\":{\"backgroundcolor\":\"#E5ECF6\",\"gridcolor\":\"white\",\"linecolor\":\"white\",\"showbackground\":true,\"ticks\":\"\",\"zerolinecolor\":\"white\",\"gridwidth\":2}},\"shapedefaults\":{\"line\":{\"color\":\"#2a3f5f\"}},\"annotationdefaults\":{\"arrowcolor\":\"#2a3f5f\",\"arrowhead\":0,\"arrowwidth\":1},\"geo\":{\"bgcolor\":\"white\",\"landcolor\":\"#E5ECF6\",\"subunitcolor\":\"white\",\"showland\":true,\"showlakes\":true,\"lakecolor\":\"white\"},\"title\":{\"x\":0.05},\"mapbox\":{\"style\":\"light\"}}}},                        {\"responsive\": true}                    )                };            </script>        </div>',\n",
       " ('Pull day - segunda-feira',\n",
       "  'pull around Ilíaco'): '<div>                        <script type=\"text/javascript\">window.PlotlyConfig = {MathJaxConfig: \\'local\\'};</script>\\n        <script charset=\"utf-8\" src=\"https://cdn.plot.ly/plotly-3.0.1.min.js\"></script>                <div id=\"e8e8525e-1a0b-4c5f-8a7a-d05a53fa3487\" class=\"plotly-graph-div\" style=\"height:100%; width:100%;\"></div>            <script type=\"text/javascript\">                window.PLOTLYENV=window.PLOTLYENV || {};                                if (document.getElementById(\"e8e8525e-1a0b-4c5f-8a7a-d05a53fa3487\")) {                    Plotly.newPlot(                        \"e8e8525e-1a0b-4c5f-8a7a-d05a53fa3487\",                        [{\"mode\":\"lines+markers+text\",\"name\":\"Top Set (Failure)\",\"text\":[\"10 reps\",\"7 reps\",\"8 reps\",\"8 reps\",\"8 reps\"],\"textposition\":\"top center\",\"visible\":true,\"x\":[\"2025-04-14\",\"2025-04-07\",\"2025-03-31\",\"2025-03-24\",\"2025-03-17\"],\"y\":{\"dtype\":\"f8\",\"bdata\":\"AAAAAABAP0AAAAAAAEA\\\\u002fQAAAAAAAAD5AAAAAAAAAQ0AAAAAAACBCQA==\"},\"type\":\"scatter\"},{\"mode\":\"lines+markers+text\",\"name\":\"Work Set 1\",\"text\":[\"9 reps\",\"8 reps\",\"8 reps\",\"8 reps\",\"8 reps\"],\"textposition\":\"top center\",\"visible\":false,\"x\":[\"2025-04-14\",\"2025-04-07\",\"2025-03-31\",\"2025-03-24\",\"2025-03-17\"],\"y\":{\"dtype\":\"f8\",\"bdata\":\"AAAAAAAAPkAAAAAAAAA+QAAAAAAAAD5AAAAAAAAgQkAAAAAAAIBBQA==\"},\"type\":\"scatter\"},{\"mode\":\"lines+markers+text\",\"name\":\"Work Set 2\",\"text\":[],\"textposition\":\"top center\",\"visible\":false,\"x\":[],\"y\":[],\"type\":\"scatter\"}],                        {\"hovermode\":\"closest\",\"title\":{\"text\":\"Evolu\\\\u00e7\\\\u00e3o no pull around Il\\\\u00edaco (Pull day - segunda-feira)\"},\"updatemenus\":[{\"active\":0,\"bgcolor\":\"white\",\"bordercolor\":\"gray\",\"borderwidth\":1,\"buttons\":[{\"args\":[{\"x\":[[\"2025-04-14\",\"2025-04-07\",\"2025-03-31\",\"2025-03-24\",\"2025-03-17\"],[\"2025-04-14\",\"2025-04-07\",\"2025-03-31\",\"2025-03-24\",\"2025-03-17\"],[]],\"y\":[[31.25,31.25,30.0,38.0,36.25],[30.0,30.0,30.0,36.25,35.0],[]],\"text\":[[\"10 reps\",\"7 reps\",\"8 reps\",\"8 reps\",\"8 reps\"],[\"9 reps\",\"8 reps\",\"8 reps\",\"8 reps\",\"8 reps\"],[]]},{\"updatemenus[1].buttons\":[{\"label\":\"Top Set (Failure)\",\"method\":\"update\",\"args\":[{\"visible\":[true,false,false]}]},{\"label\":\"Work Set 1\",\"method\":\"update\",\"args\":[{\"visible\":[false,true,false]}]},{\"label\":\"Todas as s\\\\u00e9ries\",\"method\":\"update\",\"args\":[{\"visible\":[true,true,false]}]}],\"title\":\"Evolu\\\\u00e7\\\\u00e3o no pull around Il\\\\u00edaco (Pull day - segunda-feira) - \\\\u00daltimos 30 dias\"}],\"label\":\"\\\\u00daltimos 30 dias\",\"method\":\"update\"},{\"args\":[{\"x\":[[\"2025-04-14\",\"2025-04-07\",\"2025-03-31\",\"2025-03-24\",\"2025-03-17\",\"2025-03-10\",\"2025-03-03\",\"2025-02-24\"],[\"2025-04-14\",\"2025-04-07\",\"2025-03-31\",\"2025-03-24\",\"2025-03-17\",\"2025-03-10\",\"2025-03-03\",\"2025-02-24\"],[\"2025-03-03\"]],\"y\":[[31.25,31.25,30.0,38.0,36.25,35.0,34.56,30.0],[30.0,30.0,30.0,36.25,35.0,34.25,33.0,30.0],[37.5]],\"text\":[[\"10 reps\",\"7 reps\",\"8 reps\",\"8 reps\",\"8 reps\",\"7 reps\",\"8 reps\",\"8 reps\"],[\"9 reps\",\"8 reps\",\"8 reps\",\"8 reps\",\"8 reps\",\"9 reps\",\"8 reps\",\"8 reps\"],[\"9 reps\"]]},{\"updatemenus[1].buttons\":[{\"label\":\"Top Set (Failure)\",\"method\":\"update\",\"args\":[{\"visible\":[true,false,false]}]},{\"label\":\"Work Set 1\",\"method\":\"update\",\"args\":[{\"visible\":[false,true,false]}]},{\"label\":\"Work Set 2\",\"method\":\"update\",\"args\":[{\"visible\":[false,false,true]}]},{\"label\":\"Todas as s\\\\u00e9ries\",\"method\":\"update\",\"args\":[{\"visible\":[true,true,true]}]}]}],\"label\":\"\\\\u00daltimos 60 dias\",\"method\":\"update\"},{\"args\":[{\"x\":[[\"2025-04-14\",\"2025-04-07\",\"2025-03-31\",\"2025-03-24\",\"2025-03-17\",\"2025-03-10\",\"2025-03-03\",\"2025-02-24\",\"2025-02-03\",\"2025-01-20\"],[\"2025-04-14\",\"2025-04-07\",\"2025-03-31\",\"2025-03-24\",\"2025-03-17\",\"2025-03-10\",\"2025-03-03\",\"2025-02-24\",\"2025-02-03\",\"2025-01-20\"],[\"2025-03-03\",\"2025-02-03\",\"2025-01-20\"]],\"y\":[[31.25,31.25,30.0,38.0,36.25,35.0,34.56,30.0,37.5,40.0],[30.0,30.0,30.0,36.25,35.0,34.25,33.0,30.0,35.0,39.25],[37.5,35.0,39.25]],\"text\":[[\"10 reps\",\"7 reps\",\"8 reps\",\"8 reps\",\"8 reps\",\"7 reps\",\"8 reps\",\"8 reps\",\"9 reps\",\"7 reps\"],[\"9 reps\",\"8 reps\",\"8 reps\",\"8 reps\",\"8 reps\",\"9 reps\",\"8 reps\",\"8 reps\",\"8 reps\",\"8 reps\"],[\"9 reps\",\"8 reps\",\"8 reps\"]]},{\"updatemenus[1].buttons\":[{\"label\":\"Top Set (Failure)\",\"method\":\"update\",\"args\":[{\"visible\":[true,false,false]}]},{\"label\":\"Work Set 1\",\"method\":\"update\",\"args\":[{\"visible\":[false,true,false]}]},{\"label\":\"Work Set 2\",\"method\":\"update\",\"args\":[{\"visible\":[false,false,true]}]},{\"label\":\"Todas as s\\\\u00e9ries\",\"method\":\"update\",\"args\":[{\"visible\":[true,true,true]}]}]}],\"label\":\"\\\\u00daltimos 90 dias\",\"method\":\"update\"}],\"direction\":\"down\",\"pad\":{\"r\":10,\"t\":10},\"showactive\":true,\"x\":0.6,\"xanchor\":\"left\",\"y\":1.2,\"yanchor\":\"top\"},{\"active\":0,\"bgcolor\":\"white\",\"bordercolor\":\"gray\",\"borderwidth\":1,\"buttons\":[{\"args\":[{\"visible\":[true,false,false]}],\"label\":\"Top Set (Failure)\",\"method\":\"update\"},{\"args\":[{\"visible\":[false,true,false]}],\"label\":\"Work Set 1\",\"method\":\"update\"},{\"args\":[{\"visible\":[true,true,false]}],\"label\":\"Todas as s\\\\u00e9ries\",\"method\":\"update\"}],\"direction\":\"down\",\"pad\":{\"r\":10,\"t\":10},\"showactive\":true,\"x\":0.99,\"xanchor\":\"right\",\"y\":1.2,\"yanchor\":\"top\"}],\"xaxis\":{\"tickformat\":\"%d\\\\u002f%m\\\\u002f%Y\",\"title\":{\"text\":\"Data\"}},\"yaxis\":{\"title\":{\"text\":\"Peso (kg)\"}},\"template\":{\"data\":{\"histogram2dcontour\":[{\"type\":\"histogram2dcontour\",\"colorbar\":{\"outlinewidth\":0,\"ticks\":\"\"},\"colorscale\":[[0.0,\"#0d0887\"],[0.1111111111111111,\"#46039f\"],[0.2222222222222222,\"#7201a8\"],[0.3333333333333333,\"#9c179e\"],[0.4444444444444444,\"#bd3786\"],[0.5555555555555556,\"#d8576b\"],[0.6666666666666666,\"#ed7953\"],[0.7777777777777778,\"#fb9f3a\"],[0.8888888888888888,\"#fdca26\"],[1.0,\"#f0f921\"]]}],\"choropleth\":[{\"type\":\"choropleth\",\"colorbar\":{\"outlinewidth\":0,\"ticks\":\"\"}}],\"histogram2d\":[{\"type\":\"histogram2d\",\"colorbar\":{\"outlinewidth\":0,\"ticks\":\"\"},\"colorscale\":[[0.0,\"#0d0887\"],[0.1111111111111111,\"#46039f\"],[0.2222222222222222,\"#7201a8\"],[0.3333333333333333,\"#9c179e\"],[0.4444444444444444,\"#bd3786\"],[0.5555555555555556,\"#d8576b\"],[0.6666666666666666,\"#ed7953\"],[0.7777777777777778,\"#fb9f3a\"],[0.8888888888888888,\"#fdca26\"],[1.0,\"#f0f921\"]]}],\"heatmap\":[{\"type\":\"heatmap\",\"colorbar\":{\"outlinewidth\":0,\"ticks\":\"\"},\"colorscale\":[[0.0,\"#0d0887\"],[0.1111111111111111,\"#46039f\"],[0.2222222222222222,\"#7201a8\"],[0.3333333333333333,\"#9c179e\"],[0.4444444444444444,\"#bd3786\"],[0.5555555555555556,\"#d8576b\"],[0.6666666666666666,\"#ed7953\"],[0.7777777777777778,\"#fb9f3a\"],[0.8888888888888888,\"#fdca26\"],[1.0,\"#f0f921\"]]}],\"contourcarpet\":[{\"type\":\"contourcarpet\",\"colorbar\":{\"outlinewidth\":0,\"ticks\":\"\"}}],\"contour\":[{\"type\":\"contour\",\"colorbar\":{\"outlinewidth\":0,\"ticks\":\"\"},\"colorscale\":[[0.0,\"#0d0887\"],[0.1111111111111111,\"#46039f\"],[0.2222222222222222,\"#7201a8\"],[0.3333333333333333,\"#9c179e\"],[0.4444444444444444,\"#bd3786\"],[0.5555555555555556,\"#d8576b\"],[0.6666666666666666,\"#ed7953\"],[0.7777777777777778,\"#fb9f3a\"],[0.8888888888888888,\"#fdca26\"],[1.0,\"#f0f921\"]]}],\"surface\":[{\"type\":\"surface\",\"colorbar\":{\"outlinewidth\":0,\"ticks\":\"\"},\"colorscale\":[[0.0,\"#0d0887\"],[0.1111111111111111,\"#46039f\"],[0.2222222222222222,\"#7201a8\"],[0.3333333333333333,\"#9c179e\"],[0.4444444444444444,\"#bd3786\"],[0.5555555555555556,\"#d8576b\"],[0.6666666666666666,\"#ed7953\"],[0.7777777777777778,\"#fb9f3a\"],[0.8888888888888888,\"#fdca26\"],[1.0,\"#f0f921\"]]}],\"mesh3d\":[{\"type\":\"mesh3d\",\"colorbar\":{\"outlinewidth\":0,\"ticks\":\"\"}}],\"scatter\":[{\"fillpattern\":{\"fillmode\":\"overlay\",\"size\":10,\"solidity\":0.2},\"type\":\"scatter\"}],\"parcoords\":[{\"type\":\"parcoords\",\"line\":{\"colorbar\":{\"outlinewidth\":0,\"ticks\":\"\"}}}],\"scatterpolargl\":[{\"type\":\"scatterpolargl\",\"marker\":{\"colorbar\":{\"outlinewidth\":0,\"ticks\":\"\"}}}],\"bar\":[{\"error_x\":{\"color\":\"#2a3f5f\"},\"error_y\":{\"color\":\"#2a3f5f\"},\"marker\":{\"line\":{\"color\":\"#E5ECF6\",\"width\":0.5},\"pattern\":{\"fillmode\":\"overlay\",\"size\":10,\"solidity\":0.2}},\"type\":\"bar\"}],\"scattergeo\":[{\"type\":\"scattergeo\",\"marker\":{\"colorbar\":{\"outlinewidth\":0,\"ticks\":\"\"}}}],\"scatterpolar\":[{\"type\":\"scatterpolar\",\"marker\":{\"colorbar\":{\"outlinewidth\":0,\"ticks\":\"\"}}}],\"histogram\":[{\"marker\":{\"pattern\":{\"fillmode\":\"overlay\",\"size\":10,\"solidity\":0.2}},\"type\":\"histogram\"}],\"scattergl\":[{\"type\":\"scattergl\",\"marker\":{\"colorbar\":{\"outlinewidth\":0,\"ticks\":\"\"}}}],\"scatter3d\":[{\"type\":\"scatter3d\",\"line\":{\"colorbar\":{\"outlinewidth\":0,\"ticks\":\"\"}},\"marker\":{\"colorbar\":{\"outlinewidth\":0,\"ticks\":\"\"}}}],\"scattermap\":[{\"type\":\"scattermap\",\"marker\":{\"colorbar\":{\"outlinewidth\":0,\"ticks\":\"\"}}}],\"scattermapbox\":[{\"type\":\"scattermapbox\",\"marker\":{\"colorbar\":{\"outlinewidth\":0,\"ticks\":\"\"}}}],\"scatterternary\":[{\"type\":\"scatterternary\",\"marker\":{\"colorbar\":{\"outlinewidth\":0,\"ticks\":\"\"}}}],\"scattercarpet\":[{\"type\":\"scattercarpet\",\"marker\":{\"colorbar\":{\"outlinewidth\":0,\"ticks\":\"\"}}}],\"carpet\":[{\"aaxis\":{\"endlinecolor\":\"#2a3f5f\",\"gridcolor\":\"white\",\"linecolor\":\"white\",\"minorgridcolor\":\"white\",\"startlinecolor\":\"#2a3f5f\"},\"baxis\":{\"endlinecolor\":\"#2a3f5f\",\"gridcolor\":\"white\",\"linecolor\":\"white\",\"minorgridcolor\":\"white\",\"startlinecolor\":\"#2a3f5f\"},\"type\":\"carpet\"}],\"table\":[{\"cells\":{\"fill\":{\"color\":\"#EBF0F8\"},\"line\":{\"color\":\"white\"}},\"header\":{\"fill\":{\"color\":\"#C8D4E3\"},\"line\":{\"color\":\"white\"}},\"type\":\"table\"}],\"barpolar\":[{\"marker\":{\"line\":{\"color\":\"#E5ECF6\",\"width\":0.5},\"pattern\":{\"fillmode\":\"overlay\",\"size\":10,\"solidity\":0.2}},\"type\":\"barpolar\"}],\"pie\":[{\"automargin\":true,\"type\":\"pie\"}]},\"layout\":{\"autotypenumbers\":\"strict\",\"colorway\":[\"#636efa\",\"#EF553B\",\"#00cc96\",\"#ab63fa\",\"#FFA15A\",\"#19d3f3\",\"#FF6692\",\"#B6E880\",\"#FF97FF\",\"#FECB52\"],\"font\":{\"color\":\"#2a3f5f\"},\"hovermode\":\"closest\",\"hoverlabel\":{\"align\":\"left\"},\"paper_bgcolor\":\"white\",\"plot_bgcolor\":\"#E5ECF6\",\"polar\":{\"bgcolor\":\"#E5ECF6\",\"angularaxis\":{\"gridcolor\":\"white\",\"linecolor\":\"white\",\"ticks\":\"\"},\"radialaxis\":{\"gridcolor\":\"white\",\"linecolor\":\"white\",\"ticks\":\"\"}},\"ternary\":{\"bgcolor\":\"#E5ECF6\",\"aaxis\":{\"gridcolor\":\"white\",\"linecolor\":\"white\",\"ticks\":\"\"},\"baxis\":{\"gridcolor\":\"white\",\"linecolor\":\"white\",\"ticks\":\"\"},\"caxis\":{\"gridcolor\":\"white\",\"linecolor\":\"white\",\"ticks\":\"\"}},\"coloraxis\":{\"colorbar\":{\"outlinewidth\":0,\"ticks\":\"\"}},\"colorscale\":{\"sequential\":[[0.0,\"#0d0887\"],[0.1111111111111111,\"#46039f\"],[0.2222222222222222,\"#7201a8\"],[0.3333333333333333,\"#9c179e\"],[0.4444444444444444,\"#bd3786\"],[0.5555555555555556,\"#d8576b\"],[0.6666666666666666,\"#ed7953\"],[0.7777777777777778,\"#fb9f3a\"],[0.8888888888888888,\"#fdca26\"],[1.0,\"#f0f921\"]],\"sequentialminus\":[[0.0,\"#0d0887\"],[0.1111111111111111,\"#46039f\"],[0.2222222222222222,\"#7201a8\"],[0.3333333333333333,\"#9c179e\"],[0.4444444444444444,\"#bd3786\"],[0.5555555555555556,\"#d8576b\"],[0.6666666666666666,\"#ed7953\"],[0.7777777777777778,\"#fb9f3a\"],[0.8888888888888888,\"#fdca26\"],[1.0,\"#f0f921\"]],\"diverging\":[[0,\"#8e0152\"],[0.1,\"#c51b7d\"],[0.2,\"#de77ae\"],[0.3,\"#f1b6da\"],[0.4,\"#fde0ef\"],[0.5,\"#f7f7f7\"],[0.6,\"#e6f5d0\"],[0.7,\"#b8e186\"],[0.8,\"#7fbc41\"],[0.9,\"#4d9221\"],[1,\"#276419\"]]},\"xaxis\":{\"gridcolor\":\"white\",\"linecolor\":\"white\",\"ticks\":\"\",\"title\":{\"standoff\":15},\"zerolinecolor\":\"white\",\"automargin\":true,\"zerolinewidth\":2},\"yaxis\":{\"gridcolor\":\"white\",\"linecolor\":\"white\",\"ticks\":\"\",\"title\":{\"standoff\":15},\"zerolinecolor\":\"white\",\"automargin\":true,\"zerolinewidth\":2},\"scene\":{\"xaxis\":{\"backgroundcolor\":\"#E5ECF6\",\"gridcolor\":\"white\",\"linecolor\":\"white\",\"showbackground\":true,\"ticks\":\"\",\"zerolinecolor\":\"white\",\"gridwidth\":2},\"yaxis\":{\"backgroundcolor\":\"#E5ECF6\",\"gridcolor\":\"white\",\"linecolor\":\"white\",\"showbackground\":true,\"ticks\":\"\",\"zerolinecolor\":\"white\",\"gridwidth\":2},\"zaxis\":{\"backgroundcolor\":\"#E5ECF6\",\"gridcolor\":\"white\",\"linecolor\":\"white\",\"showbackground\":true,\"ticks\":\"\",\"zerolinecolor\":\"white\",\"gridwidth\":2}},\"shapedefaults\":{\"line\":{\"color\":\"#2a3f5f\"}},\"annotationdefaults\":{\"arrowcolor\":\"#2a3f5f\",\"arrowhead\":0,\"arrowwidth\":1},\"geo\":{\"bgcolor\":\"white\",\"landcolor\":\"#E5ECF6\",\"subunitcolor\":\"white\",\"showland\":true,\"showlakes\":true,\"lakecolor\":\"white\"},\"title\":{\"x\":0.05},\"mapbox\":{\"style\":\"light\"}}}},                        {\"responsive\": true}                    )                };            </script>        </div>',\n",
       " ('Pull day - segunda-feira',\n",
       "  'Chest Supported Y Raise (Dumbbell)'): '<div>                        <script type=\"text/javascript\">window.PlotlyConfig = {MathJaxConfig: \\'local\\'};</script>\\n        <script charset=\"utf-8\" src=\"https://cdn.plot.ly/plotly-3.0.1.min.js\"></script>                <div id=\"e30f58b8-92a5-42b9-9933-87a22b67857c\" class=\"plotly-graph-div\" style=\"height:100%; width:100%;\"></div>            <script type=\"text/javascript\">                window.PLOTLYENV=window.PLOTLYENV || {};                                if (document.getElementById(\"e30f58b8-92a5-42b9-9933-87a22b67857c\")) {                    Plotly.newPlot(                        \"e30f58b8-92a5-42b9-9933-87a22b67857c\",                        [{\"mode\":\"lines+markers+text\",\"name\":\"Top Set (Failure)\",\"text\":[\"7 reps\",\"7 reps\",\"6 reps\",\"7 reps\",\"6 reps\"],\"textposition\":\"top center\",\"visible\":true,\"x\":[\"2025-04-14\",\"2025-04-07\",\"2025-03-31\",\"2025-03-24\",\"2025-03-17\"],\"y\":{\"dtype\":\"f8\",\"bdata\":\"AAAAAAAAMEAAAAAAAAAwQAAAAAAAADhAAAAAAAAAOEAAAAAAAAA8QA==\"},\"type\":\"scatter\"},{\"mode\":\"lines+markers+text\",\"name\":\"Work Set 1\",\"text\":[\"12 reps\",\"11 reps\",\"10 reps\",\"8 reps\",\"10 reps\"],\"textposition\":\"top center\",\"visible\":false,\"x\":[\"2025-04-14\",\"2025-04-07\",\"2025-03-31\",\"2025-03-24\",\"2025-03-17\"],\"y\":{\"dtype\":\"f8\",\"bdata\":\"AAAAAAAALEAAAAAAAAAsQAAAAAAAADRAAAAAAAAAOEAAAAAAAAA4QA==\"},\"type\":\"scatter\"},{\"mode\":\"lines+markers+text\",\"name\":\"Work Set 2\",\"text\":[\"8 reps\"],\"textposition\":\"top center\",\"visible\":false,\"x\":[\"2025-03-17\"],\"y\":{\"dtype\":\"f8\",\"bdata\":\"AAAAAAAAPEA=\"},\"type\":\"scatter\"}],                        {\"hovermode\":\"closest\",\"title\":{\"text\":\"Evolu\\\\u00e7\\\\u00e3o no Chest Supported Y Raise (Dumbbell) (Pull day - segunda-feira)\"},\"updatemenus\":[{\"active\":0,\"bgcolor\":\"white\",\"bordercolor\":\"gray\",\"borderwidth\":1,\"buttons\":[{\"args\":[{\"x\":[[\"2025-04-14\",\"2025-04-07\",\"2025-03-31\",\"2025-03-24\",\"2025-03-17\"],[\"2025-04-14\",\"2025-04-07\",\"2025-03-31\",\"2025-03-24\",\"2025-03-17\"],[\"2025-03-17\"]],\"y\":[[16.0,16.0,24.0,24.0,28.0],[14.0,14.0,20.0,24.0,24.0],[28.0]],\"text\":[[\"7 reps\",\"7 reps\",\"6 reps\",\"7 reps\",\"6 reps\"],[\"12 reps\",\"11 reps\",\"10 reps\",\"8 reps\",\"10 reps\"],[\"8 reps\"]]},{\"updatemenus[1].buttons\":[{\"label\":\"Top Set (Failure)\",\"method\":\"update\",\"args\":[{\"visible\":[true,false,false]}]},{\"label\":\"Work Set 1\",\"method\":\"update\",\"args\":[{\"visible\":[false,true,false]}]},{\"label\":\"Work Set 2\",\"method\":\"update\",\"args\":[{\"visible\":[false,false,true]}]},{\"label\":\"Todas as s\\\\u00e9ries\",\"method\":\"update\",\"args\":[{\"visible\":[true,true,true]}]}],\"title\":\"Evolu\\\\u00e7\\\\u00e3o no Chest Supported Y Raise (Dumbbell) (Pull day - segunda-feira) - \\\\u00daltimos 30 dias\"}],\"label\":\"\\\\u00daltimos 30 dias\",\"method\":\"update\"},{\"args\":[{\"x\":[[\"2025-04-14\",\"2025-04-07\",\"2025-03-31\",\"2025-03-24\",\"2025-03-17\",\"2025-03-10\",\"2025-03-03\",\"2025-02-24\"],[\"2025-04-14\",\"2025-04-07\",\"2025-03-31\",\"2025-03-24\",\"2025-03-17\",\"2025-03-10\",\"2025-03-03\",\"2025-02-24\"],[\"2025-03-17\",\"2025-03-10\",\"2025-03-03\",\"2025-02-24\"]],\"y\":[[16.0,16.0,24.0,24.0,28.0,28.0,24.0,20.0],[14.0,14.0,20.0,24.0,24.0,24.0,24.0,20.0],[28.0,24.0,24.0,20.0]],\"text\":[[\"7 reps\",\"7 reps\",\"6 reps\",\"7 reps\",\"6 reps\",\"7 reps\",\"8 reps\",\"7 reps\"],[\"12 reps\",\"11 reps\",\"10 reps\",\"8 reps\",\"10 reps\",\"9 reps\",\"8 reps\",\"10 reps\"],[\"8 reps\",\"8 reps\",\"8 reps\",\"9 reps\"]]},{\"updatemenus[1].buttons\":[{\"label\":\"Top Set (Failure)\",\"method\":\"update\",\"args\":[{\"visible\":[true,false,false]}]},{\"label\":\"Work Set 1\",\"method\":\"update\",\"args\":[{\"visible\":[false,true,false]}]},{\"label\":\"Work Set 2\",\"method\":\"update\",\"args\":[{\"visible\":[false,false,true]}]},{\"label\":\"Todas as s\\\\u00e9ries\",\"method\":\"update\",\"args\":[{\"visible\":[true,true,true]}]}]}],\"label\":\"\\\\u00daltimos 60 dias\",\"method\":\"update\"},{\"args\":[{\"x\":[[\"2025-04-14\",\"2025-04-07\",\"2025-03-31\",\"2025-03-24\",\"2025-03-17\",\"2025-03-10\",\"2025-03-03\",\"2025-02-24\",\"2025-02-03\",\"2025-01-20\"],[\"2025-04-14\",\"2025-04-07\",\"2025-03-31\",\"2025-03-24\",\"2025-03-17\",\"2025-03-10\",\"2025-03-03\",\"2025-02-24\",\"2025-02-03\",\"2025-01-20\"],[\"2025-03-17\",\"2025-03-10\",\"2025-03-03\",\"2025-02-24\",\"2025-02-03\",\"2025-01-20\"]],\"y\":[[16.0,16.0,24.0,24.0,28.0,28.0,24.0,20.0,28.0,28.0],[14.0,14.0,20.0,24.0,24.0,24.0,24.0,20.0,24.0,24.0],[28.0,24.0,24.0,20.0,24.0,24.0]],\"text\":[[\"7 reps\",\"7 reps\",\"6 reps\",\"7 reps\",\"6 reps\",\"7 reps\",\"8 reps\",\"7 reps\",\"6 reps\",\"6 reps\"],[\"12 reps\",\"11 reps\",\"10 reps\",\"8 reps\",\"10 reps\",\"9 reps\",\"8 reps\",\"10 reps\",\"10 reps\",\"9 reps\"],[\"8 reps\",\"8 reps\",\"8 reps\",\"9 reps\",\"9 reps\",\"9 reps\"]]},{\"updatemenus[1].buttons\":[{\"label\":\"Top Set (Failure)\",\"method\":\"update\",\"args\":[{\"visible\":[true,false,false]}]},{\"label\":\"Work Set 1\",\"method\":\"update\",\"args\":[{\"visible\":[false,true,false]}]},{\"label\":\"Work Set 2\",\"method\":\"update\",\"args\":[{\"visible\":[false,false,true]}]},{\"label\":\"Todas as s\\\\u00e9ries\",\"method\":\"update\",\"args\":[{\"visible\":[true,true,true]}]}]}],\"label\":\"\\\\u00daltimos 90 dias\",\"method\":\"update\"}],\"direction\":\"down\",\"pad\":{\"r\":10,\"t\":10},\"showactive\":true,\"x\":0.6,\"xanchor\":\"left\",\"y\":1.2,\"yanchor\":\"top\"},{\"active\":0,\"bgcolor\":\"white\",\"bordercolor\":\"gray\",\"borderwidth\":1,\"buttons\":[{\"args\":[{\"visible\":[true,false,false]}],\"label\":\"Top Set (Failure)\",\"method\":\"update\"},{\"args\":[{\"visible\":[false,true,false]}],\"label\":\"Work Set 1\",\"method\":\"update\"},{\"args\":[{\"visible\":[false,false,true]}],\"label\":\"Work Set 2\",\"method\":\"update\"},{\"args\":[{\"visible\":[true,true,true]}],\"label\":\"Todas as s\\\\u00e9ries\",\"method\":\"update\"}],\"direction\":\"down\",\"pad\":{\"r\":10,\"t\":10},\"showactive\":true,\"x\":0.99,\"xanchor\":\"right\",\"y\":1.2,\"yanchor\":\"top\"}],\"xaxis\":{\"tickformat\":\"%d\\\\u002f%m\\\\u002f%Y\",\"title\":{\"text\":\"Data\"}},\"yaxis\":{\"title\":{\"text\":\"Peso (kg)\"}},\"template\":{\"data\":{\"histogram2dcontour\":[{\"type\":\"histogram2dcontour\",\"colorbar\":{\"outlinewidth\":0,\"ticks\":\"\"},\"colorscale\":[[0.0,\"#0d0887\"],[0.1111111111111111,\"#46039f\"],[0.2222222222222222,\"#7201a8\"],[0.3333333333333333,\"#9c179e\"],[0.4444444444444444,\"#bd3786\"],[0.5555555555555556,\"#d8576b\"],[0.6666666666666666,\"#ed7953\"],[0.7777777777777778,\"#fb9f3a\"],[0.8888888888888888,\"#fdca26\"],[1.0,\"#f0f921\"]]}],\"choropleth\":[{\"type\":\"choropleth\",\"colorbar\":{\"outlinewidth\":0,\"ticks\":\"\"}}],\"histogram2d\":[{\"type\":\"histogram2d\",\"colorbar\":{\"outlinewidth\":0,\"ticks\":\"\"},\"colorscale\":[[0.0,\"#0d0887\"],[0.1111111111111111,\"#46039f\"],[0.2222222222222222,\"#7201a8\"],[0.3333333333333333,\"#9c179e\"],[0.4444444444444444,\"#bd3786\"],[0.5555555555555556,\"#d8576b\"],[0.6666666666666666,\"#ed7953\"],[0.7777777777777778,\"#fb9f3a\"],[0.8888888888888888,\"#fdca26\"],[1.0,\"#f0f921\"]]}],\"heatmap\":[{\"type\":\"heatmap\",\"colorbar\":{\"outlinewidth\":0,\"ticks\":\"\"},\"colorscale\":[[0.0,\"#0d0887\"],[0.1111111111111111,\"#46039f\"],[0.2222222222222222,\"#7201a8\"],[0.3333333333333333,\"#9c179e\"],[0.4444444444444444,\"#bd3786\"],[0.5555555555555556,\"#d8576b\"],[0.6666666666666666,\"#ed7953\"],[0.7777777777777778,\"#fb9f3a\"],[0.8888888888888888,\"#fdca26\"],[1.0,\"#f0f921\"]]}],\"contourcarpet\":[{\"type\":\"contourcarpet\",\"colorbar\":{\"outlinewidth\":0,\"ticks\":\"\"}}],\"contour\":[{\"type\":\"contour\",\"colorbar\":{\"outlinewidth\":0,\"ticks\":\"\"},\"colorscale\":[[0.0,\"#0d0887\"],[0.1111111111111111,\"#46039f\"],[0.2222222222222222,\"#7201a8\"],[0.3333333333333333,\"#9c179e\"],[0.4444444444444444,\"#bd3786\"],[0.5555555555555556,\"#d8576b\"],[0.6666666666666666,\"#ed7953\"],[0.7777777777777778,\"#fb9f3a\"],[0.8888888888888888,\"#fdca26\"],[1.0,\"#f0f921\"]]}],\"surface\":[{\"type\":\"surface\",\"colorbar\":{\"outlinewidth\":0,\"ticks\":\"\"},\"colorscale\":[[0.0,\"#0d0887\"],[0.1111111111111111,\"#46039f\"],[0.2222222222222222,\"#7201a8\"],[0.3333333333333333,\"#9c179e\"],[0.4444444444444444,\"#bd3786\"],[0.5555555555555556,\"#d8576b\"],[0.6666666666666666,\"#ed7953\"],[0.7777777777777778,\"#fb9f3a\"],[0.8888888888888888,\"#fdca26\"],[1.0,\"#f0f921\"]]}],\"mesh3d\":[{\"type\":\"mesh3d\",\"colorbar\":{\"outlinewidth\":0,\"ticks\":\"\"}}],\"scatter\":[{\"fillpattern\":{\"fillmode\":\"overlay\",\"size\":10,\"solidity\":0.2},\"type\":\"scatter\"}],\"parcoords\":[{\"type\":\"parcoords\",\"line\":{\"colorbar\":{\"outlinewidth\":0,\"ticks\":\"\"}}}],\"scatterpolargl\":[{\"type\":\"scatterpolargl\",\"marker\":{\"colorbar\":{\"outlinewidth\":0,\"ticks\":\"\"}}}],\"bar\":[{\"error_x\":{\"color\":\"#2a3f5f\"},\"error_y\":{\"color\":\"#2a3f5f\"},\"marker\":{\"line\":{\"color\":\"#E5ECF6\",\"width\":0.5},\"pattern\":{\"fillmode\":\"overlay\",\"size\":10,\"solidity\":0.2}},\"type\":\"bar\"}],\"scattergeo\":[{\"type\":\"scattergeo\",\"marker\":{\"colorbar\":{\"outlinewidth\":0,\"ticks\":\"\"}}}],\"scatterpolar\":[{\"type\":\"scatterpolar\",\"marker\":{\"colorbar\":{\"outlinewidth\":0,\"ticks\":\"\"}}}],\"histogram\":[{\"marker\":{\"pattern\":{\"fillmode\":\"overlay\",\"size\":10,\"solidity\":0.2}},\"type\":\"histogram\"}],\"scattergl\":[{\"type\":\"scattergl\",\"marker\":{\"colorbar\":{\"outlinewidth\":0,\"ticks\":\"\"}}}],\"scatter3d\":[{\"type\":\"scatter3d\",\"line\":{\"colorbar\":{\"outlinewidth\":0,\"ticks\":\"\"}},\"marker\":{\"colorbar\":{\"outlinewidth\":0,\"ticks\":\"\"}}}],\"scattermap\":[{\"type\":\"scattermap\",\"marker\":{\"colorbar\":{\"outlinewidth\":0,\"ticks\":\"\"}}}],\"scattermapbox\":[{\"type\":\"scattermapbox\",\"marker\":{\"colorbar\":{\"outlinewidth\":0,\"ticks\":\"\"}}}],\"scatterternary\":[{\"type\":\"scatterternary\",\"marker\":{\"colorbar\":{\"outlinewidth\":0,\"ticks\":\"\"}}}],\"scattercarpet\":[{\"type\":\"scattercarpet\",\"marker\":{\"colorbar\":{\"outlinewidth\":0,\"ticks\":\"\"}}}],\"carpet\":[{\"aaxis\":{\"endlinecolor\":\"#2a3f5f\",\"gridcolor\":\"white\",\"linecolor\":\"white\",\"minorgridcolor\":\"white\",\"startlinecolor\":\"#2a3f5f\"},\"baxis\":{\"endlinecolor\":\"#2a3f5f\",\"gridcolor\":\"white\",\"linecolor\":\"white\",\"minorgridcolor\":\"white\",\"startlinecolor\":\"#2a3f5f\"},\"type\":\"carpet\"}],\"table\":[{\"cells\":{\"fill\":{\"color\":\"#EBF0F8\"},\"line\":{\"color\":\"white\"}},\"header\":{\"fill\":{\"color\":\"#C8D4E3\"},\"line\":{\"color\":\"white\"}},\"type\":\"table\"}],\"barpolar\":[{\"marker\":{\"line\":{\"color\":\"#E5ECF6\",\"width\":0.5},\"pattern\":{\"fillmode\":\"overlay\",\"size\":10,\"solidity\":0.2}},\"type\":\"barpolar\"}],\"pie\":[{\"automargin\":true,\"type\":\"pie\"}]},\"layout\":{\"autotypenumbers\":\"strict\",\"colorway\":[\"#636efa\",\"#EF553B\",\"#00cc96\",\"#ab63fa\",\"#FFA15A\",\"#19d3f3\",\"#FF6692\",\"#B6E880\",\"#FF97FF\",\"#FECB52\"],\"font\":{\"color\":\"#2a3f5f\"},\"hovermode\":\"closest\",\"hoverlabel\":{\"align\":\"left\"},\"paper_bgcolor\":\"white\",\"plot_bgcolor\":\"#E5ECF6\",\"polar\":{\"bgcolor\":\"#E5ECF6\",\"angularaxis\":{\"gridcolor\":\"white\",\"linecolor\":\"white\",\"ticks\":\"\"},\"radialaxis\":{\"gridcolor\":\"white\",\"linecolor\":\"white\",\"ticks\":\"\"}},\"ternary\":{\"bgcolor\":\"#E5ECF6\",\"aaxis\":{\"gridcolor\":\"white\",\"linecolor\":\"white\",\"ticks\":\"\"},\"baxis\":{\"gridcolor\":\"white\",\"linecolor\":\"white\",\"ticks\":\"\"},\"caxis\":{\"gridcolor\":\"white\",\"linecolor\":\"white\",\"ticks\":\"\"}},\"coloraxis\":{\"colorbar\":{\"outlinewidth\":0,\"ticks\":\"\"}},\"colorscale\":{\"sequential\":[[0.0,\"#0d0887\"],[0.1111111111111111,\"#46039f\"],[0.2222222222222222,\"#7201a8\"],[0.3333333333333333,\"#9c179e\"],[0.4444444444444444,\"#bd3786\"],[0.5555555555555556,\"#d8576b\"],[0.6666666666666666,\"#ed7953\"],[0.7777777777777778,\"#fb9f3a\"],[0.8888888888888888,\"#fdca26\"],[1.0,\"#f0f921\"]],\"sequentialminus\":[[0.0,\"#0d0887\"],[0.1111111111111111,\"#46039f\"],[0.2222222222222222,\"#7201a8\"],[0.3333333333333333,\"#9c179e\"],[0.4444444444444444,\"#bd3786\"],[0.5555555555555556,\"#d8576b\"],[0.6666666666666666,\"#ed7953\"],[0.7777777777777778,\"#fb9f3a\"],[0.8888888888888888,\"#fdca26\"],[1.0,\"#f0f921\"]],\"diverging\":[[0,\"#8e0152\"],[0.1,\"#c51b7d\"],[0.2,\"#de77ae\"],[0.3,\"#f1b6da\"],[0.4,\"#fde0ef\"],[0.5,\"#f7f7f7\"],[0.6,\"#e6f5d0\"],[0.7,\"#b8e186\"],[0.8,\"#7fbc41\"],[0.9,\"#4d9221\"],[1,\"#276419\"]]},\"xaxis\":{\"gridcolor\":\"white\",\"linecolor\":\"white\",\"ticks\":\"\",\"title\":{\"standoff\":15},\"zerolinecolor\":\"white\",\"automargin\":true,\"zerolinewidth\":2},\"yaxis\":{\"gridcolor\":\"white\",\"linecolor\":\"white\",\"ticks\":\"\",\"title\":{\"standoff\":15},\"zerolinecolor\":\"white\",\"automargin\":true,\"zerolinewidth\":2},\"scene\":{\"xaxis\":{\"backgroundcolor\":\"#E5ECF6\",\"gridcolor\":\"white\",\"linecolor\":\"white\",\"showbackground\":true,\"ticks\":\"\",\"zerolinecolor\":\"white\",\"gridwidth\":2},\"yaxis\":{\"backgroundcolor\":\"#E5ECF6\",\"gridcolor\":\"white\",\"linecolor\":\"white\",\"showbackground\":true,\"ticks\":\"\",\"zerolinecolor\":\"white\",\"gridwidth\":2},\"zaxis\":{\"backgroundcolor\":\"#E5ECF6\",\"gridcolor\":\"white\",\"linecolor\":\"white\",\"showbackground\":true,\"ticks\":\"\",\"zerolinecolor\":\"white\",\"gridwidth\":2}},\"shapedefaults\":{\"line\":{\"color\":\"#2a3f5f\"}},\"annotationdefaults\":{\"arrowcolor\":\"#2a3f5f\",\"arrowhead\":0,\"arrowwidth\":1},\"geo\":{\"bgcolor\":\"white\",\"landcolor\":\"#E5ECF6\",\"subunitcolor\":\"white\",\"showland\":true,\"showlakes\":true,\"lakecolor\":\"white\"},\"title\":{\"x\":0.05},\"mapbox\":{\"style\":\"light\"}}}},                        {\"responsive\": true}                    )                };            </script>        </div>',\n",
       " ('Pull day - segunda-feira',\n",
       "  'Single Arm Curl (Cable)'): '<div>                        <script type=\"text/javascript\">window.PlotlyConfig = {MathJaxConfig: \\'local\\'};</script>\\n        <script charset=\"utf-8\" src=\"https://cdn.plot.ly/plotly-3.0.1.min.js\"></script>                <div id=\"8660f6d4-ddcc-4fc7-bbb8-f9b7cef76cf8\" class=\"plotly-graph-div\" style=\"height:100%; width:100%;\"></div>            <script type=\"text/javascript\">                window.PLOTLYENV=window.PLOTLYENV || {};                                if (document.getElementById(\"8660f6d4-ddcc-4fc7-bbb8-f9b7cef76cf8\")) {                    Plotly.newPlot(                        \"8660f6d4-ddcc-4fc7-bbb8-f9b7cef76cf8\",                        [{\"mode\":\"lines+markers+text\",\"name\":\"Top Set (Failure)\",\"text\":[\"7 reps\",\"6 reps\",\"8 reps\",\"8 reps\",\"6 reps\"],\"textposition\":\"top center\",\"visible\":true,\"x\":[\"2025-04-14\",\"2025-04-07\",\"2025-03-31\",\"2025-03-24\",\"2025-03-17\"],\"y\":{\"dtype\":\"f8\",\"bdata\":\"AAAAAAAAJEAAAAAAAAAqQAAAAAAAgCZAAAAAAACAJkAAAAAAAAAuQA==\"},\"type\":\"scatter\"},{\"mode\":\"lines+markers+text\",\"name\":\"Work Set 1\",\"text\":[\"6 reps\",\"8 reps\",\"9 reps\",\"5 reps\",\"6 reps\"],\"textposition\":\"top center\",\"visible\":false,\"x\":[\"2025-04-14\",\"2025-04-07\",\"2025-03-31\",\"2025-03-24\",\"2025-03-17\"],\"y\":{\"dtype\":\"f8\",\"bdata\":\"AAAAAAAAKkAAAAAAAIAmQAAAAAAAACRAAAAAAAAALkAAAAAAAAAuQA==\"},\"type\":\"scatter\"},{\"mode\":\"lines+markers+text\",\"name\":\"Work Set 2\",\"text\":[],\"textposition\":\"top center\",\"visible\":false,\"x\":[],\"y\":[],\"type\":\"scatter\"}],                        {\"hovermode\":\"closest\",\"title\":{\"text\":\"Evolu\\\\u00e7\\\\u00e3o no Single Arm Curl (Cable) (Pull day - segunda-feira)\"},\"updatemenus\":[{\"active\":0,\"bgcolor\":\"white\",\"bordercolor\":\"gray\",\"borderwidth\":1,\"buttons\":[{\"args\":[{\"x\":[[\"2025-04-14\",\"2025-04-07\",\"2025-03-31\",\"2025-03-24\",\"2025-03-17\"],[\"2025-04-14\",\"2025-04-07\",\"2025-03-31\",\"2025-03-24\",\"2025-03-17\"],[]],\"y\":[[10.0,13.0,11.25,11.25,15.0],[13.0,11.25,10.0,15.0,15.0],[]],\"text\":[[\"7 reps\",\"6 reps\",\"8 reps\",\"8 reps\",\"6 reps\"],[\"6 reps\",\"8 reps\",\"9 reps\",\"5 reps\",\"6 reps\"],[]]},{\"updatemenus[1].buttons\":[{\"label\":\"Top Set (Failure)\",\"method\":\"update\",\"args\":[{\"visible\":[true,false,false]}]},{\"label\":\"Work Set 1\",\"method\":\"update\",\"args\":[{\"visible\":[false,true,false]}]},{\"label\":\"Todas as s\\\\u00e9ries\",\"method\":\"update\",\"args\":[{\"visible\":[true,true,false]}]}],\"title\":\"Evolu\\\\u00e7\\\\u00e3o no Single Arm Curl (Cable) (Pull day - segunda-feira) - \\\\u00daltimos 30 dias\"}],\"label\":\"\\\\u00daltimos 30 dias\",\"method\":\"update\"},{\"args\":[{\"x\":[[\"2025-04-14\",\"2025-04-07\",\"2025-03-31\",\"2025-03-24\",\"2025-03-17\",\"2025-03-10\",\"2025-03-03\",\"2025-02-24\"],[\"2025-04-14\",\"2025-04-07\",\"2025-03-31\",\"2025-03-24\",\"2025-03-17\",\"2025-03-10\",\"2025-03-03\",\"2025-02-24\"],[]],\"y\":[[10.0,13.0,11.25,11.25,15.0,15.0,13.0,10.0],[13.0,11.25,10.0,15.0,15.0,14.25,11.25,10.0],[]],\"text\":[[\"7 reps\",\"6 reps\",\"8 reps\",\"8 reps\",\"6 reps\",\"4 reps\",\"6 reps\",\"8 reps\"],[\"6 reps\",\"8 reps\",\"9 reps\",\"5 reps\",\"6 reps\",\"8 reps\",\"8 reps\",\"8 reps\"],[]]},{\"updatemenus[1].buttons\":[{\"label\":\"Top Set (Failure)\",\"method\":\"update\",\"args\":[{\"visible\":[true,false,false]}]},{\"label\":\"Work Set 1\",\"method\":\"update\",\"args\":[{\"visible\":[false,true,false]}]},{\"label\":\"Todas as s\\\\u00e9ries\",\"method\":\"update\",\"args\":[{\"visible\":[true,true,false]}]}]}],\"label\":\"\\\\u00daltimos 60 dias\",\"method\":\"update\"},{\"args\":[{\"x\":[[\"2025-04-14\",\"2025-04-07\",\"2025-03-31\",\"2025-03-24\",\"2025-03-17\",\"2025-03-10\",\"2025-03-03\",\"2025-02-24\",\"2025-02-03\",\"2025-01-20\"],[\"2025-04-14\",\"2025-04-07\",\"2025-03-31\",\"2025-03-24\",\"2025-03-17\",\"2025-03-10\",\"2025-03-03\",\"2025-02-24\",\"2025-02-03\",\"2025-01-20\"],[\"2025-02-03\",\"2025-01-20\"]],\"y\":[[10.0,13.0,11.25,11.25,15.0,15.0,13.0,10.0,14.25,14.25],[13.0,11.25,10.0,15.0,15.0,14.25,11.25,10.0,13.0,13.0],[13.0,13.0]],\"text\":[[\"7 reps\",\"6 reps\",\"8 reps\",\"8 reps\",\"6 reps\",\"4 reps\",\"6 reps\",\"8 reps\",\"6 reps\",\"6 reps\"],[\"6 reps\",\"8 reps\",\"9 reps\",\"5 reps\",\"6 reps\",\"8 reps\",\"8 reps\",\"8 reps\",\"8 reps\",\"8 reps\"],[\"8 reps\",\"8 reps\"]]},{\"updatemenus[1].buttons\":[{\"label\":\"Top Set (Failure)\",\"method\":\"update\",\"args\":[{\"visible\":[true,false,false]}]},{\"label\":\"Work Set 1\",\"method\":\"update\",\"args\":[{\"visible\":[false,true,false]}]},{\"label\":\"Work Set 2\",\"method\":\"update\",\"args\":[{\"visible\":[false,false,true]}]},{\"label\":\"Todas as s\\\\u00e9ries\",\"method\":\"update\",\"args\":[{\"visible\":[true,true,true]}]}]}],\"label\":\"\\\\u00daltimos 90 dias\",\"method\":\"update\"}],\"direction\":\"down\",\"pad\":{\"r\":10,\"t\":10},\"showactive\":true,\"x\":0.6,\"xanchor\":\"left\",\"y\":1.2,\"yanchor\":\"top\"},{\"active\":0,\"bgcolor\":\"white\",\"bordercolor\":\"gray\",\"borderwidth\":1,\"buttons\":[{\"args\":[{\"visible\":[true,false,false]}],\"label\":\"Top Set (Failure)\",\"method\":\"update\"},{\"args\":[{\"visible\":[false,true,false]}],\"label\":\"Work Set 1\",\"method\":\"update\"},{\"args\":[{\"visible\":[true,true,false]}],\"label\":\"Todas as s\\\\u00e9ries\",\"method\":\"update\"}],\"direction\":\"down\",\"pad\":{\"r\":10,\"t\":10},\"showactive\":true,\"x\":0.99,\"xanchor\":\"right\",\"y\":1.2,\"yanchor\":\"top\"}],\"xaxis\":{\"tickformat\":\"%d\\\\u002f%m\\\\u002f%Y\",\"title\":{\"text\":\"Data\"}},\"yaxis\":{\"title\":{\"text\":\"Peso (kg)\"}},\"template\":{\"data\":{\"histogram2dcontour\":[{\"type\":\"histogram2dcontour\",\"colorbar\":{\"outlinewidth\":0,\"ticks\":\"\"},\"colorscale\":[[0.0,\"#0d0887\"],[0.1111111111111111,\"#46039f\"],[0.2222222222222222,\"#7201a8\"],[0.3333333333333333,\"#9c179e\"],[0.4444444444444444,\"#bd3786\"],[0.5555555555555556,\"#d8576b\"],[0.6666666666666666,\"#ed7953\"],[0.7777777777777778,\"#fb9f3a\"],[0.8888888888888888,\"#fdca26\"],[1.0,\"#f0f921\"]]}],\"choropleth\":[{\"type\":\"choropleth\",\"colorbar\":{\"outlinewidth\":0,\"ticks\":\"\"}}],\"histogram2d\":[{\"type\":\"histogram2d\",\"colorbar\":{\"outlinewidth\":0,\"ticks\":\"\"},\"colorscale\":[[0.0,\"#0d0887\"],[0.1111111111111111,\"#46039f\"],[0.2222222222222222,\"#7201a8\"],[0.3333333333333333,\"#9c179e\"],[0.4444444444444444,\"#bd3786\"],[0.5555555555555556,\"#d8576b\"],[0.6666666666666666,\"#ed7953\"],[0.7777777777777778,\"#fb9f3a\"],[0.8888888888888888,\"#fdca26\"],[1.0,\"#f0f921\"]]}],\"heatmap\":[{\"type\":\"heatmap\",\"colorbar\":{\"outlinewidth\":0,\"ticks\":\"\"},\"colorscale\":[[0.0,\"#0d0887\"],[0.1111111111111111,\"#46039f\"],[0.2222222222222222,\"#7201a8\"],[0.3333333333333333,\"#9c179e\"],[0.4444444444444444,\"#bd3786\"],[0.5555555555555556,\"#d8576b\"],[0.6666666666666666,\"#ed7953\"],[0.7777777777777778,\"#fb9f3a\"],[0.8888888888888888,\"#fdca26\"],[1.0,\"#f0f921\"]]}],\"contourcarpet\":[{\"type\":\"contourcarpet\",\"colorbar\":{\"outlinewidth\":0,\"ticks\":\"\"}}],\"contour\":[{\"type\":\"contour\",\"colorbar\":{\"outlinewidth\":0,\"ticks\":\"\"},\"colorscale\":[[0.0,\"#0d0887\"],[0.1111111111111111,\"#46039f\"],[0.2222222222222222,\"#7201a8\"],[0.3333333333333333,\"#9c179e\"],[0.4444444444444444,\"#bd3786\"],[0.5555555555555556,\"#d8576b\"],[0.6666666666666666,\"#ed7953\"],[0.7777777777777778,\"#fb9f3a\"],[0.8888888888888888,\"#fdca26\"],[1.0,\"#f0f921\"]]}],\"surface\":[{\"type\":\"surface\",\"colorbar\":{\"outlinewidth\":0,\"ticks\":\"\"},\"colorscale\":[[0.0,\"#0d0887\"],[0.1111111111111111,\"#46039f\"],[0.2222222222222222,\"#7201a8\"],[0.3333333333333333,\"#9c179e\"],[0.4444444444444444,\"#bd3786\"],[0.5555555555555556,\"#d8576b\"],[0.6666666666666666,\"#ed7953\"],[0.7777777777777778,\"#fb9f3a\"],[0.8888888888888888,\"#fdca26\"],[1.0,\"#f0f921\"]]}],\"mesh3d\":[{\"type\":\"mesh3d\",\"colorbar\":{\"outlinewidth\":0,\"ticks\":\"\"}}],\"scatter\":[{\"fillpattern\":{\"fillmode\":\"overlay\",\"size\":10,\"solidity\":0.2},\"type\":\"scatter\"}],\"parcoords\":[{\"type\":\"parcoords\",\"line\":{\"colorbar\":{\"outlinewidth\":0,\"ticks\":\"\"}}}],\"scatterpolargl\":[{\"type\":\"scatterpolargl\",\"marker\":{\"colorbar\":{\"outlinewidth\":0,\"ticks\":\"\"}}}],\"bar\":[{\"error_x\":{\"color\":\"#2a3f5f\"},\"error_y\":{\"color\":\"#2a3f5f\"},\"marker\":{\"line\":{\"color\":\"#E5ECF6\",\"width\":0.5},\"pattern\":{\"fillmode\":\"overlay\",\"size\":10,\"solidity\":0.2}},\"type\":\"bar\"}],\"scattergeo\":[{\"type\":\"scattergeo\",\"marker\":{\"colorbar\":{\"outlinewidth\":0,\"ticks\":\"\"}}}],\"scatterpolar\":[{\"type\":\"scatterpolar\",\"marker\":{\"colorbar\":{\"outlinewidth\":0,\"ticks\":\"\"}}}],\"histogram\":[{\"marker\":{\"pattern\":{\"fillmode\":\"overlay\",\"size\":10,\"solidity\":0.2}},\"type\":\"histogram\"}],\"scattergl\":[{\"type\":\"scattergl\",\"marker\":{\"colorbar\":{\"outlinewidth\":0,\"ticks\":\"\"}}}],\"scatter3d\":[{\"type\":\"scatter3d\",\"line\":{\"colorbar\":{\"outlinewidth\":0,\"ticks\":\"\"}},\"marker\":{\"colorbar\":{\"outlinewidth\":0,\"ticks\":\"\"}}}],\"scattermap\":[{\"type\":\"scattermap\",\"marker\":{\"colorbar\":{\"outlinewidth\":0,\"ticks\":\"\"}}}],\"scattermapbox\":[{\"type\":\"scattermapbox\",\"marker\":{\"colorbar\":{\"outlinewidth\":0,\"ticks\":\"\"}}}],\"scatterternary\":[{\"type\":\"scatterternary\",\"marker\":{\"colorbar\":{\"outlinewidth\":0,\"ticks\":\"\"}}}],\"scattercarpet\":[{\"type\":\"scattercarpet\",\"marker\":{\"colorbar\":{\"outlinewidth\":0,\"ticks\":\"\"}}}],\"carpet\":[{\"aaxis\":{\"endlinecolor\":\"#2a3f5f\",\"gridcolor\":\"white\",\"linecolor\":\"white\",\"minorgridcolor\":\"white\",\"startlinecolor\":\"#2a3f5f\"},\"baxis\":{\"endlinecolor\":\"#2a3f5f\",\"gridcolor\":\"white\",\"linecolor\":\"white\",\"minorgridcolor\":\"white\",\"startlinecolor\":\"#2a3f5f\"},\"type\":\"carpet\"}],\"table\":[{\"cells\":{\"fill\":{\"color\":\"#EBF0F8\"},\"line\":{\"color\":\"white\"}},\"header\":{\"fill\":{\"color\":\"#C8D4E3\"},\"line\":{\"color\":\"white\"}},\"type\":\"table\"}],\"barpolar\":[{\"marker\":{\"line\":{\"color\":\"#E5ECF6\",\"width\":0.5},\"pattern\":{\"fillmode\":\"overlay\",\"size\":10,\"solidity\":0.2}},\"type\":\"barpolar\"}],\"pie\":[{\"automargin\":true,\"type\":\"pie\"}]},\"layout\":{\"autotypenumbers\":\"strict\",\"colorway\":[\"#636efa\",\"#EF553B\",\"#00cc96\",\"#ab63fa\",\"#FFA15A\",\"#19d3f3\",\"#FF6692\",\"#B6E880\",\"#FF97FF\",\"#FECB52\"],\"font\":{\"color\":\"#2a3f5f\"},\"hovermode\":\"closest\",\"hoverlabel\":{\"align\":\"left\"},\"paper_bgcolor\":\"white\",\"plot_bgcolor\":\"#E5ECF6\",\"polar\":{\"bgcolor\":\"#E5ECF6\",\"angularaxis\":{\"gridcolor\":\"white\",\"linecolor\":\"white\",\"ticks\":\"\"},\"radialaxis\":{\"gridcolor\":\"white\",\"linecolor\":\"white\",\"ticks\":\"\"}},\"ternary\":{\"bgcolor\":\"#E5ECF6\",\"aaxis\":{\"gridcolor\":\"white\",\"linecolor\":\"white\",\"ticks\":\"\"},\"baxis\":{\"gridcolor\":\"white\",\"linecolor\":\"white\",\"ticks\":\"\"},\"caxis\":{\"gridcolor\":\"white\",\"linecolor\":\"white\",\"ticks\":\"\"}},\"coloraxis\":{\"colorbar\":{\"outlinewidth\":0,\"ticks\":\"\"}},\"colorscale\":{\"sequential\":[[0.0,\"#0d0887\"],[0.1111111111111111,\"#46039f\"],[0.2222222222222222,\"#7201a8\"],[0.3333333333333333,\"#9c179e\"],[0.4444444444444444,\"#bd3786\"],[0.5555555555555556,\"#d8576b\"],[0.6666666666666666,\"#ed7953\"],[0.7777777777777778,\"#fb9f3a\"],[0.8888888888888888,\"#fdca26\"],[1.0,\"#f0f921\"]],\"sequentialminus\":[[0.0,\"#0d0887\"],[0.1111111111111111,\"#46039f\"],[0.2222222222222222,\"#7201a8\"],[0.3333333333333333,\"#9c179e\"],[0.4444444444444444,\"#bd3786\"],[0.5555555555555556,\"#d8576b\"],[0.6666666666666666,\"#ed7953\"],[0.7777777777777778,\"#fb9f3a\"],[0.8888888888888888,\"#fdca26\"],[1.0,\"#f0f921\"]],\"diverging\":[[0,\"#8e0152\"],[0.1,\"#c51b7d\"],[0.2,\"#de77ae\"],[0.3,\"#f1b6da\"],[0.4,\"#fde0ef\"],[0.5,\"#f7f7f7\"],[0.6,\"#e6f5d0\"],[0.7,\"#b8e186\"],[0.8,\"#7fbc41\"],[0.9,\"#4d9221\"],[1,\"#276419\"]]},\"xaxis\":{\"gridcolor\":\"white\",\"linecolor\":\"white\",\"ticks\":\"\",\"title\":{\"standoff\":15},\"zerolinecolor\":\"white\",\"automargin\":true,\"zerolinewidth\":2},\"yaxis\":{\"gridcolor\":\"white\",\"linecolor\":\"white\",\"ticks\":\"\",\"title\":{\"standoff\":15},\"zerolinecolor\":\"white\",\"automargin\":true,\"zerolinewidth\":2},\"scene\":{\"xaxis\":{\"backgroundcolor\":\"#E5ECF6\",\"gridcolor\":\"white\",\"linecolor\":\"white\",\"showbackground\":true,\"ticks\":\"\",\"zerolinecolor\":\"white\",\"gridwidth\":2},\"yaxis\":{\"backgroundcolor\":\"#E5ECF6\",\"gridcolor\":\"white\",\"linecolor\":\"white\",\"showbackground\":true,\"ticks\":\"\",\"zerolinecolor\":\"white\",\"gridwidth\":2},\"zaxis\":{\"backgroundcolor\":\"#E5ECF6\",\"gridcolor\":\"white\",\"linecolor\":\"white\",\"showbackground\":true,\"ticks\":\"\",\"zerolinecolor\":\"white\",\"gridwidth\":2}},\"shapedefaults\":{\"line\":{\"color\":\"#2a3f5f\"}},\"annotationdefaults\":{\"arrowcolor\":\"#2a3f5f\",\"arrowhead\":0,\"arrowwidth\":1},\"geo\":{\"bgcolor\":\"white\",\"landcolor\":\"#E5ECF6\",\"subunitcolor\":\"white\",\"showland\":true,\"showlakes\":true,\"lakecolor\":\"white\"},\"title\":{\"x\":0.05},\"mapbox\":{\"style\":\"light\"}}}},                        {\"responsive\": true}                    )                };            </script>        </div>',\n",
       " ('Pull day - segunda-feira',\n",
       "  'Hammer Curl (Dumbbell)'): '<div>                        <script type=\"text/javascript\">window.PlotlyConfig = {MathJaxConfig: \\'local\\'};</script>\\n        <script charset=\"utf-8\" src=\"https://cdn.plot.ly/plotly-3.0.1.min.js\"></script>                <div id=\"c2da930d-9c98-47fb-ae02-d270b7f8e672\" class=\"plotly-graph-div\" style=\"height:100%; width:100%;\"></div>            <script type=\"text/javascript\">                window.PLOTLYENV=window.PLOTLYENV || {};                                if (document.getElementById(\"c2da930d-9c98-47fb-ae02-d270b7f8e672\")) {                    Plotly.newPlot(                        \"c2da930d-9c98-47fb-ae02-d270b7f8e672\",                        [{\"mode\":\"lines+markers+text\",\"name\":\"Top Set (Failure)\",\"text\":[\"4 reps\",\"6 reps\",\"5 reps\",\"5 reps\",\"5 reps\"],\"textposition\":\"top center\",\"visible\":true,\"x\":[\"2025-04-14\",\"2025-04-07\",\"2025-03-31\",\"2025-03-24\",\"2025-03-17\"],\"y\":{\"dtype\":\"f8\",\"bdata\":\"AAAAAAAANEAAAAAAAAAyQAAAAAAAADJAAAAAAAAANkAAAAAAAAA2QA==\"},\"type\":\"scatter\"},{\"mode\":\"lines+markers+text\",\"name\":\"Work Set 1\",\"text\":[\"7 reps\",\"6 reps\",\"6 reps\",\"6 reps\",\"7 reps\"],\"textposition\":\"top center\",\"visible\":false,\"x\":[\"2025-04-14\",\"2025-04-07\",\"2025-03-31\",\"2025-03-24\",\"2025-03-17\"],\"y\":{\"dtype\":\"f8\",\"bdata\":\"AAAAAAAAMkAAAAAAAAAyQAAAAAAAADJAAAAAAAAANkAAAAAAAAA0QA==\"},\"type\":\"scatter\"}],                        {\"hovermode\":\"closest\",\"title\":{\"text\":\"Evolu\\\\u00e7\\\\u00e3o no Hammer Curl (Dumbbell) (Pull day - segunda-feira)\"},\"updatemenus\":[{\"active\":0,\"bgcolor\":\"white\",\"bordercolor\":\"gray\",\"borderwidth\":1,\"buttons\":[{\"args\":[{\"x\":[[\"2025-04-14\",\"2025-04-07\",\"2025-03-31\",\"2025-03-24\",\"2025-03-17\"],[\"2025-04-14\",\"2025-04-07\",\"2025-03-31\",\"2025-03-24\",\"2025-03-17\"]],\"y\":[[20.0,18.0,18.0,22.0,22.0],[18.0,18.0,18.0,22.0,20.0]],\"text\":[[\"4 reps\",\"6 reps\",\"5 reps\",\"5 reps\",\"5 reps\"],[\"7 reps\",\"6 reps\",\"6 reps\",\"6 reps\",\"7 reps\"]]},{\"updatemenus[1].buttons\":[{\"label\":\"Top Set (Failure)\",\"method\":\"update\",\"args\":[{\"visible\":[true,false]}]},{\"label\":\"Work Set 1\",\"method\":\"update\",\"args\":[{\"visible\":[false,true]}]},{\"label\":\"Todas as s\\\\u00e9ries\",\"method\":\"update\",\"args\":[{\"visible\":[true,true]}]}],\"title\":\"Evolu\\\\u00e7\\\\u00e3o no Hammer Curl (Dumbbell) (Pull day - segunda-feira) - \\\\u00daltimos 30 dias\"}],\"label\":\"\\\\u00daltimos 30 dias\",\"method\":\"update\"},{\"args\":[{\"x\":[[\"2025-04-14\",\"2025-04-07\",\"2025-03-31\",\"2025-03-24\",\"2025-03-17\",\"2025-03-10\",\"2025-03-03\",\"2025-02-24\"],[\"2025-04-14\",\"2025-04-07\",\"2025-03-31\",\"2025-03-24\",\"2025-03-17\",\"2025-03-10\",\"2025-03-03\",\"2025-02-24\"]],\"y\":[[20.0,18.0,18.0,22.0,22.0,20.0,20.0,18.0],[18.0,18.0,18.0,22.0,20.0,20.0,20.0,18.0]],\"text\":[[\"4 reps\",\"6 reps\",\"5 reps\",\"5 reps\",\"5 reps\",\"4 reps\",\"4 reps\",\"6 reps\"],[\"7 reps\",\"6 reps\",\"6 reps\",\"6 reps\",\"7 reps\",\"6 reps\",\"6 reps\",\"6 reps\"]]},{\"updatemenus[1].buttons\":[{\"label\":\"Top Set (Failure)\",\"method\":\"update\",\"args\":[{\"visible\":[true,false]}]},{\"label\":\"Work Set 1\",\"method\":\"update\",\"args\":[{\"visible\":[false,true]}]},{\"label\":\"Todas as s\\\\u00e9ries\",\"method\":\"update\",\"args\":[{\"visible\":[true,true]}]}]}],\"label\":\"\\\\u00daltimos 60 dias\",\"method\":\"update\"},{\"args\":[{\"x\":[[\"2025-04-14\",\"2025-04-07\",\"2025-03-31\",\"2025-03-24\",\"2025-03-17\",\"2025-03-10\",\"2025-03-03\",\"2025-02-24\",\"2025-02-03\",\"2025-01-20\"],[\"2025-04-14\",\"2025-04-07\",\"2025-03-31\",\"2025-03-24\",\"2025-03-17\",\"2025-03-10\",\"2025-03-03\",\"2025-02-24\",\"2025-02-03\",\"2025-01-20\"]],\"y\":[[20.0,18.0,18.0,22.0,22.0,20.0,20.0,18.0,22.0,22.0],[18.0,18.0,18.0,22.0,20.0,20.0,20.0,18.0,22.0,20.0]],\"text\":[[\"4 reps\",\"6 reps\",\"5 reps\",\"5 reps\",\"5 reps\",\"4 reps\",\"4 reps\",\"6 reps\",\"5 reps\",\"4 reps\"],[\"7 reps\",\"6 reps\",\"6 reps\",\"6 reps\",\"7 reps\",\"6 reps\",\"6 reps\",\"6 reps\",\"5 reps\",\"6 reps\"]]},{\"updatemenus[1].buttons\":[{\"label\":\"Top Set (Failure)\",\"method\":\"update\",\"args\":[{\"visible\":[true,false]}]},{\"label\":\"Work Set 1\",\"method\":\"update\",\"args\":[{\"visible\":[false,true]}]},{\"label\":\"Todas as s\\\\u00e9ries\",\"method\":\"update\",\"args\":[{\"visible\":[true,true]}]}]}],\"label\":\"\\\\u00daltimos 90 dias\",\"method\":\"update\"}],\"direction\":\"down\",\"pad\":{\"r\":10,\"t\":10},\"showactive\":true,\"x\":0.6,\"xanchor\":\"left\",\"y\":1.2,\"yanchor\":\"top\"},{\"active\":0,\"bgcolor\":\"white\",\"bordercolor\":\"gray\",\"borderwidth\":1,\"buttons\":[{\"args\":[{\"visible\":[true,false]}],\"label\":\"Top Set (Failure)\",\"method\":\"update\"},{\"args\":[{\"visible\":[false,true]}],\"label\":\"Work Set 1\",\"method\":\"update\"},{\"args\":[{\"visible\":[true,true]}],\"label\":\"Todas as s\\\\u00e9ries\",\"method\":\"update\"}],\"direction\":\"down\",\"pad\":{\"r\":10,\"t\":10},\"showactive\":true,\"x\":0.99,\"xanchor\":\"right\",\"y\":1.2,\"yanchor\":\"top\"}],\"xaxis\":{\"tickformat\":\"%d\\\\u002f%m\\\\u002f%Y\",\"title\":{\"text\":\"Data\"}},\"yaxis\":{\"title\":{\"text\":\"Peso (kg)\"}},\"template\":{\"data\":{\"histogram2dcontour\":[{\"type\":\"histogram2dcontour\",\"colorbar\":{\"outlinewidth\":0,\"ticks\":\"\"},\"colorscale\":[[0.0,\"#0d0887\"],[0.1111111111111111,\"#46039f\"],[0.2222222222222222,\"#7201a8\"],[0.3333333333333333,\"#9c179e\"],[0.4444444444444444,\"#bd3786\"],[0.5555555555555556,\"#d8576b\"],[0.6666666666666666,\"#ed7953\"],[0.7777777777777778,\"#fb9f3a\"],[0.8888888888888888,\"#fdca26\"],[1.0,\"#f0f921\"]]}],\"choropleth\":[{\"type\":\"choropleth\",\"colorbar\":{\"outlinewidth\":0,\"ticks\":\"\"}}],\"histogram2d\":[{\"type\":\"histogram2d\",\"colorbar\":{\"outlinewidth\":0,\"ticks\":\"\"},\"colorscale\":[[0.0,\"#0d0887\"],[0.1111111111111111,\"#46039f\"],[0.2222222222222222,\"#7201a8\"],[0.3333333333333333,\"#9c179e\"],[0.4444444444444444,\"#bd3786\"],[0.5555555555555556,\"#d8576b\"],[0.6666666666666666,\"#ed7953\"],[0.7777777777777778,\"#fb9f3a\"],[0.8888888888888888,\"#fdca26\"],[1.0,\"#f0f921\"]]}],\"heatmap\":[{\"type\":\"heatmap\",\"colorbar\":{\"outlinewidth\":0,\"ticks\":\"\"},\"colorscale\":[[0.0,\"#0d0887\"],[0.1111111111111111,\"#46039f\"],[0.2222222222222222,\"#7201a8\"],[0.3333333333333333,\"#9c179e\"],[0.4444444444444444,\"#bd3786\"],[0.5555555555555556,\"#d8576b\"],[0.6666666666666666,\"#ed7953\"],[0.7777777777777778,\"#fb9f3a\"],[0.8888888888888888,\"#fdca26\"],[1.0,\"#f0f921\"]]}],\"contourcarpet\":[{\"type\":\"contourcarpet\",\"colorbar\":{\"outlinewidth\":0,\"ticks\":\"\"}}],\"contour\":[{\"type\":\"contour\",\"colorbar\":{\"outlinewidth\":0,\"ticks\":\"\"},\"colorscale\":[[0.0,\"#0d0887\"],[0.1111111111111111,\"#46039f\"],[0.2222222222222222,\"#7201a8\"],[0.3333333333333333,\"#9c179e\"],[0.4444444444444444,\"#bd3786\"],[0.5555555555555556,\"#d8576b\"],[0.6666666666666666,\"#ed7953\"],[0.7777777777777778,\"#fb9f3a\"],[0.8888888888888888,\"#fdca26\"],[1.0,\"#f0f921\"]]}],\"surface\":[{\"type\":\"surface\",\"colorbar\":{\"outlinewidth\":0,\"ticks\":\"\"},\"colorscale\":[[0.0,\"#0d0887\"],[0.1111111111111111,\"#46039f\"],[0.2222222222222222,\"#7201a8\"],[0.3333333333333333,\"#9c179e\"],[0.4444444444444444,\"#bd3786\"],[0.5555555555555556,\"#d8576b\"],[0.6666666666666666,\"#ed7953\"],[0.7777777777777778,\"#fb9f3a\"],[0.8888888888888888,\"#fdca26\"],[1.0,\"#f0f921\"]]}],\"mesh3d\":[{\"type\":\"mesh3d\",\"colorbar\":{\"outlinewidth\":0,\"ticks\":\"\"}}],\"scatter\":[{\"fillpattern\":{\"fillmode\":\"overlay\",\"size\":10,\"solidity\":0.2},\"type\":\"scatter\"}],\"parcoords\":[{\"type\":\"parcoords\",\"line\":{\"colorbar\":{\"outlinewidth\":0,\"ticks\":\"\"}}}],\"scatterpolargl\":[{\"type\":\"scatterpolargl\",\"marker\":{\"colorbar\":{\"outlinewidth\":0,\"ticks\":\"\"}}}],\"bar\":[{\"error_x\":{\"color\":\"#2a3f5f\"},\"error_y\":{\"color\":\"#2a3f5f\"},\"marker\":{\"line\":{\"color\":\"#E5ECF6\",\"width\":0.5},\"pattern\":{\"fillmode\":\"overlay\",\"size\":10,\"solidity\":0.2}},\"type\":\"bar\"}],\"scattergeo\":[{\"type\":\"scattergeo\",\"marker\":{\"colorbar\":{\"outlinewidth\":0,\"ticks\":\"\"}}}],\"scatterpolar\":[{\"type\":\"scatterpolar\",\"marker\":{\"colorbar\":{\"outlinewidth\":0,\"ticks\":\"\"}}}],\"histogram\":[{\"marker\":{\"pattern\":{\"fillmode\":\"overlay\",\"size\":10,\"solidity\":0.2}},\"type\":\"histogram\"}],\"scattergl\":[{\"type\":\"scattergl\",\"marker\":{\"colorbar\":{\"outlinewidth\":0,\"ticks\":\"\"}}}],\"scatter3d\":[{\"type\":\"scatter3d\",\"line\":{\"colorbar\":{\"outlinewidth\":0,\"ticks\":\"\"}},\"marker\":{\"colorbar\":{\"outlinewidth\":0,\"ticks\":\"\"}}}],\"scattermap\":[{\"type\":\"scattermap\",\"marker\":{\"colorbar\":{\"outlinewidth\":0,\"ticks\":\"\"}}}],\"scattermapbox\":[{\"type\":\"scattermapbox\",\"marker\":{\"colorbar\":{\"outlinewidth\":0,\"ticks\":\"\"}}}],\"scatterternary\":[{\"type\":\"scatterternary\",\"marker\":{\"colorbar\":{\"outlinewidth\":0,\"ticks\":\"\"}}}],\"scattercarpet\":[{\"type\":\"scattercarpet\",\"marker\":{\"colorbar\":{\"outlinewidth\":0,\"ticks\":\"\"}}}],\"carpet\":[{\"aaxis\":{\"endlinecolor\":\"#2a3f5f\",\"gridcolor\":\"white\",\"linecolor\":\"white\",\"minorgridcolor\":\"white\",\"startlinecolor\":\"#2a3f5f\"},\"baxis\":{\"endlinecolor\":\"#2a3f5f\",\"gridcolor\":\"white\",\"linecolor\":\"white\",\"minorgridcolor\":\"white\",\"startlinecolor\":\"#2a3f5f\"},\"type\":\"carpet\"}],\"table\":[{\"cells\":{\"fill\":{\"color\":\"#EBF0F8\"},\"line\":{\"color\":\"white\"}},\"header\":{\"fill\":{\"color\":\"#C8D4E3\"},\"line\":{\"color\":\"white\"}},\"type\":\"table\"}],\"barpolar\":[{\"marker\":{\"line\":{\"color\":\"#E5ECF6\",\"width\":0.5},\"pattern\":{\"fillmode\":\"overlay\",\"size\":10,\"solidity\":0.2}},\"type\":\"barpolar\"}],\"pie\":[{\"automargin\":true,\"type\":\"pie\"}]},\"layout\":{\"autotypenumbers\":\"strict\",\"colorway\":[\"#636efa\",\"#EF553B\",\"#00cc96\",\"#ab63fa\",\"#FFA15A\",\"#19d3f3\",\"#FF6692\",\"#B6E880\",\"#FF97FF\",\"#FECB52\"],\"font\":{\"color\":\"#2a3f5f\"},\"hovermode\":\"closest\",\"hoverlabel\":{\"align\":\"left\"},\"paper_bgcolor\":\"white\",\"plot_bgcolor\":\"#E5ECF6\",\"polar\":{\"bgcolor\":\"#E5ECF6\",\"angularaxis\":{\"gridcolor\":\"white\",\"linecolor\":\"white\",\"ticks\":\"\"},\"radialaxis\":{\"gridcolor\":\"white\",\"linecolor\":\"white\",\"ticks\":\"\"}},\"ternary\":{\"bgcolor\":\"#E5ECF6\",\"aaxis\":{\"gridcolor\":\"white\",\"linecolor\":\"white\",\"ticks\":\"\"},\"baxis\":{\"gridcolor\":\"white\",\"linecolor\":\"white\",\"ticks\":\"\"},\"caxis\":{\"gridcolor\":\"white\",\"linecolor\":\"white\",\"ticks\":\"\"}},\"coloraxis\":{\"colorbar\":{\"outlinewidth\":0,\"ticks\":\"\"}},\"colorscale\":{\"sequential\":[[0.0,\"#0d0887\"],[0.1111111111111111,\"#46039f\"],[0.2222222222222222,\"#7201a8\"],[0.3333333333333333,\"#9c179e\"],[0.4444444444444444,\"#bd3786\"],[0.5555555555555556,\"#d8576b\"],[0.6666666666666666,\"#ed7953\"],[0.7777777777777778,\"#fb9f3a\"],[0.8888888888888888,\"#fdca26\"],[1.0,\"#f0f921\"]],\"sequentialminus\":[[0.0,\"#0d0887\"],[0.1111111111111111,\"#46039f\"],[0.2222222222222222,\"#7201a8\"],[0.3333333333333333,\"#9c179e\"],[0.4444444444444444,\"#bd3786\"],[0.5555555555555556,\"#d8576b\"],[0.6666666666666666,\"#ed7953\"],[0.7777777777777778,\"#fb9f3a\"],[0.8888888888888888,\"#fdca26\"],[1.0,\"#f0f921\"]],\"diverging\":[[0,\"#8e0152\"],[0.1,\"#c51b7d\"],[0.2,\"#de77ae\"],[0.3,\"#f1b6da\"],[0.4,\"#fde0ef\"],[0.5,\"#f7f7f7\"],[0.6,\"#e6f5d0\"],[0.7,\"#b8e186\"],[0.8,\"#7fbc41\"],[0.9,\"#4d9221\"],[1,\"#276419\"]]},\"xaxis\":{\"gridcolor\":\"white\",\"linecolor\":\"white\",\"ticks\":\"\",\"title\":{\"standoff\":15},\"zerolinecolor\":\"white\",\"automargin\":true,\"zerolinewidth\":2},\"yaxis\":{\"gridcolor\":\"white\",\"linecolor\":\"white\",\"ticks\":\"\",\"title\":{\"standoff\":15},\"zerolinecolor\":\"white\",\"automargin\":true,\"zerolinewidth\":2},\"scene\":{\"xaxis\":{\"backgroundcolor\":\"#E5ECF6\",\"gridcolor\":\"white\",\"linecolor\":\"white\",\"showbackground\":true,\"ticks\":\"\",\"zerolinecolor\":\"white\",\"gridwidth\":2},\"yaxis\":{\"backgroundcolor\":\"#E5ECF6\",\"gridcolor\":\"white\",\"linecolor\":\"white\",\"showbackground\":true,\"ticks\":\"\",\"zerolinecolor\":\"white\",\"gridwidth\":2},\"zaxis\":{\"backgroundcolor\":\"#E5ECF6\",\"gridcolor\":\"white\",\"linecolor\":\"white\",\"showbackground\":true,\"ticks\":\"\",\"zerolinecolor\":\"white\",\"gridwidth\":2}},\"shapedefaults\":{\"line\":{\"color\":\"#2a3f5f\"}},\"annotationdefaults\":{\"arrowcolor\":\"#2a3f5f\",\"arrowhead\":0,\"arrowwidth\":1},\"geo\":{\"bgcolor\":\"white\",\"landcolor\":\"#E5ECF6\",\"subunitcolor\":\"white\",\"showland\":true,\"showlakes\":true,\"lakecolor\":\"white\"},\"title\":{\"x\":0.05},\"mapbox\":{\"style\":\"light\"}}}},                        {\"responsive\": true}                    )                };            </script>        </div>',\n",
       " ('Pull day - segunda-feira',\n",
       "  'Cable Crunch'): '<div>                        <script type=\"text/javascript\">window.PlotlyConfig = {MathJaxConfig: \\'local\\'};</script>\\n        <script charset=\"utf-8\" src=\"https://cdn.plot.ly/plotly-3.0.1.min.js\"></script>                <div id=\"9d5bf6b4-3e77-43b0-8899-d6600aa57697\" class=\"plotly-graph-div\" style=\"height:100%; width:100%;\"></div>            <script type=\"text/javascript\">                window.PLOTLYENV=window.PLOTLYENV || {};                                if (document.getElementById(\"9d5bf6b4-3e77-43b0-8899-d6600aa57697\")) {                    Plotly.newPlot(                        \"9d5bf6b4-3e77-43b0-8899-d6600aa57697\",                        [{\"mode\":\"lines+markers+text\",\"name\":\"Top Set (Failure)\",\"text\":[\"13 reps\",\"10 reps\",\"14 reps\",\"9 reps\",\"11 reps\",\"6 reps\",\"10 reps\",\"8 reps\",\"10 reps\",\"9 reps\"],\"textposition\":\"top center\",\"visible\":true,\"x\":[\"2025-04-14\",\"2025-04-14\",\"2025-04-07\",\"2025-04-07\",\"2025-03-31\",\"2025-03-31\",\"2025-03-24\",\"2025-03-24\",\"2025-03-17\",\"2025-03-17\"],\"y\":{\"dtype\":\"f8\",\"bdata\":\"AAAAAABAP0AAAAAAAIBAQAAAAAAAgEFAAAAAAAAgQkAAAAAAAKBDQAAAAAAAAERAAAAAAACgQ0AAAAAAAKBDQAAAAAAAAENAAAAAAAAAQ0A=\"},\"type\":\"scatter\"}],                        {\"hovermode\":\"closest\",\"title\":{\"text\":\"Evolu\\\\u00e7\\\\u00e3o no Cable Crunch (Pull day - segunda-feira)\"},\"updatemenus\":[{\"active\":0,\"bgcolor\":\"white\",\"bordercolor\":\"gray\",\"borderwidth\":1,\"buttons\":[{\"args\":[{\"x\":[[\"2025-04-14\",\"2025-04-14\",\"2025-04-07\",\"2025-04-07\",\"2025-03-31\",\"2025-03-31\",\"2025-03-24\",\"2025-03-24\",\"2025-03-17\",\"2025-03-17\"]],\"y\":[[31.25,33.0,35.0,36.25,39.25,40.0,39.25,39.25,38.0,38.0]],\"text\":[[\"13 reps\",\"10 reps\",\"14 reps\",\"9 reps\",\"11 reps\",\"6 reps\",\"10 reps\",\"8 reps\",\"10 reps\",\"9 reps\"]]},{\"updatemenus[1].buttons\":[{\"label\":\"Top Set (Failure)\",\"method\":\"update\",\"args\":[{\"visible\":[true]}]},{\"label\":\"Todas as s\\\\u00e9ries\",\"method\":\"update\",\"args\":[{\"visible\":[true]}]}],\"title\":\"Evolu\\\\u00e7\\\\u00e3o no Cable Crunch (Pull day - segunda-feira) - \\\\u00daltimos 30 dias\"}],\"label\":\"\\\\u00daltimos 30 dias\",\"method\":\"update\"},{\"args\":[{\"x\":[[\"2025-04-14\",\"2025-04-14\",\"2025-04-07\",\"2025-04-07\",\"2025-03-31\",\"2025-03-31\",\"2025-03-24\",\"2025-03-24\",\"2025-03-17\",\"2025-03-17\",\"2025-03-10\",\"2025-03-10\",\"2025-03-03\",\"2025-03-03\",\"2025-02-24\",\"2025-02-24\"]],\"y\":[[31.25,33.0,35.0,36.25,39.25,40.0,39.25,39.25,38.0,38.0,36.25,38.0,40.0,40.0,35.0,38.0]],\"text\":[[\"13 reps\",\"10 reps\",\"14 reps\",\"9 reps\",\"11 reps\",\"6 reps\",\"10 reps\",\"8 reps\",\"10 reps\",\"9 reps\",\"12 reps\",\"9 reps\",\"11 reps\",\"7 reps\",\"12 reps\",\"10 reps\"]]},{\"updatemenus[1].buttons\":[{\"label\":\"Top Set (Failure)\",\"method\":\"update\",\"args\":[{\"visible\":[true]}]},{\"label\":\"Todas as s\\\\u00e9ries\",\"method\":\"update\",\"args\":[{\"visible\":[true]}]}]}],\"label\":\"\\\\u00daltimos 60 dias\",\"method\":\"update\"},{\"args\":[{\"x\":[[\"2025-04-14\",\"2025-04-14\",\"2025-04-07\",\"2025-04-07\",\"2025-03-31\",\"2025-03-31\",\"2025-03-24\",\"2025-03-24\",\"2025-03-17\",\"2025-03-17\",\"2025-03-10\",\"2025-03-10\",\"2025-03-03\",\"2025-03-03\",\"2025-02-24\",\"2025-02-24\",\"2025-02-03\",\"2025-02-03\",\"2025-01-20\",\"2025-01-20\"]],\"y\":[[31.25,33.0,35.0,36.25,39.25,40.0,39.25,39.25,38.0,38.0,36.25,38.0,40.0,40.0,35.0,38.0,39.25,8.0,38.0,39.25]],\"text\":[[\"13 reps\",\"10 reps\",\"14 reps\",\"9 reps\",\"11 reps\",\"6 reps\",\"10 reps\",\"8 reps\",\"10 reps\",\"9 reps\",\"12 reps\",\"9 reps\",\"11 reps\",\"7 reps\",\"12 reps\",\"10 reps\",\"10 reps\",\"10 reps\",\"12 reps\",\"10 reps\"]]},{\"updatemenus[1].buttons\":[{\"label\":\"Top Set (Failure)\",\"method\":\"update\",\"args\":[{\"visible\":[true]}]},{\"label\":\"Todas as s\\\\u00e9ries\",\"method\":\"update\",\"args\":[{\"visible\":[true]}]}]}],\"label\":\"\\\\u00daltimos 90 dias\",\"method\":\"update\"}],\"direction\":\"down\",\"pad\":{\"r\":10,\"t\":10},\"showactive\":true,\"x\":0.6,\"xanchor\":\"left\",\"y\":1.2,\"yanchor\":\"top\"},{\"active\":0,\"bgcolor\":\"white\",\"bordercolor\":\"gray\",\"borderwidth\":1,\"buttons\":[{\"args\":[{\"visible\":[true]}],\"label\":\"Top Set (Failure)\",\"method\":\"update\"},{\"args\":[{\"visible\":[true]}],\"label\":\"Todas as s\\\\u00e9ries\",\"method\":\"update\"}],\"direction\":\"down\",\"pad\":{\"r\":10,\"t\":10},\"showactive\":true,\"x\":0.99,\"xanchor\":\"right\",\"y\":1.2,\"yanchor\":\"top\"}],\"xaxis\":{\"tickformat\":\"%d\\\\u002f%m\\\\u002f%Y\",\"title\":{\"text\":\"Data\"}},\"yaxis\":{\"title\":{\"text\":\"Peso (kg)\"}},\"template\":{\"data\":{\"histogram2dcontour\":[{\"type\":\"histogram2dcontour\",\"colorbar\":{\"outlinewidth\":0,\"ticks\":\"\"},\"colorscale\":[[0.0,\"#0d0887\"],[0.1111111111111111,\"#46039f\"],[0.2222222222222222,\"#7201a8\"],[0.3333333333333333,\"#9c179e\"],[0.4444444444444444,\"#bd3786\"],[0.5555555555555556,\"#d8576b\"],[0.6666666666666666,\"#ed7953\"],[0.7777777777777778,\"#fb9f3a\"],[0.8888888888888888,\"#fdca26\"],[1.0,\"#f0f921\"]]}],\"choropleth\":[{\"type\":\"choropleth\",\"colorbar\":{\"outlinewidth\":0,\"ticks\":\"\"}}],\"histogram2d\":[{\"type\":\"histogram2d\",\"colorbar\":{\"outlinewidth\":0,\"ticks\":\"\"},\"colorscale\":[[0.0,\"#0d0887\"],[0.1111111111111111,\"#46039f\"],[0.2222222222222222,\"#7201a8\"],[0.3333333333333333,\"#9c179e\"],[0.4444444444444444,\"#bd3786\"],[0.5555555555555556,\"#d8576b\"],[0.6666666666666666,\"#ed7953\"],[0.7777777777777778,\"#fb9f3a\"],[0.8888888888888888,\"#fdca26\"],[1.0,\"#f0f921\"]]}],\"heatmap\":[{\"type\":\"heatmap\",\"colorbar\":{\"outlinewidth\":0,\"ticks\":\"\"},\"colorscale\":[[0.0,\"#0d0887\"],[0.1111111111111111,\"#46039f\"],[0.2222222222222222,\"#7201a8\"],[0.3333333333333333,\"#9c179e\"],[0.4444444444444444,\"#bd3786\"],[0.5555555555555556,\"#d8576b\"],[0.6666666666666666,\"#ed7953\"],[0.7777777777777778,\"#fb9f3a\"],[0.8888888888888888,\"#fdca26\"],[1.0,\"#f0f921\"]]}],\"contourcarpet\":[{\"type\":\"contourcarpet\",\"colorbar\":{\"outlinewidth\":0,\"ticks\":\"\"}}],\"contour\":[{\"type\":\"contour\",\"colorbar\":{\"outlinewidth\":0,\"ticks\":\"\"},\"colorscale\":[[0.0,\"#0d0887\"],[0.1111111111111111,\"#46039f\"],[0.2222222222222222,\"#7201a8\"],[0.3333333333333333,\"#9c179e\"],[0.4444444444444444,\"#bd3786\"],[0.5555555555555556,\"#d8576b\"],[0.6666666666666666,\"#ed7953\"],[0.7777777777777778,\"#fb9f3a\"],[0.8888888888888888,\"#fdca26\"],[1.0,\"#f0f921\"]]}],\"surface\":[{\"type\":\"surface\",\"colorbar\":{\"outlinewidth\":0,\"ticks\":\"\"},\"colorscale\":[[0.0,\"#0d0887\"],[0.1111111111111111,\"#46039f\"],[0.2222222222222222,\"#7201a8\"],[0.3333333333333333,\"#9c179e\"],[0.4444444444444444,\"#bd3786\"],[0.5555555555555556,\"#d8576b\"],[0.6666666666666666,\"#ed7953\"],[0.7777777777777778,\"#fb9f3a\"],[0.8888888888888888,\"#fdca26\"],[1.0,\"#f0f921\"]]}],\"mesh3d\":[{\"type\":\"mesh3d\",\"colorbar\":{\"outlinewidth\":0,\"ticks\":\"\"}}],\"scatter\":[{\"fillpattern\":{\"fillmode\":\"overlay\",\"size\":10,\"solidity\":0.2},\"type\":\"scatter\"}],\"parcoords\":[{\"type\":\"parcoords\",\"line\":{\"colorbar\":{\"outlinewidth\":0,\"ticks\":\"\"}}}],\"scatterpolargl\":[{\"type\":\"scatterpolargl\",\"marker\":{\"colorbar\":{\"outlinewidth\":0,\"ticks\":\"\"}}}],\"bar\":[{\"error_x\":{\"color\":\"#2a3f5f\"},\"error_y\":{\"color\":\"#2a3f5f\"},\"marker\":{\"line\":{\"color\":\"#E5ECF6\",\"width\":0.5},\"pattern\":{\"fillmode\":\"overlay\",\"size\":10,\"solidity\":0.2}},\"type\":\"bar\"}],\"scattergeo\":[{\"type\":\"scattergeo\",\"marker\":{\"colorbar\":{\"outlinewidth\":0,\"ticks\":\"\"}}}],\"scatterpolar\":[{\"type\":\"scatterpolar\",\"marker\":{\"colorbar\":{\"outlinewidth\":0,\"ticks\":\"\"}}}],\"histogram\":[{\"marker\":{\"pattern\":{\"fillmode\":\"overlay\",\"size\":10,\"solidity\":0.2}},\"type\":\"histogram\"}],\"scattergl\":[{\"type\":\"scattergl\",\"marker\":{\"colorbar\":{\"outlinewidth\":0,\"ticks\":\"\"}}}],\"scatter3d\":[{\"type\":\"scatter3d\",\"line\":{\"colorbar\":{\"outlinewidth\":0,\"ticks\":\"\"}},\"marker\":{\"colorbar\":{\"outlinewidth\":0,\"ticks\":\"\"}}}],\"scattermap\":[{\"type\":\"scattermap\",\"marker\":{\"colorbar\":{\"outlinewidth\":0,\"ticks\":\"\"}}}],\"scattermapbox\":[{\"type\":\"scattermapbox\",\"marker\":{\"colorbar\":{\"outlinewidth\":0,\"ticks\":\"\"}}}],\"scatterternary\":[{\"type\":\"scatterternary\",\"marker\":{\"colorbar\":{\"outlinewidth\":0,\"ticks\":\"\"}}}],\"scattercarpet\":[{\"type\":\"scattercarpet\",\"marker\":{\"colorbar\":{\"outlinewidth\":0,\"ticks\":\"\"}}}],\"carpet\":[{\"aaxis\":{\"endlinecolor\":\"#2a3f5f\",\"gridcolor\":\"white\",\"linecolor\":\"white\",\"minorgridcolor\":\"white\",\"startlinecolor\":\"#2a3f5f\"},\"baxis\":{\"endlinecolor\":\"#2a3f5f\",\"gridcolor\":\"white\",\"linecolor\":\"white\",\"minorgridcolor\":\"white\",\"startlinecolor\":\"#2a3f5f\"},\"type\":\"carpet\"}],\"table\":[{\"cells\":{\"fill\":{\"color\":\"#EBF0F8\"},\"line\":{\"color\":\"white\"}},\"header\":{\"fill\":{\"color\":\"#C8D4E3\"},\"line\":{\"color\":\"white\"}},\"type\":\"table\"}],\"barpolar\":[{\"marker\":{\"line\":{\"color\":\"#E5ECF6\",\"width\":0.5},\"pattern\":{\"fillmode\":\"overlay\",\"size\":10,\"solidity\":0.2}},\"type\":\"barpolar\"}],\"pie\":[{\"automargin\":true,\"type\":\"pie\"}]},\"layout\":{\"autotypenumbers\":\"strict\",\"colorway\":[\"#636efa\",\"#EF553B\",\"#00cc96\",\"#ab63fa\",\"#FFA15A\",\"#19d3f3\",\"#FF6692\",\"#B6E880\",\"#FF97FF\",\"#FECB52\"],\"font\":{\"color\":\"#2a3f5f\"},\"hovermode\":\"closest\",\"hoverlabel\":{\"align\":\"left\"},\"paper_bgcolor\":\"white\",\"plot_bgcolor\":\"#E5ECF6\",\"polar\":{\"bgcolor\":\"#E5ECF6\",\"angularaxis\":{\"gridcolor\":\"white\",\"linecolor\":\"white\",\"ticks\":\"\"},\"radialaxis\":{\"gridcolor\":\"white\",\"linecolor\":\"white\",\"ticks\":\"\"}},\"ternary\":{\"bgcolor\":\"#E5ECF6\",\"aaxis\":{\"gridcolor\":\"white\",\"linecolor\":\"white\",\"ticks\":\"\"},\"baxis\":{\"gridcolor\":\"white\",\"linecolor\":\"white\",\"ticks\":\"\"},\"caxis\":{\"gridcolor\":\"white\",\"linecolor\":\"white\",\"ticks\":\"\"}},\"coloraxis\":{\"colorbar\":{\"outlinewidth\":0,\"ticks\":\"\"}},\"colorscale\":{\"sequential\":[[0.0,\"#0d0887\"],[0.1111111111111111,\"#46039f\"],[0.2222222222222222,\"#7201a8\"],[0.3333333333333333,\"#9c179e\"],[0.4444444444444444,\"#bd3786\"],[0.5555555555555556,\"#d8576b\"],[0.6666666666666666,\"#ed7953\"],[0.7777777777777778,\"#fb9f3a\"],[0.8888888888888888,\"#fdca26\"],[1.0,\"#f0f921\"]],\"sequentialminus\":[[0.0,\"#0d0887\"],[0.1111111111111111,\"#46039f\"],[0.2222222222222222,\"#7201a8\"],[0.3333333333333333,\"#9c179e\"],[0.4444444444444444,\"#bd3786\"],[0.5555555555555556,\"#d8576b\"],[0.6666666666666666,\"#ed7953\"],[0.7777777777777778,\"#fb9f3a\"],[0.8888888888888888,\"#fdca26\"],[1.0,\"#f0f921\"]],\"diverging\":[[0,\"#8e0152\"],[0.1,\"#c51b7d\"],[0.2,\"#de77ae\"],[0.3,\"#f1b6da\"],[0.4,\"#fde0ef\"],[0.5,\"#f7f7f7\"],[0.6,\"#e6f5d0\"],[0.7,\"#b8e186\"],[0.8,\"#7fbc41\"],[0.9,\"#4d9221\"],[1,\"#276419\"]]},\"xaxis\":{\"gridcolor\":\"white\",\"linecolor\":\"white\",\"ticks\":\"\",\"title\":{\"standoff\":15},\"zerolinecolor\":\"white\",\"automargin\":true,\"zerolinewidth\":2},\"yaxis\":{\"gridcolor\":\"white\",\"linecolor\":\"white\",\"ticks\":\"\",\"title\":{\"standoff\":15},\"zerolinecolor\":\"white\",\"automargin\":true,\"zerolinewidth\":2},\"scene\":{\"xaxis\":{\"backgroundcolor\":\"#E5ECF6\",\"gridcolor\":\"white\",\"linecolor\":\"white\",\"showbackground\":true,\"ticks\":\"\",\"zerolinecolor\":\"white\",\"gridwidth\":2},\"yaxis\":{\"backgroundcolor\":\"#E5ECF6\",\"gridcolor\":\"white\",\"linecolor\":\"white\",\"showbackground\":true,\"ticks\":\"\",\"zerolinecolor\":\"white\",\"gridwidth\":2},\"zaxis\":{\"backgroundcolor\":\"#E5ECF6\",\"gridcolor\":\"white\",\"linecolor\":\"white\",\"showbackground\":true,\"ticks\":\"\",\"zerolinecolor\":\"white\",\"gridwidth\":2}},\"shapedefaults\":{\"line\":{\"color\":\"#2a3f5f\"}},\"annotationdefaults\":{\"arrowcolor\":\"#2a3f5f\",\"arrowhead\":0,\"arrowwidth\":1},\"geo\":{\"bgcolor\":\"white\",\"landcolor\":\"#E5ECF6\",\"subunitcolor\":\"white\",\"showland\":true,\"showlakes\":true,\"lakecolor\":\"white\"},\"title\":{\"x\":0.05},\"mapbox\":{\"style\":\"light\"}}}},                        {\"responsive\": true}                    )                };            </script>        </div>',\n",
       " ('Legs sábado',\n",
       "  'Deadlift (Barbell)'): '<div>                        <script type=\"text/javascript\">window.PlotlyConfig = {MathJaxConfig: \\'local\\'};</script>\\n        <script charset=\"utf-8\" src=\"https://cdn.plot.ly/plotly-3.0.1.min.js\"></script>                <div id=\"7f9a2da3-4f7c-4c2c-95d8-152d8ff3e5c1\" class=\"plotly-graph-div\" style=\"height:100%; width:100%;\"></div>            <script type=\"text/javascript\">                window.PLOTLYENV=window.PLOTLYENV || {};                                if (document.getElementById(\"7f9a2da3-4f7c-4c2c-95d8-152d8ff3e5c1\")) {                    Plotly.newPlot(                        \"7f9a2da3-4f7c-4c2c-95d8-152d8ff3e5c1\",                        [{\"mode\":\"lines+markers+text\",\"name\":\"Top Set (Failure)\",\"text\":[\"5 reps\",\"6 reps\",\"5 reps\",\"3 reps\",\"3 reps\"],\"textposition\":\"top center\",\"visible\":true,\"x\":[\"2025-04-12\",\"2025-04-05\",\"2025-03-29\",\"2025-03-22\",\"2025-03-15\"],\"y\":{\"dtype\":\"f8\",\"bdata\":\"AAAAAAAgZ0AAAAAAAIBmQAAAAAAAgGZAAAAAAAAAaUAAAAAAAABpQA==\"},\"type\":\"scatter\"},{\"mode\":\"lines+markers+text\",\"name\":\"Work Set 1\",\"text\":[\"6 reps\",\"5 reps\",\"3 reps\",\"4 reps\",\"5 reps\"],\"textposition\":\"top center\",\"visible\":false,\"x\":[\"2025-04-12\",\"2025-04-05\",\"2025-03-29\",\"2025-03-22\",\"2025-03-15\"],\"y\":{\"dtype\":\"f8\",\"bdata\":\"AAAAAACAZkAAAAAAAIBmQAAAAAAAAGlAAAAAAAAAaUAAAAAAAABpQA==\"},\"type\":\"scatter\"},{\"mode\":\"lines+markers+text\",\"name\":\"Work Set 2\",\"text\":[],\"textposition\":\"top center\",\"visible\":false,\"x\":[],\"y\":[],\"type\":\"scatter\"}],                        {\"hovermode\":\"closest\",\"title\":{\"text\":\"Evolu\\\\u00e7\\\\u00e3o no Deadlift (Barbell) (Legs s\\\\u00e1bado)\"},\"updatemenus\":[{\"active\":0,\"bgcolor\":\"white\",\"bordercolor\":\"gray\",\"borderwidth\":1,\"buttons\":[{\"args\":[{\"x\":[[\"2025-04-12\",\"2025-04-05\",\"2025-03-29\",\"2025-03-22\",\"2025-03-15\"],[\"2025-04-12\",\"2025-04-05\",\"2025-03-29\",\"2025-03-22\",\"2025-03-15\"],[]],\"y\":[[185.0,180.0,180.0,200.0,200.0],[180.0,180.0,200.0,200.0,200.0],[]],\"text\":[[\"5 reps\",\"6 reps\",\"5 reps\",\"3 reps\",\"3 reps\"],[\"6 reps\",\"5 reps\",\"3 reps\",\"4 reps\",\"5 reps\"],[]]},{\"updatemenus[1].buttons\":[{\"label\":\"Top Set (Failure)\",\"method\":\"update\",\"args\":[{\"visible\":[true,false,false]}]},{\"label\":\"Work Set 1\",\"method\":\"update\",\"args\":[{\"visible\":[false,true,false]}]},{\"label\":\"Todas as s\\\\u00e9ries\",\"method\":\"update\",\"args\":[{\"visible\":[true,true,false]}]}],\"title\":\"Evolu\\\\u00e7\\\\u00e3o no Deadlift (Barbell) (Legs s\\\\u00e1bado) - \\\\u00daltimos 30 dias\"}],\"label\":\"\\\\u00daltimos 30 dias\",\"method\":\"update\"},{\"args\":[{\"x\":[[\"2025-04-12\",\"2025-04-05\",\"2025-03-29\",\"2025-03-22\",\"2025-03-15\",\"2025-03-08\",\"2025-03-01\",\"2025-02-22\"],[\"2025-04-12\",\"2025-04-05\",\"2025-03-29\",\"2025-03-22\",\"2025-03-15\",\"2025-03-08\",\"2025-03-01\",\"2025-02-22\"],[]],\"y\":[[185.0,180.0,180.0,200.0,200.0,200.0,200.0,200.0],[180.0,180.0,200.0,200.0,200.0,200.0,200.0,195.0],[]],\"text\":[[\"5 reps\",\"6 reps\",\"5 reps\",\"3 reps\",\"3 reps\",\"3 reps\",\"4 reps\",\"4 reps\"],[\"6 reps\",\"5 reps\",\"3 reps\",\"4 reps\",\"5 reps\",\"5 reps\",\"4 reps\",\"6 reps\"],[]]},{\"updatemenus[1].buttons\":[{\"label\":\"Top Set (Failure)\",\"method\":\"update\",\"args\":[{\"visible\":[true,false,false]}]},{\"label\":\"Work Set 1\",\"method\":\"update\",\"args\":[{\"visible\":[false,true,false]}]},{\"label\":\"Todas as s\\\\u00e9ries\",\"method\":\"update\",\"args\":[{\"visible\":[true,true,false]}]}]}],\"label\":\"\\\\u00daltimos 60 dias\",\"method\":\"update\"},{\"args\":[{\"x\":[[\"2025-04-12\",\"2025-04-05\",\"2025-03-29\",\"2025-03-22\",\"2025-03-15\",\"2025-03-08\",\"2025-03-01\",\"2025-02-22\",\"2025-02-01\",\"2025-01-25\",\"2025-01-18\"],[\"2025-04-12\",\"2025-04-05\",\"2025-03-29\",\"2025-03-22\",\"2025-03-15\",\"2025-03-08\",\"2025-03-01\",\"2025-02-22\",\"2025-02-01\",\"2025-01-25\",\"2025-01-18\"],[\"2025-02-01\",\"2025-01-25\",\"2025-01-18\"]],\"y\":[[185.0,180.0,180.0,200.0,200.0,200.0,200.0,200.0,195.0,195.0,195.0],[180.0,180.0,200.0,200.0,200.0,200.0,200.0,195.0,195.0,195.0,190.0],[195.0,195.0,190.0]],\"text\":[[\"5 reps\",\"6 reps\",\"5 reps\",\"3 reps\",\"3 reps\",\"3 reps\",\"4 reps\",\"4 reps\",\"3 reps\",\"4 reps\",\"4 reps\"],[\"6 reps\",\"5 reps\",\"3 reps\",\"4 reps\",\"5 reps\",\"5 reps\",\"4 reps\",\"6 reps\",\"6 reps\",\"4 reps\",\"6 reps\"],[\"4 reps\",\"4 reps\",\"6 reps\"]]},{\"updatemenus[1].buttons\":[{\"label\":\"Top Set (Failure)\",\"method\":\"update\",\"args\":[{\"visible\":[true,false,false]}]},{\"label\":\"Work Set 1\",\"method\":\"update\",\"args\":[{\"visible\":[false,true,false]}]},{\"label\":\"Work Set 2\",\"method\":\"update\",\"args\":[{\"visible\":[false,false,true]}]},{\"label\":\"Todas as s\\\\u00e9ries\",\"method\":\"update\",\"args\":[{\"visible\":[true,true,true]}]}]}],\"label\":\"\\\\u00daltimos 90 dias\",\"method\":\"update\"}],\"direction\":\"down\",\"pad\":{\"r\":10,\"t\":10},\"showactive\":true,\"x\":0.6,\"xanchor\":\"left\",\"y\":1.2,\"yanchor\":\"top\"},{\"active\":0,\"bgcolor\":\"white\",\"bordercolor\":\"gray\",\"borderwidth\":1,\"buttons\":[{\"args\":[{\"visible\":[true,false,false]}],\"label\":\"Top Set (Failure)\",\"method\":\"update\"},{\"args\":[{\"visible\":[false,true,false]}],\"label\":\"Work Set 1\",\"method\":\"update\"},{\"args\":[{\"visible\":[true,true,false]}],\"label\":\"Todas as s\\\\u00e9ries\",\"method\":\"update\"}],\"direction\":\"down\",\"pad\":{\"r\":10,\"t\":10},\"showactive\":true,\"x\":0.99,\"xanchor\":\"right\",\"y\":1.2,\"yanchor\":\"top\"}],\"xaxis\":{\"tickformat\":\"%d\\\\u002f%m\\\\u002f%Y\",\"title\":{\"text\":\"Data\"}},\"yaxis\":{\"title\":{\"text\":\"Peso (kg)\"}},\"template\":{\"data\":{\"histogram2dcontour\":[{\"type\":\"histogram2dcontour\",\"colorbar\":{\"outlinewidth\":0,\"ticks\":\"\"},\"colorscale\":[[0.0,\"#0d0887\"],[0.1111111111111111,\"#46039f\"],[0.2222222222222222,\"#7201a8\"],[0.3333333333333333,\"#9c179e\"],[0.4444444444444444,\"#bd3786\"],[0.5555555555555556,\"#d8576b\"],[0.6666666666666666,\"#ed7953\"],[0.7777777777777778,\"#fb9f3a\"],[0.8888888888888888,\"#fdca26\"],[1.0,\"#f0f921\"]]}],\"choropleth\":[{\"type\":\"choropleth\",\"colorbar\":{\"outlinewidth\":0,\"ticks\":\"\"}}],\"histogram2d\":[{\"type\":\"histogram2d\",\"colorbar\":{\"outlinewidth\":0,\"ticks\":\"\"},\"colorscale\":[[0.0,\"#0d0887\"],[0.1111111111111111,\"#46039f\"],[0.2222222222222222,\"#7201a8\"],[0.3333333333333333,\"#9c179e\"],[0.4444444444444444,\"#bd3786\"],[0.5555555555555556,\"#d8576b\"],[0.6666666666666666,\"#ed7953\"],[0.7777777777777778,\"#fb9f3a\"],[0.8888888888888888,\"#fdca26\"],[1.0,\"#f0f921\"]]}],\"heatmap\":[{\"type\":\"heatmap\",\"colorbar\":{\"outlinewidth\":0,\"ticks\":\"\"},\"colorscale\":[[0.0,\"#0d0887\"],[0.1111111111111111,\"#46039f\"],[0.2222222222222222,\"#7201a8\"],[0.3333333333333333,\"#9c179e\"],[0.4444444444444444,\"#bd3786\"],[0.5555555555555556,\"#d8576b\"],[0.6666666666666666,\"#ed7953\"],[0.7777777777777778,\"#fb9f3a\"],[0.8888888888888888,\"#fdca26\"],[1.0,\"#f0f921\"]]}],\"contourcarpet\":[{\"type\":\"contourcarpet\",\"colorbar\":{\"outlinewidth\":0,\"ticks\":\"\"}}],\"contour\":[{\"type\":\"contour\",\"colorbar\":{\"outlinewidth\":0,\"ticks\":\"\"},\"colorscale\":[[0.0,\"#0d0887\"],[0.1111111111111111,\"#46039f\"],[0.2222222222222222,\"#7201a8\"],[0.3333333333333333,\"#9c179e\"],[0.4444444444444444,\"#bd3786\"],[0.5555555555555556,\"#d8576b\"],[0.6666666666666666,\"#ed7953\"],[0.7777777777777778,\"#fb9f3a\"],[0.8888888888888888,\"#fdca26\"],[1.0,\"#f0f921\"]]}],\"surface\":[{\"type\":\"surface\",\"colorbar\":{\"outlinewidth\":0,\"ticks\":\"\"},\"colorscale\":[[0.0,\"#0d0887\"],[0.1111111111111111,\"#46039f\"],[0.2222222222222222,\"#7201a8\"],[0.3333333333333333,\"#9c179e\"],[0.4444444444444444,\"#bd3786\"],[0.5555555555555556,\"#d8576b\"],[0.6666666666666666,\"#ed7953\"],[0.7777777777777778,\"#fb9f3a\"],[0.8888888888888888,\"#fdca26\"],[1.0,\"#f0f921\"]]}],\"mesh3d\":[{\"type\":\"mesh3d\",\"colorbar\":{\"outlinewidth\":0,\"ticks\":\"\"}}],\"scatter\":[{\"fillpattern\":{\"fillmode\":\"overlay\",\"size\":10,\"solidity\":0.2},\"type\":\"scatter\"}],\"parcoords\":[{\"type\":\"parcoords\",\"line\":{\"colorbar\":{\"outlinewidth\":0,\"ticks\":\"\"}}}],\"scatterpolargl\":[{\"type\":\"scatterpolargl\",\"marker\":{\"colorbar\":{\"outlinewidth\":0,\"ticks\":\"\"}}}],\"bar\":[{\"error_x\":{\"color\":\"#2a3f5f\"},\"error_y\":{\"color\":\"#2a3f5f\"},\"marker\":{\"line\":{\"color\":\"#E5ECF6\",\"width\":0.5},\"pattern\":{\"fillmode\":\"overlay\",\"size\":10,\"solidity\":0.2}},\"type\":\"bar\"}],\"scattergeo\":[{\"type\":\"scattergeo\",\"marker\":{\"colorbar\":{\"outlinewidth\":0,\"ticks\":\"\"}}}],\"scatterpolar\":[{\"type\":\"scatterpolar\",\"marker\":{\"colorbar\":{\"outlinewidth\":0,\"ticks\":\"\"}}}],\"histogram\":[{\"marker\":{\"pattern\":{\"fillmode\":\"overlay\",\"size\":10,\"solidity\":0.2}},\"type\":\"histogram\"}],\"scattergl\":[{\"type\":\"scattergl\",\"marker\":{\"colorbar\":{\"outlinewidth\":0,\"ticks\":\"\"}}}],\"scatter3d\":[{\"type\":\"scatter3d\",\"line\":{\"colorbar\":{\"outlinewidth\":0,\"ticks\":\"\"}},\"marker\":{\"colorbar\":{\"outlinewidth\":0,\"ticks\":\"\"}}}],\"scattermap\":[{\"type\":\"scattermap\",\"marker\":{\"colorbar\":{\"outlinewidth\":0,\"ticks\":\"\"}}}],\"scattermapbox\":[{\"type\":\"scattermapbox\",\"marker\":{\"colorbar\":{\"outlinewidth\":0,\"ticks\":\"\"}}}],\"scatterternary\":[{\"type\":\"scatterternary\",\"marker\":{\"colorbar\":{\"outlinewidth\":0,\"ticks\":\"\"}}}],\"scattercarpet\":[{\"type\":\"scattercarpet\",\"marker\":{\"colorbar\":{\"outlinewidth\":0,\"ticks\":\"\"}}}],\"carpet\":[{\"aaxis\":{\"endlinecolor\":\"#2a3f5f\",\"gridcolor\":\"white\",\"linecolor\":\"white\",\"minorgridcolor\":\"white\",\"startlinecolor\":\"#2a3f5f\"},\"baxis\":{\"endlinecolor\":\"#2a3f5f\",\"gridcolor\":\"white\",\"linecolor\":\"white\",\"minorgridcolor\":\"white\",\"startlinecolor\":\"#2a3f5f\"},\"type\":\"carpet\"}],\"table\":[{\"cells\":{\"fill\":{\"color\":\"#EBF0F8\"},\"line\":{\"color\":\"white\"}},\"header\":{\"fill\":{\"color\":\"#C8D4E3\"},\"line\":{\"color\":\"white\"}},\"type\":\"table\"}],\"barpolar\":[{\"marker\":{\"line\":{\"color\":\"#E5ECF6\",\"width\":0.5},\"pattern\":{\"fillmode\":\"overlay\",\"size\":10,\"solidity\":0.2}},\"type\":\"barpolar\"}],\"pie\":[{\"automargin\":true,\"type\":\"pie\"}]},\"layout\":{\"autotypenumbers\":\"strict\",\"colorway\":[\"#636efa\",\"#EF553B\",\"#00cc96\",\"#ab63fa\",\"#FFA15A\",\"#19d3f3\",\"#FF6692\",\"#B6E880\",\"#FF97FF\",\"#FECB52\"],\"font\":{\"color\":\"#2a3f5f\"},\"hovermode\":\"closest\",\"hoverlabel\":{\"align\":\"left\"},\"paper_bgcolor\":\"white\",\"plot_bgcolor\":\"#E5ECF6\",\"polar\":{\"bgcolor\":\"#E5ECF6\",\"angularaxis\":{\"gridcolor\":\"white\",\"linecolor\":\"white\",\"ticks\":\"\"},\"radialaxis\":{\"gridcolor\":\"white\",\"linecolor\":\"white\",\"ticks\":\"\"}},\"ternary\":{\"bgcolor\":\"#E5ECF6\",\"aaxis\":{\"gridcolor\":\"white\",\"linecolor\":\"white\",\"ticks\":\"\"},\"baxis\":{\"gridcolor\":\"white\",\"linecolor\":\"white\",\"ticks\":\"\"},\"caxis\":{\"gridcolor\":\"white\",\"linecolor\":\"white\",\"ticks\":\"\"}},\"coloraxis\":{\"colorbar\":{\"outlinewidth\":0,\"ticks\":\"\"}},\"colorscale\":{\"sequential\":[[0.0,\"#0d0887\"],[0.1111111111111111,\"#46039f\"],[0.2222222222222222,\"#7201a8\"],[0.3333333333333333,\"#9c179e\"],[0.4444444444444444,\"#bd3786\"],[0.5555555555555556,\"#d8576b\"],[0.6666666666666666,\"#ed7953\"],[0.7777777777777778,\"#fb9f3a\"],[0.8888888888888888,\"#fdca26\"],[1.0,\"#f0f921\"]],\"sequentialminus\":[[0.0,\"#0d0887\"],[0.1111111111111111,\"#46039f\"],[0.2222222222222222,\"#7201a8\"],[0.3333333333333333,\"#9c179e\"],[0.4444444444444444,\"#bd3786\"],[0.5555555555555556,\"#d8576b\"],[0.6666666666666666,\"#ed7953\"],[0.7777777777777778,\"#fb9f3a\"],[0.8888888888888888,\"#fdca26\"],[1.0,\"#f0f921\"]],\"diverging\":[[0,\"#8e0152\"],[0.1,\"#c51b7d\"],[0.2,\"#de77ae\"],[0.3,\"#f1b6da\"],[0.4,\"#fde0ef\"],[0.5,\"#f7f7f7\"],[0.6,\"#e6f5d0\"],[0.7,\"#b8e186\"],[0.8,\"#7fbc41\"],[0.9,\"#4d9221\"],[1,\"#276419\"]]},\"xaxis\":{\"gridcolor\":\"white\",\"linecolor\":\"white\",\"ticks\":\"\",\"title\":{\"standoff\":15},\"zerolinecolor\":\"white\",\"automargin\":true,\"zerolinewidth\":2},\"yaxis\":{\"gridcolor\":\"white\",\"linecolor\":\"white\",\"ticks\":\"\",\"title\":{\"standoff\":15},\"zerolinecolor\":\"white\",\"automargin\":true,\"zerolinewidth\":2},\"scene\":{\"xaxis\":{\"backgroundcolor\":\"#E5ECF6\",\"gridcolor\":\"white\",\"linecolor\":\"white\",\"showbackground\":true,\"ticks\":\"\",\"zerolinecolor\":\"white\",\"gridwidth\":2},\"yaxis\":{\"backgroundcolor\":\"#E5ECF6\",\"gridcolor\":\"white\",\"linecolor\":\"white\",\"showbackground\":true,\"ticks\":\"\",\"zerolinecolor\":\"white\",\"gridwidth\":2},\"zaxis\":{\"backgroundcolor\":\"#E5ECF6\",\"gridcolor\":\"white\",\"linecolor\":\"white\",\"showbackground\":true,\"ticks\":\"\",\"zerolinecolor\":\"white\",\"gridwidth\":2}},\"shapedefaults\":{\"line\":{\"color\":\"#2a3f5f\"}},\"annotationdefaults\":{\"arrowcolor\":\"#2a3f5f\",\"arrowhead\":0,\"arrowwidth\":1},\"geo\":{\"bgcolor\":\"white\",\"landcolor\":\"#E5ECF6\",\"subunitcolor\":\"white\",\"showland\":true,\"showlakes\":true,\"lakecolor\":\"white\"},\"title\":{\"x\":0.05},\"mapbox\":{\"style\":\"light\"}}}},                        {\"responsive\": true}                    )                };            </script>        </div>',\n",
       " ('Legs sábado',\n",
       "  'Extensão Quadril Banco Romano'): '<div>                        <script type=\"text/javascript\">window.PlotlyConfig = {MathJaxConfig: \\'local\\'};</script>\\n        <script charset=\"utf-8\" src=\"https://cdn.plot.ly/plotly-3.0.1.min.js\"></script>                <div id=\"4355bffb-126e-43af-989f-2f4a288059c7\" class=\"plotly-graph-div\" style=\"height:100%; width:100%;\"></div>            <script type=\"text/javascript\">                window.PLOTLYENV=window.PLOTLYENV || {};                                if (document.getElementById(\"4355bffb-126e-43af-989f-2f4a288059c7\")) {                    Plotly.newPlot(                        \"4355bffb-126e-43af-989f-2f4a288059c7\",                        [{\"mode\":\"lines+markers+text\",\"name\":\"Top Set (Failure)\",\"text\":[\"8 reps\",\"7 reps\",\"7 reps\",\"8 reps\",\"8 reps\"],\"textposition\":\"top center\",\"visible\":true,\"x\":[\"2025-04-12\",\"2025-04-05\",\"2025-03-29\",\"2025-03-22\",\"2025-03-15\"],\"y\":{\"dtype\":\"f8\",\"bdata\":\"AAAAAABARUAAAAAAAEBKQAAAAAAAQEpAAAAAAAAASUAAAAAAAIBGQA==\"},\"type\":\"scatter\"},{\"mode\":\"lines+markers+text\",\"name\":\"Work Set 1\",\"text\":[\"9 reps\",\"9 reps\",\"8 reps\",\"9 reps\",\"9 reps\"],\"textposition\":\"top center\",\"visible\":false,\"x\":[\"2025-04-12\",\"2025-04-05\",\"2025-03-29\",\"2025-03-22\",\"2025-03-15\"],\"y\":{\"dtype\":\"f8\",\"bdata\":\"AAAAAAAAREAAAAAAAABJQAAAAAAAAElAAAAAAACARkAAAAAAAEBFQA==\"},\"type\":\"scatter\"},{\"mode\":\"lines+markers+text\",\"name\":\"Work Set 2\",\"text\":[\"9 reps\"],\"textposition\":\"top center\",\"visible\":false,\"x\":[\"2025-03-15\"],\"y\":{\"dtype\":\"f8\",\"bdata\":\"AAAAAABARUA=\"},\"type\":\"scatter\"}],                        {\"hovermode\":\"closest\",\"title\":{\"text\":\"Evolu\\\\u00e7\\\\u00e3o no Extens\\\\u00e3o Quadril Banco Romano (Legs s\\\\u00e1bado)\"},\"updatemenus\":[{\"active\":0,\"bgcolor\":\"white\",\"bordercolor\":\"gray\",\"borderwidth\":1,\"buttons\":[{\"args\":[{\"x\":[[\"2025-04-12\",\"2025-04-05\",\"2025-03-29\",\"2025-03-22\",\"2025-03-15\"],[\"2025-04-12\",\"2025-04-05\",\"2025-03-29\",\"2025-03-22\",\"2025-03-15\"],[\"2025-03-15\"]],\"y\":[[42.5,52.5,52.5,50.0,45.0],[40.0,50.0,50.0,45.0,42.5],[42.5]],\"text\":[[\"8 reps\",\"7 reps\",\"7 reps\",\"8 reps\",\"8 reps\"],[\"9 reps\",\"9 reps\",\"8 reps\",\"9 reps\",\"9 reps\"],[\"9 reps\"]]},{\"updatemenus[1].buttons\":[{\"label\":\"Top Set (Failure)\",\"method\":\"update\",\"args\":[{\"visible\":[true,false,false]}]},{\"label\":\"Work Set 1\",\"method\":\"update\",\"args\":[{\"visible\":[false,true,false]}]},{\"label\":\"Work Set 2\",\"method\":\"update\",\"args\":[{\"visible\":[false,false,true]}]},{\"label\":\"Todas as s\\\\u00e9ries\",\"method\":\"update\",\"args\":[{\"visible\":[true,true,true]}]}],\"title\":\"Evolu\\\\u00e7\\\\u00e3o no Extens\\\\u00e3o Quadril Banco Romano (Legs s\\\\u00e1bado) - \\\\u00daltimos 30 dias\"}],\"label\":\"\\\\u00daltimos 30 dias\",\"method\":\"update\"},{\"args\":[{\"x\":[[\"2025-04-12\",\"2025-04-05\",\"2025-03-29\",\"2025-03-22\",\"2025-03-15\",\"2025-03-08\",\"2025-03-01\",\"2025-02-22\"],[\"2025-04-12\",\"2025-04-05\",\"2025-03-29\",\"2025-03-22\",\"2025-03-15\",\"2025-03-08\",\"2025-03-01\",\"2025-02-22\"],[\"2025-03-15\",\"2025-03-08\",\"2025-03-01\",\"2025-02-22\"]],\"y\":[[42.5,52.5,52.5,50.0,45.0,45.0,42.5,42.5],[40.0,50.0,50.0,45.0,42.5,42.5,40.0,40.0],[42.5,42.5,40.0,40.0]],\"text\":[[\"8 reps\",\"7 reps\",\"7 reps\",\"8 reps\",\"8 reps\",\"7 reps\",\"8 reps\",\"7 reps\"],[\"9 reps\",\"9 reps\",\"8 reps\",\"9 reps\",\"9 reps\",\"8 reps\",\"8 reps\",\"8 reps\"],[\"9 reps\",\"8 reps\",\"9 reps\",\"8 reps\"]]},{\"updatemenus[1].buttons\":[{\"label\":\"Top Set (Failure)\",\"method\":\"update\",\"args\":[{\"visible\":[true,false,false]}]},{\"label\":\"Work Set 1\",\"method\":\"update\",\"args\":[{\"visible\":[false,true,false]}]},{\"label\":\"Work Set 2\",\"method\":\"update\",\"args\":[{\"visible\":[false,false,true]}]},{\"label\":\"Todas as s\\\\u00e9ries\",\"method\":\"update\",\"args\":[{\"visible\":[true,true,true]}]}]}],\"label\":\"\\\\u00daltimos 60 dias\",\"method\":\"update\"},{\"args\":[{\"x\":[[\"2025-04-12\",\"2025-04-05\",\"2025-03-29\",\"2025-03-22\",\"2025-03-15\",\"2025-03-08\",\"2025-03-01\",\"2025-02-22\",\"2025-02-01\",\"2025-01-25\",\"2025-01-18\"],[\"2025-04-12\",\"2025-04-05\",\"2025-03-29\",\"2025-03-22\",\"2025-03-15\",\"2025-03-08\",\"2025-03-01\",\"2025-02-22\",\"2025-02-01\",\"2025-01-25\",\"2025-01-18\"],[\"2025-03-15\",\"2025-03-08\",\"2025-03-01\",\"2025-02-22\",\"2025-02-01\",\"2025-01-25\",\"2025-01-18\"]],\"y\":[[42.5,52.5,52.5,50.0,45.0,45.0,42.5,42.5,40.0,36.0,36.0],[40.0,50.0,50.0,45.0,42.5,42.5,40.0,40.0,40.0,36.0,34.0],[42.5,42.5,40.0,40.0,40.0,36.0,34.0]],\"text\":[[\"8 reps\",\"7 reps\",\"7 reps\",\"8 reps\",\"8 reps\",\"7 reps\",\"8 reps\",\"7 reps\",\"8 reps\",\"8 reps\",\"8 reps\"],[\"9 reps\",\"9 reps\",\"8 reps\",\"9 reps\",\"9 reps\",\"8 reps\",\"8 reps\",\"8 reps\",\"8 reps\",\"8 reps\",\"8 reps\"],[\"9 reps\",\"8 reps\",\"9 reps\",\"8 reps\",\"8 reps\",\"8 reps\",\"8 reps\"]]},{\"updatemenus[1].buttons\":[{\"label\":\"Top Set (Failure)\",\"method\":\"update\",\"args\":[{\"visible\":[true,false,false]}]},{\"label\":\"Work Set 1\",\"method\":\"update\",\"args\":[{\"visible\":[false,true,false]}]},{\"label\":\"Work Set 2\",\"method\":\"update\",\"args\":[{\"visible\":[false,false,true]}]},{\"label\":\"Todas as s\\\\u00e9ries\",\"method\":\"update\",\"args\":[{\"visible\":[true,true,true]}]}]}],\"label\":\"\\\\u00daltimos 90 dias\",\"method\":\"update\"}],\"direction\":\"down\",\"pad\":{\"r\":10,\"t\":10},\"showactive\":true,\"x\":0.6,\"xanchor\":\"left\",\"y\":1.2,\"yanchor\":\"top\"},{\"active\":0,\"bgcolor\":\"white\",\"bordercolor\":\"gray\",\"borderwidth\":1,\"buttons\":[{\"args\":[{\"visible\":[true,false,false]}],\"label\":\"Top Set (Failure)\",\"method\":\"update\"},{\"args\":[{\"visible\":[false,true,false]}],\"label\":\"Work Set 1\",\"method\":\"update\"},{\"args\":[{\"visible\":[false,false,true]}],\"label\":\"Work Set 2\",\"method\":\"update\"},{\"args\":[{\"visible\":[true,true,true]}],\"label\":\"Todas as s\\\\u00e9ries\",\"method\":\"update\"}],\"direction\":\"down\",\"pad\":{\"r\":10,\"t\":10},\"showactive\":true,\"x\":0.99,\"xanchor\":\"right\",\"y\":1.2,\"yanchor\":\"top\"}],\"xaxis\":{\"tickformat\":\"%d\\\\u002f%m\\\\u002f%Y\",\"title\":{\"text\":\"Data\"}},\"yaxis\":{\"title\":{\"text\":\"Peso (kg)\"}},\"template\":{\"data\":{\"histogram2dcontour\":[{\"type\":\"histogram2dcontour\",\"colorbar\":{\"outlinewidth\":0,\"ticks\":\"\"},\"colorscale\":[[0.0,\"#0d0887\"],[0.1111111111111111,\"#46039f\"],[0.2222222222222222,\"#7201a8\"],[0.3333333333333333,\"#9c179e\"],[0.4444444444444444,\"#bd3786\"],[0.5555555555555556,\"#d8576b\"],[0.6666666666666666,\"#ed7953\"],[0.7777777777777778,\"#fb9f3a\"],[0.8888888888888888,\"#fdca26\"],[1.0,\"#f0f921\"]]}],\"choropleth\":[{\"type\":\"choropleth\",\"colorbar\":{\"outlinewidth\":0,\"ticks\":\"\"}}],\"histogram2d\":[{\"type\":\"histogram2d\",\"colorbar\":{\"outlinewidth\":0,\"ticks\":\"\"},\"colorscale\":[[0.0,\"#0d0887\"],[0.1111111111111111,\"#46039f\"],[0.2222222222222222,\"#7201a8\"],[0.3333333333333333,\"#9c179e\"],[0.4444444444444444,\"#bd3786\"],[0.5555555555555556,\"#d8576b\"],[0.6666666666666666,\"#ed7953\"],[0.7777777777777778,\"#fb9f3a\"],[0.8888888888888888,\"#fdca26\"],[1.0,\"#f0f921\"]]}],\"heatmap\":[{\"type\":\"heatmap\",\"colorbar\":{\"outlinewidth\":0,\"ticks\":\"\"},\"colorscale\":[[0.0,\"#0d0887\"],[0.1111111111111111,\"#46039f\"],[0.2222222222222222,\"#7201a8\"],[0.3333333333333333,\"#9c179e\"],[0.4444444444444444,\"#bd3786\"],[0.5555555555555556,\"#d8576b\"],[0.6666666666666666,\"#ed7953\"],[0.7777777777777778,\"#fb9f3a\"],[0.8888888888888888,\"#fdca26\"],[1.0,\"#f0f921\"]]}],\"contourcarpet\":[{\"type\":\"contourcarpet\",\"colorbar\":{\"outlinewidth\":0,\"ticks\":\"\"}}],\"contour\":[{\"type\":\"contour\",\"colorbar\":{\"outlinewidth\":0,\"ticks\":\"\"},\"colorscale\":[[0.0,\"#0d0887\"],[0.1111111111111111,\"#46039f\"],[0.2222222222222222,\"#7201a8\"],[0.3333333333333333,\"#9c179e\"],[0.4444444444444444,\"#bd3786\"],[0.5555555555555556,\"#d8576b\"],[0.6666666666666666,\"#ed7953\"],[0.7777777777777778,\"#fb9f3a\"],[0.8888888888888888,\"#fdca26\"],[1.0,\"#f0f921\"]]}],\"surface\":[{\"type\":\"surface\",\"colorbar\":{\"outlinewidth\":0,\"ticks\":\"\"},\"colorscale\":[[0.0,\"#0d0887\"],[0.1111111111111111,\"#46039f\"],[0.2222222222222222,\"#7201a8\"],[0.3333333333333333,\"#9c179e\"],[0.4444444444444444,\"#bd3786\"],[0.5555555555555556,\"#d8576b\"],[0.6666666666666666,\"#ed7953\"],[0.7777777777777778,\"#fb9f3a\"],[0.8888888888888888,\"#fdca26\"],[1.0,\"#f0f921\"]]}],\"mesh3d\":[{\"type\":\"mesh3d\",\"colorbar\":{\"outlinewidth\":0,\"ticks\":\"\"}}],\"scatter\":[{\"fillpattern\":{\"fillmode\":\"overlay\",\"size\":10,\"solidity\":0.2},\"type\":\"scatter\"}],\"parcoords\":[{\"type\":\"parcoords\",\"line\":{\"colorbar\":{\"outlinewidth\":0,\"ticks\":\"\"}}}],\"scatterpolargl\":[{\"type\":\"scatterpolargl\",\"marker\":{\"colorbar\":{\"outlinewidth\":0,\"ticks\":\"\"}}}],\"bar\":[{\"error_x\":{\"color\":\"#2a3f5f\"},\"error_y\":{\"color\":\"#2a3f5f\"},\"marker\":{\"line\":{\"color\":\"#E5ECF6\",\"width\":0.5},\"pattern\":{\"fillmode\":\"overlay\",\"size\":10,\"solidity\":0.2}},\"type\":\"bar\"}],\"scattergeo\":[{\"type\":\"scattergeo\",\"marker\":{\"colorbar\":{\"outlinewidth\":0,\"ticks\":\"\"}}}],\"scatterpolar\":[{\"type\":\"scatterpolar\",\"marker\":{\"colorbar\":{\"outlinewidth\":0,\"ticks\":\"\"}}}],\"histogram\":[{\"marker\":{\"pattern\":{\"fillmode\":\"overlay\",\"size\":10,\"solidity\":0.2}},\"type\":\"histogram\"}],\"scattergl\":[{\"type\":\"scattergl\",\"marker\":{\"colorbar\":{\"outlinewidth\":0,\"ticks\":\"\"}}}],\"scatter3d\":[{\"type\":\"scatter3d\",\"line\":{\"colorbar\":{\"outlinewidth\":0,\"ticks\":\"\"}},\"marker\":{\"colorbar\":{\"outlinewidth\":0,\"ticks\":\"\"}}}],\"scattermap\":[{\"type\":\"scattermap\",\"marker\":{\"colorbar\":{\"outlinewidth\":0,\"ticks\":\"\"}}}],\"scattermapbox\":[{\"type\":\"scattermapbox\",\"marker\":{\"colorbar\":{\"outlinewidth\":0,\"ticks\":\"\"}}}],\"scatterternary\":[{\"type\":\"scatterternary\",\"marker\":{\"colorbar\":{\"outlinewidth\":0,\"ticks\":\"\"}}}],\"scattercarpet\":[{\"type\":\"scattercarpet\",\"marker\":{\"colorbar\":{\"outlinewidth\":0,\"ticks\":\"\"}}}],\"carpet\":[{\"aaxis\":{\"endlinecolor\":\"#2a3f5f\",\"gridcolor\":\"white\",\"linecolor\":\"white\",\"minorgridcolor\":\"white\",\"startlinecolor\":\"#2a3f5f\"},\"baxis\":{\"endlinecolor\":\"#2a3f5f\",\"gridcolor\":\"white\",\"linecolor\":\"white\",\"minorgridcolor\":\"white\",\"startlinecolor\":\"#2a3f5f\"},\"type\":\"carpet\"}],\"table\":[{\"cells\":{\"fill\":{\"color\":\"#EBF0F8\"},\"line\":{\"color\":\"white\"}},\"header\":{\"fill\":{\"color\":\"#C8D4E3\"},\"line\":{\"color\":\"white\"}},\"type\":\"table\"}],\"barpolar\":[{\"marker\":{\"line\":{\"color\":\"#E5ECF6\",\"width\":0.5},\"pattern\":{\"fillmode\":\"overlay\",\"size\":10,\"solidity\":0.2}},\"type\":\"barpolar\"}],\"pie\":[{\"automargin\":true,\"type\":\"pie\"}]},\"layout\":{\"autotypenumbers\":\"strict\",\"colorway\":[\"#636efa\",\"#EF553B\",\"#00cc96\",\"#ab63fa\",\"#FFA15A\",\"#19d3f3\",\"#FF6692\",\"#B6E880\",\"#FF97FF\",\"#FECB52\"],\"font\":{\"color\":\"#2a3f5f\"},\"hovermode\":\"closest\",\"hoverlabel\":{\"align\":\"left\"},\"paper_bgcolor\":\"white\",\"plot_bgcolor\":\"#E5ECF6\",\"polar\":{\"bgcolor\":\"#E5ECF6\",\"angularaxis\":{\"gridcolor\":\"white\",\"linecolor\":\"white\",\"ticks\":\"\"},\"radialaxis\":{\"gridcolor\":\"white\",\"linecolor\":\"white\",\"ticks\":\"\"}},\"ternary\":{\"bgcolor\":\"#E5ECF6\",\"aaxis\":{\"gridcolor\":\"white\",\"linecolor\":\"white\",\"ticks\":\"\"},\"baxis\":{\"gridcolor\":\"white\",\"linecolor\":\"white\",\"ticks\":\"\"},\"caxis\":{\"gridcolor\":\"white\",\"linecolor\":\"white\",\"ticks\":\"\"}},\"coloraxis\":{\"colorbar\":{\"outlinewidth\":0,\"ticks\":\"\"}},\"colorscale\":{\"sequential\":[[0.0,\"#0d0887\"],[0.1111111111111111,\"#46039f\"],[0.2222222222222222,\"#7201a8\"],[0.3333333333333333,\"#9c179e\"],[0.4444444444444444,\"#bd3786\"],[0.5555555555555556,\"#d8576b\"],[0.6666666666666666,\"#ed7953\"],[0.7777777777777778,\"#fb9f3a\"],[0.8888888888888888,\"#fdca26\"],[1.0,\"#f0f921\"]],\"sequentialminus\":[[0.0,\"#0d0887\"],[0.1111111111111111,\"#46039f\"],[0.2222222222222222,\"#7201a8\"],[0.3333333333333333,\"#9c179e\"],[0.4444444444444444,\"#bd3786\"],[0.5555555555555556,\"#d8576b\"],[0.6666666666666666,\"#ed7953\"],[0.7777777777777778,\"#fb9f3a\"],[0.8888888888888888,\"#fdca26\"],[1.0,\"#f0f921\"]],\"diverging\":[[0,\"#8e0152\"],[0.1,\"#c51b7d\"],[0.2,\"#de77ae\"],[0.3,\"#f1b6da\"],[0.4,\"#fde0ef\"],[0.5,\"#f7f7f7\"],[0.6,\"#e6f5d0\"],[0.7,\"#b8e186\"],[0.8,\"#7fbc41\"],[0.9,\"#4d9221\"],[1,\"#276419\"]]},\"xaxis\":{\"gridcolor\":\"white\",\"linecolor\":\"white\",\"ticks\":\"\",\"title\":{\"standoff\":15},\"zerolinecolor\":\"white\",\"automargin\":true,\"zerolinewidth\":2},\"yaxis\":{\"gridcolor\":\"white\",\"linecolor\":\"white\",\"ticks\":\"\",\"title\":{\"standoff\":15},\"zerolinecolor\":\"white\",\"automargin\":true,\"zerolinewidth\":2},\"scene\":{\"xaxis\":{\"backgroundcolor\":\"#E5ECF6\",\"gridcolor\":\"white\",\"linecolor\":\"white\",\"showbackground\":true,\"ticks\":\"\",\"zerolinecolor\":\"white\",\"gridwidth\":2},\"yaxis\":{\"backgroundcolor\":\"#E5ECF6\",\"gridcolor\":\"white\",\"linecolor\":\"white\",\"showbackground\":true,\"ticks\":\"\",\"zerolinecolor\":\"white\",\"gridwidth\":2},\"zaxis\":{\"backgroundcolor\":\"#E5ECF6\",\"gridcolor\":\"white\",\"linecolor\":\"white\",\"showbackground\":true,\"ticks\":\"\",\"zerolinecolor\":\"white\",\"gridwidth\":2}},\"shapedefaults\":{\"line\":{\"color\":\"#2a3f5f\"}},\"annotationdefaults\":{\"arrowcolor\":\"#2a3f5f\",\"arrowhead\":0,\"arrowwidth\":1},\"geo\":{\"bgcolor\":\"white\",\"landcolor\":\"#E5ECF6\",\"subunitcolor\":\"white\",\"showland\":true,\"showlakes\":true,\"lakecolor\":\"white\"},\"title\":{\"x\":0.05},\"mapbox\":{\"style\":\"light\"}}}},                        {\"responsive\": true}                    )                };            </script>        </div>',\n",
       " ('Legs sábado',\n",
       "  'Seated Leg Curl (Machine)'): '<div>                        <script type=\"text/javascript\">window.PlotlyConfig = {MathJaxConfig: \\'local\\'};</script>\\n        <script charset=\"utf-8\" src=\"https://cdn.plot.ly/plotly-3.0.1.min.js\"></script>                <div id=\"40cbcc37-2102-4b20-9a10-b98882e4be7d\" class=\"plotly-graph-div\" style=\"height:100%; width:100%;\"></div>            <script type=\"text/javascript\">                window.PLOTLYENV=window.PLOTLYENV || {};                                if (document.getElementById(\"40cbcc37-2102-4b20-9a10-b98882e4be7d\")) {                    Plotly.newPlot(                        \"40cbcc37-2102-4b20-9a10-b98882e4be7d\",                        [{\"mode\":\"lines+markers+text\",\"name\":\"Top Set (Failure)\",\"text\":[\"10 reps\",\"7 reps\",\"6 reps\",\"5 reps\",\"6 reps\"],\"textposition\":\"top center\",\"visible\":true,\"x\":[\"2025-04-12\",\"2025-04-05\",\"2025-03-29\",\"2025-03-22\",\"2025-03-15\"],\"y\":{\"dtype\":\"f8\",\"bdata\":\"AAAAAAAATkAAAAAAAMBMQAAAAAAAIFJAAAAAAAAgUkAAAAAAAIBRQA==\"},\"type\":\"scatter\"},{\"mode\":\"lines+markers+text\",\"name\":\"Work Set 1\",\"text\":[\"10 reps\",\"8 reps\",\"8 reps\",\"8 reps\",\"8 reps\"],\"textposition\":\"top center\",\"visible\":false,\"x\":[\"2025-04-12\",\"2025-04-05\",\"2025-03-29\",\"2025-03-22\",\"2025-03-15\"],\"y\":{\"dtype\":\"f8\",\"bdata\":\"AAAAAACAS0AAAAAAAIBLQAAAAAAAgFFAAAAAAACAUUAAAAAAAOBQQA==\"},\"type\":\"scatter\"},{\"mode\":\"lines+markers+text\",\"name\":\"Work Set 2\",\"text\":[],\"textposition\":\"top center\",\"visible\":false,\"x\":[],\"y\":[],\"type\":\"scatter\"}],                        {\"hovermode\":\"closest\",\"title\":{\"text\":\"Evolu\\\\u00e7\\\\u00e3o no Seated Leg Curl (Machine) (Legs s\\\\u00e1bado)\"},\"updatemenus\":[{\"active\":0,\"bgcolor\":\"white\",\"bordercolor\":\"gray\",\"borderwidth\":1,\"buttons\":[{\"args\":[{\"x\":[[\"2025-04-12\",\"2025-04-05\",\"2025-03-29\",\"2025-03-22\",\"2025-03-15\"],[\"2025-04-12\",\"2025-04-05\",\"2025-03-29\",\"2025-03-22\",\"2025-03-15\"],[]],\"y\":[[60.0,57.5,72.5,72.5,70.0],[55.0,55.0,70.0,70.0,67.5],[]],\"text\":[[\"10 reps\",\"7 reps\",\"6 reps\",\"5 reps\",\"6 reps\"],[\"10 reps\",\"8 reps\",\"8 reps\",\"8 reps\",\"8 reps\"],[]]},{\"updatemenus[1].buttons\":[{\"label\":\"Top Set (Failure)\",\"method\":\"update\",\"args\":[{\"visible\":[true,false,false]}]},{\"label\":\"Work Set 1\",\"method\":\"update\",\"args\":[{\"visible\":[false,true,false]}]},{\"label\":\"Todas as s\\\\u00e9ries\",\"method\":\"update\",\"args\":[{\"visible\":[true,true,false]}]}],\"title\":\"Evolu\\\\u00e7\\\\u00e3o no Seated Leg Curl (Machine) (Legs s\\\\u00e1bado) - \\\\u00daltimos 30 dias\"}],\"label\":\"\\\\u00daltimos 30 dias\",\"method\":\"update\"},{\"args\":[{\"x\":[[\"2025-04-12\",\"2025-04-05\",\"2025-03-29\",\"2025-03-22\",\"2025-03-15\",\"2025-03-08\",\"2025-03-01\",\"2025-02-22\"],[\"2025-04-12\",\"2025-04-05\",\"2025-03-29\",\"2025-03-22\",\"2025-03-15\",\"2025-03-08\",\"2025-03-01\",\"2025-02-22\"],[]],\"y\":[[60.0,57.5,72.5,72.5,70.0,67.5,67.5,67.5],[55.0,55.0,70.0,70.0,67.5,67.5,67.5,67.5],[]],\"text\":[[\"10 reps\",\"7 reps\",\"6 reps\",\"5 reps\",\"6 reps\",\"7 reps\",\"6 reps\",\"8 reps\"],[\"10 reps\",\"8 reps\",\"8 reps\",\"8 reps\",\"8 reps\",\"8 reps\",\"8 reps\",\"9 reps\"],[]]},{\"updatemenus[1].buttons\":[{\"label\":\"Top Set (Failure)\",\"method\":\"update\",\"args\":[{\"visible\":[true,false,false]}]},{\"label\":\"Work Set 1\",\"method\":\"update\",\"args\":[{\"visible\":[false,true,false]}]},{\"label\":\"Todas as s\\\\u00e9ries\",\"method\":\"update\",\"args\":[{\"visible\":[true,true,false]}]}]}],\"label\":\"\\\\u00daltimos 60 dias\",\"method\":\"update\"},{\"args\":[{\"x\":[[\"2025-04-12\",\"2025-04-05\",\"2025-03-29\",\"2025-03-22\",\"2025-03-15\",\"2025-03-08\",\"2025-03-01\",\"2025-02-22\",\"2025-02-01\",\"2025-01-25\",\"2025-01-18\"],[\"2025-04-12\",\"2025-04-05\",\"2025-03-29\",\"2025-03-22\",\"2025-03-15\",\"2025-03-08\",\"2025-03-01\",\"2025-02-22\",\"2025-02-01\",\"2025-01-25\",\"2025-01-18\"],[\"2025-02-01\",\"2025-01-25\",\"2025-01-18\"]],\"y\":[[60.0,57.5,72.5,72.5,70.0,67.5,67.5,67.5,67.5,67.5,67.5],[55.0,55.0,70.0,70.0,67.5,67.5,67.5,67.5,67.5,65.0,65.0],[67.5,65.0,65.0]],\"text\":[[\"10 reps\",\"7 reps\",\"6 reps\",\"5 reps\",\"6 reps\",\"7 reps\",\"6 reps\",\"8 reps\",\"6 reps\",\"8 reps\",\"7 reps\"],[\"10 reps\",\"8 reps\",\"8 reps\",\"8 reps\",\"8 reps\",\"8 reps\",\"8 reps\",\"9 reps\",\"8 reps\",\"9 reps\",\"8 reps\"],[\"8 reps\",\"8 reps\",\"8 reps\"]]},{\"updatemenus[1].buttons\":[{\"label\":\"Top Set (Failure)\",\"method\":\"update\",\"args\":[{\"visible\":[true,false,false]}]},{\"label\":\"Work Set 1\",\"method\":\"update\",\"args\":[{\"visible\":[false,true,false]}]},{\"label\":\"Work Set 2\",\"method\":\"update\",\"args\":[{\"visible\":[false,false,true]}]},{\"label\":\"Todas as s\\\\u00e9ries\",\"method\":\"update\",\"args\":[{\"visible\":[true,true,true]}]}]}],\"label\":\"\\\\u00daltimos 90 dias\",\"method\":\"update\"}],\"direction\":\"down\",\"pad\":{\"r\":10,\"t\":10},\"showactive\":true,\"x\":0.6,\"xanchor\":\"left\",\"y\":1.2,\"yanchor\":\"top\"},{\"active\":0,\"bgcolor\":\"white\",\"bordercolor\":\"gray\",\"borderwidth\":1,\"buttons\":[{\"args\":[{\"visible\":[true,false,false]}],\"label\":\"Top Set (Failure)\",\"method\":\"update\"},{\"args\":[{\"visible\":[false,true,false]}],\"label\":\"Work Set 1\",\"method\":\"update\"},{\"args\":[{\"visible\":[true,true,false]}],\"label\":\"Todas as s\\\\u00e9ries\",\"method\":\"update\"}],\"direction\":\"down\",\"pad\":{\"r\":10,\"t\":10},\"showactive\":true,\"x\":0.99,\"xanchor\":\"right\",\"y\":1.2,\"yanchor\":\"top\"}],\"xaxis\":{\"tickformat\":\"%d\\\\u002f%m\\\\u002f%Y\",\"title\":{\"text\":\"Data\"}},\"yaxis\":{\"title\":{\"text\":\"Peso (kg)\"}},\"template\":{\"data\":{\"histogram2dcontour\":[{\"type\":\"histogram2dcontour\",\"colorbar\":{\"outlinewidth\":0,\"ticks\":\"\"},\"colorscale\":[[0.0,\"#0d0887\"],[0.1111111111111111,\"#46039f\"],[0.2222222222222222,\"#7201a8\"],[0.3333333333333333,\"#9c179e\"],[0.4444444444444444,\"#bd3786\"],[0.5555555555555556,\"#d8576b\"],[0.6666666666666666,\"#ed7953\"],[0.7777777777777778,\"#fb9f3a\"],[0.8888888888888888,\"#fdca26\"],[1.0,\"#f0f921\"]]}],\"choropleth\":[{\"type\":\"choropleth\",\"colorbar\":{\"outlinewidth\":0,\"ticks\":\"\"}}],\"histogram2d\":[{\"type\":\"histogram2d\",\"colorbar\":{\"outlinewidth\":0,\"ticks\":\"\"},\"colorscale\":[[0.0,\"#0d0887\"],[0.1111111111111111,\"#46039f\"],[0.2222222222222222,\"#7201a8\"],[0.3333333333333333,\"#9c179e\"],[0.4444444444444444,\"#bd3786\"],[0.5555555555555556,\"#d8576b\"],[0.6666666666666666,\"#ed7953\"],[0.7777777777777778,\"#fb9f3a\"],[0.8888888888888888,\"#fdca26\"],[1.0,\"#f0f921\"]]}],\"heatmap\":[{\"type\":\"heatmap\",\"colorbar\":{\"outlinewidth\":0,\"ticks\":\"\"},\"colorscale\":[[0.0,\"#0d0887\"],[0.1111111111111111,\"#46039f\"],[0.2222222222222222,\"#7201a8\"],[0.3333333333333333,\"#9c179e\"],[0.4444444444444444,\"#bd3786\"],[0.5555555555555556,\"#d8576b\"],[0.6666666666666666,\"#ed7953\"],[0.7777777777777778,\"#fb9f3a\"],[0.8888888888888888,\"#fdca26\"],[1.0,\"#f0f921\"]]}],\"contourcarpet\":[{\"type\":\"contourcarpet\",\"colorbar\":{\"outlinewidth\":0,\"ticks\":\"\"}}],\"contour\":[{\"type\":\"contour\",\"colorbar\":{\"outlinewidth\":0,\"ticks\":\"\"},\"colorscale\":[[0.0,\"#0d0887\"],[0.1111111111111111,\"#46039f\"],[0.2222222222222222,\"#7201a8\"],[0.3333333333333333,\"#9c179e\"],[0.4444444444444444,\"#bd3786\"],[0.5555555555555556,\"#d8576b\"],[0.6666666666666666,\"#ed7953\"],[0.7777777777777778,\"#fb9f3a\"],[0.8888888888888888,\"#fdca26\"],[1.0,\"#f0f921\"]]}],\"surface\":[{\"type\":\"surface\",\"colorbar\":{\"outlinewidth\":0,\"ticks\":\"\"},\"colorscale\":[[0.0,\"#0d0887\"],[0.1111111111111111,\"#46039f\"],[0.2222222222222222,\"#7201a8\"],[0.3333333333333333,\"#9c179e\"],[0.4444444444444444,\"#bd3786\"],[0.5555555555555556,\"#d8576b\"],[0.6666666666666666,\"#ed7953\"],[0.7777777777777778,\"#fb9f3a\"],[0.8888888888888888,\"#fdca26\"],[1.0,\"#f0f921\"]]}],\"mesh3d\":[{\"type\":\"mesh3d\",\"colorbar\":{\"outlinewidth\":0,\"ticks\":\"\"}}],\"scatter\":[{\"fillpattern\":{\"fillmode\":\"overlay\",\"size\":10,\"solidity\":0.2},\"type\":\"scatter\"}],\"parcoords\":[{\"type\":\"parcoords\",\"line\":{\"colorbar\":{\"outlinewidth\":0,\"ticks\":\"\"}}}],\"scatterpolargl\":[{\"type\":\"scatterpolargl\",\"marker\":{\"colorbar\":{\"outlinewidth\":0,\"ticks\":\"\"}}}],\"bar\":[{\"error_x\":{\"color\":\"#2a3f5f\"},\"error_y\":{\"color\":\"#2a3f5f\"},\"marker\":{\"line\":{\"color\":\"#E5ECF6\",\"width\":0.5},\"pattern\":{\"fillmode\":\"overlay\",\"size\":10,\"solidity\":0.2}},\"type\":\"bar\"}],\"scattergeo\":[{\"type\":\"scattergeo\",\"marker\":{\"colorbar\":{\"outlinewidth\":0,\"ticks\":\"\"}}}],\"scatterpolar\":[{\"type\":\"scatterpolar\",\"marker\":{\"colorbar\":{\"outlinewidth\":0,\"ticks\":\"\"}}}],\"histogram\":[{\"marker\":{\"pattern\":{\"fillmode\":\"overlay\",\"size\":10,\"solidity\":0.2}},\"type\":\"histogram\"}],\"scattergl\":[{\"type\":\"scattergl\",\"marker\":{\"colorbar\":{\"outlinewidth\":0,\"ticks\":\"\"}}}],\"scatter3d\":[{\"type\":\"scatter3d\",\"line\":{\"colorbar\":{\"outlinewidth\":0,\"ticks\":\"\"}},\"marker\":{\"colorbar\":{\"outlinewidth\":0,\"ticks\":\"\"}}}],\"scattermap\":[{\"type\":\"scattermap\",\"marker\":{\"colorbar\":{\"outlinewidth\":0,\"ticks\":\"\"}}}],\"scattermapbox\":[{\"type\":\"scattermapbox\",\"marker\":{\"colorbar\":{\"outlinewidth\":0,\"ticks\":\"\"}}}],\"scatterternary\":[{\"type\":\"scatterternary\",\"marker\":{\"colorbar\":{\"outlinewidth\":0,\"ticks\":\"\"}}}],\"scattercarpet\":[{\"type\":\"scattercarpet\",\"marker\":{\"colorbar\":{\"outlinewidth\":0,\"ticks\":\"\"}}}],\"carpet\":[{\"aaxis\":{\"endlinecolor\":\"#2a3f5f\",\"gridcolor\":\"white\",\"linecolor\":\"white\",\"minorgridcolor\":\"white\",\"startlinecolor\":\"#2a3f5f\"},\"baxis\":{\"endlinecolor\":\"#2a3f5f\",\"gridcolor\":\"white\",\"linecolor\":\"white\",\"minorgridcolor\":\"white\",\"startlinecolor\":\"#2a3f5f\"},\"type\":\"carpet\"}],\"table\":[{\"cells\":{\"fill\":{\"color\":\"#EBF0F8\"},\"line\":{\"color\":\"white\"}},\"header\":{\"fill\":{\"color\":\"#C8D4E3\"},\"line\":{\"color\":\"white\"}},\"type\":\"table\"}],\"barpolar\":[{\"marker\":{\"line\":{\"color\":\"#E5ECF6\",\"width\":0.5},\"pattern\":{\"fillmode\":\"overlay\",\"size\":10,\"solidity\":0.2}},\"type\":\"barpolar\"}],\"pie\":[{\"automargin\":true,\"type\":\"pie\"}]},\"layout\":{\"autotypenumbers\":\"strict\",\"colorway\":[\"#636efa\",\"#EF553B\",\"#00cc96\",\"#ab63fa\",\"#FFA15A\",\"#19d3f3\",\"#FF6692\",\"#B6E880\",\"#FF97FF\",\"#FECB52\"],\"font\":{\"color\":\"#2a3f5f\"},\"hovermode\":\"closest\",\"hoverlabel\":{\"align\":\"left\"},\"paper_bgcolor\":\"white\",\"plot_bgcolor\":\"#E5ECF6\",\"polar\":{\"bgcolor\":\"#E5ECF6\",\"angularaxis\":{\"gridcolor\":\"white\",\"linecolor\":\"white\",\"ticks\":\"\"},\"radialaxis\":{\"gridcolor\":\"white\",\"linecolor\":\"white\",\"ticks\":\"\"}},\"ternary\":{\"bgcolor\":\"#E5ECF6\",\"aaxis\":{\"gridcolor\":\"white\",\"linecolor\":\"white\",\"ticks\":\"\"},\"baxis\":{\"gridcolor\":\"white\",\"linecolor\":\"white\",\"ticks\":\"\"},\"caxis\":{\"gridcolor\":\"white\",\"linecolor\":\"white\",\"ticks\":\"\"}},\"coloraxis\":{\"colorbar\":{\"outlinewidth\":0,\"ticks\":\"\"}},\"colorscale\":{\"sequential\":[[0.0,\"#0d0887\"],[0.1111111111111111,\"#46039f\"],[0.2222222222222222,\"#7201a8\"],[0.3333333333333333,\"#9c179e\"],[0.4444444444444444,\"#bd3786\"],[0.5555555555555556,\"#d8576b\"],[0.6666666666666666,\"#ed7953\"],[0.7777777777777778,\"#fb9f3a\"],[0.8888888888888888,\"#fdca26\"],[1.0,\"#f0f921\"]],\"sequentialminus\":[[0.0,\"#0d0887\"],[0.1111111111111111,\"#46039f\"],[0.2222222222222222,\"#7201a8\"],[0.3333333333333333,\"#9c179e\"],[0.4444444444444444,\"#bd3786\"],[0.5555555555555556,\"#d8576b\"],[0.6666666666666666,\"#ed7953\"],[0.7777777777777778,\"#fb9f3a\"],[0.8888888888888888,\"#fdca26\"],[1.0,\"#f0f921\"]],\"diverging\":[[0,\"#8e0152\"],[0.1,\"#c51b7d\"],[0.2,\"#de77ae\"],[0.3,\"#f1b6da\"],[0.4,\"#fde0ef\"],[0.5,\"#f7f7f7\"],[0.6,\"#e6f5d0\"],[0.7,\"#b8e186\"],[0.8,\"#7fbc41\"],[0.9,\"#4d9221\"],[1,\"#276419\"]]},\"xaxis\":{\"gridcolor\":\"white\",\"linecolor\":\"white\",\"ticks\":\"\",\"title\":{\"standoff\":15},\"zerolinecolor\":\"white\",\"automargin\":true,\"zerolinewidth\":2},\"yaxis\":{\"gridcolor\":\"white\",\"linecolor\":\"white\",\"ticks\":\"\",\"title\":{\"standoff\":15},\"zerolinecolor\":\"white\",\"automargin\":true,\"zerolinewidth\":2},\"scene\":{\"xaxis\":{\"backgroundcolor\":\"#E5ECF6\",\"gridcolor\":\"white\",\"linecolor\":\"white\",\"showbackground\":true,\"ticks\":\"\",\"zerolinecolor\":\"white\",\"gridwidth\":2},\"yaxis\":{\"backgroundcolor\":\"#E5ECF6\",\"gridcolor\":\"white\",\"linecolor\":\"white\",\"showbackground\":true,\"ticks\":\"\",\"zerolinecolor\":\"white\",\"gridwidth\":2},\"zaxis\":{\"backgroundcolor\":\"#E5ECF6\",\"gridcolor\":\"white\",\"linecolor\":\"white\",\"showbackground\":true,\"ticks\":\"\",\"zerolinecolor\":\"white\",\"gridwidth\":2}},\"shapedefaults\":{\"line\":{\"color\":\"#2a3f5f\"}},\"annotationdefaults\":{\"arrowcolor\":\"#2a3f5f\",\"arrowhead\":0,\"arrowwidth\":1},\"geo\":{\"bgcolor\":\"white\",\"landcolor\":\"#E5ECF6\",\"subunitcolor\":\"white\",\"showland\":true,\"showlakes\":true,\"lakecolor\":\"white\"},\"title\":{\"x\":0.05},\"mapbox\":{\"style\":\"light\"}}}},                        {\"responsive\": true}                    )                };            </script>        </div>',\n",
       " ('Legs sábado',\n",
       "  'Leg Extension (Machine)'): '<div>                        <script type=\"text/javascript\">window.PlotlyConfig = {MathJaxConfig: \\'local\\'};</script>\\n        <script charset=\"utf-8\" src=\"https://cdn.plot.ly/plotly-3.0.1.min.js\"></script>                <div id=\"7f0194b0-124c-4c04-9fcd-24a6a187f9ab\" class=\"plotly-graph-div\" style=\"height:100%; width:100%;\"></div>            <script type=\"text/javascript\">                window.PLOTLYENV=window.PLOTLYENV || {};                                if (document.getElementById(\"7f0194b0-124c-4c04-9fcd-24a6a187f9ab\")) {                    Plotly.newPlot(                        \"7f0194b0-124c-4c04-9fcd-24a6a187f9ab\",                        [{\"mode\":\"lines+markers+text\",\"name\":\"Top Set (Failure)\",\"text\":[\"8 reps\",\"7 reps\",\"6 reps\",\"8 reps\",\"6 reps\"],\"textposition\":\"top center\",\"visible\":true,\"x\":[\"2025-04-12\",\"2025-04-05\",\"2025-03-29\",\"2025-03-22\",\"2025-03-15\"],\"y\":{\"dtype\":\"f8\",\"bdata\":\"AAAAAABgWEAAAAAAAIBWQAAAAAAAoF5AAAAAAACgXkAAAAAAAKBeQA==\"},\"type\":\"scatter\"},{\"mode\":\"lines+markers+text\",\"name\":\"Work Set 1\",\"text\":[\"9 reps\",\"9 reps\",\"8 reps\",\"9 reps\",\"9 reps\"],\"textposition\":\"top center\",\"visible\":false,\"x\":[\"2025-04-12\",\"2025-04-05\",\"2025-03-29\",\"2025-03-22\",\"2025-03-15\"],\"y\":{\"dtype\":\"f8\",\"bdata\":\"AAAAAADAV0AAAAAAAOBVQAAAAAAAoF5AAAAAAAAAXkAAAAAAAABeQA==\"},\"type\":\"scatter\"},{\"mode\":\"lines+markers+text\",\"name\":\"Work Set 2\",\"text\":[\"8 reps\",\"8 reps\",\"6 reps\",\"8 reps\",\"8 reps\"],\"textposition\":\"top center\",\"visible\":false,\"x\":[\"2025-04-12\",\"2025-04-05\",\"2025-03-29\",\"2025-03-22\",\"2025-03-15\"],\"y\":{\"dtype\":\"f8\",\"bdata\":\"AAAAAADAV0AAAAAAAOBVQAAAAAAAoF5AAAAAAAAAXkAAAAAAAABeQA==\"},\"type\":\"scatter\"},{\"mode\":\"lines+markers+text\",\"name\":\"Work Set 3\",\"text\":[],\"textposition\":\"top center\",\"visible\":false,\"x\":[],\"y\":[],\"type\":\"scatter\"}],                        {\"hovermode\":\"closest\",\"title\":{\"text\":\"Evolu\\\\u00e7\\\\u00e3o no Leg Extension (Machine) (Legs s\\\\u00e1bado)\"},\"updatemenus\":[{\"active\":0,\"bgcolor\":\"white\",\"bordercolor\":\"gray\",\"borderwidth\":1,\"buttons\":[{\"args\":[{\"x\":[[\"2025-04-12\",\"2025-04-05\",\"2025-03-29\",\"2025-03-22\",\"2025-03-15\"],[\"2025-04-12\",\"2025-04-05\",\"2025-03-29\",\"2025-03-22\",\"2025-03-15\"],[\"2025-04-12\",\"2025-04-05\",\"2025-03-29\",\"2025-03-22\",\"2025-03-15\"],[]],\"y\":[[97.5,90.0,122.5,122.5,122.5],[95.0,87.5,122.5,120.0,120.0],[95.0,87.5,122.5,120.0,120.0],[]],\"text\":[[\"8 reps\",\"7 reps\",\"6 reps\",\"8 reps\",\"6 reps\"],[\"9 reps\",\"9 reps\",\"8 reps\",\"9 reps\",\"9 reps\"],[\"8 reps\",\"8 reps\",\"6 reps\",\"8 reps\",\"8 reps\"],[]]},{\"updatemenus[1].buttons\":[{\"label\":\"Top Set (Failure)\",\"method\":\"update\",\"args\":[{\"visible\":[true,false,false,false]}]},{\"label\":\"Work Set 1\",\"method\":\"update\",\"args\":[{\"visible\":[false,true,false,false]}]},{\"label\":\"Work Set 2\",\"method\":\"update\",\"args\":[{\"visible\":[false,false,true,false]}]},{\"label\":\"Todas as s\\\\u00e9ries\",\"method\":\"update\",\"args\":[{\"visible\":[true,true,true,false]}]}],\"title\":\"Evolu\\\\u00e7\\\\u00e3o no Leg Extension (Machine) (Legs s\\\\u00e1bado) - \\\\u00daltimos 30 dias\"}],\"label\":\"\\\\u00daltimos 30 dias\",\"method\":\"update\"},{\"args\":[{\"x\":[[\"2025-04-12\",\"2025-04-05\",\"2025-03-29\",\"2025-03-22\",\"2025-03-15\",\"2025-03-08\",\"2025-03-01\",\"2025-02-22\"],[\"2025-04-12\",\"2025-04-05\",\"2025-03-29\",\"2025-03-22\",\"2025-03-15\",\"2025-03-08\",\"2025-03-01\",\"2025-02-22\"],[\"2025-04-12\",\"2025-04-05\",\"2025-03-29\",\"2025-03-22\",\"2025-03-15\",\"2025-03-08\",\"2025-03-01\",\"2025-02-22\"],[]],\"y\":[[97.5,90.0,122.5,122.5,122.5,122.5,120.0,120.0],[95.0,87.5,122.5,120.0,120.0,120.0,117.5,117.5],[95.0,87.5,122.5,120.0,120.0,120.0,117.5,117.5],[]],\"text\":[[\"8 reps\",\"7 reps\",\"6 reps\",\"8 reps\",\"6 reps\",\"6 reps\",\"8 reps\",\"7 reps\"],[\"9 reps\",\"9 reps\",\"8 reps\",\"9 reps\",\"9 reps\",\"8 reps\",\"9 reps\",\"9 reps\"],[\"8 reps\",\"8 reps\",\"6 reps\",\"8 reps\",\"8 reps\",\"8 reps\",\"8 reps\",\"8 reps\"],[]]},{\"updatemenus[1].buttons\":[{\"label\":\"Top Set (Failure)\",\"method\":\"update\",\"args\":[{\"visible\":[true,false,false,false]}]},{\"label\":\"Work Set 1\",\"method\":\"update\",\"args\":[{\"visible\":[false,true,false,false]}]},{\"label\":\"Work Set 2\",\"method\":\"update\",\"args\":[{\"visible\":[false,false,true,false]}]},{\"label\":\"Todas as s\\\\u00e9ries\",\"method\":\"update\",\"args\":[{\"visible\":[true,true,true,false]}]}]}],\"label\":\"\\\\u00daltimos 60 dias\",\"method\":\"update\"},{\"args\":[{\"x\":[[\"2025-04-12\",\"2025-04-05\",\"2025-03-29\",\"2025-03-22\",\"2025-03-15\",\"2025-03-08\",\"2025-03-01\",\"2025-02-22\",\"2025-02-01\",\"2025-01-25\",\"2025-01-18\"],[\"2025-04-12\",\"2025-04-05\",\"2025-03-29\",\"2025-03-22\",\"2025-03-15\",\"2025-03-08\",\"2025-03-01\",\"2025-02-22\",\"2025-02-01\",\"2025-01-25\",\"2025-01-18\"],[\"2025-04-12\",\"2025-04-05\",\"2025-03-29\",\"2025-03-22\",\"2025-03-15\",\"2025-03-08\",\"2025-03-01\",\"2025-02-22\",\"2025-02-01\",\"2025-01-25\",\"2025-01-18\"],[\"2025-02-01\",\"2025-01-25\",\"2025-01-18\"]],\"y\":[[97.5,90.0,122.5,122.5,122.5,122.5,120.0,120.0,117.5,117.5,117.5],[95.0,87.5,122.5,120.0,120.0,120.0,117.5,117.5,117.5,115.0,115.0],[95.0,87.5,122.5,120.0,120.0,120.0,117.5,117.5,117.5,115.0,115.0],[117.5,115.0,115.0]],\"text\":[[\"8 reps\",\"7 reps\",\"6 reps\",\"8 reps\",\"6 reps\",\"6 reps\",\"8 reps\",\"7 reps\",\"8 reps\",\"8 reps\",\"7 reps\"],[\"9 reps\",\"9 reps\",\"8 reps\",\"9 reps\",\"9 reps\",\"8 reps\",\"9 reps\",\"9 reps\",\"8 reps\",\"9 reps\",\"8 reps\"],[\"8 reps\",\"8 reps\",\"6 reps\",\"8 reps\",\"8 reps\",\"8 reps\",\"8 reps\",\"8 reps\",\"6 reps\",\"8 reps\",\"8 reps\"],[\"7 reps\",\"8 reps\",\"8 reps\"]]},{\"updatemenus[1].buttons\":[{\"label\":\"Top Set (Failure)\",\"method\":\"update\",\"args\":[{\"visible\":[true,false,false,false]}]},{\"label\":\"Work Set 1\",\"method\":\"update\",\"args\":[{\"visible\":[false,true,false,false]}]},{\"label\":\"Work Set 2\",\"method\":\"update\",\"args\":[{\"visible\":[false,false,true,false]}]},{\"label\":\"Work Set 3\",\"method\":\"update\",\"args\":[{\"visible\":[false,false,false,true]}]},{\"label\":\"Todas as s\\\\u00e9ries\",\"method\":\"update\",\"args\":[{\"visible\":[true,true,true,true]}]}]}],\"label\":\"\\\\u00daltimos 90 dias\",\"method\":\"update\"}],\"direction\":\"down\",\"pad\":{\"r\":10,\"t\":10},\"showactive\":true,\"x\":0.6,\"xanchor\":\"left\",\"y\":1.2,\"yanchor\":\"top\"},{\"active\":0,\"bgcolor\":\"white\",\"bordercolor\":\"gray\",\"borderwidth\":1,\"buttons\":[{\"args\":[{\"visible\":[true,false,false,false]}],\"label\":\"Top Set (Failure)\",\"method\":\"update\"},{\"args\":[{\"visible\":[false,true,false,false]}],\"label\":\"Work Set 1\",\"method\":\"update\"},{\"args\":[{\"visible\":[false,false,true,false]}],\"label\":\"Work Set 2\",\"method\":\"update\"},{\"args\":[{\"visible\":[true,true,true,false]}],\"label\":\"Todas as s\\\\u00e9ries\",\"method\":\"update\"}],\"direction\":\"down\",\"pad\":{\"r\":10,\"t\":10},\"showactive\":true,\"x\":0.99,\"xanchor\":\"right\",\"y\":1.2,\"yanchor\":\"top\"}],\"xaxis\":{\"tickformat\":\"%d\\\\u002f%m\\\\u002f%Y\",\"title\":{\"text\":\"Data\"}},\"yaxis\":{\"title\":{\"text\":\"Peso (kg)\"}},\"template\":{\"data\":{\"histogram2dcontour\":[{\"type\":\"histogram2dcontour\",\"colorbar\":{\"outlinewidth\":0,\"ticks\":\"\"},\"colorscale\":[[0.0,\"#0d0887\"],[0.1111111111111111,\"#46039f\"],[0.2222222222222222,\"#7201a8\"],[0.3333333333333333,\"#9c179e\"],[0.4444444444444444,\"#bd3786\"],[0.5555555555555556,\"#d8576b\"],[0.6666666666666666,\"#ed7953\"],[0.7777777777777778,\"#fb9f3a\"],[0.8888888888888888,\"#fdca26\"],[1.0,\"#f0f921\"]]}],\"choropleth\":[{\"type\":\"choropleth\",\"colorbar\":{\"outlinewidth\":0,\"ticks\":\"\"}}],\"histogram2d\":[{\"type\":\"histogram2d\",\"colorbar\":{\"outlinewidth\":0,\"ticks\":\"\"},\"colorscale\":[[0.0,\"#0d0887\"],[0.1111111111111111,\"#46039f\"],[0.2222222222222222,\"#7201a8\"],[0.3333333333333333,\"#9c179e\"],[0.4444444444444444,\"#bd3786\"],[0.5555555555555556,\"#d8576b\"],[0.6666666666666666,\"#ed7953\"],[0.7777777777777778,\"#fb9f3a\"],[0.8888888888888888,\"#fdca26\"],[1.0,\"#f0f921\"]]}],\"heatmap\":[{\"type\":\"heatmap\",\"colorbar\":{\"outlinewidth\":0,\"ticks\":\"\"},\"colorscale\":[[0.0,\"#0d0887\"],[0.1111111111111111,\"#46039f\"],[0.2222222222222222,\"#7201a8\"],[0.3333333333333333,\"#9c179e\"],[0.4444444444444444,\"#bd3786\"],[0.5555555555555556,\"#d8576b\"],[0.6666666666666666,\"#ed7953\"],[0.7777777777777778,\"#fb9f3a\"],[0.8888888888888888,\"#fdca26\"],[1.0,\"#f0f921\"]]}],\"contourcarpet\":[{\"type\":\"contourcarpet\",\"colorbar\":{\"outlinewidth\":0,\"ticks\":\"\"}}],\"contour\":[{\"type\":\"contour\",\"colorbar\":{\"outlinewidth\":0,\"ticks\":\"\"},\"colorscale\":[[0.0,\"#0d0887\"],[0.1111111111111111,\"#46039f\"],[0.2222222222222222,\"#7201a8\"],[0.3333333333333333,\"#9c179e\"],[0.4444444444444444,\"#bd3786\"],[0.5555555555555556,\"#d8576b\"],[0.6666666666666666,\"#ed7953\"],[0.7777777777777778,\"#fb9f3a\"],[0.8888888888888888,\"#fdca26\"],[1.0,\"#f0f921\"]]}],\"surface\":[{\"type\":\"surface\",\"colorbar\":{\"outlinewidth\":0,\"ticks\":\"\"},\"colorscale\":[[0.0,\"#0d0887\"],[0.1111111111111111,\"#46039f\"],[0.2222222222222222,\"#7201a8\"],[0.3333333333333333,\"#9c179e\"],[0.4444444444444444,\"#bd3786\"],[0.5555555555555556,\"#d8576b\"],[0.6666666666666666,\"#ed7953\"],[0.7777777777777778,\"#fb9f3a\"],[0.8888888888888888,\"#fdca26\"],[1.0,\"#f0f921\"]]}],\"mesh3d\":[{\"type\":\"mesh3d\",\"colorbar\":{\"outlinewidth\":0,\"ticks\":\"\"}}],\"scatter\":[{\"fillpattern\":{\"fillmode\":\"overlay\",\"size\":10,\"solidity\":0.2},\"type\":\"scatter\"}],\"parcoords\":[{\"type\":\"parcoords\",\"line\":{\"colorbar\":{\"outlinewidth\":0,\"ticks\":\"\"}}}],\"scatterpolargl\":[{\"type\":\"scatterpolargl\",\"marker\":{\"colorbar\":{\"outlinewidth\":0,\"ticks\":\"\"}}}],\"bar\":[{\"error_x\":{\"color\":\"#2a3f5f\"},\"error_y\":{\"color\":\"#2a3f5f\"},\"marker\":{\"line\":{\"color\":\"#E5ECF6\",\"width\":0.5},\"pattern\":{\"fillmode\":\"overlay\",\"size\":10,\"solidity\":0.2}},\"type\":\"bar\"}],\"scattergeo\":[{\"type\":\"scattergeo\",\"marker\":{\"colorbar\":{\"outlinewidth\":0,\"ticks\":\"\"}}}],\"scatterpolar\":[{\"type\":\"scatterpolar\",\"marker\":{\"colorbar\":{\"outlinewidth\":0,\"ticks\":\"\"}}}],\"histogram\":[{\"marker\":{\"pattern\":{\"fillmode\":\"overlay\",\"size\":10,\"solidity\":0.2}},\"type\":\"histogram\"}],\"scattergl\":[{\"type\":\"scattergl\",\"marker\":{\"colorbar\":{\"outlinewidth\":0,\"ticks\":\"\"}}}],\"scatter3d\":[{\"type\":\"scatter3d\",\"line\":{\"colorbar\":{\"outlinewidth\":0,\"ticks\":\"\"}},\"marker\":{\"colorbar\":{\"outlinewidth\":0,\"ticks\":\"\"}}}],\"scattermap\":[{\"type\":\"scattermap\",\"marker\":{\"colorbar\":{\"outlinewidth\":0,\"ticks\":\"\"}}}],\"scattermapbox\":[{\"type\":\"scattermapbox\",\"marker\":{\"colorbar\":{\"outlinewidth\":0,\"ticks\":\"\"}}}],\"scatterternary\":[{\"type\":\"scatterternary\",\"marker\":{\"colorbar\":{\"outlinewidth\":0,\"ticks\":\"\"}}}],\"scattercarpet\":[{\"type\":\"scattercarpet\",\"marker\":{\"colorbar\":{\"outlinewidth\":0,\"ticks\":\"\"}}}],\"carpet\":[{\"aaxis\":{\"endlinecolor\":\"#2a3f5f\",\"gridcolor\":\"white\",\"linecolor\":\"white\",\"minorgridcolor\":\"white\",\"startlinecolor\":\"#2a3f5f\"},\"baxis\":{\"endlinecolor\":\"#2a3f5f\",\"gridcolor\":\"white\",\"linecolor\":\"white\",\"minorgridcolor\":\"white\",\"startlinecolor\":\"#2a3f5f\"},\"type\":\"carpet\"}],\"table\":[{\"cells\":{\"fill\":{\"color\":\"#EBF0F8\"},\"line\":{\"color\":\"white\"}},\"header\":{\"fill\":{\"color\":\"#C8D4E3\"},\"line\":{\"color\":\"white\"}},\"type\":\"table\"}],\"barpolar\":[{\"marker\":{\"line\":{\"color\":\"#E5ECF6\",\"width\":0.5},\"pattern\":{\"fillmode\":\"overlay\",\"size\":10,\"solidity\":0.2}},\"type\":\"barpolar\"}],\"pie\":[{\"automargin\":true,\"type\":\"pie\"}]},\"layout\":{\"autotypenumbers\":\"strict\",\"colorway\":[\"#636efa\",\"#EF553B\",\"#00cc96\",\"#ab63fa\",\"#FFA15A\",\"#19d3f3\",\"#FF6692\",\"#B6E880\",\"#FF97FF\",\"#FECB52\"],\"font\":{\"color\":\"#2a3f5f\"},\"hovermode\":\"closest\",\"hoverlabel\":{\"align\":\"left\"},\"paper_bgcolor\":\"white\",\"plot_bgcolor\":\"#E5ECF6\",\"polar\":{\"bgcolor\":\"#E5ECF6\",\"angularaxis\":{\"gridcolor\":\"white\",\"linecolor\":\"white\",\"ticks\":\"\"},\"radialaxis\":{\"gridcolor\":\"white\",\"linecolor\":\"white\",\"ticks\":\"\"}},\"ternary\":{\"bgcolor\":\"#E5ECF6\",\"aaxis\":{\"gridcolor\":\"white\",\"linecolor\":\"white\",\"ticks\":\"\"},\"baxis\":{\"gridcolor\":\"white\",\"linecolor\":\"white\",\"ticks\":\"\"},\"caxis\":{\"gridcolor\":\"white\",\"linecolor\":\"white\",\"ticks\":\"\"}},\"coloraxis\":{\"colorbar\":{\"outlinewidth\":0,\"ticks\":\"\"}},\"colorscale\":{\"sequential\":[[0.0,\"#0d0887\"],[0.1111111111111111,\"#46039f\"],[0.2222222222222222,\"#7201a8\"],[0.3333333333333333,\"#9c179e\"],[0.4444444444444444,\"#bd3786\"],[0.5555555555555556,\"#d8576b\"],[0.6666666666666666,\"#ed7953\"],[0.7777777777777778,\"#fb9f3a\"],[0.8888888888888888,\"#fdca26\"],[1.0,\"#f0f921\"]],\"sequentialminus\":[[0.0,\"#0d0887\"],[0.1111111111111111,\"#46039f\"],[0.2222222222222222,\"#7201a8\"],[0.3333333333333333,\"#9c179e\"],[0.4444444444444444,\"#bd3786\"],[0.5555555555555556,\"#d8576b\"],[0.6666666666666666,\"#ed7953\"],[0.7777777777777778,\"#fb9f3a\"],[0.8888888888888888,\"#fdca26\"],[1.0,\"#f0f921\"]],\"diverging\":[[0,\"#8e0152\"],[0.1,\"#c51b7d\"],[0.2,\"#de77ae\"],[0.3,\"#f1b6da\"],[0.4,\"#fde0ef\"],[0.5,\"#f7f7f7\"],[0.6,\"#e6f5d0\"],[0.7,\"#b8e186\"],[0.8,\"#7fbc41\"],[0.9,\"#4d9221\"],[1,\"#276419\"]]},\"xaxis\":{\"gridcolor\":\"white\",\"linecolor\":\"white\",\"ticks\":\"\",\"title\":{\"standoff\":15},\"zerolinecolor\":\"white\",\"automargin\":true,\"zerolinewidth\":2},\"yaxis\":{\"gridcolor\":\"white\",\"linecolor\":\"white\",\"ticks\":\"\",\"title\":{\"standoff\":15},\"zerolinecolor\":\"white\",\"automargin\":true,\"zerolinewidth\":2},\"scene\":{\"xaxis\":{\"backgroundcolor\":\"#E5ECF6\",\"gridcolor\":\"white\",\"linecolor\":\"white\",\"showbackground\":true,\"ticks\":\"\",\"zerolinecolor\":\"white\",\"gridwidth\":2},\"yaxis\":{\"backgroundcolor\":\"#E5ECF6\",\"gridcolor\":\"white\",\"linecolor\":\"white\",\"showbackground\":true,\"ticks\":\"\",\"zerolinecolor\":\"white\",\"gridwidth\":2},\"zaxis\":{\"backgroundcolor\":\"#E5ECF6\",\"gridcolor\":\"white\",\"linecolor\":\"white\",\"showbackground\":true,\"ticks\":\"\",\"zerolinecolor\":\"white\",\"gridwidth\":2}},\"shapedefaults\":{\"line\":{\"color\":\"#2a3f5f\"}},\"annotationdefaults\":{\"arrowcolor\":\"#2a3f5f\",\"arrowhead\":0,\"arrowwidth\":1},\"geo\":{\"bgcolor\":\"white\",\"landcolor\":\"#E5ECF6\",\"subunitcolor\":\"white\",\"showland\":true,\"showlakes\":true,\"lakecolor\":\"white\"},\"title\":{\"x\":0.05},\"mapbox\":{\"style\":\"light\"}}}},                        {\"responsive\": true}                    )                };            </script>        </div>',\n",
       " ('Legs sábado',\n",
       "  'Seated Calf Raise'): '<div>                        <script type=\"text/javascript\">window.PlotlyConfig = {MathJaxConfig: \\'local\\'};</script>\\n        <script charset=\"utf-8\" src=\"https://cdn.plot.ly/plotly-3.0.1.min.js\"></script>                <div id=\"09ea92ff-46e0-4c9e-839f-ab0821f0ea3f\" class=\"plotly-graph-div\" style=\"height:100%; width:100%;\"></div>            <script type=\"text/javascript\">                window.PLOTLYENV=window.PLOTLYENV || {};                                if (document.getElementById(\"09ea92ff-46e0-4c9e-839f-ab0821f0ea3f\")) {                    Plotly.newPlot(                        \"09ea92ff-46e0-4c9e-839f-ab0821f0ea3f\",                        [{\"mode\":\"lines+markers+text\",\"name\":\"Top Set (Failure)\",\"text\":[\"9 reps\",\"10 reps\",\"7 reps\",\"9 reps\",\"9 reps\"],\"textposition\":\"top center\",\"visible\":true,\"x\":[\"2025-04-12\",\"2025-04-05\",\"2025-03-29\",\"2025-03-22\",\"2025-03-15\"],\"y\":{\"dtype\":\"f8\",\"bdata\":\"AAAAAADAUkAAAAAAACBSQAAAAAAAwFdAAAAAAADAV0AAAAAAAIBWQA==\"},\"type\":\"scatter\"},{\"mode\":\"lines+markers+text\",\"name\":\"Work Set 1\",\"text\":[\"10 reps\",\"10 reps\",\"8 reps\",\"10 reps\",\"11 reps\"],\"textposition\":\"top center\",\"visible\":false,\"x\":[\"2025-04-12\",\"2025-04-05\",\"2025-03-29\",\"2025-03-22\",\"2025-03-15\"],\"y\":{\"dtype\":\"f8\",\"bdata\":\"AAAAAACAUUAAAAAAAIBRQAAAAAAAwFdAAAAAAACAVkAAAAAAAOBVQA==\"},\"type\":\"scatter\"},{\"mode\":\"lines+markers+text\",\"name\":\"Work Set 2\",\"text\":[\"10 reps\",\"10 reps\",\"8 reps\",\"10 reps\",\"10 reps\"],\"textposition\":\"top center\",\"visible\":false,\"x\":[\"2025-04-12\",\"2025-04-05\",\"2025-03-29\",\"2025-03-22\",\"2025-03-15\"],\"y\":{\"dtype\":\"f8\",\"bdata\":\"AAAAAACAUUAAAAAAAIBRQAAAAAAAwFdAAAAAAACAVkAAAAAAAOBVQA==\"},\"type\":\"scatter\"}],                        {\"hovermode\":\"closest\",\"title\":{\"text\":\"Evolu\\\\u00e7\\\\u00e3o no Seated Calf Raise (Legs s\\\\u00e1bado)\"},\"updatemenus\":[{\"active\":0,\"bgcolor\":\"white\",\"bordercolor\":\"gray\",\"borderwidth\":1,\"buttons\":[{\"args\":[{\"x\":[[\"2025-04-12\",\"2025-04-05\",\"2025-03-29\",\"2025-03-22\",\"2025-03-15\"],[\"2025-04-12\",\"2025-04-05\",\"2025-03-29\",\"2025-03-22\",\"2025-03-15\"],[\"2025-04-12\",\"2025-04-05\",\"2025-03-29\",\"2025-03-22\",\"2025-03-15\"]],\"y\":[[75.0,72.5,95.0,95.0,90.0],[70.0,70.0,95.0,90.0,87.5],[70.0,70.0,95.0,90.0,87.5]],\"text\":[[\"9 reps\",\"10 reps\",\"7 reps\",\"9 reps\",\"9 reps\"],[\"10 reps\",\"10 reps\",\"8 reps\",\"10 reps\",\"11 reps\"],[\"10 reps\",\"10 reps\",\"8 reps\",\"10 reps\",\"10 reps\"]]},{\"updatemenus[1].buttons\":[{\"label\":\"Top Set (Failure)\",\"method\":\"update\",\"args\":[{\"visible\":[true,false,false]}]},{\"label\":\"Work Set 1\",\"method\":\"update\",\"args\":[{\"visible\":[false,true,false]}]},{\"label\":\"Work Set 2\",\"method\":\"update\",\"args\":[{\"visible\":[false,false,true]}]},{\"label\":\"Todas as s\\\\u00e9ries\",\"method\":\"update\",\"args\":[{\"visible\":[true,true,true]}]}],\"title\":\"Evolu\\\\u00e7\\\\u00e3o no Seated Calf Raise (Legs s\\\\u00e1bado) - \\\\u00daltimos 30 dias\"}],\"label\":\"\\\\u00daltimos 30 dias\",\"method\":\"update\"},{\"args\":[{\"x\":[[\"2025-04-12\",\"2025-04-05\",\"2025-03-29\",\"2025-03-22\",\"2025-03-15\",\"2025-03-08\",\"2025-03-01\",\"2025-02-22\"],[\"2025-04-12\",\"2025-04-05\",\"2025-03-29\",\"2025-03-22\",\"2025-03-15\",\"2025-03-08\",\"2025-03-01\",\"2025-02-22\"],[\"2025-04-12\",\"2025-04-05\",\"2025-03-29\",\"2025-03-22\",\"2025-03-15\",\"2025-03-08\",\"2025-03-01\",\"2025-02-22\"]],\"y\":[[75.0,72.5,95.0,95.0,90.0,90.0,87.5,87.5],[70.0,70.0,95.0,90.0,87.5,85.0,85.0,85.0],[70.0,70.0,95.0,90.0,87.5,87.5,85.0,85.0]],\"text\":[[\"9 reps\",\"10 reps\",\"7 reps\",\"9 reps\",\"9 reps\",\"9 reps\",\"11 reps\",\"9 reps\"],[\"10 reps\",\"10 reps\",\"8 reps\",\"10 reps\",\"11 reps\",\"11 reps\",\"11 reps\",\"10 reps\"],[\"10 reps\",\"10 reps\",\"8 reps\",\"10 reps\",\"10 reps\",\"10 reps\",\"10 reps\",\"10 reps\"]]},{\"updatemenus[1].buttons\":[{\"label\":\"Top Set (Failure)\",\"method\":\"update\",\"args\":[{\"visible\":[true,false,false]}]},{\"label\":\"Work Set 1\",\"method\":\"update\",\"args\":[{\"visible\":[false,true,false]}]},{\"label\":\"Work Set 2\",\"method\":\"update\",\"args\":[{\"visible\":[false,false,true]}]},{\"label\":\"Todas as s\\\\u00e9ries\",\"method\":\"update\",\"args\":[{\"visible\":[true,true,true]}]}]}],\"label\":\"\\\\u00daltimos 60 dias\",\"method\":\"update\"},{\"args\":[{\"x\":[[\"2025-04-12\",\"2025-04-05\",\"2025-03-29\",\"2025-03-22\",\"2025-03-15\",\"2025-03-08\",\"2025-03-01\",\"2025-02-22\",\"2025-02-01\",\"2025-01-25\",\"2025-01-18\"],[\"2025-04-12\",\"2025-04-05\",\"2025-03-29\",\"2025-03-22\",\"2025-03-15\",\"2025-03-08\",\"2025-03-01\",\"2025-02-22\",\"2025-02-01\",\"2025-01-25\",\"2025-01-18\"],[\"2025-04-12\",\"2025-04-05\",\"2025-03-29\",\"2025-03-22\",\"2025-03-15\",\"2025-03-08\",\"2025-03-01\",\"2025-02-22\",\"2025-02-01\",\"2025-01-25\",\"2025-01-18\"]],\"y\":[[75.0,72.5,95.0,95.0,90.0,90.0,87.5,87.5,87.5,87.5,85.0],[70.0,70.0,95.0,90.0,87.5,85.0,85.0,85.0,85.0,85.0,100.0],[70.0,70.0,95.0,90.0,87.5,87.5,85.0,85.0,85.0,85.0,80.0]],\"text\":[[\"9 reps\",\"10 reps\",\"7 reps\",\"9 reps\",\"9 reps\",\"9 reps\",\"11 reps\",\"9 reps\",\"6 reps\",\"9 reps\",\"9 reps\"],[\"10 reps\",\"10 reps\",\"8 reps\",\"10 reps\",\"11 reps\",\"11 reps\",\"11 reps\",\"10 reps\",\"11 reps\",\"10 reps\",\"10 reps\"],[\"10 reps\",\"10 reps\",\"8 reps\",\"10 reps\",\"10 reps\",\"10 reps\",\"10 reps\",\"10 reps\",\"10 reps\",\"10 reps\",\"10 reps\"]]},{\"updatemenus[1].buttons\":[{\"label\":\"Top Set (Failure)\",\"method\":\"update\",\"args\":[{\"visible\":[true,false,false]}]},{\"label\":\"Work Set 1\",\"method\":\"update\",\"args\":[{\"visible\":[false,true,false]}]},{\"label\":\"Work Set 2\",\"method\":\"update\",\"args\":[{\"visible\":[false,false,true]}]},{\"label\":\"Todas as s\\\\u00e9ries\",\"method\":\"update\",\"args\":[{\"visible\":[true,true,true]}]}]}],\"label\":\"\\\\u00daltimos 90 dias\",\"method\":\"update\"}],\"direction\":\"down\",\"pad\":{\"r\":10,\"t\":10},\"showactive\":true,\"x\":0.6,\"xanchor\":\"left\",\"y\":1.2,\"yanchor\":\"top\"},{\"active\":0,\"bgcolor\":\"white\",\"bordercolor\":\"gray\",\"borderwidth\":1,\"buttons\":[{\"args\":[{\"visible\":[true,false,false]}],\"label\":\"Top Set (Failure)\",\"method\":\"update\"},{\"args\":[{\"visible\":[false,true,false]}],\"label\":\"Work Set 1\",\"method\":\"update\"},{\"args\":[{\"visible\":[false,false,true]}],\"label\":\"Work Set 2\",\"method\":\"update\"},{\"args\":[{\"visible\":[true,true,true]}],\"label\":\"Todas as s\\\\u00e9ries\",\"method\":\"update\"}],\"direction\":\"down\",\"pad\":{\"r\":10,\"t\":10},\"showactive\":true,\"x\":0.99,\"xanchor\":\"right\",\"y\":1.2,\"yanchor\":\"top\"}],\"xaxis\":{\"tickformat\":\"%d\\\\u002f%m\\\\u002f%Y\",\"title\":{\"text\":\"Data\"}},\"yaxis\":{\"title\":{\"text\":\"Peso (kg)\"}},\"template\":{\"data\":{\"histogram2dcontour\":[{\"type\":\"histogram2dcontour\",\"colorbar\":{\"outlinewidth\":0,\"ticks\":\"\"},\"colorscale\":[[0.0,\"#0d0887\"],[0.1111111111111111,\"#46039f\"],[0.2222222222222222,\"#7201a8\"],[0.3333333333333333,\"#9c179e\"],[0.4444444444444444,\"#bd3786\"],[0.5555555555555556,\"#d8576b\"],[0.6666666666666666,\"#ed7953\"],[0.7777777777777778,\"#fb9f3a\"],[0.8888888888888888,\"#fdca26\"],[1.0,\"#f0f921\"]]}],\"choropleth\":[{\"type\":\"choropleth\",\"colorbar\":{\"outlinewidth\":0,\"ticks\":\"\"}}],\"histogram2d\":[{\"type\":\"histogram2d\",\"colorbar\":{\"outlinewidth\":0,\"ticks\":\"\"},\"colorscale\":[[0.0,\"#0d0887\"],[0.1111111111111111,\"#46039f\"],[0.2222222222222222,\"#7201a8\"],[0.3333333333333333,\"#9c179e\"],[0.4444444444444444,\"#bd3786\"],[0.5555555555555556,\"#d8576b\"],[0.6666666666666666,\"#ed7953\"],[0.7777777777777778,\"#fb9f3a\"],[0.8888888888888888,\"#fdca26\"],[1.0,\"#f0f921\"]]}],\"heatmap\":[{\"type\":\"heatmap\",\"colorbar\":{\"outlinewidth\":0,\"ticks\":\"\"},\"colorscale\":[[0.0,\"#0d0887\"],[0.1111111111111111,\"#46039f\"],[0.2222222222222222,\"#7201a8\"],[0.3333333333333333,\"#9c179e\"],[0.4444444444444444,\"#bd3786\"],[0.5555555555555556,\"#d8576b\"],[0.6666666666666666,\"#ed7953\"],[0.7777777777777778,\"#fb9f3a\"],[0.8888888888888888,\"#fdca26\"],[1.0,\"#f0f921\"]]}],\"contourcarpet\":[{\"type\":\"contourcarpet\",\"colorbar\":{\"outlinewidth\":0,\"ticks\":\"\"}}],\"contour\":[{\"type\":\"contour\",\"colorbar\":{\"outlinewidth\":0,\"ticks\":\"\"},\"colorscale\":[[0.0,\"#0d0887\"],[0.1111111111111111,\"#46039f\"],[0.2222222222222222,\"#7201a8\"],[0.3333333333333333,\"#9c179e\"],[0.4444444444444444,\"#bd3786\"],[0.5555555555555556,\"#d8576b\"],[0.6666666666666666,\"#ed7953\"],[0.7777777777777778,\"#fb9f3a\"],[0.8888888888888888,\"#fdca26\"],[1.0,\"#f0f921\"]]}],\"surface\":[{\"type\":\"surface\",\"colorbar\":{\"outlinewidth\":0,\"ticks\":\"\"},\"colorscale\":[[0.0,\"#0d0887\"],[0.1111111111111111,\"#46039f\"],[0.2222222222222222,\"#7201a8\"],[0.3333333333333333,\"#9c179e\"],[0.4444444444444444,\"#bd3786\"],[0.5555555555555556,\"#d8576b\"],[0.6666666666666666,\"#ed7953\"],[0.7777777777777778,\"#fb9f3a\"],[0.8888888888888888,\"#fdca26\"],[1.0,\"#f0f921\"]]}],\"mesh3d\":[{\"type\":\"mesh3d\",\"colorbar\":{\"outlinewidth\":0,\"ticks\":\"\"}}],\"scatter\":[{\"fillpattern\":{\"fillmode\":\"overlay\",\"size\":10,\"solidity\":0.2},\"type\":\"scatter\"}],\"parcoords\":[{\"type\":\"parcoords\",\"line\":{\"colorbar\":{\"outlinewidth\":0,\"ticks\":\"\"}}}],\"scatterpolargl\":[{\"type\":\"scatterpolargl\",\"marker\":{\"colorbar\":{\"outlinewidth\":0,\"ticks\":\"\"}}}],\"bar\":[{\"error_x\":{\"color\":\"#2a3f5f\"},\"error_y\":{\"color\":\"#2a3f5f\"},\"marker\":{\"line\":{\"color\":\"#E5ECF6\",\"width\":0.5},\"pattern\":{\"fillmode\":\"overlay\",\"size\":10,\"solidity\":0.2}},\"type\":\"bar\"}],\"scattergeo\":[{\"type\":\"scattergeo\",\"marker\":{\"colorbar\":{\"outlinewidth\":0,\"ticks\":\"\"}}}],\"scatterpolar\":[{\"type\":\"scatterpolar\",\"marker\":{\"colorbar\":{\"outlinewidth\":0,\"ticks\":\"\"}}}],\"histogram\":[{\"marker\":{\"pattern\":{\"fillmode\":\"overlay\",\"size\":10,\"solidity\":0.2}},\"type\":\"histogram\"}],\"scattergl\":[{\"type\":\"scattergl\",\"marker\":{\"colorbar\":{\"outlinewidth\":0,\"ticks\":\"\"}}}],\"scatter3d\":[{\"type\":\"scatter3d\",\"line\":{\"colorbar\":{\"outlinewidth\":0,\"ticks\":\"\"}},\"marker\":{\"colorbar\":{\"outlinewidth\":0,\"ticks\":\"\"}}}],\"scattermap\":[{\"type\":\"scattermap\",\"marker\":{\"colorbar\":{\"outlinewidth\":0,\"ticks\":\"\"}}}],\"scattermapbox\":[{\"type\":\"scattermapbox\",\"marker\":{\"colorbar\":{\"outlinewidth\":0,\"ticks\":\"\"}}}],\"scatterternary\":[{\"type\":\"scatterternary\",\"marker\":{\"colorbar\":{\"outlinewidth\":0,\"ticks\":\"\"}}}],\"scattercarpet\":[{\"type\":\"scattercarpet\",\"marker\":{\"colorbar\":{\"outlinewidth\":0,\"ticks\":\"\"}}}],\"carpet\":[{\"aaxis\":{\"endlinecolor\":\"#2a3f5f\",\"gridcolor\":\"white\",\"linecolor\":\"white\",\"minorgridcolor\":\"white\",\"startlinecolor\":\"#2a3f5f\"},\"baxis\":{\"endlinecolor\":\"#2a3f5f\",\"gridcolor\":\"white\",\"linecolor\":\"white\",\"minorgridcolor\":\"white\",\"startlinecolor\":\"#2a3f5f\"},\"type\":\"carpet\"}],\"table\":[{\"cells\":{\"fill\":{\"color\":\"#EBF0F8\"},\"line\":{\"color\":\"white\"}},\"header\":{\"fill\":{\"color\":\"#C8D4E3\"},\"line\":{\"color\":\"white\"}},\"type\":\"table\"}],\"barpolar\":[{\"marker\":{\"line\":{\"color\":\"#E5ECF6\",\"width\":0.5},\"pattern\":{\"fillmode\":\"overlay\",\"size\":10,\"solidity\":0.2}},\"type\":\"barpolar\"}],\"pie\":[{\"automargin\":true,\"type\":\"pie\"}]},\"layout\":{\"autotypenumbers\":\"strict\",\"colorway\":[\"#636efa\",\"#EF553B\",\"#00cc96\",\"#ab63fa\",\"#FFA15A\",\"#19d3f3\",\"#FF6692\",\"#B6E880\",\"#FF97FF\",\"#FECB52\"],\"font\":{\"color\":\"#2a3f5f\"},\"hovermode\":\"closest\",\"hoverlabel\":{\"align\":\"left\"},\"paper_bgcolor\":\"white\",\"plot_bgcolor\":\"#E5ECF6\",\"polar\":{\"bgcolor\":\"#E5ECF6\",\"angularaxis\":{\"gridcolor\":\"white\",\"linecolor\":\"white\",\"ticks\":\"\"},\"radialaxis\":{\"gridcolor\":\"white\",\"linecolor\":\"white\",\"ticks\":\"\"}},\"ternary\":{\"bgcolor\":\"#E5ECF6\",\"aaxis\":{\"gridcolor\":\"white\",\"linecolor\":\"white\",\"ticks\":\"\"},\"baxis\":{\"gridcolor\":\"white\",\"linecolor\":\"white\",\"ticks\":\"\"},\"caxis\":{\"gridcolor\":\"white\",\"linecolor\":\"white\",\"ticks\":\"\"}},\"coloraxis\":{\"colorbar\":{\"outlinewidth\":0,\"ticks\":\"\"}},\"colorscale\":{\"sequential\":[[0.0,\"#0d0887\"],[0.1111111111111111,\"#46039f\"],[0.2222222222222222,\"#7201a8\"],[0.3333333333333333,\"#9c179e\"],[0.4444444444444444,\"#bd3786\"],[0.5555555555555556,\"#d8576b\"],[0.6666666666666666,\"#ed7953\"],[0.7777777777777778,\"#fb9f3a\"],[0.8888888888888888,\"#fdca26\"],[1.0,\"#f0f921\"]],\"sequentialminus\":[[0.0,\"#0d0887\"],[0.1111111111111111,\"#46039f\"],[0.2222222222222222,\"#7201a8\"],[0.3333333333333333,\"#9c179e\"],[0.4444444444444444,\"#bd3786\"],[0.5555555555555556,\"#d8576b\"],[0.6666666666666666,\"#ed7953\"],[0.7777777777777778,\"#fb9f3a\"],[0.8888888888888888,\"#fdca26\"],[1.0,\"#f0f921\"]],\"diverging\":[[0,\"#8e0152\"],[0.1,\"#c51b7d\"],[0.2,\"#de77ae\"],[0.3,\"#f1b6da\"],[0.4,\"#fde0ef\"],[0.5,\"#f7f7f7\"],[0.6,\"#e6f5d0\"],[0.7,\"#b8e186\"],[0.8,\"#7fbc41\"],[0.9,\"#4d9221\"],[1,\"#276419\"]]},\"xaxis\":{\"gridcolor\":\"white\",\"linecolor\":\"white\",\"ticks\":\"\",\"title\":{\"standoff\":15},\"zerolinecolor\":\"white\",\"automargin\":true,\"zerolinewidth\":2},\"yaxis\":{\"gridcolor\":\"white\",\"linecolor\":\"white\",\"ticks\":\"\",\"title\":{\"standoff\":15},\"zerolinecolor\":\"white\",\"automargin\":true,\"zerolinewidth\":2},\"scene\":{\"xaxis\":{\"backgroundcolor\":\"#E5ECF6\",\"gridcolor\":\"white\",\"linecolor\":\"white\",\"showbackground\":true,\"ticks\":\"\",\"zerolinecolor\":\"white\",\"gridwidth\":2},\"yaxis\":{\"backgroundcolor\":\"#E5ECF6\",\"gridcolor\":\"white\",\"linecolor\":\"white\",\"showbackground\":true,\"ticks\":\"\",\"zerolinecolor\":\"white\",\"gridwidth\":2},\"zaxis\":{\"backgroundcolor\":\"#E5ECF6\",\"gridcolor\":\"white\",\"linecolor\":\"white\",\"showbackground\":true,\"ticks\":\"\",\"zerolinecolor\":\"white\",\"gridwidth\":2}},\"shapedefaults\":{\"line\":{\"color\":\"#2a3f5f\"}},\"annotationdefaults\":{\"arrowcolor\":\"#2a3f5f\",\"arrowhead\":0,\"arrowwidth\":1},\"geo\":{\"bgcolor\":\"white\",\"landcolor\":\"#E5ECF6\",\"subunitcolor\":\"white\",\"showland\":true,\"showlakes\":true,\"lakecolor\":\"white\"},\"title\":{\"x\":0.05},\"mapbox\":{\"style\":\"light\"}}}},                        {\"responsive\": true}                    )                };            </script>        </div>',\n",
       " ('Upper - sexta-feira',\n",
       "  'Single Arm Lat Pulldown'): '<div>                        <script type=\"text/javascript\">window.PlotlyConfig = {MathJaxConfig: \\'local\\'};</script>\\n        <script charset=\"utf-8\" src=\"https://cdn.plot.ly/plotly-3.0.1.min.js\"></script>                <div id=\"d3fcd879-2fff-489b-b82d-0b4e4064ff26\" class=\"plotly-graph-div\" style=\"height:100%; width:100%;\"></div>            <script type=\"text/javascript\">                window.PLOTLYENV=window.PLOTLYENV || {};                                if (document.getElementById(\"d3fcd879-2fff-489b-b82d-0b4e4064ff26\")) {                    Plotly.newPlot(                        \"d3fcd879-2fff-489b-b82d-0b4e4064ff26\",                        [{\"mode\":\"lines+markers+text\",\"name\":\"Top Set (Failure)\",\"text\":[\"6 reps\",\"7 reps\",\"5 reps\",\"5 reps\",\"6 reps\"],\"textposition\":\"top center\",\"visible\":true,\"x\":[\"2025-04-11\",\"2025-04-04\",\"2025-03-28\",\"2025-03-21\",\"2025-03-14\"],\"y\":{\"dtype\":\"f8\",\"bdata\":\"AAAAAACAQUAAAAAAAAA+QAAAAAAAgEZAAAAAAABARUAAAAAAAMBCQA==\"},\"type\":\"scatter\"},{\"mode\":\"lines+markers+text\",\"name\":\"Work Set 1\",\"text\":[\"7 reps\",\"6 reps\",\"6 reps\",\"6 reps\",\"6 reps\"],\"textposition\":\"top center\",\"visible\":false,\"x\":[\"2025-04-11\",\"2025-04-04\",\"2025-03-28\",\"2025-03-21\",\"2025-03-14\"],\"y\":{\"dtype\":\"f8\",\"bdata\":\"AAAAAABAQEAAAAAAAIA7QAAAAAAAQEVAAAAAAAAAREAAAAAAAIBBQA==\"},\"type\":\"scatter\"},{\"mode\":\"lines+markers+text\",\"name\":\"Work Set 2\",\"text\":[],\"textposition\":\"top center\",\"visible\":false,\"x\":[],\"y\":[],\"type\":\"scatter\"}],                        {\"hovermode\":\"closest\",\"title\":{\"text\":\"Evolu\\\\u00e7\\\\u00e3o no Single Arm Lat Pulldown (Upper - sexta-feira)\"},\"updatemenus\":[{\"active\":0,\"bgcolor\":\"white\",\"bordercolor\":\"gray\",\"borderwidth\":1,\"buttons\":[{\"args\":[{\"x\":[[\"2025-04-11\",\"2025-04-04\",\"2025-03-28\",\"2025-03-21\",\"2025-03-14\"],[\"2025-04-11\",\"2025-04-04\",\"2025-03-28\",\"2025-03-21\",\"2025-03-14\"],[]],\"y\":[[35.0,30.0,45.0,42.5,37.5],[32.5,27.5,42.5,40.0,35.0],[]],\"text\":[[\"6 reps\",\"7 reps\",\"5 reps\",\"5 reps\",\"6 reps\"],[\"7 reps\",\"6 reps\",\"6 reps\",\"6 reps\",\"6 reps\"],[]]},{\"updatemenus[1].buttons\":[{\"label\":\"Top Set (Failure)\",\"method\":\"update\",\"args\":[{\"visible\":[true,false,false]}]},{\"label\":\"Work Set 1\",\"method\":\"update\",\"args\":[{\"visible\":[false,true,false]}]},{\"label\":\"Todas as s\\\\u00e9ries\",\"method\":\"update\",\"args\":[{\"visible\":[true,true,false]}]}],\"title\":\"Evolu\\\\u00e7\\\\u00e3o no Single Arm Lat Pulldown (Upper - sexta-feira) - \\\\u00daltimos 30 dias\"}],\"label\":\"\\\\u00daltimos 30 dias\",\"method\":\"update\"},{\"args\":[{\"x\":[[\"2025-04-11\",\"2025-04-04\",\"2025-03-28\",\"2025-03-21\",\"2025-03-14\",\"2025-03-07\",\"2025-02-28\",\"2025-02-21\"],[\"2025-04-11\",\"2025-04-04\",\"2025-03-28\",\"2025-03-21\",\"2025-03-14\",\"2025-03-07\",\"2025-02-28\",\"2025-02-21\"],[]],\"y\":[[35.0,30.0,45.0,42.5,37.5,50.0,42.5,50.0],[32.5,27.5,42.5,40.0,35.0,47.5,40.0,50.0],[]],\"text\":[[\"6 reps\",\"7 reps\",\"5 reps\",\"5 reps\",\"6 reps\",\"3 reps\",\"5 reps\",\"4 reps\"],[\"7 reps\",\"6 reps\",\"6 reps\",\"6 reps\",\"6 reps\",\"5 reps\",\"6 reps\",\"4 reps\"],[]]},{\"updatemenus[1].buttons\":[{\"label\":\"Top Set (Failure)\",\"method\":\"update\",\"args\":[{\"visible\":[true,false,false]}]},{\"label\":\"Work Set 1\",\"method\":\"update\",\"args\":[{\"visible\":[false,true,false]}]},{\"label\":\"Todas as s\\\\u00e9ries\",\"method\":\"update\",\"args\":[{\"visible\":[true,true,false]}]}]}],\"label\":\"\\\\u00daltimos 60 dias\",\"method\":\"update\"},{\"args\":[{\"x\":[[\"2025-04-11\",\"2025-04-04\",\"2025-03-28\",\"2025-03-21\",\"2025-03-14\",\"2025-03-07\",\"2025-02-28\",\"2025-02-21\",\"2025-02-07\",\"2025-01-31\",\"2025-01-17\"],[\"2025-04-11\",\"2025-04-04\",\"2025-03-28\",\"2025-03-21\",\"2025-03-14\",\"2025-03-07\",\"2025-02-28\",\"2025-02-21\",\"2025-02-07\",\"2025-01-31\",\"2025-01-17\"],[\"2025-02-07\",\"2025-01-31\",\"2025-01-17\"]],\"y\":[[35.0,30.0,45.0,42.5,37.5,50.0,42.5,50.0,50.0,47.5,47.5],[32.5,27.5,42.5,40.0,35.0,47.5,40.0,50.0,47.5,47.5,47.5],[47.5,47.5,47.5]],\"text\":[[\"6 reps\",\"7 reps\",\"5 reps\",\"5 reps\",\"6 reps\",\"3 reps\",\"5 reps\",\"4 reps\",\"5 reps\",\"5 reps\",\"5 reps\"],[\"7 reps\",\"6 reps\",\"6 reps\",\"6 reps\",\"6 reps\",\"5 reps\",\"6 reps\",\"4 reps\",\"6 reps\",\"4 reps\",\"4 reps\"],[\"6 reps\",\"4 reps\",\"4 reps\"]]},{\"updatemenus[1].buttons\":[{\"label\":\"Top Set (Failure)\",\"method\":\"update\",\"args\":[{\"visible\":[true,false,false]}]},{\"label\":\"Work Set 1\",\"method\":\"update\",\"args\":[{\"visible\":[false,true,false]}]},{\"label\":\"Work Set 2\",\"method\":\"update\",\"args\":[{\"visible\":[false,false,true]}]},{\"label\":\"Todas as s\\\\u00e9ries\",\"method\":\"update\",\"args\":[{\"visible\":[true,true,true]}]}]}],\"label\":\"\\\\u00daltimos 90 dias\",\"method\":\"update\"}],\"direction\":\"down\",\"pad\":{\"r\":10,\"t\":10},\"showactive\":true,\"x\":0.6,\"xanchor\":\"left\",\"y\":1.2,\"yanchor\":\"top\"},{\"active\":0,\"bgcolor\":\"white\",\"bordercolor\":\"gray\",\"borderwidth\":1,\"buttons\":[{\"args\":[{\"visible\":[true,false,false]}],\"label\":\"Top Set (Failure)\",\"method\":\"update\"},{\"args\":[{\"visible\":[false,true,false]}],\"label\":\"Work Set 1\",\"method\":\"update\"},{\"args\":[{\"visible\":[true,true,false]}],\"label\":\"Todas as s\\\\u00e9ries\",\"method\":\"update\"}],\"direction\":\"down\",\"pad\":{\"r\":10,\"t\":10},\"showactive\":true,\"x\":0.99,\"xanchor\":\"right\",\"y\":1.2,\"yanchor\":\"top\"}],\"xaxis\":{\"tickformat\":\"%d\\\\u002f%m\\\\u002f%Y\",\"title\":{\"text\":\"Data\"}},\"yaxis\":{\"title\":{\"text\":\"Peso (kg)\"}},\"template\":{\"data\":{\"histogram2dcontour\":[{\"type\":\"histogram2dcontour\",\"colorbar\":{\"outlinewidth\":0,\"ticks\":\"\"},\"colorscale\":[[0.0,\"#0d0887\"],[0.1111111111111111,\"#46039f\"],[0.2222222222222222,\"#7201a8\"],[0.3333333333333333,\"#9c179e\"],[0.4444444444444444,\"#bd3786\"],[0.5555555555555556,\"#d8576b\"],[0.6666666666666666,\"#ed7953\"],[0.7777777777777778,\"#fb9f3a\"],[0.8888888888888888,\"#fdca26\"],[1.0,\"#f0f921\"]]}],\"choropleth\":[{\"type\":\"choropleth\",\"colorbar\":{\"outlinewidth\":0,\"ticks\":\"\"}}],\"histogram2d\":[{\"type\":\"histogram2d\",\"colorbar\":{\"outlinewidth\":0,\"ticks\":\"\"},\"colorscale\":[[0.0,\"#0d0887\"],[0.1111111111111111,\"#46039f\"],[0.2222222222222222,\"#7201a8\"],[0.3333333333333333,\"#9c179e\"],[0.4444444444444444,\"#bd3786\"],[0.5555555555555556,\"#d8576b\"],[0.6666666666666666,\"#ed7953\"],[0.7777777777777778,\"#fb9f3a\"],[0.8888888888888888,\"#fdca26\"],[1.0,\"#f0f921\"]]}],\"heatmap\":[{\"type\":\"heatmap\",\"colorbar\":{\"outlinewidth\":0,\"ticks\":\"\"},\"colorscale\":[[0.0,\"#0d0887\"],[0.1111111111111111,\"#46039f\"],[0.2222222222222222,\"#7201a8\"],[0.3333333333333333,\"#9c179e\"],[0.4444444444444444,\"#bd3786\"],[0.5555555555555556,\"#d8576b\"],[0.6666666666666666,\"#ed7953\"],[0.7777777777777778,\"#fb9f3a\"],[0.8888888888888888,\"#fdca26\"],[1.0,\"#f0f921\"]]}],\"contourcarpet\":[{\"type\":\"contourcarpet\",\"colorbar\":{\"outlinewidth\":0,\"ticks\":\"\"}}],\"contour\":[{\"type\":\"contour\",\"colorbar\":{\"outlinewidth\":0,\"ticks\":\"\"},\"colorscale\":[[0.0,\"#0d0887\"],[0.1111111111111111,\"#46039f\"],[0.2222222222222222,\"#7201a8\"],[0.3333333333333333,\"#9c179e\"],[0.4444444444444444,\"#bd3786\"],[0.5555555555555556,\"#d8576b\"],[0.6666666666666666,\"#ed7953\"],[0.7777777777777778,\"#fb9f3a\"],[0.8888888888888888,\"#fdca26\"],[1.0,\"#f0f921\"]]}],\"surface\":[{\"type\":\"surface\",\"colorbar\":{\"outlinewidth\":0,\"ticks\":\"\"},\"colorscale\":[[0.0,\"#0d0887\"],[0.1111111111111111,\"#46039f\"],[0.2222222222222222,\"#7201a8\"],[0.3333333333333333,\"#9c179e\"],[0.4444444444444444,\"#bd3786\"],[0.5555555555555556,\"#d8576b\"],[0.6666666666666666,\"#ed7953\"],[0.7777777777777778,\"#fb9f3a\"],[0.8888888888888888,\"#fdca26\"],[1.0,\"#f0f921\"]]}],\"mesh3d\":[{\"type\":\"mesh3d\",\"colorbar\":{\"outlinewidth\":0,\"ticks\":\"\"}}],\"scatter\":[{\"fillpattern\":{\"fillmode\":\"overlay\",\"size\":10,\"solidity\":0.2},\"type\":\"scatter\"}],\"parcoords\":[{\"type\":\"parcoords\",\"line\":{\"colorbar\":{\"outlinewidth\":0,\"ticks\":\"\"}}}],\"scatterpolargl\":[{\"type\":\"scatterpolargl\",\"marker\":{\"colorbar\":{\"outlinewidth\":0,\"ticks\":\"\"}}}],\"bar\":[{\"error_x\":{\"color\":\"#2a3f5f\"},\"error_y\":{\"color\":\"#2a3f5f\"},\"marker\":{\"line\":{\"color\":\"#E5ECF6\",\"width\":0.5},\"pattern\":{\"fillmode\":\"overlay\",\"size\":10,\"solidity\":0.2}},\"type\":\"bar\"}],\"scattergeo\":[{\"type\":\"scattergeo\",\"marker\":{\"colorbar\":{\"outlinewidth\":0,\"ticks\":\"\"}}}],\"scatterpolar\":[{\"type\":\"scatterpolar\",\"marker\":{\"colorbar\":{\"outlinewidth\":0,\"ticks\":\"\"}}}],\"histogram\":[{\"marker\":{\"pattern\":{\"fillmode\":\"overlay\",\"size\":10,\"solidity\":0.2}},\"type\":\"histogram\"}],\"scattergl\":[{\"type\":\"scattergl\",\"marker\":{\"colorbar\":{\"outlinewidth\":0,\"ticks\":\"\"}}}],\"scatter3d\":[{\"type\":\"scatter3d\",\"line\":{\"colorbar\":{\"outlinewidth\":0,\"ticks\":\"\"}},\"marker\":{\"colorbar\":{\"outlinewidth\":0,\"ticks\":\"\"}}}],\"scattermap\":[{\"type\":\"scattermap\",\"marker\":{\"colorbar\":{\"outlinewidth\":0,\"ticks\":\"\"}}}],\"scattermapbox\":[{\"type\":\"scattermapbox\",\"marker\":{\"colorbar\":{\"outlinewidth\":0,\"ticks\":\"\"}}}],\"scatterternary\":[{\"type\":\"scatterternary\",\"marker\":{\"colorbar\":{\"outlinewidth\":0,\"ticks\":\"\"}}}],\"scattercarpet\":[{\"type\":\"scattercarpet\",\"marker\":{\"colorbar\":{\"outlinewidth\":0,\"ticks\":\"\"}}}],\"carpet\":[{\"aaxis\":{\"endlinecolor\":\"#2a3f5f\",\"gridcolor\":\"white\",\"linecolor\":\"white\",\"minorgridcolor\":\"white\",\"startlinecolor\":\"#2a3f5f\"},\"baxis\":{\"endlinecolor\":\"#2a3f5f\",\"gridcolor\":\"white\",\"linecolor\":\"white\",\"minorgridcolor\":\"white\",\"startlinecolor\":\"#2a3f5f\"},\"type\":\"carpet\"}],\"table\":[{\"cells\":{\"fill\":{\"color\":\"#EBF0F8\"},\"line\":{\"color\":\"white\"}},\"header\":{\"fill\":{\"color\":\"#C8D4E3\"},\"line\":{\"color\":\"white\"}},\"type\":\"table\"}],\"barpolar\":[{\"marker\":{\"line\":{\"color\":\"#E5ECF6\",\"width\":0.5},\"pattern\":{\"fillmode\":\"overlay\",\"size\":10,\"solidity\":0.2}},\"type\":\"barpolar\"}],\"pie\":[{\"automargin\":true,\"type\":\"pie\"}]},\"layout\":{\"autotypenumbers\":\"strict\",\"colorway\":[\"#636efa\",\"#EF553B\",\"#00cc96\",\"#ab63fa\",\"#FFA15A\",\"#19d3f3\",\"#FF6692\",\"#B6E880\",\"#FF97FF\",\"#FECB52\"],\"font\":{\"color\":\"#2a3f5f\"},\"hovermode\":\"closest\",\"hoverlabel\":{\"align\":\"left\"},\"paper_bgcolor\":\"white\",\"plot_bgcolor\":\"#E5ECF6\",\"polar\":{\"bgcolor\":\"#E5ECF6\",\"angularaxis\":{\"gridcolor\":\"white\",\"linecolor\":\"white\",\"ticks\":\"\"},\"radialaxis\":{\"gridcolor\":\"white\",\"linecolor\":\"white\",\"ticks\":\"\"}},\"ternary\":{\"bgcolor\":\"#E5ECF6\",\"aaxis\":{\"gridcolor\":\"white\",\"linecolor\":\"white\",\"ticks\":\"\"},\"baxis\":{\"gridcolor\":\"white\",\"linecolor\":\"white\",\"ticks\":\"\"},\"caxis\":{\"gridcolor\":\"white\",\"linecolor\":\"white\",\"ticks\":\"\"}},\"coloraxis\":{\"colorbar\":{\"outlinewidth\":0,\"ticks\":\"\"}},\"colorscale\":{\"sequential\":[[0.0,\"#0d0887\"],[0.1111111111111111,\"#46039f\"],[0.2222222222222222,\"#7201a8\"],[0.3333333333333333,\"#9c179e\"],[0.4444444444444444,\"#bd3786\"],[0.5555555555555556,\"#d8576b\"],[0.6666666666666666,\"#ed7953\"],[0.7777777777777778,\"#fb9f3a\"],[0.8888888888888888,\"#fdca26\"],[1.0,\"#f0f921\"]],\"sequentialminus\":[[0.0,\"#0d0887\"],[0.1111111111111111,\"#46039f\"],[0.2222222222222222,\"#7201a8\"],[0.3333333333333333,\"#9c179e\"],[0.4444444444444444,\"#bd3786\"],[0.5555555555555556,\"#d8576b\"],[0.6666666666666666,\"#ed7953\"],[0.7777777777777778,\"#fb9f3a\"],[0.8888888888888888,\"#fdca26\"],[1.0,\"#f0f921\"]],\"diverging\":[[0,\"#8e0152\"],[0.1,\"#c51b7d\"],[0.2,\"#de77ae\"],[0.3,\"#f1b6da\"],[0.4,\"#fde0ef\"],[0.5,\"#f7f7f7\"],[0.6,\"#e6f5d0\"],[0.7,\"#b8e186\"],[0.8,\"#7fbc41\"],[0.9,\"#4d9221\"],[1,\"#276419\"]]},\"xaxis\":{\"gridcolor\":\"white\",\"linecolor\":\"white\",\"ticks\":\"\",\"title\":{\"standoff\":15},\"zerolinecolor\":\"white\",\"automargin\":true,\"zerolinewidth\":2},\"yaxis\":{\"gridcolor\":\"white\",\"linecolor\":\"white\",\"ticks\":\"\",\"title\":{\"standoff\":15},\"zerolinecolor\":\"white\",\"automargin\":true,\"zerolinewidth\":2},\"scene\":{\"xaxis\":{\"backgroundcolor\":\"#E5ECF6\",\"gridcolor\":\"white\",\"linecolor\":\"white\",\"showbackground\":true,\"ticks\":\"\",\"zerolinecolor\":\"white\",\"gridwidth\":2},\"yaxis\":{\"backgroundcolor\":\"#E5ECF6\",\"gridcolor\":\"white\",\"linecolor\":\"white\",\"showbackground\":true,\"ticks\":\"\",\"zerolinecolor\":\"white\",\"gridwidth\":2},\"zaxis\":{\"backgroundcolor\":\"#E5ECF6\",\"gridcolor\":\"white\",\"linecolor\":\"white\",\"showbackground\":true,\"ticks\":\"\",\"zerolinecolor\":\"white\",\"gridwidth\":2}},\"shapedefaults\":{\"line\":{\"color\":\"#2a3f5f\"}},\"annotationdefaults\":{\"arrowcolor\":\"#2a3f5f\",\"arrowhead\":0,\"arrowwidth\":1},\"geo\":{\"bgcolor\":\"white\",\"landcolor\":\"#E5ECF6\",\"subunitcolor\":\"white\",\"showland\":true,\"showlakes\":true,\"lakecolor\":\"white\"},\"title\":{\"x\":0.05},\"mapbox\":{\"style\":\"light\"}}}},                        {\"responsive\": true}                    )                };            </script>        </div>',\n",
       " ('Upper - sexta-feira',\n",
       "  'Chest Fly (Machine)'): '<div>                        <script type=\"text/javascript\">window.PlotlyConfig = {MathJaxConfig: \\'local\\'};</script>\\n        <script charset=\"utf-8\" src=\"https://cdn.plot.ly/plotly-3.0.1.min.js\"></script>                <div id=\"0dca66d7-5fae-4dcf-924c-4d8e23e2ab00\" class=\"plotly-graph-div\" style=\"height:100%; width:100%;\"></div>            <script type=\"text/javascript\">                window.PLOTLYENV=window.PLOTLYENV || {};                                if (document.getElementById(\"0dca66d7-5fae-4dcf-924c-4d8e23e2ab00\")) {                    Plotly.newPlot(                        \"0dca66d7-5fae-4dcf-924c-4d8e23e2ab00\",                        [{\"mode\":\"lines+markers+text\",\"name\":\"Top Set (Failure)\",\"text\":[\"6 reps\",\"6 reps\",\"6 reps\",\"8 reps\",\"7 reps\"],\"textposition\":\"top center\",\"visible\":true,\"x\":[\"2025-04-11\",\"2025-04-04\",\"2025-03-28\",\"2025-03-21\",\"2025-03-14\"],\"y\":{\"dtype\":\"f8\",\"bdata\":\"AAAAAADgUEAAAAAAAEBQQAAAAAAAYFNAAAAAAADAUkAAAAAAAMBSQA==\"},\"type\":\"scatter\"},{\"mode\":\"lines+markers+text\",\"name\":\"Work Set 1\",\"text\":[\"8 reps\",\"9 reps\",\"8 reps\",\"9 reps\",\"8 reps\"],\"textposition\":\"top center\",\"visible\":false,\"x\":[\"2025-04-11\",\"2025-04-04\",\"2025-03-28\",\"2025-03-21\",\"2025-03-14\"],\"y\":{\"dtype\":\"f8\",\"bdata\":\"AAAAAABAUEAAAAAAAEBPQAAAAAAAwFJAAAAAAAAgUkAAAAAAACBSQA==\"},\"type\":\"scatter\"},{\"mode\":\"lines+markers+text\",\"name\":\"Work Set 2\",\"text\":[\"8 reps\",\"8 reps\",\"8 reps\",\"8 reps\",\"8 reps\"],\"textposition\":\"top center\",\"visible\":false,\"x\":[\"2025-04-11\",\"2025-04-04\",\"2025-03-28\",\"2025-03-21\",\"2025-03-14\"],\"y\":{\"dtype\":\"f8\",\"bdata\":\"AAAAAABAUEAAAAAAAEBPQAAAAAAAwFJAAAAAAAAgUkAAAAAAACBSQA==\"},\"type\":\"scatter\"}],                        {\"hovermode\":\"closest\",\"title\":{\"text\":\"Evolu\\\\u00e7\\\\u00e3o no Chest Fly (Machine) (Upper - sexta-feira)\"},\"updatemenus\":[{\"active\":0,\"bgcolor\":\"white\",\"bordercolor\":\"gray\",\"borderwidth\":1,\"buttons\":[{\"args\":[{\"x\":[[\"2025-04-11\",\"2025-04-04\",\"2025-03-28\",\"2025-03-21\",\"2025-03-14\"],[\"2025-04-11\",\"2025-04-04\",\"2025-03-28\",\"2025-03-21\",\"2025-03-14\"],[\"2025-04-11\",\"2025-04-04\",\"2025-03-28\",\"2025-03-21\",\"2025-03-14\"]],\"y\":[[67.5,65.0,77.5,75.0,75.0],[65.0,62.5,75.0,72.5,72.5],[65.0,62.5,75.0,72.5,72.5]],\"text\":[[\"6 reps\",\"6 reps\",\"6 reps\",\"8 reps\",\"7 reps\"],[\"8 reps\",\"9 reps\",\"8 reps\",\"9 reps\",\"8 reps\"],[\"8 reps\",\"8 reps\",\"8 reps\",\"8 reps\",\"8 reps\"]]},{\"updatemenus[1].buttons\":[{\"label\":\"Top Set (Failure)\",\"method\":\"update\",\"args\":[{\"visible\":[true,false,false]}]},{\"label\":\"Work Set 1\",\"method\":\"update\",\"args\":[{\"visible\":[false,true,false]}]},{\"label\":\"Work Set 2\",\"method\":\"update\",\"args\":[{\"visible\":[false,false,true]}]},{\"label\":\"Todas as s\\\\u00e9ries\",\"method\":\"update\",\"args\":[{\"visible\":[true,true,true]}]}],\"title\":\"Evolu\\\\u00e7\\\\u00e3o no Chest Fly (Machine) (Upper - sexta-feira) - \\\\u00daltimos 30 dias\"}],\"label\":\"\\\\u00daltimos 30 dias\",\"method\":\"update\"},{\"args\":[{\"x\":[[\"2025-04-11\",\"2025-04-04\",\"2025-03-28\",\"2025-03-21\",\"2025-03-14\",\"2025-03-07\",\"2025-02-28\",\"2025-02-21\"],[\"2025-04-11\",\"2025-04-04\",\"2025-03-28\",\"2025-03-21\",\"2025-03-14\",\"2025-03-07\",\"2025-02-28\",\"2025-02-21\"],[\"2025-04-11\",\"2025-04-04\",\"2025-03-28\",\"2025-03-21\",\"2025-03-14\",\"2025-03-07\",\"2025-02-28\",\"2025-02-21\"]],\"y\":[[67.5,65.0,77.5,75.0,75.0,57.5,62.8,60.0],[65.0,62.5,75.0,72.5,72.5,75.0,60.0,80.0],[65.0,62.5,75.0,72.5,72.5,75.0,60.0,60.0]],\"text\":[[\"6 reps\",\"6 reps\",\"6 reps\",\"8 reps\",\"7 reps\",\"7 reps\",\"6 reps\",\"6 reps\"],[\"8 reps\",\"9 reps\",\"8 reps\",\"9 reps\",\"8 reps\",\"8 reps\",\"8 reps\",\"7 reps\"],[\"8 reps\",\"8 reps\",\"8 reps\",\"8 reps\",\"8 reps\",\"7 reps\",\"8 reps\",\"8 reps\"]]},{\"updatemenus[1].buttons\":[{\"label\":\"Top Set (Failure)\",\"method\":\"update\",\"args\":[{\"visible\":[true,false,false]}]},{\"label\":\"Work Set 1\",\"method\":\"update\",\"args\":[{\"visible\":[false,true,false]}]},{\"label\":\"Work Set 2\",\"method\":\"update\",\"args\":[{\"visible\":[false,false,true]}]},{\"label\":\"Todas as s\\\\u00e9ries\",\"method\":\"update\",\"args\":[{\"visible\":[true,true,true]}]}]}],\"label\":\"\\\\u00daltimos 60 dias\",\"method\":\"update\"},{\"args\":[{\"x\":[[\"2025-04-11\",\"2025-04-04\",\"2025-03-28\",\"2025-03-21\",\"2025-03-14\",\"2025-03-07\",\"2025-02-28\",\"2025-02-21\",\"2025-02-07\",\"2025-01-31\",\"2025-01-17\"],[\"2025-04-11\",\"2025-04-04\",\"2025-03-28\",\"2025-03-21\",\"2025-03-14\",\"2025-03-07\",\"2025-02-28\",\"2025-02-21\",\"2025-02-07\",\"2025-01-31\",\"2025-01-17\"],[\"2025-04-11\",\"2025-04-04\",\"2025-03-28\",\"2025-03-21\",\"2025-03-14\",\"2025-03-07\",\"2025-02-28\",\"2025-02-21\",\"2025-02-07\",\"2025-01-31\",\"2025-01-17\"]],\"y\":[[67.5,65.0,77.5,75.0,75.0,57.5,62.8,60.0,55.0,77.5,75.0],[65.0,62.5,75.0,72.5,72.5,75.0,60.0,80.0,77.5,75.0,72.5],[65.0,62.5,75.0,72.5,72.5,75.0,60.0,60.0,77.5,75.0,72.5]],\"text\":[[\"6 reps\",\"6 reps\",\"6 reps\",\"8 reps\",\"7 reps\",\"7 reps\",\"6 reps\",\"6 reps\",\"7 reps\",\"7 reps\",\"8 reps\"],[\"8 reps\",\"9 reps\",\"8 reps\",\"9 reps\",\"8 reps\",\"8 reps\",\"8 reps\",\"7 reps\",\"8 reps\",\"8 reps\",\"8 reps\"],[\"8 reps\",\"8 reps\",\"8 reps\",\"8 reps\",\"8 reps\",\"7 reps\",\"8 reps\",\"8 reps\",\"5 reps\",\"8 reps\",\"8 reps\"]]},{\"updatemenus[1].buttons\":[{\"label\":\"Top Set (Failure)\",\"method\":\"update\",\"args\":[{\"visible\":[true,false,false]}]},{\"label\":\"Work Set 1\",\"method\":\"update\",\"args\":[{\"visible\":[false,true,false]}]},{\"label\":\"Work Set 2\",\"method\":\"update\",\"args\":[{\"visible\":[false,false,true]}]},{\"label\":\"Todas as s\\\\u00e9ries\",\"method\":\"update\",\"args\":[{\"visible\":[true,true,true]}]}]}],\"label\":\"\\\\u00daltimos 90 dias\",\"method\":\"update\"}],\"direction\":\"down\",\"pad\":{\"r\":10,\"t\":10},\"showactive\":true,\"x\":0.6,\"xanchor\":\"left\",\"y\":1.2,\"yanchor\":\"top\"},{\"active\":0,\"bgcolor\":\"white\",\"bordercolor\":\"gray\",\"borderwidth\":1,\"buttons\":[{\"args\":[{\"visible\":[true,false,false]}],\"label\":\"Top Set (Failure)\",\"method\":\"update\"},{\"args\":[{\"visible\":[false,true,false]}],\"label\":\"Work Set 1\",\"method\":\"update\"},{\"args\":[{\"visible\":[false,false,true]}],\"label\":\"Work Set 2\",\"method\":\"update\"},{\"args\":[{\"visible\":[true,true,true]}],\"label\":\"Todas as s\\\\u00e9ries\",\"method\":\"update\"}],\"direction\":\"down\",\"pad\":{\"r\":10,\"t\":10},\"showactive\":true,\"x\":0.99,\"xanchor\":\"right\",\"y\":1.2,\"yanchor\":\"top\"}],\"xaxis\":{\"tickformat\":\"%d\\\\u002f%m\\\\u002f%Y\",\"title\":{\"text\":\"Data\"}},\"yaxis\":{\"title\":{\"text\":\"Peso (kg)\"}},\"template\":{\"data\":{\"histogram2dcontour\":[{\"type\":\"histogram2dcontour\",\"colorbar\":{\"outlinewidth\":0,\"ticks\":\"\"},\"colorscale\":[[0.0,\"#0d0887\"],[0.1111111111111111,\"#46039f\"],[0.2222222222222222,\"#7201a8\"],[0.3333333333333333,\"#9c179e\"],[0.4444444444444444,\"#bd3786\"],[0.5555555555555556,\"#d8576b\"],[0.6666666666666666,\"#ed7953\"],[0.7777777777777778,\"#fb9f3a\"],[0.8888888888888888,\"#fdca26\"],[1.0,\"#f0f921\"]]}],\"choropleth\":[{\"type\":\"choropleth\",\"colorbar\":{\"outlinewidth\":0,\"ticks\":\"\"}}],\"histogram2d\":[{\"type\":\"histogram2d\",\"colorbar\":{\"outlinewidth\":0,\"ticks\":\"\"},\"colorscale\":[[0.0,\"#0d0887\"],[0.1111111111111111,\"#46039f\"],[0.2222222222222222,\"#7201a8\"],[0.3333333333333333,\"#9c179e\"],[0.4444444444444444,\"#bd3786\"],[0.5555555555555556,\"#d8576b\"],[0.6666666666666666,\"#ed7953\"],[0.7777777777777778,\"#fb9f3a\"],[0.8888888888888888,\"#fdca26\"],[1.0,\"#f0f921\"]]}],\"heatmap\":[{\"type\":\"heatmap\",\"colorbar\":{\"outlinewidth\":0,\"ticks\":\"\"},\"colorscale\":[[0.0,\"#0d0887\"],[0.1111111111111111,\"#46039f\"],[0.2222222222222222,\"#7201a8\"],[0.3333333333333333,\"#9c179e\"],[0.4444444444444444,\"#bd3786\"],[0.5555555555555556,\"#d8576b\"],[0.6666666666666666,\"#ed7953\"],[0.7777777777777778,\"#fb9f3a\"],[0.8888888888888888,\"#fdca26\"],[1.0,\"#f0f921\"]]}],\"contourcarpet\":[{\"type\":\"contourcarpet\",\"colorbar\":{\"outlinewidth\":0,\"ticks\":\"\"}}],\"contour\":[{\"type\":\"contour\",\"colorbar\":{\"outlinewidth\":0,\"ticks\":\"\"},\"colorscale\":[[0.0,\"#0d0887\"],[0.1111111111111111,\"#46039f\"],[0.2222222222222222,\"#7201a8\"],[0.3333333333333333,\"#9c179e\"],[0.4444444444444444,\"#bd3786\"],[0.5555555555555556,\"#d8576b\"],[0.6666666666666666,\"#ed7953\"],[0.7777777777777778,\"#fb9f3a\"],[0.8888888888888888,\"#fdca26\"],[1.0,\"#f0f921\"]]}],\"surface\":[{\"type\":\"surface\",\"colorbar\":{\"outlinewidth\":0,\"ticks\":\"\"},\"colorscale\":[[0.0,\"#0d0887\"],[0.1111111111111111,\"#46039f\"],[0.2222222222222222,\"#7201a8\"],[0.3333333333333333,\"#9c179e\"],[0.4444444444444444,\"#bd3786\"],[0.5555555555555556,\"#d8576b\"],[0.6666666666666666,\"#ed7953\"],[0.7777777777777778,\"#fb9f3a\"],[0.8888888888888888,\"#fdca26\"],[1.0,\"#f0f921\"]]}],\"mesh3d\":[{\"type\":\"mesh3d\",\"colorbar\":{\"outlinewidth\":0,\"ticks\":\"\"}}],\"scatter\":[{\"fillpattern\":{\"fillmode\":\"overlay\",\"size\":10,\"solidity\":0.2},\"type\":\"scatter\"}],\"parcoords\":[{\"type\":\"parcoords\",\"line\":{\"colorbar\":{\"outlinewidth\":0,\"ticks\":\"\"}}}],\"scatterpolargl\":[{\"type\":\"scatterpolargl\",\"marker\":{\"colorbar\":{\"outlinewidth\":0,\"ticks\":\"\"}}}],\"bar\":[{\"error_x\":{\"color\":\"#2a3f5f\"},\"error_y\":{\"color\":\"#2a3f5f\"},\"marker\":{\"line\":{\"color\":\"#E5ECF6\",\"width\":0.5},\"pattern\":{\"fillmode\":\"overlay\",\"size\":10,\"solidity\":0.2}},\"type\":\"bar\"}],\"scattergeo\":[{\"type\":\"scattergeo\",\"marker\":{\"colorbar\":{\"outlinewidth\":0,\"ticks\":\"\"}}}],\"scatterpolar\":[{\"type\":\"scatterpolar\",\"marker\":{\"colorbar\":{\"outlinewidth\":0,\"ticks\":\"\"}}}],\"histogram\":[{\"marker\":{\"pattern\":{\"fillmode\":\"overlay\",\"size\":10,\"solidity\":0.2}},\"type\":\"histogram\"}],\"scattergl\":[{\"type\":\"scattergl\",\"marker\":{\"colorbar\":{\"outlinewidth\":0,\"ticks\":\"\"}}}],\"scatter3d\":[{\"type\":\"scatter3d\",\"line\":{\"colorbar\":{\"outlinewidth\":0,\"ticks\":\"\"}},\"marker\":{\"colorbar\":{\"outlinewidth\":0,\"ticks\":\"\"}}}],\"scattermap\":[{\"type\":\"scattermap\",\"marker\":{\"colorbar\":{\"outlinewidth\":0,\"ticks\":\"\"}}}],\"scattermapbox\":[{\"type\":\"scattermapbox\",\"marker\":{\"colorbar\":{\"outlinewidth\":0,\"ticks\":\"\"}}}],\"scatterternary\":[{\"type\":\"scatterternary\",\"marker\":{\"colorbar\":{\"outlinewidth\":0,\"ticks\":\"\"}}}],\"scattercarpet\":[{\"type\":\"scattercarpet\",\"marker\":{\"colorbar\":{\"outlinewidth\":0,\"ticks\":\"\"}}}],\"carpet\":[{\"aaxis\":{\"endlinecolor\":\"#2a3f5f\",\"gridcolor\":\"white\",\"linecolor\":\"white\",\"minorgridcolor\":\"white\",\"startlinecolor\":\"#2a3f5f\"},\"baxis\":{\"endlinecolor\":\"#2a3f5f\",\"gridcolor\":\"white\",\"linecolor\":\"white\",\"minorgridcolor\":\"white\",\"startlinecolor\":\"#2a3f5f\"},\"type\":\"carpet\"}],\"table\":[{\"cells\":{\"fill\":{\"color\":\"#EBF0F8\"},\"line\":{\"color\":\"white\"}},\"header\":{\"fill\":{\"color\":\"#C8D4E3\"},\"line\":{\"color\":\"white\"}},\"type\":\"table\"}],\"barpolar\":[{\"marker\":{\"line\":{\"color\":\"#E5ECF6\",\"width\":0.5},\"pattern\":{\"fillmode\":\"overlay\",\"size\":10,\"solidity\":0.2}},\"type\":\"barpolar\"}],\"pie\":[{\"automargin\":true,\"type\":\"pie\"}]},\"layout\":{\"autotypenumbers\":\"strict\",\"colorway\":[\"#636efa\",\"#EF553B\",\"#00cc96\",\"#ab63fa\",\"#FFA15A\",\"#19d3f3\",\"#FF6692\",\"#B6E880\",\"#FF97FF\",\"#FECB52\"],\"font\":{\"color\":\"#2a3f5f\"},\"hovermode\":\"closest\",\"hoverlabel\":{\"align\":\"left\"},\"paper_bgcolor\":\"white\",\"plot_bgcolor\":\"#E5ECF6\",\"polar\":{\"bgcolor\":\"#E5ECF6\",\"angularaxis\":{\"gridcolor\":\"white\",\"linecolor\":\"white\",\"ticks\":\"\"},\"radialaxis\":{\"gridcolor\":\"white\",\"linecolor\":\"white\",\"ticks\":\"\"}},\"ternary\":{\"bgcolor\":\"#E5ECF6\",\"aaxis\":{\"gridcolor\":\"white\",\"linecolor\":\"white\",\"ticks\":\"\"},\"baxis\":{\"gridcolor\":\"white\",\"linecolor\":\"white\",\"ticks\":\"\"},\"caxis\":{\"gridcolor\":\"white\",\"linecolor\":\"white\",\"ticks\":\"\"}},\"coloraxis\":{\"colorbar\":{\"outlinewidth\":0,\"ticks\":\"\"}},\"colorscale\":{\"sequential\":[[0.0,\"#0d0887\"],[0.1111111111111111,\"#46039f\"],[0.2222222222222222,\"#7201a8\"],[0.3333333333333333,\"#9c179e\"],[0.4444444444444444,\"#bd3786\"],[0.5555555555555556,\"#d8576b\"],[0.6666666666666666,\"#ed7953\"],[0.7777777777777778,\"#fb9f3a\"],[0.8888888888888888,\"#fdca26\"],[1.0,\"#f0f921\"]],\"sequentialminus\":[[0.0,\"#0d0887\"],[0.1111111111111111,\"#46039f\"],[0.2222222222222222,\"#7201a8\"],[0.3333333333333333,\"#9c179e\"],[0.4444444444444444,\"#bd3786\"],[0.5555555555555556,\"#d8576b\"],[0.6666666666666666,\"#ed7953\"],[0.7777777777777778,\"#fb9f3a\"],[0.8888888888888888,\"#fdca26\"],[1.0,\"#f0f921\"]],\"diverging\":[[0,\"#8e0152\"],[0.1,\"#c51b7d\"],[0.2,\"#de77ae\"],[0.3,\"#f1b6da\"],[0.4,\"#fde0ef\"],[0.5,\"#f7f7f7\"],[0.6,\"#e6f5d0\"],[0.7,\"#b8e186\"],[0.8,\"#7fbc41\"],[0.9,\"#4d9221\"],[1,\"#276419\"]]},\"xaxis\":{\"gridcolor\":\"white\",\"linecolor\":\"white\",\"ticks\":\"\",\"title\":{\"standoff\":15},\"zerolinecolor\":\"white\",\"automargin\":true,\"zerolinewidth\":2},\"yaxis\":{\"gridcolor\":\"white\",\"linecolor\":\"white\",\"ticks\":\"\",\"title\":{\"standoff\":15},\"zerolinecolor\":\"white\",\"automargin\":true,\"zerolinewidth\":2},\"scene\":{\"xaxis\":{\"backgroundcolor\":\"#E5ECF6\",\"gridcolor\":\"white\",\"linecolor\":\"white\",\"showbackground\":true,\"ticks\":\"\",\"zerolinecolor\":\"white\",\"gridwidth\":2},\"yaxis\":{\"backgroundcolor\":\"#E5ECF6\",\"gridcolor\":\"white\",\"linecolor\":\"white\",\"showbackground\":true,\"ticks\":\"\",\"zerolinecolor\":\"white\",\"gridwidth\":2},\"zaxis\":{\"backgroundcolor\":\"#E5ECF6\",\"gridcolor\":\"white\",\"linecolor\":\"white\",\"showbackground\":true,\"ticks\":\"\",\"zerolinecolor\":\"white\",\"gridwidth\":2}},\"shapedefaults\":{\"line\":{\"color\":\"#2a3f5f\"}},\"annotationdefaults\":{\"arrowcolor\":\"#2a3f5f\",\"arrowhead\":0,\"arrowwidth\":1},\"geo\":{\"bgcolor\":\"white\",\"landcolor\":\"#E5ECF6\",\"subunitcolor\":\"white\",\"showland\":true,\"showlakes\":true,\"lakecolor\":\"white\"},\"title\":{\"x\":0.05},\"mapbox\":{\"style\":\"light\"}}}},                        {\"responsive\": true}                    )                };            </script>        </div>',\n",
       " ('Upper - sexta-feira',\n",
       "  'Single Arm Lateral Raise (Cable)'): '<div>                        <script type=\"text/javascript\">window.PlotlyConfig = {MathJaxConfig: \\'local\\'};</script>\\n        <script charset=\"utf-8\" src=\"https://cdn.plot.ly/plotly-3.0.1.min.js\"></script>                <div id=\"8eae3724-78b0-4e43-8701-7e8367f5a6ad\" class=\"plotly-graph-div\" style=\"height:100%; width:100%;\"></div>            <script type=\"text/javascript\">                window.PLOTLYENV=window.PLOTLYENV || {};                                if (document.getElementById(\"8eae3724-78b0-4e43-8701-7e8367f5a6ad\")) {                    Plotly.newPlot(                        \"8eae3724-78b0-4e43-8701-7e8367f5a6ad\",                        [{\"mode\":\"lines+markers+text\",\"name\":\"Top Set (Failure)\",\"text\":[\"10 reps\",\"8 reps\",\"7 reps\",\"7 reps\",\"9 reps\"],\"textposition\":\"top center\",\"visible\":true,\"x\":[\"2025-04-11\",\"2025-04-04\",\"2025-03-28\",\"2025-03-21\",\"2025-03-14\"],\"y\":{\"dtype\":\"f8\",\"bdata\":\"AAAAAACAJkAAAAAAAAAkQAAAAAAAAC5AAAAAAAAALkAAAAAAAAAkQA==\"},\"type\":\"scatter\"},{\"mode\":\"lines+markers+text\",\"name\":\"Work Set 1\",\"text\":[\"8 reps\",\"4 reps\",\"6 reps\",\"8 reps\",\"8 reps\"],\"textposition\":\"top center\",\"visible\":false,\"x\":[\"2025-04-11\",\"2025-04-04\",\"2025-03-28\",\"2025-03-21\",\"2025-03-14\"],\"y\":{\"dtype\":\"f8\",\"bdata\":\"AAAAAACAJkAAAAAAAAAqQAAAAAAAAC5AAAAAAAAALkAAAAAAAAAuQA==\"},\"type\":\"scatter\"},{\"mode\":\"lines+markers+text\",\"name\":\"Work Set 2\",\"text\":[],\"textposition\":\"top center\",\"visible\":false,\"x\":[],\"y\":[],\"type\":\"scatter\"}],                        {\"hovermode\":\"closest\",\"title\":{\"text\":\"Evolu\\\\u00e7\\\\u00e3o no Single Arm Lateral Raise (Cable) (Upper - sexta-feira)\"},\"updatemenus\":[{\"active\":0,\"bgcolor\":\"white\",\"bordercolor\":\"gray\",\"borderwidth\":1,\"buttons\":[{\"args\":[{\"x\":[[\"2025-04-11\",\"2025-04-04\",\"2025-03-28\",\"2025-03-21\",\"2025-03-14\"],[\"2025-04-11\",\"2025-04-04\",\"2025-03-28\",\"2025-03-21\",\"2025-03-14\"],[]],\"y\":[[11.25,10.0,15.0,15.0,10.0],[11.25,13.0,15.0,15.0,15.0],[]],\"text\":[[\"10 reps\",\"8 reps\",\"7 reps\",\"7 reps\",\"9 reps\"],[\"8 reps\",\"4 reps\",\"6 reps\",\"8 reps\",\"8 reps\"],[]]},{\"updatemenus[1].buttons\":[{\"label\":\"Top Set (Failure)\",\"method\":\"update\",\"args\":[{\"visible\":[true,false,false]}]},{\"label\":\"Work Set 1\",\"method\":\"update\",\"args\":[{\"visible\":[false,true,false]}]},{\"label\":\"Todas as s\\\\u00e9ries\",\"method\":\"update\",\"args\":[{\"visible\":[true,true,false]}]}],\"title\":\"Evolu\\\\u00e7\\\\u00e3o no Single Arm Lateral Raise (Cable) (Upper - sexta-feira) - \\\\u00daltimos 30 dias\"}],\"label\":\"\\\\u00daltimos 30 dias\",\"method\":\"update\"},{\"args\":[{\"x\":[[\"2025-04-11\",\"2025-04-04\",\"2025-03-28\",\"2025-03-21\",\"2025-03-14\",\"2025-03-07\",\"2025-02-28\",\"2025-02-21\"],[\"2025-04-11\",\"2025-04-04\",\"2025-03-28\",\"2025-03-21\",\"2025-03-14\",\"2025-03-07\",\"2025-02-28\",\"2025-02-21\"],[]],\"y\":[[11.25,10.0,15.0,15.0,10.0,15.0,13.0,14.25],[11.25,13.0,15.0,15.0,15.0,14.25,13.0,14.25],[]],\"text\":[[\"10 reps\",\"8 reps\",\"7 reps\",\"7 reps\",\"9 reps\",\"8 reps\",\"9 reps\",\"9 reps\"],[\"8 reps\",\"4 reps\",\"6 reps\",\"8 reps\",\"8 reps\",\"9 reps\",\"8 reps\",\"8 reps\"],[]]},{\"updatemenus[1].buttons\":[{\"label\":\"Top Set (Failure)\",\"method\":\"update\",\"args\":[{\"visible\":[true,false,false]}]},{\"label\":\"Work Set 1\",\"method\":\"update\",\"args\":[{\"visible\":[false,true,false]}]},{\"label\":\"Todas as s\\\\u00e9ries\",\"method\":\"update\",\"args\":[{\"visible\":[true,true,false]}]}]}],\"label\":\"\\\\u00daltimos 60 dias\",\"method\":\"update\"},{\"args\":[{\"x\":[[\"2025-04-11\",\"2025-04-04\",\"2025-03-28\",\"2025-03-21\",\"2025-03-14\",\"2025-03-07\",\"2025-02-28\",\"2025-02-21\",\"2025-02-07\",\"2025-01-31\",\"2025-01-17\"],[\"2025-04-11\",\"2025-04-04\",\"2025-03-28\",\"2025-03-21\",\"2025-03-14\",\"2025-03-07\",\"2025-02-28\",\"2025-02-21\",\"2025-02-07\",\"2025-01-31\",\"2025-01-17\"],[\"2025-02-07\",\"2025-01-31\",\"2025-01-17\"]],\"y\":[[11.25,10.0,15.0,15.0,10.0,15.0,13.0,14.25,14.25,13.0,13.0],[11.25,13.0,15.0,15.0,15.0,14.25,13.0,14.25,13.0,13.0,11.25],[13.0,13.0,11.25]],\"text\":[[\"10 reps\",\"8 reps\",\"7 reps\",\"7 reps\",\"9 reps\",\"8 reps\",\"9 reps\",\"9 reps\",\"8 reps\",\"8 reps\",\"7 reps\"],[\"8 reps\",\"4 reps\",\"6 reps\",\"8 reps\",\"8 reps\",\"9 reps\",\"8 reps\",\"8 reps\",\"9 reps\",\"8 reps\",\"9 reps\"],[\"9 reps\",\"8 reps\",\"9 reps\"]]},{\"updatemenus[1].buttons\":[{\"label\":\"Top Set (Failure)\",\"method\":\"update\",\"args\":[{\"visible\":[true,false,false]}]},{\"label\":\"Work Set 1\",\"method\":\"update\",\"args\":[{\"visible\":[false,true,false]}]},{\"label\":\"Work Set 2\",\"method\":\"update\",\"args\":[{\"visible\":[false,false,true]}]},{\"label\":\"Todas as s\\\\u00e9ries\",\"method\":\"update\",\"args\":[{\"visible\":[true,true,true]}]}]}],\"label\":\"\\\\u00daltimos 90 dias\",\"method\":\"update\"}],\"direction\":\"down\",\"pad\":{\"r\":10,\"t\":10},\"showactive\":true,\"x\":0.6,\"xanchor\":\"left\",\"y\":1.2,\"yanchor\":\"top\"},{\"active\":0,\"bgcolor\":\"white\",\"bordercolor\":\"gray\",\"borderwidth\":1,\"buttons\":[{\"args\":[{\"visible\":[true,false,false]}],\"label\":\"Top Set (Failure)\",\"method\":\"update\"},{\"args\":[{\"visible\":[false,true,false]}],\"label\":\"Work Set 1\",\"method\":\"update\"},{\"args\":[{\"visible\":[true,true,false]}],\"label\":\"Todas as s\\\\u00e9ries\",\"method\":\"update\"}],\"direction\":\"down\",\"pad\":{\"r\":10,\"t\":10},\"showactive\":true,\"x\":0.99,\"xanchor\":\"right\",\"y\":1.2,\"yanchor\":\"top\"}],\"xaxis\":{\"tickformat\":\"%d\\\\u002f%m\\\\u002f%Y\",\"title\":{\"text\":\"Data\"}},\"yaxis\":{\"title\":{\"text\":\"Peso (kg)\"}},\"template\":{\"data\":{\"histogram2dcontour\":[{\"type\":\"histogram2dcontour\",\"colorbar\":{\"outlinewidth\":0,\"ticks\":\"\"},\"colorscale\":[[0.0,\"#0d0887\"],[0.1111111111111111,\"#46039f\"],[0.2222222222222222,\"#7201a8\"],[0.3333333333333333,\"#9c179e\"],[0.4444444444444444,\"#bd3786\"],[0.5555555555555556,\"#d8576b\"],[0.6666666666666666,\"#ed7953\"],[0.7777777777777778,\"#fb9f3a\"],[0.8888888888888888,\"#fdca26\"],[1.0,\"#f0f921\"]]}],\"choropleth\":[{\"type\":\"choropleth\",\"colorbar\":{\"outlinewidth\":0,\"ticks\":\"\"}}],\"histogram2d\":[{\"type\":\"histogram2d\",\"colorbar\":{\"outlinewidth\":0,\"ticks\":\"\"},\"colorscale\":[[0.0,\"#0d0887\"],[0.1111111111111111,\"#46039f\"],[0.2222222222222222,\"#7201a8\"],[0.3333333333333333,\"#9c179e\"],[0.4444444444444444,\"#bd3786\"],[0.5555555555555556,\"#d8576b\"],[0.6666666666666666,\"#ed7953\"],[0.7777777777777778,\"#fb9f3a\"],[0.8888888888888888,\"#fdca26\"],[1.0,\"#f0f921\"]]}],\"heatmap\":[{\"type\":\"heatmap\",\"colorbar\":{\"outlinewidth\":0,\"ticks\":\"\"},\"colorscale\":[[0.0,\"#0d0887\"],[0.1111111111111111,\"#46039f\"],[0.2222222222222222,\"#7201a8\"],[0.3333333333333333,\"#9c179e\"],[0.4444444444444444,\"#bd3786\"],[0.5555555555555556,\"#d8576b\"],[0.6666666666666666,\"#ed7953\"],[0.7777777777777778,\"#fb9f3a\"],[0.8888888888888888,\"#fdca26\"],[1.0,\"#f0f921\"]]}],\"contourcarpet\":[{\"type\":\"contourcarpet\",\"colorbar\":{\"outlinewidth\":0,\"ticks\":\"\"}}],\"contour\":[{\"type\":\"contour\",\"colorbar\":{\"outlinewidth\":0,\"ticks\":\"\"},\"colorscale\":[[0.0,\"#0d0887\"],[0.1111111111111111,\"#46039f\"],[0.2222222222222222,\"#7201a8\"],[0.3333333333333333,\"#9c179e\"],[0.4444444444444444,\"#bd3786\"],[0.5555555555555556,\"#d8576b\"],[0.6666666666666666,\"#ed7953\"],[0.7777777777777778,\"#fb9f3a\"],[0.8888888888888888,\"#fdca26\"],[1.0,\"#f0f921\"]]}],\"surface\":[{\"type\":\"surface\",\"colorbar\":{\"outlinewidth\":0,\"ticks\":\"\"},\"colorscale\":[[0.0,\"#0d0887\"],[0.1111111111111111,\"#46039f\"],[0.2222222222222222,\"#7201a8\"],[0.3333333333333333,\"#9c179e\"],[0.4444444444444444,\"#bd3786\"],[0.5555555555555556,\"#d8576b\"],[0.6666666666666666,\"#ed7953\"],[0.7777777777777778,\"#fb9f3a\"],[0.8888888888888888,\"#fdca26\"],[1.0,\"#f0f921\"]]}],\"mesh3d\":[{\"type\":\"mesh3d\",\"colorbar\":{\"outlinewidth\":0,\"ticks\":\"\"}}],\"scatter\":[{\"fillpattern\":{\"fillmode\":\"overlay\",\"size\":10,\"solidity\":0.2},\"type\":\"scatter\"}],\"parcoords\":[{\"type\":\"parcoords\",\"line\":{\"colorbar\":{\"outlinewidth\":0,\"ticks\":\"\"}}}],\"scatterpolargl\":[{\"type\":\"scatterpolargl\",\"marker\":{\"colorbar\":{\"outlinewidth\":0,\"ticks\":\"\"}}}],\"bar\":[{\"error_x\":{\"color\":\"#2a3f5f\"},\"error_y\":{\"color\":\"#2a3f5f\"},\"marker\":{\"line\":{\"color\":\"#E5ECF6\",\"width\":0.5},\"pattern\":{\"fillmode\":\"overlay\",\"size\":10,\"solidity\":0.2}},\"type\":\"bar\"}],\"scattergeo\":[{\"type\":\"scattergeo\",\"marker\":{\"colorbar\":{\"outlinewidth\":0,\"ticks\":\"\"}}}],\"scatterpolar\":[{\"type\":\"scatterpolar\",\"marker\":{\"colorbar\":{\"outlinewidth\":0,\"ticks\":\"\"}}}],\"histogram\":[{\"marker\":{\"pattern\":{\"fillmode\":\"overlay\",\"size\":10,\"solidity\":0.2}},\"type\":\"histogram\"}],\"scattergl\":[{\"type\":\"scattergl\",\"marker\":{\"colorbar\":{\"outlinewidth\":0,\"ticks\":\"\"}}}],\"scatter3d\":[{\"type\":\"scatter3d\",\"line\":{\"colorbar\":{\"outlinewidth\":0,\"ticks\":\"\"}},\"marker\":{\"colorbar\":{\"outlinewidth\":0,\"ticks\":\"\"}}}],\"scattermap\":[{\"type\":\"scattermap\",\"marker\":{\"colorbar\":{\"outlinewidth\":0,\"ticks\":\"\"}}}],\"scattermapbox\":[{\"type\":\"scattermapbox\",\"marker\":{\"colorbar\":{\"outlinewidth\":0,\"ticks\":\"\"}}}],\"scatterternary\":[{\"type\":\"scatterternary\",\"marker\":{\"colorbar\":{\"outlinewidth\":0,\"ticks\":\"\"}}}],\"scattercarpet\":[{\"type\":\"scattercarpet\",\"marker\":{\"colorbar\":{\"outlinewidth\":0,\"ticks\":\"\"}}}],\"carpet\":[{\"aaxis\":{\"endlinecolor\":\"#2a3f5f\",\"gridcolor\":\"white\",\"linecolor\":\"white\",\"minorgridcolor\":\"white\",\"startlinecolor\":\"#2a3f5f\"},\"baxis\":{\"endlinecolor\":\"#2a3f5f\",\"gridcolor\":\"white\",\"linecolor\":\"white\",\"minorgridcolor\":\"white\",\"startlinecolor\":\"#2a3f5f\"},\"type\":\"carpet\"}],\"table\":[{\"cells\":{\"fill\":{\"color\":\"#EBF0F8\"},\"line\":{\"color\":\"white\"}},\"header\":{\"fill\":{\"color\":\"#C8D4E3\"},\"line\":{\"color\":\"white\"}},\"type\":\"table\"}],\"barpolar\":[{\"marker\":{\"line\":{\"color\":\"#E5ECF6\",\"width\":0.5},\"pattern\":{\"fillmode\":\"overlay\",\"size\":10,\"solidity\":0.2}},\"type\":\"barpolar\"}],\"pie\":[{\"automargin\":true,\"type\":\"pie\"}]},\"layout\":{\"autotypenumbers\":\"strict\",\"colorway\":[\"#636efa\",\"#EF553B\",\"#00cc96\",\"#ab63fa\",\"#FFA15A\",\"#19d3f3\",\"#FF6692\",\"#B6E880\",\"#FF97FF\",\"#FECB52\"],\"font\":{\"color\":\"#2a3f5f\"},\"hovermode\":\"closest\",\"hoverlabel\":{\"align\":\"left\"},\"paper_bgcolor\":\"white\",\"plot_bgcolor\":\"#E5ECF6\",\"polar\":{\"bgcolor\":\"#E5ECF6\",\"angularaxis\":{\"gridcolor\":\"white\",\"linecolor\":\"white\",\"ticks\":\"\"},\"radialaxis\":{\"gridcolor\":\"white\",\"linecolor\":\"white\",\"ticks\":\"\"}},\"ternary\":{\"bgcolor\":\"#E5ECF6\",\"aaxis\":{\"gridcolor\":\"white\",\"linecolor\":\"white\",\"ticks\":\"\"},\"baxis\":{\"gridcolor\":\"white\",\"linecolor\":\"white\",\"ticks\":\"\"},\"caxis\":{\"gridcolor\":\"white\",\"linecolor\":\"white\",\"ticks\":\"\"}},\"coloraxis\":{\"colorbar\":{\"outlinewidth\":0,\"ticks\":\"\"}},\"colorscale\":{\"sequential\":[[0.0,\"#0d0887\"],[0.1111111111111111,\"#46039f\"],[0.2222222222222222,\"#7201a8\"],[0.3333333333333333,\"#9c179e\"],[0.4444444444444444,\"#bd3786\"],[0.5555555555555556,\"#d8576b\"],[0.6666666666666666,\"#ed7953\"],[0.7777777777777778,\"#fb9f3a\"],[0.8888888888888888,\"#fdca26\"],[1.0,\"#f0f921\"]],\"sequentialminus\":[[0.0,\"#0d0887\"],[0.1111111111111111,\"#46039f\"],[0.2222222222222222,\"#7201a8\"],[0.3333333333333333,\"#9c179e\"],[0.4444444444444444,\"#bd3786\"],[0.5555555555555556,\"#d8576b\"],[0.6666666666666666,\"#ed7953\"],[0.7777777777777778,\"#fb9f3a\"],[0.8888888888888888,\"#fdca26\"],[1.0,\"#f0f921\"]],\"diverging\":[[0,\"#8e0152\"],[0.1,\"#c51b7d\"],[0.2,\"#de77ae\"],[0.3,\"#f1b6da\"],[0.4,\"#fde0ef\"],[0.5,\"#f7f7f7\"],[0.6,\"#e6f5d0\"],[0.7,\"#b8e186\"],[0.8,\"#7fbc41\"],[0.9,\"#4d9221\"],[1,\"#276419\"]]},\"xaxis\":{\"gridcolor\":\"white\",\"linecolor\":\"white\",\"ticks\":\"\",\"title\":{\"standoff\":15},\"zerolinecolor\":\"white\",\"automargin\":true,\"zerolinewidth\":2},\"yaxis\":{\"gridcolor\":\"white\",\"linecolor\":\"white\",\"ticks\":\"\",\"title\":{\"standoff\":15},\"zerolinecolor\":\"white\",\"automargin\":true,\"zerolinewidth\":2},\"scene\":{\"xaxis\":{\"backgroundcolor\":\"#E5ECF6\",\"gridcolor\":\"white\",\"linecolor\":\"white\",\"showbackground\":true,\"ticks\":\"\",\"zerolinecolor\":\"white\",\"gridwidth\":2},\"yaxis\":{\"backgroundcolor\":\"#E5ECF6\",\"gridcolor\":\"white\",\"linecolor\":\"white\",\"showbackground\":true,\"ticks\":\"\",\"zerolinecolor\":\"white\",\"gridwidth\":2},\"zaxis\":{\"backgroundcolor\":\"#E5ECF6\",\"gridcolor\":\"white\",\"linecolor\":\"white\",\"showbackground\":true,\"ticks\":\"\",\"zerolinecolor\":\"white\",\"gridwidth\":2}},\"shapedefaults\":{\"line\":{\"color\":\"#2a3f5f\"}},\"annotationdefaults\":{\"arrowcolor\":\"#2a3f5f\",\"arrowhead\":0,\"arrowwidth\":1},\"geo\":{\"bgcolor\":\"white\",\"landcolor\":\"#E5ECF6\",\"subunitcolor\":\"white\",\"showland\":true,\"showlakes\":true,\"lakecolor\":\"white\"},\"title\":{\"x\":0.05},\"mapbox\":{\"style\":\"light\"}}}},                        {\"responsive\": true}                    )                };            </script>        </div>',\n",
       " ('Upper - sexta-feira',\n",
       "  'Incline Chest Press (Machine)'): '<div>                        <script type=\"text/javascript\">window.PlotlyConfig = {MathJaxConfig: \\'local\\'};</script>\\n        <script charset=\"utf-8\" src=\"https://cdn.plot.ly/plotly-3.0.1.min.js\"></script>                <div id=\"516bda3d-017a-4df0-b5ec-c993ad6982ca\" class=\"plotly-graph-div\" style=\"height:100%; width:100%;\"></div>            <script type=\"text/javascript\">                window.PLOTLYENV=window.PLOTLYENV || {};                                if (document.getElementById(\"516bda3d-017a-4df0-b5ec-c993ad6982ca\")) {                    Plotly.newPlot(                        \"516bda3d-017a-4df0-b5ec-c993ad6982ca\",                        [{\"mode\":\"lines+markers+text\",\"name\":\"Top Set (Failure)\",\"text\":[\"5 reps\",\"4 reps\",\"4 reps\",\"6 reps\",\"5 reps\"],\"textposition\":\"top center\",\"visible\":true,\"x\":[\"2025-04-11\",\"2025-04-04\",\"2025-03-28\",\"2025-03-21\",\"2025-03-14\"],\"y\":{\"dtype\":\"f8\",\"bdata\":\"AAAAAAAgV0AAAAAAACBXQAAAAAAAQFpAAAAAAABAWkAAAAAAAMBXQA==\"},\"type\":\"scatter\"},{\"mode\":\"lines+markers+text\",\"name\":\"Work Set 1\",\"text\":[\"6 reps\",\"9 reps\",\"5 reps\",\"6 reps\",\"6 reps\"],\"textposition\":\"top center\",\"visible\":false,\"x\":[\"2025-04-11\",\"2025-04-04\",\"2025-03-28\",\"2025-03-21\",\"2025-03-14\"],\"y\":{\"dtype\":\"f8\",\"bdata\":\"AAAAAACAVkAAAAAAAEBVQAAAAAAAQFpAAAAAAAAAWUAAAAAAAIBWQA==\"},\"type\":\"scatter\"},{\"mode\":\"lines+markers+text\",\"name\":\"Work Set 2\",\"text\":[\"6 reps\"],\"textposition\":\"top center\",\"visible\":false,\"x\":[\"2025-03-14\"],\"y\":{\"dtype\":\"f8\",\"bdata\":\"AAAAAACAVkA=\"},\"type\":\"scatter\"}],                        {\"hovermode\":\"closest\",\"title\":{\"text\":\"Evolu\\\\u00e7\\\\u00e3o no Incline Chest Press (Machine) (Upper - sexta-feira)\"},\"updatemenus\":[{\"active\":0,\"bgcolor\":\"white\",\"bordercolor\":\"gray\",\"borderwidth\":1,\"buttons\":[{\"args\":[{\"x\":[[\"2025-04-11\",\"2025-04-04\",\"2025-03-28\",\"2025-03-21\",\"2025-03-14\"],[\"2025-04-11\",\"2025-04-04\",\"2025-03-28\",\"2025-03-21\",\"2025-03-14\"],[\"2025-03-14\"]],\"y\":[[92.5,92.5,105.0,105.0,95.0],[90.0,85.0,105.0,100.0,90.0],[90.0]],\"text\":[[\"5 reps\",\"4 reps\",\"4 reps\",\"6 reps\",\"5 reps\"],[\"6 reps\",\"9 reps\",\"5 reps\",\"6 reps\",\"6 reps\"],[\"6 reps\"]]},{\"updatemenus[1].buttons\":[{\"label\":\"Top Set (Failure)\",\"method\":\"update\",\"args\":[{\"visible\":[true,false,false]}]},{\"label\":\"Work Set 1\",\"method\":\"update\",\"args\":[{\"visible\":[false,true,false]}]},{\"label\":\"Work Set 2\",\"method\":\"update\",\"args\":[{\"visible\":[false,false,true]}]},{\"label\":\"Todas as s\\\\u00e9ries\",\"method\":\"update\",\"args\":[{\"visible\":[true,true,true]}]}],\"title\":\"Evolu\\\\u00e7\\\\u00e3o no Incline Chest Press (Machine) (Upper - sexta-feira) - \\\\u00daltimos 30 dias\"}],\"label\":\"\\\\u00daltimos 30 dias\",\"method\":\"update\"},{\"args\":[{\"x\":[[\"2025-04-11\",\"2025-04-04\",\"2025-03-28\",\"2025-03-21\",\"2025-03-14\",\"2025-03-07\",\"2025-02-28\",\"2025-02-21\"],[\"2025-04-11\",\"2025-04-04\",\"2025-03-28\",\"2025-03-21\",\"2025-03-14\",\"2025-03-07\",\"2025-02-28\",\"2025-02-21\"],[\"2025-03-14\",\"2025-03-07\",\"2025-02-28\",\"2025-02-21\"]],\"y\":[[92.5,92.5,105.0,105.0,95.0,105.0,90.0,100.0],[90.0,85.0,105.0,100.0,90.0,100.0,90.0,100.0],[90.0,100.0,90.0,100.0]],\"text\":[[\"5 reps\",\"4 reps\",\"4 reps\",\"6 reps\",\"5 reps\",\"5 reps\",\"4 reps\",\"4 reps\"],[\"6 reps\",\"9 reps\",\"5 reps\",\"6 reps\",\"6 reps\",\"6 reps\",\"6 reps\",\"6 reps\"],[\"6 reps\",\"5 reps\",\"6 reps\",\"6 reps\"]]},{\"updatemenus[1].buttons\":[{\"label\":\"Top Set (Failure)\",\"method\":\"update\",\"args\":[{\"visible\":[true,false,false]}]},{\"label\":\"Work Set 1\",\"method\":\"update\",\"args\":[{\"visible\":[false,true,false]}]},{\"label\":\"Work Set 2\",\"method\":\"update\",\"args\":[{\"visible\":[false,false,true]}]},{\"label\":\"Todas as s\\\\u00e9ries\",\"method\":\"update\",\"args\":[{\"visible\":[true,true,true]}]}]}],\"label\":\"\\\\u00daltimos 60 dias\",\"method\":\"update\"},{\"args\":[{\"x\":[[\"2025-04-11\",\"2025-04-04\",\"2025-03-28\",\"2025-03-21\",\"2025-03-14\",\"2025-03-07\",\"2025-02-28\",\"2025-02-21\",\"2025-02-07\",\"2025-01-31\",\"2025-01-17\"],[\"2025-04-11\",\"2025-04-04\",\"2025-03-28\",\"2025-03-21\",\"2025-03-14\",\"2025-03-07\",\"2025-02-28\",\"2025-02-21\",\"2025-02-07\",\"2025-01-31\",\"2025-01-17\"],[\"2025-03-14\",\"2025-03-07\",\"2025-02-28\",\"2025-02-21\",\"2025-02-07\",\"2025-01-31\",\"2025-01-17\"]],\"y\":[[92.5,92.5,105.0,105.0,95.0,105.0,90.0,100.0,100.0,90.0,110.0],[90.0,85.0,105.0,100.0,90.0,100.0,90.0,100.0,100.0,110.0,110.0],[90.0,100.0,90.0,100.0,100.0,110.0,110.0]],\"text\":[[\"5 reps\",\"4 reps\",\"4 reps\",\"6 reps\",\"5 reps\",\"5 reps\",\"4 reps\",\"4 reps\",\"4 reps\",\"5 reps\",\"5 reps\"],[\"6 reps\",\"9 reps\",\"5 reps\",\"6 reps\",\"6 reps\",\"6 reps\",\"6 reps\",\"6 reps\",\"6 reps\",\"4 reps\",\"6 reps\"],[\"6 reps\",\"5 reps\",\"6 reps\",\"6 reps\",\"6 reps\",\"4 reps\",\"5 reps\"]]},{\"updatemenus[1].buttons\":[{\"label\":\"Top Set (Failure)\",\"method\":\"update\",\"args\":[{\"visible\":[true,false,false]}]},{\"label\":\"Work Set 1\",\"method\":\"update\",\"args\":[{\"visible\":[false,true,false]}]},{\"label\":\"Work Set 2\",\"method\":\"update\",\"args\":[{\"visible\":[false,false,true]}]},{\"label\":\"Todas as s\\\\u00e9ries\",\"method\":\"update\",\"args\":[{\"visible\":[true,true,true]}]}]}],\"label\":\"\\\\u00daltimos 90 dias\",\"method\":\"update\"}],\"direction\":\"down\",\"pad\":{\"r\":10,\"t\":10},\"showactive\":true,\"x\":0.6,\"xanchor\":\"left\",\"y\":1.2,\"yanchor\":\"top\"},{\"active\":0,\"bgcolor\":\"white\",\"bordercolor\":\"gray\",\"borderwidth\":1,\"buttons\":[{\"args\":[{\"visible\":[true,false,false]}],\"label\":\"Top Set (Failure)\",\"method\":\"update\"},{\"args\":[{\"visible\":[false,true,false]}],\"label\":\"Work Set 1\",\"method\":\"update\"},{\"args\":[{\"visible\":[false,false,true]}],\"label\":\"Work Set 2\",\"method\":\"update\"},{\"args\":[{\"visible\":[true,true,true]}],\"label\":\"Todas as s\\\\u00e9ries\",\"method\":\"update\"}],\"direction\":\"down\",\"pad\":{\"r\":10,\"t\":10},\"showactive\":true,\"x\":0.99,\"xanchor\":\"right\",\"y\":1.2,\"yanchor\":\"top\"}],\"xaxis\":{\"tickformat\":\"%d\\\\u002f%m\\\\u002f%Y\",\"title\":{\"text\":\"Data\"}},\"yaxis\":{\"title\":{\"text\":\"Peso (kg)\"}},\"template\":{\"data\":{\"histogram2dcontour\":[{\"type\":\"histogram2dcontour\",\"colorbar\":{\"outlinewidth\":0,\"ticks\":\"\"},\"colorscale\":[[0.0,\"#0d0887\"],[0.1111111111111111,\"#46039f\"],[0.2222222222222222,\"#7201a8\"],[0.3333333333333333,\"#9c179e\"],[0.4444444444444444,\"#bd3786\"],[0.5555555555555556,\"#d8576b\"],[0.6666666666666666,\"#ed7953\"],[0.7777777777777778,\"#fb9f3a\"],[0.8888888888888888,\"#fdca26\"],[1.0,\"#f0f921\"]]}],\"choropleth\":[{\"type\":\"choropleth\",\"colorbar\":{\"outlinewidth\":0,\"ticks\":\"\"}}],\"histogram2d\":[{\"type\":\"histogram2d\",\"colorbar\":{\"outlinewidth\":0,\"ticks\":\"\"},\"colorscale\":[[0.0,\"#0d0887\"],[0.1111111111111111,\"#46039f\"],[0.2222222222222222,\"#7201a8\"],[0.3333333333333333,\"#9c179e\"],[0.4444444444444444,\"#bd3786\"],[0.5555555555555556,\"#d8576b\"],[0.6666666666666666,\"#ed7953\"],[0.7777777777777778,\"#fb9f3a\"],[0.8888888888888888,\"#fdca26\"],[1.0,\"#f0f921\"]]}],\"heatmap\":[{\"type\":\"heatmap\",\"colorbar\":{\"outlinewidth\":0,\"ticks\":\"\"},\"colorscale\":[[0.0,\"#0d0887\"],[0.1111111111111111,\"#46039f\"],[0.2222222222222222,\"#7201a8\"],[0.3333333333333333,\"#9c179e\"],[0.4444444444444444,\"#bd3786\"],[0.5555555555555556,\"#d8576b\"],[0.6666666666666666,\"#ed7953\"],[0.7777777777777778,\"#fb9f3a\"],[0.8888888888888888,\"#fdca26\"],[1.0,\"#f0f921\"]]}],\"contourcarpet\":[{\"type\":\"contourcarpet\",\"colorbar\":{\"outlinewidth\":0,\"ticks\":\"\"}}],\"contour\":[{\"type\":\"contour\",\"colorbar\":{\"outlinewidth\":0,\"ticks\":\"\"},\"colorscale\":[[0.0,\"#0d0887\"],[0.1111111111111111,\"#46039f\"],[0.2222222222222222,\"#7201a8\"],[0.3333333333333333,\"#9c179e\"],[0.4444444444444444,\"#bd3786\"],[0.5555555555555556,\"#d8576b\"],[0.6666666666666666,\"#ed7953\"],[0.7777777777777778,\"#fb9f3a\"],[0.8888888888888888,\"#fdca26\"],[1.0,\"#f0f921\"]]}],\"surface\":[{\"type\":\"surface\",\"colorbar\":{\"outlinewidth\":0,\"ticks\":\"\"},\"colorscale\":[[0.0,\"#0d0887\"],[0.1111111111111111,\"#46039f\"],[0.2222222222222222,\"#7201a8\"],[0.3333333333333333,\"#9c179e\"],[0.4444444444444444,\"#bd3786\"],[0.5555555555555556,\"#d8576b\"],[0.6666666666666666,\"#ed7953\"],[0.7777777777777778,\"#fb9f3a\"],[0.8888888888888888,\"#fdca26\"],[1.0,\"#f0f921\"]]}],\"mesh3d\":[{\"type\":\"mesh3d\",\"colorbar\":{\"outlinewidth\":0,\"ticks\":\"\"}}],\"scatter\":[{\"fillpattern\":{\"fillmode\":\"overlay\",\"size\":10,\"solidity\":0.2},\"type\":\"scatter\"}],\"parcoords\":[{\"type\":\"parcoords\",\"line\":{\"colorbar\":{\"outlinewidth\":0,\"ticks\":\"\"}}}],\"scatterpolargl\":[{\"type\":\"scatterpolargl\",\"marker\":{\"colorbar\":{\"outlinewidth\":0,\"ticks\":\"\"}}}],\"bar\":[{\"error_x\":{\"color\":\"#2a3f5f\"},\"error_y\":{\"color\":\"#2a3f5f\"},\"marker\":{\"line\":{\"color\":\"#E5ECF6\",\"width\":0.5},\"pattern\":{\"fillmode\":\"overlay\",\"size\":10,\"solidity\":0.2}},\"type\":\"bar\"}],\"scattergeo\":[{\"type\":\"scattergeo\",\"marker\":{\"colorbar\":{\"outlinewidth\":0,\"ticks\":\"\"}}}],\"scatterpolar\":[{\"type\":\"scatterpolar\",\"marker\":{\"colorbar\":{\"outlinewidth\":0,\"ticks\":\"\"}}}],\"histogram\":[{\"marker\":{\"pattern\":{\"fillmode\":\"overlay\",\"size\":10,\"solidity\":0.2}},\"type\":\"histogram\"}],\"scattergl\":[{\"type\":\"scattergl\",\"marker\":{\"colorbar\":{\"outlinewidth\":0,\"ticks\":\"\"}}}],\"scatter3d\":[{\"type\":\"scatter3d\",\"line\":{\"colorbar\":{\"outlinewidth\":0,\"ticks\":\"\"}},\"marker\":{\"colorbar\":{\"outlinewidth\":0,\"ticks\":\"\"}}}],\"scattermap\":[{\"type\":\"scattermap\",\"marker\":{\"colorbar\":{\"outlinewidth\":0,\"ticks\":\"\"}}}],\"scattermapbox\":[{\"type\":\"scattermapbox\",\"marker\":{\"colorbar\":{\"outlinewidth\":0,\"ticks\":\"\"}}}],\"scatterternary\":[{\"type\":\"scatterternary\",\"marker\":{\"colorbar\":{\"outlinewidth\":0,\"ticks\":\"\"}}}],\"scattercarpet\":[{\"type\":\"scattercarpet\",\"marker\":{\"colorbar\":{\"outlinewidth\":0,\"ticks\":\"\"}}}],\"carpet\":[{\"aaxis\":{\"endlinecolor\":\"#2a3f5f\",\"gridcolor\":\"white\",\"linecolor\":\"white\",\"minorgridcolor\":\"white\",\"startlinecolor\":\"#2a3f5f\"},\"baxis\":{\"endlinecolor\":\"#2a3f5f\",\"gridcolor\":\"white\",\"linecolor\":\"white\",\"minorgridcolor\":\"white\",\"startlinecolor\":\"#2a3f5f\"},\"type\":\"carpet\"}],\"table\":[{\"cells\":{\"fill\":{\"color\":\"#EBF0F8\"},\"line\":{\"color\":\"white\"}},\"header\":{\"fill\":{\"color\":\"#C8D4E3\"},\"line\":{\"color\":\"white\"}},\"type\":\"table\"}],\"barpolar\":[{\"marker\":{\"line\":{\"color\":\"#E5ECF6\",\"width\":0.5},\"pattern\":{\"fillmode\":\"overlay\",\"size\":10,\"solidity\":0.2}},\"type\":\"barpolar\"}],\"pie\":[{\"automargin\":true,\"type\":\"pie\"}]},\"layout\":{\"autotypenumbers\":\"strict\",\"colorway\":[\"#636efa\",\"#EF553B\",\"#00cc96\",\"#ab63fa\",\"#FFA15A\",\"#19d3f3\",\"#FF6692\",\"#B6E880\",\"#FF97FF\",\"#FECB52\"],\"font\":{\"color\":\"#2a3f5f\"},\"hovermode\":\"closest\",\"hoverlabel\":{\"align\":\"left\"},\"paper_bgcolor\":\"white\",\"plot_bgcolor\":\"#E5ECF6\",\"polar\":{\"bgcolor\":\"#E5ECF6\",\"angularaxis\":{\"gridcolor\":\"white\",\"linecolor\":\"white\",\"ticks\":\"\"},\"radialaxis\":{\"gridcolor\":\"white\",\"linecolor\":\"white\",\"ticks\":\"\"}},\"ternary\":{\"bgcolor\":\"#E5ECF6\",\"aaxis\":{\"gridcolor\":\"white\",\"linecolor\":\"white\",\"ticks\":\"\"},\"baxis\":{\"gridcolor\":\"white\",\"linecolor\":\"white\",\"ticks\":\"\"},\"caxis\":{\"gridcolor\":\"white\",\"linecolor\":\"white\",\"ticks\":\"\"}},\"coloraxis\":{\"colorbar\":{\"outlinewidth\":0,\"ticks\":\"\"}},\"colorscale\":{\"sequential\":[[0.0,\"#0d0887\"],[0.1111111111111111,\"#46039f\"],[0.2222222222222222,\"#7201a8\"],[0.3333333333333333,\"#9c179e\"],[0.4444444444444444,\"#bd3786\"],[0.5555555555555556,\"#d8576b\"],[0.6666666666666666,\"#ed7953\"],[0.7777777777777778,\"#fb9f3a\"],[0.8888888888888888,\"#fdca26\"],[1.0,\"#f0f921\"]],\"sequentialminus\":[[0.0,\"#0d0887\"],[0.1111111111111111,\"#46039f\"],[0.2222222222222222,\"#7201a8\"],[0.3333333333333333,\"#9c179e\"],[0.4444444444444444,\"#bd3786\"],[0.5555555555555556,\"#d8576b\"],[0.6666666666666666,\"#ed7953\"],[0.7777777777777778,\"#fb9f3a\"],[0.8888888888888888,\"#fdca26\"],[1.0,\"#f0f921\"]],\"diverging\":[[0,\"#8e0152\"],[0.1,\"#c51b7d\"],[0.2,\"#de77ae\"],[0.3,\"#f1b6da\"],[0.4,\"#fde0ef\"],[0.5,\"#f7f7f7\"],[0.6,\"#e6f5d0\"],[0.7,\"#b8e186\"],[0.8,\"#7fbc41\"],[0.9,\"#4d9221\"],[1,\"#276419\"]]},\"xaxis\":{\"gridcolor\":\"white\",\"linecolor\":\"white\",\"ticks\":\"\",\"title\":{\"standoff\":15},\"zerolinecolor\":\"white\",\"automargin\":true,\"zerolinewidth\":2},\"yaxis\":{\"gridcolor\":\"white\",\"linecolor\":\"white\",\"ticks\":\"\",\"title\":{\"standoff\":15},\"zerolinecolor\":\"white\",\"automargin\":true,\"zerolinewidth\":2},\"scene\":{\"xaxis\":{\"backgroundcolor\":\"#E5ECF6\",\"gridcolor\":\"white\",\"linecolor\":\"white\",\"showbackground\":true,\"ticks\":\"\",\"zerolinecolor\":\"white\",\"gridwidth\":2},\"yaxis\":{\"backgroundcolor\":\"#E5ECF6\",\"gridcolor\":\"white\",\"linecolor\":\"white\",\"showbackground\":true,\"ticks\":\"\",\"zerolinecolor\":\"white\",\"gridwidth\":2},\"zaxis\":{\"backgroundcolor\":\"#E5ECF6\",\"gridcolor\":\"white\",\"linecolor\":\"white\",\"showbackground\":true,\"ticks\":\"\",\"zerolinecolor\":\"white\",\"gridwidth\":2}},\"shapedefaults\":{\"line\":{\"color\":\"#2a3f5f\"}},\"annotationdefaults\":{\"arrowcolor\":\"#2a3f5f\",\"arrowhead\":0,\"arrowwidth\":1},\"geo\":{\"bgcolor\":\"white\",\"landcolor\":\"#E5ECF6\",\"subunitcolor\":\"white\",\"showland\":true,\"showlakes\":true,\"lakecolor\":\"white\"},\"title\":{\"x\":0.05},\"mapbox\":{\"style\":\"light\"}}}},                        {\"responsive\": true}                    )                };            </script>        </div>',\n",
       " ('Upper - sexta-feira',\n",
       "  'Seated Cable Row - V Grip (Cable)'): '<div>                        <script type=\"text/javascript\">window.PlotlyConfig = {MathJaxConfig: \\'local\\'};</script>\\n        <script charset=\"utf-8\" src=\"https://cdn.plot.ly/plotly-3.0.1.min.js\"></script>                <div id=\"88e1f72f-4f6f-4a20-9d7e-4425a4db6d94\" class=\"plotly-graph-div\" style=\"height:100%; width:100%;\"></div>            <script type=\"text/javascript\">                window.PLOTLYENV=window.PLOTLYENV || {};                                if (document.getElementById(\"88e1f72f-4f6f-4a20-9d7e-4425a4db6d94\")) {                    Plotly.newPlot(                        \"88e1f72f-4f6f-4a20-9d7e-4425a4db6d94\",                        [{\"mode\":\"lines+markers+text\",\"name\":\"Top Set (Failure)\",\"text\":[\"5 reps\",\"5 reps\",\"4 reps\",\"5 reps\",\"3 reps\"],\"textposition\":\"top center\",\"visible\":true,\"x\":[\"2025-04-11\",\"2025-04-04\",\"2025-03-28\",\"2025-03-21\",\"2025-03-14\"],\"y\":{\"dtype\":\"f8\",\"bdata\":\"AAAAAABASkAAAAAAAABJQAAAAAAAIFJAAAAAAAAgUkAAAAAAACBSQA==\"},\"type\":\"scatter\"},{\"mode\":\"lines+markers+text\",\"name\":\"Work Set 1\",\"text\":[\"7 reps\",\"7 reps\",\"5 reps\",\"6 reps\",\"6 reps\"],\"textposition\":\"top center\",\"visible\":false,\"x\":[\"2025-04-11\",\"2025-04-04\",\"2025-03-28\",\"2025-03-21\",\"2025-03-14\"],\"y\":{\"dtype\":\"f8\",\"bdata\":\"AAAAAAAASUAAAAAAAMBHQAAAAAAAIFJAAAAAAACAUUAAAAAAAIBRQA==\"},\"type\":\"scatter\"}],                        {\"hovermode\":\"closest\",\"title\":{\"text\":\"Evolu\\\\u00e7\\\\u00e3o no Seated Cable Row - V Grip (Cable) (Upper - sexta-feira)\"},\"updatemenus\":[{\"active\":0,\"bgcolor\":\"white\",\"bordercolor\":\"gray\",\"borderwidth\":1,\"buttons\":[{\"args\":[{\"x\":[[\"2025-04-11\",\"2025-04-04\",\"2025-03-28\",\"2025-03-21\",\"2025-03-14\"],[\"2025-04-11\",\"2025-04-04\",\"2025-03-28\",\"2025-03-21\",\"2025-03-14\"]],\"y\":[[52.5,50.0,72.5,72.5,72.5],[50.0,47.5,72.5,70.0,70.0]],\"text\":[[\"5 reps\",\"5 reps\",\"4 reps\",\"5 reps\",\"3 reps\"],[\"7 reps\",\"7 reps\",\"5 reps\",\"6 reps\",\"6 reps\"]]},{\"updatemenus[1].buttons\":[{\"label\":\"Top Set (Failure)\",\"method\":\"update\",\"args\":[{\"visible\":[true,false]}]},{\"label\":\"Work Set 1\",\"method\":\"update\",\"args\":[{\"visible\":[false,true]}]},{\"label\":\"Todas as s\\\\u00e9ries\",\"method\":\"update\",\"args\":[{\"visible\":[true,true]}]}],\"title\":\"Evolu\\\\u00e7\\\\u00e3o no Seated Cable Row - V Grip (Cable) (Upper - sexta-feira) - \\\\u00daltimos 30 dias\"}],\"label\":\"\\\\u00daltimos 30 dias\",\"method\":\"update\"},{\"args\":[{\"x\":[[\"2025-04-11\",\"2025-04-04\",\"2025-03-28\",\"2025-03-21\",\"2025-03-14\",\"2025-03-07\",\"2025-02-28\",\"2025-02-21\"],[\"2025-04-11\",\"2025-04-04\",\"2025-03-28\",\"2025-03-21\",\"2025-03-14\",\"2025-03-07\",\"2025-02-28\",\"2025-02-21\"]],\"y\":[[52.5,50.0,72.5,72.5,72.5,70.0,65.0,67.5],[50.0,47.5,72.5,70.0,70.0,67.5,60.0,67.5]],\"text\":[[\"5 reps\",\"5 reps\",\"4 reps\",\"5 reps\",\"3 reps\",\"5 reps\",\"5 reps\",\"5 reps\"],[\"7 reps\",\"7 reps\",\"5 reps\",\"6 reps\",\"6 reps\",\"6 reps\",\"6 reps\",\"6 reps\"]]},{\"updatemenus[1].buttons\":[{\"label\":\"Top Set (Failure)\",\"method\":\"update\",\"args\":[{\"visible\":[true,false]}]},{\"label\":\"Work Set 1\",\"method\":\"update\",\"args\":[{\"visible\":[false,true]}]},{\"label\":\"Todas as s\\\\u00e9ries\",\"method\":\"update\",\"args\":[{\"visible\":[true,true]}]}]}],\"label\":\"\\\\u00daltimos 60 dias\",\"method\":\"update\"},{\"args\":[{\"x\":[[\"2025-04-11\",\"2025-04-04\",\"2025-03-28\",\"2025-03-21\",\"2025-03-14\",\"2025-03-07\",\"2025-02-28\",\"2025-02-21\",\"2025-02-07\",\"2025-01-31\",\"2025-01-17\"],[\"2025-04-11\",\"2025-04-04\",\"2025-03-28\",\"2025-03-21\",\"2025-03-14\",\"2025-03-07\",\"2025-02-28\",\"2025-02-21\",\"2025-02-07\",\"2025-01-31\",\"2025-01-17\"]],\"y\":[[52.5,50.0,72.5,72.5,72.5,70.0,65.0,67.5,67.5,62.5,62.5],[50.0,47.5,72.5,70.0,70.0,67.5,60.0,67.5,65.0,62.5,62.5]],\"text\":[[\"5 reps\",\"5 reps\",\"4 reps\",\"5 reps\",\"3 reps\",\"5 reps\",\"5 reps\",\"5 reps\",\"5 reps\",\"7 reps\",\"6 reps\"],[\"7 reps\",\"7 reps\",\"5 reps\",\"6 reps\",\"6 reps\",\"6 reps\",\"6 reps\",\"6 reps\",\"8 reps\",\"6 reps\",\"6 reps\"]]},{\"updatemenus[1].buttons\":[{\"label\":\"Top Set (Failure)\",\"method\":\"update\",\"args\":[{\"visible\":[true,false]}]},{\"label\":\"Work Set 1\",\"method\":\"update\",\"args\":[{\"visible\":[false,true]}]},{\"label\":\"Todas as s\\\\u00e9ries\",\"method\":\"update\",\"args\":[{\"visible\":[true,true]}]}]}],\"label\":\"\\\\u00daltimos 90 dias\",\"method\":\"update\"}],\"direction\":\"down\",\"pad\":{\"r\":10,\"t\":10},\"showactive\":true,\"x\":0.6,\"xanchor\":\"left\",\"y\":1.2,\"yanchor\":\"top\"},{\"active\":0,\"bgcolor\":\"white\",\"bordercolor\":\"gray\",\"borderwidth\":1,\"buttons\":[{\"args\":[{\"visible\":[true,false]}],\"label\":\"Top Set (Failure)\",\"method\":\"update\"},{\"args\":[{\"visible\":[false,true]}],\"label\":\"Work Set 1\",\"method\":\"update\"},{\"args\":[{\"visible\":[true,true]}],\"label\":\"Todas as s\\\\u00e9ries\",\"method\":\"update\"}],\"direction\":\"down\",\"pad\":{\"r\":10,\"t\":10},\"showactive\":true,\"x\":0.99,\"xanchor\":\"right\",\"y\":1.2,\"yanchor\":\"top\"}],\"xaxis\":{\"tickformat\":\"%d\\\\u002f%m\\\\u002f%Y\",\"title\":{\"text\":\"Data\"}},\"yaxis\":{\"title\":{\"text\":\"Peso (kg)\"}},\"template\":{\"data\":{\"histogram2dcontour\":[{\"type\":\"histogram2dcontour\",\"colorbar\":{\"outlinewidth\":0,\"ticks\":\"\"},\"colorscale\":[[0.0,\"#0d0887\"],[0.1111111111111111,\"#46039f\"],[0.2222222222222222,\"#7201a8\"],[0.3333333333333333,\"#9c179e\"],[0.4444444444444444,\"#bd3786\"],[0.5555555555555556,\"#d8576b\"],[0.6666666666666666,\"#ed7953\"],[0.7777777777777778,\"#fb9f3a\"],[0.8888888888888888,\"#fdca26\"],[1.0,\"#f0f921\"]]}],\"choropleth\":[{\"type\":\"choropleth\",\"colorbar\":{\"outlinewidth\":0,\"ticks\":\"\"}}],\"histogram2d\":[{\"type\":\"histogram2d\",\"colorbar\":{\"outlinewidth\":0,\"ticks\":\"\"},\"colorscale\":[[0.0,\"#0d0887\"],[0.1111111111111111,\"#46039f\"],[0.2222222222222222,\"#7201a8\"],[0.3333333333333333,\"#9c179e\"],[0.4444444444444444,\"#bd3786\"],[0.5555555555555556,\"#d8576b\"],[0.6666666666666666,\"#ed7953\"],[0.7777777777777778,\"#fb9f3a\"],[0.8888888888888888,\"#fdca26\"],[1.0,\"#f0f921\"]]}],\"heatmap\":[{\"type\":\"heatmap\",\"colorbar\":{\"outlinewidth\":0,\"ticks\":\"\"},\"colorscale\":[[0.0,\"#0d0887\"],[0.1111111111111111,\"#46039f\"],[0.2222222222222222,\"#7201a8\"],[0.3333333333333333,\"#9c179e\"],[0.4444444444444444,\"#bd3786\"],[0.5555555555555556,\"#d8576b\"],[0.6666666666666666,\"#ed7953\"],[0.7777777777777778,\"#fb9f3a\"],[0.8888888888888888,\"#fdca26\"],[1.0,\"#f0f921\"]]}],\"contourcarpet\":[{\"type\":\"contourcarpet\",\"colorbar\":{\"outlinewidth\":0,\"ticks\":\"\"}}],\"contour\":[{\"type\":\"contour\",\"colorbar\":{\"outlinewidth\":0,\"ticks\":\"\"},\"colorscale\":[[0.0,\"#0d0887\"],[0.1111111111111111,\"#46039f\"],[0.2222222222222222,\"#7201a8\"],[0.3333333333333333,\"#9c179e\"],[0.4444444444444444,\"#bd3786\"],[0.5555555555555556,\"#d8576b\"],[0.6666666666666666,\"#ed7953\"],[0.7777777777777778,\"#fb9f3a\"],[0.8888888888888888,\"#fdca26\"],[1.0,\"#f0f921\"]]}],\"surface\":[{\"type\":\"surface\",\"colorbar\":{\"outlinewidth\":0,\"ticks\":\"\"},\"colorscale\":[[0.0,\"#0d0887\"],[0.1111111111111111,\"#46039f\"],[0.2222222222222222,\"#7201a8\"],[0.3333333333333333,\"#9c179e\"],[0.4444444444444444,\"#bd3786\"],[0.5555555555555556,\"#d8576b\"],[0.6666666666666666,\"#ed7953\"],[0.7777777777777778,\"#fb9f3a\"],[0.8888888888888888,\"#fdca26\"],[1.0,\"#f0f921\"]]}],\"mesh3d\":[{\"type\":\"mesh3d\",\"colorbar\":{\"outlinewidth\":0,\"ticks\":\"\"}}],\"scatter\":[{\"fillpattern\":{\"fillmode\":\"overlay\",\"size\":10,\"solidity\":0.2},\"type\":\"scatter\"}],\"parcoords\":[{\"type\":\"parcoords\",\"line\":{\"colorbar\":{\"outlinewidth\":0,\"ticks\":\"\"}}}],\"scatterpolargl\":[{\"type\":\"scatterpolargl\",\"marker\":{\"colorbar\":{\"outlinewidth\":0,\"ticks\":\"\"}}}],\"bar\":[{\"error_x\":{\"color\":\"#2a3f5f\"},\"error_y\":{\"color\":\"#2a3f5f\"},\"marker\":{\"line\":{\"color\":\"#E5ECF6\",\"width\":0.5},\"pattern\":{\"fillmode\":\"overlay\",\"size\":10,\"solidity\":0.2}},\"type\":\"bar\"}],\"scattergeo\":[{\"type\":\"scattergeo\",\"marker\":{\"colorbar\":{\"outlinewidth\":0,\"ticks\":\"\"}}}],\"scatterpolar\":[{\"type\":\"scatterpolar\",\"marker\":{\"colorbar\":{\"outlinewidth\":0,\"ticks\":\"\"}}}],\"histogram\":[{\"marker\":{\"pattern\":{\"fillmode\":\"overlay\",\"size\":10,\"solidity\":0.2}},\"type\":\"histogram\"}],\"scattergl\":[{\"type\":\"scattergl\",\"marker\":{\"colorbar\":{\"outlinewidth\":0,\"ticks\":\"\"}}}],\"scatter3d\":[{\"type\":\"scatter3d\",\"line\":{\"colorbar\":{\"outlinewidth\":0,\"ticks\":\"\"}},\"marker\":{\"colorbar\":{\"outlinewidth\":0,\"ticks\":\"\"}}}],\"scattermap\":[{\"type\":\"scattermap\",\"marker\":{\"colorbar\":{\"outlinewidth\":0,\"ticks\":\"\"}}}],\"scattermapbox\":[{\"type\":\"scattermapbox\",\"marker\":{\"colorbar\":{\"outlinewidth\":0,\"ticks\":\"\"}}}],\"scatterternary\":[{\"type\":\"scatterternary\",\"marker\":{\"colorbar\":{\"outlinewidth\":0,\"ticks\":\"\"}}}],\"scattercarpet\":[{\"type\":\"scattercarpet\",\"marker\":{\"colorbar\":{\"outlinewidth\":0,\"ticks\":\"\"}}}],\"carpet\":[{\"aaxis\":{\"endlinecolor\":\"#2a3f5f\",\"gridcolor\":\"white\",\"linecolor\":\"white\",\"minorgridcolor\":\"white\",\"startlinecolor\":\"#2a3f5f\"},\"baxis\":{\"endlinecolor\":\"#2a3f5f\",\"gridcolor\":\"white\",\"linecolor\":\"white\",\"minorgridcolor\":\"white\",\"startlinecolor\":\"#2a3f5f\"},\"type\":\"carpet\"}],\"table\":[{\"cells\":{\"fill\":{\"color\":\"#EBF0F8\"},\"line\":{\"color\":\"white\"}},\"header\":{\"fill\":{\"color\":\"#C8D4E3\"},\"line\":{\"color\":\"white\"}},\"type\":\"table\"}],\"barpolar\":[{\"marker\":{\"line\":{\"color\":\"#E5ECF6\",\"width\":0.5},\"pattern\":{\"fillmode\":\"overlay\",\"size\":10,\"solidity\":0.2}},\"type\":\"barpolar\"}],\"pie\":[{\"automargin\":true,\"type\":\"pie\"}]},\"layout\":{\"autotypenumbers\":\"strict\",\"colorway\":[\"#636efa\",\"#EF553B\",\"#00cc96\",\"#ab63fa\",\"#FFA15A\",\"#19d3f3\",\"#FF6692\",\"#B6E880\",\"#FF97FF\",\"#FECB52\"],\"font\":{\"color\":\"#2a3f5f\"},\"hovermode\":\"closest\",\"hoverlabel\":{\"align\":\"left\"},\"paper_bgcolor\":\"white\",\"plot_bgcolor\":\"#E5ECF6\",\"polar\":{\"bgcolor\":\"#E5ECF6\",\"angularaxis\":{\"gridcolor\":\"white\",\"linecolor\":\"white\",\"ticks\":\"\"},\"radialaxis\":{\"gridcolor\":\"white\",\"linecolor\":\"white\",\"ticks\":\"\"}},\"ternary\":{\"bgcolor\":\"#E5ECF6\",\"aaxis\":{\"gridcolor\":\"white\",\"linecolor\":\"white\",\"ticks\":\"\"},\"baxis\":{\"gridcolor\":\"white\",\"linecolor\":\"white\",\"ticks\":\"\"},\"caxis\":{\"gridcolor\":\"white\",\"linecolor\":\"white\",\"ticks\":\"\"}},\"coloraxis\":{\"colorbar\":{\"outlinewidth\":0,\"ticks\":\"\"}},\"colorscale\":{\"sequential\":[[0.0,\"#0d0887\"],[0.1111111111111111,\"#46039f\"],[0.2222222222222222,\"#7201a8\"],[0.3333333333333333,\"#9c179e\"],[0.4444444444444444,\"#bd3786\"],[0.5555555555555556,\"#d8576b\"],[0.6666666666666666,\"#ed7953\"],[0.7777777777777778,\"#fb9f3a\"],[0.8888888888888888,\"#fdca26\"],[1.0,\"#f0f921\"]],\"sequentialminus\":[[0.0,\"#0d0887\"],[0.1111111111111111,\"#46039f\"],[0.2222222222222222,\"#7201a8\"],[0.3333333333333333,\"#9c179e\"],[0.4444444444444444,\"#bd3786\"],[0.5555555555555556,\"#d8576b\"],[0.6666666666666666,\"#ed7953\"],[0.7777777777777778,\"#fb9f3a\"],[0.8888888888888888,\"#fdca26\"],[1.0,\"#f0f921\"]],\"diverging\":[[0,\"#8e0152\"],[0.1,\"#c51b7d\"],[0.2,\"#de77ae\"],[0.3,\"#f1b6da\"],[0.4,\"#fde0ef\"],[0.5,\"#f7f7f7\"],[0.6,\"#e6f5d0\"],[0.7,\"#b8e186\"],[0.8,\"#7fbc41\"],[0.9,\"#4d9221\"],[1,\"#276419\"]]},\"xaxis\":{\"gridcolor\":\"white\",\"linecolor\":\"white\",\"ticks\":\"\",\"title\":{\"standoff\":15},\"zerolinecolor\":\"white\",\"automargin\":true,\"zerolinewidth\":2},\"yaxis\":{\"gridcolor\":\"white\",\"linecolor\":\"white\",\"ticks\":\"\",\"title\":{\"standoff\":15},\"zerolinecolor\":\"white\",\"automargin\":true,\"zerolinewidth\":2},\"scene\":{\"xaxis\":{\"backgroundcolor\":\"#E5ECF6\",\"gridcolor\":\"white\",\"linecolor\":\"white\",\"showbackground\":true,\"ticks\":\"\",\"zerolinecolor\":\"white\",\"gridwidth\":2},\"yaxis\":{\"backgroundcolor\":\"#E5ECF6\",\"gridcolor\":\"white\",\"linecolor\":\"white\",\"showbackground\":true,\"ticks\":\"\",\"zerolinecolor\":\"white\",\"gridwidth\":2},\"zaxis\":{\"backgroundcolor\":\"#E5ECF6\",\"gridcolor\":\"white\",\"linecolor\":\"white\",\"showbackground\":true,\"ticks\":\"\",\"zerolinecolor\":\"white\",\"gridwidth\":2}},\"shapedefaults\":{\"line\":{\"color\":\"#2a3f5f\"}},\"annotationdefaults\":{\"arrowcolor\":\"#2a3f5f\",\"arrowhead\":0,\"arrowwidth\":1},\"geo\":{\"bgcolor\":\"white\",\"landcolor\":\"#E5ECF6\",\"subunitcolor\":\"white\",\"showland\":true,\"showlakes\":true,\"lakecolor\":\"white\"},\"title\":{\"x\":0.05},\"mapbox\":{\"style\":\"light\"}}}},                        {\"responsive\": true}                    )                };            </script>        </div>',\n",
       " ('Upper - sexta-feira',\n",
       "  'Preacher Curl (Machine)'): '<div>                        <script type=\"text/javascript\">window.PlotlyConfig = {MathJaxConfig: \\'local\\'};</script>\\n        <script charset=\"utf-8\" src=\"https://cdn.plot.ly/plotly-3.0.1.min.js\"></script>                <div id=\"feb501b0-f647-4fcb-956a-b1649f6fc870\" class=\"plotly-graph-div\" style=\"height:100%; width:100%;\"></div>            <script type=\"text/javascript\">                window.PLOTLYENV=window.PLOTLYENV || {};                                if (document.getElementById(\"feb501b0-f647-4fcb-956a-b1649f6fc870\")) {                    Plotly.newPlot(                        \"feb501b0-f647-4fcb-956a-b1649f6fc870\",                        [{\"mode\":\"lines+markers+text\",\"name\":\"Top Set (Failure)\",\"text\":[\"5 reps\",\"5 reps\",\"4 reps\",\"4 reps\",\"4 reps\"],\"textposition\":\"top center\",\"visible\":true,\"x\":[\"2025-04-11\",\"2025-04-04\",\"2025-03-28\",\"2025-03-21\",\"2025-03-14\"],\"y\":{\"dtype\":\"f8\",\"bdata\":\"AAAAAADAR0AAAAAAAEBFQAAAAAAAgFFAAAAAAACAUUAAAAAAAOBQQA==\"},\"type\":\"scatter\"},{\"mode\":\"lines+markers+text\",\"name\":\"Work Set 1\",\"text\":[\"6 reps\",\"6 reps\",\"5 reps\",\"6 reps\",\"6 reps\"],\"textposition\":\"top center\",\"visible\":false,\"x\":[\"2025-04-11\",\"2025-04-04\",\"2025-03-28\",\"2025-03-21\",\"2025-03-14\"],\"y\":{\"dtype\":\"f8\",\"bdata\":\"AAAAAACARkAAAAAAAEBKQAAAAAAAgFFAAAAAAADgUEAAAAAAAEBQQA==\"},\"type\":\"scatter\"},{\"mode\":\"lines+markers+text\",\"name\":\"Work Set 2\",\"text\":[],\"textposition\":\"top center\",\"visible\":false,\"x\":[],\"y\":[],\"type\":\"scatter\"}],                        {\"hovermode\":\"closest\",\"title\":{\"text\":\"Evolu\\\\u00e7\\\\u00e3o no Preacher Curl (Machine) (Upper - sexta-feira)\"},\"updatemenus\":[{\"active\":0,\"bgcolor\":\"white\",\"bordercolor\":\"gray\",\"borderwidth\":1,\"buttons\":[{\"args\":[{\"x\":[[\"2025-04-11\",\"2025-04-04\",\"2025-03-28\",\"2025-03-21\",\"2025-03-14\"],[\"2025-04-11\",\"2025-04-04\",\"2025-03-28\",\"2025-03-21\",\"2025-03-14\"],[]],\"y\":[[47.5,42.5,70.0,70.0,67.5],[45.0,52.5,70.0,67.5,65.0],[]],\"text\":[[\"5 reps\",\"5 reps\",\"4 reps\",\"4 reps\",\"4 reps\"],[\"6 reps\",\"6 reps\",\"5 reps\",\"6 reps\",\"6 reps\"],[]]},{\"updatemenus[1].buttons\":[{\"label\":\"Top Set (Failure)\",\"method\":\"update\",\"args\":[{\"visible\":[true,false,false]}]},{\"label\":\"Work Set 1\",\"method\":\"update\",\"args\":[{\"visible\":[false,true,false]}]},{\"label\":\"Todas as s\\\\u00e9ries\",\"method\":\"update\",\"args\":[{\"visible\":[true,true,false]}]}],\"title\":\"Evolu\\\\u00e7\\\\u00e3o no Preacher Curl (Machine) (Upper - sexta-feira) - \\\\u00daltimos 30 dias\"}],\"label\":\"\\\\u00daltimos 30 dias\",\"method\":\"update\"},{\"args\":[{\"x\":[[\"2025-04-11\",\"2025-04-04\",\"2025-03-28\",\"2025-03-21\",\"2025-03-14\",\"2025-03-07\",\"2025-02-28\",\"2025-02-21\"],[\"2025-04-11\",\"2025-04-04\",\"2025-03-28\",\"2025-03-21\",\"2025-03-14\",\"2025-03-07\",\"2025-02-28\",\"2025-02-21\"],[]],\"y\":[[47.5,42.5,70.0,70.0,67.5,65.0,62.5,60.0],[45.0,52.5,70.0,67.5,65.0,62.5,60.0,60.0],[]],\"text\":[[\"5 reps\",\"5 reps\",\"4 reps\",\"4 reps\",\"4 reps\",\"5 reps\",\"4 reps\",\"4 reps\"],[\"6 reps\",\"6 reps\",\"5 reps\",\"6 reps\",\"6 reps\",\"6 reps\",\"6 reps\",\"6 reps\"],[]]},{\"updatemenus[1].buttons\":[{\"label\":\"Top Set (Failure)\",\"method\":\"update\",\"args\":[{\"visible\":[true,false,false]}]},{\"label\":\"Work Set 1\",\"method\":\"update\",\"args\":[{\"visible\":[false,true,false]}]},{\"label\":\"Todas as s\\\\u00e9ries\",\"method\":\"update\",\"args\":[{\"visible\":[true,true,false]}]}]}],\"label\":\"\\\\u00daltimos 60 dias\",\"method\":\"update\"},{\"args\":[{\"x\":[[\"2025-04-11\",\"2025-04-04\",\"2025-03-28\",\"2025-03-21\",\"2025-03-14\",\"2025-03-07\",\"2025-02-28\",\"2025-02-21\",\"2025-02-07\",\"2025-01-31\",\"2025-01-17\"],[\"2025-04-11\",\"2025-04-04\",\"2025-03-28\",\"2025-03-21\",\"2025-03-14\",\"2025-03-07\",\"2025-02-28\",\"2025-02-21\",\"2025-02-07\",\"2025-01-31\",\"2025-01-17\"],[\"2025-02-07\",\"2025-01-31\",\"2025-01-17\"]],\"y\":[[47.5,42.5,70.0,70.0,67.5,65.0,62.5,60.0,60.0,60.0,60.0],[45.0,52.5,70.0,67.5,65.0,62.5,60.0,60.0,60.0,60.0,57.5],[60.0,60.0,57.5]],\"text\":[[\"5 reps\",\"5 reps\",\"4 reps\",\"4 reps\",\"4 reps\",\"5 reps\",\"4 reps\",\"4 reps\",\"5 reps\",\"5 reps\",\"5 reps\"],[\"6 reps\",\"6 reps\",\"5 reps\",\"6 reps\",\"6 reps\",\"6 reps\",\"6 reps\",\"6 reps\",\"6 reps\",\"6 reps\",\"6 reps\"],[\"5 reps\",\"5 reps\",\"6 reps\"]]},{\"updatemenus[1].buttons\":[{\"label\":\"Top Set (Failure)\",\"method\":\"update\",\"args\":[{\"visible\":[true,false,false]}]},{\"label\":\"Work Set 1\",\"method\":\"update\",\"args\":[{\"visible\":[false,true,false]}]},{\"label\":\"Work Set 2\",\"method\":\"update\",\"args\":[{\"visible\":[false,false,true]}]},{\"label\":\"Todas as s\\\\u00e9ries\",\"method\":\"update\",\"args\":[{\"visible\":[true,true,true]}]}]}],\"label\":\"\\\\u00daltimos 90 dias\",\"method\":\"update\"}],\"direction\":\"down\",\"pad\":{\"r\":10,\"t\":10},\"showactive\":true,\"x\":0.6,\"xanchor\":\"left\",\"y\":1.2,\"yanchor\":\"top\"},{\"active\":0,\"bgcolor\":\"white\",\"bordercolor\":\"gray\",\"borderwidth\":1,\"buttons\":[{\"args\":[{\"visible\":[true,false,false]}],\"label\":\"Top Set (Failure)\",\"method\":\"update\"},{\"args\":[{\"visible\":[false,true,false]}],\"label\":\"Work Set 1\",\"method\":\"update\"},{\"args\":[{\"visible\":[true,true,false]}],\"label\":\"Todas as s\\\\u00e9ries\",\"method\":\"update\"}],\"direction\":\"down\",\"pad\":{\"r\":10,\"t\":10},\"showactive\":true,\"x\":0.99,\"xanchor\":\"right\",\"y\":1.2,\"yanchor\":\"top\"}],\"xaxis\":{\"tickformat\":\"%d\\\\u002f%m\\\\u002f%Y\",\"title\":{\"text\":\"Data\"}},\"yaxis\":{\"title\":{\"text\":\"Peso (kg)\"}},\"template\":{\"data\":{\"histogram2dcontour\":[{\"type\":\"histogram2dcontour\",\"colorbar\":{\"outlinewidth\":0,\"ticks\":\"\"},\"colorscale\":[[0.0,\"#0d0887\"],[0.1111111111111111,\"#46039f\"],[0.2222222222222222,\"#7201a8\"],[0.3333333333333333,\"#9c179e\"],[0.4444444444444444,\"#bd3786\"],[0.5555555555555556,\"#d8576b\"],[0.6666666666666666,\"#ed7953\"],[0.7777777777777778,\"#fb9f3a\"],[0.8888888888888888,\"#fdca26\"],[1.0,\"#f0f921\"]]}],\"choropleth\":[{\"type\":\"choropleth\",\"colorbar\":{\"outlinewidth\":0,\"ticks\":\"\"}}],\"histogram2d\":[{\"type\":\"histogram2d\",\"colorbar\":{\"outlinewidth\":0,\"ticks\":\"\"},\"colorscale\":[[0.0,\"#0d0887\"],[0.1111111111111111,\"#46039f\"],[0.2222222222222222,\"#7201a8\"],[0.3333333333333333,\"#9c179e\"],[0.4444444444444444,\"#bd3786\"],[0.5555555555555556,\"#d8576b\"],[0.6666666666666666,\"#ed7953\"],[0.7777777777777778,\"#fb9f3a\"],[0.8888888888888888,\"#fdca26\"],[1.0,\"#f0f921\"]]}],\"heatmap\":[{\"type\":\"heatmap\",\"colorbar\":{\"outlinewidth\":0,\"ticks\":\"\"},\"colorscale\":[[0.0,\"#0d0887\"],[0.1111111111111111,\"#46039f\"],[0.2222222222222222,\"#7201a8\"],[0.3333333333333333,\"#9c179e\"],[0.4444444444444444,\"#bd3786\"],[0.5555555555555556,\"#d8576b\"],[0.6666666666666666,\"#ed7953\"],[0.7777777777777778,\"#fb9f3a\"],[0.8888888888888888,\"#fdca26\"],[1.0,\"#f0f921\"]]}],\"contourcarpet\":[{\"type\":\"contourcarpet\",\"colorbar\":{\"outlinewidth\":0,\"ticks\":\"\"}}],\"contour\":[{\"type\":\"contour\",\"colorbar\":{\"outlinewidth\":0,\"ticks\":\"\"},\"colorscale\":[[0.0,\"#0d0887\"],[0.1111111111111111,\"#46039f\"],[0.2222222222222222,\"#7201a8\"],[0.3333333333333333,\"#9c179e\"],[0.4444444444444444,\"#bd3786\"],[0.5555555555555556,\"#d8576b\"],[0.6666666666666666,\"#ed7953\"],[0.7777777777777778,\"#fb9f3a\"],[0.8888888888888888,\"#fdca26\"],[1.0,\"#f0f921\"]]}],\"surface\":[{\"type\":\"surface\",\"colorbar\":{\"outlinewidth\":0,\"ticks\":\"\"},\"colorscale\":[[0.0,\"#0d0887\"],[0.1111111111111111,\"#46039f\"],[0.2222222222222222,\"#7201a8\"],[0.3333333333333333,\"#9c179e\"],[0.4444444444444444,\"#bd3786\"],[0.5555555555555556,\"#d8576b\"],[0.6666666666666666,\"#ed7953\"],[0.7777777777777778,\"#fb9f3a\"],[0.8888888888888888,\"#fdca26\"],[1.0,\"#f0f921\"]]}],\"mesh3d\":[{\"type\":\"mesh3d\",\"colorbar\":{\"outlinewidth\":0,\"ticks\":\"\"}}],\"scatter\":[{\"fillpattern\":{\"fillmode\":\"overlay\",\"size\":10,\"solidity\":0.2},\"type\":\"scatter\"}],\"parcoords\":[{\"type\":\"parcoords\",\"line\":{\"colorbar\":{\"outlinewidth\":0,\"ticks\":\"\"}}}],\"scatterpolargl\":[{\"type\":\"scatterpolargl\",\"marker\":{\"colorbar\":{\"outlinewidth\":0,\"ticks\":\"\"}}}],\"bar\":[{\"error_x\":{\"color\":\"#2a3f5f\"},\"error_y\":{\"color\":\"#2a3f5f\"},\"marker\":{\"line\":{\"color\":\"#E5ECF6\",\"width\":0.5},\"pattern\":{\"fillmode\":\"overlay\",\"size\":10,\"solidity\":0.2}},\"type\":\"bar\"}],\"scattergeo\":[{\"type\":\"scattergeo\",\"marker\":{\"colorbar\":{\"outlinewidth\":0,\"ticks\":\"\"}}}],\"scatterpolar\":[{\"type\":\"scatterpolar\",\"marker\":{\"colorbar\":{\"outlinewidth\":0,\"ticks\":\"\"}}}],\"histogram\":[{\"marker\":{\"pattern\":{\"fillmode\":\"overlay\",\"size\":10,\"solidity\":0.2}},\"type\":\"histogram\"}],\"scattergl\":[{\"type\":\"scattergl\",\"marker\":{\"colorbar\":{\"outlinewidth\":0,\"ticks\":\"\"}}}],\"scatter3d\":[{\"type\":\"scatter3d\",\"line\":{\"colorbar\":{\"outlinewidth\":0,\"ticks\":\"\"}},\"marker\":{\"colorbar\":{\"outlinewidth\":0,\"ticks\":\"\"}}}],\"scattermap\":[{\"type\":\"scattermap\",\"marker\":{\"colorbar\":{\"outlinewidth\":0,\"ticks\":\"\"}}}],\"scattermapbox\":[{\"type\":\"scattermapbox\",\"marker\":{\"colorbar\":{\"outlinewidth\":0,\"ticks\":\"\"}}}],\"scatterternary\":[{\"type\":\"scatterternary\",\"marker\":{\"colorbar\":{\"outlinewidth\":0,\"ticks\":\"\"}}}],\"scattercarpet\":[{\"type\":\"scattercarpet\",\"marker\":{\"colorbar\":{\"outlinewidth\":0,\"ticks\":\"\"}}}],\"carpet\":[{\"aaxis\":{\"endlinecolor\":\"#2a3f5f\",\"gridcolor\":\"white\",\"linecolor\":\"white\",\"minorgridcolor\":\"white\",\"startlinecolor\":\"#2a3f5f\"},\"baxis\":{\"endlinecolor\":\"#2a3f5f\",\"gridcolor\":\"white\",\"linecolor\":\"white\",\"minorgridcolor\":\"white\",\"startlinecolor\":\"#2a3f5f\"},\"type\":\"carpet\"}],\"table\":[{\"cells\":{\"fill\":{\"color\":\"#EBF0F8\"},\"line\":{\"color\":\"white\"}},\"header\":{\"fill\":{\"color\":\"#C8D4E3\"},\"line\":{\"color\":\"white\"}},\"type\":\"table\"}],\"barpolar\":[{\"marker\":{\"line\":{\"color\":\"#E5ECF6\",\"width\":0.5},\"pattern\":{\"fillmode\":\"overlay\",\"size\":10,\"solidity\":0.2}},\"type\":\"barpolar\"}],\"pie\":[{\"automargin\":true,\"type\":\"pie\"}]},\"layout\":{\"autotypenumbers\":\"strict\",\"colorway\":[\"#636efa\",\"#EF553B\",\"#00cc96\",\"#ab63fa\",\"#FFA15A\",\"#19d3f3\",\"#FF6692\",\"#B6E880\",\"#FF97FF\",\"#FECB52\"],\"font\":{\"color\":\"#2a3f5f\"},\"hovermode\":\"closest\",\"hoverlabel\":{\"align\":\"left\"},\"paper_bgcolor\":\"white\",\"plot_bgcolor\":\"#E5ECF6\",\"polar\":{\"bgcolor\":\"#E5ECF6\",\"angularaxis\":{\"gridcolor\":\"white\",\"linecolor\":\"white\",\"ticks\":\"\"},\"radialaxis\":{\"gridcolor\":\"white\",\"linecolor\":\"white\",\"ticks\":\"\"}},\"ternary\":{\"bgcolor\":\"#E5ECF6\",\"aaxis\":{\"gridcolor\":\"white\",\"linecolor\":\"white\",\"ticks\":\"\"},\"baxis\":{\"gridcolor\":\"white\",\"linecolor\":\"white\",\"ticks\":\"\"},\"caxis\":{\"gridcolor\":\"white\",\"linecolor\":\"white\",\"ticks\":\"\"}},\"coloraxis\":{\"colorbar\":{\"outlinewidth\":0,\"ticks\":\"\"}},\"colorscale\":{\"sequential\":[[0.0,\"#0d0887\"],[0.1111111111111111,\"#46039f\"],[0.2222222222222222,\"#7201a8\"],[0.3333333333333333,\"#9c179e\"],[0.4444444444444444,\"#bd3786\"],[0.5555555555555556,\"#d8576b\"],[0.6666666666666666,\"#ed7953\"],[0.7777777777777778,\"#fb9f3a\"],[0.8888888888888888,\"#fdca26\"],[1.0,\"#f0f921\"]],\"sequentialminus\":[[0.0,\"#0d0887\"],[0.1111111111111111,\"#46039f\"],[0.2222222222222222,\"#7201a8\"],[0.3333333333333333,\"#9c179e\"],[0.4444444444444444,\"#bd3786\"],[0.5555555555555556,\"#d8576b\"],[0.6666666666666666,\"#ed7953\"],[0.7777777777777778,\"#fb9f3a\"],[0.8888888888888888,\"#fdca26\"],[1.0,\"#f0f921\"]],\"diverging\":[[0,\"#8e0152\"],[0.1,\"#c51b7d\"],[0.2,\"#de77ae\"],[0.3,\"#f1b6da\"],[0.4,\"#fde0ef\"],[0.5,\"#f7f7f7\"],[0.6,\"#e6f5d0\"],[0.7,\"#b8e186\"],[0.8,\"#7fbc41\"],[0.9,\"#4d9221\"],[1,\"#276419\"]]},\"xaxis\":{\"gridcolor\":\"white\",\"linecolor\":\"white\",\"ticks\":\"\",\"title\":{\"standoff\":15},\"zerolinecolor\":\"white\",\"automargin\":true,\"zerolinewidth\":2},\"yaxis\":{\"gridcolor\":\"white\",\"linecolor\":\"white\",\"ticks\":\"\",\"title\":{\"standoff\":15},\"zerolinecolor\":\"white\",\"automargin\":true,\"zerolinewidth\":2},\"scene\":{\"xaxis\":{\"backgroundcolor\":\"#E5ECF6\",\"gridcolor\":\"white\",\"linecolor\":\"white\",\"showbackground\":true,\"ticks\":\"\",\"zerolinecolor\":\"white\",\"gridwidth\":2},\"yaxis\":{\"backgroundcolor\":\"#E5ECF6\",\"gridcolor\":\"white\",\"linecolor\":\"white\",\"showbackground\":true,\"ticks\":\"\",\"zerolinecolor\":\"white\",\"gridwidth\":2},\"zaxis\":{\"backgroundcolor\":\"#E5ECF6\",\"gridcolor\":\"white\",\"linecolor\":\"white\",\"showbackground\":true,\"ticks\":\"\",\"zerolinecolor\":\"white\",\"gridwidth\":2}},\"shapedefaults\":{\"line\":{\"color\":\"#2a3f5f\"}},\"annotationdefaults\":{\"arrowcolor\":\"#2a3f5f\",\"arrowhead\":0,\"arrowwidth\":1},\"geo\":{\"bgcolor\":\"white\",\"landcolor\":\"#E5ECF6\",\"subunitcolor\":\"white\",\"showland\":true,\"showlakes\":true,\"lakecolor\":\"white\"},\"title\":{\"x\":0.05},\"mapbox\":{\"style\":\"light\"}}}},                        {\"responsive\": true}                    )                };            </script>        </div>',\n",
       " ('Upper - sexta-feira',\n",
       "  'Triceps Rope Pushdown'): '<div>                        <script type=\"text/javascript\">window.PlotlyConfig = {MathJaxConfig: \\'local\\'};</script>\\n        <script charset=\"utf-8\" src=\"https://cdn.plot.ly/plotly-3.0.1.min.js\"></script>                <div id=\"c169c08a-cf1e-4160-8543-89b37adb6f51\" class=\"plotly-graph-div\" style=\"height:100%; width:100%;\"></div>            <script type=\"text/javascript\">                window.PLOTLYENV=window.PLOTLYENV || {};                                if (document.getElementById(\"c169c08a-cf1e-4160-8543-89b37adb6f51\")) {                    Plotly.newPlot(                        \"c169c08a-cf1e-4160-8543-89b37adb6f51\",                        [{\"mode\":\"lines+markers+text\",\"name\":\"Top Set (Failure)\",\"text\":[\"11 reps\",\"7 reps\",\"6 reps\",\"6 reps\",\"7 reps\"],\"textposition\":\"top center\",\"visible\":true,\"x\":[\"2025-04-11\",\"2025-04-04\",\"2025-03-28\",\"2025-03-21\",\"2025-03-14\"],\"y\":{\"dtype\":\"f8\",\"bdata\":\"AAAAAACALEAAAAAAAIAxQAAAAAAAgDhAAAAAAAAAN0AAAAAAAIA1QA==\"},\"type\":\"scatter\"},{\"mode\":\"lines+markers+text\",\"name\":\"Work Set 1\",\"text\":[\"9 reps\",\"9 reps\",\"8 reps\",\"8 reps\",\"8 reps\"],\"textposition\":\"top center\",\"visible\":false,\"x\":[\"2025-04-11\",\"2025-04-04\",\"2025-03-28\",\"2025-03-21\",\"2025-03-14\"],\"y\":{\"dtype\":\"f8\",\"bdata\":\"AAAAAAAAKkAAAAAAAAAuQAAAAAAAADdAAAAAAACANUAAAAAAAAA0QA==\"},\"type\":\"scatter\"},{\"mode\":\"lines+markers+text\",\"name\":\"Work Set 2\",\"text\":[],\"textposition\":\"top center\",\"visible\":false,\"x\":[],\"y\":[],\"type\":\"scatter\"}],                        {\"hovermode\":\"closest\",\"title\":{\"text\":\"Evolu\\\\u00e7\\\\u00e3o no Triceps Rope Pushdown (Upper - sexta-feira)\"},\"updatemenus\":[{\"active\":0,\"bgcolor\":\"white\",\"bordercolor\":\"gray\",\"borderwidth\":1,\"buttons\":[{\"args\":[{\"x\":[[\"2025-04-11\",\"2025-04-04\",\"2025-03-28\",\"2025-03-21\",\"2025-03-14\"],[\"2025-04-11\",\"2025-04-04\",\"2025-03-28\",\"2025-03-21\",\"2025-03-14\"],[]],\"y\":[[14.25,17.5,24.5,23.0,21.5],[13.0,15.0,23.0,21.5,20.0],[]],\"text\":[[\"11 reps\",\"7 reps\",\"6 reps\",\"6 reps\",\"7 reps\"],[\"9 reps\",\"9 reps\",\"8 reps\",\"8 reps\",\"8 reps\"],[]]},{\"updatemenus[1].buttons\":[{\"label\":\"Top Set (Failure)\",\"method\":\"update\",\"args\":[{\"visible\":[true,false,false]}]},{\"label\":\"Work Set 1\",\"method\":\"update\",\"args\":[{\"visible\":[false,true,false]}]},{\"label\":\"Todas as s\\\\u00e9ries\",\"method\":\"update\",\"args\":[{\"visible\":[true,true,false]}]}],\"title\":\"Evolu\\\\u00e7\\\\u00e3o no Triceps Rope Pushdown (Upper - sexta-feira) - \\\\u00daltimos 30 dias\"}],\"label\":\"\\\\u00daltimos 30 dias\",\"method\":\"update\"},{\"args\":[{\"x\":[[\"2025-04-11\",\"2025-04-04\",\"2025-03-28\",\"2025-03-21\",\"2025-03-14\",\"2025-03-07\",\"2025-02-28\",\"2025-02-21\"],[\"2025-04-11\",\"2025-04-04\",\"2025-03-28\",\"2025-03-21\",\"2025-03-14\",\"2025-03-07\",\"2025-02-28\",\"2025-02-21\"],[]],\"y\":[[14.25,17.5,24.5,23.0,21.5,23.0,20.0,21.25],[13.0,15.0,23.0,21.5,20.0,21.5,20.0,20.0],[]],\"text\":[[\"11 reps\",\"7 reps\",\"6 reps\",\"6 reps\",\"7 reps\",\"7 reps\",\"8 reps\",\"8 reps\"],[\"9 reps\",\"9 reps\",\"8 reps\",\"8 reps\",\"8 reps\",\"8 reps\",\"8 reps\",\"8 reps\"],[]]},{\"updatemenus[1].buttons\":[{\"label\":\"Top Set (Failure)\",\"method\":\"update\",\"args\":[{\"visible\":[true,false,false]}]},{\"label\":\"Work Set 1\",\"method\":\"update\",\"args\":[{\"visible\":[false,true,false]}]},{\"label\":\"Todas as s\\\\u00e9ries\",\"method\":\"update\",\"args\":[{\"visible\":[true,true,false]}]}]}],\"label\":\"\\\\u00daltimos 60 dias\",\"method\":\"update\"},{\"args\":[{\"x\":[[\"2025-04-11\",\"2025-04-04\",\"2025-03-28\",\"2025-03-21\",\"2025-03-14\",\"2025-03-07\",\"2025-02-28\",\"2025-02-21\",\"2025-02-07\",\"2025-01-31\",\"2025-01-17\"],[\"2025-04-11\",\"2025-04-04\",\"2025-03-28\",\"2025-03-21\",\"2025-03-14\",\"2025-03-07\",\"2025-02-28\",\"2025-02-21\",\"2025-02-07\",\"2025-01-31\",\"2025-01-17\"],[\"2025-02-07\",\"2025-01-31\",\"2025-01-17\"]],\"y\":[[14.25,17.5,24.5,23.0,21.5,23.0,20.0,21.25,18.0,23.0,23.0],[13.0,15.0,23.0,21.5,20.0,21.5,20.0,20.0,23.0,23.0,23.0],[18.0,23.0,23.0]],\"text\":[[\"11 reps\",\"7 reps\",\"6 reps\",\"6 reps\",\"7 reps\",\"7 reps\",\"8 reps\",\"8 reps\",\"8 reps\",\"6 reps\",\"7 reps\"],[\"9 reps\",\"9 reps\",\"8 reps\",\"8 reps\",\"8 reps\",\"8 reps\",\"8 reps\",\"8 reps\",\"8 reps\",\"8 reps\",\"8 reps\"],[\"8 reps\",\"8 reps\",\"8 reps\"]]},{\"updatemenus[1].buttons\":[{\"label\":\"Top Set (Failure)\",\"method\":\"update\",\"args\":[{\"visible\":[true,false,false]}]},{\"label\":\"Work Set 1\",\"method\":\"update\",\"args\":[{\"visible\":[false,true,false]}]},{\"label\":\"Work Set 2\",\"method\":\"update\",\"args\":[{\"visible\":[false,false,true]}]},{\"label\":\"Todas as s\\\\u00e9ries\",\"method\":\"update\",\"args\":[{\"visible\":[true,true,true]}]}]}],\"label\":\"\\\\u00daltimos 90 dias\",\"method\":\"update\"}],\"direction\":\"down\",\"pad\":{\"r\":10,\"t\":10},\"showactive\":true,\"x\":0.6,\"xanchor\":\"left\",\"y\":1.2,\"yanchor\":\"top\"},{\"active\":0,\"bgcolor\":\"white\",\"bordercolor\":\"gray\",\"borderwidth\":1,\"buttons\":[{\"args\":[{\"visible\":[true,false,false]}],\"label\":\"Top Set (Failure)\",\"method\":\"update\"},{\"args\":[{\"visible\":[false,true,false]}],\"label\":\"Work Set 1\",\"method\":\"update\"},{\"args\":[{\"visible\":[true,true,false]}],\"label\":\"Todas as s\\\\u00e9ries\",\"method\":\"update\"}],\"direction\":\"down\",\"pad\":{\"r\":10,\"t\":10},\"showactive\":true,\"x\":0.99,\"xanchor\":\"right\",\"y\":1.2,\"yanchor\":\"top\"}],\"xaxis\":{\"tickformat\":\"%d\\\\u002f%m\\\\u002f%Y\",\"title\":{\"text\":\"Data\"}},\"yaxis\":{\"title\":{\"text\":\"Peso (kg)\"}},\"template\":{\"data\":{\"histogram2dcontour\":[{\"type\":\"histogram2dcontour\",\"colorbar\":{\"outlinewidth\":0,\"ticks\":\"\"},\"colorscale\":[[0.0,\"#0d0887\"],[0.1111111111111111,\"#46039f\"],[0.2222222222222222,\"#7201a8\"],[0.3333333333333333,\"#9c179e\"],[0.4444444444444444,\"#bd3786\"],[0.5555555555555556,\"#d8576b\"],[0.6666666666666666,\"#ed7953\"],[0.7777777777777778,\"#fb9f3a\"],[0.8888888888888888,\"#fdca26\"],[1.0,\"#f0f921\"]]}],\"choropleth\":[{\"type\":\"choropleth\",\"colorbar\":{\"outlinewidth\":0,\"ticks\":\"\"}}],\"histogram2d\":[{\"type\":\"histogram2d\",\"colorbar\":{\"outlinewidth\":0,\"ticks\":\"\"},\"colorscale\":[[0.0,\"#0d0887\"],[0.1111111111111111,\"#46039f\"],[0.2222222222222222,\"#7201a8\"],[0.3333333333333333,\"#9c179e\"],[0.4444444444444444,\"#bd3786\"],[0.5555555555555556,\"#d8576b\"],[0.6666666666666666,\"#ed7953\"],[0.7777777777777778,\"#fb9f3a\"],[0.8888888888888888,\"#fdca26\"],[1.0,\"#f0f921\"]]}],\"heatmap\":[{\"type\":\"heatmap\",\"colorbar\":{\"outlinewidth\":0,\"ticks\":\"\"},\"colorscale\":[[0.0,\"#0d0887\"],[0.1111111111111111,\"#46039f\"],[0.2222222222222222,\"#7201a8\"],[0.3333333333333333,\"#9c179e\"],[0.4444444444444444,\"#bd3786\"],[0.5555555555555556,\"#d8576b\"],[0.6666666666666666,\"#ed7953\"],[0.7777777777777778,\"#fb9f3a\"],[0.8888888888888888,\"#fdca26\"],[1.0,\"#f0f921\"]]}],\"contourcarpet\":[{\"type\":\"contourcarpet\",\"colorbar\":{\"outlinewidth\":0,\"ticks\":\"\"}}],\"contour\":[{\"type\":\"contour\",\"colorbar\":{\"outlinewidth\":0,\"ticks\":\"\"},\"colorscale\":[[0.0,\"#0d0887\"],[0.1111111111111111,\"#46039f\"],[0.2222222222222222,\"#7201a8\"],[0.3333333333333333,\"#9c179e\"],[0.4444444444444444,\"#bd3786\"],[0.5555555555555556,\"#d8576b\"],[0.6666666666666666,\"#ed7953\"],[0.7777777777777778,\"#fb9f3a\"],[0.8888888888888888,\"#fdca26\"],[1.0,\"#f0f921\"]]}],\"surface\":[{\"type\":\"surface\",\"colorbar\":{\"outlinewidth\":0,\"ticks\":\"\"},\"colorscale\":[[0.0,\"#0d0887\"],[0.1111111111111111,\"#46039f\"],[0.2222222222222222,\"#7201a8\"],[0.3333333333333333,\"#9c179e\"],[0.4444444444444444,\"#bd3786\"],[0.5555555555555556,\"#d8576b\"],[0.6666666666666666,\"#ed7953\"],[0.7777777777777778,\"#fb9f3a\"],[0.8888888888888888,\"#fdca26\"],[1.0,\"#f0f921\"]]}],\"mesh3d\":[{\"type\":\"mesh3d\",\"colorbar\":{\"outlinewidth\":0,\"ticks\":\"\"}}],\"scatter\":[{\"fillpattern\":{\"fillmode\":\"overlay\",\"size\":10,\"solidity\":0.2},\"type\":\"scatter\"}],\"parcoords\":[{\"type\":\"parcoords\",\"line\":{\"colorbar\":{\"outlinewidth\":0,\"ticks\":\"\"}}}],\"scatterpolargl\":[{\"type\":\"scatterpolargl\",\"marker\":{\"colorbar\":{\"outlinewidth\":0,\"ticks\":\"\"}}}],\"bar\":[{\"error_x\":{\"color\":\"#2a3f5f\"},\"error_y\":{\"color\":\"#2a3f5f\"},\"marker\":{\"line\":{\"color\":\"#E5ECF6\",\"width\":0.5},\"pattern\":{\"fillmode\":\"overlay\",\"size\":10,\"solidity\":0.2}},\"type\":\"bar\"}],\"scattergeo\":[{\"type\":\"scattergeo\",\"marker\":{\"colorbar\":{\"outlinewidth\":0,\"ticks\":\"\"}}}],\"scatterpolar\":[{\"type\":\"scatterpolar\",\"marker\":{\"colorbar\":{\"outlinewidth\":0,\"ticks\":\"\"}}}],\"histogram\":[{\"marker\":{\"pattern\":{\"fillmode\":\"overlay\",\"size\":10,\"solidity\":0.2}},\"type\":\"histogram\"}],\"scattergl\":[{\"type\":\"scattergl\",\"marker\":{\"colorbar\":{\"outlinewidth\":0,\"ticks\":\"\"}}}],\"scatter3d\":[{\"type\":\"scatter3d\",\"line\":{\"colorbar\":{\"outlinewidth\":0,\"ticks\":\"\"}},\"marker\":{\"colorbar\":{\"outlinewidth\":0,\"ticks\":\"\"}}}],\"scattermap\":[{\"type\":\"scattermap\",\"marker\":{\"colorbar\":{\"outlinewidth\":0,\"ticks\":\"\"}}}],\"scattermapbox\":[{\"type\":\"scattermapbox\",\"marker\":{\"colorbar\":{\"outlinewidth\":0,\"ticks\":\"\"}}}],\"scatterternary\":[{\"type\":\"scatterternary\",\"marker\":{\"colorbar\":{\"outlinewidth\":0,\"ticks\":\"\"}}}],\"scattercarpet\":[{\"type\":\"scattercarpet\",\"marker\":{\"colorbar\":{\"outlinewidth\":0,\"ticks\":\"\"}}}],\"carpet\":[{\"aaxis\":{\"endlinecolor\":\"#2a3f5f\",\"gridcolor\":\"white\",\"linecolor\":\"white\",\"minorgridcolor\":\"white\",\"startlinecolor\":\"#2a3f5f\"},\"baxis\":{\"endlinecolor\":\"#2a3f5f\",\"gridcolor\":\"white\",\"linecolor\":\"white\",\"minorgridcolor\":\"white\",\"startlinecolor\":\"#2a3f5f\"},\"type\":\"carpet\"}],\"table\":[{\"cells\":{\"fill\":{\"color\":\"#EBF0F8\"},\"line\":{\"color\":\"white\"}},\"header\":{\"fill\":{\"color\":\"#C8D4E3\"},\"line\":{\"color\":\"white\"}},\"type\":\"table\"}],\"barpolar\":[{\"marker\":{\"line\":{\"color\":\"#E5ECF6\",\"width\":0.5},\"pattern\":{\"fillmode\":\"overlay\",\"size\":10,\"solidity\":0.2}},\"type\":\"barpolar\"}],\"pie\":[{\"automargin\":true,\"type\":\"pie\"}]},\"layout\":{\"autotypenumbers\":\"strict\",\"colorway\":[\"#636efa\",\"#EF553B\",\"#00cc96\",\"#ab63fa\",\"#FFA15A\",\"#19d3f3\",\"#FF6692\",\"#B6E880\",\"#FF97FF\",\"#FECB52\"],\"font\":{\"color\":\"#2a3f5f\"},\"hovermode\":\"closest\",\"hoverlabel\":{\"align\":\"left\"},\"paper_bgcolor\":\"white\",\"plot_bgcolor\":\"#E5ECF6\",\"polar\":{\"bgcolor\":\"#E5ECF6\",\"angularaxis\":{\"gridcolor\":\"white\",\"linecolor\":\"white\",\"ticks\":\"\"},\"radialaxis\":{\"gridcolor\":\"white\",\"linecolor\":\"white\",\"ticks\":\"\"}},\"ternary\":{\"bgcolor\":\"#E5ECF6\",\"aaxis\":{\"gridcolor\":\"white\",\"linecolor\":\"white\",\"ticks\":\"\"},\"baxis\":{\"gridcolor\":\"white\",\"linecolor\":\"white\",\"ticks\":\"\"},\"caxis\":{\"gridcolor\":\"white\",\"linecolor\":\"white\",\"ticks\":\"\"}},\"coloraxis\":{\"colorbar\":{\"outlinewidth\":0,\"ticks\":\"\"}},\"colorscale\":{\"sequential\":[[0.0,\"#0d0887\"],[0.1111111111111111,\"#46039f\"],[0.2222222222222222,\"#7201a8\"],[0.3333333333333333,\"#9c179e\"],[0.4444444444444444,\"#bd3786\"],[0.5555555555555556,\"#d8576b\"],[0.6666666666666666,\"#ed7953\"],[0.7777777777777778,\"#fb9f3a\"],[0.8888888888888888,\"#fdca26\"],[1.0,\"#f0f921\"]],\"sequentialminus\":[[0.0,\"#0d0887\"],[0.1111111111111111,\"#46039f\"],[0.2222222222222222,\"#7201a8\"],[0.3333333333333333,\"#9c179e\"],[0.4444444444444444,\"#bd3786\"],[0.5555555555555556,\"#d8576b\"],[0.6666666666666666,\"#ed7953\"],[0.7777777777777778,\"#fb9f3a\"],[0.8888888888888888,\"#fdca26\"],[1.0,\"#f0f921\"]],\"diverging\":[[0,\"#8e0152\"],[0.1,\"#c51b7d\"],[0.2,\"#de77ae\"],[0.3,\"#f1b6da\"],[0.4,\"#fde0ef\"],[0.5,\"#f7f7f7\"],[0.6,\"#e6f5d0\"],[0.7,\"#b8e186\"],[0.8,\"#7fbc41\"],[0.9,\"#4d9221\"],[1,\"#276419\"]]},\"xaxis\":{\"gridcolor\":\"white\",\"linecolor\":\"white\",\"ticks\":\"\",\"title\":{\"standoff\":15},\"zerolinecolor\":\"white\",\"automargin\":true,\"zerolinewidth\":2},\"yaxis\":{\"gridcolor\":\"white\",\"linecolor\":\"white\",\"ticks\":\"\",\"title\":{\"standoff\":15},\"zerolinecolor\":\"white\",\"automargin\":true,\"zerolinewidth\":2},\"scene\":{\"xaxis\":{\"backgroundcolor\":\"#E5ECF6\",\"gridcolor\":\"white\",\"linecolor\":\"white\",\"showbackground\":true,\"ticks\":\"\",\"zerolinecolor\":\"white\",\"gridwidth\":2},\"yaxis\":{\"backgroundcolor\":\"#E5ECF6\",\"gridcolor\":\"white\",\"linecolor\":\"white\",\"showbackground\":true,\"ticks\":\"\",\"zerolinecolor\":\"white\",\"gridwidth\":2},\"zaxis\":{\"backgroundcolor\":\"#E5ECF6\",\"gridcolor\":\"white\",\"linecolor\":\"white\",\"showbackground\":true,\"ticks\":\"\",\"zerolinecolor\":\"white\",\"gridwidth\":2}},\"shapedefaults\":{\"line\":{\"color\":\"#2a3f5f\"}},\"annotationdefaults\":{\"arrowcolor\":\"#2a3f5f\",\"arrowhead\":0,\"arrowwidth\":1},\"geo\":{\"bgcolor\":\"white\",\"landcolor\":\"#E5ECF6\",\"subunitcolor\":\"white\",\"showland\":true,\"showlakes\":true,\"lakecolor\":\"white\"},\"title\":{\"x\":0.05},\"mapbox\":{\"style\":\"light\"}}}},                        {\"responsive\": true}                    )                };            </script>        </div>',\n",
       " ('Upper - sexta-feira',\n",
       "  'Cable Crunch'): '<div>                        <script type=\"text/javascript\">window.PlotlyConfig = {MathJaxConfig: \\'local\\'};</script>\\n        <script charset=\"utf-8\" src=\"https://cdn.plot.ly/plotly-3.0.1.min.js\"></script>                <div id=\"4be3a71f-2e59-4449-859c-89085e3d1ad1\" class=\"plotly-graph-div\" style=\"height:100%; width:100%;\"></div>            <script type=\"text/javascript\">                window.PLOTLYENV=window.PLOTLYENV || {};                                if (document.getElementById(\"4be3a71f-2e59-4449-859c-89085e3d1ad1\")) {                    Plotly.newPlot(                        \"4be3a71f-2e59-4449-859c-89085e3d1ad1\",                        [{\"mode\":\"lines+markers+text\",\"name\":\"Top Set (Failure)\",\"text\":[\"10 reps\",\"10 reps\",\"12 reps\",\"9 reps\",\"10 reps\",\"8 reps\",\"10 reps\",\"7 reps\",\"12 reps\",\"8 reps\"],\"textposition\":\"top center\",\"visible\":true,\"x\":[\"2025-04-11\",\"2025-04-11\",\"2025-04-04\",\"2025-04-04\",\"2025-03-28\",\"2025-03-28\",\"2025-03-21\",\"2025-03-21\",\"2025-03-14\",\"2025-03-14\"],\"y\":{\"dtype\":\"f8\",\"bdata\":\"AAAAAAAgQkAAAAAAAAA+QAAAAAAAIEFAAAAAAACAQUAAAAAAAKBDQAAAAAAAAERAAAAAAACgQ0AAAAAAAKBDQAAAAAAAAENAAAAAAACgQ0A=\"},\"type\":\"scatter\"}],                        {\"hovermode\":\"closest\",\"title\":{\"text\":\"Evolu\\\\u00e7\\\\u00e3o no Cable Crunch (Upper - sexta-feira)\"},\"updatemenus\":[{\"active\":0,\"bgcolor\":\"white\",\"bordercolor\":\"gray\",\"borderwidth\":1,\"buttons\":[{\"args\":[{\"x\":[[\"2025-04-11\",\"2025-04-11\",\"2025-04-04\",\"2025-04-04\",\"2025-03-28\",\"2025-03-28\",\"2025-03-21\",\"2025-03-21\",\"2025-03-14\",\"2025-03-14\"]],\"y\":[[36.25,30.0,34.25,35.0,39.25,40.0,39.25,39.25,38.0,39.25]],\"text\":[[\"10 reps\",\"10 reps\",\"12 reps\",\"9 reps\",\"10 reps\",\"8 reps\",\"10 reps\",\"7 reps\",\"12 reps\",\"8 reps\"]]},{\"updatemenus[1].buttons\":[{\"label\":\"Top Set (Failure)\",\"method\":\"update\",\"args\":[{\"visible\":[true]}]},{\"label\":\"Todas as s\\\\u00e9ries\",\"method\":\"update\",\"args\":[{\"visible\":[true]}]}],\"title\":\"Evolu\\\\u00e7\\\\u00e3o no Cable Crunch (Upper - sexta-feira) - \\\\u00daltimos 30 dias\"}],\"label\":\"\\\\u00daltimos 30 dias\",\"method\":\"update\"},{\"args\":[{\"x\":[[\"2025-04-11\",\"2025-04-11\",\"2025-04-04\",\"2025-04-04\",\"2025-03-28\",\"2025-03-28\",\"2025-03-21\",\"2025-03-21\",\"2025-03-14\",\"2025-03-14\",\"2025-03-07\",\"2025-03-07\",\"2025-02-28\",\"2025-02-28\",\"2025-02-21\",\"2025-02-21\"]],\"y\":[[36.25,30.0,34.25,35.0,39.25,40.0,39.25,39.25,38.0,39.25,35.0,38.0,40.0,40.0,40.0,40.0]],\"text\":[[\"10 reps\",\"10 reps\",\"12 reps\",\"9 reps\",\"10 reps\",\"8 reps\",\"10 reps\",\"7 reps\",\"12 reps\",\"8 reps\",\"13 reps\",\"9 reps\",\"11 reps\",\"8 reps\",\"10 reps\",\"7 reps\"]]},{\"updatemenus[1].buttons\":[{\"label\":\"Top Set (Failure)\",\"method\":\"update\",\"args\":[{\"visible\":[true]}]},{\"label\":\"Todas as s\\\\u00e9ries\",\"method\":\"update\",\"args\":[{\"visible\":[true]}]}]}],\"label\":\"\\\\u00daltimos 60 dias\",\"method\":\"update\"},{\"args\":[{\"x\":[[\"2025-04-11\",\"2025-04-11\",\"2025-04-04\",\"2025-04-04\",\"2025-03-28\",\"2025-03-28\",\"2025-03-21\",\"2025-03-21\",\"2025-03-14\",\"2025-03-14\",\"2025-03-07\",\"2025-03-07\",\"2025-02-28\",\"2025-02-28\",\"2025-02-21\",\"2025-02-21\",\"2025-02-07\",\"2025-02-07\",\"2025-01-31\",\"2025-01-31\",\"2025-01-17\",\"2025-01-17\"]],\"y\":[[36.25,30.0,34.25,35.0,39.25,40.0,39.25,39.25,38.0,39.25,35.0,38.0,40.0,40.0,40.0,40.0,39.25,40.0,39.25,40.0,38.0,38.0]],\"text\":[[\"10 reps\",\"10 reps\",\"12 reps\",\"9 reps\",\"10 reps\",\"8 reps\",\"10 reps\",\"7 reps\",\"12 reps\",\"8 reps\",\"13 reps\",\"9 reps\",\"11 reps\",\"8 reps\",\"10 reps\",\"7 reps\",\"11 reps\",\"10 reps\",\"11 reps\",\"8 reps\",\"11 reps\",\"10 reps\"]]},{\"updatemenus[1].buttons\":[{\"label\":\"Top Set (Failure)\",\"method\":\"update\",\"args\":[{\"visible\":[true]}]},{\"label\":\"Todas as s\\\\u00e9ries\",\"method\":\"update\",\"args\":[{\"visible\":[true]}]}]}],\"label\":\"\\\\u00daltimos 90 dias\",\"method\":\"update\"}],\"direction\":\"down\",\"pad\":{\"r\":10,\"t\":10},\"showactive\":true,\"x\":0.6,\"xanchor\":\"left\",\"y\":1.2,\"yanchor\":\"top\"},{\"active\":0,\"bgcolor\":\"white\",\"bordercolor\":\"gray\",\"borderwidth\":1,\"buttons\":[{\"args\":[{\"visible\":[true]}],\"label\":\"Top Set (Failure)\",\"method\":\"update\"},{\"args\":[{\"visible\":[true]}],\"label\":\"Todas as s\\\\u00e9ries\",\"method\":\"update\"}],\"direction\":\"down\",\"pad\":{\"r\":10,\"t\":10},\"showactive\":true,\"x\":0.99,\"xanchor\":\"right\",\"y\":1.2,\"yanchor\":\"top\"}],\"xaxis\":{\"tickformat\":\"%d\\\\u002f%m\\\\u002f%Y\",\"title\":{\"text\":\"Data\"}},\"yaxis\":{\"title\":{\"text\":\"Peso (kg)\"}},\"template\":{\"data\":{\"histogram2dcontour\":[{\"type\":\"histogram2dcontour\",\"colorbar\":{\"outlinewidth\":0,\"ticks\":\"\"},\"colorscale\":[[0.0,\"#0d0887\"],[0.1111111111111111,\"#46039f\"],[0.2222222222222222,\"#7201a8\"],[0.3333333333333333,\"#9c179e\"],[0.4444444444444444,\"#bd3786\"],[0.5555555555555556,\"#d8576b\"],[0.6666666666666666,\"#ed7953\"],[0.7777777777777778,\"#fb9f3a\"],[0.8888888888888888,\"#fdca26\"],[1.0,\"#f0f921\"]]}],\"choropleth\":[{\"type\":\"choropleth\",\"colorbar\":{\"outlinewidth\":0,\"ticks\":\"\"}}],\"histogram2d\":[{\"type\":\"histogram2d\",\"colorbar\":{\"outlinewidth\":0,\"ticks\":\"\"},\"colorscale\":[[0.0,\"#0d0887\"],[0.1111111111111111,\"#46039f\"],[0.2222222222222222,\"#7201a8\"],[0.3333333333333333,\"#9c179e\"],[0.4444444444444444,\"#bd3786\"],[0.5555555555555556,\"#d8576b\"],[0.6666666666666666,\"#ed7953\"],[0.7777777777777778,\"#fb9f3a\"],[0.8888888888888888,\"#fdca26\"],[1.0,\"#f0f921\"]]}],\"heatmap\":[{\"type\":\"heatmap\",\"colorbar\":{\"outlinewidth\":0,\"ticks\":\"\"},\"colorscale\":[[0.0,\"#0d0887\"],[0.1111111111111111,\"#46039f\"],[0.2222222222222222,\"#7201a8\"],[0.3333333333333333,\"#9c179e\"],[0.4444444444444444,\"#bd3786\"],[0.5555555555555556,\"#d8576b\"],[0.6666666666666666,\"#ed7953\"],[0.7777777777777778,\"#fb9f3a\"],[0.8888888888888888,\"#fdca26\"],[1.0,\"#f0f921\"]]}],\"contourcarpet\":[{\"type\":\"contourcarpet\",\"colorbar\":{\"outlinewidth\":0,\"ticks\":\"\"}}],\"contour\":[{\"type\":\"contour\",\"colorbar\":{\"outlinewidth\":0,\"ticks\":\"\"},\"colorscale\":[[0.0,\"#0d0887\"],[0.1111111111111111,\"#46039f\"],[0.2222222222222222,\"#7201a8\"],[0.3333333333333333,\"#9c179e\"],[0.4444444444444444,\"#bd3786\"],[0.5555555555555556,\"#d8576b\"],[0.6666666666666666,\"#ed7953\"],[0.7777777777777778,\"#fb9f3a\"],[0.8888888888888888,\"#fdca26\"],[1.0,\"#f0f921\"]]}],\"surface\":[{\"type\":\"surface\",\"colorbar\":{\"outlinewidth\":0,\"ticks\":\"\"},\"colorscale\":[[0.0,\"#0d0887\"],[0.1111111111111111,\"#46039f\"],[0.2222222222222222,\"#7201a8\"],[0.3333333333333333,\"#9c179e\"],[0.4444444444444444,\"#bd3786\"],[0.5555555555555556,\"#d8576b\"],[0.6666666666666666,\"#ed7953\"],[0.7777777777777778,\"#fb9f3a\"],[0.8888888888888888,\"#fdca26\"],[1.0,\"#f0f921\"]]}],\"mesh3d\":[{\"type\":\"mesh3d\",\"colorbar\":{\"outlinewidth\":0,\"ticks\":\"\"}}],\"scatter\":[{\"fillpattern\":{\"fillmode\":\"overlay\",\"size\":10,\"solidity\":0.2},\"type\":\"scatter\"}],\"parcoords\":[{\"type\":\"parcoords\",\"line\":{\"colorbar\":{\"outlinewidth\":0,\"ticks\":\"\"}}}],\"scatterpolargl\":[{\"type\":\"scatterpolargl\",\"marker\":{\"colorbar\":{\"outlinewidth\":0,\"ticks\":\"\"}}}],\"bar\":[{\"error_x\":{\"color\":\"#2a3f5f\"},\"error_y\":{\"color\":\"#2a3f5f\"},\"marker\":{\"line\":{\"color\":\"#E5ECF6\",\"width\":0.5},\"pattern\":{\"fillmode\":\"overlay\",\"size\":10,\"solidity\":0.2}},\"type\":\"bar\"}],\"scattergeo\":[{\"type\":\"scattergeo\",\"marker\":{\"colorbar\":{\"outlinewidth\":0,\"ticks\":\"\"}}}],\"scatterpolar\":[{\"type\":\"scatterpolar\",\"marker\":{\"colorbar\":{\"outlinewidth\":0,\"ticks\":\"\"}}}],\"histogram\":[{\"marker\":{\"pattern\":{\"fillmode\":\"overlay\",\"size\":10,\"solidity\":0.2}},\"type\":\"histogram\"}],\"scattergl\":[{\"type\":\"scattergl\",\"marker\":{\"colorbar\":{\"outlinewidth\":0,\"ticks\":\"\"}}}],\"scatter3d\":[{\"type\":\"scatter3d\",\"line\":{\"colorbar\":{\"outlinewidth\":0,\"ticks\":\"\"}},\"marker\":{\"colorbar\":{\"outlinewidth\":0,\"ticks\":\"\"}}}],\"scattermap\":[{\"type\":\"scattermap\",\"marker\":{\"colorbar\":{\"outlinewidth\":0,\"ticks\":\"\"}}}],\"scattermapbox\":[{\"type\":\"scattermapbox\",\"marker\":{\"colorbar\":{\"outlinewidth\":0,\"ticks\":\"\"}}}],\"scatterternary\":[{\"type\":\"scatterternary\",\"marker\":{\"colorbar\":{\"outlinewidth\":0,\"ticks\":\"\"}}}],\"scattercarpet\":[{\"type\":\"scattercarpet\",\"marker\":{\"colorbar\":{\"outlinewidth\":0,\"ticks\":\"\"}}}],\"carpet\":[{\"aaxis\":{\"endlinecolor\":\"#2a3f5f\",\"gridcolor\":\"white\",\"linecolor\":\"white\",\"minorgridcolor\":\"white\",\"startlinecolor\":\"#2a3f5f\"},\"baxis\":{\"endlinecolor\":\"#2a3f5f\",\"gridcolor\":\"white\",\"linecolor\":\"white\",\"minorgridcolor\":\"white\",\"startlinecolor\":\"#2a3f5f\"},\"type\":\"carpet\"}],\"table\":[{\"cells\":{\"fill\":{\"color\":\"#EBF0F8\"},\"line\":{\"color\":\"white\"}},\"header\":{\"fill\":{\"color\":\"#C8D4E3\"},\"line\":{\"color\":\"white\"}},\"type\":\"table\"}],\"barpolar\":[{\"marker\":{\"line\":{\"color\":\"#E5ECF6\",\"width\":0.5},\"pattern\":{\"fillmode\":\"overlay\",\"size\":10,\"solidity\":0.2}},\"type\":\"barpolar\"}],\"pie\":[{\"automargin\":true,\"type\":\"pie\"}]},\"layout\":{\"autotypenumbers\":\"strict\",\"colorway\":[\"#636efa\",\"#EF553B\",\"#00cc96\",\"#ab63fa\",\"#FFA15A\",\"#19d3f3\",\"#FF6692\",\"#B6E880\",\"#FF97FF\",\"#FECB52\"],\"font\":{\"color\":\"#2a3f5f\"},\"hovermode\":\"closest\",\"hoverlabel\":{\"align\":\"left\"},\"paper_bgcolor\":\"white\",\"plot_bgcolor\":\"#E5ECF6\",\"polar\":{\"bgcolor\":\"#E5ECF6\",\"angularaxis\":{\"gridcolor\":\"white\",\"linecolor\":\"white\",\"ticks\":\"\"},\"radialaxis\":{\"gridcolor\":\"white\",\"linecolor\":\"white\",\"ticks\":\"\"}},\"ternary\":{\"bgcolor\":\"#E5ECF6\",\"aaxis\":{\"gridcolor\":\"white\",\"linecolor\":\"white\",\"ticks\":\"\"},\"baxis\":{\"gridcolor\":\"white\",\"linecolor\":\"white\",\"ticks\":\"\"},\"caxis\":{\"gridcolor\":\"white\",\"linecolor\":\"white\",\"ticks\":\"\"}},\"coloraxis\":{\"colorbar\":{\"outlinewidth\":0,\"ticks\":\"\"}},\"colorscale\":{\"sequential\":[[0.0,\"#0d0887\"],[0.1111111111111111,\"#46039f\"],[0.2222222222222222,\"#7201a8\"],[0.3333333333333333,\"#9c179e\"],[0.4444444444444444,\"#bd3786\"],[0.5555555555555556,\"#d8576b\"],[0.6666666666666666,\"#ed7953\"],[0.7777777777777778,\"#fb9f3a\"],[0.8888888888888888,\"#fdca26\"],[1.0,\"#f0f921\"]],\"sequentialminus\":[[0.0,\"#0d0887\"],[0.1111111111111111,\"#46039f\"],[0.2222222222222222,\"#7201a8\"],[0.3333333333333333,\"#9c179e\"],[0.4444444444444444,\"#bd3786\"],[0.5555555555555556,\"#d8576b\"],[0.6666666666666666,\"#ed7953\"],[0.7777777777777778,\"#fb9f3a\"],[0.8888888888888888,\"#fdca26\"],[1.0,\"#f0f921\"]],\"diverging\":[[0,\"#8e0152\"],[0.1,\"#c51b7d\"],[0.2,\"#de77ae\"],[0.3,\"#f1b6da\"],[0.4,\"#fde0ef\"],[0.5,\"#f7f7f7\"],[0.6,\"#e6f5d0\"],[0.7,\"#b8e186\"],[0.8,\"#7fbc41\"],[0.9,\"#4d9221\"],[1,\"#276419\"]]},\"xaxis\":{\"gridcolor\":\"white\",\"linecolor\":\"white\",\"ticks\":\"\",\"title\":{\"standoff\":15},\"zerolinecolor\":\"white\",\"automargin\":true,\"zerolinewidth\":2},\"yaxis\":{\"gridcolor\":\"white\",\"linecolor\":\"white\",\"ticks\":\"\",\"title\":{\"standoff\":15},\"zerolinecolor\":\"white\",\"automargin\":true,\"zerolinewidth\":2},\"scene\":{\"xaxis\":{\"backgroundcolor\":\"#E5ECF6\",\"gridcolor\":\"white\",\"linecolor\":\"white\",\"showbackground\":true,\"ticks\":\"\",\"zerolinecolor\":\"white\",\"gridwidth\":2},\"yaxis\":{\"backgroundcolor\":\"#E5ECF6\",\"gridcolor\":\"white\",\"linecolor\":\"white\",\"showbackground\":true,\"ticks\":\"\",\"zerolinecolor\":\"white\",\"gridwidth\":2},\"zaxis\":{\"backgroundcolor\":\"#E5ECF6\",\"gridcolor\":\"white\",\"linecolor\":\"white\",\"showbackground\":true,\"ticks\":\"\",\"zerolinecolor\":\"white\",\"gridwidth\":2}},\"shapedefaults\":{\"line\":{\"color\":\"#2a3f5f\"}},\"annotationdefaults\":{\"arrowcolor\":\"#2a3f5f\",\"arrowhead\":0,\"arrowwidth\":1},\"geo\":{\"bgcolor\":\"white\",\"landcolor\":\"#E5ECF6\",\"subunitcolor\":\"white\",\"showland\":true,\"showlakes\":true,\"lakecolor\":\"white\"},\"title\":{\"x\":0.05},\"mapbox\":{\"style\":\"light\"}}}},                        {\"responsive\": true}                    )                };            </script>        </div>'}"
      ]
     },
     "execution_count": 12,
     "metadata": {},
     "output_type": "execute_result"
    }
   ],
   "source": [
    "graficos_por_exercicio = {}\n",
    "for rotina in workout_df_columns_filtered['title'].unique():\n",
    "    exercicios = workout_df_columns_filtered[workout_df_columns_filtered['title'] == rotina]['exercise_title'].unique()\n",
    "    for exercicio in exercicios:\n",
    "        fig, html = gerar_grafico_interativo_com_series(workout_df_columns_filtered, rotina, exercicio)\n",
    "        if html:\n",
    "            graficos_por_exercicio[(rotina, exercicio)] = html.replace(\"`\", \"\\\\`\")  # escapando crase\n",
    "\n",
    "graficos_por_exercicio\n"
   ]
  },
  {
   "cell_type": "code",
   "execution_count": 13,
   "id": "204bf3be",
   "metadata": {},
   "outputs": [],
   "source": [
    "import json\n",
    "\n",
    "def gerar_graficos_dict(df, rotinas_exercicios):\n",
    "    graficos_dict = {}\n",
    "\n",
    "    for rotina, exercicios in rotinas_exercicios.items():\n",
    "        for exercicio in exercicios:\n",
    "            fig, _ = gerar_grafico_interativo_com_series(df, rotina, exercicio)\n",
    "            if fig:\n",
    "                key = f\"{rotina}||{exercicio}\"\n",
    "                graficos_dict[key] = fig.to_dict()\n",
    "    \n",
    "    return graficos_dict\n"
   ]
  },
  {
   "cell_type": "code",
   "execution_count": 14,
   "id": "19ed5c85",
   "metadata": {},
   "outputs": [
    {
     "name": "stderr",
     "output_type": "stream",
     "text": [
      "C:\\Users\\nikol\\AppData\\Local\\Temp\\ipykernel_7496\\709765694.py:46: SettingWithCopyWarning:\n",
      "\n",
      "\n",
      "A value is trying to be set on a copy of a slice from a DataFrame.\n",
      "Try using .loc[row_indexer,col_indexer] = value instead\n",
      "\n",
      "See the caveats in the documentation: https://pandas.pydata.org/pandas-docs/stable/user_guide/indexing.html#returning-a-view-versus-a-copy\n",
      "\n",
      "C:\\Users\\nikol\\AppData\\Local\\Temp\\ipykernel_7496\\709765694.py:52: SettingWithCopyWarning:\n",
      "\n",
      "\n",
      "A value is trying to be set on a copy of a slice from a DataFrame.\n",
      "Try using .loc[row_indexer,col_indexer] = value instead\n",
      "\n",
      "See the caveats in the documentation: https://pandas.pydata.org/pandas-docs/stable/user_guide/indexing.html#returning-a-view-versus-a-copy\n",
      "\n",
      "C:\\Users\\nikol\\AppData\\Local\\Temp\\ipykernel_7496\\709765694.py:46: SettingWithCopyWarning:\n",
      "\n",
      "\n",
      "A value is trying to be set on a copy of a slice from a DataFrame.\n",
      "Try using .loc[row_indexer,col_indexer] = value instead\n",
      "\n",
      "See the caveats in the documentation: https://pandas.pydata.org/pandas-docs/stable/user_guide/indexing.html#returning-a-view-versus-a-copy\n",
      "\n",
      "C:\\Users\\nikol\\AppData\\Local\\Temp\\ipykernel_7496\\709765694.py:52: SettingWithCopyWarning:\n",
      "\n",
      "\n",
      "A value is trying to be set on a copy of a slice from a DataFrame.\n",
      "Try using .loc[row_indexer,col_indexer] = value instead\n",
      "\n",
      "See the caveats in the documentation: https://pandas.pydata.org/pandas-docs/stable/user_guide/indexing.html#returning-a-view-versus-a-copy\n",
      "\n",
      "C:\\Users\\nikol\\AppData\\Local\\Temp\\ipykernel_7496\\709765694.py:46: SettingWithCopyWarning:\n",
      "\n",
      "\n",
      "A value is trying to be set on a copy of a slice from a DataFrame.\n",
      "Try using .loc[row_indexer,col_indexer] = value instead\n",
      "\n",
      "See the caveats in the documentation: https://pandas.pydata.org/pandas-docs/stable/user_guide/indexing.html#returning-a-view-versus-a-copy\n",
      "\n",
      "C:\\Users\\nikol\\AppData\\Local\\Temp\\ipykernel_7496\\709765694.py:52: SettingWithCopyWarning:\n",
      "\n",
      "\n",
      "A value is trying to be set on a copy of a slice from a DataFrame.\n",
      "Try using .loc[row_indexer,col_indexer] = value instead\n",
      "\n",
      "See the caveats in the documentation: https://pandas.pydata.org/pandas-docs/stable/user_guide/indexing.html#returning-a-view-versus-a-copy\n",
      "\n",
      "C:\\Users\\nikol\\AppData\\Local\\Temp\\ipykernel_7496\\709765694.py:46: SettingWithCopyWarning:\n",
      "\n",
      "\n",
      "A value is trying to be set on a copy of a slice from a DataFrame.\n",
      "Try using .loc[row_indexer,col_indexer] = value instead\n",
      "\n",
      "See the caveats in the documentation: https://pandas.pydata.org/pandas-docs/stable/user_guide/indexing.html#returning-a-view-versus-a-copy\n",
      "\n",
      "C:\\Users\\nikol\\AppData\\Local\\Temp\\ipykernel_7496\\709765694.py:52: SettingWithCopyWarning:\n",
      "\n",
      "\n",
      "A value is trying to be set on a copy of a slice from a DataFrame.\n",
      "Try using .loc[row_indexer,col_indexer] = value instead\n",
      "\n",
      "See the caveats in the documentation: https://pandas.pydata.org/pandas-docs/stable/user_guide/indexing.html#returning-a-view-versus-a-copy\n",
      "\n",
      "C:\\Users\\nikol\\AppData\\Local\\Temp\\ipykernel_7496\\709765694.py:46: SettingWithCopyWarning:\n",
      "\n",
      "\n",
      "A value is trying to be set on a copy of a slice from a DataFrame.\n",
      "Try using .loc[row_indexer,col_indexer] = value instead\n",
      "\n",
      "See the caveats in the documentation: https://pandas.pydata.org/pandas-docs/stable/user_guide/indexing.html#returning-a-view-versus-a-copy\n",
      "\n",
      "C:\\Users\\nikol\\AppData\\Local\\Temp\\ipykernel_7496\\709765694.py:52: SettingWithCopyWarning:\n",
      "\n",
      "\n",
      "A value is trying to be set on a copy of a slice from a DataFrame.\n",
      "Try using .loc[row_indexer,col_indexer] = value instead\n",
      "\n",
      "See the caveats in the documentation: https://pandas.pydata.org/pandas-docs/stable/user_guide/indexing.html#returning-a-view-versus-a-copy\n",
      "\n",
      "C:\\Users\\nikol\\AppData\\Local\\Temp\\ipykernel_7496\\709765694.py:46: SettingWithCopyWarning:\n",
      "\n",
      "\n",
      "A value is trying to be set on a copy of a slice from a DataFrame.\n",
      "Try using .loc[row_indexer,col_indexer] = value instead\n",
      "\n",
      "See the caveats in the documentation: https://pandas.pydata.org/pandas-docs/stable/user_guide/indexing.html#returning-a-view-versus-a-copy\n",
      "\n",
      "C:\\Users\\nikol\\AppData\\Local\\Temp\\ipykernel_7496\\709765694.py:52: SettingWithCopyWarning:\n",
      "\n",
      "\n",
      "A value is trying to be set on a copy of a slice from a DataFrame.\n",
      "Try using .loc[row_indexer,col_indexer] = value instead\n",
      "\n",
      "See the caveats in the documentation: https://pandas.pydata.org/pandas-docs/stable/user_guide/indexing.html#returning-a-view-versus-a-copy\n",
      "\n",
      "C:\\Users\\nikol\\AppData\\Local\\Temp\\ipykernel_7496\\709765694.py:46: SettingWithCopyWarning:\n",
      "\n",
      "\n",
      "A value is trying to be set on a copy of a slice from a DataFrame.\n",
      "Try using .loc[row_indexer,col_indexer] = value instead\n",
      "\n",
      "See the caveats in the documentation: https://pandas.pydata.org/pandas-docs/stable/user_guide/indexing.html#returning-a-view-versus-a-copy\n",
      "\n",
      "C:\\Users\\nikol\\AppData\\Local\\Temp\\ipykernel_7496\\709765694.py:52: SettingWithCopyWarning:\n",
      "\n",
      "\n",
      "A value is trying to be set on a copy of a slice from a DataFrame.\n",
      "Try using .loc[row_indexer,col_indexer] = value instead\n",
      "\n",
      "See the caveats in the documentation: https://pandas.pydata.org/pandas-docs/stable/user_guide/indexing.html#returning-a-view-versus-a-copy\n",
      "\n",
      "C:\\Users\\nikol\\AppData\\Local\\Temp\\ipykernel_7496\\709765694.py:46: SettingWithCopyWarning:\n",
      "\n",
      "\n",
      "A value is trying to be set on a copy of a slice from a DataFrame.\n",
      "Try using .loc[row_indexer,col_indexer] = value instead\n",
      "\n",
      "See the caveats in the documentation: https://pandas.pydata.org/pandas-docs/stable/user_guide/indexing.html#returning-a-view-versus-a-copy\n",
      "\n",
      "C:\\Users\\nikol\\AppData\\Local\\Temp\\ipykernel_7496\\709765694.py:52: SettingWithCopyWarning:\n",
      "\n",
      "\n",
      "A value is trying to be set on a copy of a slice from a DataFrame.\n",
      "Try using .loc[row_indexer,col_indexer] = value instead\n",
      "\n",
      "See the caveats in the documentation: https://pandas.pydata.org/pandas-docs/stable/user_guide/indexing.html#returning-a-view-versus-a-copy\n",
      "\n",
      "C:\\Users\\nikol\\AppData\\Local\\Temp\\ipykernel_7496\\709765694.py:46: SettingWithCopyWarning:\n",
      "\n",
      "\n",
      "A value is trying to be set on a copy of a slice from a DataFrame.\n",
      "Try using .loc[row_indexer,col_indexer] = value instead\n",
      "\n",
      "See the caveats in the documentation: https://pandas.pydata.org/pandas-docs/stable/user_guide/indexing.html#returning-a-view-versus-a-copy\n",
      "\n",
      "C:\\Users\\nikol\\AppData\\Local\\Temp\\ipykernel_7496\\709765694.py:52: SettingWithCopyWarning:\n",
      "\n",
      "\n",
      "A value is trying to be set on a copy of a slice from a DataFrame.\n",
      "Try using .loc[row_indexer,col_indexer] = value instead\n",
      "\n",
      "See the caveats in the documentation: https://pandas.pydata.org/pandas-docs/stable/user_guide/indexing.html#returning-a-view-versus-a-copy\n",
      "\n",
      "C:\\Users\\nikol\\AppData\\Local\\Temp\\ipykernel_7496\\709765694.py:46: SettingWithCopyWarning:\n",
      "\n",
      "\n",
      "A value is trying to be set on a copy of a slice from a DataFrame.\n",
      "Try using .loc[row_indexer,col_indexer] = value instead\n",
      "\n",
      "See the caveats in the documentation: https://pandas.pydata.org/pandas-docs/stable/user_guide/indexing.html#returning-a-view-versus-a-copy\n",
      "\n",
      "C:\\Users\\nikol\\AppData\\Local\\Temp\\ipykernel_7496\\709765694.py:52: SettingWithCopyWarning:\n",
      "\n",
      "\n",
      "A value is trying to be set on a copy of a slice from a DataFrame.\n",
      "Try using .loc[row_indexer,col_indexer] = value instead\n",
      "\n",
      "See the caveats in the documentation: https://pandas.pydata.org/pandas-docs/stable/user_guide/indexing.html#returning-a-view-versus-a-copy\n",
      "\n",
      "C:\\Users\\nikol\\AppData\\Local\\Temp\\ipykernel_7496\\709765694.py:46: SettingWithCopyWarning:\n",
      "\n",
      "\n",
      "A value is trying to be set on a copy of a slice from a DataFrame.\n",
      "Try using .loc[row_indexer,col_indexer] = value instead\n",
      "\n",
      "See the caveats in the documentation: https://pandas.pydata.org/pandas-docs/stable/user_guide/indexing.html#returning-a-view-versus-a-copy\n",
      "\n",
      "C:\\Users\\nikol\\AppData\\Local\\Temp\\ipykernel_7496\\709765694.py:52: SettingWithCopyWarning:\n",
      "\n",
      "\n",
      "A value is trying to be set on a copy of a slice from a DataFrame.\n",
      "Try using .loc[row_indexer,col_indexer] = value instead\n",
      "\n",
      "See the caveats in the documentation: https://pandas.pydata.org/pandas-docs/stable/user_guide/indexing.html#returning-a-view-versus-a-copy\n",
      "\n",
      "C:\\Users\\nikol\\AppData\\Local\\Temp\\ipykernel_7496\\709765694.py:46: SettingWithCopyWarning:\n",
      "\n",
      "\n",
      "A value is trying to be set on a copy of a slice from a DataFrame.\n",
      "Try using .loc[row_indexer,col_indexer] = value instead\n",
      "\n",
      "See the caveats in the documentation: https://pandas.pydata.org/pandas-docs/stable/user_guide/indexing.html#returning-a-view-versus-a-copy\n",
      "\n",
      "C:\\Users\\nikol\\AppData\\Local\\Temp\\ipykernel_7496\\709765694.py:52: SettingWithCopyWarning:\n",
      "\n",
      "\n",
      "A value is trying to be set on a copy of a slice from a DataFrame.\n",
      "Try using .loc[row_indexer,col_indexer] = value instead\n",
      "\n",
      "See the caveats in the documentation: https://pandas.pydata.org/pandas-docs/stable/user_guide/indexing.html#returning-a-view-versus-a-copy\n",
      "\n",
      "C:\\Users\\nikol\\AppData\\Local\\Temp\\ipykernel_7496\\709765694.py:46: SettingWithCopyWarning:\n",
      "\n",
      "\n",
      "A value is trying to be set on a copy of a slice from a DataFrame.\n",
      "Try using .loc[row_indexer,col_indexer] = value instead\n",
      "\n",
      "See the caveats in the documentation: https://pandas.pydata.org/pandas-docs/stable/user_guide/indexing.html#returning-a-view-versus-a-copy\n",
      "\n",
      "C:\\Users\\nikol\\AppData\\Local\\Temp\\ipykernel_7496\\709765694.py:52: SettingWithCopyWarning:\n",
      "\n",
      "\n",
      "A value is trying to be set on a copy of a slice from a DataFrame.\n",
      "Try using .loc[row_indexer,col_indexer] = value instead\n",
      "\n",
      "See the caveats in the documentation: https://pandas.pydata.org/pandas-docs/stable/user_guide/indexing.html#returning-a-view-versus-a-copy\n",
      "\n",
      "C:\\Users\\nikol\\AppData\\Local\\Temp\\ipykernel_7496\\709765694.py:46: SettingWithCopyWarning:\n",
      "\n",
      "\n",
      "A value is trying to be set on a copy of a slice from a DataFrame.\n",
      "Try using .loc[row_indexer,col_indexer] = value instead\n",
      "\n",
      "See the caveats in the documentation: https://pandas.pydata.org/pandas-docs/stable/user_guide/indexing.html#returning-a-view-versus-a-copy\n",
      "\n",
      "C:\\Users\\nikol\\AppData\\Local\\Temp\\ipykernel_7496\\709765694.py:52: SettingWithCopyWarning:\n",
      "\n",
      "\n",
      "A value is trying to be set on a copy of a slice from a DataFrame.\n",
      "Try using .loc[row_indexer,col_indexer] = value instead\n",
      "\n",
      "See the caveats in the documentation: https://pandas.pydata.org/pandas-docs/stable/user_guide/indexing.html#returning-a-view-versus-a-copy\n",
      "\n",
      "C:\\Users\\nikol\\AppData\\Local\\Temp\\ipykernel_7496\\709765694.py:46: SettingWithCopyWarning:\n",
      "\n",
      "\n",
      "A value is trying to be set on a copy of a slice from a DataFrame.\n",
      "Try using .loc[row_indexer,col_indexer] = value instead\n",
      "\n",
      "See the caveats in the documentation: https://pandas.pydata.org/pandas-docs/stable/user_guide/indexing.html#returning-a-view-versus-a-copy\n",
      "\n",
      "C:\\Users\\nikol\\AppData\\Local\\Temp\\ipykernel_7496\\709765694.py:52: SettingWithCopyWarning:\n",
      "\n",
      "\n",
      "A value is trying to be set on a copy of a slice from a DataFrame.\n",
      "Try using .loc[row_indexer,col_indexer] = value instead\n",
      "\n",
      "See the caveats in the documentation: https://pandas.pydata.org/pandas-docs/stable/user_guide/indexing.html#returning-a-view-versus-a-copy\n",
      "\n",
      "C:\\Users\\nikol\\AppData\\Local\\Temp\\ipykernel_7496\\709765694.py:46: SettingWithCopyWarning:\n",
      "\n",
      "\n",
      "A value is trying to be set on a copy of a slice from a DataFrame.\n",
      "Try using .loc[row_indexer,col_indexer] = value instead\n",
      "\n",
      "See the caveats in the documentation: https://pandas.pydata.org/pandas-docs/stable/user_guide/indexing.html#returning-a-view-versus-a-copy\n",
      "\n",
      "C:\\Users\\nikol\\AppData\\Local\\Temp\\ipykernel_7496\\709765694.py:52: SettingWithCopyWarning:\n",
      "\n",
      "\n",
      "A value is trying to be set on a copy of a slice from a DataFrame.\n",
      "Try using .loc[row_indexer,col_indexer] = value instead\n",
      "\n",
      "See the caveats in the documentation: https://pandas.pydata.org/pandas-docs/stable/user_guide/indexing.html#returning-a-view-versus-a-copy\n",
      "\n",
      "C:\\Users\\nikol\\AppData\\Local\\Temp\\ipykernel_7496\\709765694.py:46: SettingWithCopyWarning:\n",
      "\n",
      "\n",
      "A value is trying to be set on a copy of a slice from a DataFrame.\n",
      "Try using .loc[row_indexer,col_indexer] = value instead\n",
      "\n",
      "See the caveats in the documentation: https://pandas.pydata.org/pandas-docs/stable/user_guide/indexing.html#returning-a-view-versus-a-copy\n",
      "\n",
      "C:\\Users\\nikol\\AppData\\Local\\Temp\\ipykernel_7496\\709765694.py:52: SettingWithCopyWarning:\n",
      "\n",
      "\n",
      "A value is trying to be set on a copy of a slice from a DataFrame.\n",
      "Try using .loc[row_indexer,col_indexer] = value instead\n",
      "\n",
      "See the caveats in the documentation: https://pandas.pydata.org/pandas-docs/stable/user_guide/indexing.html#returning-a-view-versus-a-copy\n",
      "\n",
      "C:\\Users\\nikol\\AppData\\Local\\Temp\\ipykernel_7496\\709765694.py:46: SettingWithCopyWarning:\n",
      "\n",
      "\n",
      "A value is trying to be set on a copy of a slice from a DataFrame.\n",
      "Try using .loc[row_indexer,col_indexer] = value instead\n",
      "\n",
      "See the caveats in the documentation: https://pandas.pydata.org/pandas-docs/stable/user_guide/indexing.html#returning-a-view-versus-a-copy\n",
      "\n",
      "C:\\Users\\nikol\\AppData\\Local\\Temp\\ipykernel_7496\\709765694.py:52: SettingWithCopyWarning:\n",
      "\n",
      "\n",
      "A value is trying to be set on a copy of a slice from a DataFrame.\n",
      "Try using .loc[row_indexer,col_indexer] = value instead\n",
      "\n",
      "See the caveats in the documentation: https://pandas.pydata.org/pandas-docs/stable/user_guide/indexing.html#returning-a-view-versus-a-copy\n",
      "\n",
      "C:\\Users\\nikol\\AppData\\Local\\Temp\\ipykernel_7496\\709765694.py:46: SettingWithCopyWarning:\n",
      "\n",
      "\n",
      "A value is trying to be set on a copy of a slice from a DataFrame.\n",
      "Try using .loc[row_indexer,col_indexer] = value instead\n",
      "\n",
      "See the caveats in the documentation: https://pandas.pydata.org/pandas-docs/stable/user_guide/indexing.html#returning-a-view-versus-a-copy\n",
      "\n",
      "C:\\Users\\nikol\\AppData\\Local\\Temp\\ipykernel_7496\\709765694.py:52: SettingWithCopyWarning:\n",
      "\n",
      "\n",
      "A value is trying to be set on a copy of a slice from a DataFrame.\n",
      "Try using .loc[row_indexer,col_indexer] = value instead\n",
      "\n",
      "See the caveats in the documentation: https://pandas.pydata.org/pandas-docs/stable/user_guide/indexing.html#returning-a-view-versus-a-copy\n",
      "\n",
      "C:\\Users\\nikol\\AppData\\Local\\Temp\\ipykernel_7496\\709765694.py:46: SettingWithCopyWarning:\n",
      "\n",
      "\n",
      "A value is trying to be set on a copy of a slice from a DataFrame.\n",
      "Try using .loc[row_indexer,col_indexer] = value instead\n",
      "\n",
      "See the caveats in the documentation: https://pandas.pydata.org/pandas-docs/stable/user_guide/indexing.html#returning-a-view-versus-a-copy\n",
      "\n",
      "C:\\Users\\nikol\\AppData\\Local\\Temp\\ipykernel_7496\\709765694.py:52: SettingWithCopyWarning:\n",
      "\n",
      "\n",
      "A value is trying to be set on a copy of a slice from a DataFrame.\n",
      "Try using .loc[row_indexer,col_indexer] = value instead\n",
      "\n",
      "See the caveats in the documentation: https://pandas.pydata.org/pandas-docs/stable/user_guide/indexing.html#returning-a-view-versus-a-copy\n",
      "\n",
      "C:\\Users\\nikol\\AppData\\Local\\Temp\\ipykernel_7496\\709765694.py:46: SettingWithCopyWarning:\n",
      "\n",
      "\n",
      "A value is trying to be set on a copy of a slice from a DataFrame.\n",
      "Try using .loc[row_indexer,col_indexer] = value instead\n",
      "\n",
      "See the caveats in the documentation: https://pandas.pydata.org/pandas-docs/stable/user_guide/indexing.html#returning-a-view-versus-a-copy\n",
      "\n",
      "C:\\Users\\nikol\\AppData\\Local\\Temp\\ipykernel_7496\\709765694.py:52: SettingWithCopyWarning:\n",
      "\n",
      "\n",
      "A value is trying to be set on a copy of a slice from a DataFrame.\n",
      "Try using .loc[row_indexer,col_indexer] = value instead\n",
      "\n",
      "See the caveats in the documentation: https://pandas.pydata.org/pandas-docs/stable/user_guide/indexing.html#returning-a-view-versus-a-copy\n",
      "\n",
      "C:\\Users\\nikol\\AppData\\Local\\Temp\\ipykernel_7496\\709765694.py:46: SettingWithCopyWarning:\n",
      "\n",
      "\n",
      "A value is trying to be set on a copy of a slice from a DataFrame.\n",
      "Try using .loc[row_indexer,col_indexer] = value instead\n",
      "\n",
      "See the caveats in the documentation: https://pandas.pydata.org/pandas-docs/stable/user_guide/indexing.html#returning-a-view-versus-a-copy\n",
      "\n",
      "C:\\Users\\nikol\\AppData\\Local\\Temp\\ipykernel_7496\\709765694.py:52: SettingWithCopyWarning:\n",
      "\n",
      "\n",
      "A value is trying to be set on a copy of a slice from a DataFrame.\n",
      "Try using .loc[row_indexer,col_indexer] = value instead\n",
      "\n",
      "See the caveats in the documentation: https://pandas.pydata.org/pandas-docs/stable/user_guide/indexing.html#returning-a-view-versus-a-copy\n",
      "\n",
      "C:\\Users\\nikol\\AppData\\Local\\Temp\\ipykernel_7496\\709765694.py:46: SettingWithCopyWarning:\n",
      "\n",
      "\n",
      "A value is trying to be set on a copy of a slice from a DataFrame.\n",
      "Try using .loc[row_indexer,col_indexer] = value instead\n",
      "\n",
      "See the caveats in the documentation: https://pandas.pydata.org/pandas-docs/stable/user_guide/indexing.html#returning-a-view-versus-a-copy\n",
      "\n",
      "C:\\Users\\nikol\\AppData\\Local\\Temp\\ipykernel_7496\\709765694.py:52: SettingWithCopyWarning:\n",
      "\n",
      "\n",
      "A value is trying to be set on a copy of a slice from a DataFrame.\n",
      "Try using .loc[row_indexer,col_indexer] = value instead\n",
      "\n",
      "See the caveats in the documentation: https://pandas.pydata.org/pandas-docs/stable/user_guide/indexing.html#returning-a-view-versus-a-copy\n",
      "\n",
      "C:\\Users\\nikol\\AppData\\Local\\Temp\\ipykernel_7496\\709765694.py:46: SettingWithCopyWarning:\n",
      "\n",
      "\n",
      "A value is trying to be set on a copy of a slice from a DataFrame.\n",
      "Try using .loc[row_indexer,col_indexer] = value instead\n",
      "\n",
      "See the caveats in the documentation: https://pandas.pydata.org/pandas-docs/stable/user_guide/indexing.html#returning-a-view-versus-a-copy\n",
      "\n",
      "C:\\Users\\nikol\\AppData\\Local\\Temp\\ipykernel_7496\\709765694.py:52: SettingWithCopyWarning:\n",
      "\n",
      "\n",
      "A value is trying to be set on a copy of a slice from a DataFrame.\n",
      "Try using .loc[row_indexer,col_indexer] = value instead\n",
      "\n",
      "See the caveats in the documentation: https://pandas.pydata.org/pandas-docs/stable/user_guide/indexing.html#returning-a-view-versus-a-copy\n",
      "\n",
      "C:\\Users\\nikol\\AppData\\Local\\Temp\\ipykernel_7496\\709765694.py:46: SettingWithCopyWarning:\n",
      "\n",
      "\n",
      "A value is trying to be set on a copy of a slice from a DataFrame.\n",
      "Try using .loc[row_indexer,col_indexer] = value instead\n",
      "\n",
      "See the caveats in the documentation: https://pandas.pydata.org/pandas-docs/stable/user_guide/indexing.html#returning-a-view-versus-a-copy\n",
      "\n",
      "C:\\Users\\nikol\\AppData\\Local\\Temp\\ipykernel_7496\\709765694.py:52: SettingWithCopyWarning:\n",
      "\n",
      "\n",
      "A value is trying to be set on a copy of a slice from a DataFrame.\n",
      "Try using .loc[row_indexer,col_indexer] = value instead\n",
      "\n",
      "See the caveats in the documentation: https://pandas.pydata.org/pandas-docs/stable/user_guide/indexing.html#returning-a-view-versus-a-copy\n",
      "\n",
      "C:\\Users\\nikol\\AppData\\Local\\Temp\\ipykernel_7496\\709765694.py:46: SettingWithCopyWarning:\n",
      "\n",
      "\n",
      "A value is trying to be set on a copy of a slice from a DataFrame.\n",
      "Try using .loc[row_indexer,col_indexer] = value instead\n",
      "\n",
      "See the caveats in the documentation: https://pandas.pydata.org/pandas-docs/stable/user_guide/indexing.html#returning-a-view-versus-a-copy\n",
      "\n",
      "C:\\Users\\nikol\\AppData\\Local\\Temp\\ipykernel_7496\\709765694.py:52: SettingWithCopyWarning:\n",
      "\n",
      "\n",
      "A value is trying to be set on a copy of a slice from a DataFrame.\n",
      "Try using .loc[row_indexer,col_indexer] = value instead\n",
      "\n",
      "See the caveats in the documentation: https://pandas.pydata.org/pandas-docs/stable/user_guide/indexing.html#returning-a-view-versus-a-copy\n",
      "\n",
      "C:\\Users\\nikol\\AppData\\Local\\Temp\\ipykernel_7496\\709765694.py:46: SettingWithCopyWarning:\n",
      "\n",
      "\n",
      "A value is trying to be set on a copy of a slice from a DataFrame.\n",
      "Try using .loc[row_indexer,col_indexer] = value instead\n",
      "\n",
      "See the caveats in the documentation: https://pandas.pydata.org/pandas-docs/stable/user_guide/indexing.html#returning-a-view-versus-a-copy\n",
      "\n",
      "C:\\Users\\nikol\\AppData\\Local\\Temp\\ipykernel_7496\\709765694.py:52: SettingWithCopyWarning:\n",
      "\n",
      "\n",
      "A value is trying to be set on a copy of a slice from a DataFrame.\n",
      "Try using .loc[row_indexer,col_indexer] = value instead\n",
      "\n",
      "See the caveats in the documentation: https://pandas.pydata.org/pandas-docs/stable/user_guide/indexing.html#returning-a-view-versus-a-copy\n",
      "\n",
      "C:\\Users\\nikol\\AppData\\Local\\Temp\\ipykernel_7496\\709765694.py:46: SettingWithCopyWarning:\n",
      "\n",
      "\n",
      "A value is trying to be set on a copy of a slice from a DataFrame.\n",
      "Try using .loc[row_indexer,col_indexer] = value instead\n",
      "\n",
      "See the caveats in the documentation: https://pandas.pydata.org/pandas-docs/stable/user_guide/indexing.html#returning-a-view-versus-a-copy\n",
      "\n",
      "C:\\Users\\nikol\\AppData\\Local\\Temp\\ipykernel_7496\\709765694.py:52: SettingWithCopyWarning:\n",
      "\n",
      "\n",
      "A value is trying to be set on a copy of a slice from a DataFrame.\n",
      "Try using .loc[row_indexer,col_indexer] = value instead\n",
      "\n",
      "See the caveats in the documentation: https://pandas.pydata.org/pandas-docs/stable/user_guide/indexing.html#returning-a-view-versus-a-copy\n",
      "\n",
      "C:\\Users\\nikol\\AppData\\Local\\Temp\\ipykernel_7496\\709765694.py:46: SettingWithCopyWarning:\n",
      "\n",
      "\n",
      "A value is trying to be set on a copy of a slice from a DataFrame.\n",
      "Try using .loc[row_indexer,col_indexer] = value instead\n",
      "\n",
      "See the caveats in the documentation: https://pandas.pydata.org/pandas-docs/stable/user_guide/indexing.html#returning-a-view-versus-a-copy\n",
      "\n",
      "C:\\Users\\nikol\\AppData\\Local\\Temp\\ipykernel_7496\\709765694.py:52: SettingWithCopyWarning:\n",
      "\n",
      "\n",
      "A value is trying to be set on a copy of a slice from a DataFrame.\n",
      "Try using .loc[row_indexer,col_indexer] = value instead\n",
      "\n",
      "See the caveats in the documentation: https://pandas.pydata.org/pandas-docs/stable/user_guide/indexing.html#returning-a-view-versus-a-copy\n",
      "\n",
      "C:\\Users\\nikol\\AppData\\Local\\Temp\\ipykernel_7496\\709765694.py:46: SettingWithCopyWarning:\n",
      "\n",
      "\n",
      "A value is trying to be set on a copy of a slice from a DataFrame.\n",
      "Try using .loc[row_indexer,col_indexer] = value instead\n",
      "\n",
      "See the caveats in the documentation: https://pandas.pydata.org/pandas-docs/stable/user_guide/indexing.html#returning-a-view-versus-a-copy\n",
      "\n",
      "C:\\Users\\nikol\\AppData\\Local\\Temp\\ipykernel_7496\\709765694.py:52: SettingWithCopyWarning:\n",
      "\n",
      "\n",
      "A value is trying to be set on a copy of a slice from a DataFrame.\n",
      "Try using .loc[row_indexer,col_indexer] = value instead\n",
      "\n",
      "See the caveats in the documentation: https://pandas.pydata.org/pandas-docs/stable/user_guide/indexing.html#returning-a-view-versus-a-copy\n",
      "\n",
      "C:\\Users\\nikol\\AppData\\Local\\Temp\\ipykernel_7496\\709765694.py:46: SettingWithCopyWarning:\n",
      "\n",
      "\n",
      "A value is trying to be set on a copy of a slice from a DataFrame.\n",
      "Try using .loc[row_indexer,col_indexer] = value instead\n",
      "\n",
      "See the caveats in the documentation: https://pandas.pydata.org/pandas-docs/stable/user_guide/indexing.html#returning-a-view-versus-a-copy\n",
      "\n",
      "C:\\Users\\nikol\\AppData\\Local\\Temp\\ipykernel_7496\\709765694.py:52: SettingWithCopyWarning:\n",
      "\n",
      "\n",
      "A value is trying to be set on a copy of a slice from a DataFrame.\n",
      "Try using .loc[row_indexer,col_indexer] = value instead\n",
      "\n",
      "See the caveats in the documentation: https://pandas.pydata.org/pandas-docs/stable/user_guide/indexing.html#returning-a-view-versus-a-copy\n",
      "\n",
      "C:\\Users\\nikol\\AppData\\Local\\Temp\\ipykernel_7496\\709765694.py:46: SettingWithCopyWarning:\n",
      "\n",
      "\n",
      "A value is trying to be set on a copy of a slice from a DataFrame.\n",
      "Try using .loc[row_indexer,col_indexer] = value instead\n",
      "\n",
      "See the caveats in the documentation: https://pandas.pydata.org/pandas-docs/stable/user_guide/indexing.html#returning-a-view-versus-a-copy\n",
      "\n",
      "C:\\Users\\nikol\\AppData\\Local\\Temp\\ipykernel_7496\\709765694.py:52: SettingWithCopyWarning:\n",
      "\n",
      "\n",
      "A value is trying to be set on a copy of a slice from a DataFrame.\n",
      "Try using .loc[row_indexer,col_indexer] = value instead\n",
      "\n",
      "See the caveats in the documentation: https://pandas.pydata.org/pandas-docs/stable/user_guide/indexing.html#returning-a-view-versus-a-copy\n",
      "\n"
     ]
    }
   ],
   "source": [
    "rotinas_exercicios = {}\n",
    "for nome_treino in treino_nomes:\n",
    "    exercicios = workout_df_columns_filtered[workout_df_columns_filtered['title'] == nome_treino]['exercise_title'].unique().tolist()\n",
    "    rotinas_exercicios[nome_treino] = exercicios\n",
    "\n",
    "graficos_plotly_dict = gerar_graficos_dict(workout_df_columns_filtered, rotinas_exercicios)\n",
    "from plotly.utils import PlotlyJSONEncoder\n",
    "\n",
    "js_plotly_data = f\"const graficosPlotly = {json.dumps(graficos_plotly_dict, cls=PlotlyJSONEncoder)};\"\n"
   ]
  },
  {
   "cell_type": "code",
   "execution_count": null,
   "id": "3db0e905",
   "metadata": {},
   "outputs": [],
   "source": [
    "html_template = f\"\"\"\n",
    "<!DOCTYPE html>\n",
    "<html lang=\"pt\">\n",
    "<head>\n",
    "    <meta charset=\"UTF-8\">\n",
    "    <meta name=\"viewport\" content=\"width=device-width, initial-scale=1.0\">\n",
    "    <title>Visualização de Treinos</title>\n",
    "    <script src=\"https://cdn.plot.ly/plotly-latest.min.js\"></script>\n",
    "    <style>\n",
    "        body {{\n",
    "            font-family: 'Segoe UI', Tahoma, Geneva, Verdana, sans-serif;\n",
    "            background-color: #f4f6f8;\n",
    "            color: #333;\n",
    "            margin: 0;\n",
    "            padding: 0;\n",
    "        }}\n",
    "\n",
    "        header {{\n",
    "            background-color: #2d89ef;\n",
    "            color: white;\n",
    "            padding: 20px;\n",
    "            text-align: center;\n",
    "        }}\n",
    "\n",
    "        .container {{\n",
    "            max-width: 900px;\n",
    "            margin: 30px auto;\n",
    "            padding: 20px;\n",
    "            background-color: white;\n",
    "            box-shadow: 0 0 10px rgba(0,0,0,0.05);\n",
    "            border-radius: 8px;\n",
    "        }}\n",
    "\n",
    "        select {{\n",
    "            margin: 10px 0;\n",
    "            padding: 8px;\n",
    "            font-size: 16px;\n",
    "            width: 100%;\n",
    "            border: 1px solid #ccc;\n",
    "            border-radius: 4px;\n",
    "        }}\n",
    "\n",
    "        #grafico-container {{\n",
    "            width: 100%;\n",
    "            height: 600px;\n",
    "            margin-top: 20px;\n",
    "        }}\n",
    "\n",
    "        .alert {{\n",
    "            background-color: #fff4e5;\n",
    "            color: #8a6d3b;\n",
    "            border: 1px solid #f0c36d;\n",
    "            padding: 15px;\n",
    "            border-radius: 5px;\n",
    "            margin-bottom: 20px;\n",
    "            font-size: 15px;\n",
    "        }}\n",
    "\n",
    "        label {{\n",
    "            font-weight: bold;\n",
    "            display: block;\n",
    "            margin-top: 10px;\n",
    "        }}\n",
    "    </style>\n",
    "</head>\n",
    "<body>\n",
    "    <header>\n",
    "        <h1>Visualização de Progresso nos Treinos</h1>\n",
    "    </header>\n",
    "\n",
    "    <div class=\"container\">\n",
    "        <div class=\"alert\">\n",
    "            <strong>Importante:</strong> Após selecionar a rotina de treino e o exercício desejado, o gráfico será carregado com dados genéricos e incorretos. \n",
    "            Para garantir a exibição correta dos dados, selecione um período (ex: 30, 60 ou 90 dias) usando o botão de filtros de período no canto superior direito do gráfico.\n",
    "            <br></br>Além do mais, você pode alternar entre as séries de treino (Top Set e Work Sets) usando o botão de filtros de séries no canto superior direito do gráfico, ao lado do botão de seleção de período.\n",
    "            <br></br>Recomenda-se acessar esse documento em um computador para melhor visualização, caso não seja possível e você esteja utilizando um celular, habilite a opção de versão desktop no seu navegador.\n",
    "        </div>\n",
    "\n",
    "        <label for=\"rotina\">Rotina de Treino:</label>\n",
    "        <select id=\"rotina\" onchange=\"atualizarExercicios()\">\n",
    "            <option value=\"\">Selecione uma rotina</option>\n",
    "        </select>\n",
    "\n",
    "        <label for=\"exercicio\">Exercício:</label>\n",
    "        <select id=\"exercicio\" onchange=\"carregarGrafico()\">\n",
    "            <option value=\"\">Selecione um exercício</option>\n",
    "        </select>\n",
    "\n",
    "        <div id=\"grafico-container\"></div>\n",
    "    </div>\n",
    "\n",
    "    <script>\n",
    "        // Dados JS dos gráficos\n",
    "        {js_plotly_data}\n",
    "\n",
    "        // Dicionário de rotinas e exercícios\n",
    "        const rotinasExercicios = {json.dumps(rotinas_exercicios)};\n",
    "\n",
    "        const rotinaSelect = document.getElementById('rotina');\n",
    "        for (const rotina in rotinasExercicios) {{\n",
    "            const option = document.createElement('option');\n",
    "            option.value = rotina;\n",
    "            option.text = rotina;\n",
    "            rotinaSelect.appendChild(option);\n",
    "        }}\n",
    "\n",
    "        function atualizarExercicios() {{\n",
    "            const rotina = rotinaSelect.value;\n",
    "            const exercicioSelect = document.getElementById('exercicio');\n",
    "            exercicioSelect.innerHTML = '<option value=\"\">Selecione um exercício</option>';\n",
    "            if (rotinasExercicios[rotina]) {{\n",
    "                rotinasExercicios[rotina].forEach(exercicio => {{\n",
    "                    const option = document.createElement('option');\n",
    "                    option.value = exercicio;\n",
    "                    option.text = exercicio;\n",
    "                    exercicioSelect.appendChild(option);\n",
    "                }});\n",
    "            }}\n",
    "            carregarGrafico();\n",
    "        }}\n",
    "\n",
    "        function carregarGrafico() {{\n",
    "            const rotina = rotinaSelect.value;\n",
    "            const exercicio = document.getElementById('exercicio').value;\n",
    "            const chave = rotina + \"||\" + exercicio;\n",
    "            const container = document.getElementById('grafico-container');\n",
    "            container.innerHTML = \"\"; \n",
    "            if (graficosPlotly[chave]) {{\n",
    "                const fig = graficosPlotly[chave];\n",
    "                Plotly.newPlot(container, fig.data, fig.layout);\n",
    "            }}\n",
    "        }}\n",
    "\n",
    "        atualizarExercicios();\n",
    "    </script>\n",
    "</body>\n",
    "</html>\n",
    "\"\"\"\n",
    "\n",
    "\n",
    "with open(\"visualizacao_treino_interativa.html\", \"w\", encoding=\"utf-8\") as f:\n",
    "    f.write(html_template)\n"
   ]
  }
 ],
 "metadata": {
  "kernelspec": {
   "display_name": "Python 3",
   "language": "python",
   "name": "python3"
  },
  "language_info": {
   "codemirror_mode": {
    "name": "ipython",
    "version": 3
   },
   "file_extension": ".py",
   "mimetype": "text/x-python",
   "name": "python",
   "nbconvert_exporter": "python",
   "pygments_lexer": "ipython3",
   "version": "3.11.9"
  }
 },
 "nbformat": 4,
 "nbformat_minor": 5
}
