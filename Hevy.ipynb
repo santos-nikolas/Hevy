{
 "cells": [
  {
   "cell_type": "code",
   "execution_count": 139,
   "id": "fd8211af",
   "metadata": {},
   "outputs": [
    {
     "data": {
      "text/html": [
       "<div>\n",
       "<style scoped>\n",
       "    .dataframe tbody tr th:only-of-type {\n",
       "        vertical-align: middle;\n",
       "    }\n",
       "\n",
       "    .dataframe tbody tr th {\n",
       "        vertical-align: top;\n",
       "    }\n",
       "\n",
       "    .dataframe thead th {\n",
       "        text-align: right;\n",
       "    }\n",
       "</style>\n",
       "<table border=\"1\" class=\"dataframe\">\n",
       "  <thead>\n",
       "    <tr style=\"text-align: right;\">\n",
       "      <th></th>\n",
       "      <th>title</th>\n",
       "      <th>start_time</th>\n",
       "      <th>end_time</th>\n",
       "      <th>description</th>\n",
       "      <th>exercise_title</th>\n",
       "      <th>superset_id</th>\n",
       "      <th>exercise_notes</th>\n",
       "      <th>set_index</th>\n",
       "      <th>set_type</th>\n",
       "      <th>weight_kg</th>\n",
       "      <th>reps</th>\n",
       "      <th>distance_km</th>\n",
       "      <th>duration_seconds</th>\n",
       "      <th>rpe</th>\n",
       "    </tr>\n",
       "  </thead>\n",
       "  <tbody>\n",
       "    <tr>\n",
       "      <th>0</th>\n",
       "      <td>Legs sábado</td>\n",
       "      <td>5 Apr 2025, 08:11</td>\n",
       "      <td>5 Apr 2025, 09:40</td>\n",
       "      <td>NaN</td>\n",
       "      <td>Deadlift (Barbell)</td>\n",
       "      <td>NaN</td>\n",
       "      <td>NaN</td>\n",
       "      <td>0</td>\n",
       "      <td>normal</td>\n",
       "      <td>180.0</td>\n",
       "      <td>5</td>\n",
       "      <td>NaN</td>\n",
       "      <td>NaN</td>\n",
       "      <td>NaN</td>\n",
       "    </tr>\n",
       "    <tr>\n",
       "      <th>1</th>\n",
       "      <td>Legs sábado</td>\n",
       "      <td>5 Apr 2025, 08:11</td>\n",
       "      <td>5 Apr 2025, 09:40</td>\n",
       "      <td>NaN</td>\n",
       "      <td>Deadlift (Barbell)</td>\n",
       "      <td>NaN</td>\n",
       "      <td>NaN</td>\n",
       "      <td>1</td>\n",
       "      <td>failure</td>\n",
       "      <td>180.0</td>\n",
       "      <td>6</td>\n",
       "      <td>NaN</td>\n",
       "      <td>NaN</td>\n",
       "      <td>NaN</td>\n",
       "    </tr>\n",
       "    <tr>\n",
       "      <th>2</th>\n",
       "      <td>Legs sábado</td>\n",
       "      <td>5 Apr 2025, 08:11</td>\n",
       "      <td>5 Apr 2025, 09:40</td>\n",
       "      <td>NaN</td>\n",
       "      <td>Extensão Quadril Banco Romano</td>\n",
       "      <td>NaN</td>\n",
       "      <td>NaN</td>\n",
       "      <td>0</td>\n",
       "      <td>normal</td>\n",
       "      <td>50.0</td>\n",
       "      <td>9</td>\n",
       "      <td>NaN</td>\n",
       "      <td>NaN</td>\n",
       "      <td>NaN</td>\n",
       "    </tr>\n",
       "    <tr>\n",
       "      <th>3</th>\n",
       "      <td>Legs sábado</td>\n",
       "      <td>5 Apr 2025, 08:11</td>\n",
       "      <td>5 Apr 2025, 09:40</td>\n",
       "      <td>NaN</td>\n",
       "      <td>Extensão Quadril Banco Romano</td>\n",
       "      <td>NaN</td>\n",
       "      <td>NaN</td>\n",
       "      <td>1</td>\n",
       "      <td>failure</td>\n",
       "      <td>52.5</td>\n",
       "      <td>7</td>\n",
       "      <td>NaN</td>\n",
       "      <td>NaN</td>\n",
       "      <td>NaN</td>\n",
       "    </tr>\n",
       "    <tr>\n",
       "      <th>4</th>\n",
       "      <td>Legs sábado</td>\n",
       "      <td>5 Apr 2025, 08:11</td>\n",
       "      <td>5 Apr 2025, 09:40</td>\n",
       "      <td>NaN</td>\n",
       "      <td>Seated Leg Curl (Machine)</td>\n",
       "      <td>NaN</td>\n",
       "      <td>Pinos 4-6-4</td>\n",
       "      <td>0</td>\n",
       "      <td>normal</td>\n",
       "      <td>55.0</td>\n",
       "      <td>8</td>\n",
       "      <td>NaN</td>\n",
       "      <td>NaN</td>\n",
       "      <td>NaN</td>\n",
       "    </tr>\n",
       "    <tr>\n",
       "      <th>...</th>\n",
       "      <td>...</td>\n",
       "      <td>...</td>\n",
       "      <td>...</td>\n",
       "      <td>...</td>\n",
       "      <td>...</td>\n",
       "      <td>...</td>\n",
       "      <td>...</td>\n",
       "      <td>...</td>\n",
       "      <td>...</td>\n",
       "      <td>...</td>\n",
       "      <td>...</td>\n",
       "      <td>...</td>\n",
       "      <td>...</td>\n",
       "      <td>...</td>\n",
       "    </tr>\n",
       "    <tr>\n",
       "      <th>6341</th>\n",
       "      <td>Back day - segunda-feira</td>\n",
       "      <td>11 Dec 2023, 16:54</td>\n",
       "      <td>11 Dec 2023, 19:08</td>\n",
       "      <td>NaN</td>\n",
       "      <td>Calf Press (Machine)</td>\n",
       "      <td>NaN</td>\n",
       "      <td>NaN</td>\n",
       "      <td>1</td>\n",
       "      <td>normal</td>\n",
       "      <td>180.0</td>\n",
       "      <td>10</td>\n",
       "      <td>NaN</td>\n",
       "      <td>NaN</td>\n",
       "      <td>NaN</td>\n",
       "    </tr>\n",
       "    <tr>\n",
       "      <th>6342</th>\n",
       "      <td>Back day - segunda-feira</td>\n",
       "      <td>11 Dec 2023, 16:54</td>\n",
       "      <td>11 Dec 2023, 19:08</td>\n",
       "      <td>NaN</td>\n",
       "      <td>Calf Press (Machine)</td>\n",
       "      <td>NaN</td>\n",
       "      <td>NaN</td>\n",
       "      <td>2</td>\n",
       "      <td>failure</td>\n",
       "      <td>200.0</td>\n",
       "      <td>10</td>\n",
       "      <td>NaN</td>\n",
       "      <td>NaN</td>\n",
       "      <td>NaN</td>\n",
       "    </tr>\n",
       "    <tr>\n",
       "      <th>6343</th>\n",
       "      <td>Back day - segunda-feira</td>\n",
       "      <td>11 Dec 2023, 16:54</td>\n",
       "      <td>11 Dec 2023, 19:08</td>\n",
       "      <td>NaN</td>\n",
       "      <td>Cable Crunch</td>\n",
       "      <td>NaN</td>\n",
       "      <td>NaN</td>\n",
       "      <td>0</td>\n",
       "      <td>normal</td>\n",
       "      <td>70.0</td>\n",
       "      <td>14</td>\n",
       "      <td>NaN</td>\n",
       "      <td>NaN</td>\n",
       "      <td>NaN</td>\n",
       "    </tr>\n",
       "    <tr>\n",
       "      <th>6344</th>\n",
       "      <td>Back day - segunda-feira</td>\n",
       "      <td>11 Dec 2023, 16:54</td>\n",
       "      <td>11 Dec 2023, 19:08</td>\n",
       "      <td>NaN</td>\n",
       "      <td>Cable Crunch</td>\n",
       "      <td>NaN</td>\n",
       "      <td>NaN</td>\n",
       "      <td>1</td>\n",
       "      <td>normal</td>\n",
       "      <td>70.0</td>\n",
       "      <td>11</td>\n",
       "      <td>NaN</td>\n",
       "      <td>NaN</td>\n",
       "      <td>NaN</td>\n",
       "    </tr>\n",
       "    <tr>\n",
       "      <th>6345</th>\n",
       "      <td>Back day - segunda-feira</td>\n",
       "      <td>11 Dec 2023, 16:54</td>\n",
       "      <td>11 Dec 2023, 19:08</td>\n",
       "      <td>NaN</td>\n",
       "      <td>Cable Crunch</td>\n",
       "      <td>NaN</td>\n",
       "      <td>NaN</td>\n",
       "      <td>2</td>\n",
       "      <td>normal</td>\n",
       "      <td>75.0</td>\n",
       "      <td>7</td>\n",
       "      <td>NaN</td>\n",
       "      <td>NaN</td>\n",
       "      <td>NaN</td>\n",
       "    </tr>\n",
       "  </tbody>\n",
       "</table>\n",
       "<p>6346 rows × 14 columns</p>\n",
       "</div>"
      ],
      "text/plain": [
       "                         title          start_time            end_time  \\\n",
       "0                  Legs sábado   5 Apr 2025, 08:11   5 Apr 2025, 09:40   \n",
       "1                  Legs sábado   5 Apr 2025, 08:11   5 Apr 2025, 09:40   \n",
       "2                  Legs sábado   5 Apr 2025, 08:11   5 Apr 2025, 09:40   \n",
       "3                  Legs sábado   5 Apr 2025, 08:11   5 Apr 2025, 09:40   \n",
       "4                  Legs sábado   5 Apr 2025, 08:11   5 Apr 2025, 09:40   \n",
       "...                        ...                 ...                 ...   \n",
       "6341  Back day - segunda-feira  11 Dec 2023, 16:54  11 Dec 2023, 19:08   \n",
       "6342  Back day - segunda-feira  11 Dec 2023, 16:54  11 Dec 2023, 19:08   \n",
       "6343  Back day - segunda-feira  11 Dec 2023, 16:54  11 Dec 2023, 19:08   \n",
       "6344  Back day - segunda-feira  11 Dec 2023, 16:54  11 Dec 2023, 19:08   \n",
       "6345  Back day - segunda-feira  11 Dec 2023, 16:54  11 Dec 2023, 19:08   \n",
       "\n",
       "     description                 exercise_title  superset_id exercise_notes  \\\n",
       "0            NaN             Deadlift (Barbell)          NaN            NaN   \n",
       "1            NaN             Deadlift (Barbell)          NaN            NaN   \n",
       "2            NaN  Extensão Quadril Banco Romano          NaN            NaN   \n",
       "3            NaN  Extensão Quadril Banco Romano          NaN            NaN   \n",
       "4            NaN      Seated Leg Curl (Machine)          NaN    Pinos 4-6-4   \n",
       "...          ...                            ...          ...            ...   \n",
       "6341         NaN           Calf Press (Machine)          NaN            NaN   \n",
       "6342         NaN           Calf Press (Machine)          NaN            NaN   \n",
       "6343         NaN                   Cable Crunch          NaN            NaN   \n",
       "6344         NaN                   Cable Crunch          NaN            NaN   \n",
       "6345         NaN                   Cable Crunch          NaN            NaN   \n",
       "\n",
       "      set_index set_type  weight_kg  reps  distance_km  duration_seconds  rpe  \n",
       "0             0   normal      180.0     5          NaN               NaN  NaN  \n",
       "1             1  failure      180.0     6          NaN               NaN  NaN  \n",
       "2             0   normal       50.0     9          NaN               NaN  NaN  \n",
       "3             1  failure       52.5     7          NaN               NaN  NaN  \n",
       "4             0   normal       55.0     8          NaN               NaN  NaN  \n",
       "...         ...      ...        ...   ...          ...               ...  ...  \n",
       "6341          1   normal      180.0    10          NaN               NaN  NaN  \n",
       "6342          2  failure      200.0    10          NaN               NaN  NaN  \n",
       "6343          0   normal       70.0    14          NaN               NaN  NaN  \n",
       "6344          1   normal       70.0    11          NaN               NaN  NaN  \n",
       "6345          2   normal       75.0     7          NaN               NaN  NaN  \n",
       "\n",
       "[6346 rows x 14 columns]"
      ]
     },
     "execution_count": 139,
     "metadata": {},
     "output_type": "execute_result"
    }
   ],
   "source": [
    "import numpy as np\n",
    "import pandas as pd\n",
    "from datetime import datetime, timedelta\n",
    "import plotly.express as px\n",
    "import plotly.graph_objects as go\n",
    "\n",
    "workout_df = pd.read_csv('workouts.csv')\n",
    "workout_df"
   ]
  },
  {
   "cell_type": "code",
   "execution_count": 140,
   "id": "e45b8329",
   "metadata": {},
   "outputs": [
    {
     "data": {
      "text/plain": [
       "Index(['title', 'start_time', 'end_time', 'description', 'exercise_title',\n",
       "       'superset_id', 'exercise_notes', 'set_index', 'set_type', 'weight_kg',\n",
       "       'reps', 'distance_km', 'duration_seconds', 'rpe'],\n",
       "      dtype='object')"
      ]
     },
     "execution_count": 140,
     "metadata": {},
     "output_type": "execute_result"
    }
   ],
   "source": [
    "workout_df.columns"
   ]
  },
  {
   "cell_type": "code",
   "execution_count": 141,
   "id": "b4bc65c9",
   "metadata": {},
   "outputs": [
    {
     "data": {
      "text/plain": [
       "title                object\n",
       "start_time           object\n",
       "end_time             object\n",
       "description          object\n",
       "exercise_title       object\n",
       "superset_id         float64\n",
       "exercise_notes       object\n",
       "set_index             int64\n",
       "set_type             object\n",
       "weight_kg           float64\n",
       "reps                  int64\n",
       "distance_km         float64\n",
       "duration_seconds    float64\n",
       "rpe                 float64\n",
       "dtype: object"
      ]
     },
     "execution_count": 141,
     "metadata": {},
     "output_type": "execute_result"
    }
   ],
   "source": [
    "workout_df.dtypes"
   ]
  },
  {
   "cell_type": "code",
   "execution_count": 142,
   "id": "128d1b51",
   "metadata": {},
   "outputs": [
    {
     "data": {
      "text/html": [
       "<div>\n",
       "<style scoped>\n",
       "    .dataframe tbody tr th:only-of-type {\n",
       "        vertical-align: middle;\n",
       "    }\n",
       "\n",
       "    .dataframe tbody tr th {\n",
       "        vertical-align: top;\n",
       "    }\n",
       "\n",
       "    .dataframe thead th {\n",
       "        text-align: right;\n",
       "    }\n",
       "</style>\n",
       "<table border=\"1\" class=\"dataframe\">\n",
       "  <thead>\n",
       "    <tr style=\"text-align: right;\">\n",
       "      <th></th>\n",
       "      <th>superset_id</th>\n",
       "      <th>set_index</th>\n",
       "      <th>weight_kg</th>\n",
       "      <th>reps</th>\n",
       "      <th>distance_km</th>\n",
       "      <th>duration_seconds</th>\n",
       "      <th>rpe</th>\n",
       "    </tr>\n",
       "  </thead>\n",
       "  <tbody>\n",
       "    <tr>\n",
       "      <th>count</th>\n",
       "      <td>48.0</td>\n",
       "      <td>6346.000000</td>\n",
       "      <td>6334.000000</td>\n",
       "      <td>6346.000000</td>\n",
       "      <td>0.0</td>\n",
       "      <td>0.0</td>\n",
       "      <td>0.0</td>\n",
       "    </tr>\n",
       "    <tr>\n",
       "      <th>mean</th>\n",
       "      <td>0.0</td>\n",
       "      <td>1.172707</td>\n",
       "      <td>70.169452</td>\n",
       "      <td>6.810274</td>\n",
       "      <td>NaN</td>\n",
       "      <td>NaN</td>\n",
       "      <td>NaN</td>\n",
       "    </tr>\n",
       "    <tr>\n",
       "      <th>std</th>\n",
       "      <td>0.0</td>\n",
       "      <td>1.103238</td>\n",
       "      <td>54.627999</td>\n",
       "      <td>2.532424</td>\n",
       "      <td>NaN</td>\n",
       "      <td>NaN</td>\n",
       "      <td>NaN</td>\n",
       "    </tr>\n",
       "    <tr>\n",
       "      <th>min</th>\n",
       "      <td>0.0</td>\n",
       "      <td>0.000000</td>\n",
       "      <td>1.000000</td>\n",
       "      <td>1.000000</td>\n",
       "      <td>NaN</td>\n",
       "      <td>NaN</td>\n",
       "      <td>NaN</td>\n",
       "    </tr>\n",
       "    <tr>\n",
       "      <th>25%</th>\n",
       "      <td>0.0</td>\n",
       "      <td>0.000000</td>\n",
       "      <td>30.000000</td>\n",
       "      <td>5.000000</td>\n",
       "      <td>NaN</td>\n",
       "      <td>NaN</td>\n",
       "      <td>NaN</td>\n",
       "    </tr>\n",
       "    <tr>\n",
       "      <th>50%</th>\n",
       "      <td>0.0</td>\n",
       "      <td>1.000000</td>\n",
       "      <td>52.000000</td>\n",
       "      <td>7.000000</td>\n",
       "      <td>NaN</td>\n",
       "      <td>NaN</td>\n",
       "      <td>NaN</td>\n",
       "    </tr>\n",
       "    <tr>\n",
       "      <th>75%</th>\n",
       "      <td>0.0</td>\n",
       "      <td>2.000000</td>\n",
       "      <td>100.000000</td>\n",
       "      <td>8.000000</td>\n",
       "      <td>NaN</td>\n",
       "      <td>NaN</td>\n",
       "      <td>NaN</td>\n",
       "    </tr>\n",
       "    <tr>\n",
       "      <th>max</th>\n",
       "      <td>0.0</td>\n",
       "      <td>6.000000</td>\n",
       "      <td>330.000000</td>\n",
       "      <td>69.000000</td>\n",
       "      <td>NaN</td>\n",
       "      <td>NaN</td>\n",
       "      <td>NaN</td>\n",
       "    </tr>\n",
       "  </tbody>\n",
       "</table>\n",
       "</div>"
      ],
      "text/plain": [
       "       superset_id    set_index    weight_kg         reps  distance_km  \\\n",
       "count         48.0  6346.000000  6334.000000  6346.000000          0.0   \n",
       "mean           0.0     1.172707    70.169452     6.810274          NaN   \n",
       "std            0.0     1.103238    54.627999     2.532424          NaN   \n",
       "min            0.0     0.000000     1.000000     1.000000          NaN   \n",
       "25%            0.0     0.000000    30.000000     5.000000          NaN   \n",
       "50%            0.0     1.000000    52.000000     7.000000          NaN   \n",
       "75%            0.0     2.000000   100.000000     8.000000          NaN   \n",
       "max            0.0     6.000000   330.000000    69.000000          NaN   \n",
       "\n",
       "       duration_seconds  rpe  \n",
       "count               0.0  0.0  \n",
       "mean                NaN  NaN  \n",
       "std                 NaN  NaN  \n",
       "min                 NaN  NaN  \n",
       "25%                 NaN  NaN  \n",
       "50%                 NaN  NaN  \n",
       "75%                 NaN  NaN  \n",
       "max                 NaN  NaN  "
      ]
     },
     "execution_count": 142,
     "metadata": {},
     "output_type": "execute_result"
    }
   ],
   "source": [
    "workout_df.describe()"
   ]
  },
  {
   "cell_type": "code",
   "execution_count": null,
   "id": "0def0813",
   "metadata": {},
   "outputs": [],
   "source": []
  },
  {
   "cell_type": "code",
   "execution_count": 143,
   "id": "332450c0",
   "metadata": {},
   "outputs": [
    {
     "data": {
      "text/html": [
       "<div>\n",
       "<style scoped>\n",
       "    .dataframe tbody tr th:only-of-type {\n",
       "        vertical-align: middle;\n",
       "    }\n",
       "\n",
       "    .dataframe tbody tr th {\n",
       "        vertical-align: top;\n",
       "    }\n",
       "\n",
       "    .dataframe thead th {\n",
       "        text-align: right;\n",
       "    }\n",
       "</style>\n",
       "<table border=\"1\" class=\"dataframe\">\n",
       "  <thead>\n",
       "    <tr style=\"text-align: right;\">\n",
       "      <th></th>\n",
       "      <th>title</th>\n",
       "      <th>date</th>\n",
       "      <th>exercise_title</th>\n",
       "      <th>set_index</th>\n",
       "      <th>set_type</th>\n",
       "      <th>weight_kg</th>\n",
       "      <th>reps</th>\n",
       "    </tr>\n",
       "  </thead>\n",
       "  <tbody>\n",
       "    <tr>\n",
       "      <th>0</th>\n",
       "      <td>Legs sábado</td>\n",
       "      <td>5 Apr 2025, 08:11</td>\n",
       "      <td>Deadlift (Barbell)</td>\n",
       "      <td>0</td>\n",
       "      <td>normal</td>\n",
       "      <td>180.0</td>\n",
       "      <td>5</td>\n",
       "    </tr>\n",
       "    <tr>\n",
       "      <th>1</th>\n",
       "      <td>Legs sábado</td>\n",
       "      <td>5 Apr 2025, 08:11</td>\n",
       "      <td>Deadlift (Barbell)</td>\n",
       "      <td>1</td>\n",
       "      <td>failure</td>\n",
       "      <td>180.0</td>\n",
       "      <td>6</td>\n",
       "    </tr>\n",
       "    <tr>\n",
       "      <th>2</th>\n",
       "      <td>Legs sábado</td>\n",
       "      <td>5 Apr 2025, 08:11</td>\n",
       "      <td>Extensão Quadril Banco Romano</td>\n",
       "      <td>0</td>\n",
       "      <td>normal</td>\n",
       "      <td>50.0</td>\n",
       "      <td>9</td>\n",
       "    </tr>\n",
       "    <tr>\n",
       "      <th>3</th>\n",
       "      <td>Legs sábado</td>\n",
       "      <td>5 Apr 2025, 08:11</td>\n",
       "      <td>Extensão Quadril Banco Romano</td>\n",
       "      <td>1</td>\n",
       "      <td>failure</td>\n",
       "      <td>52.5</td>\n",
       "      <td>7</td>\n",
       "    </tr>\n",
       "    <tr>\n",
       "      <th>4</th>\n",
       "      <td>Legs sábado</td>\n",
       "      <td>5 Apr 2025, 08:11</td>\n",
       "      <td>Seated Leg Curl (Machine)</td>\n",
       "      <td>0</td>\n",
       "      <td>normal</td>\n",
       "      <td>55.0</td>\n",
       "      <td>8</td>\n",
       "    </tr>\n",
       "    <tr>\n",
       "      <th>...</th>\n",
       "      <td>...</td>\n",
       "      <td>...</td>\n",
       "      <td>...</td>\n",
       "      <td>...</td>\n",
       "      <td>...</td>\n",
       "      <td>...</td>\n",
       "      <td>...</td>\n",
       "    </tr>\n",
       "    <tr>\n",
       "      <th>6341</th>\n",
       "      <td>Back day - segunda-feira</td>\n",
       "      <td>11 Dec 2023, 16:54</td>\n",
       "      <td>Calf Press (Machine)</td>\n",
       "      <td>1</td>\n",
       "      <td>normal</td>\n",
       "      <td>180.0</td>\n",
       "      <td>10</td>\n",
       "    </tr>\n",
       "    <tr>\n",
       "      <th>6342</th>\n",
       "      <td>Back day - segunda-feira</td>\n",
       "      <td>11 Dec 2023, 16:54</td>\n",
       "      <td>Calf Press (Machine)</td>\n",
       "      <td>2</td>\n",
       "      <td>failure</td>\n",
       "      <td>200.0</td>\n",
       "      <td>10</td>\n",
       "    </tr>\n",
       "    <tr>\n",
       "      <th>6343</th>\n",
       "      <td>Back day - segunda-feira</td>\n",
       "      <td>11 Dec 2023, 16:54</td>\n",
       "      <td>Cable Crunch</td>\n",
       "      <td>0</td>\n",
       "      <td>normal</td>\n",
       "      <td>70.0</td>\n",
       "      <td>14</td>\n",
       "    </tr>\n",
       "    <tr>\n",
       "      <th>6344</th>\n",
       "      <td>Back day - segunda-feira</td>\n",
       "      <td>11 Dec 2023, 16:54</td>\n",
       "      <td>Cable Crunch</td>\n",
       "      <td>1</td>\n",
       "      <td>normal</td>\n",
       "      <td>70.0</td>\n",
       "      <td>11</td>\n",
       "    </tr>\n",
       "    <tr>\n",
       "      <th>6345</th>\n",
       "      <td>Back day - segunda-feira</td>\n",
       "      <td>11 Dec 2023, 16:54</td>\n",
       "      <td>Cable Crunch</td>\n",
       "      <td>2</td>\n",
       "      <td>normal</td>\n",
       "      <td>75.0</td>\n",
       "      <td>7</td>\n",
       "    </tr>\n",
       "  </tbody>\n",
       "</table>\n",
       "<p>6346 rows × 7 columns</p>\n",
       "</div>"
      ],
      "text/plain": [
       "                         title                date  \\\n",
       "0                  Legs sábado   5 Apr 2025, 08:11   \n",
       "1                  Legs sábado   5 Apr 2025, 08:11   \n",
       "2                  Legs sábado   5 Apr 2025, 08:11   \n",
       "3                  Legs sábado   5 Apr 2025, 08:11   \n",
       "4                  Legs sábado   5 Apr 2025, 08:11   \n",
       "...                        ...                 ...   \n",
       "6341  Back day - segunda-feira  11 Dec 2023, 16:54   \n",
       "6342  Back day - segunda-feira  11 Dec 2023, 16:54   \n",
       "6343  Back day - segunda-feira  11 Dec 2023, 16:54   \n",
       "6344  Back day - segunda-feira  11 Dec 2023, 16:54   \n",
       "6345  Back day - segunda-feira  11 Dec 2023, 16:54   \n",
       "\n",
       "                     exercise_title  set_index set_type  weight_kg  reps  \n",
       "0                Deadlift (Barbell)          0   normal      180.0     5  \n",
       "1                Deadlift (Barbell)          1  failure      180.0     6  \n",
       "2     Extensão Quadril Banco Romano          0   normal       50.0     9  \n",
       "3     Extensão Quadril Banco Romano          1  failure       52.5     7  \n",
       "4         Seated Leg Curl (Machine)          0   normal       55.0     8  \n",
       "...                             ...        ...      ...        ...   ...  \n",
       "6341           Calf Press (Machine)          1   normal      180.0    10  \n",
       "6342           Calf Press (Machine)          2  failure      200.0    10  \n",
       "6343                   Cable Crunch          0   normal       70.0    14  \n",
       "6344                   Cable Crunch          1   normal       70.0    11  \n",
       "6345                   Cable Crunch          2   normal       75.0     7  \n",
       "\n",
       "[6346 rows x 7 columns]"
      ]
     },
     "execution_count": 143,
     "metadata": {},
     "output_type": "execute_result"
    }
   ],
   "source": [
    "workout_df_columns_filtered = workout_df[['title','start_time', 'exercise_title', 'set_index', 'set_type', 'weight_kg', 'reps']]\n",
    "workout_df_columns_filtered = workout_df_columns_filtered.rename(columns={'start_time': 'date'})\n",
    "workout_df_columns_filtered"
   ]
  },
  {
   "cell_type": "code",
   "execution_count": 144,
   "id": "cffa9eac",
   "metadata": {},
   "outputs": [
    {
     "data": {
      "text/html": [
       "<div>\n",
       "<style scoped>\n",
       "    .dataframe tbody tr th:only-of-type {\n",
       "        vertical-align: middle;\n",
       "    }\n",
       "\n",
       "    .dataframe tbody tr th {\n",
       "        vertical-align: top;\n",
       "    }\n",
       "\n",
       "    .dataframe thead th {\n",
       "        text-align: right;\n",
       "    }\n",
       "</style>\n",
       "<table border=\"1\" class=\"dataframe\">\n",
       "  <thead>\n",
       "    <tr style=\"text-align: right;\">\n",
       "      <th></th>\n",
       "      <th>title</th>\n",
       "      <th>date</th>\n",
       "      <th>exercise_title</th>\n",
       "      <th>set_index</th>\n",
       "      <th>set_type</th>\n",
       "      <th>weight_kg</th>\n",
       "      <th>reps</th>\n",
       "    </tr>\n",
       "  </thead>\n",
       "  <tbody>\n",
       "    <tr>\n",
       "      <th>0</th>\n",
       "      <td>Legs sábado</td>\n",
       "      <td>2025-04-05</td>\n",
       "      <td>Deadlift (Barbell)</td>\n",
       "      <td>0</td>\n",
       "      <td>normal</td>\n",
       "      <td>180.00</td>\n",
       "      <td>5</td>\n",
       "    </tr>\n",
       "    <tr>\n",
       "      <th>1</th>\n",
       "      <td>Legs sábado</td>\n",
       "      <td>2025-04-05</td>\n",
       "      <td>Deadlift (Barbell)</td>\n",
       "      <td>1</td>\n",
       "      <td>failure</td>\n",
       "      <td>180.00</td>\n",
       "      <td>6</td>\n",
       "    </tr>\n",
       "    <tr>\n",
       "      <th>2</th>\n",
       "      <td>Legs sábado</td>\n",
       "      <td>2025-04-05</td>\n",
       "      <td>Extensão Quadril Banco Romano</td>\n",
       "      <td>0</td>\n",
       "      <td>normal</td>\n",
       "      <td>50.00</td>\n",
       "      <td>9</td>\n",
       "    </tr>\n",
       "    <tr>\n",
       "      <th>3</th>\n",
       "      <td>Legs sábado</td>\n",
       "      <td>2025-04-05</td>\n",
       "      <td>Extensão Quadril Banco Romano</td>\n",
       "      <td>1</td>\n",
       "      <td>failure</td>\n",
       "      <td>52.50</td>\n",
       "      <td>7</td>\n",
       "    </tr>\n",
       "    <tr>\n",
       "      <th>4</th>\n",
       "      <td>Legs sábado</td>\n",
       "      <td>2025-04-05</td>\n",
       "      <td>Seated Leg Curl (Machine)</td>\n",
       "      <td>0</td>\n",
       "      <td>normal</td>\n",
       "      <td>55.00</td>\n",
       "      <td>8</td>\n",
       "    </tr>\n",
       "    <tr>\n",
       "      <th>...</th>\n",
       "      <td>...</td>\n",
       "      <td>...</td>\n",
       "      <td>...</td>\n",
       "      <td>...</td>\n",
       "      <td>...</td>\n",
       "      <td>...</td>\n",
       "      <td>...</td>\n",
       "    </tr>\n",
       "    <tr>\n",
       "      <th>243</th>\n",
       "      <td>Upper - sexta-feira</td>\n",
       "      <td>2025-03-14</td>\n",
       "      <td>Preacher Curl (Machine)</td>\n",
       "      <td>1</td>\n",
       "      <td>failure</td>\n",
       "      <td>67.50</td>\n",
       "      <td>4</td>\n",
       "    </tr>\n",
       "    <tr>\n",
       "      <th>244</th>\n",
       "      <td>Upper - sexta-feira</td>\n",
       "      <td>2025-03-14</td>\n",
       "      <td>Triceps Rope Pushdown</td>\n",
       "      <td>0</td>\n",
       "      <td>normal</td>\n",
       "      <td>20.00</td>\n",
       "      <td>8</td>\n",
       "    </tr>\n",
       "    <tr>\n",
       "      <th>245</th>\n",
       "      <td>Upper - sexta-feira</td>\n",
       "      <td>2025-03-14</td>\n",
       "      <td>Triceps Rope Pushdown</td>\n",
       "      <td>1</td>\n",
       "      <td>failure</td>\n",
       "      <td>21.50</td>\n",
       "      <td>7</td>\n",
       "    </tr>\n",
       "    <tr>\n",
       "      <th>246</th>\n",
       "      <td>Upper - sexta-feira</td>\n",
       "      <td>2025-03-14</td>\n",
       "      <td>Cable Crunch</td>\n",
       "      <td>0</td>\n",
       "      <td>failure</td>\n",
       "      <td>38.00</td>\n",
       "      <td>12</td>\n",
       "    </tr>\n",
       "    <tr>\n",
       "      <th>247</th>\n",
       "      <td>Upper - sexta-feira</td>\n",
       "      <td>2025-03-14</td>\n",
       "      <td>Cable Crunch</td>\n",
       "      <td>1</td>\n",
       "      <td>failure</td>\n",
       "      <td>39.25</td>\n",
       "      <td>8</td>\n",
       "    </tr>\n",
       "  </tbody>\n",
       "</table>\n",
       "<p>248 rows × 7 columns</p>\n",
       "</div>"
      ],
      "text/plain": [
       "                   title        date                 exercise_title  \\\n",
       "0            Legs sábado  2025-04-05             Deadlift (Barbell)   \n",
       "1            Legs sábado  2025-04-05             Deadlift (Barbell)   \n",
       "2            Legs sábado  2025-04-05  Extensão Quadril Banco Romano   \n",
       "3            Legs sábado  2025-04-05  Extensão Quadril Banco Romano   \n",
       "4            Legs sábado  2025-04-05      Seated Leg Curl (Machine)   \n",
       "..                   ...         ...                            ...   \n",
       "243  Upper - sexta-feira  2025-03-14        Preacher Curl (Machine)   \n",
       "244  Upper - sexta-feira  2025-03-14          Triceps Rope Pushdown   \n",
       "245  Upper - sexta-feira  2025-03-14          Triceps Rope Pushdown   \n",
       "246  Upper - sexta-feira  2025-03-14                   Cable Crunch   \n",
       "247  Upper - sexta-feira  2025-03-14                   Cable Crunch   \n",
       "\n",
       "     set_index set_type  weight_kg  reps  \n",
       "0            0   normal     180.00     5  \n",
       "1            1  failure     180.00     6  \n",
       "2            0   normal      50.00     9  \n",
       "3            1  failure      52.50     7  \n",
       "4            0   normal      55.00     8  \n",
       "..         ...      ...        ...   ...  \n",
       "243          1  failure      67.50     4  \n",
       "244          0   normal      20.00     8  \n",
       "245          1  failure      21.50     7  \n",
       "246          0  failure      38.00    12  \n",
       "247          1  failure      39.25     8  \n",
       "\n",
       "[248 rows x 7 columns]"
      ]
     },
     "execution_count": 144,
     "metadata": {},
     "output_type": "execute_result"
    }
   ],
   "source": [
    "workout_df_columns_filtered['date'] = pd.to_datetime(workout_df_columns_filtered['date'], format=\"%d %b %Y, %H:%M\")\n",
    "# workout_df_columns_filtered['date'] = workout_df_columns_filtered['date'].dt.date\n",
    "workout_df_columns_filtered['date'] = workout_df_columns_filtered['date'].dt.date\n",
    "# Data atual\n",
    "hoje = datetime.now().date()\n",
    "\n",
    "# Data limite\n",
    "limite = hoje - timedelta(days=30)\n",
    "\n",
    "# Filtrando\n",
    "latest_30_days = workout_df_columns_filtered[workout_df_columns_filtered['date'] >= limite]\n",
    "latest_30_days"
   ]
  },
  {
   "cell_type": "code",
   "execution_count": 145,
   "id": "bd5fd1b6",
   "metadata": {},
   "outputs": [
    {
     "data": {
      "text/html": [
       "<div>\n",
       "<style scoped>\n",
       "    .dataframe tbody tr th:only-of-type {\n",
       "        vertical-align: middle;\n",
       "    }\n",
       "\n",
       "    .dataframe tbody tr th {\n",
       "        vertical-align: top;\n",
       "    }\n",
       "\n",
       "    .dataframe thead th {\n",
       "        text-align: right;\n",
       "    }\n",
       "</style>\n",
       "<table border=\"1\" class=\"dataframe\">\n",
       "  <thead>\n",
       "    <tr style=\"text-align: right;\">\n",
       "      <th></th>\n",
       "      <th>title</th>\n",
       "      <th>date</th>\n",
       "      <th>exercise_title</th>\n",
       "      <th>set_index</th>\n",
       "      <th>set_type</th>\n",
       "      <th>weight_kg</th>\n",
       "      <th>reps</th>\n",
       "    </tr>\n",
       "  </thead>\n",
       "  <tbody>\n",
       "    <tr>\n",
       "      <th>0</th>\n",
       "      <td>Legs sábado</td>\n",
       "      <td>2025-04-05</td>\n",
       "      <td>Deadlift (Barbell)</td>\n",
       "      <td>0</td>\n",
       "      <td>normal</td>\n",
       "      <td>180.0</td>\n",
       "      <td>5</td>\n",
       "    </tr>\n",
       "    <tr>\n",
       "      <th>1</th>\n",
       "      <td>Legs sábado</td>\n",
       "      <td>2025-04-05</td>\n",
       "      <td>Deadlift (Barbell)</td>\n",
       "      <td>1</td>\n",
       "      <td>failure</td>\n",
       "      <td>180.0</td>\n",
       "      <td>6</td>\n",
       "    </tr>\n",
       "    <tr>\n",
       "      <th>71</th>\n",
       "      <td>Legs sábado</td>\n",
       "      <td>2025-03-29</td>\n",
       "      <td>Deadlift (Barbell)</td>\n",
       "      <td>0</td>\n",
       "      <td>normal</td>\n",
       "      <td>200.0</td>\n",
       "      <td>3</td>\n",
       "    </tr>\n",
       "    <tr>\n",
       "      <th>72</th>\n",
       "      <td>Legs sábado</td>\n",
       "      <td>2025-03-29</td>\n",
       "      <td>Deadlift (Barbell)</td>\n",
       "      <td>1</td>\n",
       "      <td>failure</td>\n",
       "      <td>180.0</td>\n",
       "      <td>5</td>\n",
       "    </tr>\n",
       "    <tr>\n",
       "      <th>142</th>\n",
       "      <td>Legs sábado</td>\n",
       "      <td>2025-03-22</td>\n",
       "      <td>Deadlift (Barbell)</td>\n",
       "      <td>0</td>\n",
       "      <td>normal</td>\n",
       "      <td>200.0</td>\n",
       "      <td>4</td>\n",
       "    </tr>\n",
       "    <tr>\n",
       "      <th>143</th>\n",
       "      <td>Legs sábado</td>\n",
       "      <td>2025-03-22</td>\n",
       "      <td>Deadlift (Barbell)</td>\n",
       "      <td>1</td>\n",
       "      <td>failure</td>\n",
       "      <td>200.0</td>\n",
       "      <td>3</td>\n",
       "    </tr>\n",
       "    <tr>\n",
       "      <th>217</th>\n",
       "      <td>Legs sábado</td>\n",
       "      <td>2025-03-15</td>\n",
       "      <td>Deadlift (Barbell)</td>\n",
       "      <td>0</td>\n",
       "      <td>normal</td>\n",
       "      <td>200.0</td>\n",
       "      <td>5</td>\n",
       "    </tr>\n",
       "    <tr>\n",
       "      <th>218</th>\n",
       "      <td>Legs sábado</td>\n",
       "      <td>2025-03-15</td>\n",
       "      <td>Deadlift (Barbell)</td>\n",
       "      <td>1</td>\n",
       "      <td>failure</td>\n",
       "      <td>200.0</td>\n",
       "      <td>3</td>\n",
       "    </tr>\n",
       "  </tbody>\n",
       "</table>\n",
       "</div>"
      ],
      "text/plain": [
       "           title        date      exercise_title  set_index set_type  \\\n",
       "0    Legs sábado  2025-04-05  Deadlift (Barbell)          0   normal   \n",
       "1    Legs sábado  2025-04-05  Deadlift (Barbell)          1  failure   \n",
       "71   Legs sábado  2025-03-29  Deadlift (Barbell)          0   normal   \n",
       "72   Legs sábado  2025-03-29  Deadlift (Barbell)          1  failure   \n",
       "142  Legs sábado  2025-03-22  Deadlift (Barbell)          0   normal   \n",
       "143  Legs sábado  2025-03-22  Deadlift (Barbell)          1  failure   \n",
       "217  Legs sábado  2025-03-15  Deadlift (Barbell)          0   normal   \n",
       "218  Legs sábado  2025-03-15  Deadlift (Barbell)          1  failure   \n",
       "\n",
       "     weight_kg  reps  \n",
       "0        180.0     5  \n",
       "1        180.0     6  \n",
       "71       200.0     3  \n",
       "72       180.0     5  \n",
       "142      200.0     4  \n",
       "143      200.0     3  \n",
       "217      200.0     5  \n",
       "218      200.0     3  "
      ]
     },
     "execution_count": 145,
     "metadata": {},
     "output_type": "execute_result"
    }
   ],
   "source": [
    "latest_30_days[(latest_30_days['title'] == 'Legs sábado') & (latest_30_days['exercise_title'] == 'Deadlift (Barbell)')]"
   ]
  },
  {
   "cell_type": "code",
   "execution_count": 146,
   "id": "55b52151",
   "metadata": {},
   "outputs": [
    {
     "data": {
      "application/vnd.plotly.v1+json": {
       "config": {
        "plotlyServerURL": "https://plot.ly"
       },
       "data": [
        {
         "mode": "lines+markers+text",
         "name": "Série 1",
         "text": {
          "bdata": "AAAAAAAAFEAAAAAAAAAIQAAAAAAAABBAAAAAAAAAFEA=",
          "dtype": "f8"
         },
         "textposition": "top center",
         "type": "scatter",
         "x": [
          "2025-04-05",
          "2025-03-29",
          "2025-03-22",
          "2025-03-15"
         ],
         "y": {
          "bdata": "AAAAAACAZkAAAAAAAABpQAAAAAAAAGlAAAAAAAAAaUA=",
          "dtype": "f8"
         }
        },
        {
         "mode": "lines+markers+text",
         "name": "Série 2",
         "text": {
          "bdata": "AAAAAAAAGEAAAAAAAAAUQAAAAAAAAAhAAAAAAAAACEA=",
          "dtype": "f8"
         },
         "textposition": "top center",
         "type": "scatter",
         "visible": false,
         "x": [
          "2025-04-05",
          "2025-03-29",
          "2025-03-22",
          "2025-03-15"
         ],
         "y": {
          "bdata": "AAAAAACAZkAAAAAAAIBmQAAAAAAAAGlAAAAAAAAAaUA=",
          "dtype": "f8"
         }
        }
       ],
       "layout": {
        "template": {
         "data": {
          "bar": [
           {
            "error_x": {
             "color": "#2a3f5f"
            },
            "error_y": {
             "color": "#2a3f5f"
            },
            "marker": {
             "line": {
              "color": "#E5ECF6",
              "width": 0.5
             },
             "pattern": {
              "fillmode": "overlay",
              "size": 10,
              "solidity": 0.2
             }
            },
            "type": "bar"
           }
          ],
          "barpolar": [
           {
            "marker": {
             "line": {
              "color": "#E5ECF6",
              "width": 0.5
             },
             "pattern": {
              "fillmode": "overlay",
              "size": 10,
              "solidity": 0.2
             }
            },
            "type": "barpolar"
           }
          ],
          "carpet": [
           {
            "aaxis": {
             "endlinecolor": "#2a3f5f",
             "gridcolor": "white",
             "linecolor": "white",
             "minorgridcolor": "white",
             "startlinecolor": "#2a3f5f"
            },
            "baxis": {
             "endlinecolor": "#2a3f5f",
             "gridcolor": "white",
             "linecolor": "white",
             "minorgridcolor": "white",
             "startlinecolor": "#2a3f5f"
            },
            "type": "carpet"
           }
          ],
          "choropleth": [
           {
            "colorbar": {
             "outlinewidth": 0,
             "ticks": ""
            },
            "type": "choropleth"
           }
          ],
          "contour": [
           {
            "colorbar": {
             "outlinewidth": 0,
             "ticks": ""
            },
            "colorscale": [
             [
              0,
              "#0d0887"
             ],
             [
              0.1111111111111111,
              "#46039f"
             ],
             [
              0.2222222222222222,
              "#7201a8"
             ],
             [
              0.3333333333333333,
              "#9c179e"
             ],
             [
              0.4444444444444444,
              "#bd3786"
             ],
             [
              0.5555555555555556,
              "#d8576b"
             ],
             [
              0.6666666666666666,
              "#ed7953"
             ],
             [
              0.7777777777777778,
              "#fb9f3a"
             ],
             [
              0.8888888888888888,
              "#fdca26"
             ],
             [
              1,
              "#f0f921"
             ]
            ],
            "type": "contour"
           }
          ],
          "contourcarpet": [
           {
            "colorbar": {
             "outlinewidth": 0,
             "ticks": ""
            },
            "type": "contourcarpet"
           }
          ],
          "heatmap": [
           {
            "colorbar": {
             "outlinewidth": 0,
             "ticks": ""
            },
            "colorscale": [
             [
              0,
              "#0d0887"
             ],
             [
              0.1111111111111111,
              "#46039f"
             ],
             [
              0.2222222222222222,
              "#7201a8"
             ],
             [
              0.3333333333333333,
              "#9c179e"
             ],
             [
              0.4444444444444444,
              "#bd3786"
             ],
             [
              0.5555555555555556,
              "#d8576b"
             ],
             [
              0.6666666666666666,
              "#ed7953"
             ],
             [
              0.7777777777777778,
              "#fb9f3a"
             ],
             [
              0.8888888888888888,
              "#fdca26"
             ],
             [
              1,
              "#f0f921"
             ]
            ],
            "type": "heatmap"
           }
          ],
          "histogram": [
           {
            "marker": {
             "pattern": {
              "fillmode": "overlay",
              "size": 10,
              "solidity": 0.2
             }
            },
            "type": "histogram"
           }
          ],
          "histogram2d": [
           {
            "colorbar": {
             "outlinewidth": 0,
             "ticks": ""
            },
            "colorscale": [
             [
              0,
              "#0d0887"
             ],
             [
              0.1111111111111111,
              "#46039f"
             ],
             [
              0.2222222222222222,
              "#7201a8"
             ],
             [
              0.3333333333333333,
              "#9c179e"
             ],
             [
              0.4444444444444444,
              "#bd3786"
             ],
             [
              0.5555555555555556,
              "#d8576b"
             ],
             [
              0.6666666666666666,
              "#ed7953"
             ],
             [
              0.7777777777777778,
              "#fb9f3a"
             ],
             [
              0.8888888888888888,
              "#fdca26"
             ],
             [
              1,
              "#f0f921"
             ]
            ],
            "type": "histogram2d"
           }
          ],
          "histogram2dcontour": [
           {
            "colorbar": {
             "outlinewidth": 0,
             "ticks": ""
            },
            "colorscale": [
             [
              0,
              "#0d0887"
             ],
             [
              0.1111111111111111,
              "#46039f"
             ],
             [
              0.2222222222222222,
              "#7201a8"
             ],
             [
              0.3333333333333333,
              "#9c179e"
             ],
             [
              0.4444444444444444,
              "#bd3786"
             ],
             [
              0.5555555555555556,
              "#d8576b"
             ],
             [
              0.6666666666666666,
              "#ed7953"
             ],
             [
              0.7777777777777778,
              "#fb9f3a"
             ],
             [
              0.8888888888888888,
              "#fdca26"
             ],
             [
              1,
              "#f0f921"
             ]
            ],
            "type": "histogram2dcontour"
           }
          ],
          "mesh3d": [
           {
            "colorbar": {
             "outlinewidth": 0,
             "ticks": ""
            },
            "type": "mesh3d"
           }
          ],
          "parcoords": [
           {
            "line": {
             "colorbar": {
              "outlinewidth": 0,
              "ticks": ""
             }
            },
            "type": "parcoords"
           }
          ],
          "pie": [
           {
            "automargin": true,
            "type": "pie"
           }
          ],
          "scatter": [
           {
            "fillpattern": {
             "fillmode": "overlay",
             "size": 10,
             "solidity": 0.2
            },
            "type": "scatter"
           }
          ],
          "scatter3d": [
           {
            "line": {
             "colorbar": {
              "outlinewidth": 0,
              "ticks": ""
             }
            },
            "marker": {
             "colorbar": {
              "outlinewidth": 0,
              "ticks": ""
             }
            },
            "type": "scatter3d"
           }
          ],
          "scattercarpet": [
           {
            "marker": {
             "colorbar": {
              "outlinewidth": 0,
              "ticks": ""
             }
            },
            "type": "scattercarpet"
           }
          ],
          "scattergeo": [
           {
            "marker": {
             "colorbar": {
              "outlinewidth": 0,
              "ticks": ""
             }
            },
            "type": "scattergeo"
           }
          ],
          "scattergl": [
           {
            "marker": {
             "colorbar": {
              "outlinewidth": 0,
              "ticks": ""
             }
            },
            "type": "scattergl"
           }
          ],
          "scattermap": [
           {
            "marker": {
             "colorbar": {
              "outlinewidth": 0,
              "ticks": ""
             }
            },
            "type": "scattermap"
           }
          ],
          "scattermapbox": [
           {
            "marker": {
             "colorbar": {
              "outlinewidth": 0,
              "ticks": ""
             }
            },
            "type": "scattermapbox"
           }
          ],
          "scatterpolar": [
           {
            "marker": {
             "colorbar": {
              "outlinewidth": 0,
              "ticks": ""
             }
            },
            "type": "scatterpolar"
           }
          ],
          "scatterpolargl": [
           {
            "marker": {
             "colorbar": {
              "outlinewidth": 0,
              "ticks": ""
             }
            },
            "type": "scatterpolargl"
           }
          ],
          "scatterternary": [
           {
            "marker": {
             "colorbar": {
              "outlinewidth": 0,
              "ticks": ""
             }
            },
            "type": "scatterternary"
           }
          ],
          "surface": [
           {
            "colorbar": {
             "outlinewidth": 0,
             "ticks": ""
            },
            "colorscale": [
             [
              0,
              "#0d0887"
             ],
             [
              0.1111111111111111,
              "#46039f"
             ],
             [
              0.2222222222222222,
              "#7201a8"
             ],
             [
              0.3333333333333333,
              "#9c179e"
             ],
             [
              0.4444444444444444,
              "#bd3786"
             ],
             [
              0.5555555555555556,
              "#d8576b"
             ],
             [
              0.6666666666666666,
              "#ed7953"
             ],
             [
              0.7777777777777778,
              "#fb9f3a"
             ],
             [
              0.8888888888888888,
              "#fdca26"
             ],
             [
              1,
              "#f0f921"
             ]
            ],
            "type": "surface"
           }
          ],
          "table": [
           {
            "cells": {
             "fill": {
              "color": "#EBF0F8"
             },
             "line": {
              "color": "white"
             }
            },
            "header": {
             "fill": {
              "color": "#C8D4E3"
             },
             "line": {
              "color": "white"
             }
            },
            "type": "table"
           }
          ]
         },
         "layout": {
          "annotationdefaults": {
           "arrowcolor": "#2a3f5f",
           "arrowhead": 0,
           "arrowwidth": 1
          },
          "autotypenumbers": "strict",
          "coloraxis": {
           "colorbar": {
            "outlinewidth": 0,
            "ticks": ""
           }
          },
          "colorscale": {
           "diverging": [
            [
             0,
             "#8e0152"
            ],
            [
             0.1,
             "#c51b7d"
            ],
            [
             0.2,
             "#de77ae"
            ],
            [
             0.3,
             "#f1b6da"
            ],
            [
             0.4,
             "#fde0ef"
            ],
            [
             0.5,
             "#f7f7f7"
            ],
            [
             0.6,
             "#e6f5d0"
            ],
            [
             0.7,
             "#b8e186"
            ],
            [
             0.8,
             "#7fbc41"
            ],
            [
             0.9,
             "#4d9221"
            ],
            [
             1,
             "#276419"
            ]
           ],
           "sequential": [
            [
             0,
             "#0d0887"
            ],
            [
             0.1111111111111111,
             "#46039f"
            ],
            [
             0.2222222222222222,
             "#7201a8"
            ],
            [
             0.3333333333333333,
             "#9c179e"
            ],
            [
             0.4444444444444444,
             "#bd3786"
            ],
            [
             0.5555555555555556,
             "#d8576b"
            ],
            [
             0.6666666666666666,
             "#ed7953"
            ],
            [
             0.7777777777777778,
             "#fb9f3a"
            ],
            [
             0.8888888888888888,
             "#fdca26"
            ],
            [
             1,
             "#f0f921"
            ]
           ],
           "sequentialminus": [
            [
             0,
             "#0d0887"
            ],
            [
             0.1111111111111111,
             "#46039f"
            ],
            [
             0.2222222222222222,
             "#7201a8"
            ],
            [
             0.3333333333333333,
             "#9c179e"
            ],
            [
             0.4444444444444444,
             "#bd3786"
            ],
            [
             0.5555555555555556,
             "#d8576b"
            ],
            [
             0.6666666666666666,
             "#ed7953"
            ],
            [
             0.7777777777777778,
             "#fb9f3a"
            ],
            [
             0.8888888888888888,
             "#fdca26"
            ],
            [
             1,
             "#f0f921"
            ]
           ]
          },
          "colorway": [
           "#636efa",
           "#EF553B",
           "#00cc96",
           "#ab63fa",
           "#FFA15A",
           "#19d3f3",
           "#FF6692",
           "#B6E880",
           "#FF97FF",
           "#FECB52"
          ],
          "font": {
           "color": "#2a3f5f"
          },
          "geo": {
           "bgcolor": "white",
           "lakecolor": "white",
           "landcolor": "#E5ECF6",
           "showlakes": true,
           "showland": true,
           "subunitcolor": "white"
          },
          "hoverlabel": {
           "align": "left"
          },
          "hovermode": "closest",
          "mapbox": {
           "style": "light"
          },
          "paper_bgcolor": "white",
          "plot_bgcolor": "#E5ECF6",
          "polar": {
           "angularaxis": {
            "gridcolor": "white",
            "linecolor": "white",
            "ticks": ""
           },
           "bgcolor": "#E5ECF6",
           "radialaxis": {
            "gridcolor": "white",
            "linecolor": "white",
            "ticks": ""
           }
          },
          "scene": {
           "xaxis": {
            "backgroundcolor": "#E5ECF6",
            "gridcolor": "white",
            "gridwidth": 2,
            "linecolor": "white",
            "showbackground": true,
            "ticks": "",
            "zerolinecolor": "white"
           },
           "yaxis": {
            "backgroundcolor": "#E5ECF6",
            "gridcolor": "white",
            "gridwidth": 2,
            "linecolor": "white",
            "showbackground": true,
            "ticks": "",
            "zerolinecolor": "white"
           },
           "zaxis": {
            "backgroundcolor": "#E5ECF6",
            "gridcolor": "white",
            "gridwidth": 2,
            "linecolor": "white",
            "showbackground": true,
            "ticks": "",
            "zerolinecolor": "white"
           }
          },
          "shapedefaults": {
           "line": {
            "color": "#2a3f5f"
           }
          },
          "ternary": {
           "aaxis": {
            "gridcolor": "white",
            "linecolor": "white",
            "ticks": ""
           },
           "baxis": {
            "gridcolor": "white",
            "linecolor": "white",
            "ticks": ""
           },
           "bgcolor": "#E5ECF6",
           "caxis": {
            "gridcolor": "white",
            "linecolor": "white",
            "ticks": ""
           }
          },
          "title": {
           "x": 0.05
          },
          "xaxis": {
           "automargin": true,
           "gridcolor": "white",
           "linecolor": "white",
           "ticks": "",
           "title": {
            "standoff": 15
           },
           "zerolinecolor": "white",
           "zerolinewidth": 2
          },
          "yaxis": {
           "automargin": true,
           "gridcolor": "white",
           "linecolor": "white",
           "ticks": "",
           "title": {
            "standoff": 15
           },
           "zerolinecolor": "white",
           "zerolinewidth": 2
          }
         }
        },
        "title": {
         "text": "Evolução no Deadlift (Barbell)"
        },
        "updatemenus": [
         {
          "buttons": [
           {
            "args": [
             {
              "visible": [
               true,
               false
              ]
             }
            ],
            "label": "Série 1",
            "method": "update"
           },
           {
            "args": [
             {
              "visible": [
               false,
               true
              ]
             }
            ],
            "label": "Série 2 - Top set",
            "method": "update"
           }
          ],
          "direction": "down"
         }
        ],
        "xaxis": {
         "title": {
          "text": "Data"
         }
        },
        "yaxis": {
         "title": {
          "text": "Peso (kg)"
         }
        }
       }
      }
     },
     "metadata": {},
     "output_type": "display_data"
    }
   ],
   "source": [
    "fig = go.Figure()\n",
    "\n",
    "# Add série 0\n",
    "serie_0 = deadlift_df[deadlift_df['set_index'] == 0]\n",
    "fig.add_trace(go.Scatter(\n",
    "    x=serie_0['date'],\n",
    "    y=serie_0['weight_kg'],\n",
    "    mode='lines+markers+text',\n",
    "    name='Série 1',\n",
    "    text=serie_0['reps'],\n",
    "    textposition='top center'\n",
    "))\n",
    "\n",
    "# Add série 1\n",
    "serie_1 = deadlift_df[deadlift_df['set_index'] == 1]\n",
    "fig.add_trace(go.Scatter(\n",
    "    x=serie_1['date'],\n",
    "    y=serie_1['weight_kg'],\n",
    "    mode='lines+markers+text',\n",
    "    name='Série 2',\n",
    "    text=serie_1['reps'],\n",
    "    textposition='top center',\n",
    "    visible=False\n",
    "))\n",
    "\n",
    "# Dropdown para controlar visibilidade\n",
    "fig.update_layout(\n",
    "    title='Evolução no Deadlift (Barbell)',\n",
    "    xaxis_title='Data',\n",
    "    yaxis_title='Peso (kg)',\n",
    "    updatemenus=[\n",
    "        {\n",
    "            \"buttons\": [\n",
    "                {\"label\": \"Série 1\", \"method\": \"update\", \"args\": [{\"visible\": [True, False]}]},\n",
    "                {\"label\": \"Série 2 - Top set\", \"method\": \"update\", \"args\": [{\"visible\": [False, True]}]},\n",
    "                #{\"label\": \"Ambas\", \"method\": \"update\", \"args\": [{\"visible\": [True, True]}]},\n",
    "            ],\n",
    "            \"direction\": \"down\",\n",
    "        }\n",
    "    ]\n",
    ")\n",
    "\n",
    "fig.show()"
   ]
  },
  {
   "cell_type": "code",
   "execution_count": null,
   "id": "c92d81d5",
   "metadata": {},
   "outputs": [],
   "source": []
  },
  {
   "cell_type": "code",
   "execution_count": 147,
   "id": "e4b017f6",
   "metadata": {},
   "outputs": [
    {
     "data": {
      "application/vnd.plotly.v1+json": {
       "config": {
        "plotlyServerURL": "https://plot.ly"
       },
       "data": [
        {
         "hovertemplate": "Data: %{x}<br>Peso: %{y} kg<br>Reps: %{text}<extra></extra>",
         "mode": "lines+markers+text",
         "name": "Série 1",
         "text": [
          "5 reps",
          "3 reps",
          "4 reps",
          "5 reps",
          "5 reps"
         ],
         "textposition": "top center",
         "type": "scatter",
         "x": [
          "2025-04-05",
          "2025-03-29",
          "2025-03-22",
          "2025-03-15",
          "2025-03-08"
         ],
         "y": {
          "bdata": "AAAAAACAZkAAAAAAAABpQAAAAAAAAGlAAAAAAAAAaUAAAAAAAABpQA==",
          "dtype": "f8"
         }
        },
        {
         "hovertemplate": "Data: %{x}<br>Peso: %{y} kg<br>Reps: %{text}<extra></extra>",
         "mode": "lines+markers+text",
         "name": "Série 2",
         "text": [
          "6 reps",
          "5 reps",
          "3 reps",
          "3 reps",
          "3 reps"
         ],
         "textposition": "top center",
         "type": "scatter",
         "x": [
          "2025-04-05",
          "2025-03-29",
          "2025-03-22",
          "2025-03-15",
          "2025-03-08"
         ],
         "y": {
          "bdata": "AAAAAACAZkAAAAAAAIBmQAAAAAAAAGlAAAAAAAAAaUAAAAAAAABpQA==",
          "dtype": "f8"
         }
        }
       ],
       "layout": {
        "hovermode": "closest",
        "template": {
         "data": {
          "bar": [
           {
            "error_x": {
             "color": "#2a3f5f"
            },
            "error_y": {
             "color": "#2a3f5f"
            },
            "marker": {
             "line": {
              "color": "#E5ECF6",
              "width": 0.5
             },
             "pattern": {
              "fillmode": "overlay",
              "size": 10,
              "solidity": 0.2
             }
            },
            "type": "bar"
           }
          ],
          "barpolar": [
           {
            "marker": {
             "line": {
              "color": "#E5ECF6",
              "width": 0.5
             },
             "pattern": {
              "fillmode": "overlay",
              "size": 10,
              "solidity": 0.2
             }
            },
            "type": "barpolar"
           }
          ],
          "carpet": [
           {
            "aaxis": {
             "endlinecolor": "#2a3f5f",
             "gridcolor": "white",
             "linecolor": "white",
             "minorgridcolor": "white",
             "startlinecolor": "#2a3f5f"
            },
            "baxis": {
             "endlinecolor": "#2a3f5f",
             "gridcolor": "white",
             "linecolor": "white",
             "minorgridcolor": "white",
             "startlinecolor": "#2a3f5f"
            },
            "type": "carpet"
           }
          ],
          "choropleth": [
           {
            "colorbar": {
             "outlinewidth": 0,
             "ticks": ""
            },
            "type": "choropleth"
           }
          ],
          "contour": [
           {
            "colorbar": {
             "outlinewidth": 0,
             "ticks": ""
            },
            "colorscale": [
             [
              0,
              "#0d0887"
             ],
             [
              0.1111111111111111,
              "#46039f"
             ],
             [
              0.2222222222222222,
              "#7201a8"
             ],
             [
              0.3333333333333333,
              "#9c179e"
             ],
             [
              0.4444444444444444,
              "#bd3786"
             ],
             [
              0.5555555555555556,
              "#d8576b"
             ],
             [
              0.6666666666666666,
              "#ed7953"
             ],
             [
              0.7777777777777778,
              "#fb9f3a"
             ],
             [
              0.8888888888888888,
              "#fdca26"
             ],
             [
              1,
              "#f0f921"
             ]
            ],
            "type": "contour"
           }
          ],
          "contourcarpet": [
           {
            "colorbar": {
             "outlinewidth": 0,
             "ticks": ""
            },
            "type": "contourcarpet"
           }
          ],
          "heatmap": [
           {
            "colorbar": {
             "outlinewidth": 0,
             "ticks": ""
            },
            "colorscale": [
             [
              0,
              "#0d0887"
             ],
             [
              0.1111111111111111,
              "#46039f"
             ],
             [
              0.2222222222222222,
              "#7201a8"
             ],
             [
              0.3333333333333333,
              "#9c179e"
             ],
             [
              0.4444444444444444,
              "#bd3786"
             ],
             [
              0.5555555555555556,
              "#d8576b"
             ],
             [
              0.6666666666666666,
              "#ed7953"
             ],
             [
              0.7777777777777778,
              "#fb9f3a"
             ],
             [
              0.8888888888888888,
              "#fdca26"
             ],
             [
              1,
              "#f0f921"
             ]
            ],
            "type": "heatmap"
           }
          ],
          "histogram": [
           {
            "marker": {
             "pattern": {
              "fillmode": "overlay",
              "size": 10,
              "solidity": 0.2
             }
            },
            "type": "histogram"
           }
          ],
          "histogram2d": [
           {
            "colorbar": {
             "outlinewidth": 0,
             "ticks": ""
            },
            "colorscale": [
             [
              0,
              "#0d0887"
             ],
             [
              0.1111111111111111,
              "#46039f"
             ],
             [
              0.2222222222222222,
              "#7201a8"
             ],
             [
              0.3333333333333333,
              "#9c179e"
             ],
             [
              0.4444444444444444,
              "#bd3786"
             ],
             [
              0.5555555555555556,
              "#d8576b"
             ],
             [
              0.6666666666666666,
              "#ed7953"
             ],
             [
              0.7777777777777778,
              "#fb9f3a"
             ],
             [
              0.8888888888888888,
              "#fdca26"
             ],
             [
              1,
              "#f0f921"
             ]
            ],
            "type": "histogram2d"
           }
          ],
          "histogram2dcontour": [
           {
            "colorbar": {
             "outlinewidth": 0,
             "ticks": ""
            },
            "colorscale": [
             [
              0,
              "#0d0887"
             ],
             [
              0.1111111111111111,
              "#46039f"
             ],
             [
              0.2222222222222222,
              "#7201a8"
             ],
             [
              0.3333333333333333,
              "#9c179e"
             ],
             [
              0.4444444444444444,
              "#bd3786"
             ],
             [
              0.5555555555555556,
              "#d8576b"
             ],
             [
              0.6666666666666666,
              "#ed7953"
             ],
             [
              0.7777777777777778,
              "#fb9f3a"
             ],
             [
              0.8888888888888888,
              "#fdca26"
             ],
             [
              1,
              "#f0f921"
             ]
            ],
            "type": "histogram2dcontour"
           }
          ],
          "mesh3d": [
           {
            "colorbar": {
             "outlinewidth": 0,
             "ticks": ""
            },
            "type": "mesh3d"
           }
          ],
          "parcoords": [
           {
            "line": {
             "colorbar": {
              "outlinewidth": 0,
              "ticks": ""
             }
            },
            "type": "parcoords"
           }
          ],
          "pie": [
           {
            "automargin": true,
            "type": "pie"
           }
          ],
          "scatter": [
           {
            "fillpattern": {
             "fillmode": "overlay",
             "size": 10,
             "solidity": 0.2
            },
            "type": "scatter"
           }
          ],
          "scatter3d": [
           {
            "line": {
             "colorbar": {
              "outlinewidth": 0,
              "ticks": ""
             }
            },
            "marker": {
             "colorbar": {
              "outlinewidth": 0,
              "ticks": ""
             }
            },
            "type": "scatter3d"
           }
          ],
          "scattercarpet": [
           {
            "marker": {
             "colorbar": {
              "outlinewidth": 0,
              "ticks": ""
             }
            },
            "type": "scattercarpet"
           }
          ],
          "scattergeo": [
           {
            "marker": {
             "colorbar": {
              "outlinewidth": 0,
              "ticks": ""
             }
            },
            "type": "scattergeo"
           }
          ],
          "scattergl": [
           {
            "marker": {
             "colorbar": {
              "outlinewidth": 0,
              "ticks": ""
             }
            },
            "type": "scattergl"
           }
          ],
          "scattermap": [
           {
            "marker": {
             "colorbar": {
              "outlinewidth": 0,
              "ticks": ""
             }
            },
            "type": "scattermap"
           }
          ],
          "scattermapbox": [
           {
            "marker": {
             "colorbar": {
              "outlinewidth": 0,
              "ticks": ""
             }
            },
            "type": "scattermapbox"
           }
          ],
          "scatterpolar": [
           {
            "marker": {
             "colorbar": {
              "outlinewidth": 0,
              "ticks": ""
             }
            },
            "type": "scatterpolar"
           }
          ],
          "scatterpolargl": [
           {
            "marker": {
             "colorbar": {
              "outlinewidth": 0,
              "ticks": ""
             }
            },
            "type": "scatterpolargl"
           }
          ],
          "scatterternary": [
           {
            "marker": {
             "colorbar": {
              "outlinewidth": 0,
              "ticks": ""
             }
            },
            "type": "scatterternary"
           }
          ],
          "surface": [
           {
            "colorbar": {
             "outlinewidth": 0,
             "ticks": ""
            },
            "colorscale": [
             [
              0,
              "#0d0887"
             ],
             [
              0.1111111111111111,
              "#46039f"
             ],
             [
              0.2222222222222222,
              "#7201a8"
             ],
             [
              0.3333333333333333,
              "#9c179e"
             ],
             [
              0.4444444444444444,
              "#bd3786"
             ],
             [
              0.5555555555555556,
              "#d8576b"
             ],
             [
              0.6666666666666666,
              "#ed7953"
             ],
             [
              0.7777777777777778,
              "#fb9f3a"
             ],
             [
              0.8888888888888888,
              "#fdca26"
             ],
             [
              1,
              "#f0f921"
             ]
            ],
            "type": "surface"
           }
          ],
          "table": [
           {
            "cells": {
             "fill": {
              "color": "#EBF0F8"
             },
             "line": {
              "color": "white"
             }
            },
            "header": {
             "fill": {
              "color": "#C8D4E3"
             },
             "line": {
              "color": "white"
             }
            },
            "type": "table"
           }
          ]
         },
         "layout": {
          "annotationdefaults": {
           "arrowcolor": "#2a3f5f",
           "arrowhead": 0,
           "arrowwidth": 1
          },
          "autotypenumbers": "strict",
          "coloraxis": {
           "colorbar": {
            "outlinewidth": 0,
            "ticks": ""
           }
          },
          "colorscale": {
           "diverging": [
            [
             0,
             "#8e0152"
            ],
            [
             0.1,
             "#c51b7d"
            ],
            [
             0.2,
             "#de77ae"
            ],
            [
             0.3,
             "#f1b6da"
            ],
            [
             0.4,
             "#fde0ef"
            ],
            [
             0.5,
             "#f7f7f7"
            ],
            [
             0.6,
             "#e6f5d0"
            ],
            [
             0.7,
             "#b8e186"
            ],
            [
             0.8,
             "#7fbc41"
            ],
            [
             0.9,
             "#4d9221"
            ],
            [
             1,
             "#276419"
            ]
           ],
           "sequential": [
            [
             0,
             "#0d0887"
            ],
            [
             0.1111111111111111,
             "#46039f"
            ],
            [
             0.2222222222222222,
             "#7201a8"
            ],
            [
             0.3333333333333333,
             "#9c179e"
            ],
            [
             0.4444444444444444,
             "#bd3786"
            ],
            [
             0.5555555555555556,
             "#d8576b"
            ],
            [
             0.6666666666666666,
             "#ed7953"
            ],
            [
             0.7777777777777778,
             "#fb9f3a"
            ],
            [
             0.8888888888888888,
             "#fdca26"
            ],
            [
             1,
             "#f0f921"
            ]
           ],
           "sequentialminus": [
            [
             0,
             "#0d0887"
            ],
            [
             0.1111111111111111,
             "#46039f"
            ],
            [
             0.2222222222222222,
             "#7201a8"
            ],
            [
             0.3333333333333333,
             "#9c179e"
            ],
            [
             0.4444444444444444,
             "#bd3786"
            ],
            [
             0.5555555555555556,
             "#d8576b"
            ],
            [
             0.6666666666666666,
             "#ed7953"
            ],
            [
             0.7777777777777778,
             "#fb9f3a"
            ],
            [
             0.8888888888888888,
             "#fdca26"
            ],
            [
             1,
             "#f0f921"
            ]
           ]
          },
          "colorway": [
           "#636efa",
           "#EF553B",
           "#00cc96",
           "#ab63fa",
           "#FFA15A",
           "#19d3f3",
           "#FF6692",
           "#B6E880",
           "#FF97FF",
           "#FECB52"
          ],
          "font": {
           "color": "#2a3f5f"
          },
          "geo": {
           "bgcolor": "white",
           "lakecolor": "white",
           "landcolor": "#E5ECF6",
           "showlakes": true,
           "showland": true,
           "subunitcolor": "white"
          },
          "hoverlabel": {
           "align": "left"
          },
          "hovermode": "closest",
          "mapbox": {
           "style": "light"
          },
          "paper_bgcolor": "white",
          "plot_bgcolor": "#E5ECF6",
          "polar": {
           "angularaxis": {
            "gridcolor": "white",
            "linecolor": "white",
            "ticks": ""
           },
           "bgcolor": "#E5ECF6",
           "radialaxis": {
            "gridcolor": "white",
            "linecolor": "white",
            "ticks": ""
           }
          },
          "scene": {
           "xaxis": {
            "backgroundcolor": "#E5ECF6",
            "gridcolor": "white",
            "gridwidth": 2,
            "linecolor": "white",
            "showbackground": true,
            "ticks": "",
            "zerolinecolor": "white"
           },
           "yaxis": {
            "backgroundcolor": "#E5ECF6",
            "gridcolor": "white",
            "gridwidth": 2,
            "linecolor": "white",
            "showbackground": true,
            "ticks": "",
            "zerolinecolor": "white"
           },
           "zaxis": {
            "backgroundcolor": "#E5ECF6",
            "gridcolor": "white",
            "gridwidth": 2,
            "linecolor": "white",
            "showbackground": true,
            "ticks": "",
            "zerolinecolor": "white"
           }
          },
          "shapedefaults": {
           "line": {
            "color": "#2a3f5f"
           }
          },
          "ternary": {
           "aaxis": {
            "gridcolor": "white",
            "linecolor": "white",
            "ticks": ""
           },
           "baxis": {
            "gridcolor": "white",
            "linecolor": "white",
            "ticks": ""
           },
           "bgcolor": "#E5ECF6",
           "caxis": {
            "gridcolor": "white",
            "linecolor": "white",
            "ticks": ""
           }
          },
          "title": {
           "x": 0.05
          },
          "xaxis": {
           "automargin": true,
           "gridcolor": "white",
           "linecolor": "white",
           "ticks": "",
           "title": {
            "standoff": 15
           },
           "zerolinecolor": "white",
           "zerolinewidth": 2
          },
          "yaxis": {
           "automargin": true,
           "gridcolor": "white",
           "linecolor": "white",
           "ticks": "",
           "title": {
            "standoff": 15
           },
           "zerolinecolor": "white",
           "zerolinewidth": 2
          }
         }
        },
        "title": {
         "text": "Evolução no Deadlift (Barbell) (Legs sábado)"
        },
        "updatemenus": [
         {
          "active": 0,
          "buttons": [
           {
            "args": [
             {
              "text": [
               [
                "5 reps",
                "3 reps",
                "4 reps",
                "5 reps",
                "5 reps"
               ],
               [
                "6 reps",
                "5 reps",
                "3 reps",
                "3 reps",
                "3 reps"
               ],
               [],
               [],
               [],
               [],
               []
              ],
              "visible": [
               true,
               true,
               true,
               true,
               true,
               true,
               true
              ],
              "x": [
               [
                "2025-04-05",
                "2025-03-29",
                "2025-03-22",
                "2025-03-15",
                "2025-03-08"
               ],
               [
                "2025-04-05",
                "2025-03-29",
                "2025-03-22",
                "2025-03-15",
                "2025-03-08"
               ],
               [],
               [],
               [],
               [],
               []
              ],
              "y": [
               [
                180,
                200,
                200,
                200,
                200
               ],
               [
                180,
                180,
                200,
                200,
                200
               ],
               [],
               [],
               [],
               [],
               []
              ]
             }
            ],
            "args2": [
             {
              "visible": [
               true,
               true,
               true,
               true,
               true,
               true,
               true
              ]
             }
            ],
            "label": "Últimos 30 dias",
            "method": "restyle"
           },
           {
            "args": [
             {
              "text": [
               [
                "5 reps",
                "3 reps",
                "4 reps",
                "5 reps",
                "5 reps",
                "4 reps",
                "6 reps"
               ],
               [
                "6 reps",
                "5 reps",
                "3 reps",
                "3 reps",
                "3 reps",
                "4 reps",
                "4 reps"
               ],
               [],
               [],
               [],
               [],
               []
              ],
              "visible": [
               true,
               true,
               true,
               true,
               true,
               true,
               true
              ],
              "x": [
               [
                "2025-04-05",
                "2025-03-29",
                "2025-03-22",
                "2025-03-15",
                "2025-03-08",
                "2025-03-01",
                "2025-02-22"
               ],
               [
                "2025-04-05",
                "2025-03-29",
                "2025-03-22",
                "2025-03-15",
                "2025-03-08",
                "2025-03-01",
                "2025-02-22"
               ],
               [],
               [],
               [],
               [],
               []
              ],
              "y": [
               [
                180,
                200,
                200,
                200,
                200,
                200,
                195
               ],
               [
                180,
                180,
                200,
                200,
                200,
                200,
                200
               ],
               [],
               [],
               [],
               [],
               []
              ]
             }
            ],
            "args2": [
             {
              "visible": [
               true,
               true,
               true,
               true,
               true,
               true,
               true
              ]
             }
            ],
            "label": "Últimos 60 dias",
            "method": "restyle"
           },
           {
            "args": [
             {
              "text": [
               [
                "5 reps",
                "3 reps",
                "4 reps",
                "5 reps",
                "5 reps",
                "4 reps",
                "6 reps",
                "6 reps",
                "4 reps",
                "6 reps",
                "4 reps"
               ],
               [
                "6 reps",
                "5 reps",
                "3 reps",
                "3 reps",
                "3 reps",
                "4 reps",
                "4 reps",
                "4 reps",
                "4 reps",
                "6 reps",
                "4 reps"
               ],
               [
                "3 reps",
                "4 reps",
                "4 reps",
                "4 reps"
               ],
               [],
               [],
               [],
               []
              ],
              "visible": [
               true,
               true,
               true,
               true,
               true,
               true,
               true
              ],
              "x": [
               [
                "2025-04-05",
                "2025-03-29",
                "2025-03-22",
                "2025-03-15",
                "2025-03-08",
                "2025-03-01",
                "2025-02-22",
                "2025-02-01",
                "2025-01-25",
                "2025-01-18",
                "2025-01-11"
               ],
               [
                "2025-04-05",
                "2025-03-29",
                "2025-03-22",
                "2025-03-15",
                "2025-03-08",
                "2025-03-01",
                "2025-02-22",
                "2025-02-01",
                "2025-01-25",
                "2025-01-18",
                "2025-01-11"
               ],
               [
                "2025-02-01",
                "2025-01-25",
                "2025-01-18",
                "2025-01-11"
               ],
               [],
               [],
               [],
               []
              ],
              "y": [
               [
                180,
                200,
                200,
                200,
                200,
                200,
                195,
                195,
                195,
                190,
                190
               ],
               [
                180,
                180,
                200,
                200,
                200,
                200,
                200,
                195,
                195,
                190,
                190
               ],
               [
                195,
                195,
                195,
                190
               ],
               [],
               [],
               [],
               []
              ]
             }
            ],
            "args2": [
             {
              "visible": [
               true,
               true,
               true,
               true,
               true,
               true,
               true
              ]
             }
            ],
            "label": "Últimos 90 dias",
            "method": "restyle"
           },
           {
            "args": [
             {
              "text": [
               [
                "5 reps",
                "3 reps",
                "4 reps",
                "5 reps",
                "5 reps",
                "4 reps",
                "6 reps",
                "6 reps",
                "4 reps",
                "6 reps",
                "4 reps",
                "5 reps",
                "6 reps",
                "5 reps",
                "15 reps",
                "15 reps",
                "15 reps",
                "15 reps",
                "15 reps",
                "15 reps",
                "15 reps",
                "15 reps",
                "15 reps",
                "15 reps",
                "15 reps",
                "15 reps"
               ],
               [
                "6 reps",
                "5 reps",
                "3 reps",
                "3 reps",
                "3 reps",
                "4 reps",
                "4 reps",
                "4 reps",
                "4 reps",
                "6 reps",
                "4 reps",
                "4 reps",
                "4 reps",
                "4 reps",
                "3 reps",
                "3 reps",
                "3 reps",
                "3 reps",
                "3 reps",
                "3 reps",
                "3 reps",
                "4 reps",
                "4 reps",
                "3 reps",
                "3 reps",
                "3 reps"
               ],
               [
                "3 reps",
                "4 reps",
                "4 reps",
                "4 reps",
                "3 reps",
                "3 reps",
                "3 reps",
                "2 reps",
                "2 reps",
                "2 reps",
                "2 reps",
                "2 reps",
                "2 reps",
                "2 reps",
                "3 reps",
                "3 reps",
                "2 reps",
                "2 reps",
                "6 reps"
               ],
               [
                "2 reps",
                "2 reps",
                "2 reps",
                "2 reps",
                "2 reps",
                "2 reps",
                "6 reps",
                "6 reps",
                "6 reps",
                "6 reps",
                "2 reps",
                "6 reps"
               ],
               [
                "6 reps",
                "6 reps",
                "6 reps",
                "6 reps",
                "6 reps",
                "6 reps",
                "5 reps",
                "6 reps",
                "6 reps",
                "6 reps",
                "6 reps",
                "5 reps"
               ],
               [
                "3 reps",
                "6 reps",
                "6 reps",
                "6 reps",
                "6 reps",
                "6 reps",
                "3 reps",
                "5 reps",
                "5 reps",
                "5 reps",
                "6 reps"
               ],
               [
                "3 reps",
                "4 reps",
                "6 reps",
                "4 reps",
                "6 reps",
                "4 reps",
                "6 reps"
               ]
              ],
              "visible": [
               true,
               true,
               true,
               true,
               true,
               true,
               true
              ],
              "x": [
               [
                "2025-04-05",
                "2025-03-29",
                "2025-03-22",
                "2025-03-15",
                "2025-03-08",
                "2025-03-01",
                "2025-02-22",
                "2025-02-01",
                "2025-01-25",
                "2025-01-18",
                "2025-01-11",
                "2025-01-04",
                "2024-12-28",
                "2024-12-21",
                "2024-03-02",
                "2024-02-24",
                "2024-02-17",
                "2024-02-10",
                "2024-02-03",
                "2024-01-27",
                "2024-01-20",
                "2024-01-13",
                "2024-01-06",
                "2023-12-30",
                "2023-12-23",
                "2023-12-16"
               ],
               [
                "2025-04-05",
                "2025-03-29",
                "2025-03-22",
                "2025-03-15",
                "2025-03-08",
                "2025-03-01",
                "2025-02-22",
                "2025-02-01",
                "2025-01-25",
                "2025-01-18",
                "2025-01-11",
                "2025-01-04",
                "2024-12-28",
                "2024-12-21",
                "2024-03-02",
                "2024-02-24",
                "2024-02-17",
                "2024-02-10",
                "2024-02-03",
                "2024-01-27",
                "2024-01-20",
                "2024-01-13",
                "2024-01-06",
                "2023-12-30",
                "2023-12-23",
                "2023-12-16"
               ],
               [
                "2025-02-01",
                "2025-01-25",
                "2025-01-18",
                "2025-01-11",
                "2025-01-04",
                "2024-12-28",
                "2024-12-21",
                "2024-03-02",
                "2024-02-24",
                "2024-02-17",
                "2024-02-10",
                "2024-02-03",
                "2024-01-27",
                "2024-01-20",
                "2024-01-13",
                "2024-01-06",
                "2023-12-30",
                "2023-12-23",
                "2023-12-16"
               ],
               [
                "2024-03-02",
                "2024-02-24",
                "2024-02-17",
                "2024-02-10",
                "2024-02-03",
                "2024-01-27",
                "2024-01-20",
                "2024-01-13",
                "2024-01-06",
                "2023-12-30",
                "2023-12-23",
                "2023-12-16"
               ],
               [
                "2024-03-02",
                "2024-02-24",
                "2024-02-17",
                "2024-02-10",
                "2024-02-03",
                "2024-01-27",
                "2024-01-20",
                "2024-01-13",
                "2024-01-06",
                "2023-12-30",
                "2023-12-23",
                "2023-12-16"
               ],
               [
                "2024-03-02",
                "2024-02-24",
                "2024-02-17",
                "2024-02-10",
                "2024-02-03",
                "2024-01-27",
                "2024-01-20",
                "2024-01-13",
                "2024-01-06",
                "2023-12-30",
                "2023-12-23"
               ],
               [
                "2024-03-02",
                "2024-02-24",
                "2024-02-17",
                "2024-02-10",
                "2024-02-03",
                "2024-01-27",
                "2023-12-23"
               ]
              ],
              "y": [
               [
                180,
                200,
                200,
                200,
                200,
                200,
                195,
                195,
                195,
                190,
                190,
                190,
                190,
                190,
                80,
                80,
                80,
                80,
                80,
                80,
                80,
                80,
                80,
                80,
                80,
                60
               ],
               [
                180,
                180,
                200,
                200,
                200,
                200,
                200,
                195,
                195,
                190,
                190,
                190,
                190,
                190,
                130,
                130,
                125,
                120,
                120,
                120,
                130,
                120,
                120,
                120,
                120,
                100
               ],
               [
                195,
                195,
                195,
                190,
                190,
                190,
                190,
                160,
                152.5,
                150,
                145,
                150,
                140,
                150,
                140,
                140,
                140,
                130,
                140
               ],
               [
                170,
                165,
                162.5,
                160,
                160,
                150,
                170,
                160,
                150,
                150,
                140,
                150
               ],
               [
                180,
                175,
                172.5,
                170,
                165,
                165,
                170,
                160,
                150,
                150,
                150,
                160
               ],
               [
                180,
                175,
                172.5,
                170,
                165,
                165,
                175,
                175,
                170,
                162.5,
                150
               ],
               [
                180,
                185,
                180,
                180,
                175,
                175,
                160
               ]
              ]
             }
            ],
            "args2": [
             {
              "visible": [
               true,
               true,
               true,
               true,
               true,
               true,
               true
              ]
             }
            ],
            "label": "Todos os dados",
            "method": "restyle"
           }
          ],
          "direction": "down",
          "showactive": true,
          "x": 0.1,
          "xanchor": "left",
          "y": 1.2,
          "yanchor": "top"
         }
        ],
        "xaxis": {
         "tickformat": "%d/%m/%Y",
         "title": {
          "text": "Data"
         }
        },
        "yaxis": {
         "title": {
          "text": "Peso (kg)"
         }
        }
       }
      }
     },
     "metadata": {},
     "output_type": "display_data"
    }
   ],
   "source": [
    "import plotly.graph_objects as go\n",
    "import pandas as pd\n",
    "\n",
    "def gerar_grafico_interativo(df, treino_nome, exercicio_nome, output_path='grafico_treino.html'):\n",
    "    # Cria uma cópia do DataFrame para evitar modificações no original\n",
    "    df = df.copy()\n",
    "    \n",
    "    # Garante que a coluna 'date' está no formato datetime.date\n",
    "    df['date'] = pd.to_datetime(df['date']).dt.date\n",
    "\n",
    "    # Filtra pelo exercício e treino desejado\n",
    "    exercicio_df = df[(df['title'] == treino_nome) & (df['exercise_title'] == exercicio_nome)]\n",
    "\n",
    "    # Verifica se há dados após o filtro\n",
    "    if exercicio_df.empty:\n",
    "        print(f\"Nenhum dado encontrado para {exercicio_nome} em {treino_nome}\")\n",
    "        return None\n",
    "\n",
    "    # Calcula a data máxima para referência\n",
    "    max_date = exercicio_df['date'].max()\n",
    "\n",
    "    # Filtra inicialmente para os últimos 30 dias (padrão)\n",
    "    initial_data = exercicio_df[exercicio_df['date'] >= (max_date - pd.Timedelta(days=30))]\n",
    "\n",
    "    # Cria os traces iniciais para os últimos 30 dias\n",
    "    traces = []\n",
    "    for set_idx in sorted(initial_data['set_index'].unique()):  # Ordena para consistência\n",
    "        set_data = initial_data[initial_data['set_index'] == set_idx]\n",
    "        traces.append(go.Scatter(\n",
    "            x=set_data['date'],\n",
    "            y=set_data['weight_kg'],\n",
    "            mode='lines+markers+text',\n",
    "            name=f'Série {set_idx + 1}',\n",
    "            text=[f'{r} reps' for r in set_data['reps']],\n",
    "            textposition='top center',\n",
    "            hovertemplate='Data: %{x}<br>Peso: %{y} kg<br>Reps: %{text}<extra></extra>'\n",
    "        ))\n",
    "\n",
    "    # Layout com botões de filtro\n",
    "    layout = go.Layout(\n",
    "        title=f'Evolução no {exercicio_nome} ({treino_nome})',\n",
    "        xaxis=dict(title='Data', tickformat='%d/%m/%Y'),\n",
    "        yaxis=dict(title='Peso (kg)'),\n",
    "        hovermode='closest',\n",
    "        updatemenus=[\n",
    "            {\n",
    "                \"buttons\": [\n",
    "                    {\n",
    "                        \"label\": \"Últimos 30 dias\",\n",
    "                        \"method\": \"restyle\",\n",
    "                        \"args\": [{\n",
    "                            \"x\": [exercicio_df[(exercicio_df['set_index'] == idx) & (exercicio_df['date'] >= (max_date - pd.Timedelta(days=30)))]['date'] for idx in sorted(exercicio_df['set_index'].unique())],\n",
    "                            \"y\": [exercicio_df[(exercicio_df['set_index'] == idx) & (exercicio_df['date'] >= (max_date - pd.Timedelta(days=30)))]['weight_kg'] for idx in sorted(exercicio_df['set_index'].unique())],\n",
    "                            \"text\": [exercicio_df[(exercicio_df['set_index'] == idx) & (exercicio_df['date'] >= (max_date - pd.Timedelta(days=30)))]['reps'].apply(lambda r: f'{r} reps') for idx in sorted(exercicio_df['set_index'].unique())],\n",
    "                            \"visible\": [True] * len(exercicio_df['set_index'].unique())\n",
    "                        }],\n",
    "                        \"args2\": [{\"visible\": [True] * len(exercicio_df['set_index'].unique())}],\n",
    "                    },\n",
    "                    {\n",
    "                        \"label\": \"Últimos 60 dias\",\n",
    "                        \"method\": \"restyle\",\n",
    "                        \"args\": [{\n",
    "                            \"x\": [exercicio_df[(exercicio_df['set_index'] == idx) & (exercicio_df['date'] >= (max_date - pd.Timedelta(days=60)))]['date'] for idx in sorted(exercicio_df['set_index'].unique())],\n",
    "                            \"y\": [exercicio_df[(exercicio_df['set_index'] == idx) & (exercicio_df['date'] >= (max_date - pd.Timedelta(days=60)))]['weight_kg'] for idx in sorted(exercicio_df['set_index'].unique())],\n",
    "                            \"text\": [exercicio_df[(exercicio_df['set_index'] == idx) & (exercicio_df['date'] >= (max_date - pd.Timedelta(days=60)))]['reps'].apply(lambda r: f'{r} reps') for idx in sorted(exercicio_df['set_index'].unique())],\n",
    "                            \"visible\": [True] * len(exercicio_df['set_index'].unique())\n",
    "                        }],\n",
    "                        \"args2\": [{\"visible\": [True] * len(exercicio_df['set_index'].unique())}],\n",
    "                    },\n",
    "                    {\n",
    "                        \"label\": \"Últimos 90 dias\",\n",
    "                        \"method\": \"restyle\",\n",
    "                        \"args\": [{\n",
    "                            \"x\": [exercicio_df[(exercicio_df['set_index'] == idx) & (exercicio_df['date'] >= (max_date - pd.Timedelta(days=90)))]['date'] for idx in sorted(exercicio_df['set_index'].unique())],\n",
    "                            \"y\": [exercicio_df[(exercicio_df['set_index'] == idx) & (exercicio_df['date'] >= (max_date - pd.Timedelta(days=90)))]['weight_kg'] for idx in sorted(exercicio_df['set_index'].unique())],\n",
    "                            \"text\": [exercicio_df[(exercicio_df['set_index'] == idx) & (exercicio_df['date'] >= (max_date - pd.Timedelta(days=90)))]['reps'].apply(lambda r: f'{r} reps') for idx in sorted(exercicio_df['set_index'].unique())],\n",
    "                            \"visible\": [True] * len(exercicio_df['set_index'].unique())\n",
    "                        }],\n",
    "                        \"args2\": [{\"visible\": [True] * len(exercicio_df['set_index'].unique())}],\n",
    "                    },\n",
    "                    {\n",
    "                        \"label\": \"Todos os dados\",\n",
    "                        \"method\": \"restyle\",\n",
    "                        \"args\": [{\n",
    "                            \"x\": [exercicio_df[exercicio_df['set_index'] == idx]['date'] for idx in sorted(exercicio_df['set_index'].unique())],\n",
    "                            \"y\": [exercicio_df[exercicio_df['set_index'] == idx]['weight_kg'] for idx in sorted(exercicio_df['set_index'].unique())],\n",
    "                            \"text\": [exercicio_df[exercicio_df['set_index'] == idx]['reps'].apply(lambda r: f'{r} reps') for idx in sorted(exercicio_df['set_index'].unique())],\n",
    "                            \"visible\": [True] * len(exercicio_df['set_index'].unique())\n",
    "                        }],\n",
    "                        \"args2\": [{\"visible\": [True] * len(exercicio_df['set_index'].unique())}],\n",
    "                    }\n",
    "                ],\n",
    "                \"direction\": \"down\",\n",
    "                \"showactive\": True,\n",
    "                \"active\": 0,  # Define \"Últimos 30 dias\" como o botão ativo por padrão\n",
    "                \"x\": 0.1,\n",
    "                \"xanchor\": \"left\",\n",
    "                \"y\": 1.2,\n",
    "                \"yanchor\": \"top\"\n",
    "            }\n",
    "        ]\n",
    "    )\n",
    "\n",
    "    # Cria a figura\n",
    "    fig = go.Figure(data=traces, layout=layout)\n",
    "    \n",
    "    # Salva o gráfico como HTML\n",
    "    fig.write_html(output_path, auto_open=False)  # auto_open=False para evitar abrir o navegador automaticamente\n",
    "    \n",
    "    # Retorna a figura para visualização direta em notebooks\n",
    "    return fig\n",
    "\n",
    "# Exemplo de uso:\n",
    "graf = gerar_grafico_interativo(workout_df_columns_filtered, 'Legs sábado', 'Deadlift (Barbell)')\n",
    "if graf is not None:\n",
    "    graf.show()  # Exibe o gráfico diretamente no Jupyter Notebook"
   ]
  },
  {
   "cell_type": "code",
   "execution_count": 148,
   "id": "a9e78cc9",
   "metadata": {},
   "outputs": [
    {
     "name": "stderr",
     "output_type": "stream",
     "text": [
      "C:\\Users\\nikol\\AppData\\Local\\Temp\\ipykernel_4044\\4064115024.py:46: SettingWithCopyWarning:\n",
      "\n",
      "\n",
      "A value is trying to be set on a copy of a slice from a DataFrame.\n",
      "Try using .loc[row_indexer,col_indexer] = value instead\n",
      "\n",
      "See the caveats in the documentation: https://pandas.pydata.org/pandas-docs/stable/user_guide/indexing.html#returning-a-view-versus-a-copy\n",
      "\n",
      "C:\\Users\\nikol\\AppData\\Local\\Temp\\ipykernel_4044\\4064115024.py:52: SettingWithCopyWarning:\n",
      "\n",
      "\n",
      "A value is trying to be set on a copy of a slice from a DataFrame.\n",
      "Try using .loc[row_indexer,col_indexer] = value instead\n",
      "\n",
      "See the caveats in the documentation: https://pandas.pydata.org/pandas-docs/stable/user_guide/indexing.html#returning-a-view-versus-a-copy\n",
      "\n"
     ]
    },
    {
     "data": {
      "application/vnd.plotly.v1+json": {
       "config": {
        "plotlyServerURL": "https://plot.ly"
       },
       "data": [
        {
         "mode": "lines+markers+text",
         "name": "Top Set (Failure)",
         "text": [
          "6 reps",
          "5 reps",
          "3 reps",
          "3 reps",
          "3 reps"
         ],
         "textposition": "top center",
         "type": "scatter",
         "visible": true,
         "x": [
          "2025-04-05",
          "2025-03-29",
          "2025-03-22",
          "2025-03-15",
          "2025-03-08"
         ],
         "y": {
          "bdata": "AAAAAACAZkAAAAAAAIBmQAAAAAAAAGlAAAAAAAAAaUAAAAAAAABpQA==",
          "dtype": "f8"
         }
        },
        {
         "mode": "lines+markers+text",
         "name": "Work Set 1",
         "text": [
          "5 reps",
          "3 reps",
          "4 reps",
          "5 reps",
          "5 reps"
         ],
         "textposition": "top center",
         "type": "scatter",
         "visible": false,
         "x": [
          "2025-04-05",
          "2025-03-29",
          "2025-03-22",
          "2025-03-15",
          "2025-03-08"
         ],
         "y": {
          "bdata": "AAAAAACAZkAAAAAAAABpQAAAAAAAAGlAAAAAAAAAaUAAAAAAAABpQA==",
          "dtype": "f8"
         }
        },
        {
         "mode": "lines+markers+text",
         "name": "Work Set 2",
         "text": [],
         "textposition": "top center",
         "type": "scatter",
         "visible": false,
         "x": [],
         "y": []
        }
       ],
       "layout": {
        "hovermode": "closest",
        "template": {
         "data": {
          "bar": [
           {
            "error_x": {
             "color": "#2a3f5f"
            },
            "error_y": {
             "color": "#2a3f5f"
            },
            "marker": {
             "line": {
              "color": "#E5ECF6",
              "width": 0.5
             },
             "pattern": {
              "fillmode": "overlay",
              "size": 10,
              "solidity": 0.2
             }
            },
            "type": "bar"
           }
          ],
          "barpolar": [
           {
            "marker": {
             "line": {
              "color": "#E5ECF6",
              "width": 0.5
             },
             "pattern": {
              "fillmode": "overlay",
              "size": 10,
              "solidity": 0.2
             }
            },
            "type": "barpolar"
           }
          ],
          "carpet": [
           {
            "aaxis": {
             "endlinecolor": "#2a3f5f",
             "gridcolor": "white",
             "linecolor": "white",
             "minorgridcolor": "white",
             "startlinecolor": "#2a3f5f"
            },
            "baxis": {
             "endlinecolor": "#2a3f5f",
             "gridcolor": "white",
             "linecolor": "white",
             "minorgridcolor": "white",
             "startlinecolor": "#2a3f5f"
            },
            "type": "carpet"
           }
          ],
          "choropleth": [
           {
            "colorbar": {
             "outlinewidth": 0,
             "ticks": ""
            },
            "type": "choropleth"
           }
          ],
          "contour": [
           {
            "colorbar": {
             "outlinewidth": 0,
             "ticks": ""
            },
            "colorscale": [
             [
              0,
              "#0d0887"
             ],
             [
              0.1111111111111111,
              "#46039f"
             ],
             [
              0.2222222222222222,
              "#7201a8"
             ],
             [
              0.3333333333333333,
              "#9c179e"
             ],
             [
              0.4444444444444444,
              "#bd3786"
             ],
             [
              0.5555555555555556,
              "#d8576b"
             ],
             [
              0.6666666666666666,
              "#ed7953"
             ],
             [
              0.7777777777777778,
              "#fb9f3a"
             ],
             [
              0.8888888888888888,
              "#fdca26"
             ],
             [
              1,
              "#f0f921"
             ]
            ],
            "type": "contour"
           }
          ],
          "contourcarpet": [
           {
            "colorbar": {
             "outlinewidth": 0,
             "ticks": ""
            },
            "type": "contourcarpet"
           }
          ],
          "heatmap": [
           {
            "colorbar": {
             "outlinewidth": 0,
             "ticks": ""
            },
            "colorscale": [
             [
              0,
              "#0d0887"
             ],
             [
              0.1111111111111111,
              "#46039f"
             ],
             [
              0.2222222222222222,
              "#7201a8"
             ],
             [
              0.3333333333333333,
              "#9c179e"
             ],
             [
              0.4444444444444444,
              "#bd3786"
             ],
             [
              0.5555555555555556,
              "#d8576b"
             ],
             [
              0.6666666666666666,
              "#ed7953"
             ],
             [
              0.7777777777777778,
              "#fb9f3a"
             ],
             [
              0.8888888888888888,
              "#fdca26"
             ],
             [
              1,
              "#f0f921"
             ]
            ],
            "type": "heatmap"
           }
          ],
          "histogram": [
           {
            "marker": {
             "pattern": {
              "fillmode": "overlay",
              "size": 10,
              "solidity": 0.2
             }
            },
            "type": "histogram"
           }
          ],
          "histogram2d": [
           {
            "colorbar": {
             "outlinewidth": 0,
             "ticks": ""
            },
            "colorscale": [
             [
              0,
              "#0d0887"
             ],
             [
              0.1111111111111111,
              "#46039f"
             ],
             [
              0.2222222222222222,
              "#7201a8"
             ],
             [
              0.3333333333333333,
              "#9c179e"
             ],
             [
              0.4444444444444444,
              "#bd3786"
             ],
             [
              0.5555555555555556,
              "#d8576b"
             ],
             [
              0.6666666666666666,
              "#ed7953"
             ],
             [
              0.7777777777777778,
              "#fb9f3a"
             ],
             [
              0.8888888888888888,
              "#fdca26"
             ],
             [
              1,
              "#f0f921"
             ]
            ],
            "type": "histogram2d"
           }
          ],
          "histogram2dcontour": [
           {
            "colorbar": {
             "outlinewidth": 0,
             "ticks": ""
            },
            "colorscale": [
             [
              0,
              "#0d0887"
             ],
             [
              0.1111111111111111,
              "#46039f"
             ],
             [
              0.2222222222222222,
              "#7201a8"
             ],
             [
              0.3333333333333333,
              "#9c179e"
             ],
             [
              0.4444444444444444,
              "#bd3786"
             ],
             [
              0.5555555555555556,
              "#d8576b"
             ],
             [
              0.6666666666666666,
              "#ed7953"
             ],
             [
              0.7777777777777778,
              "#fb9f3a"
             ],
             [
              0.8888888888888888,
              "#fdca26"
             ],
             [
              1,
              "#f0f921"
             ]
            ],
            "type": "histogram2dcontour"
           }
          ],
          "mesh3d": [
           {
            "colorbar": {
             "outlinewidth": 0,
             "ticks": ""
            },
            "type": "mesh3d"
           }
          ],
          "parcoords": [
           {
            "line": {
             "colorbar": {
              "outlinewidth": 0,
              "ticks": ""
             }
            },
            "type": "parcoords"
           }
          ],
          "pie": [
           {
            "automargin": true,
            "type": "pie"
           }
          ],
          "scatter": [
           {
            "fillpattern": {
             "fillmode": "overlay",
             "size": 10,
             "solidity": 0.2
            },
            "type": "scatter"
           }
          ],
          "scatter3d": [
           {
            "line": {
             "colorbar": {
              "outlinewidth": 0,
              "ticks": ""
             }
            },
            "marker": {
             "colorbar": {
              "outlinewidth": 0,
              "ticks": ""
             }
            },
            "type": "scatter3d"
           }
          ],
          "scattercarpet": [
           {
            "marker": {
             "colorbar": {
              "outlinewidth": 0,
              "ticks": ""
             }
            },
            "type": "scattercarpet"
           }
          ],
          "scattergeo": [
           {
            "marker": {
             "colorbar": {
              "outlinewidth": 0,
              "ticks": ""
             }
            },
            "type": "scattergeo"
           }
          ],
          "scattergl": [
           {
            "marker": {
             "colorbar": {
              "outlinewidth": 0,
              "ticks": ""
             }
            },
            "type": "scattergl"
           }
          ],
          "scattermap": [
           {
            "marker": {
             "colorbar": {
              "outlinewidth": 0,
              "ticks": ""
             }
            },
            "type": "scattermap"
           }
          ],
          "scattermapbox": [
           {
            "marker": {
             "colorbar": {
              "outlinewidth": 0,
              "ticks": ""
             }
            },
            "type": "scattermapbox"
           }
          ],
          "scatterpolar": [
           {
            "marker": {
             "colorbar": {
              "outlinewidth": 0,
              "ticks": ""
             }
            },
            "type": "scatterpolar"
           }
          ],
          "scatterpolargl": [
           {
            "marker": {
             "colorbar": {
              "outlinewidth": 0,
              "ticks": ""
             }
            },
            "type": "scatterpolargl"
           }
          ],
          "scatterternary": [
           {
            "marker": {
             "colorbar": {
              "outlinewidth": 0,
              "ticks": ""
             }
            },
            "type": "scatterternary"
           }
          ],
          "surface": [
           {
            "colorbar": {
             "outlinewidth": 0,
             "ticks": ""
            },
            "colorscale": [
             [
              0,
              "#0d0887"
             ],
             [
              0.1111111111111111,
              "#46039f"
             ],
             [
              0.2222222222222222,
              "#7201a8"
             ],
             [
              0.3333333333333333,
              "#9c179e"
             ],
             [
              0.4444444444444444,
              "#bd3786"
             ],
             [
              0.5555555555555556,
              "#d8576b"
             ],
             [
              0.6666666666666666,
              "#ed7953"
             ],
             [
              0.7777777777777778,
              "#fb9f3a"
             ],
             [
              0.8888888888888888,
              "#fdca26"
             ],
             [
              1,
              "#f0f921"
             ]
            ],
            "type": "surface"
           }
          ],
          "table": [
           {
            "cells": {
             "fill": {
              "color": "#EBF0F8"
             },
             "line": {
              "color": "white"
             }
            },
            "header": {
             "fill": {
              "color": "#C8D4E3"
             },
             "line": {
              "color": "white"
             }
            },
            "type": "table"
           }
          ]
         },
         "layout": {
          "annotationdefaults": {
           "arrowcolor": "#2a3f5f",
           "arrowhead": 0,
           "arrowwidth": 1
          },
          "autotypenumbers": "strict",
          "coloraxis": {
           "colorbar": {
            "outlinewidth": 0,
            "ticks": ""
           }
          },
          "colorscale": {
           "diverging": [
            [
             0,
             "#8e0152"
            ],
            [
             0.1,
             "#c51b7d"
            ],
            [
             0.2,
             "#de77ae"
            ],
            [
             0.3,
             "#f1b6da"
            ],
            [
             0.4,
             "#fde0ef"
            ],
            [
             0.5,
             "#f7f7f7"
            ],
            [
             0.6,
             "#e6f5d0"
            ],
            [
             0.7,
             "#b8e186"
            ],
            [
             0.8,
             "#7fbc41"
            ],
            [
             0.9,
             "#4d9221"
            ],
            [
             1,
             "#276419"
            ]
           ],
           "sequential": [
            [
             0,
             "#0d0887"
            ],
            [
             0.1111111111111111,
             "#46039f"
            ],
            [
             0.2222222222222222,
             "#7201a8"
            ],
            [
             0.3333333333333333,
             "#9c179e"
            ],
            [
             0.4444444444444444,
             "#bd3786"
            ],
            [
             0.5555555555555556,
             "#d8576b"
            ],
            [
             0.6666666666666666,
             "#ed7953"
            ],
            [
             0.7777777777777778,
             "#fb9f3a"
            ],
            [
             0.8888888888888888,
             "#fdca26"
            ],
            [
             1,
             "#f0f921"
            ]
           ],
           "sequentialminus": [
            [
             0,
             "#0d0887"
            ],
            [
             0.1111111111111111,
             "#46039f"
            ],
            [
             0.2222222222222222,
             "#7201a8"
            ],
            [
             0.3333333333333333,
             "#9c179e"
            ],
            [
             0.4444444444444444,
             "#bd3786"
            ],
            [
             0.5555555555555556,
             "#d8576b"
            ],
            [
             0.6666666666666666,
             "#ed7953"
            ],
            [
             0.7777777777777778,
             "#fb9f3a"
            ],
            [
             0.8888888888888888,
             "#fdca26"
            ],
            [
             1,
             "#f0f921"
            ]
           ]
          },
          "colorway": [
           "#636efa",
           "#EF553B",
           "#00cc96",
           "#ab63fa",
           "#FFA15A",
           "#19d3f3",
           "#FF6692",
           "#B6E880",
           "#FF97FF",
           "#FECB52"
          ],
          "font": {
           "color": "#2a3f5f"
          },
          "geo": {
           "bgcolor": "white",
           "lakecolor": "white",
           "landcolor": "#E5ECF6",
           "showlakes": true,
           "showland": true,
           "subunitcolor": "white"
          },
          "hoverlabel": {
           "align": "left"
          },
          "hovermode": "closest",
          "mapbox": {
           "style": "light"
          },
          "paper_bgcolor": "white",
          "plot_bgcolor": "#E5ECF6",
          "polar": {
           "angularaxis": {
            "gridcolor": "white",
            "linecolor": "white",
            "ticks": ""
           },
           "bgcolor": "#E5ECF6",
           "radialaxis": {
            "gridcolor": "white",
            "linecolor": "white",
            "ticks": ""
           }
          },
          "scene": {
           "xaxis": {
            "backgroundcolor": "#E5ECF6",
            "gridcolor": "white",
            "gridwidth": 2,
            "linecolor": "white",
            "showbackground": true,
            "ticks": "",
            "zerolinecolor": "white"
           },
           "yaxis": {
            "backgroundcolor": "#E5ECF6",
            "gridcolor": "white",
            "gridwidth": 2,
            "linecolor": "white",
            "showbackground": true,
            "ticks": "",
            "zerolinecolor": "white"
           },
           "zaxis": {
            "backgroundcolor": "#E5ECF6",
            "gridcolor": "white",
            "gridwidth": 2,
            "linecolor": "white",
            "showbackground": true,
            "ticks": "",
            "zerolinecolor": "white"
           }
          },
          "shapedefaults": {
           "line": {
            "color": "#2a3f5f"
           }
          },
          "ternary": {
           "aaxis": {
            "gridcolor": "white",
            "linecolor": "white",
            "ticks": ""
           },
           "baxis": {
            "gridcolor": "white",
            "linecolor": "white",
            "ticks": ""
           },
           "bgcolor": "#E5ECF6",
           "caxis": {
            "gridcolor": "white",
            "linecolor": "white",
            "ticks": ""
           }
          },
          "title": {
           "x": 0.05
          },
          "xaxis": {
           "automargin": true,
           "gridcolor": "white",
           "linecolor": "white",
           "ticks": "",
           "title": {
            "standoff": 15
           },
           "zerolinecolor": "white",
           "zerolinewidth": 2
          },
          "yaxis": {
           "automargin": true,
           "gridcolor": "white",
           "linecolor": "white",
           "ticks": "",
           "title": {
            "standoff": 15
           },
           "zerolinecolor": "white",
           "zerolinewidth": 2
          }
         }
        },
        "title": {
         "text": "Evolução no Deadlift (Barbell) (Legs sábado)"
        },
        "updatemenus": [
         {
          "active": 0,
          "buttons": [
           {
            "args": [
             {
              "text": [
               [
                "6 reps",
                "5 reps",
                "3 reps",
                "3 reps",
                "3 reps"
               ],
               [
                "5 reps",
                "3 reps",
                "4 reps",
                "5 reps",
                "5 reps"
               ],
               []
              ],
              "x": [
               [
                "2025-04-05",
                "2025-03-29",
                "2025-03-22",
                "2025-03-15",
                "2025-03-08"
               ],
               [
                "2025-04-05",
                "2025-03-29",
                "2025-03-22",
                "2025-03-15",
                "2025-03-08"
               ],
               []
              ],
              "y": [
               [
                180,
                180,
                200,
                200,
                200
               ],
               [
                180,
                200,
                200,
                200,
                200
               ],
               []
              ]
             },
             {
              "updatemenus[1].buttons": [
               {
                "args": [
                 {
                  "visible": [
                   true,
                   false,
                   false
                  ]
                 }
                ],
                "label": "Top Set (Failure)",
                "method": "update"
               },
               {
                "args": [
                 {
                  "visible": [
                   false,
                   true,
                   false
                  ]
                 }
                ],
                "label": "Work Set 1",
                "method": "update"
               },
               {
                "args": [
                 {
                  "visible": [
                   true,
                   true,
                   false
                  ]
                 }
                ],
                "label": "Todas as séries",
                "method": "update"
               }
              ]
             }
            ],
            "label": "Últimos 30 dias",
            "method": "update"
           },
           {
            "args": [
             {
              "text": [
               [
                "6 reps",
                "5 reps",
                "3 reps",
                "3 reps",
                "3 reps",
                "4 reps",
                "4 reps"
               ],
               [
                "5 reps",
                "3 reps",
                "4 reps",
                "5 reps",
                "5 reps",
                "4 reps",
                "6 reps"
               ],
               []
              ],
              "x": [
               [
                "2025-04-05",
                "2025-03-29",
                "2025-03-22",
                "2025-03-15",
                "2025-03-08",
                "2025-03-01",
                "2025-02-22"
               ],
               [
                "2025-04-05",
                "2025-03-29",
                "2025-03-22",
                "2025-03-15",
                "2025-03-08",
                "2025-03-01",
                "2025-02-22"
               ],
               []
              ],
              "y": [
               [
                180,
                180,
                200,
                200,
                200,
                200,
                200
               ],
               [
                180,
                200,
                200,
                200,
                200,
                200,
                195
               ],
               []
              ]
             },
             {
              "updatemenus[1].buttons": [
               {
                "args": [
                 {
                  "visible": [
                   true,
                   false,
                   false
                  ]
                 }
                ],
                "label": "Top Set (Failure)",
                "method": "update"
               },
               {
                "args": [
                 {
                  "visible": [
                   false,
                   true,
                   false
                  ]
                 }
                ],
                "label": "Work Set 1",
                "method": "update"
               },
               {
                "args": [
                 {
                  "visible": [
                   true,
                   true,
                   false
                  ]
                 }
                ],
                "label": "Todas as séries",
                "method": "update"
               }
              ]
             }
            ],
            "label": "Últimos 60 dias",
            "method": "update"
           },
           {
            "args": [
             {
              "text": [
               [
                "6 reps",
                "5 reps",
                "3 reps",
                "3 reps",
                "3 reps",
                "4 reps",
                "4 reps",
                "3 reps",
                "4 reps",
                "4 reps",
                "4 reps"
               ],
               [
                "5 reps",
                "3 reps",
                "4 reps",
                "5 reps",
                "5 reps",
                "4 reps",
                "6 reps",
                "6 reps",
                "4 reps",
                "6 reps",
                "4 reps"
               ],
               [
                "4 reps",
                "4 reps",
                "6 reps",
                "4 reps"
               ]
              ],
              "x": [
               [
                "2025-04-05",
                "2025-03-29",
                "2025-03-22",
                "2025-03-15",
                "2025-03-08",
                "2025-03-01",
                "2025-02-22",
                "2025-02-01",
                "2025-01-25",
                "2025-01-18",
                "2025-01-11"
               ],
               [
                "2025-04-05",
                "2025-03-29",
                "2025-03-22",
                "2025-03-15",
                "2025-03-08",
                "2025-03-01",
                "2025-02-22",
                "2025-02-01",
                "2025-01-25",
                "2025-01-18",
                "2025-01-11"
               ],
               [
                "2025-02-01",
                "2025-01-25",
                "2025-01-18",
                "2025-01-11"
               ]
              ],
              "y": [
               [
                180,
                180,
                200,
                200,
                200,
                200,
                200,
                195,
                195,
                195,
                190
               ],
               [
                180,
                200,
                200,
                200,
                200,
                200,
                195,
                195,
                195,
                190,
                190
               ],
               [
                195,
                195,
                190,
                190
               ]
              ]
             },
             {
              "updatemenus[1].buttons": [
               {
                "args": [
                 {
                  "visible": [
                   true,
                   false,
                   false
                  ]
                 }
                ],
                "label": "Top Set (Failure)",
                "method": "update"
               },
               {
                "args": [
                 {
                  "visible": [
                   false,
                   true,
                   false
                  ]
                 }
                ],
                "label": "Work Set 1",
                "method": "update"
               },
               {
                "args": [
                 {
                  "visible": [
                   false,
                   false,
                   true
                  ]
                 }
                ],
                "label": "Work Set 2",
                "method": "update"
               },
               {
                "args": [
                 {
                  "visible": [
                   true,
                   true,
                   true
                  ]
                 }
                ],
                "label": "Todas as séries",
                "method": "update"
               }
              ]
             }
            ],
            "label": "Últimos 90 dias",
            "method": "update"
           }
          ],
          "direction": "down",
          "showactive": true,
          "x": 0.05,
          "xanchor": "left",
          "y": 1.15,
          "yanchor": "top"
         },
         {
          "active": 0,
          "buttons": [
           {
            "args": [
             {
              "visible": [
               true,
               false,
               false
              ]
             }
            ],
            "label": "Top Set (Failure)",
            "method": "update"
           },
           {
            "args": [
             {
              "visible": [
               false,
               true,
               false
              ]
             }
            ],
            "label": "Work Set 1",
            "method": "update"
           },
           {
            "args": [
             {
              "visible": [
               true,
               true,
               false
              ]
             }
            ],
            "label": "Todas as séries",
            "method": "update"
           }
          ],
          "direction": "down",
          "showactive": true,
          "x": 0.35,
          "xanchor": "left",
          "y": 1.15,
          "yanchor": "top"
         }
        ],
        "xaxis": {
         "tickformat": "%d/%m/%Y",
         "title": {
          "text": "Data"
         }
        },
        "yaxis": {
         "title": {
          "text": "Peso (kg)"
         }
        }
       }
      }
     },
     "metadata": {},
     "output_type": "display_data"
    }
   ],
   "source": [
    "import plotly.graph_objects as go\n",
    "import pandas as pd\n",
    "from datetime import timedelta\n",
    "\n",
    "# Função auxiliar para criar os botões de séries\n",
    "def create_series_buttons(orders_periodo, all_orders, has_failure):\n",
    "    buttons = []\n",
    "    # Top Set\n",
    "    if has_failure:\n",
    "        buttons.append({\n",
    "            \"label\": \"Top Set (Failure)\",\n",
    "            \"method\": \"update\",\n",
    "            \"args\": [{\"visible\": [True] + [False]*len(all_orders)}]\n",
    "        })\n",
    "\n",
    "    # Work Sets\n",
    "    for o in orders_periodo:\n",
    "        buttons.append({\n",
    "            \"label\": f\"Work Set {int(o)}\",\n",
    "            \"method\": \"update\",\n",
    "            \"args\": [{\"visible\": [False] + [True if o == current else False for current in all_orders]}]\n",
    "        })\n",
    "\n",
    "    # Todas\n",
    "    buttons.append({\n",
    "        \"label\": \"Todas as séries\",\n",
    "        \"method\": \"update\",\n",
    "        \"args\": [{\"visible\": [True] + [True if o in orders_periodo else False for o in all_orders]}]\n",
    "    })\n",
    "\n",
    "    return buttons\n",
    "\n",
    "# Função principal com lógica dos botões\n",
    "def gerar_grafico_interativo_com_series(df, treino_nome, exercicio_nome, output_path='grafico_treino_com_series.html'):\n",
    "    df = df.copy()\n",
    "    df['date'] = pd.to_datetime(df['date']).dt.date\n",
    "\n",
    "    exercicio_df = df[(df['title'] == treino_nome) & (df['exercise_title'] == exercicio_nome)]\n",
    "    if exercicio_df.empty:\n",
    "        print(\"Sem dados.\")\n",
    "        return None\n",
    "\n",
    "    has_failure = not exercicio_df[exercicio_df['set_type'] == 'failure'].empty\n",
    "    max_date = exercicio_df['date'].max()\n",
    "\n",
    "    exercicio_df['normal_order'] = None\n",
    "    for dt in exercicio_df['date'].unique():\n",
    "        subset = exercicio_df[(exercicio_df['date'] == dt) & (exercicio_df['set_type'] == 'normal')].sort_values('set_index')\n",
    "        for i, idx in enumerate(subset.index, 1):\n",
    "            exercicio_df.loc[idx, 'normal_order'] = i\n",
    "\n",
    "    exercicio_df['normal_order'] = exercicio_df['normal_order'].astype('Int64')\n",
    "\n",
    "    all_orders = sorted(exercicio_df[(exercicio_df['normal_order'].notna()) & (exercicio_df['date'] >= (max_date - timedelta(days=90)))]['normal_order'].unique())\n",
    "\n",
    "    # Criação de traces\n",
    "    traces = []\n",
    "\n",
    "    # Top set (visível inicialmente)\n",
    "    if has_failure:\n",
    "        fdata = exercicio_df[(exercicio_df['set_type'] == 'failure') & (exercicio_df['date'] >= max_date - timedelta(days=30))]\n",
    "        traces.append(go.Scatter(\n",
    "            x=fdata['date'], y=fdata['weight_kg'], text=[f\"{r} reps\" for r in fdata['reps']],\n",
    "            mode='lines+markers+text', textposition='top center',\n",
    "            name='Top Set (Failure)', visible=True\n",
    "        ))\n",
    "\n",
    "    # Work sets (invisíveis inicialmente)\n",
    "    for o in all_orders:\n",
    "        wdata = exercicio_df[(exercicio_df['normal_order'] == o) & (exercicio_df['date'] >= max_date - timedelta(days=30))]\n",
    "        traces.append(go.Scatter(\n",
    "            x=wdata['date'], y=wdata['weight_kg'], text=[f\"{r} reps\" for r in wdata['reps']],\n",
    "            mode='lines+markers+text', textposition='top center',\n",
    "            name=f'Work Set {int(o)}', visible=False\n",
    "        ))\n",
    "\n",
    "    # Armazena botões e dados por período\n",
    "    periodos = [30, 60, 90]\n",
    "    period_buttons = []\n",
    "\n",
    "    for dias in periodos:\n",
    "        periodo_inicio = max_date - timedelta(days=dias)\n",
    "        orders = sorted(exercicio_df[(exercicio_df['normal_order'].notna()) & (exercicio_df['date'] >= periodo_inicio)]['normal_order'].unique())\n",
    "\n",
    "        x_list, y_list, text_list = [], [], []\n",
    "\n",
    "        if has_failure:\n",
    "            df_f = exercicio_df[(exercicio_df['set_type'] == 'failure') & (exercicio_df['date'] >= periodo_inicio)]\n",
    "            x_list.append(df_f['date'].tolist())\n",
    "            y_list.append(df_f['weight_kg'].tolist())\n",
    "            text_list.append([f\"{r} reps\" for r in df_f['reps']])\n",
    "        else:\n",
    "            x_list.append([]); y_list.append([]); text_list.append([])\n",
    "\n",
    "        for o in all_orders:\n",
    "            df_w = exercicio_df[(exercicio_df['normal_order'] == o) & (exercicio_df['date'] >= periodo_inicio)]\n",
    "            x_list.append(df_w['date'].tolist())\n",
    "            y_list.append(df_w['weight_kg'].tolist())\n",
    "            text_list.append([f\"{r} reps\" for r in df_w['reps']])\n",
    "\n",
    "        period_buttons.append(dict(\n",
    "            label=f\"Últimos {dias} dias\",\n",
    "            method=\"update\",\n",
    "            args=[\n",
    "                {\"x\": x_list, \"y\": y_list, \"text\": text_list},\n",
    "                {\"updatemenus[1].buttons\": create_series_buttons(orders, all_orders, has_failure)}\n",
    "            ]\n",
    "        ))\n",
    "\n",
    "    layout = go.Layout(\n",
    "    title=f'Evolução no {exercicio_nome} ({treino_nome})',\n",
    "    xaxis=dict(\n",
    "        title='Data',\n",
    "        tickformat='%d/%m/%Y'  # Como no original\n",
    "        # Removido o 'range' para deixar automático como era antes\n",
    "    ),\n",
    "    yaxis=dict(\n",
    "        title='Peso (kg)'  # Sem forçar range até zero\n",
    "    ),\n",
    "    hovermode='closest',\n",
    "    updatemenus=[\n",
    "        dict(\n",
    "            buttons=period_buttons,\n",
    "            direction=\"down\", showactive=True, active=0,\n",
    "            x=0.05, xanchor=\"left\", y=1.15, yanchor=\"top\"\n",
    "        ),\n",
    "        dict(\n",
    "            buttons=create_series_buttons(\n",
    "                sorted(exercicio_df[(exercicio_df['normal_order'].notna()) & (exercicio_df['date'] >= max_date - timedelta(days=30))]['normal_order'].unique()),\n",
    "                all_orders,\n",
    "                has_failure\n",
    "            ),\n",
    "            direction=\"down\", showactive=True, active=0,\n",
    "            x=0.35, xanchor=\"left\", y=1.15, yanchor=\"top\"\n",
    "        )\n",
    "    ]\n",
    ")\n",
    "\n",
    "    fig = go.Figure(data=traces, layout=layout)\n",
    "    fig.write_html(output_path, auto_open=False)\n",
    "    return fig\n",
    "\n",
    "# Exemplo de uso\n",
    "graf = gerar_grafico_interativo_com_series(workout_df_columns_filtered, 'Legs sábado', 'Deadlift (Barbell)')\n",
    "if graf is not None:\n",
    "    graf.show()\n"
   ]
  },
  {
   "cell_type": "code",
   "execution_count": null,
   "id": "dd71b56e",
   "metadata": {},
   "outputs": [],
   "source": []
  }
 ],
 "metadata": {
  "kernelspec": {
   "display_name": "Python 3",
   "language": "python",
   "name": "python3"
  },
  "language_info": {
   "codemirror_mode": {
    "name": "ipython",
    "version": 3
   },
   "file_extension": ".py",
   "mimetype": "text/x-python",
   "name": "python",
   "nbconvert_exporter": "python",
   "pygments_lexer": "ipython3",
   "version": "3.11.9"
  }
 },
 "nbformat": 4,
 "nbformat_minor": 5
}
